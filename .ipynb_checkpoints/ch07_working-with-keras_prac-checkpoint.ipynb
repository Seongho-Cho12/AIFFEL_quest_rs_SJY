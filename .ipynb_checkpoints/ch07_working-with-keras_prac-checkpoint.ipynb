{
 "cells": [
  {
   "cell_type": "markdown",
   "id": "65e9ab67-8d6c-4a54-b26f-9cfd19c1064b",
   "metadata": {},
   "source": [
    "# 1. Sequential  모델\n",
    "기본적으로 하나의 파이썬 리스트, 단순히 층을 쌓을 수만 있다. "
   ]
  },
  {
   "cell_type": "markdown",
   "id": "cbd92e70-178f-48c3-8c77-4504d9dafbee",
   "metadata": {},
   "source": [
    "### Sequential 클래스"
   ]
  },
  {
   "cell_type": "code",
   "execution_count": 3,
   "id": "f20343fa-a1e7-4d32-8a25-ca3b7305141d",
   "metadata": {},
   "outputs": [],
   "source": [
    "from tensorflow import keras\n",
    "from tensorflow.keras import layers\n",
    "model = keras.Sequential([\n",
    "    layers.Dense(64, activation='relu'),\n",
    "    layers.Dense(10, activation = 'softmax')\n",
    "])"
   ]
  },
  {
   "cell_type": "markdown",
   "id": "87e4afaa-ae41-4848-8d92-7e669a11d703",
   "metadata": {},
   "source": [
    "### 점진적으로 Sequential 모델 만들기"
   ]
  },
  {
   "cell_type": "code",
   "execution_count": 5,
   "id": "545854cd-c142-43f4-9b99-5702cb56a7b4",
   "metadata": {},
   "outputs": [],
   "source": [
    "model = keras.Sequential()\n",
    "model.add(layers.Dense(64, activation = 'relu'))\n",
    "model.add(layers.Dense(10, activation = 'softmax'))"
   ]
  },
  {
   "cell_type": "markdown",
   "id": "922dace6-590e-4176-91d7-e2d577f38956",
   "metadata": {},
   "source": [
    "### 가중치를 만들기 위해 모델을 호출"
   ]
  },
  {
   "cell_type": "code",
   "execution_count": 7,
   "id": "0834b074-8062-4e3e-b795-5d5788089b79",
   "metadata": {},
   "outputs": [
    {
     "data": {
      "text/plain": [
       "[<Variable path=sequential_1/dense_2/kernel, shape=(3, 64), dtype=float32, value=[[ 0.02412507  0.07368776  0.04014012  0.13157257 -0.16425884  0.1559102\n",
       "   -0.19673276 -0.23815772  0.27007288 -0.06611988 -0.07609753 -0.24592046\n",
       "    0.24736118  0.15418935  0.2590596   0.04652351  0.07093382 -0.06459796\n",
       "    0.12428552  0.05364308 -0.264238    0.24387872 -0.11737637 -0.03929245\n",
       "    0.01947129  0.1937677  -0.1653892   0.07879689 -0.19002432  0.16709581\n",
       "   -0.23700088  0.17920282  0.19023564 -0.09063257 -0.02029526 -0.09263785\n",
       "   -0.16158102 -0.12956722 -0.04834723 -0.20020074 -0.10100542 -0.10021752\n",
       "    0.21327996 -0.0876583  -0.16570283  0.1584431   0.09000707  0.20687896\n",
       "   -0.25409204  0.23933452 -0.23201877 -0.21430506  0.12865797 -0.10863581\n",
       "    0.00685978 -0.19953287  0.07889214  0.09075221 -0.18439487 -0.02623338\n",
       "   -0.20169069  0.29819375 -0.16551733  0.12098983]\n",
       "  [-0.19086657  0.05532131 -0.11030477  0.15214011  0.10769957  0.07378772\n",
       "   -0.22984567  0.04359728  0.16157266  0.12090686 -0.01962596 -0.2626754\n",
       "   -0.0425514   0.13021755  0.26277685  0.1971679  -0.125177   -0.23803087\n",
       "   -0.11580914 -0.23389798  0.05880612 -0.18395993  0.04631925 -0.12715931\n",
       "    0.03980288  0.20617759  0.0995034   0.2097941  -0.06529602 -0.1726032\n",
       "    0.15526235 -0.04590243 -0.24768288  0.17381954 -0.0155566   0.28201658\n",
       "   -0.16241515  0.0519084  -0.16026959  0.29535997 -0.20928535 -0.1805391\n",
       "    0.20156157  0.15520927  0.22625792 -0.26485264  0.17160168  0.04305547\n",
       "   -0.00196049  0.1464827  -0.18324025 -0.1379056   0.26626778  0.1252569\n",
       "   -0.10951024 -0.06156427  0.2198981   0.24640149  0.04147211  0.08982113\n",
       "   -0.2875452   0.1446597  -0.24893224  0.17557317]\n",
       "  [ 0.27782112 -0.26059014 -0.20959277 -0.08514452 -0.02419999  0.29529446\n",
       "   -0.00843447 -0.11650471 -0.26439837 -0.22435206  0.29549593 -0.26391056\n",
       "   -0.07233274 -0.1915097   0.05902937  0.12522879  0.11337993 -0.05998185\n",
       "    0.14354724  0.25512785  0.17573044  0.16624957 -0.24570727 -0.15934685\n",
       "    0.0026527   0.13990667 -0.13766257  0.15415618  0.18411082  0.25991368\n",
       "    0.14219344  0.22820681  0.1250794   0.16157997 -0.14020675 -0.16690405\n",
       "    0.01367238  0.19642225  0.14778    -0.1003197  -0.00069955 -0.08269246\n",
       "   -0.21061504 -0.15671548  0.12721753 -0.12916139  0.22122097 -0.25831172\n",
       "   -0.16652375  0.16878477 -0.19242737  0.09710449  0.14350608  0.18659443\n",
       "   -0.2103634  -0.28485098 -0.12027621  0.2661615   0.22596878 -0.2385091\n",
       "   -0.03121978 -0.22832383 -0.25177324 -0.2991357 ]]>,\n",
       " <Variable path=sequential_1/dense_2/bias, shape=(64,), dtype=float32, value=[0. 0. 0. 0. 0. 0. 0. 0. 0. 0. 0. 0. 0. 0. 0. 0. 0. 0. 0. 0. 0. 0. 0. 0.\n",
       "  0. 0. 0. 0. 0. 0. 0. 0. 0. 0. 0. 0. 0. 0. 0. 0. 0. 0. 0. 0. 0. 0. 0. 0.\n",
       "  0. 0. 0. 0. 0. 0. 0. 0. 0. 0. 0. 0. 0. 0. 0. 0.]>,\n",
       " <Variable path=sequential_1/dense_3/kernel, shape=(64, 10), dtype=float32, value=[[-0.19707578 -0.07526813 -0.08556399 -0.01249626 -0.27420115  0.16386622\n",
       "   -0.19387367  0.17053014 -0.00339499  0.18494612]\n",
       "  [ 0.25834534  0.11148614 -0.24173512 -0.2710093  -0.22224301  0.23866132\n",
       "    0.00070205 -0.13804862 -0.13896328  0.0227634 ]\n",
       "  [-0.17737336  0.11636445  0.0812785   0.0420627  -0.17710587  0.18829659\n",
       "    0.0446184  -0.0328002   0.26510975  0.28358254]\n",
       "  [ 0.23194495  0.1376645   0.01208934  0.15020531  0.11272734 -0.05910143\n",
       "   -0.08662659  0.18689561 -0.25641695 -0.15129907]\n",
       "  [-0.08901295  0.05809832 -0.24536814  0.23863253 -0.2783164  -0.12654686\n",
       "   -0.06857923  0.17931676 -0.19030562 -0.05972365]\n",
       "  [ 0.15143016 -0.19685766 -0.2561024  -0.0287227  -0.04021911 -0.21775153\n",
       "    0.09715483  0.25740424 -0.03551339 -0.22327778]\n",
       "  [-0.22365965  0.03261501 -0.26148614 -0.19573973 -0.09317762  0.04772159\n",
       "   -0.13490224  0.16775084  0.04202354  0.23300269]\n",
       "  [-0.04798454  0.2547085  -0.07616834  0.16157246 -0.2747679   0.17053482\n",
       "    0.13272083 -0.06026003  0.18337584  0.26005933]\n",
       "  [-0.1391939   0.2235348  -0.24268685  0.08678952 -0.03683804  0.08748335\n",
       "   -0.25819135 -0.239207    0.27002618 -0.19517857]\n",
       "  [ 0.12540144  0.01603749  0.03615019 -0.21028313 -0.10108744  0.13700035\n",
       "   -0.13109902  0.2779527   0.07633272  0.19651875]\n",
       "  [ 0.16645232 -0.23270133  0.20967174  0.14415795 -0.24429542  0.2520884\n",
       "   -0.1695672   0.03787702 -0.15366039  0.00468442]\n",
       "  [ 0.11056453  0.25939205 -0.24471042  0.15811825 -0.0166553   0.16609529\n",
       "   -0.26074237 -0.0792596  -0.04298165  0.1963318 ]\n",
       "  [-0.22485898 -0.2249173   0.09507674  0.20871511 -0.18535875 -0.13820422\n",
       "   -0.04654793  0.19413185  0.1596078  -0.24919836]\n",
       "  [ 0.05925262  0.14970958 -0.16155772  0.21081987  0.20098728  0.13953105\n",
       "   -0.02918267  0.1435718   0.0664615   0.09050041]\n",
       "  [-0.06658125 -0.16789538  0.22844884 -0.24844134 -0.2543794  -0.2840237\n",
       "    0.14629707  0.09411448  0.083188   -0.19150311]\n",
       "  [ 0.00159803 -0.06998928  0.10610798  0.09799489 -0.03820023  0.01534945\n",
       "   -0.15799537  0.18545073 -0.14184803 -0.09661402]\n",
       "  [ 0.08705613 -0.04284614 -0.17690858  0.1047461  -0.14000402 -0.18339227\n",
       "   -0.2298738   0.16048643 -0.16724628  0.28048477]\n",
       "  [-0.15939634  0.10600662  0.26213738  0.2635059  -0.13815263  0.02676201\n",
       "   -0.05882119  0.23863176  0.17239308 -0.03397632]\n",
       "  [-0.24051495  0.17031243 -0.17867005 -0.15831792  0.15400302 -0.25552672\n",
       "   -0.21100126 -0.23577358 -0.19728088 -0.2551605 ]\n",
       "  [ 0.18319473 -0.28026548 -0.07924168 -0.25762597  0.13716838  0.03700742\n",
       "    0.279381    0.04395315 -0.2654014   0.11878502]\n",
       "  [-0.13941441  0.20771185 -0.1228196   0.11339286 -0.22518864 -0.08267233\n",
       "    0.19826019 -0.04121369  0.1604076  -0.2688538 ]\n",
       "  [-0.19001281  0.1553078  -0.04262552 -0.10223557 -0.18584043 -0.2588991\n",
       "   -0.12095708  0.11325654 -0.04482356 -0.17631212]\n",
       "  [-0.23673292 -0.2797767   0.15640813 -0.12173718  0.15493554  0.01604417\n",
       "   -0.21444902 -0.09900866  0.04800701  0.08897474]\n",
       "  [-0.15367234  0.1404599  -0.1418758  -0.21037003 -0.2322891  -0.1735789\n",
       "    0.03289512  0.13771638 -0.26937807  0.10118756]\n",
       "  [ 0.10801727  0.08688587  0.05150431 -0.13439511  0.04234099 -0.02559438\n",
       "    0.21248695  0.2382218  -0.25738394 -0.1565564 ]\n",
       "  [-0.13344832  0.21197113  0.2739338   0.25270918 -0.13357772  0.24875411\n",
       "   -0.08936727 -0.25226927  0.26556364 -0.27364734]\n",
       "  [ 0.22552314 -0.22033608 -0.14869383  0.20104575 -0.10609126  0.09619996\n",
       "   -0.21854857  0.11401135 -0.22192611 -0.13895956]\n",
       "  [-0.27616227  0.03573471  0.10161152 -0.08498137  0.28096345 -0.27231154\n",
       "    0.05528206  0.04506734 -0.08070843  0.18115464]\n",
       "  [-0.10191846  0.20259163  0.00077251  0.2061685  -0.20371473  0.06157741\n",
       "    0.21984336  0.07561111  0.05219182  0.1402941 ]\n",
       "  [ 0.22079578  0.14006546 -0.13577236  0.00529495  0.01882109  0.05140588\n",
       "    0.27102414  0.07795796 -0.03053012 -0.01327625]\n",
       "  [-0.00224686  0.04758644  0.24208745 -0.072832    0.17058602 -0.06381029\n",
       "    0.1883749   0.06563726  0.1599909   0.23082367]\n",
       "  [-0.05248381  0.13911462 -0.25600716 -0.15465409 -0.25295419 -0.20623687\n",
       "    0.00105134 -0.2305193  -0.2164383  -0.00091991]\n",
       "  [ 0.17486629  0.27346     0.02462181 -0.2585276  -0.1854836   0.18987569\n",
       "   -0.24925546  0.06572714 -0.03930812 -0.06608987]\n",
       "  [ 0.2339969  -0.2098265  -0.02054256  0.20167336 -0.2386277  -0.03224322\n",
       "   -0.1190948  -0.13966078 -0.18879971  0.27548322]\n",
       "  [-0.24406853  0.25494835  0.1585803  -0.14455022  0.23460731 -0.04060133\n",
       "   -0.08803263  0.12862656  0.21725652  0.10172355]\n",
       "  [-0.18527946  0.14154077  0.12490985 -0.01242527  0.26236817  0.2323738\n",
       "    0.02475601  0.06875736  0.24492916  0.19863105]\n",
       "  [ 0.07354876 -0.16382997 -0.05294403  0.06026301 -0.16802973  0.21392614\n",
       "   -0.10281731 -0.03135899  0.10262966  0.07611057]\n",
       "  [ 0.04037398  0.21287295 -0.04471187  0.10647246 -0.09439677  0.2677048\n",
       "    0.25658247 -0.11166205  0.187031   -0.140406  ]\n",
       "  [ 0.11688611 -0.18630981 -0.11657009 -0.02521801  0.21922818  0.16921854\n",
       "    0.08085066 -0.17774777 -0.02631047  0.06111905]\n",
       "  [-0.18321428  0.1362116   0.01677513  0.0536173  -0.01144338 -0.14964639\n",
       "    0.08085459 -0.16975206 -0.19514747  0.2690268 ]\n",
       "  [-0.18332091 -0.24409921  0.01901594 -0.06244396 -0.08272038  0.08779359\n",
       "    0.04870382 -0.2520929   0.06154239 -0.15466549]\n",
       "  [-0.23098055 -0.21673211  0.21165767 -0.08347823 -0.25975356  0.07089216\n",
       "    0.1340029  -0.09708232 -0.12874517  0.16620323]\n",
       "  [-0.03462166 -0.03805719  0.02071369 -0.00058648 -0.14003946 -0.08869889\n",
       "   -0.15388632 -0.14767922 -0.13006175  0.1086686 ]\n",
       "  [ 0.01016808 -0.03481595  0.1897777   0.19299999 -0.13766648 -0.18559879\n",
       "   -0.00241137  0.07435381 -0.22250792  0.05948907]\n",
       "  [ 0.08796564  0.26664665 -0.08018446  0.13023019 -0.25193992  0.23874494\n",
       "   -0.12188675 -0.08132643 -0.08691728  0.27257887]\n",
       "  [-0.17689231 -0.00444558 -0.08409128  0.24943015  0.03553972 -0.25744757\n",
       "    0.1993553  -0.1445883  -0.16559461 -0.13224213]\n",
       "  [-0.06791188  0.05480486  0.271692    0.07796821 -0.04985861  0.02989325\n",
       "   -0.26227266 -0.208754    0.23453578 -0.21108286]\n",
       "  [ 0.1886591  -0.19490653 -0.0474675  -0.10301466  0.25311735  0.24097481\n",
       "    0.2758018   0.00065872 -0.23773815 -0.13506068]\n",
       "  [-0.15535028 -0.12833063  0.24984846 -0.26222113  0.08370498  0.00829381\n",
       "   -0.05380358 -0.1874077  -0.12552838  0.09610024]\n",
       "  [-0.21198043 -0.2347234  -0.1559784  -0.21070004 -0.045307    0.1775921\n",
       "   -0.03682819  0.26704767 -0.01465663 -0.17466079]\n",
       "  [-0.21900818 -0.07763754  0.16743127 -0.15916918 -0.00731274 -0.274244\n",
       "    0.12748122  0.10905102  0.24302676  0.18541223]\n",
       "  [-0.17496534 -0.01025993  0.05829003  0.2350603  -0.1480569  -0.2220625\n",
       "    0.1171352   0.04019848 -0.05355619 -0.0377595 ]\n",
       "  [-0.0250563   0.04136136  0.2521011   0.04601705 -0.15032609  0.10556805\n",
       "   -0.16256309  0.21440387  0.02427128  0.22991058]\n",
       "  [ 0.05552953 -0.03676166 -0.23058867 -0.22993056 -0.14744474 -0.02628508\n",
       "   -0.13853063 -0.24723047 -0.27562216  0.00691634]\n",
       "  [-0.1515692  -0.09174135 -0.12454501  0.2595764  -0.20389906 -0.07606027\n",
       "   -0.2502986   0.24869922 -0.07194178 -0.00702366]\n",
       "  [-0.23763442  0.21649912 -0.09968002  0.16908681 -0.01031384  0.10896698\n",
       "    0.17152256  0.07137999 -0.19893602 -0.01064453]\n",
       "  [-0.03469294  0.26672748 -0.15334511 -0.05038971 -0.2557364   0.12503624\n",
       "    0.20505568  0.17093578  0.01135057 -0.23572253]\n",
       "  [-0.06529272 -0.18078953 -0.0202131  -0.19496723 -0.14592083  0.03639248\n",
       "   -0.09038751  0.02872324 -0.04097493 -0.23453745]\n",
       "  [ 0.23533866 -0.2700431   0.08029899 -0.2650422  -0.18531075 -0.06918772\n",
       "   -0.16209444  0.01175505 -0.12813084 -0.1202606 ]\n",
       "  [-0.04261044 -0.05106018  0.0272536   0.14521697  0.04739472 -0.15646774\n",
       "    0.27390537  0.2048637  -0.036981   -0.2538529 ]\n",
       "  [ 0.08643875  0.2545912  -0.04290053  0.21287826 -0.25429976 -0.0805051\n",
       "    0.25496063 -0.08437885  0.06158841  0.08701146]\n",
       "  [-0.25644565 -0.03167418 -0.04766947  0.01762617  0.22112802  0.13121307\n",
       "   -0.1570727  -0.2683426  -0.2621702   0.19349512]\n",
       "  [-0.04966113 -0.09815918 -0.23851731  0.14024964 -0.21043344  0.20103413\n",
       "    0.02614516  0.07085732  0.23307583 -0.02753398]\n",
       "  [-0.02573457  0.22180542  0.20928374  0.1622189  -0.18983278 -0.18671007\n",
       "   -0.07064401  0.13514507 -0.15449671 -0.15828791]]>,\n",
       " <Variable path=sequential_1/dense_3/bias, shape=(10,), dtype=float32, value=[0. 0. 0. 0. 0. 0. 0. 0. 0. 0.]>]"
      ]
     },
     "execution_count": 7,
     "metadata": {},
     "output_type": "execute_result"
    }
   ],
   "source": [
    "model.build(input_shape=(None, 3))  #가중치를 만들어준다. -> 가중치 초기화\n",
    "model.weights"
   ]
  },
  {
   "cell_type": "code",
   "execution_count": 8,
   "id": "ea0368f8-ae78-41b7-a6cb-a80ca760f4b8",
   "metadata": {},
   "outputs": [
    {
     "data": {
      "text/html": [
       "<pre style=\"white-space:pre;overflow-x:auto;line-height:normal;font-family:Menlo,'DejaVu Sans Mono',consolas,'Courier New',monospace\"><span style=\"font-weight: bold\">Model: \"sequential_1\"</span>\n",
       "</pre>\n"
      ],
      "text/plain": [
       "\u001b[1mModel: \"sequential_1\"\u001b[0m\n"
      ]
     },
     "metadata": {},
     "output_type": "display_data"
    },
    {
     "data": {
      "text/html": [
       "<pre style=\"white-space:pre;overflow-x:auto;line-height:normal;font-family:Menlo,'DejaVu Sans Mono',consolas,'Courier New',monospace\">┏━━━━━━━━━━━━━━━━━━━━━━━━━━━━━━━━━━━━━━┳━━━━━━━━━━━━━━━━━━━━━━━━━━━━━┳━━━━━━━━━━━━━━━━━┓\n",
       "┃<span style=\"font-weight: bold\"> Layer (type)                         </span>┃<span style=\"font-weight: bold\"> Output Shape                </span>┃<span style=\"font-weight: bold\">         Param # </span>┃\n",
       "┡━━━━━━━━━━━━━━━━━━━━━━━━━━━━━━━━━━━━━━╇━━━━━━━━━━━━━━━━━━━━━━━━━━━━━╇━━━━━━━━━━━━━━━━━┩\n",
       "│ dense_2 (<span style=\"color: #0087ff; text-decoration-color: #0087ff\">Dense</span>)                      │ (<span style=\"color: #00d7ff; text-decoration-color: #00d7ff\">None</span>, <span style=\"color: #00af00; text-decoration-color: #00af00\">64</span>)                  │             <span style=\"color: #00af00; text-decoration-color: #00af00\">256</span> │\n",
       "├──────────────────────────────────────┼─────────────────────────────┼─────────────────┤\n",
       "│ dense_3 (<span style=\"color: #0087ff; text-decoration-color: #0087ff\">Dense</span>)                      │ (<span style=\"color: #00d7ff; text-decoration-color: #00d7ff\">None</span>, <span style=\"color: #00af00; text-decoration-color: #00af00\">10</span>)                  │             <span style=\"color: #00af00; text-decoration-color: #00af00\">650</span> │\n",
       "└──────────────────────────────────────┴─────────────────────────────┴─────────────────┘\n",
       "</pre>\n"
      ],
      "text/plain": [
       "┏━━━━━━━━━━━━━━━━━━━━━━━━━━━━━━━━━━━━━━┳━━━━━━━━━━━━━━━━━━━━━━━━━━━━━┳━━━━━━━━━━━━━━━━━┓\n",
       "┃\u001b[1m \u001b[0m\u001b[1mLayer (type)                        \u001b[0m\u001b[1m \u001b[0m┃\u001b[1m \u001b[0m\u001b[1mOutput Shape               \u001b[0m\u001b[1m \u001b[0m┃\u001b[1m \u001b[0m\u001b[1m        Param #\u001b[0m\u001b[1m \u001b[0m┃\n",
       "┡━━━━━━━━━━━━━━━━━━━━━━━━━━━━━━━━━━━━━━╇━━━━━━━━━━━━━━━━━━━━━━━━━━━━━╇━━━━━━━━━━━━━━━━━┩\n",
       "│ dense_2 (\u001b[38;5;33mDense\u001b[0m)                      │ (\u001b[38;5;45mNone\u001b[0m, \u001b[38;5;34m64\u001b[0m)                  │             \u001b[38;5;34m256\u001b[0m │\n",
       "├──────────────────────────────────────┼─────────────────────────────┼─────────────────┤\n",
       "│ dense_3 (\u001b[38;5;33mDense\u001b[0m)                      │ (\u001b[38;5;45mNone\u001b[0m, \u001b[38;5;34m10\u001b[0m)                  │             \u001b[38;5;34m650\u001b[0m │\n",
       "└──────────────────────────────────────┴─────────────────────────────┴─────────────────┘\n"
      ]
     },
     "metadata": {},
     "output_type": "display_data"
    },
    {
     "data": {
      "text/html": [
       "<pre style=\"white-space:pre;overflow-x:auto;line-height:normal;font-family:Menlo,'DejaVu Sans Mono',consolas,'Courier New',monospace\"><span style=\"font-weight: bold\"> Total params: </span><span style=\"color: #00af00; text-decoration-color: #00af00\">906</span> (3.54 KB)\n",
       "</pre>\n"
      ],
      "text/plain": [
       "\u001b[1m Total params: \u001b[0m\u001b[38;5;34m906\u001b[0m (3.54 KB)\n"
      ]
     },
     "metadata": {},
     "output_type": "display_data"
    },
    {
     "data": {
      "text/html": [
       "<pre style=\"white-space:pre;overflow-x:auto;line-height:normal;font-family:Menlo,'DejaVu Sans Mono',consolas,'Courier New',monospace\"><span style=\"font-weight: bold\"> Trainable params: </span><span style=\"color: #00af00; text-decoration-color: #00af00\">906</span> (3.54 KB)\n",
       "</pre>\n"
      ],
      "text/plain": [
       "\u001b[1m Trainable params: \u001b[0m\u001b[38;5;34m906\u001b[0m (3.54 KB)\n"
      ]
     },
     "metadata": {},
     "output_type": "display_data"
    },
    {
     "data": {
      "text/html": [
       "<pre style=\"white-space:pre;overflow-x:auto;line-height:normal;font-family:Menlo,'DejaVu Sans Mono',consolas,'Courier New',monospace\"><span style=\"font-weight: bold\"> Non-trainable params: </span><span style=\"color: #00af00; text-decoration-color: #00af00\">0</span> (0.00 B)\n",
       "</pre>\n"
      ],
      "text/plain": [
       "\u001b[1m Non-trainable params: \u001b[0m\u001b[38;5;34m0\u001b[0m (0.00 B)\n"
      ]
     },
     "metadata": {},
     "output_type": "display_data"
    }
   ],
   "source": [
    "model.summary()"
   ]
  },
  {
   "cell_type": "markdown",
   "id": "2a8864d8-1914-493c-bc03-c26fde8dee38",
   "metadata": {},
   "source": [
    "### name 매개변수로 모델과 층에 이름 정하기"
   ]
  },
  {
   "cell_type": "code",
   "execution_count": 10,
   "id": "6d4c64f4-bac9-4eac-9103-eca1e3f4ec2f",
   "metadata": {},
   "outputs": [],
   "source": [
    "model = keras.Sequential(name = 'my_example_model')\n",
    "model.add(layers.Dense(64, activation = 'relu', name = 'my_first_layer'))\n",
    "model.add(layers.Dense(10, activation = 'softmax', name = 'my_last_layer'))"
   ]
  },
  {
   "cell_type": "markdown",
   "id": "01e93378-9081-4aff-9e9f-339ff36bc83a",
   "metadata": {},
   "source": [
    "### 모델 입력 크기를 미리 지정하기"
   ]
  },
  {
   "cell_type": "code",
   "execution_count": 12,
   "id": "d3435ff4-b286-4825-a5f4-442b0ff42ae7",
   "metadata": {},
   "outputs": [],
   "source": [
    "model = keras.Sequential()\n",
    "model.add(keras.Input(shape = (3,)))\n",
    "model.add(layers.Dense(64, activation = 'relu'))"
   ]
  },
  {
   "cell_type": "code",
   "execution_count": 13,
   "id": "a0ac916f-3096-4820-8e52-befcf3f2e350",
   "metadata": {},
   "outputs": [
    {
     "data": {
      "text/html": [
       "<pre style=\"white-space:pre;overflow-x:auto;line-height:normal;font-family:Menlo,'DejaVu Sans Mono',consolas,'Courier New',monospace\"><span style=\"font-weight: bold\">Model: \"sequential_2\"</span>\n",
       "</pre>\n"
      ],
      "text/plain": [
       "\u001b[1mModel: \"sequential_2\"\u001b[0m\n"
      ]
     },
     "metadata": {},
     "output_type": "display_data"
    },
    {
     "data": {
      "text/html": [
       "<pre style=\"white-space:pre;overflow-x:auto;line-height:normal;font-family:Menlo,'DejaVu Sans Mono',consolas,'Courier New',monospace\">┏━━━━━━━━━━━━━━━━━━━━━━━━━━━━━━━━━━━━━━┳━━━━━━━━━━━━━━━━━━━━━━━━━━━━━┳━━━━━━━━━━━━━━━━━┓\n",
       "┃<span style=\"font-weight: bold\"> Layer (type)                         </span>┃<span style=\"font-weight: bold\"> Output Shape                </span>┃<span style=\"font-weight: bold\">         Param # </span>┃\n",
       "┡━━━━━━━━━━━━━━━━━━━━━━━━━━━━━━━━━━━━━━╇━━━━━━━━━━━━━━━━━━━━━━━━━━━━━╇━━━━━━━━━━━━━━━━━┩\n",
       "│ dense_4 (<span style=\"color: #0087ff; text-decoration-color: #0087ff\">Dense</span>)                      │ (<span style=\"color: #00d7ff; text-decoration-color: #00d7ff\">None</span>, <span style=\"color: #00af00; text-decoration-color: #00af00\">64</span>)                  │             <span style=\"color: #00af00; text-decoration-color: #00af00\">256</span> │\n",
       "└──────────────────────────────────────┴─────────────────────────────┴─────────────────┘\n",
       "</pre>\n"
      ],
      "text/plain": [
       "┏━━━━━━━━━━━━━━━━━━━━━━━━━━━━━━━━━━━━━━┳━━━━━━━━━━━━━━━━━━━━━━━━━━━━━┳━━━━━━━━━━━━━━━━━┓\n",
       "┃\u001b[1m \u001b[0m\u001b[1mLayer (type)                        \u001b[0m\u001b[1m \u001b[0m┃\u001b[1m \u001b[0m\u001b[1mOutput Shape               \u001b[0m\u001b[1m \u001b[0m┃\u001b[1m \u001b[0m\u001b[1m        Param #\u001b[0m\u001b[1m \u001b[0m┃\n",
       "┡━━━━━━━━━━━━━━━━━━━━━━━━━━━━━━━━━━━━━━╇━━━━━━━━━━━━━━━━━━━━━━━━━━━━━╇━━━━━━━━━━━━━━━━━┩\n",
       "│ dense_4 (\u001b[38;5;33mDense\u001b[0m)                      │ (\u001b[38;5;45mNone\u001b[0m, \u001b[38;5;34m64\u001b[0m)                  │             \u001b[38;5;34m256\u001b[0m │\n",
       "└──────────────────────────────────────┴─────────────────────────────┴─────────────────┘\n"
      ]
     },
     "metadata": {},
     "output_type": "display_data"
    },
    {
     "data": {
      "text/html": [
       "<pre style=\"white-space:pre;overflow-x:auto;line-height:normal;font-family:Menlo,'DejaVu Sans Mono',consolas,'Courier New',monospace\"><span style=\"font-weight: bold\"> Total params: </span><span style=\"color: #00af00; text-decoration-color: #00af00\">256</span> (1.00 KB)\n",
       "</pre>\n"
      ],
      "text/plain": [
       "\u001b[1m Total params: \u001b[0m\u001b[38;5;34m256\u001b[0m (1.00 KB)\n"
      ]
     },
     "metadata": {},
     "output_type": "display_data"
    },
    {
     "data": {
      "text/html": [
       "<pre style=\"white-space:pre;overflow-x:auto;line-height:normal;font-family:Menlo,'DejaVu Sans Mono',consolas,'Courier New',monospace\"><span style=\"font-weight: bold\"> Trainable params: </span><span style=\"color: #00af00; text-decoration-color: #00af00\">256</span> (1.00 KB)\n",
       "</pre>\n"
      ],
      "text/plain": [
       "\u001b[1m Trainable params: \u001b[0m\u001b[38;5;34m256\u001b[0m (1.00 KB)\n"
      ]
     },
     "metadata": {},
     "output_type": "display_data"
    },
    {
     "data": {
      "text/html": [
       "<pre style=\"white-space:pre;overflow-x:auto;line-height:normal;font-family:Menlo,'DejaVu Sans Mono',consolas,'Courier New',monospace\"><span style=\"font-weight: bold\"> Non-trainable params: </span><span style=\"color: #00af00; text-decoration-color: #00af00\">0</span> (0.00 B)\n",
       "</pre>\n"
      ],
      "text/plain": [
       "\u001b[1m Non-trainable params: \u001b[0m\u001b[38;5;34m0\u001b[0m (0.00 B)\n"
      ]
     },
     "metadata": {},
     "output_type": "display_data"
    }
   ],
   "source": [
    "model.summary()"
   ]
  },
  {
   "cell_type": "code",
   "execution_count": 14,
   "id": "906418f3-db40-4a0b-9e3a-a9abf7605be7",
   "metadata": {},
   "outputs": [
    {
     "data": {
      "text/html": [
       "<pre style=\"white-space:pre;overflow-x:auto;line-height:normal;font-family:Menlo,'DejaVu Sans Mono',consolas,'Courier New',monospace\"><span style=\"font-weight: bold\">Model: \"sequential_2\"</span>\n",
       "</pre>\n"
      ],
      "text/plain": [
       "\u001b[1mModel: \"sequential_2\"\u001b[0m\n"
      ]
     },
     "metadata": {},
     "output_type": "display_data"
    },
    {
     "data": {
      "text/html": [
       "<pre style=\"white-space:pre;overflow-x:auto;line-height:normal;font-family:Menlo,'DejaVu Sans Mono',consolas,'Courier New',monospace\">┏━━━━━━━━━━━━━━━━━━━━━━━━━━━━━━━━━━━━━━┳━━━━━━━━━━━━━━━━━━━━━━━━━━━━━┳━━━━━━━━━━━━━━━━━┓\n",
       "┃<span style=\"font-weight: bold\"> Layer (type)                         </span>┃<span style=\"font-weight: bold\"> Output Shape                </span>┃<span style=\"font-weight: bold\">         Param # </span>┃\n",
       "┡━━━━━━━━━━━━━━━━━━━━━━━━━━━━━━━━━━━━━━╇━━━━━━━━━━━━━━━━━━━━━━━━━━━━━╇━━━━━━━━━━━━━━━━━┩\n",
       "│ dense_4 (<span style=\"color: #0087ff; text-decoration-color: #0087ff\">Dense</span>)                      │ (<span style=\"color: #00d7ff; text-decoration-color: #00d7ff\">None</span>, <span style=\"color: #00af00; text-decoration-color: #00af00\">64</span>)                  │             <span style=\"color: #00af00; text-decoration-color: #00af00\">256</span> │\n",
       "├──────────────────────────────────────┼─────────────────────────────┼─────────────────┤\n",
       "│ dense_5 (<span style=\"color: #0087ff; text-decoration-color: #0087ff\">Dense</span>)                      │ (<span style=\"color: #00d7ff; text-decoration-color: #00d7ff\">None</span>, <span style=\"color: #00af00; text-decoration-color: #00af00\">10</span>)                  │             <span style=\"color: #00af00; text-decoration-color: #00af00\">650</span> │\n",
       "└──────────────────────────────────────┴─────────────────────────────┴─────────────────┘\n",
       "</pre>\n"
      ],
      "text/plain": [
       "┏━━━━━━━━━━━━━━━━━━━━━━━━━━━━━━━━━━━━━━┳━━━━━━━━━━━━━━━━━━━━━━━━━━━━━┳━━━━━━━━━━━━━━━━━┓\n",
       "┃\u001b[1m \u001b[0m\u001b[1mLayer (type)                        \u001b[0m\u001b[1m \u001b[0m┃\u001b[1m \u001b[0m\u001b[1mOutput Shape               \u001b[0m\u001b[1m \u001b[0m┃\u001b[1m \u001b[0m\u001b[1m        Param #\u001b[0m\u001b[1m \u001b[0m┃\n",
       "┡━━━━━━━━━━━━━━━━━━━━━━━━━━━━━━━━━━━━━━╇━━━━━━━━━━━━━━━━━━━━━━━━━━━━━╇━━━━━━━━━━━━━━━━━┩\n",
       "│ dense_4 (\u001b[38;5;33mDense\u001b[0m)                      │ (\u001b[38;5;45mNone\u001b[0m, \u001b[38;5;34m64\u001b[0m)                  │             \u001b[38;5;34m256\u001b[0m │\n",
       "├──────────────────────────────────────┼─────────────────────────────┼─────────────────┤\n",
       "│ dense_5 (\u001b[38;5;33mDense\u001b[0m)                      │ (\u001b[38;5;45mNone\u001b[0m, \u001b[38;5;34m10\u001b[0m)                  │             \u001b[38;5;34m650\u001b[0m │\n",
       "└──────────────────────────────────────┴─────────────────────────────┴─────────────────┘\n"
      ]
     },
     "metadata": {},
     "output_type": "display_data"
    },
    {
     "data": {
      "text/html": [
       "<pre style=\"white-space:pre;overflow-x:auto;line-height:normal;font-family:Menlo,'DejaVu Sans Mono',consolas,'Courier New',monospace\"><span style=\"font-weight: bold\"> Total params: </span><span style=\"color: #00af00; text-decoration-color: #00af00\">906</span> (3.54 KB)\n",
       "</pre>\n"
      ],
      "text/plain": [
       "\u001b[1m Total params: \u001b[0m\u001b[38;5;34m906\u001b[0m (3.54 KB)\n"
      ]
     },
     "metadata": {},
     "output_type": "display_data"
    },
    {
     "data": {
      "text/html": [
       "<pre style=\"white-space:pre;overflow-x:auto;line-height:normal;font-family:Menlo,'DejaVu Sans Mono',consolas,'Courier New',monospace\"><span style=\"font-weight: bold\"> Trainable params: </span><span style=\"color: #00af00; text-decoration-color: #00af00\">906</span> (3.54 KB)\n",
       "</pre>\n"
      ],
      "text/plain": [
       "\u001b[1m Trainable params: \u001b[0m\u001b[38;5;34m906\u001b[0m (3.54 KB)\n"
      ]
     },
     "metadata": {},
     "output_type": "display_data"
    },
    {
     "data": {
      "text/html": [
       "<pre style=\"white-space:pre;overflow-x:auto;line-height:normal;font-family:Menlo,'DejaVu Sans Mono',consolas,'Courier New',monospace\"><span style=\"font-weight: bold\"> Non-trainable params: </span><span style=\"color: #00af00; text-decoration-color: #00af00\">0</span> (0.00 B)\n",
       "</pre>\n"
      ],
      "text/plain": [
       "\u001b[1m Non-trainable params: \u001b[0m\u001b[38;5;34m0\u001b[0m (0.00 B)\n"
      ]
     },
     "metadata": {},
     "output_type": "display_data"
    }
   ],
   "source": [
    "model.add(layers.Dense(10, activation = 'softmax'))\n",
    "model.summary()"
   ]
  },
  {
   "cell_type": "markdown",
   "id": "a465d7e5-1c22-4525-b998-58ce1521c578",
   "metadata": {},
   "source": [
    "# 2. 함수형 api\n",
    "그래프 같은 모델 구조를 주로 다룬다. "
   ]
  },
  {
   "cell_type": "markdown",
   "id": "5db04639-a44f-4551-b9bd-8cceef302f9c",
   "metadata": {},
   "source": [
    "### 두 개의 Dense 층을 가진 간단한 함수형 모델"
   ]
  },
  {
   "cell_type": "code",
   "execution_count": 17,
   "id": "a25b3536-0a26-4c4f-b456-ecc5583b15e1",
   "metadata": {},
   "outputs": [],
   "source": [
    "inputs = keras.Input(shape=(3,), name = 'my_input')\n",
    "features = layers.Dense(64, activation = 'relu')(inputs)\n",
    "outputs = layers.Dense(10, activation = 'softmax')(features)\n",
    "model = keras.Model(inputs = inputs, outputs = outputs)"
   ]
  },
  {
   "cell_type": "code",
   "execution_count": 18,
   "id": "5975a158-cc05-4789-8122-0dbc008d418f",
   "metadata": {},
   "outputs": [],
   "source": [
    "inputs = keras.Input(shape = (3,), name = 'my_input')"
   ]
  },
  {
   "cell_type": "code",
   "execution_count": 19,
   "id": "c6f02a29-c2ac-471c-aa08-e93b796741d5",
   "metadata": {},
   "outputs": [
    {
     "data": {
      "text/plain": [
       "(None, 3)"
      ]
     },
     "execution_count": 19,
     "metadata": {},
     "output_type": "execute_result"
    }
   ],
   "source": [
    "inputs.shape"
   ]
  },
  {
   "cell_type": "code",
   "execution_count": 20,
   "id": "74025ce9-7e12-4d47-a63b-3ed76d521eb5",
   "metadata": {},
   "outputs": [
    {
     "data": {
      "text/plain": [
       "'float32'"
      ]
     },
     "execution_count": 20,
     "metadata": {},
     "output_type": "execute_result"
    }
   ],
   "source": [
    "inputs.dtype"
   ]
  },
  {
   "cell_type": "code",
   "execution_count": 21,
   "id": "b75bbde5-d4e2-42b2-9dd5-c9f1ef0250d3",
   "metadata": {},
   "outputs": [],
   "source": [
    "features = layers.Dense(64, activation = 'relu')(inputs)"
   ]
  },
  {
   "cell_type": "code",
   "execution_count": 22,
   "id": "dea87674-8ceb-4e81-966c-e2d7a8ff08f4",
   "metadata": {},
   "outputs": [],
   "source": [
    "outputs = layers.Dense(10, activation = 'softmax')(features)\n",
    "model = keras.Model(inputs = inputs, outputs=outputs)"
   ]
  },
  {
   "cell_type": "code",
   "execution_count": 23,
   "id": "123863fd-a50f-45f7-be06-0e5b968ed650",
   "metadata": {},
   "outputs": [
    {
     "data": {
      "text/html": [
       "<pre style=\"white-space:pre;overflow-x:auto;line-height:normal;font-family:Menlo,'DejaVu Sans Mono',consolas,'Courier New',monospace\"><span style=\"font-weight: bold\">Model: \"functional_4\"</span>\n",
       "</pre>\n"
      ],
      "text/plain": [
       "\u001b[1mModel: \"functional_4\"\u001b[0m\n"
      ]
     },
     "metadata": {},
     "output_type": "display_data"
    },
    {
     "data": {
      "text/html": [
       "<pre style=\"white-space:pre;overflow-x:auto;line-height:normal;font-family:Menlo,'DejaVu Sans Mono',consolas,'Courier New',monospace\">┏━━━━━━━━━━━━━━━━━━━━━━━━━━━━━━━━━━━━━━┳━━━━━━━━━━━━━━━━━━━━━━━━━━━━━┳━━━━━━━━━━━━━━━━━┓\n",
       "┃<span style=\"font-weight: bold\"> Layer (type)                         </span>┃<span style=\"font-weight: bold\"> Output Shape                </span>┃<span style=\"font-weight: bold\">         Param # </span>┃\n",
       "┡━━━━━━━━━━━━━━━━━━━━━━━━━━━━━━━━━━━━━━╇━━━━━━━━━━━━━━━━━━━━━━━━━━━━━╇━━━━━━━━━━━━━━━━━┩\n",
       "│ my_input (<span style=\"color: #0087ff; text-decoration-color: #0087ff\">InputLayer</span>)                │ (<span style=\"color: #00d7ff; text-decoration-color: #00d7ff\">None</span>, <span style=\"color: #00af00; text-decoration-color: #00af00\">3</span>)                   │               <span style=\"color: #00af00; text-decoration-color: #00af00\">0</span> │\n",
       "├──────────────────────────────────────┼─────────────────────────────┼─────────────────┤\n",
       "│ dense_8 (<span style=\"color: #0087ff; text-decoration-color: #0087ff\">Dense</span>)                      │ (<span style=\"color: #00d7ff; text-decoration-color: #00d7ff\">None</span>, <span style=\"color: #00af00; text-decoration-color: #00af00\">64</span>)                  │             <span style=\"color: #00af00; text-decoration-color: #00af00\">256</span> │\n",
       "├──────────────────────────────────────┼─────────────────────────────┼─────────────────┤\n",
       "│ dense_9 (<span style=\"color: #0087ff; text-decoration-color: #0087ff\">Dense</span>)                      │ (<span style=\"color: #00d7ff; text-decoration-color: #00d7ff\">None</span>, <span style=\"color: #00af00; text-decoration-color: #00af00\">10</span>)                  │             <span style=\"color: #00af00; text-decoration-color: #00af00\">650</span> │\n",
       "└──────────────────────────────────────┴─────────────────────────────┴─────────────────┘\n",
       "</pre>\n"
      ],
      "text/plain": [
       "┏━━━━━━━━━━━━━━━━━━━━━━━━━━━━━━━━━━━━━━┳━━━━━━━━━━━━━━━━━━━━━━━━━━━━━┳━━━━━━━━━━━━━━━━━┓\n",
       "┃\u001b[1m \u001b[0m\u001b[1mLayer (type)                        \u001b[0m\u001b[1m \u001b[0m┃\u001b[1m \u001b[0m\u001b[1mOutput Shape               \u001b[0m\u001b[1m \u001b[0m┃\u001b[1m \u001b[0m\u001b[1m        Param #\u001b[0m\u001b[1m \u001b[0m┃\n",
       "┡━━━━━━━━━━━━━━━━━━━━━━━━━━━━━━━━━━━━━━╇━━━━━━━━━━━━━━━━━━━━━━━━━━━━━╇━━━━━━━━━━━━━━━━━┩\n",
       "│ my_input (\u001b[38;5;33mInputLayer\u001b[0m)                │ (\u001b[38;5;45mNone\u001b[0m, \u001b[38;5;34m3\u001b[0m)                   │               \u001b[38;5;34m0\u001b[0m │\n",
       "├──────────────────────────────────────┼─────────────────────────────┼─────────────────┤\n",
       "│ dense_8 (\u001b[38;5;33mDense\u001b[0m)                      │ (\u001b[38;5;45mNone\u001b[0m, \u001b[38;5;34m64\u001b[0m)                  │             \u001b[38;5;34m256\u001b[0m │\n",
       "├──────────────────────────────────────┼─────────────────────────────┼─────────────────┤\n",
       "│ dense_9 (\u001b[38;5;33mDense\u001b[0m)                      │ (\u001b[38;5;45mNone\u001b[0m, \u001b[38;5;34m10\u001b[0m)                  │             \u001b[38;5;34m650\u001b[0m │\n",
       "└──────────────────────────────────────┴─────────────────────────────┴─────────────────┘\n"
      ]
     },
     "metadata": {},
     "output_type": "display_data"
    },
    {
     "data": {
      "text/html": [
       "<pre style=\"white-space:pre;overflow-x:auto;line-height:normal;font-family:Menlo,'DejaVu Sans Mono',consolas,'Courier New',monospace\"><span style=\"font-weight: bold\"> Total params: </span><span style=\"color: #00af00; text-decoration-color: #00af00\">906</span> (3.54 KB)\n",
       "</pre>\n"
      ],
      "text/plain": [
       "\u001b[1m Total params: \u001b[0m\u001b[38;5;34m906\u001b[0m (3.54 KB)\n"
      ]
     },
     "metadata": {},
     "output_type": "display_data"
    },
    {
     "data": {
      "text/html": [
       "<pre style=\"white-space:pre;overflow-x:auto;line-height:normal;font-family:Menlo,'DejaVu Sans Mono',consolas,'Courier New',monospace\"><span style=\"font-weight: bold\"> Trainable params: </span><span style=\"color: #00af00; text-decoration-color: #00af00\">906</span> (3.54 KB)\n",
       "</pre>\n"
      ],
      "text/plain": [
       "\u001b[1m Trainable params: \u001b[0m\u001b[38;5;34m906\u001b[0m (3.54 KB)\n"
      ]
     },
     "metadata": {},
     "output_type": "display_data"
    },
    {
     "data": {
      "text/html": [
       "<pre style=\"white-space:pre;overflow-x:auto;line-height:normal;font-family:Menlo,'DejaVu Sans Mono',consolas,'Courier New',monospace\"><span style=\"font-weight: bold\"> Non-trainable params: </span><span style=\"color: #00af00; text-decoration-color: #00af00\">0</span> (0.00 B)\n",
       "</pre>\n"
      ],
      "text/plain": [
       "\u001b[1m Non-trainable params: \u001b[0m\u001b[38;5;34m0\u001b[0m (0.00 B)\n"
      ]
     },
     "metadata": {},
     "output_type": "display_data"
    }
   ],
   "source": [
    "model.summary()"
   ]
  },
  {
   "cell_type": "markdown",
   "id": "6b31667b-972d-4790-a3d6-7642d382524d",
   "metadata": {},
   "source": [
    "### 다중 입력, 다중 출력 함수형 모델\n",
    "입력과 출력 리스트로 fit() 메소드를 호출하여 모델학습\n",
    "데이터 리스트는 Model 클래스에 전달한 순서와 같아야 함"
   ]
  },
  {
   "cell_type": "code",
   "execution_count": 25,
   "id": "4475321f-3d9d-412a-91db-ca85ee1f55c4",
   "metadata": {},
   "outputs": [],
   "source": [
    "vocabulary_size = 10000\n",
    "num_tags = 100\n",
    "num_departments = 4\n",
    "\n",
    "#모델 입력 정의 \n",
    "title = keras.Input(shape = (vocabulary_size,), name = 'title')\n",
    "text_body = keras.Input(shape = (vocabulary_size,), name = 'text_body')\n",
    "tags = keras.Input(shape=(num_tags,), name = 'tags')\n",
    "\n",
    "features = layers.concatenate([title, text_body, tags]) #입력 특성을 하나의 텐서로 연결\n",
    "features = layers.Dense(64, activation = 'relu')(features) #중간 층 만들기\n",
    "\n",
    "#모델 출력 정의 \n",
    "priority = layers.Dense(1, activation = 'sigmoid', name = 'priority')(features)\n",
    "department = layers.Dense(\n",
    "    num_departments, activation = 'softmax', name = 'department')(features)\n",
    "\n",
    "#모델 만들기\n",
    "model = keras.Model(inputs = [title, text_body, tags], outputs = [priority, department])\n"
   ]
  },
  {
   "cell_type": "code",
   "execution_count": 26,
   "id": "0181db8d-1bd3-49e6-a9cf-1bf862f89829",
   "metadata": {},
   "outputs": [
    {
     "name": "stdout",
     "output_type": "stream",
     "text": [
      "\u001b[1m40/40\u001b[0m \u001b[32m━━━━━━━━━━━━━━━━━━━━\u001b[0m\u001b[37m\u001b[0m \u001b[1m1s\u001b[0m 9ms/step - department_accuracy: 0.2650 - department_loss: 43.3795 - loss: 43.6940 - priority_loss: 0.3146 - priority_mean_absolute_error: 0.4830\n",
      "\u001b[1m40/40\u001b[0m \u001b[32m━━━━━━━━━━━━━━━━━━━━\u001b[0m\u001b[37m\u001b[0m \u001b[1m0s\u001b[0m 4ms/step - department_accuracy: 0.0974 - department_loss: 20.0475 - loss: 20.3695 - priority_loss: 0.3220 - priority_mean_absolute_error: 0.4893   \n",
      "\u001b[1m40/40\u001b[0m \u001b[32m━━━━━━━━━━━━━━━━━━━━\u001b[0m\u001b[37m\u001b[0m \u001b[1m0s\u001b[0m 4ms/step \n"
     ]
    }
   ],
   "source": [
    "#모델 훈련하기 ( 입력과, 타깃 배열 리스트를 전달)\n",
    "import numpy as np\n",
    "num_samples = 1280\n",
    "\n",
    "#더미 입력 데이터\n",
    "title_data = np.random.randint(0, 2, size = (num_samples, vocabulary_size))\n",
    "text_body_data = np.random.randint(0,2, size = (num_samples, vocabulary_size))\n",
    "tags_data = np.random.randint(0, 2, size = (num_samples, num_tags))\n",
    "\n",
    "#더미 타깃 데이터\n",
    "priority_data = np.random.random(size = (num_samples, 1))\n",
    "department_data = np.random.randint(0, 2, size = (num_samples, num_departments))\n",
    "\n",
    "#모델 훈련하기\n",
    "model.compile(optimizer = 'rmsprop',\n",
    "              loss = ['mean_squared_error', 'categorical_crossentropy'],\n",
    "              metrics = [['mean_absolute_error'],['accuracy']])\n",
    "model.fit([title_data, text_body_data, tags_data],\n",
    "          [priority_data, department_data],\n",
    "          epochs = 1)\n",
    "model.evaluate([title_data, text_body_data,tags_data],\n",
    "               [priority_data, department_data])\n",
    "\n",
    "priority_preds, department_preds = model.predict([title_data, text_body_data, tags_data])"
   ]
  },
  {
   "cell_type": "code",
   "execution_count": 27,
   "id": "903b68b9-4434-4c28-b004-ab0668876b46",
   "metadata": {},
   "outputs": [],
   "source": [
    "#입력과 타깃 배열을 딕셔너리로 전달할 수도 있음\n",
    "# model.compile(optimizer=\"rmsprop\",\n",
    "#               loss={\"priority\": \"mean_squared_error\", \"department\": \"categorical_crossentropy\"},\n",
    "#               metrics={\"priority\": [\"mean_absolute_error\"], \"department\": [\"accuracy\"]})\n",
    "# model.fit({\"title\": title_data, \"text_body\": text_body_data, \"tags\": tags_data},\n",
    "#           {\"priority\": priority_data, \"department\": department_data},\n",
    "#           epochs=1)\n",
    "# model.evaluate({\"title\": title_data, \"text_body\": text_body_data, \"tags\": tags_data},\n",
    "#                {\"priority\": priority_data, \"department\": department_data})\n",
    "# priority_preds, department_preds = model.predict(\n",
    "#     {\"title\": title_data, \"text_body\": text_body_data, \"tags\": tags_data})"
   ]
  },
  {
   "cell_type": "markdown",
   "id": "56e6e886-9085-4684-8fc4-bebd2128ecb3",
   "metadata": {},
   "source": [
    "### 함수형 API의 장점 : 층 연결 구조 활용하기\n",
    "중간 층의 출력을 재사용해 새로운 모델 만들기\n",
    "이를 통해 특성 추출을 하여 모델에서 중간 특성을 재사용하는 모델을 만들 수 있다. "
   ]
  },
  {
   "cell_type": "code",
   "execution_count": 57,
   "id": "05056521-5e36-4d54-8663-1dcd32e6b51f",
   "metadata": {},
   "outputs": [
    {
     "name": "stdout",
     "output_type": "stream",
     "text": [
      "You must install graphviz (see instructions at https://graphviz.gitlab.io/download/) for `plot_model` to work.\n"
     ]
    }
   ],
   "source": [
    "keras.utils.plot_model(model, \"ticket_classifier.png\")"
   ]
  },
  {
   "cell_type": "code",
   "execution_count": 60,
   "id": "e4a69b24-584b-4421-b036-3d54cc855205",
   "metadata": {},
   "outputs": [],
   "source": [
    "features = model.layers[4].output #concatenate 된 layer의 output을 사용하여 \n",
    "difficulty = layers.Dense(3, activation = 'softmax', name = 'difficulty')(features) #새로운 레이어 생성\n",
    "new_model = keras.Model(\n",
    "    inputs = [title, text_body, tags],\n",
    "    outputs = [priority, department, difficulty]\n",
    ")"
   ]
  },
  {
   "cell_type": "markdown",
   "id": "06e3877d-c4ac-48e7-8082-e4a109882038",
   "metadata": {},
   "source": [
    "# 3. 모델 서브클래싱\n",
    "모델 클래스를 상속하여 layer를 만드는 방법\n",
    "- __init__() 메서드로 모델이 사용할 층 정의\n",
    "- call() 메시드에서 앞서 만든 층을 사용하여 모델의 정방향 패스 정의\n",
    "- 서브클래스의 객체를 만들고 데이터와 함께 호출하여 가중치 만들기"
   ]
  },
  {
   "cell_type": "markdown",
   "id": "63d642aa-2315-4746-ac2a-601149e87233",
   "metadata": {},
   "source": [
    "### 간단한 서브클래싱 모델"
   ]
  },
  {
   "cell_type": "code",
   "execution_count": 73,
   "id": "28a61be5-82ca-4926-a33e-4b1dbe7059bf",
   "metadata": {},
   "outputs": [],
   "source": [
    "class CustomerTicketModel(keras.Model):\n",
    "    def __init__(self, num_departments):\n",
    "        super().__init__() # 부모 클래스 호출\n",
    "\n",
    "        #layer 정의 \n",
    "        self.concat_layer = layers.Concatenate()\n",
    "        self.mixing_layer = layers.Dense(64, activation = 'relu')\n",
    "        self.priority_scorer = layers.Dense(1, activation = 'sigmoid')\n",
    "        self.department_classifier = layers.Dense(\n",
    "            num_departments, activation = 'softmax'\n",
    "        )\n",
    "    #모델 정방향 패스 정의\n",
    "    def call(self, inputs):\n",
    "        title = inputs['title']\n",
    "        text_body = inputs['text_body']\n",
    "        tags = inputs['tags']\n",
    "\n",
    "        features = self.concat_layer([title, text_body, tags])\n",
    "        features = self.mixing_layer(features)\n",
    "        priority = self.priority_scorer(features)\n",
    "        department = self.department_classifier(features)\n",
    "        return priority, department\n",
    "        "
   ]
  },
  {
   "cell_type": "code",
   "execution_count": 75,
   "id": "769a0b46-a3e9-4d05-b933-bf3cda8170cc",
   "metadata": {},
   "outputs": [
    {
     "name": "stdout",
     "output_type": "stream",
     "text": [
      "\u001b[1m40/40\u001b[0m \u001b[32m━━━━━━━━━━━━━━━━━━━━\u001b[0m\u001b[37m\u001b[0m \u001b[1m2s\u001b[0m 11ms/step - accuracy: 0.2050 - categorical_crossentropy_loss: 42.5065 - loss: 42.8361 - mean_absolute_error: 0.4930 - mean_squared_error_loss: 0.3296\n",
      "\u001b[1m40/40\u001b[0m \u001b[32m━━━━━━━━━━━━━━━━━━━━\u001b[0m\u001b[37m\u001b[0m \u001b[1m0s\u001b[0m 4ms/step - accuracy: 0.0686 - categorical_crossentropy_loss: 21.8298 - loss: 22.1732 - mean_absolute_error: 0.5107 - mean_squared_error_loss: 0.3434  \n",
      "\u001b[1m40/40\u001b[0m \u001b[32m━━━━━━━━━━━━━━━━━━━━\u001b[0m\u001b[37m\u001b[0m \u001b[1m0s\u001b[0m 4ms/step \n"
     ]
    }
   ],
   "source": [
    "model = CustomerTicketModel(num_departments = 4) #클래스 호출하기, 처음 호출할 때 가중치를 만든다. \n",
    "priority, department = model(\n",
    "    {\"title\": title_data, \"text_body\": text_body_data, \"tags\": tags_data})\n",
    "\n",
    "#keras.Model을 상속하여 fit, evaluate, predict를 사용할 수 있다. \n",
    "model.compile(optimizer=\"rmsprop\",\n",
    "              loss=[\"mean_squared_error\", \"categorical_crossentropy\"],\n",
    "              metrics=[[\"mean_absolute_error\"], [\"accuracy\"]])\n",
    "model.fit({\"title\": title_data,\n",
    "           \"text_body\": text_body_data,\n",
    "           \"tags\": tags_data},\n",
    "          [priority_data, department_data],\n",
    "          epochs=1)\n",
    "model.evaluate({\"title\": title_data,\n",
    "                \"text_body\": text_body_data,\n",
    "                \"tags\": tags_data},\n",
    "               [priority_data, department_data])\n",
    "priority_preds, department_preds = model.predict({\"title\": title_data,\n",
    "                                                  \"text_body\": text_body_data,\n",
    "                                                  \"tags\": tags_data})"
   ]
  },
  {
   "cell_type": "markdown",
   "id": "c302c1b3-bbdc-4fe8-a028-8dbe4bf8a910",
   "metadata": {},
   "source": [
    "### 서브클래싱된 모델이 지원하지 않는 것\n",
    "모델 로직을 많이 책임져야 하며 잠재적인 오류 가능성이 크다. "
   ]
  },
  {
   "cell_type": "markdown",
   "id": "79ec74de-b0c4-457c-be14-ba1e0ea70869",
   "metadata": {},
   "source": [
    "# 4. 혼합모델 : 여러 방식을 혼합하여 사용하기"
   ]
  },
  {
   "cell_type": "code",
   "execution_count": null,
   "id": "1f841020-a930-4f93-9cef-0bb14793b7c5",
   "metadata": {},
   "outputs": [],
   "source": [
    "#서브클래싱한 모델을 포함하는 함수형 모델 만들기 \n",
    "class Classifier(keras.Model):  #서브클래싱 모델\n",
    "\n",
    "    def __init__(self, num_classes=2):\n",
    "        super().__init__()\n",
    "        if num_classes == 2:\n",
    "            num_units = 1\n",
    "            activation = \"sigmoid\"\n",
    "        else:\n",
    "            num_units = num_classes\n",
    "            activation = \"softmax\"\n",
    "        self.dense = layers.Dense(num_units, activation=activation)\n",
    "\n",
    "    def call(self, inputs):\n",
    "        return self.dense(inputs)\n",
    "\n",
    "#함수형 모델로 레이어 쌓기 \n",
    "inputs = keras.Input(shape=(3,))\n",
    "features = layers.Dense(64, activation=\"relu\")(inputs)\n",
    "outputs = Classifier(num_classes=10)(features)\n",
    "model = keras.Model(inputs=inputs, outputs=outputs) #서브클래싱 모델 사용"
   ]
  },
  {
   "cell_type": "code",
   "execution_count": 83,
   "id": "3203b44b-8b9d-4229-b0b8-ed75dc84d734",
   "metadata": {},
   "outputs": [],
   "source": [
    "#함수형 모델을 포함하는 서브클래싱 모델 만들기\n",
    "inputs = keras.Input(shape=(64,))\n",
    "outputs = layers.Dense(1, activation=\"sigmoid\")(inputs)\n",
    "binary_classifier = keras.Model(inputs=inputs, outputs=outputs)\n",
    "\n",
    "class MyModel(keras.Model):\n",
    "\n",
    "    def __init__(self, num_classes=2):\n",
    "        super().__init__()\n",
    "        self.dense = layers.Dense(64, activation=\"relu\")\n",
    "        self.classifier = binary_classifier\n",
    "\n",
    "    def call(self, inputs):\n",
    "        features = self.dense(inputs)\n",
    "        return self.classifier(features)\n",
    "\n",
    "model = MyModel()"
   ]
  },
  {
   "cell_type": "markdown",
   "id": "1a92e6b0-7448-44e0-a997-6bf4852f540b",
   "metadata": {},
   "source": [
    "# 4. 내장된 훈련 루프와 평가 루프 사용"
   ]
  },
  {
   "cell_type": "markdown",
   "id": "325e9764-d00c-4b5f-9569-357899b08359",
   "metadata": {},
   "source": [
    "### 표준 워크플로 : compile(), fit(), evaluate(), predict()"
   ]
  },
  {
   "cell_type": "code",
   "execution_count": 87,
   "id": "f02104cf-650e-4e96-bb0b-73d8c552eaf9",
   "metadata": {},
   "outputs": [
    {
     "name": "stdout",
     "output_type": "stream",
     "text": [
      "Downloading data from https://storage.googleapis.com/tensorflow/tf-keras-datasets/mnist.npz\n",
      "\u001b[1m11490434/11490434\u001b[0m \u001b[32m━━━━━━━━━━━━━━━━━━━━\u001b[0m\u001b[37m\u001b[0m \u001b[1m2s\u001b[0m 0us/step\n",
      "Epoch 1/3\n",
      "\u001b[1m1563/1563\u001b[0m \u001b[32m━━━━━━━━━━━━━━━━━━━━\u001b[0m\u001b[37m\u001b[0m \u001b[1m7s\u001b[0m 4ms/step - accuracy: 0.8665 - loss: 0.4479 - val_accuracy: 0.9599 - val_loss: 0.1442\n",
      "Epoch 2/3\n",
      "\u001b[1m1563/1563\u001b[0m \u001b[32m━━━━━━━━━━━━━━━━━━━━\u001b[0m\u001b[37m\u001b[0m \u001b[1m6s\u001b[0m 4ms/step - accuracy: 0.9523 - loss: 0.1649 - val_accuracy: 0.9674 - val_loss: 0.1186\n",
      "Epoch 3/3\n",
      "\u001b[1m1563/1563\u001b[0m \u001b[32m━━━━━━━━━━━━━━━━━━━━\u001b[0m\u001b[37m\u001b[0m \u001b[1m6s\u001b[0m 4ms/step - accuracy: 0.9627 - loss: 0.1295 - val_accuracy: 0.9690 - val_loss: 0.1119\n",
      "\u001b[1m313/313\u001b[0m \u001b[32m━━━━━━━━━━━━━━━━━━━━\u001b[0m\u001b[37m\u001b[0m \u001b[1m1s\u001b[0m 2ms/step - accuracy: 0.9653 - loss: 0.1191 \n",
      "\u001b[1m313/313\u001b[0m \u001b[32m━━━━━━━━━━━━━━━━━━━━\u001b[0m\u001b[37m\u001b[0m \u001b[1m1s\u001b[0m 1ms/step  \n"
     ]
    }
   ],
   "source": [
    "from tensorflow.keras.datasets import mnist\n",
    "\n",
    "def get_mnist_model():\n",
    "    inputs = keras.Input(shape=(28 * 28,))\n",
    "    features = layers.Dense(512, activation=\"relu\")(inputs)\n",
    "    features = layers.Dropout(0.5)(features)\n",
    "    outputs = layers.Dense(10, activation=\"softmax\")(features)\n",
    "    model = keras.Model(inputs, outputs)\n",
    "    return model\n",
    "\n",
    "(images, labels), (test_images, test_labels) = mnist.load_data()\n",
    "images = images.reshape((60000, 28 * 28)).astype(\"float32\") / 255\n",
    "test_images = test_images.reshape((10000, 28 * 28)).astype(\"float32\") / 255\n",
    "train_images, val_images = images[10000:], images[:10000]\n",
    "train_labels, val_labels = labels[10000:], labels[:10000]\n",
    "\n",
    "model = get_mnist_model()\n",
    "model.compile(optimizer=\"rmsprop\",\n",
    "              loss=\"sparse_categorical_crossentropy\",\n",
    "              metrics=[\"accuracy\"])\n",
    "model.fit(train_images, train_labels,\n",
    "          epochs=3,\n",
    "          validation_data=(val_images, val_labels))\n",
    "test_metrics = model.evaluate(test_images, test_labels)\n",
    "predictions = model.predict(test_images)"
   ]
  },
  {
   "cell_type": "markdown",
   "id": "9298e9a4-3bca-4519-bb8b-426da9557281",
   "metadata": {},
   "source": [
    "# 5. 사용자 정의 지표 만들기\n",
    "- keras.metrics.Metric 클래스를 상속하여 사용자 정의 지표 구현하기\n",
    "- 지표는 텐서플로 변수에 내부 상태 저장\n",
    "- 이 변수는 역전파로 업데이트 되지 앟는다.\n",
    "- update로직을 update_state() 메서드 안에 직접 작성"
   ]
  },
  {
   "cell_type": "code",
   "execution_count": 94,
   "id": "8d802a4a-d25f-4c25-955c-a4c18ad874a7",
   "metadata": {},
   "outputs": [],
   "source": [
    "#평균 제곱근 오차를 계산하는 사용자 정의 지표\n",
    "import tensorflow as tf\n",
    "\n",
    "class RootMeanSquaredError(keras.metrics.Metric):\n",
    "\n",
    "    def __init__(self, name=\"rmse\", **kwargs):\n",
    "        super().__init__(name=name, **kwargs)\n",
    "        self.mse_sum = self.add_weight(name=\"mse_sum\", initializer=\"zeros\")\n",
    "        self.total_samples = self.add_weight(\n",
    "            name=\"total_samples\", initializer=\"zeros\", dtype=\"int32\")\n",
    "\n",
    "    def update_state(self, y_true, y_pred, sample_weight=None):\n",
    "        y_true = tf.one_hot(y_true, depth=tf.shape(y_pred)[1])\n",
    "        mse = tf.reduce_sum(tf.square(y_true - y_pred))\n",
    "        self.mse_sum.assign_add(mse)\n",
    "        num_samples = tf.shape(y_pred)[0]\n",
    "        self.total_samples.assign_add(num_samples)\n",
    "\n",
    "    def result(self):   #현재 지표값 반환\n",
    "        return tf.sqrt(self.mse_sum / tf.cast(self.total_samples, tf.float32))\n",
    "\n",
    "    def reset_state(self): #상태 초기화 \n",
    "        self.mse_sum.assign(0.)\n",
    "        self.total_samples.assign(0)"
   ]
  },
  {
   "cell_type": "code",
   "execution_count": 96,
   "id": "88ff85e6-f898-411c-9ff9-bfd61d31a179",
   "metadata": {},
   "outputs": [
    {
     "name": "stdout",
     "output_type": "stream",
     "text": [
      "Epoch 1/3\n",
      "\u001b[1m1563/1563\u001b[0m \u001b[32m━━━━━━━━━━━━━━━━━━━━\u001b[0m\u001b[37m\u001b[0m \u001b[1m7s\u001b[0m 4ms/step - accuracy: 0.8630 - loss: 0.4509 - rmse: 0.4405 - val_accuracy: 0.9575 - val_loss: 0.1462 - val_rmse: 0.2535\n",
      "Epoch 2/3\n",
      "\u001b[1m1563/1563\u001b[0m \u001b[32m━━━━━━━━━━━━━━━━━━━━\u001b[0m\u001b[37m\u001b[0m \u001b[1m6s\u001b[0m 4ms/step - accuracy: 0.9523 - loss: 0.1634 - rmse: 0.2711 - val_accuracy: 0.9691 - val_loss: 0.1146 - val_rmse: 0.2207\n",
      "Epoch 3/3\n",
      "\u001b[1m1563/1563\u001b[0m \u001b[32m━━━━━━━━━━━━━━━━━━━━\u001b[0m\u001b[37m\u001b[0m \u001b[1m6s\u001b[0m 4ms/step - accuracy: 0.9640 - loss: 0.1258 - rmse: 0.2362 - val_accuracy: 0.9720 - val_loss: 0.1038 - val_rmse: 0.2084\n",
      "\u001b[1m313/313\u001b[0m \u001b[32m━━━━━━━━━━━━━━━━━━━━\u001b[0m\u001b[37m\u001b[0m \u001b[1m1s\u001b[0m 2ms/step - accuracy: 0.9690 - loss: 0.1104 - rmse: 0.2184 \n"
     ]
    }
   ],
   "source": [
    "model = get_mnist_model()\n",
    "model.compile(optimizer=\"rmsprop\",\n",
    "              loss=\"sparse_categorical_crossentropy\",\n",
    "              metrics=[\"accuracy\", RootMeanSquaredError()])\n",
    "model.fit(train_images, train_labels,\n",
    "          epochs=3,\n",
    "          validation_data=(val_images, val_labels))\n",
    "test_metrics = model.evaluate(test_images, test_labels)"
   ]
  },
  {
   "cell_type": "markdown",
   "id": "c5d31a92-0ab7-406d-ad8d-3881529f6bef",
   "metadata": {},
   "source": [
    "# 6. 콜백 사용하기\n",
    "- fit() 메서드 호출 시 모델에 전달되는 객체\n",
    "- 훈련하는 동안 모델은 여러 지점에서 콜백 호출\n",
    "- 콜백은 모델의 상태, 성능에 대한 모든 정보에 접근\n",
    "- 훈련 중지, 모델 저장, 가중치 적재, 모델 상태 변경 등 처리\n",
    "- 모델 체크포인트 저장\n",
    "- 조기 종료\n",
    "- 훈련하는 동안 하이퍼파라미터 값을 동적으로 조정\n",
    "- 훈련과 검증지표를 기록하거나 학습한 표현이 업데이트 될 때마다 시각화"
   ]
  },
  {
   "cell_type": "markdown",
   "id": "36e410c3-c77e-4282-9cca-9e404a31d539",
   "metadata": {},
   "source": [
    "# 6. EarlyStopping 콜백과 ModelCheckpoint 콜백\n",
    "- Earlystopping 콜백은 정해진 에포크 동안 모니터링 지표가 향상되지 않을 대 훈련을 중지\n",
    "- 훈련하는 동안 모델을 계속 저장해주는 ModelCheckpoint 콜백과 사용"
   ]
  },
  {
   "cell_type": "code",
   "execution_count": 108,
   "id": "f1ed1856-ba0c-4467-86c8-20e44fd0b817",
   "metadata": {},
   "outputs": [
    {
     "name": "stdout",
     "output_type": "stream",
     "text": [
      "Epoch 1/10\n",
      "\u001b[1m1558/1563\u001b[0m \u001b[32m━━━━━━━━━━━━━━━━━━━\u001b[0m\u001b[37m━\u001b[0m \u001b[1m0s\u001b[0m 4ms/step - accuracy: 0.8610 - loss: 0.4607"
     ]
    },
    {
     "name": "stderr",
     "output_type": "stream",
     "text": [
      "WARNING:absl:You are saving your model as an HDF5 file via `model.save()` or `keras.saving.save_model(model)`. This file format is considered legacy. We recommend using instead the native Keras format, e.g. `model.save('my_model.keras')` or `keras.saving.save_model(model, 'my_model.keras')`. \n"
     ]
    },
    {
     "name": "stdout",
     "output_type": "stream",
     "text": [
      "\u001b[1m1563/1563\u001b[0m \u001b[32m━━━━━━━━━━━━━━━━━━━━\u001b[0m\u001b[37m\u001b[0m \u001b[1m7s\u001b[0m 4ms/step - accuracy: 0.8612 - loss: 0.4601 - val_accuracy: 0.9582 - val_loss: 0.1420\n",
      "Epoch 2/10\n",
      "\u001b[1m1557/1563\u001b[0m \u001b[32m━━━━━━━━━━━━━━━━━━━\u001b[0m\u001b[37m━\u001b[0m \u001b[1m0s\u001b[0m 3ms/step - accuracy: 0.9509 - loss: 0.1665"
     ]
    },
    {
     "name": "stderr",
     "output_type": "stream",
     "text": [
      "WARNING:absl:You are saving your model as an HDF5 file via `model.save()` or `keras.saving.save_model(model)`. This file format is considered legacy. We recommend using instead the native Keras format, e.g. `model.save('my_model.keras')` or `keras.saving.save_model(model, 'my_model.keras')`. \n"
     ]
    },
    {
     "name": "stdout",
     "output_type": "stream",
     "text": [
      "\u001b[1m1563/1563\u001b[0m \u001b[32m━━━━━━━━━━━━━━━━━━━━\u001b[0m\u001b[37m\u001b[0m \u001b[1m6s\u001b[0m 4ms/step - accuracy: 0.9509 - loss: 0.1665 - val_accuracy: 0.9666 - val_loss: 0.1175\n",
      "Epoch 3/10\n",
      "\u001b[1m1555/1563\u001b[0m \u001b[32m━━━━━━━━━━━━━━━━━━━\u001b[0m\u001b[37m━\u001b[0m \u001b[1m0s\u001b[0m 3ms/step - accuracy: 0.9625 - loss: 0.1299"
     ]
    },
    {
     "name": "stderr",
     "output_type": "stream",
     "text": [
      "WARNING:absl:You are saving your model as an HDF5 file via `model.save()` or `keras.saving.save_model(model)`. This file format is considered legacy. We recommend using instead the native Keras format, e.g. `model.save('my_model.keras')` or `keras.saving.save_model(model, 'my_model.keras')`. \n"
     ]
    },
    {
     "name": "stdout",
     "output_type": "stream",
     "text": [
      "\u001b[1m1563/1563\u001b[0m \u001b[32m━━━━━━━━━━━━━━━━━━━━\u001b[0m\u001b[37m\u001b[0m \u001b[1m6s\u001b[0m 4ms/step - accuracy: 0.9625 - loss: 0.1299 - val_accuracy: 0.9722 - val_loss: 0.1023\n",
      "Epoch 4/10\n",
      "\u001b[1m1563/1563\u001b[0m \u001b[32m━━━━━━━━━━━━━━━━━━━━\u001b[0m\u001b[37m\u001b[0m \u001b[1m6s\u001b[0m 4ms/step - accuracy: 0.9684 - loss: 0.1084 - val_accuracy: 0.9731 - val_loss: 0.1052\n",
      "Epoch 5/10\n",
      "\u001b[1m1552/1563\u001b[0m \u001b[32m━━━━━━━━━━━━━━━━━━━\u001b[0m\u001b[37m━\u001b[0m \u001b[1m0s\u001b[0m 3ms/step - accuracy: 0.9725 - loss: 0.1013"
     ]
    },
    {
     "name": "stderr",
     "output_type": "stream",
     "text": [
      "WARNING:absl:You are saving your model as an HDF5 file via `model.save()` or `keras.saving.save_model(model)`. This file format is considered legacy. We recommend using instead the native Keras format, e.g. `model.save('my_model.keras')` or `keras.saving.save_model(model, 'my_model.keras')`. \n"
     ]
    },
    {
     "name": "stdout",
     "output_type": "stream",
     "text": [
      "\u001b[1m1563/1563\u001b[0m \u001b[32m━━━━━━━━━━━━━━━━━━━━\u001b[0m\u001b[37m\u001b[0m \u001b[1m6s\u001b[0m 4ms/step - accuracy: 0.9725 - loss: 0.1014 - val_accuracy: 0.9764 - val_loss: 0.0939\n",
      "Epoch 6/10\n",
      "\u001b[1m1557/1563\u001b[0m \u001b[32m━━━━━━━━━━━━━━━━━━━\u001b[0m\u001b[37m━\u001b[0m \u001b[1m0s\u001b[0m 3ms/step - accuracy: 0.9749 - loss: 0.0907"
     ]
    },
    {
     "name": "stderr",
     "output_type": "stream",
     "text": [
      "WARNING:absl:You are saving your model as an HDF5 file via `model.save()` or `keras.saving.save_model(model)`. This file format is considered legacy. We recommend using instead the native Keras format, e.g. `model.save('my_model.keras')` or `keras.saving.save_model(model, 'my_model.keras')`. \n"
     ]
    },
    {
     "name": "stdout",
     "output_type": "stream",
     "text": [
      "\u001b[1m1563/1563\u001b[0m \u001b[32m━━━━━━━━━━━━━━━━━━━━\u001b[0m\u001b[37m\u001b[0m \u001b[1m6s\u001b[0m 4ms/step - accuracy: 0.9749 - loss: 0.0908 - val_accuracy: 0.9778 - val_loss: 0.0866\n",
      "Epoch 7/10\n",
      "\u001b[1m1551/1563\u001b[0m \u001b[32m━━━━━━━━━━━━━━━━━━━\u001b[0m\u001b[37m━\u001b[0m \u001b[1m0s\u001b[0m 3ms/step - accuracy: 0.9777 - loss: 0.0807"
     ]
    },
    {
     "name": "stderr",
     "output_type": "stream",
     "text": [
      "WARNING:absl:You are saving your model as an HDF5 file via `model.save()` or `keras.saving.save_model(model)`. This file format is considered legacy. We recommend using instead the native Keras format, e.g. `model.save('my_model.keras')` or `keras.saving.save_model(model, 'my_model.keras')`. \n"
     ]
    },
    {
     "name": "stdout",
     "output_type": "stream",
     "text": [
      "\u001b[1m1563/1563\u001b[0m \u001b[32m━━━━━━━━━━━━━━━━━━━━\u001b[0m\u001b[37m\u001b[0m \u001b[1m6s\u001b[0m 4ms/step - accuracy: 0.9777 - loss: 0.0807 - val_accuracy: 0.9808 - val_loss: 0.0813\n",
      "Epoch 8/10\n",
      "\u001b[1m1563/1563\u001b[0m \u001b[32m━━━━━━━━━━━━━━━━━━━━\u001b[0m\u001b[37m\u001b[0m \u001b[1m6s\u001b[0m 4ms/step - accuracy: 0.9788 - loss: 0.0765 - val_accuracy: 0.9806 - val_loss: 0.0837\n",
      "Epoch 9/10\n",
      "\u001b[1m1563/1563\u001b[0m \u001b[32m━━━━━━━━━━━━━━━━━━━━\u001b[0m\u001b[37m\u001b[0m \u001b[1m6s\u001b[0m 4ms/step - accuracy: 0.9790 - loss: 0.0752 - val_accuracy: 0.9775 - val_loss: 0.0945\n"
     ]
    },
    {
     "data": {
      "text/plain": [
       "<keras.src.callbacks.history.History at 0x225064313d0>"
      ]
     },
     "execution_count": 108,
     "metadata": {},
     "output_type": "execute_result"
    }
   ],
   "source": [
    "#fit() 메서드에서 callbacks 매개변수 사용하기\n",
    "callbacks_list = [\n",
    "    keras.callbacks.EarlyStopping(  #성능 향상이 멈추면 훈련 중지\n",
    "        monitor = 'val_accuracy',\n",
    "        patience = 2, #두 번의 에포크 동안 정확도가 향상되지 않으면 훈련 중지\n",
    "    ),\n",
    "    keras.callbacks.ModelCheckpoint(  #매 에포크 마다 현재 가중치 저장\n",
    "        filepath = 'checkpoint_path.h5', #모든 파일의 저장 경로\n",
    "        monitor = 'val_loss',  #val_loss가 좋아지지 않으면 모델 파일을 덮어쓰지 않는다. \n",
    "        save_best_only = True,  #가장 좋은 모델만 저장\n",
    "    )\n",
    "]\n",
    "\n",
    "model = get_mnist_model()\n",
    "model.compile(optimizer = 'rmsprop',\n",
    "              loss='sparse_categorical_crossentropy',\n",
    "              metrics = ['accuracy'])\n",
    "\n",
    "model.fit(train_images, train_labels,\n",
    "          epochs = 10, callbacks = callbacks_list,\n",
    "          validation_data = (val_images, val_labels))"
   ]
  },
  {
   "cell_type": "code",
   "execution_count": 116,
   "id": "365bcfbf-d8b5-42c9-8d88-7e98b699a824",
   "metadata": {},
   "outputs": [
    {
     "name": "stdout",
     "output_type": "stream",
     "text": [
      "['.git', '.ipynb_checkpoints', 'ch07_working-with-keras_prac.ipynb', 'checkpoint_path.h5', 'Exploration', 'GoingDeeper', 'MainQuest', 'README.md']\n"
     ]
    }
   ],
   "source": [
    "import os\n",
    "print(os.listdir())  # 현재 디렉토리에 뭐가 있는지 확인"
   ]
  },
  {
   "cell_type": "code",
   "execution_count": 120,
   "id": "127a6ff9-f1bc-48bb-a69c-51d06c3bdacb",
   "metadata": {},
   "outputs": [
    {
     "name": "stderr",
     "output_type": "stream",
     "text": [
      "WARNING:absl:You are saving your model as an HDF5 file via `model.save()` or `keras.saving.save_model(model)`. This file format is considered legacy. We recommend using instead the native Keras format, e.g. `model.save('my_model.keras')` or `keras.saving.save_model(model, 'my_model.keras')`. \n",
      "WARNING:absl:Compiled the loaded model, but the compiled metrics have yet to be built. `model.compile_metrics` will be empty until you train or evaluate the model.\n"
     ]
    }
   ],
   "source": [
    "#저장된 모델을 확인하\n",
    "model.save('checkpoint_path.h5')\n",
    "model = keras.models.load_model('checkpoint_path.h5')"
   ]
  },
  {
   "cell_type": "markdown",
   "id": "8cc76da5-2d59-4f0d-b78c-0104a3a9f506",
   "metadata": {},
   "source": [
    "#### 사용자 정의 콜백\n",
    "- 내장 콜백에서 제공하지 않는 특정 행동이 필요하면 자신만의 콜백을 만들 수 있다.\n",
    "- keras.callbacks.Callback  클래스를 상속받아 구현"
   ]
  },
  {
   "cell_type": "code",
   "execution_count": 128,
   "id": "6a84f58f-a2d7-4a8b-8d6e-b952d02952ba",
   "metadata": {},
   "outputs": [],
   "source": [
    "# Callback 클래스를 상속하여 사용자 정의 콜백 만들기\n",
    "from matplotlib import pyplot as plt\n",
    "class LossHistory(keras.callbacks.Callback):\n",
    "    def on_train_begin(self, logs):\n",
    "        self.per_batch_losses = []\n",
    "    def on_batch_end(self, batch, logs):\n",
    "        self.per_batch_losses.append(logs.get('loss'))   #batch끝날때마다 loss 기록\n",
    "\n",
    "    def on_epoch_end(self, epoch, logs):\n",
    "        plt.clf()\n",
    "        plt.plot(range(len(self.per_batch_losses)), self.per_batch_losses,\n",
    "                 label=\"Training loss for each batch\")\n",
    "        plt.xlabel(f\"Batch (epoch {epoch})\")\n",
    "        plt.ylabel(\"Loss\")\n",
    "        plt.legend()\n",
    "        plt.savefig(f\"plot_at_epoch_{epoch}\")\n",
    "        self.per_batch_losses = []"
   ]
  },
  {
   "cell_type": "code",
   "execution_count": 135,
   "id": "b5458789-4c26-4f91-92f5-7afaad3cff49",
   "metadata": {},
   "outputs": [
    {
     "name": "stdout",
     "output_type": "stream",
     "text": [
      "Epoch 1/10\n",
      "\u001b[1m1563/1563\u001b[0m \u001b[32m━━━━━━━━━━━━━━━━━━━━\u001b[0m\u001b[37m\u001b[0m \u001b[1m6s\u001b[0m 3ms/step - accuracy: 0.8620 - loss: 0.4496 - val_accuracy: 0.9587 - val_loss: 0.1472\n",
      "Epoch 2/10\n",
      "\u001b[1m1563/1563\u001b[0m \u001b[32m━━━━━━━━━━━━━━━━━━━━\u001b[0m\u001b[37m\u001b[0m \u001b[1m5s\u001b[0m 3ms/step - accuracy: 0.9512 - loss: 0.1705 - val_accuracy: 0.9687 - val_loss: 0.1131\n",
      "Epoch 3/10\n",
      "\u001b[1m1563/1563\u001b[0m \u001b[32m━━━━━━━━━━━━━━━━━━━━\u001b[0m\u001b[37m\u001b[0m \u001b[1m5s\u001b[0m 3ms/step - accuracy: 0.9647 - loss: 0.1282 - val_accuracy: 0.9714 - val_loss: 0.1118\n",
      "Epoch 4/10\n",
      "\u001b[1m1563/1563\u001b[0m \u001b[32m━━━━━━━━━━━━━━━━━━━━\u001b[0m\u001b[37m\u001b[0m \u001b[1m5s\u001b[0m 3ms/step - accuracy: 0.9671 - loss: 0.1139 - val_accuracy: 0.9731 - val_loss: 0.1006\n",
      "Epoch 5/10\n",
      "\u001b[1m1563/1563\u001b[0m \u001b[32m━━━━━━━━━━━━━━━━━━━━\u001b[0m\u001b[37m\u001b[0m \u001b[1m5s\u001b[0m 3ms/step - accuracy: 0.9710 - loss: 0.1028 - val_accuracy: 0.9767 - val_loss: 0.0929\n",
      "Epoch 6/10\n",
      "\u001b[1m1563/1563\u001b[0m \u001b[32m━━━━━━━━━━━━━━━━━━━━\u001b[0m\u001b[37m\u001b[0m \u001b[1m5s\u001b[0m 3ms/step - accuracy: 0.9724 - loss: 0.0947 - val_accuracy: 0.9775 - val_loss: 0.0937\n",
      "Epoch 7/10\n",
      "\u001b[1m1563/1563\u001b[0m \u001b[32m━━━━━━━━━━━━━━━━━━━━\u001b[0m\u001b[37m\u001b[0m \u001b[1m5s\u001b[0m 3ms/step - accuracy: 0.9761 - loss: 0.0921 - val_accuracy: 0.9790 - val_loss: 0.0914\n",
      "Epoch 8/10\n",
      "\u001b[1m1563/1563\u001b[0m \u001b[32m━━━━━━━━━━━━━━━━━━━━\u001b[0m\u001b[37m\u001b[0m \u001b[1m5s\u001b[0m 3ms/step - accuracy: 0.9778 - loss: 0.0830 - val_accuracy: 0.9792 - val_loss: 0.0969\n",
      "Epoch 9/10\n",
      "\u001b[1m1563/1563\u001b[0m \u001b[32m━━━━━━━━━━━━━━━━━━━━\u001b[0m\u001b[37m\u001b[0m \u001b[1m5s\u001b[0m 3ms/step - accuracy: 0.9783 - loss: 0.0812 - val_accuracy: 0.9808 - val_loss: 0.0925\n",
      "Epoch 10/10\n",
      "\u001b[1m1563/1563\u001b[0m \u001b[32m━━━━━━━━━━━━━━━━━━━━\u001b[0m\u001b[37m\u001b[0m \u001b[1m5s\u001b[0m 3ms/step - accuracy: 0.9806 - loss: 0.0729 - val_accuracy: 0.9800 - val_loss: 0.0897\n"
     ]
    },
    {
     "data": {
      "text/plain": [
       "<keras.src.callbacks.history.History at 0x22506ccecc0>"
      ]
     },
     "execution_count": 135,
     "metadata": {},
     "output_type": "execute_result"
    },
    {
     "data": {
      "image/png": "[encoded data removed]",
      "text/plain": [
       "<Figure size 640x480 with 1 Axes>"
      ]
     },
     "metadata": {},
     "output_type": "display_data"
    }
   ],
   "source": [
    "model = get_mnist_model()\n",
    "model.compile(optimizer=\"rmsprop\",\n",
    "              loss=\"sparse_categorical_crossentropy\",\n",
    "              metrics=[\"accuracy\"])\n",
    "model.fit(train_images, train_labels,\n",
    "          epochs=10,\n",
    "          callbacks=[LossHistory()],\n",
    "          validation_data=(val_images, val_labels))"
   ]
  },
  {
   "cell_type": "markdown",
   "id": "664a0154-b5b0-4d55-9065-084c4f0d37f6",
   "metadata": {},
   "source": [
    "# 7.  사용자 정의 훈련, 평가 루프\n",
    "- fit() 워크플로는 지도학습에만 초점이 맞추어져있다.\n",
    "- 생성 학습, 자기지도 학습, 강화 학습 등 명시저인 타깃이 없는 경우 새로운 기능이 필요함\n",
    "- 전형적인 훈련 루프\n",
    "  현재 배치 데이터에 대한 손실을 얻기 위한 그레디언트 테이프 안에서 정방향 패스\n",
    "  모델 가중치에 대한 손실의 그레디언트 계산\n",
    "  현재 배치 데이터에 대한 손실값을 낮추는 방향으로 가중치 업데이트"
   ]
  },
  {
   "cell_type": "markdown",
   "id": "c5b9bdea-fd06-487c-8e69-7a3d0227b9ae",
   "metadata": {},
   "source": [
    "### 훈련 vs 추론\n",
    "- Dropout 층과 같은 일부 층은 훈련과 추론에서 동작이 다름\n",
    "- call() 메서드에 training 불리언 매개변수 제공. training=True:이전 층의 활성화 출력 값을 일부 랜덤하게 제외\n",
    "- 두 종류의 가중치\n",
    "- 훈련 가능한 가중치 : Dense층의 커널과 편향, 역전파로 업데이트\n",
    "- 훈련되지 않는 가중치 : 정방향 패스 동안 업데이트, ex) 얼마나 많은 배치를 처리하는지 카운트하는 사용자 정의 층"
   ]
  },
  {
   "cell_type": "markdown",
   "id": "56f45c06-7937-43b9-b33e-b0d1762e81f5",
   "metadata": {},
   "source": [
    "### 측정 지표의 저수준 사용법"
   ]
  },
  {
   "cell_type": "code",
   "execution_count": 163,
   "id": "2437c569-84c9-4b6e-81ab-745ec199a48b",
   "metadata": {},
   "outputs": [
    {
     "name": "stdout",
     "output_type": "stream",
     "text": [
      "결과: 1.00\n"
     ]
    }
   ],
   "source": [
    "metric = keras.metrics.SparseCategoricalAccuracy()\n",
    "targets = [0, 1, 2]\n",
    "predictions = [[1, 0, 0], [0, 1, 0], [0,0,1]]\n",
    "metric.update_state(targets, predictions)\n",
    "current_result = metric.result()\n",
    "print(f'결과: {current_result :.2f}')"
   ]
  },
  {
   "cell_type": "code",
   "execution_count": 165,
   "id": "d7fbb215-0487-4e11-ad4c-507a7721306f",
   "metadata": {},
   "outputs": [
    {
     "name": "stdout",
     "output_type": "stream",
     "text": [
      "평균 지표 :  2.00\n"
     ]
    }
   ],
   "source": [
    "values = [0,1,2,3,4]\n",
    "mean_tracker = keras.metrics.Mean()\n",
    "for value in values:\n",
    "    mean_tracker.update_state(value)\n",
    "print(f'평균 지표 : {mean_tracker.result() : .2f}')"
   ]
  },
  {
   "cell_type": "markdown",
   "id": "751395ca-905e-4700-adb6-8f5c47ef5017",
   "metadata": {},
   "source": [
    "### 완전한 훈련과 평가 루프\n",
    "- fit() 과 유사한 훈련 스텝 함수로 정방향패스, 역방향패스, 지표 추적을 연결\n",
    "- 데이터와 타깃의 배치를 받고 fit() 진행줄이 출력하는 로그 반환"
   ]
  },
  {
   "cell_type": "markdown",
   "id": "78eb6128-e99b-4390-9a4d-405433ca8b2b",
   "metadata": {},
   "source": [
    "#### 단계별 훈련 루프 작성 : 훈련 스텝 함수"
   ]
  },
  {
   "cell_type": "code",
   "execution_count": 211,
   "id": "0b4b9e48-956b-44a3-be4c-a98156e8c3ee",
   "metadata": {},
   "outputs": [],
   "source": [
    "model = get_mnist_model()\n",
    "\n",
    "loss_fn = keras.losses.SparseCategoricalCrossentropy()\n",
    "optimizer = keras.optimizers.RMSprop()\n",
    "metrics = [keras.metrics.SparseCategoricalAccuracy()]\n",
    "loss_tracking_metric = keras.metrics.Mean()\n",
    "\n",
    "def train_step(inputs, targets):\n",
    "    with tf.GradientTape() as tape:\n",
    "        predictions = model(inputs, training=True)\n",
    "        loss = loss_fn(targets, predictions)\n",
    "    gradients = tape.gradient(loss, model.trainable_weights)\n",
    "    optimizer.apply_gradients(zip(gradients, model.trainable_weights))\n",
    "\n",
    "    logs = {}\n",
    "    for metric in metrics:\n",
    "        metric.update_state(targets, predictions)\n",
    "        logs[metric.name] = metric.result()\n",
    "\n",
    "    loss_tracking_metric.update_state(loss)\n",
    "    logs[\"loss\"] = loss_tracking_metric.result()\n",
    "    return logs"
   ]
  },
  {
   "cell_type": "markdown",
   "id": "5126eb64-5377-4ddc-808f-8bf7e42ba75c",
   "metadata": {},
   "source": [
    "#### 단계별 훈련 루프 작성 : 지표 재설정\n",
    "에포크 시작과 평가 전에 지표의 상태 재설정"
   ]
  },
  {
   "cell_type": "code",
   "execution_count": 214,
   "id": "645c5a56-08ae-4611-b9ba-6f447df6ebaa",
   "metadata": {},
   "outputs": [],
   "source": [
    "def reset_metrics():\n",
    "    for metric in metrics:\n",
    "        metric.reset_state()\n",
    "    loss_tracking_metric.reset_state()"
   ]
  },
  {
   "cell_type": "markdown",
   "id": "8123c90f-9b0e-4f76-a329-9ade825505c6",
   "metadata": {},
   "source": [
    "#### 단계별 훈련 루프 작성 : 훈련 루프 자체"
   ]
  },
  {
   "cell_type": "code",
   "execution_count": 217,
   "id": "040ecffd-e16b-44e2-97e3-e2ec3a87c08d",
   "metadata": {},
   "outputs": [
    {
     "name": "stdout",
     "output_type": "stream",
     "text": [
      "0번째 에포크 결과\n",
      "...sparse_categorical_accuracy: 0.9123\n",
      "...loss: 0.2891\n",
      "1번째 에포크 결과\n",
      "...sparse_categorical_accuracy: 0.9544\n",
      "...loss: 0.1597\n",
      "2번째 에포크 결과\n",
      "...sparse_categorical_accuracy: 0.9642\n",
      "...loss: 0.1273\n"
     ]
    }
   ],
   "source": [
    "training_dataset = tf.data.Dataset.from_tensor_slices((train_images, train_labels))\n",
    "training_dataset = training_dataset.batch(32)\n",
    "epochs = 3\n",
    "for epoch in range(epochs):\n",
    "    reset_metrics()\n",
    "    for inputs_batch, targets_batch in training_dataset:\n",
    "        logs = train_step(inputs_batch, targets_batch)\n",
    "    print(f\"{epoch}번째 에포크 결과\")\n",
    "    for key, value in logs.items():\n",
    "        print(f\"...{key}: {value:.4f}\")"
   ]
  },
  {
   "cell_type": "code",
   "execution_count": null,
   "id": "9928a545-35d6-4b3e-b151-5a8b1be81e17",
   "metadata": {},
   "outputs": [],
   "source": []
  }
 ],
 "metadata": {
  "kernelspec": {
   "display_name": "Python [conda env:base] *",
   "language": "python",
   "name": "conda-base-py"
  },
  "language_info": {
   "codemirror_mode": {
    "name": "ipython",
    "version": 3
   },
   "file_extension": ".py",
   "mimetype": "text/x-python",
   "name": "python",
   "nbconvert_exporter": "python",
   "pygments_lexer": "ipython3",
   "version": "3.12.4"
  }
 },
 "nbformat": 4,
 "nbformat_minor": 5
}
