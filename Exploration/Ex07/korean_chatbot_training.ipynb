{
 "cells": [
  {
   "cell_type": "code",
   "execution_count": 1,
   "id": "7e3816c2-5d61-4f4f-a77e-cd42366ff78b",
   "metadata": {},
   "outputs": [
    {
     "name": "stdout",
     "output_type": "stream",
     "text": [
      "2.19.0\n"
     ]
    }
   ],
   "source": [
    "import tensorflow\n",
    "print(tensorflow.__version__)"
   ]
  },
  {
   "cell_type": "code",
   "execution_count": 2,
   "id": "26fa3cac-3fd1-47fe-8884-c4048320a227",
   "metadata": {},
   "outputs": [],
   "source": [
    "import tensorflow as tf\n",
    "import os\n",
    "import re\n",
    "import numpy as np\n",
    "import pandas as pd\n",
    "import matplotlib.pyplot as plt"
   ]
  },
  {
   "cell_type": "markdown",
   "id": "d5c65a52-82a0-404f-9802-894dc5e29f12",
   "metadata": {},
   "source": [
    "# 1. 데이터 수집"
   ]
  },
  {
   "cell_type": "code",
   "execution_count": 4,
   "id": "42918f2f-d728-420f-9bb5-b8f5a08c1df5",
   "metadata": {},
   "outputs": [
    {
     "data": {
      "text/html": [
       "<div>\n",
       "<style scoped>\n",
       "    .dataframe tbody tr th:only-of-type {\n",
       "        vertical-align: middle;\n",
       "    }\n",
       "\n",
       "    .dataframe tbody tr th {\n",
       "        vertical-align: top;\n",
       "    }\n",
       "\n",
       "    .dataframe thead th {\n",
       "        text-align: right;\n",
       "    }\n",
       "</style>\n",
       "<table border=\"1\" class=\"dataframe\">\n",
       "  <thead>\n",
       "    <tr style=\"text-align: right;\">\n",
       "      <th></th>\n",
       "      <th>Q</th>\n",
       "      <th>A</th>\n",
       "      <th>label</th>\n",
       "    </tr>\n",
       "  </thead>\n",
       "  <tbody>\n",
       "    <tr>\n",
       "      <th>5088</th>\n",
       "      <td>향수 뿌려도 될라나</td>\n",
       "      <td>향기 나면 좋아요.</td>\n",
       "      <td>0</td>\n",
       "    </tr>\n",
       "    <tr>\n",
       "      <th>4784</th>\n",
       "      <td>클럽가고 싶은데 말하고 갈까</td>\n",
       "      <td>말하고 가거나 같이 가보세요.</td>\n",
       "      <td>0</td>\n",
       "    </tr>\n",
       "    <tr>\n",
       "      <th>8790</th>\n",
       "      <td>후련해</td>\n",
       "      <td>후련하다니 다행이에요.</td>\n",
       "      <td>1</td>\n",
       "    </tr>\n",
       "    <tr>\n",
       "      <th>3227</th>\n",
       "      <td>연예인 되면 피곤하겠지?</td>\n",
       "      <td>아무래도 사생활이 적으니까요.</td>\n",
       "      <td>0</td>\n",
       "    </tr>\n",
       "    <tr>\n",
       "      <th>1584</th>\n",
       "      <td>머리 깎아야겠다.</td>\n",
       "      <td>예쁘게 깎아요!</td>\n",
       "      <td>0</td>\n",
       "    </tr>\n",
       "  </tbody>\n",
       "</table>\n",
       "</div>"
      ],
      "text/plain": [
       "                    Q                 A  label\n",
       "5088       향수 뿌려도 될라나        향기 나면 좋아요.      0\n",
       "4784  클럽가고 싶은데 말하고 갈까  말하고 가거나 같이 가보세요.      0\n",
       "8790              후련해      후련하다니 다행이에요.      1\n",
       "3227    연예인 되면 피곤하겠지?  아무래도 사생활이 적으니까요.      0\n",
       "1584        머리 깎아야겠다.          예쁘게 깎아요!      0"
      ]
     },
     "execution_count": 4,
     "metadata": {},
     "output_type": "execute_result"
    }
   ],
   "source": [
    "path = \"C:/Users/yjneo/AIFFEL_quest_rs/Exploration/Ex07/ChatbotData.csv\"\n",
    "data = pd.read_csv(path)\n",
    "data.sample(5)"
   ]
  },
  {
   "cell_type": "markdown",
   "id": "c2a5b11e-70e1-4383-955c-5b7de26ac371",
   "metadata": {},
   "source": [
    "# 2. 데이터 전처리"
   ]
  },
  {
   "cell_type": "code",
   "execution_count": 6,
   "id": "655e2ae1-6ac9-465a-9bb3-7aa4f1e1db84",
   "metadata": {},
   "outputs": [],
   "source": [
    "import re\n",
    "\n",
    "def preprocess_sentence(sentence):\n",
    "    # 1. 양쪽 공백 제거\n",
    "    sentence = sentence.strip()\n",
    "\n",
    "    # 2. 주요 구두점(?, !, ,)은 띄어쓰기로 분리 (마침표는 제거)\n",
    "    sentence = re.sub(r\"([?!,])\", r\" \\1 \", sentence)\n",
    "\n",
    "    # 3. 한글, 영문, 숫자, 주요 구두점(?, !, ,)만 남기고 나머지는 제거\n",
    "    sentence = re.sub(r\"[^가-힣a-zA-Z0-9?!,]\", \" \", sentence)\n",
    "\n",
    "    # 4. 여러 공백을 하나로 줄이기\n",
    "    sentence = re.sub(r\"\\s+\", \" \", sentence).strip()\n",
    "\n",
    "    return sentence\n",
    "\n"
   ]
  },
  {
   "cell_type": "code",
   "execution_count": 7,
   "id": "d39fca7d-be0f-48b5-9a78-45e2c80d85c5",
   "metadata": {},
   "outputs": [
    {
     "name": "stdout",
     "output_type": "stream",
     "text": [
      "전체 샘플 수 : 11823\n",
      "전체 샘플 수 : 11823\n"
     ]
    }
   ],
   "source": [
    "# 데이터를 로드하고 질문을 questions, 답변을 answers에 저장합니다.\n",
    "\n",
    "questions_raw= list(data['Q'])\n",
    "answers_raw = list(data['A'])\n",
    "print('전체 샘플 수 :', len(questions_raw))\n",
    "print('전체 샘플 수 :', len(answers_raw))"
   ]
  },
  {
   "cell_type": "markdown",
   "id": "59f57ba5-6469-4183-b4e1-3ee561aabc52",
   "metadata": {},
   "source": [
    "### 결측치 확인"
   ]
  },
  {
   "cell_type": "code",
   "execution_count": null,
   "id": "fc84a301-58db-4463-8e64-7cddddbd11af",
   "metadata": {},
   "outputs": [],
   "source": [
    "print(data.isnull().sum())"
   ]
  },
  {
   "cell_type": "code",
   "execution_count": 9,
   "id": "e2bf04d5-537c-45f4-97e3-026cec864583",
   "metadata": {},
   "outputs": [],
   "source": [
    "# 텍스트 전처리\n",
    "questions = [preprocess_sentence(sentence) for sentence in questions_raw]\n",
    "answers = [preprocess_sentence(sentence) for sentence in answers_raw]"
   ]
  },
  {
   "cell_type": "markdown",
   "id": "8aaf2592-ff68-429f-a3b0-0cc3685f80ca",
   "metadata": {},
   "source": [
    "### 전처리 확인"
   ]
  },
  {
   "cell_type": "code",
   "execution_count": 10,
   "id": "0240333e-96cc-45f4-8bd5-3bd4c7c3e598",
   "metadata": {},
   "outputs": [
    {
     "name": "stdout",
     "output_type": "stream",
     "text": [
      "Q1: 12시 땡!  →  12시 땡 !\n",
      "A1: 하루가 또 가네요.  →  하루가 또 가네요\n",
      "\n",
      "Q2: 1지망 학교 떨어졌어  →  1지망 학교 떨어졌어\n",
      "A2: 위로해 드립니다.  →  위로해 드립니다\n",
      "\n",
      "Q3: 3박4일 놀러가고 싶다  →  3박4일 놀러가고 싶다\n",
      "A3: 여행은 언제나 좋죠.  →  여행은 언제나 좋죠\n",
      "\n",
      "Q4: 3박4일 정도 놀러가고 싶다  →  3박4일 정도 놀러가고 싶다\n",
      "A4: 여행은 언제나 좋죠.  →  여행은 언제나 좋죠\n",
      "\n",
      "Q5: PPL 심하네  →  PPL 심하네\n",
      "A5: 눈살이 찌푸려지죠.  →  눈살이 찌푸려지죠\n",
      "\n"
     ]
    }
   ],
   "source": [
    "for i in range(5):\n",
    "    print(f\"Q{i+1}: {questions_raw[i]}  →  {questions[i]}\")\n",
    "    print(f\"A{i+1}: {answers_raw[i]}  →  {answers[i]}\")\n",
    "    print()"
   ]
  },
  {
   "cell_type": "markdown",
   "id": "397dc647-b060-4dcf-a934-5d1edfaea59b",
   "metadata": {},
   "source": [
    "# 3. SubwordTextEncoder 사용하기\n",
    "- 내부 단어 토크나이저인 SubwordTextEncoder를 사용\n",
    "- 단어보다 더 작은 단위인 Subword를 기준으로 토크나이징하고, 각 토큰을 고유한 정수로 인코딩\n",
    "- 각 문장을 토큰화하고 문장의 시작과 끝에 START_TOKEN, END_TOKEN을 추가\n",
    "- 최대 길이 MAX_LEN 지정, 최대 길이를 넘는 문장 필터링\n",
    "- 최대 길이보다 짧은 문장은 맞춰서 패딩"
   ]
  },
  {
   "cell_type": "markdown",
   "id": "a553af8e-d1e8-4dc4-9db2-af49d85e9ff6",
   "metadata": {},
   "source": [
    "## 단어장 만들기"
   ]
  },
  {
   "cell_type": "code",
   "execution_count": 13,
   "id": "c4d521e9-7ebd-452d-8fa1-2381af3b3bc9",
   "metadata": {},
   "outputs": [],
   "source": [
    "import tensorflow_datasets as tfds\n",
    "tokenizer = tfds.deprecated.text.SubwordTextEncoder.build_from_corpus(questions + answers, target_vocab_size =2**13)\n",
    "#시작토큰과 종료토큰에 고유한 정수 부여\n",
    "START_TOKEN, END_TOKEN = [tokenizer.vocab_size], [tokenizer.vocab_size + 1]\n",
    "VOCAB_SIZE = tokenizer.vocab_size + 2"
   ]
  },
  {
   "cell_type": "code",
   "execution_count": 14,
   "id": "073e5520-82c4-4f8d-a7f3-6c5e452346b4",
   "metadata": {},
   "outputs": [
    {
     "name": "stdout",
     "output_type": "stream",
     "text": [
      "START_TOKEN의 번호 : [8183]\n",
      "END_TOKEN의 번호 : [8184]\n",
      "8185\n"
     ]
    }
   ],
   "source": [
    "#단어장 크기 +2\n",
    "print('START_TOKEN의 번호 :' ,[tokenizer.vocab_size])\n",
    "print('END_TOKEN의 번호 :' ,[tokenizer.vocab_size + 1])\n",
    "# 시작 토큰과 종료 토큰을 고려하여 +2를 하여 단어장의 크기를 산정합니다.\n",
    "VOCAB_SIZE = tokenizer.vocab_size + 2\n",
    "print(VOCAB_SIZE)"
   ]
  },
  {
   "cell_type": "markdown",
   "id": "94f0ec8e-e1f8-4ce5-861d-6b0ddcfb85ed",
   "metadata": {},
   "source": [
    "## 정수 인코딩, 패딩"
   ]
  },
  {
   "cell_type": "markdown",
   "id": "75fc2936-0ae0-4c18-a750-6234cc343798",
   "metadata": {},
   "source": [
    "### 정수 인코딩, 패딩, 샘플 제거 함수"
   ]
  },
  {
   "cell_type": "code",
   "execution_count": 16,
   "id": "a4111e53-b43a-407f-9d55-a15fc098ec60",
   "metadata": {},
   "outputs": [],
   "source": [
    "# 샘플의 최대 허용 길이 또는 패딩 후의 최종 길이\n",
    "MAX_LENGTH = 40\n",
    "# print(MAX_LENGTH)\n",
    "\n",
    "# 정수 인코딩, 최대 길이를 초과하는 샘플 제거, 패딩\n",
    "def tokenize_and_filter(inputs, outputs):\n",
    "  tokenized_inputs, tokenized_outputs = [], []\n",
    "  \n",
    "  for (sentence1, sentence2) in zip(inputs, outputs):\n",
    "    # 정수 인코딩 과정에서 시작 토큰과 종료 토큰을 추가\n",
    "    sentence1 = START_TOKEN + tokenizer.encode(sentence1) + END_TOKEN\n",
    "    sentence2 = START_TOKEN + tokenizer.encode(sentence2) + END_TOKEN\n",
    "\n",
    "    # 최대 길이 21 이하인 경우에만 데이터셋으로 허용\n",
    "    if len(sentence1) <= MAX_LENGTH and len(sentence2) <= MAX_LENGTH:\n",
    "      tokenized_inputs.append(sentence1)\n",
    "      tokenized_outputs.append(sentence2)\n",
    "  \n",
    "  # 최대 길이 21으로 모든 데이터셋을 패딩\n",
    "  tokenized_inputs = tf.keras.preprocessing.sequence.pad_sequences(\n",
    "      tokenized_inputs, maxlen=MAX_LENGTH, padding='post')\n",
    "  tokenized_outputs = tf.keras.preprocessing.sequence.pad_sequences(\n",
    "      tokenized_outputs, maxlen=MAX_LENGTH, padding='post')\n",
    "  \n",
    "  return tokenized_inputs, tokenized_outputs"
   ]
  },
  {
   "cell_type": "markdown",
   "id": "02da3836-f2c3-4e84-ab87-9d51e5034bb9",
   "metadata": {},
   "source": [
    "### 함수 적용, 확인"
   ]
  },
  {
   "cell_type": "code",
   "execution_count": 17,
   "id": "6c28e8b9-e4cb-4981-92e8-d66d4921af23",
   "metadata": {},
   "outputs": [
    {
     "name": "stdout",
     "output_type": "stream",
     "text": [
      "(11823, 40)\n",
      "(11823, 40)\n"
     ]
    }
   ],
   "source": [
    "questions, answers = tokenize_and_filter(questions, answers)\n",
    "# ✅ numpy 배열로 변환 (모든 샘플이 MAX_LENGTH로 맞춰져야 함)\n",
    "questions = np.array(questions, dtype=np.int32)\n",
    "answers = np.array(answers, dtype=np.int32)\n",
    "\n",
    "print(questions.shape)  # (전체 샘플 수, MAX_LENGTH)\n",
    "print(answers.shape)    # (전체 샘플 수, MAX_LENGTH)"
   ]
  },
  {
   "cell_type": "code",
   "execution_count": 18,
   "id": "7bc435da-e808-435c-9019-227480f4d4c4",
   "metadata": {},
   "outputs": [
    {
     "name": "stdout",
     "output_type": "stream",
     "text": [
      "[8183 7922 4210 3061   39 8184    0    0    0    0    0    0    0    0\n",
      "    0    0    0    0    0    0    0    0    0    0    0    0    0    0\n",
      "    0    0    0    0    0    0    0    0    0    0    0    0]\n",
      "[8183 3843   73 7901 8184    0    0    0    0    0    0    0    0    0\n",
      "    0    0    0    0    0    0    0    0    0    0    0    0    0    0\n",
      "    0    0    0    0    0    0    0    0    0    0    0    0]\n"
     ]
    }
   ],
   "source": [
    "# 0번 샘플을 임의로 출력\n",
    "print(questions[0])\n",
    "print(answers[0])"
   ]
  },
  {
   "cell_type": "markdown",
   "id": "3dbcce2c-3719-4986-95ac-25ecb2c598de",
   "metadata": {},
   "source": [
    "##  인코더와 디코더의 입력, 레이블 만들기"
   ]
  },
  {
   "cell_type": "code",
   "execution_count": 20,
   "id": "247bcdc6-abad-4133-8834-a9cc1a270906",
   "metadata": {},
   "outputs": [],
   "source": [
    "BATCH_SIZE = 64\n",
    "BUFFER_SIZE = 20000\n",
    "\n",
    "# questions = np.array(questions, dtype=np.int32)\n",
    "# answers = np.array(answers, dtype=np.int32)\n",
    "# # 디코더는 이전의 target을 다음의 input으로 사용합니다.\n",
    "# # 이에 따라 outputs에서는 START_TOKEN을 제거하겠습니다.\n",
    "# dataset = tf.data.Dataset.from_tensor_slices((\n",
    "#     {\n",
    "#         'inputs': questions,\n",
    "#         'dec_inputs': answers[:, :-1] # 디코더의 입력. 마지막 패딩 토큰이 제거된다.\n",
    "#     },\n",
    "#     {\n",
    "#         'outputs': answers[:, 1:]  # 맨 처음 토큰이 제거된다. 다시 말해 시작 토큰이 제거된다.\n",
    "#     },\n",
    "# ))\n",
    "\n",
    "\n",
    "# dataset = dataset.shuffle(BUFFER_SIZE).batch(BATCH_SIZE).prefetch(tf.data.AUTOTUNE)"
   ]
  },
  {
   "cell_type": "code",
   "execution_count": 21,
   "id": "fd46404f-b12d-4670-9bdc-7112aeb86302",
   "metadata": {},
   "outputs": [
    {
     "name": "stdout",
     "output_type": "stream",
     "text": [
      "<dtype: 'int32'>\n",
      "<dtype: 'int32'>\n",
      "<dtype: 'int32'>\n"
     ]
    }
   ],
   "source": [
    "# for x, y in dataset.take(1):\n",
    "#     print(x['inputs'].dtype)      # tf.int32\n",
    "#     print(x['dec_inputs'].dtype)  # tf.int32\n",
    "#     print(y['outputs'].dtype)     # tf.int32\n"
   ]
  },
  {
   "cell_type": "code",
   "execution_count": 22,
   "id": "8d279108-0eaa-4c04-b3f6-7726ac818d61",
   "metadata": {},
   "outputs": [
    {
     "name": "stdout",
     "output_type": "stream",
     "text": [
      "[8183 3843   73 7901 8184    0    0    0    0    0    0    0    0    0\n",
      "    0    0    0    0    0    0    0    0    0    0    0    0    0    0\n",
      "    0    0    0    0    0    0    0    0    0    0    0    0]\n",
      "[[8183 3843   73 7901 8184    0    0    0    0    0    0    0    0    0\n",
      "     0    0    0    0    0    0    0    0    0    0    0    0    0    0\n",
      "     0    0    0    0    0    0    0    0    0    0    0]]\n",
      "[[3843   73 7901 8184    0    0    0    0    0    0    0    0    0    0\n",
      "     0    0    0    0    0    0    0    0    0    0    0    0    0    0\n",
      "     0    0    0    0    0    0    0    0    0    0    0]]\n"
     ]
    }
   ],
   "source": [
    "# # 임의의 샘플에 대해서 [:, :-1]과 [:, 1:]이 어떤 의미를 가지는지 테스트해본다.\n",
    "# print(answers[0]) # 기존 샘플\n",
    "# print(answers[:1][:, :-1]) # 마지막 패딩 토큰 제거하면서 길이가 39가 된다.\n",
    "# print(answers[:1][:, 1:]) # 맨 처음 토큰이 제거된다. 다시 말해 시작 토큰이 제거된다. 길이는 역시 39가 된다."
   ]
  },
  {
   "cell_type": "markdown",
   "id": "9ac931f6-186e-4d09-9fb2-082685dc9697",
   "metadata": {},
   "source": [
    "# 4. 모델 구성하기\n",
    "- 인코더 층 함수\n",
    "- 디코더 층 함수\n",
    "- 트랜스포머 함수 정의\n",
    "- 모델 생성\n",
    "- 손실 함수\n",
    "- 커스텀된 학습률\n",
    "- 모델 컴파일\n",
    "- 모델 훈련"
   ]
  },
  {
   "cell_type": "markdown",
   "id": "d5ea1c81-0201-4e31-a2ac-121e0e8337c3",
   "metadata": {},
   "source": [
    "### 트랜스포머 입력 : 포지셔널 인코딩 레이어"
   ]
  },
  {
   "cell_type": "code",
   "execution_count": 24,
   "id": "01ca431a-382c-498f-b39d-40d74886c82e",
   "metadata": {},
   "outputs": [],
   "source": [
    "class PositionalEncoding(tf.keras.layers.Layer):\n",
    "  def __init__(self, position, d_model):\n",
    "    super(PositionalEncoding, self).__init__()\n",
    "    self.pos_encoding = self.positional_encoding(position, d_model)\n",
    "\n",
    "  def get_angles(self, position, i, d_model):\n",
    "    i = tf.cast(i, tf.float32)  # i도 명확히 float32로 캐스팅\n",
    "    angle_rates = 1.0 / tf.pow(10000.0, (2 * (i // 2)) / tf.cast(d_model, tf.float32))\n",
    "    return tf.cast(position, tf.float32) * angle_rates\n",
    "\n",
    "\n",
    "\n",
    "  def positional_encoding(self, position, d_model):\n",
    "    angle_rads = self.get_angles(\n",
    "        tf.range(position)[:, tf.newaxis],\n",
    "        tf.range(d_model)[tf.newaxis, :],\n",
    "        d_model\n",
    "    )\n",
    "\n",
    "    sines = tf.math.sin(angle_rads[:, 0::2])\n",
    "    cosines = tf.math.cos(angle_rads[:, 1::2])\n",
    "\n",
    "    # Tensor 기반으로 재결합\n",
    "    angle_rads = tf.concat([sines, cosines], axis=-1)\n",
    "\n",
    "    # 순서 정렬 (짝수-홀수-짝수-홀수가 되도록)\n",
    "    indices = tf.argsort(tf.range(d_model) % 2 * d_model + tf.range(d_model))\n",
    "    pos_encoding = tf.gather(angle_rads, indices, axis=1)\n",
    "\n",
    "    pos_encoding = pos_encoding[tf.newaxis, ...]\n",
    "    return tf.cast(pos_encoding, tf.float32)\n",
    "\n",
    "  def call(self, inputs):\n",
    "    if isinstance(inputs, tf.SparseTensor):\n",
    "        inputs = tf.sparse.to_dense(inputs)\n",
    "    return inputs + self.pos_encoding[:, :tf.shape(inputs)[1], :]\n"
   ]
  },
  {
   "cell_type": "markdown",
   "id": "2577079f-2b32-4a8e-af41-7c38d869b870",
   "metadata": {},
   "source": [
    "### 스케일드 닷 어텐션, 멀티헤드 어텐션, 마스킹"
   ]
  },
  {
   "cell_type": "code",
   "execution_count": 25,
   "id": "dad37021-b857-425b-bb24-bf17397db322",
   "metadata": {},
   "outputs": [],
   "source": [
    "def scaled_dot_product_attention(q, k, v, mask):\n",
    "    matmul_qk = tf.matmul(q, k, transpose_b=True)  # (..., seq_len_q, seq_len_k)\n",
    "    dk = tf.cast(tf.shape(k)[-1], tf.float32)\n",
    "    scaled_attention_logits = matmul_qk / tf.math.sqrt(dk)\n",
    "\n",
    "    if mask is not None:\n",
    "        # ✅ tf.Tensor 타입인 mask 처리\n",
    "        scaled_attention_logits += (mask * -1e9)\n",
    "\n",
    "    attention_weights = tf.nn.softmax(scaled_attention_logits, axis=-1)\n",
    "    output = tf.matmul(attention_weights, v)  # (..., seq_len_q, depth_v)\n",
    "\n",
    "    return output, attention_weights\n"
   ]
  },
  {
   "cell_type": "code",
   "execution_count": 26,
   "id": "b99ed66b-e613-4ee7-a285-64a0a13ece4a",
   "metadata": {},
   "outputs": [],
   "source": [
    "class MultiHeadAttention(tf.keras.layers.Layer):\n",
    "\n",
    "  def __init__(self, d_model, num_heads, name=\"multi_head_attention\"):\n",
    "    super(MultiHeadAttention, self).__init__(name=name)\n",
    "    self.num_heads = num_heads\n",
    "    self.d_model = d_model\n",
    "\n",
    "    assert d_model % self.num_heads == 0\n",
    "\n",
    "    # d_model을 num_heads로 나눈 값.\n",
    "    # 논문 기준 : 64\n",
    "    self.depth = d_model // self.num_heads\n",
    "\n",
    "    # WQ, WK, WV에 해당하는 밀집층 정의\n",
    "    self.query_dense = tf.keras.layers.Dense(units=d_model)\n",
    "    self.key_dense = tf.keras.layers.Dense(units=d_model)\n",
    "    self.value_dense = tf.keras.layers.Dense(units=d_model)\n",
    "\n",
    "    # WO에 해당하는 밀집층 정의\n",
    "    self.dense = tf.keras.layers.Dense(units=d_model)\n",
    "\n",
    "  # num_heads 개수만큼 q, k, v를 split하는 함수\n",
    "  def split_heads(self, inputs, batch_size):\n",
    "    inputs = tf.reshape(\n",
    "        inputs, shape=(batch_size, -1, self.num_heads, self.depth))\n",
    "    return tf.transpose(inputs, perm=[0, 2, 1, 3])\n",
    "\n",
    "  def call(self, query, key, value, mask):\n",
    "    batch_size = tf.shape(query)[0]\n",
    "\n",
    "    query = self.query_dense(query)\n",
    "    key = self.key_dense(key)\n",
    "    value = self.value_dense(value)\n",
    "\n",
    "    query = self.split_heads(query, batch_size)\n",
    "    key = self.split_heads(key, batch_size)\n",
    "    value = self.split_heads(value, batch_size)\n",
    "\n",
    "    scaled_attention, _ = scaled_dot_product_attention(query, key, value, mask)\n",
    "    scaled_attention = tf.transpose(scaled_attention, perm=[0, 2, 1, 3])\n",
    "\n",
    "    concat_attention = tf.reshape(scaled_attention, (batch_size, -1, self.d_model))\n",
    "    outputs = self.dense(concat_attention)\n",
    "\n",
    "    return outputs\n",
    "\n"
   ]
  },
  {
   "cell_type": "code",
   "execution_count": 27,
   "id": "f51122b9-e8ce-47e4-bb1c-422a29574ade",
   "metadata": {},
   "outputs": [],
   "source": [
    "def create_padding_mask(x):\n",
    "  mask = tf.cast(tf.math.equal(x, 0), tf.float32)\n",
    "  # (batch_size, 1, 1, key의 문장 길이)\n",
    "  return mask[:, tf.newaxis, tf.newaxis, :]\n"
   ]
  },
  {
   "cell_type": "markdown",
   "id": "6307e3b7-211c-43db-8a7c-762c6a6acbc4",
   "metadata": {},
   "source": [
    "### 인코더"
   ]
  },
  {
   "cell_type": "code",
   "execution_count": 28,
   "id": "afbea605-5ebe-4966-a628-df0d66d4305c",
   "metadata": {},
   "outputs": [],
   "source": [
    "def encoder_layer(dff, d_model, num_heads, dropout, name=\"encoder_layer\"):\n",
    "  inputs = tf.keras.Input(shape=(None, d_model), name=\"inputs\")\n",
    "  padding_mask = tf.keras.Input(shape=(1, 1, None), name=\"padding_mask\")\n",
    "\n",
    "  # 멀티-헤드 셀프 어텐션 (Q = K = V = inputs)\n",
    "  attention = MultiHeadAttention(d_model, num_heads, name=\"attention\")(\n",
    "      inputs, inputs, inputs, padding_mask\n",
    "  )\n",
    "\n",
    "  # 드롭아웃 + 잔차 연결 + 정규화\n",
    "  attention = tf.keras.layers.Dropout(rate=dropout)(attention)\n",
    "  attention = tf.keras.layers.LayerNormalization(epsilon=1e-6)(inputs + attention)\n",
    "\n",
    "  # 포지션 와이즈 피드포워드\n",
    "  outputs = tf.keras.layers.Dense(units=dff, activation='relu')(attention)\n",
    "  outputs = tf.keras.layers.Dense(units=d_model)(outputs)\n",
    "\n",
    "  # 드롭아웃 + 잔차 연결 + 정규화\n",
    "  outputs = tf.keras.layers.Dropout(rate=dropout)(outputs)\n",
    "  outputs = tf.keras.layers.LayerNormalization(epsilon=1e-6)(attention + outputs)\n",
    "\n",
    "  return tf.keras.Model(inputs=[inputs, padding_mask], outputs=outputs, name=name)\n"
   ]
  },
  {
   "cell_type": "code",
   "execution_count": 29,
   "id": "d758eeb2-eb93-49c0-972b-ab87589ceea8",
   "metadata": {},
   "outputs": [],
   "source": [
    "def encoder(vocab_size, num_layers, dff,\n",
    "            d_model, num_heads, dropout,\n",
    "            name=\"encoder\"):\n",
    "  \n",
    "  inputs = tf.keras.Input(shape=(None,), name=\"inputs\")\n",
    "  padding_mask = tf.keras.Input(shape=(1, 1, None), name=\"padding_mask\")\n",
    "\n",
    "  embeddings = tf.keras.layers.Embedding(vocab_size, d_model, mask_zero=True)(inputs)\n",
    "  embeddings *= tf.math.sqrt(tf.cast(d_model, tf.float32))\n",
    "  embeddings = PositionalEncoding(1000, d_model)(embeddings)\n",
    "  outputs = tf.keras.layers.Dropout(rate=dropout)(embeddings)\n",
    "\n",
    "  for i in range(num_layers):\n",
    "    outputs = encoder_layer(\n",
    "        dff=dff, d_model=d_model, num_heads=num_heads, dropout=dropout, name=f\"encoder_layer_{i}\"\n",
    "    )(inputs=[outputs, padding_mask])\n",
    "\n",
    "  return tf.keras.Model(inputs=[inputs, padding_mask], outputs=outputs, name=name)\n"
   ]
  },
  {
   "cell_type": "markdown",
   "id": "aabc7c7d-1404-44d1-aced-cdd83039a4ec",
   "metadata": {},
   "source": [
    "### 디코더"
   ]
  },
  {
   "cell_type": "code",
   "execution_count": 30,
   "id": "555d936d-b212-4ebe-a9a6-e193ff3758ef",
   "metadata": {},
   "outputs": [],
   "source": [
    "# 디코더의 첫번째 서브층(sublayer)에서 미래 토큰을 Mask하는 함수\n",
    "def create_look_ahead_mask(x):\n",
    "  seq_len = tf.shape(x)[1]\n",
    "  look_ahead_mask = 1 - tf.linalg.band_part(tf.ones((seq_len, seq_len)), -1, 0)\n",
    "  padding_mask = create_padding_mask(x) # 패딩 마스크도 포함\n",
    "  return tf.maximum(look_ahead_mask, padding_mask)\n"
   ]
  },
  {
   "cell_type": "code",
   "execution_count": 31,
   "id": "ea59d00b-70b3-499a-8db1-f36126a7e7df",
   "metadata": {},
   "outputs": [],
   "source": [
    "def decoder_layer(dff, d_model, num_heads, dropout, name=\"decoder_layer\"):\n",
    "  inputs = tf.keras.Input(shape=(None, d_model), name=\"inputs\")\n",
    "  enc_outputs = tf.keras.Input(shape=(None, d_model), name=\"encoder_outputs\")\n",
    "\n",
    "  look_ahead_mask = tf.keras.Input(shape=(1, None, None), name=\"look_ahead_mask\")\n",
    "  padding_mask = tf.keras.Input(shape=(1, 1, None), name='padding_mask')\n",
    "\n",
    "  # 1. 첫 번째 멀티-헤드 어텐션 (마스크드 셀프 어텐션)\n",
    "  attention1 = MultiHeadAttention(d_model, num_heads, name=\"attention_1\")(\n",
    "      inputs, inputs, inputs, look_ahead_mask\n",
    "  )\n",
    "  attention1 = tf.keras.layers.LayerNormalization(epsilon=1e-6)(attention1 + inputs)\n",
    "\n",
    "  # 2. 두 번째 멀티-헤드 어텐션 (인코더-디코더 어텐션)\n",
    "  attention2 = MultiHeadAttention(d_model, num_heads, name=\"attention_2\")(\n",
    "      attention1, enc_outputs, enc_outputs, padding_mask\n",
    "  )\n",
    "  attention2 = tf.keras.layers.Dropout(rate=dropout)(attention2)\n",
    "  attention2 = tf.keras.layers.LayerNormalization(epsilon=1e-6)(attention2 + attention1)\n",
    "\n",
    "  # 3. 포지션 와이즈 피드 포워드\n",
    "  outputs = tf.keras.layers.Dense(units=dff, activation='relu')(attention2)\n",
    "  outputs = tf.keras.layers.Dense(units=d_model)(outputs)\n",
    "  outputs = tf.keras.layers.Dropout(rate=dropout)(outputs)\n",
    "  outputs = tf.keras.layers.LayerNormalization(epsilon=1e-6)(outputs + attention2)\n",
    "\n",
    "  return tf.keras.Model(\n",
    "      inputs=[inputs, enc_outputs, look_ahead_mask, padding_mask],\n",
    "      outputs=outputs,\n",
    "      name=name\n",
    "  )\n"
   ]
  },
  {
   "cell_type": "code",
   "execution_count": 32,
   "id": "6f2c546d-d729-42af-8769-2f2702f85773",
   "metadata": {},
   "outputs": [],
   "source": [
    "def decoder(vocab_size, num_layers, dff,\n",
    "            d_model, num_heads, dropout,\n",
    "            name='decoder'):\n",
    "\n",
    "  inputs = tf.keras.Input(shape=(None,), name='inputs')\n",
    "  enc_outputs = tf.keras.Input(shape=(None, d_model), name='encoder_outputs')\n",
    "  look_ahead_mask = tf.keras.Input(shape=(1, None, None), name='look_ahead_mask')\n",
    "  padding_mask = tf.keras.Input(shape=(1, 1, None), name='padding_mask')\n",
    "\n",
    "  embeddings = tf.keras.layers.Embedding(vocab_size, d_model)(inputs)\n",
    "  embeddings *= tf.math.sqrt(tf.cast(d_model, tf.float32))\n",
    "  embeddings = PositionalEncoding(1000, d_model)(embeddings)  # max_position으로 수정 권장\n",
    "  outputs = tf.keras.layers.Dropout(rate=dropout)(embeddings)\n",
    "\n",
    "  for i in range(num_layers):\n",
    "      outputs = decoder_layer(\n",
    "          dff=dff, d_model=d_model, num_heads=num_heads,\n",
    "          dropout=dropout, name=f'decoder_layer_{i}'\n",
    "      )([\n",
    "          outputs,           # 디코더 현재 입력\n",
    "          enc_outputs,       # 인코더 출력\n",
    "          look_ahead_mask,   # 첫 번째 마스크\n",
    "          padding_mask       # 두 번째 마스크\n",
    "  ])\n",
    "\n",
    "\n",
    "  return tf.keras.Model(\n",
    "      inputs=[inputs, enc_outputs, look_ahead_mask, padding_mask],\n",
    "      outputs=outputs,\n",
    "      name=name\n",
    "  )\n"
   ]
  },
  {
   "cell_type": "markdown",
   "id": "3b39bb52-183c-4a5f-8dc9-98cb757b18d5",
   "metadata": {},
   "source": [
    "### 트랜스포머"
   ]
  },
  {
   "cell_type": "code",
   "execution_count": 33,
   "id": "3a15bd91-a444-47cc-9fe9-b91731921915",
   "metadata": {},
   "outputs": [],
   "source": [
    "def transformer(vocab_size, num_layers, dff,\n",
    "                d_model, num_heads, dropout,\n",
    "                name=\"transformer\"):\n",
    "\n",
    "  # 인코더의 입력\n",
    "  inputs = tf.keras.Input(shape=(None,), name=\"inputs\")\n",
    "\n",
    "  # 디코더의 입력\n",
    "  dec_inputs = tf.keras.Input(shape=(None,), name=\"dec_inputs\")\n",
    "\n",
    "  # 인코더의 패딩 마스크\n",
    "  enc_padding_mask = tf.keras.layers.Lambda(\n",
    "      create_padding_mask, output_shape=(1, 1, None),\n",
    "      name='enc_padding_mask')(inputs)\n",
    "\n",
    "  # 디코더의 룩어헤드 마스크\n",
    "  look_ahead_mask = tf.keras.layers.Lambda(\n",
    "      create_look_ahead_mask, output_shape=(1, None, None),\n",
    "      name='look_ahead_mask')(dec_inputs)\n",
    "\n",
    "  # 디코더의 패딩 마스크\n",
    "  dec_padding_mask = tf.keras.layers.Lambda(\n",
    "      create_padding_mask, output_shape=(1, 1, None),\n",
    "      name='dec_padding_mask')(inputs)\n",
    "\n",
    "  # 인코더 출력\n",
    "  enc_outputs = encoder(\n",
    "      vocab_size=vocab_size,\n",
    "      num_layers=num_layers,\n",
    "      dff=dff,\n",
    "      d_model=d_model,\n",
    "      num_heads=num_heads,\n",
    "      dropout=dropout,\n",
    "  )([inputs, enc_padding_mask])\n",
    "\n",
    "  # 디코더 출력\n",
    "  dec_outputs = decoder(\n",
    "      vocab_size=vocab_size,\n",
    "      num_layers=num_layers,\n",
    "      dff=dff,\n",
    "      d_model=d_model,\n",
    "      num_heads=num_heads,\n",
    "      dropout=dropout,\n",
    "  )(\n",
    "      [dec_inputs, enc_outputs, look_ahead_mask, dec_padding_mask]\n",
    "  )\n",
    "\n",
    "  # 출력층\n",
    "  outputs = tf.keras.layers.Dense(units=vocab_size, name=\"outputs\")(dec_outputs)\n",
    "\n",
    "  return tf.keras.Model(inputs=[inputs, dec_inputs], outputs=outputs, name=name)\n"
   ]
  },
  {
   "cell_type": "markdown",
   "id": "026ff09c-894f-4f42-a394-43880ea8e7aa",
   "metadata": {},
   "source": [
    "### 손실함수"
   ]
  },
  {
   "cell_type": "code",
   "execution_count": 34,
   "id": "b776f4da-2659-4142-b192-2ff4585a1fbd",
   "metadata": {},
   "outputs": [],
   "source": [
    "def loss_function(y_true, y_pred):\n",
    "  y_true = tf.reshape(y_true, shape=(-1, MAX_LENGTH - 1))\n",
    "\n",
    "  loss = tf.keras.losses.SparseCategoricalCrossentropy(\n",
    "      from_logits=True, reduction='none')(y_true, y_pred)\n",
    "\n",
    "  mask = tf.cast(tf.not_equal(y_true, 0), tf.float32)\n",
    "  loss = tf.multiply(loss, mask)\n",
    "\n",
    "  return tf.reduce_mean(loss)\n"
   ]
  },
  {
   "cell_type": "markdown",
   "id": "8ea65799-053b-482e-b7b9-a755d7919e4b",
   "metadata": {},
   "source": [
    "### 커스텀된 확습률\n",
    "- 모델학습 초기에 learning rate를 급격히 높였다가, 이후 train step이 진행됨에 따라 서서히 낮추어 가면서 안정적으로 수렴하게 하는 고급 기법을 널리 사용하고 있습니다. 이런 방법을 커스텀 학습률 스케줄링(Custom Learning rate Scheduling)이라고 합니다."
   ]
  },
  {
   "cell_type": "code",
   "execution_count": 35,
   "id": "2e1a14cc-a7cd-4949-af51-201b562fd6df",
   "metadata": {},
   "outputs": [],
   "source": [
    "class CustomSchedule(tf.keras.optimizers.schedules.LearningRateSchedule):\n",
    "\n",
    "  def __init__(self, d_model, warmup_steps=4000):\n",
    "    super(CustomSchedule, self).__init__()\n",
    "    self.d_model = d_model\n",
    "    self.d_model = tf.cast(self.d_model, tf.float32)\n",
    "    self.warmup_steps = warmup_steps\n",
    "\n",
    "  def __call__(self, step):\n",
    "    step = tf.cast(step, tf.float32)\n",
    "    arg1 = tf.math.rsqrt(step)\n",
    "    arg2 = step * (self.warmup_steps**-1.5)\n",
    "\n",
    "    return tf.math.rsqrt(self.d_model) * tf.math.minimum(arg1, arg2)\n"
   ]
  },
  {
   "cell_type": "code",
   "execution_count": 36,
   "id": "28d39e80-0726-4546-8ff0-8e781c20968a",
   "metadata": {},
   "outputs": [
    {
     "data": {
      "text/plain": [
       "Text(0.5, 0, 'Train Step')"
      ]
     },
     "execution_count": 36,
     "metadata": {},
     "output_type": "execute_result"
    },
    {
     "data": {
      "image/png": "[encoded data removed]",
      "text/plain": [
       "<Figure size 640x480 with 1 Axes>"
      ]
     },
     "metadata": {},
     "output_type": "display_data"
    }
   ],
   "source": [
    "sample_learning_rate = CustomSchedule(d_model=128)\n",
    "\n",
    "plt.plot(sample_learning_rate(tf.range(200000, dtype=tf.float32)))\n",
    "plt.ylabel(\"Learning Rate\")\n",
    "plt.xlabel(\"Train Step\")\n"
   ]
  },
  {
   "cell_type": "markdown",
   "id": "6e548f8a-d26d-469f-8b75-54ecd233a899",
   "metadata": {},
   "source": [
    "### 모델 생성"
   ]
  },
  {
   "cell_type": "code",
   "execution_count": 37,
   "id": "2aa8154e-ade7-42c9-be7a-7d1aa6c20865",
   "metadata": {},
   "outputs": [
    {
     "name": "stdout",
     "output_type": "stream",
     "text": [
      "WARNING:tensorflow:From C:\\Users\\yjneo\\anaconda3\\Lib\\site-packages\\keras\\src\\backend\\common\\global_state.py:82: The name tf.reset_default_graph is deprecated. Please use tf.compat.v1.reset_default_graph instead.\n",
      "\n"
     ]
    },
    {
     "name": "stderr",
     "output_type": "stream",
     "text": [
      "WARNING:tensorflow:From C:\\Users\\yjneo\\anaconda3\\Lib\\site-packages\\keras\\src\\backend\\common\\global_state.py:82: The name tf.reset_default_graph is deprecated. Please use tf.compat.v1.reset_default_graph instead.\n",
      "\n"
     ]
    },
    {
     "data": {
      "text/html": [
       "<pre style=\"white-space:pre;overflow-x:auto;line-height:normal;font-family:Menlo,'DejaVu Sans Mono',consolas,'Courier New',monospace\"><span style=\"font-weight: bold\">Model: \"transformer\"</span>\n",
       "</pre>\n"
      ],
      "text/plain": [
       "\u001b[1mModel: \"transformer\"\u001b[0m\n"
      ]
     },
     "metadata": {},
     "output_type": "display_data"
    },
    {
     "data": {
      "text/html": [
       "<pre style=\"white-space:pre;overflow-x:auto;line-height:normal;font-family:Menlo,'DejaVu Sans Mono',consolas,'Courier New',monospace\">┏━━━━━━━━━━━━━━━━━━━━━━━━━━━━━━━┳━━━━━━━━━━━━━━━━━━━━━━━━━━━┳━━━━━━━━━━━━━━━━━┳━━━━━━━━━━━━━━━━━━━━━━━━━━━━┓\n",
       "┃<span style=\"font-weight: bold\"> Layer (type)                  </span>┃<span style=\"font-weight: bold\"> Output Shape              </span>┃<span style=\"font-weight: bold\">         Param # </span>┃<span style=\"font-weight: bold\"> Connected to               </span>┃\n",
       "┡━━━━━━━━━━━━━━━━━━━━━━━━━━━━━━━╇━━━━━━━━━━━━━━━━━━━━━━━━━━━╇━━━━━━━━━━━━━━━━━╇━━━━━━━━━━━━━━━━━━━━━━━━━━━━┩\n",
       "│ inputs (<span style=\"color: #0087ff; text-decoration-color: #0087ff\">InputLayer</span>)           │ (<span style=\"color: #00d7ff; text-decoration-color: #00d7ff\">None</span>, <span style=\"color: #00d7ff; text-decoration-color: #00d7ff\">None</span>)              │               <span style=\"color: #00af00; text-decoration-color: #00af00\">0</span> │ -                          │\n",
       "├───────────────────────────────┼───────────────────────────┼─────────────────┼────────────────────────────┤\n",
       "│ dec_inputs (<span style=\"color: #0087ff; text-decoration-color: #0087ff\">InputLayer</span>)       │ (<span style=\"color: #00d7ff; text-decoration-color: #00d7ff\">None</span>, <span style=\"color: #00d7ff; text-decoration-color: #00d7ff\">None</span>)              │               <span style=\"color: #00af00; text-decoration-color: #00af00\">0</span> │ -                          │\n",
       "├───────────────────────────────┼───────────────────────────┼─────────────────┼────────────────────────────┤\n",
       "│ enc_padding_mask (<span style=\"color: #0087ff; text-decoration-color: #0087ff\">Lambda</span>)     │ (<span style=\"color: #00d7ff; text-decoration-color: #00d7ff\">None</span>, <span style=\"color: #00af00; text-decoration-color: #00af00\">1</span>, <span style=\"color: #00af00; text-decoration-color: #00af00\">1</span>, <span style=\"color: #00d7ff; text-decoration-color: #00d7ff\">None</span>)        │               <span style=\"color: #00af00; text-decoration-color: #00af00\">0</span> │ inputs[<span style=\"color: #00af00; text-decoration-color: #00af00\">0</span>][<span style=\"color: #00af00; text-decoration-color: #00af00\">0</span>]               │\n",
       "├───────────────────────────────┼───────────────────────────┼─────────────────┼────────────────────────────┤\n",
       "│ encoder (<span style=\"color: #0087ff; text-decoration-color: #0087ff\">Functional</span>)          │ (<span style=\"color: #00d7ff; text-decoration-color: #00d7ff\">None</span>, <span style=\"color: #00d7ff; text-decoration-color: #00d7ff\">None</span>, <span style=\"color: #00af00; text-decoration-color: #00af00\">256</span>)         │       <span style=\"color: #00af00; text-decoration-color: #00af00\">3,149,568</span> │ inputs[<span style=\"color: #00af00; text-decoration-color: #00af00\">0</span>][<span style=\"color: #00af00; text-decoration-color: #00af00\">0</span>],              │\n",
       "│                               │                           │                 │ enc_padding_mask[<span style=\"color: #00af00; text-decoration-color: #00af00\">0</span>][<span style=\"color: #00af00; text-decoration-color: #00af00\">0</span>]     │\n",
       "├───────────────────────────────┼───────────────────────────┼─────────────────┼────────────────────────────┤\n",
       "│ look_ahead_mask (<span style=\"color: #0087ff; text-decoration-color: #0087ff\">Lambda</span>)      │ (<span style=\"color: #00d7ff; text-decoration-color: #00d7ff\">None</span>, <span style=\"color: #00af00; text-decoration-color: #00af00\">1</span>, <span style=\"color: #00d7ff; text-decoration-color: #00d7ff\">None</span>, <span style=\"color: #00d7ff; text-decoration-color: #00d7ff\">None</span>)     │               <span style=\"color: #00af00; text-decoration-color: #00af00\">0</span> │ dec_inputs[<span style=\"color: #00af00; text-decoration-color: #00af00\">0</span>][<span style=\"color: #00af00; text-decoration-color: #00af00\">0</span>]           │\n",
       "├───────────────────────────────┼───────────────────────────┼─────────────────┼────────────────────────────┤\n",
       "│ dec_padding_mask (<span style=\"color: #0087ff; text-decoration-color: #0087ff\">Lambda</span>)     │ (<span style=\"color: #00d7ff; text-decoration-color: #00d7ff\">None</span>, <span style=\"color: #00af00; text-decoration-color: #00af00\">1</span>, <span style=\"color: #00af00; text-decoration-color: #00af00\">1</span>, <span style=\"color: #00d7ff; text-decoration-color: #00d7ff\">None</span>)        │               <span style=\"color: #00af00; text-decoration-color: #00af00\">0</span> │ inputs[<span style=\"color: #00af00; text-decoration-color: #00af00\">0</span>][<span style=\"color: #00af00; text-decoration-color: #00af00\">0</span>]               │\n",
       "├───────────────────────────────┼───────────────────────────┼─────────────────┼────────────────────────────┤\n",
       "│ decoder (<span style=\"color: #0087ff; text-decoration-color: #0087ff\">Functional</span>)          │ (<span style=\"color: #00d7ff; text-decoration-color: #00d7ff\">None</span>, <span style=\"color: #00d7ff; text-decoration-color: #00d7ff\">None</span>, <span style=\"color: #00af00; text-decoration-color: #00af00\">256</span>)         │       <span style=\"color: #00af00; text-decoration-color: #00af00\">3,676,928</span> │ dec_inputs[<span style=\"color: #00af00; text-decoration-color: #00af00\">0</span>][<span style=\"color: #00af00; text-decoration-color: #00af00\">0</span>],          │\n",
       "│                               │                           │                 │ encoder[<span style=\"color: #00af00; text-decoration-color: #00af00\">0</span>][<span style=\"color: #00af00; text-decoration-color: #00af00\">0</span>],             │\n",
       "│                               │                           │                 │ look_ahead_mask[<span style=\"color: #00af00; text-decoration-color: #00af00\">0</span>][<span style=\"color: #00af00; text-decoration-color: #00af00\">0</span>],     │\n",
       "│                               │                           │                 │ dec_padding_mask[<span style=\"color: #00af00; text-decoration-color: #00af00\">0</span>][<span style=\"color: #00af00; text-decoration-color: #00af00\">0</span>]     │\n",
       "├───────────────────────────────┼───────────────────────────┼─────────────────┼────────────────────────────┤\n",
       "│ outputs (<span style=\"color: #0087ff; text-decoration-color: #0087ff\">Dense</span>)               │ (<span style=\"color: #00d7ff; text-decoration-color: #00d7ff\">None</span>, <span style=\"color: #00d7ff; text-decoration-color: #00d7ff\">None</span>, <span style=\"color: #00af00; text-decoration-color: #00af00\">8185</span>)        │       <span style=\"color: #00af00; text-decoration-color: #00af00\">2,103,545</span> │ decoder[<span style=\"color: #00af00; text-decoration-color: #00af00\">0</span>][<span style=\"color: #00af00; text-decoration-color: #00af00\">0</span>]              │\n",
       "└───────────────────────────────┴───────────────────────────┴─────────────────┴────────────────────────────┘\n",
       "</pre>\n"
      ],
      "text/plain": [
       "┏━━━━━━━━━━━━━━━━━━━━━━━━━━━━━━━┳━━━━━━━━━━━━━━━━━━━━━━━━━━━┳━━━━━━━━━━━━━━━━━┳━━━━━━━━━━━━━━━━━━━━━━━━━━━━┓\n",
       "┃\u001b[1m \u001b[0m\u001b[1mLayer (type)                 \u001b[0m\u001b[1m \u001b[0m┃\u001b[1m \u001b[0m\u001b[1mOutput Shape             \u001b[0m\u001b[1m \u001b[0m┃\u001b[1m \u001b[0m\u001b[1m        Param #\u001b[0m\u001b[1m \u001b[0m┃\u001b[1m \u001b[0m\u001b[1mConnected to              \u001b[0m\u001b[1m \u001b[0m┃\n",
       "┡━━━━━━━━━━━━━━━━━━━━━━━━━━━━━━━╇━━━━━━━━━━━━━━━━━━━━━━━━━━━╇━━━━━━━━━━━━━━━━━╇━━━━━━━━━━━━━━━━━━━━━━━━━━━━┩\n",
       "│ inputs (\u001b[38;5;33mInputLayer\u001b[0m)           │ (\u001b[38;5;45mNone\u001b[0m, \u001b[38;5;45mNone\u001b[0m)              │               \u001b[38;5;34m0\u001b[0m │ -                          │\n",
       "├───────────────────────────────┼───────────────────────────┼─────────────────┼────────────────────────────┤\n",
       "│ dec_inputs (\u001b[38;5;33mInputLayer\u001b[0m)       │ (\u001b[38;5;45mNone\u001b[0m, \u001b[38;5;45mNone\u001b[0m)              │               \u001b[38;5;34m0\u001b[0m │ -                          │\n",
       "├───────────────────────────────┼───────────────────────────┼─────────────────┼────────────────────────────┤\n",
       "│ enc_padding_mask (\u001b[38;5;33mLambda\u001b[0m)     │ (\u001b[38;5;45mNone\u001b[0m, \u001b[38;5;34m1\u001b[0m, \u001b[38;5;34m1\u001b[0m, \u001b[38;5;45mNone\u001b[0m)        │               \u001b[38;5;34m0\u001b[0m │ inputs[\u001b[38;5;34m0\u001b[0m][\u001b[38;5;34m0\u001b[0m]               │\n",
       "├───────────────────────────────┼───────────────────────────┼─────────────────┼────────────────────────────┤\n",
       "│ encoder (\u001b[38;5;33mFunctional\u001b[0m)          │ (\u001b[38;5;45mNone\u001b[0m, \u001b[38;5;45mNone\u001b[0m, \u001b[38;5;34m256\u001b[0m)         │       \u001b[38;5;34m3,149,568\u001b[0m │ inputs[\u001b[38;5;34m0\u001b[0m][\u001b[38;5;34m0\u001b[0m],              │\n",
       "│                               │                           │                 │ enc_padding_mask[\u001b[38;5;34m0\u001b[0m][\u001b[38;5;34m0\u001b[0m]     │\n",
       "├───────────────────────────────┼───────────────────────────┼─────────────────┼────────────────────────────┤\n",
       "│ look_ahead_mask (\u001b[38;5;33mLambda\u001b[0m)      │ (\u001b[38;5;45mNone\u001b[0m, \u001b[38;5;34m1\u001b[0m, \u001b[38;5;45mNone\u001b[0m, \u001b[38;5;45mNone\u001b[0m)     │               \u001b[38;5;34m0\u001b[0m │ dec_inputs[\u001b[38;5;34m0\u001b[0m][\u001b[38;5;34m0\u001b[0m]           │\n",
       "├───────────────────────────────┼───────────────────────────┼─────────────────┼────────────────────────────┤\n",
       "│ dec_padding_mask (\u001b[38;5;33mLambda\u001b[0m)     │ (\u001b[38;5;45mNone\u001b[0m, \u001b[38;5;34m1\u001b[0m, \u001b[38;5;34m1\u001b[0m, \u001b[38;5;45mNone\u001b[0m)        │               \u001b[38;5;34m0\u001b[0m │ inputs[\u001b[38;5;34m0\u001b[0m][\u001b[38;5;34m0\u001b[0m]               │\n",
       "├───────────────────────────────┼───────────────────────────┼─────────────────┼────────────────────────────┤\n",
       "│ decoder (\u001b[38;5;33mFunctional\u001b[0m)          │ (\u001b[38;5;45mNone\u001b[0m, \u001b[38;5;45mNone\u001b[0m, \u001b[38;5;34m256\u001b[0m)         │       \u001b[38;5;34m3,676,928\u001b[0m │ dec_inputs[\u001b[38;5;34m0\u001b[0m][\u001b[38;5;34m0\u001b[0m],          │\n",
       "│                               │                           │                 │ encoder[\u001b[38;5;34m0\u001b[0m][\u001b[38;5;34m0\u001b[0m],             │\n",
       "│                               │                           │                 │ look_ahead_mask[\u001b[38;5;34m0\u001b[0m][\u001b[38;5;34m0\u001b[0m],     │\n",
       "│                               │                           │                 │ dec_padding_mask[\u001b[38;5;34m0\u001b[0m][\u001b[38;5;34m0\u001b[0m]     │\n",
       "├───────────────────────────────┼───────────────────────────┼─────────────────┼────────────────────────────┤\n",
       "│ outputs (\u001b[38;5;33mDense\u001b[0m)               │ (\u001b[38;5;45mNone\u001b[0m, \u001b[38;5;45mNone\u001b[0m, \u001b[38;5;34m8185\u001b[0m)        │       \u001b[38;5;34m2,103,545\u001b[0m │ decoder[\u001b[38;5;34m0\u001b[0m][\u001b[38;5;34m0\u001b[0m]              │\n",
       "└───────────────────────────────┴───────────────────────────┴─────────────────┴────────────────────────────┘\n"
      ]
     },
     "metadata": {},
     "output_type": "display_data"
    },
    {
     "data": {
      "text/html": [
       "<pre style=\"white-space:pre;overflow-x:auto;line-height:normal;font-family:Menlo,'DejaVu Sans Mono',consolas,'Courier New',monospace\"><span style=\"font-weight: bold\"> Total params: </span><span style=\"color: #00af00; text-decoration-color: #00af00\">8,930,041</span> (34.07 MB)\n",
       "</pre>\n"
      ],
      "text/plain": [
       "\u001b[1m Total params: \u001b[0m\u001b[38;5;34m8,930,041\u001b[0m (34.07 MB)\n"
      ]
     },
     "metadata": {},
     "output_type": "display_data"
    },
    {
     "data": {
      "text/html": [
       "<pre style=\"white-space:pre;overflow-x:auto;line-height:normal;font-family:Menlo,'DejaVu Sans Mono',consolas,'Courier New',monospace\"><span style=\"font-weight: bold\"> Trainable params: </span><span style=\"color: #00af00; text-decoration-color: #00af00\">8,930,041</span> (34.07 MB)\n",
       "</pre>\n"
      ],
      "text/plain": [
       "\u001b[1m Trainable params: \u001b[0m\u001b[38;5;34m8,930,041\u001b[0m (34.07 MB)\n"
      ]
     },
     "metadata": {},
     "output_type": "display_data"
    },
    {
     "data": {
      "text/html": [
       "<pre style=\"white-space:pre;overflow-x:auto;line-height:normal;font-family:Menlo,'DejaVu Sans Mono',consolas,'Courier New',monospace\"><span style=\"font-weight: bold\"> Non-trainable params: </span><span style=\"color: #00af00; text-decoration-color: #00af00\">0</span> (0.00 B)\n",
       "</pre>\n"
      ],
      "text/plain": [
       "\u001b[1m Non-trainable params: \u001b[0m\u001b[38;5;34m0\u001b[0m (0.00 B)\n"
      ]
     },
     "metadata": {},
     "output_type": "display_data"
    }
   ],
   "source": [
    "tf.keras.backend.clear_session()\n",
    "\n",
    "# 하이퍼파라미터\n",
    "D_MODEL = 256\n",
    "NUM_LAYERS = 2\n",
    "NUM_HEADS = 8\n",
    "DFF = 512\n",
    "DROPOUT = 0.1\n",
    "\n",
    "model = transformer(\n",
    "    vocab_size=VOCAB_SIZE,\n",
    "    num_layers=NUM_LAYERS,\n",
    "    dff=DFF,\n",
    "    d_model=D_MODEL,\n",
    "    num_heads=NUM_HEADS,\n",
    "    dropout=DROPOUT)\n",
    "model.summary()"
   ]
  },
  {
   "cell_type": "markdown",
   "id": "efd99dd7-8eee-4b11-9f43-1414569ffeba",
   "metadata": {},
   "source": [
    "###  모델 컴파일"
   ]
  },
  {
   "cell_type": "code",
   "execution_count": 38,
   "id": "1327e88d-3409-4ad0-915b-9224d12f0cae",
   "metadata": {},
   "outputs": [],
   "source": [
    "tf.keras.backend.clear_session()\n",
    "\n",
    "learning_rate = CustomSchedule(D_MODEL)\n",
    "\n",
    "optimizer = tf.keras.optimizers.Adam(\n",
    "    learning_rate, beta_1=0.9, beta_2=0.98, epsilon=1e-9)\n",
    "\n",
    "def accuracy(y_true, y_pred):\n",
    "  # 레이블의 크기는 (batch_size, MAX_LENGTH - 1)\n",
    "  y_true = tf.reshape(y_true, shape=(-1, MAX_LENGTH - 1))\n",
    "  return tf.keras.metrics.sparse_categorical_accuracy(y_true, y_pred)\n",
    "\n",
    "model.compile(optimizer=optimizer, loss=loss_function, metrics=[accuracy])\n"
   ]
  },
  {
   "cell_type": "code",
   "execution_count": 41,
   "id": "dd35b50b-a8f4-408a-a64b-92c29b73a2ec",
   "metadata": {},
   "outputs": [],
   "source": [
    "# # 1. 반드시 정수형 배열인지 확인\n",
    "# # questions = np.array(questions, dtype=np.int32)\n",
    "# # answers = np.array(answers, dtype=np.int32)\n",
    "# tf.keras.backend.clear_session()  # 모델 세션 초기화 \n",
    "# # 2. Dataset 생성 시, slicing 정확히!\n",
    "# new_dataset = tf.data.Dataset.from_tensor_slices((\n",
    "#     {\n",
    "#         'inputs': questions,\n",
    "#         'dec_inputs': answers[:, :-1]\n",
    "#     },\n",
    "#     {\n",
    "#         'outputs': answers[:, 1:]\n",
    "#     },\n",
    "# ))\n",
    "\n",
    "# # 3. batch, shuffle, prefetch\n",
    "# new_dataset = new_dataset.shuffle(BUFFER_SIZE)\n",
    "# new_dataset = new_dataset.batch(BATCH_SIZE)\n",
    "# new_dataset = new_dataset.prefetch(tf.data.AUTOTUNE)\n"
   ]
  },
  {
   "cell_type": "code",
   "execution_count": 42,
   "id": "5e395e75-fe54-4e2d-a3a4-af0969de3e54",
   "metadata": {},
   "outputs": [
    {
     "name": "stdout",
     "output_type": "stream",
     "text": [
      "inputs: (64, 40)\n",
      "dec_inputs: (64, 39)\n",
      "outputs: (64, 39)\n"
     ]
    }
   ],
   "source": [
    "# for x, y in new_dataset.take(1):\n",
    "#     print(\"inputs:\", x['inputs'].shape)      # ✅ (batch_size, seq_len)\n",
    "#     print(\"dec_inputs:\", x['dec_inputs'].shape)\n",
    "#     print(\"outputs:\", y['outputs'].shape)\n"
   ]
  },
  {
   "cell_type": "markdown",
   "id": "b433796f-f300-470e-a136-4685b771d21b",
   "metadata": {},
   "source": [
    "##  모델 학습"
   ]
  },
  {
   "cell_type": "code",
   "execution_count": 80,
   "id": "d37b6f9d-d5bb-4972-b88f-54d353ed5fc9",
   "metadata": {},
   "outputs": [
    {
     "name": "stdout",
     "output_type": "stream",
     "text": [
      "Epoch 1/50\n",
      "\u001b[1m185/185\u001b[0m \u001b[32m━━━━━━━━━━━━━━━━━━━━\u001b[0m\u001b[37m\u001b[0m \u001b[1m110s\u001b[0m 591ms/step - accuracy: 0.0317 - loss: 0.8910\n",
      "Epoch 2/50\n",
      "\u001b[1m185/185\u001b[0m \u001b[32m━━━━━━━━━━━━━━━━━━━━\u001b[0m\u001b[37m\u001b[0m \u001b[1m105s\u001b[0m 568ms/step - accuracy: 0.0356 - loss: 0.8332\n",
      "Epoch 3/50\n",
      "\u001b[1m185/185\u001b[0m \u001b[32m━━━━━━━━━━━━━━━━━━━━\u001b[0m\u001b[37m\u001b[0m \u001b[1m104s\u001b[0m 564ms/step - accuracy: 0.0414 - loss: 0.7645\n",
      "Epoch 4/50\n",
      "\u001b[1m185/185\u001b[0m \u001b[32m━━━━━━━━━━━━━━━━━━━━\u001b[0m\u001b[37m\u001b[0m \u001b[1m109s\u001b[0m 590ms/step - accuracy: 0.0486 - loss: 0.6880\n",
      "Epoch 5/50\n",
      "\u001b[1m185/185\u001b[0m \u001b[32m━━━━━━━━━━━━━━━━━━━━\u001b[0m\u001b[37m\u001b[0m \u001b[1m101s\u001b[0m 544ms/step - accuracy: 0.0574 - loss: 0.6077\n",
      "Epoch 6/50\n",
      "\u001b[1m185/185\u001b[0m \u001b[32m━━━━━━━━━━━━━━━━━━━━\u001b[0m\u001b[37m\u001b[0m \u001b[1m114s\u001b[0m 614ms/step - accuracy: 0.0668 - loss: 0.5269\n",
      "Epoch 7/50\n",
      "\u001b[1m185/185\u001b[0m \u001b[32m━━━━━━━━━━━━━━━━━━━━\u001b[0m\u001b[37m\u001b[0m \u001b[1m104s\u001b[0m 559ms/step - accuracy: 0.0772 - loss: 0.4421\n",
      "Epoch 8/50\n",
      "\u001b[1m185/185\u001b[0m \u001b[32m━━━━━━━━━━━━━━━━━━━━\u001b[0m\u001b[37m\u001b[0m \u001b[1m105s\u001b[0m 566ms/step - accuracy: 0.0889 - loss: 0.3593\n",
      "Epoch 9/50\n",
      "\u001b[1m185/185\u001b[0m \u001b[32m━━━━━━━━━━━━━━━━━━━━\u001b[0m\u001b[37m\u001b[0m \u001b[1m110s\u001b[0m 595ms/step - accuracy: 0.1010 - loss: 0.2796\n",
      "Epoch 10/50\n",
      "\u001b[1m185/185\u001b[0m \u001b[32m━━━━━━━━━━━━━━━━━━━━\u001b[0m\u001b[37m\u001b[0m \u001b[1m113s\u001b[0m 613ms/step - accuracy: 0.1112 - loss: 0.2098\n",
      "Epoch 11/50\n",
      "\u001b[1m185/185\u001b[0m \u001b[32m━━━━━━━━━━━━━━━━━━━━\u001b[0m\u001b[37m\u001b[0m \u001b[1m106s\u001b[0m 571ms/step - accuracy: 0.1212 - loss: 0.1533\n",
      "Epoch 12/50\n",
      "\u001b[1m185/185\u001b[0m \u001b[32m━━━━━━━━━━━━━━━━━━━━\u001b[0m\u001b[37m\u001b[0m \u001b[1m106s\u001b[0m 571ms/step - accuracy: 0.1295 - loss: 0.1072\n",
      "Epoch 13/50\n",
      "\u001b[1m185/185\u001b[0m \u001b[32m━━━━━━━━━━━━━━━━━━━━\u001b[0m\u001b[37m\u001b[0m \u001b[1m102s\u001b[0m 549ms/step - accuracy: 0.1345 - loss: 0.0747\n",
      "Epoch 14/50\n",
      "\u001b[1m185/185\u001b[0m \u001b[32m━━━━━━━━━━━━━━━━━━━━\u001b[0m\u001b[37m\u001b[0m \u001b[1m109s\u001b[0m 590ms/step - accuracy: 0.1396 - loss: 0.0551\n",
      "Epoch 15/50\n",
      "\u001b[1m185/185\u001b[0m \u001b[32m━━━━━━━━━━━━━━━━━━━━\u001b[0m\u001b[37m\u001b[0m \u001b[1m110s\u001b[0m 592ms/step - accuracy: 0.1405 - loss: 0.0453\n",
      "Epoch 16/50\n",
      "\u001b[1m185/185\u001b[0m \u001b[32m━━━━━━━━━━━━━━━━━━━━\u001b[0m\u001b[37m\u001b[0m \u001b[1m106s\u001b[0m 575ms/step - accuracy: 0.1416 - loss: 0.0387\n",
      "Epoch 17/50\n",
      "\u001b[1m185/185\u001b[0m \u001b[32m━━━━━━━━━━━━━━━━━━━━\u001b[0m\u001b[37m\u001b[0m \u001b[1m140s\u001b[0m 564ms/step - accuracy: 0.1405 - loss: 0.0368\n",
      "Epoch 18/50\n",
      "\u001b[1m185/185\u001b[0m \u001b[32m━━━━━━━━━━━━━━━━━━━━\u001b[0m\u001b[37m\u001b[0m \u001b[1m103s\u001b[0m 558ms/step - accuracy: 0.1405 - loss: 0.0353\n",
      "Epoch 19/50\n",
      "\u001b[1m185/185\u001b[0m \u001b[32m━━━━━━━━━━━━━━━━━━━━\u001b[0m\u001b[37m\u001b[0m \u001b[1m100s\u001b[0m 540ms/step - accuracy: 0.1422 - loss: 0.0333\n",
      "Epoch 20/50\n",
      "\u001b[1m185/185\u001b[0m \u001b[32m━━━━━━━━━━━━━━━━━━━━\u001b[0m\u001b[37m\u001b[0m \u001b[1m100s\u001b[0m 543ms/step - accuracy: 0.1422 - loss: 0.0286\n",
      "Epoch 21/50\n",
      "\u001b[1m185/185\u001b[0m \u001b[32m━━━━━━━━━━━━━━━━━━━━\u001b[0m\u001b[37m\u001b[0m \u001b[1m101s\u001b[0m 546ms/step - accuracy: 0.1431 - loss: 0.0252\n",
      "Epoch 22/50\n",
      "\u001b[1m185/185\u001b[0m \u001b[32m━━━━━━━━━━━━━━━━━━━━\u001b[0m\u001b[37m\u001b[0m \u001b[1m105s\u001b[0m 570ms/step - accuracy: 0.1438 - loss: 0.0217\n",
      "Epoch 23/50\n",
      "\u001b[1m185/185\u001b[0m \u001b[32m━━━━━━━━━━━━━━━━━━━━\u001b[0m\u001b[37m\u001b[0m \u001b[1m101s\u001b[0m 547ms/step - accuracy: 0.1456 - loss: 0.0199\n",
      "Epoch 24/50\n",
      "\u001b[1m185/185\u001b[0m \u001b[32m━━━━━━━━━━━━━━━━━━━━\u001b[0m\u001b[37m\u001b[0m \u001b[1m100s\u001b[0m 539ms/step - accuracy: 0.1454 - loss: 0.0195\n",
      "Epoch 25/50\n",
      "\u001b[1m185/185\u001b[0m \u001b[32m━━━━━━━━━━━━━━━━━━━━\u001b[0m\u001b[37m\u001b[0m \u001b[1m107s\u001b[0m 580ms/step - accuracy: 0.1463 - loss: 0.0171\n",
      "Epoch 26/50\n",
      "\u001b[1m185/185\u001b[0m \u001b[32m━━━━━━━━━━━━━━━━━━━━\u001b[0m\u001b[37m\u001b[0m \u001b[1m101s\u001b[0m 543ms/step - accuracy: 0.1474 - loss: 0.0157\n",
      "Epoch 27/50\n",
      "\u001b[1m185/185\u001b[0m \u001b[32m━━━━━━━━━━━━━━━━━━━━\u001b[0m\u001b[37m\u001b[0m \u001b[1m111s\u001b[0m 599ms/step - accuracy: 0.1458 - loss: 0.0138\n",
      "Epoch 28/50\n",
      "\u001b[1m185/185\u001b[0m \u001b[32m━━━━━━━━━━━━━━━━━━━━\u001b[0m\u001b[37m\u001b[0m \u001b[1m102s\u001b[0m 551ms/step - accuracy: 0.1465 - loss: 0.0137\n",
      "Epoch 29/50\n",
      "\u001b[1m185/185\u001b[0m \u001b[32m━━━━━━━━━━━━━━━━━━━━\u001b[0m\u001b[37m\u001b[0m \u001b[1m104s\u001b[0m 563ms/step - accuracy: 0.1473 - loss: 0.0123\n",
      "Epoch 30/50\n",
      "\u001b[1m185/185\u001b[0m \u001b[32m━━━━━━━━━━━━━━━━━━━━\u001b[0m\u001b[37m\u001b[0m \u001b[1m102s\u001b[0m 550ms/step - accuracy: 0.1480 - loss: 0.0122\n",
      "Epoch 31/50\n",
      "\u001b[1m185/185\u001b[0m \u001b[32m━━━━━━━━━━━━━━━━━━━━\u001b[0m\u001b[37m\u001b[0m \u001b[1m106s\u001b[0m 574ms/step - accuracy: 0.1476 - loss: 0.0106\n",
      "Epoch 32/50\n",
      "\u001b[1m185/185\u001b[0m \u001b[32m━━━━━━━━━━━━━━━━━━━━\u001b[0m\u001b[37m\u001b[0m \u001b[1m103s\u001b[0m 556ms/step - accuracy: 0.1467 - loss: 0.0100\n",
      "Epoch 33/50\n",
      "\u001b[1m185/185\u001b[0m \u001b[32m━━━━━━━━━━━━━━━━━━━━\u001b[0m\u001b[37m\u001b[0m \u001b[1m113s\u001b[0m 609ms/step - accuracy: 0.1475 - loss: 0.0094\n",
      "Epoch 34/50\n",
      "\u001b[1m185/185\u001b[0m \u001b[32m━━━━━━━━━━━━━━━━━━━━\u001b[0m\u001b[37m\u001b[0m \u001b[1m106s\u001b[0m 574ms/step - accuracy: 0.1480 - loss: 0.0093\n",
      "Epoch 35/50\n",
      "\u001b[1m185/185\u001b[0m \u001b[32m━━━━━━━━━━━━━━━━━━━━\u001b[0m\u001b[37m\u001b[0m \u001b[1m102s\u001b[0m 551ms/step - accuracy: 0.1479 - loss: 0.0086\n",
      "Epoch 36/50\n",
      "\u001b[1m185/185\u001b[0m \u001b[32m━━━━━━━━━━━━━━━━━━━━\u001b[0m\u001b[37m\u001b[0m \u001b[1m109s\u001b[0m 590ms/step - accuracy: 0.1492 - loss: 0.0088\n",
      "Epoch 37/50\n",
      "\u001b[1m185/185\u001b[0m \u001b[32m━━━━━━━━━━━━━━━━━━━━\u001b[0m\u001b[37m\u001b[0m \u001b[1m117s\u001b[0m 633ms/step - accuracy: 0.1485 - loss: 0.0077\n",
      "Epoch 38/50\n",
      "\u001b[1m185/185\u001b[0m \u001b[32m━━━━━━━━━━━━━━━━━━━━\u001b[0m\u001b[37m\u001b[0m \u001b[1m108s\u001b[0m 586ms/step - accuracy: 0.1469 - loss: 0.0068\n",
      "Epoch 39/50\n",
      "\u001b[1m185/185\u001b[0m \u001b[32m━━━━━━━━━━━━━━━━━━━━\u001b[0m\u001b[37m\u001b[0m \u001b[1m105s\u001b[0m 570ms/step - accuracy: 0.1484 - loss: 0.0068\n",
      "Epoch 40/50\n",
      "\u001b[1m185/185\u001b[0m \u001b[32m━━━━━━━━━━━━━━━━━━━━\u001b[0m\u001b[37m\u001b[0m \u001b[1m107s\u001b[0m 578ms/step - accuracy: 0.1486 - loss: 0.0069\n",
      "Epoch 41/50\n",
      "\u001b[1m185/185\u001b[0m \u001b[32m━━━━━━━━━━━━━━━━━━━━\u001b[0m\u001b[37m\u001b[0m \u001b[1m116s\u001b[0m 627ms/step - accuracy: 0.1490 - loss: 0.0061\n",
      "Epoch 42/50\n",
      "\u001b[1m185/185\u001b[0m \u001b[32m━━━━━━━━━━━━━━━━━━━━\u001b[0m\u001b[37m\u001b[0m \u001b[1m119s\u001b[0m 641ms/step - accuracy: 0.1489 - loss: 0.0060\n",
      "Epoch 43/50\n",
      "\u001b[1m185/185\u001b[0m \u001b[32m━━━━━━━━━━━━━━━━━━━━\u001b[0m\u001b[37m\u001b[0m \u001b[1m100s\u001b[0m 542ms/step - accuracy: 0.1488 - loss: 0.0057\n",
      "Epoch 44/50\n",
      "\u001b[1m185/185\u001b[0m \u001b[32m━━━━━━━━━━━━━━━━━━━━\u001b[0m\u001b[37m\u001b[0m \u001b[1m104s\u001b[0m 565ms/step - accuracy: 0.1483 - loss: 0.0061\n",
      "Epoch 45/50\n",
      "\u001b[1m185/185\u001b[0m \u001b[32m━━━━━━━━━━━━━━━━━━━━\u001b[0m\u001b[37m\u001b[0m \u001b[1m103s\u001b[0m 558ms/step - accuracy: 0.1486 - loss: 0.0059\n",
      "Epoch 46/50\n",
      "\u001b[1m185/185\u001b[0m \u001b[32m━━━━━━━━━━━━━━━━━━━━\u001b[0m\u001b[37m\u001b[0m \u001b[1m101s\u001b[0m 546ms/step - accuracy: 0.1492 - loss: 0.0049\n",
      "Epoch 47/50\n",
      "\u001b[1m185/185\u001b[0m \u001b[32m━━━━━━━━━━━━━━━━━━━━\u001b[0m\u001b[37m\u001b[0m \u001b[1m102s\u001b[0m 553ms/step - accuracy: 0.1479 - loss: 0.0051\n",
      "Epoch 48/50\n",
      "\u001b[1m185/185\u001b[0m \u001b[32m━━━━━━━━━━━━━━━━━━━━\u001b[0m\u001b[37m\u001b[0m \u001b[1m100s\u001b[0m 542ms/step - accuracy: 0.1492 - loss: 0.0051\n",
      "Epoch 49/50\n",
      "\u001b[1m185/185\u001b[0m \u001b[32m━━━━━━━━━━━━━━━━━━━━\u001b[0m\u001b[37m\u001b[0m \u001b[1m114s\u001b[0m 615ms/step - accuracy: 0.1483 - loss: 0.0047\n",
      "Epoch 50/50\n",
      "\u001b[1m185/185\u001b[0m \u001b[32m━━━━━━━━━━━━━━━━━━━━\u001b[0m\u001b[37m\u001b[0m \u001b[1m109s\u001b[0m 586ms/step - accuracy: 0.1494 - loss: 0.0049\n"
     ]
    },
    {
     "data": {
      "text/plain": [
       "<keras.src.callbacks.history.History at 0x2bb3dd28bf0>"
      ]
     },
     "execution_count": 80,
     "metadata": {},
     "output_type": "execute_result"
    }
   ],
   "source": [
    "from tensorflow.keras.callbacks import EarlyStopping\n",
    "# #콜백정의\n",
    "# early_stopping = EarlyStopping(\n",
    "#     monitor='val_loss',     # 감시할 값\n",
    "#     patience=3,             # 3 epoch 동안 개선 없으면 멈춤\n",
    "#     restore_best_weights=True,  # 성능 가장 좋았을 때의 가중치 복원\n",
    "#     verbose=1\n",
    "# )\n",
    "\n",
    "# from tensorflow.keras.callbacks import ModelCheckpoint\n",
    "\n",
    "# checkpoint = ModelCheckpoint(\n",
    "#     filepath='best_model.h5',  # 저장 파일 경로\n",
    "#     monitor='val_loss',\n",
    "#     save_best_only=True,       # 가장 좋은 성능일 때만 저장\n",
    "#     save_weights_only=True,    # 가중치만 저장\n",
    "#     verbose=1\n",
    "# )\n",
    "# callbacks = [early_stopping, lr_scheduler, checkpoint]\n",
    "\n",
    "\n",
    "EPOCHS = 50\n",
    "x = {\n",
    "    'inputs': questions,\n",
    "    'dec_inputs': answers[:, :-1]\n",
    "}\n",
    "y = answers[:, 1:]\n",
    "\n",
    "model.fit(x, y, batch_size=BATCH_SIZE, epochs=EPOCHS)\n"
   ]
  },
  {
   "cell_type": "markdown",
   "id": "6d848c1a-452c-4fe8-ab29-e1887a14d9a6",
   "metadata": {},
   "source": [
    "# 5. 모델 평가\n",
    "- 데이터 전처리 방법과 inference 단계를 고려하여 decoder_inference() 만들기\n",
    "- decoder_inference() 를 호출하여 대답을 얻는 sentence_generation()함수 만들기\n",
    "- 임의의 문장으로부터 챗봇의 대답을 얻기\n",
    "- 정량적 평가지표 사용"
   ]
  },
  {
   "cell_type": "code",
   "execution_count": 83,
   "id": "48876b3c-c7ce-42aa-92cf-e8a656ae02fc",
   "metadata": {},
   "outputs": [],
   "source": [
    "def decoder_inference(sentence):\n",
    "  sentence = preprocess_sentence(sentence)\n",
    "\n",
    "  # 입력된 문장을 정수 인코딩 후, 시작 토큰과 종료 토큰을 앞뒤로 추가.\n",
    "  # ex) Where have you been? → [[8331   86   30    5 1059    7 8332]]\n",
    "  sentence = tf.expand_dims(\n",
    "      START_TOKEN + tokenizer.encode(sentence) + END_TOKEN, axis=0)\n",
    "\n",
    "  # 디코더의 현재까지의 예측한 출력 시퀀스가 지속적으로 저장되는 변수.\n",
    "  # 처음에는 예측한 내용이 없음으로 시작 토큰만 별도 저장. ex) 8331\n",
    "  output_sequence = tf.expand_dims(START_TOKEN, 0)\n",
    "\n",
    "  # 디코더의 인퍼런스 단계\n",
    "  for i in range(MAX_LENGTH):\n",
    "    # 디코더는 최대 MAX_LENGTH의 길이만큼 다음 단어 예측을 반복합니다.\n",
    "    predictions = model(inputs=[sentence, output_sequence], training=False)\n",
    "    predictions = predictions[:, -1:, :]\n",
    "\n",
    "    # 현재 예측한 단어의 정수\n",
    "    predicted_id = tf.cast(tf.argmax(predictions, axis=-1), tf.int32)\n",
    "\n",
    "    # 만약 현재 예측한 단어가 종료 토큰이라면 for문을 종료\n",
    "    if tf.equal(predicted_id, END_TOKEN[0]):\n",
    "      break\n",
    "\n",
    "    # 예측한 단어들은 지속적으로 output_sequence에 추가됩니다.\n",
    "    # 이 output_sequence는 다시 디코더의 입력이 됩니다.\n",
    "    output_sequence = tf.concat([output_sequence, predicted_id], axis=-1)\n",
    "\n",
    "  return tf.squeeze(output_sequence, axis=0)"
   ]
  },
  {
   "cell_type": "code",
   "execution_count": 85,
   "id": "f281f705-1ffc-4589-b001-43595cc0f1ba",
   "metadata": {},
   "outputs": [],
   "source": [
    "def sentence_generation(sentence):\n",
    "  # 입력 문장에 대해서 디코더를 동작 시켜 예측된 정수 시퀀스를 리턴받습니다.\n",
    "  prediction = decoder_inference(sentence)\n",
    "\n",
    "  # 정수 시퀀스를 다시 텍스트 시퀀스로 변환합니다.\n",
    "  predicted_sentence = tokenizer.decode(\n",
    "      [i for i in prediction if i < tokenizer.vocab_size])\n",
    "\n",
    "  print('입력 : {}'.format(sentence))\n",
    "  print('출력 : {}'.format(predicted_sentence))\n",
    "\n",
    "  return predicted_sentence"
   ]
  },
  {
   "cell_type": "code",
   "execution_count": 89,
   "id": "d39feb39-92ce-4cb4-9489-0f1e0bde7bd8",
   "metadata": {},
   "outputs": [
    {
     "name": "stdout",
     "output_type": "stream",
     "text": [
      "입력 : 오늘 너무 우울해\n",
      "출력 : 제 앞에서 울어도 돼요\n",
      "==============================\n",
      "입력 : 시험 망쳤어\n",
      "출력 : 그게 고 싶나봐요\n",
      "==============================\n",
      "입력 : 나 오늘 생일이야\n",
      "출력 : 저도 커피 좋아해요\n",
      "==============================\n",
      "입력 : 친구랑 싸웠어\n",
      "출력 : 싸우면서 정 들 거예요\n",
      "==============================\n",
      "입력 : 날씨가 너무 좋다\n",
      "출력 : 좋은 사람이 찾아오려나봐요\n"
     ]
    },
    {
     "data": {
      "text/plain": [
       "'좋은 사람이 찾아오려나봐요'"
      ]
     },
     "execution_count": 89,
     "metadata": {},
     "output_type": "execute_result"
    }
   ],
   "source": [
    "#임의의 문장으로부터 챗봇의 대답을 얻어보자\n",
    "sentence_generation(\"오늘 너무 우울해\")\n",
    "print('='*30)\n",
    "sentence_generation(\"시험 망쳤어\")\n",
    "print('='*30)\n",
    "sentence_generation(\"나 오늘 생일이야\")\n",
    "print('='*30)\n",
    "sentence_generation(\"친구랑 싸웠어\")\n",
    "print('='*30)\n",
    "sentence_generation(\"날씨가 너무 좋다\")"
   ]
  },
  {
   "cell_type": "markdown",
   "id": "d509727f-b564-4522-864e-e5e85be2ded6",
   "metadata": {},
   "source": [
    "- 문법적으로 자연스럽고 사람처럼 표현하지만 가끔 맥락 이해의 한계가 보임\n",
    "- 일부 입력에 대해서는 적절한 공감형 응답 생성, 몇몇 응답은 입력과 무관"
   ]
  },
  {
   "cell_type": "markdown",
   "id": "4d329c17-2c6e-41d0-bcf4-61aeb14b612b",
   "metadata": {},
   "source": [
    "### 이상적인 답변과 비교해보기"
   ]
  },
  {
   "cell_type": "code",
   "execution_count": 106,
   "id": "d69469d3-0e3e-4151-961b-cdcf14c6ad58",
   "metadata": {},
   "outputs": [
    {
     "name": "stdout",
     "output_type": "stream",
     "text": [
      "입력 문장 : 혼자 있고 싶어\n",
      "이상적인 응답 : 그럴 땐 혼자만의 시간도 소중하죠.\n",
      "챗봇의 응답 : 혼자만 있지 마세요\n",
      "========================================\n",
      "입력 문장 : 요즘 너무 바빠\n",
      "이상적인 응답 : 무리하지 말고 잠깐 쉬어가는 것도 좋아요.\n",
      "챗봇의 응답 : 하나씩 하세요\n",
      "========================================\n",
      "입력 문장 : 졸려 죽겠어\n",
      "이상적인 응답 : 조금 눈 붙이는 건 어때요?\n",
      "챗봇의 응답 : 사랑에 빠졌나봐요\n",
      "========================================\n",
      "입력 문장 : 누가 나한테 짜증냈어\n",
      "이상적인 응답 : 기분 상했겠어요.\n",
      "챗봇의 응답 : 좋아하는 것을 해보세요\n",
      "========================================\n",
      "입력 문장 : 이번 주말에 뭐하지?\n",
      "이상적인 응답 : 산책이나 영화 보러 가는 건 어때요?\n",
      "챗봇의 응답 : 저랑 이야기해요\n",
      "========================================\n"
     ]
    }
   ],
   "source": [
    "def sentence_generation(sentence):\n",
    "  # 입력 문장에 대해서 디코더를 동작 시켜 예측된 정수 시퀀스를 리턴받습니다.\n",
    "  prediction = decoder_inference(sentence)\n",
    "\n",
    "  # 정수 시퀀스를 다시 텍스트 시퀀스로 변환합니다.\n",
    "  predicted_sentence = tokenizer.decode(\n",
    "      [i for i in prediction if i < tokenizer.vocab_size])\n",
    "\n",
    "  # print('입력 : {}'.format(sentence))\n",
    "  # print('출력 : {}'.format(predicted_sentence))\n",
    "\n",
    "  return predicted_sentence\n",
    "\n",
    "from nltk.translate.bleu_score import sentence_bleu, SmoothingFunction\n",
    "import pandas as pd\n",
    "\n",
    "smoothie = SmoothingFunction().method4\n",
    "\n",
    "from nltk.translate.bleu_score import sentence_bleu, SmoothingFunction\n",
    "smoothie = SmoothingFunction().method4\n",
    "\n",
    "# 입력 문장, 이상적 참조 문장 직접 지정 : 공감, 제안, 위로 등의 일상 대화 스타일\n",
    "custom_data = [\n",
    "    (\"혼자 있고 싶어\", \"그럴 땐 혼자만의 시간도 소중하죠.\"),\n",
    "    (\"요즘 너무 바빠\", \"무리하지 말고 잠깐 쉬어가는 것도 좋아요.\"),\n",
    "    (\"졸려 죽겠어\", \"조금 눈 붙이는 건 어때요?\"),\n",
    "    (\"누가 나한테 짜증냈어\", \"기분 상했겠어요.\"),\n",
    "    (\"이번 주말에 뭐하지?\", \"산책이나 영화 보러 가는 건 어때요?\")\n",
    "]\n",
    "\n",
    "bleu_scores = []\n",
    "\n",
    "for input_text, target_text in custom_data:\n",
    "    predicted_text = sentence_generation(input_text)  # 챗봇 예측값\n",
    "\n",
    "    reference = [target_text.split()]\n",
    "    candidate = predicted_text.split()\n",
    "\n",
    "    bleu = sentence_bleu(reference, candidate, smoothing_function=smoothie)\n",
    "    bleu_scores.append(bleu)\n",
    "\n",
    "    print(f\"입력 문장 : {input_text}\")\n",
    "    print(f\"이상적인 응답 : {target_text}\")\n",
    "    print(f\"챗봇의 응답 : {predicted_text}\")\n",
    "    print(\"=\"*40)\n",
    "\n"
   ]
  },
  {
   "cell_type": "markdown",
   "id": "495a850d-a2f0-4da6-be96-414f3c006af2",
   "metadata": {},
   "source": [
    "# 회고\n",
    "- 챗봇 응답의 말투, 스타일, 감정의 결이 조언적이고, 이상적인 답변을 감정적 공감이라고 했을 때 둘의 차이가 확연하게 보였다.\n",
    "- 응답 스타일을 다양하게 시도해보면 좋을 거 같다.\n",
    "- 감정 태깅을 통한 맞춤형 응답 생성\n",
    "  입력 문장에 담긴 감정을 정확히 파악하고 태깅함으로써, 더 적절하고 감정에 공감하는 응답을 생성할 수 있을 것으로 기대된다."
   ]
  },
  {
   "cell_type": "code",
   "execution_count": null,
   "id": "f7d4e534-2626-4e79-86c3-74bf437e2563",
   "metadata": {},
   "outputs": [],
   "source": []
  },
  {
   "cell_type": "code",
   "execution_count": null,
   "id": "fb8247d4-3e7f-4174-a20b-81a6b2bb6bc3",
   "metadata": {},
   "outputs": [],
   "source": []
  }
 ],
 "metadata": {
  "kernelspec": {
   "display_name": "Python [conda env:base] *",
   "language": "python",
   "name": "conda-base-py"
  },
  "language_info": {
   "codemirror_mode": {
    "name": "ipython",
    "version": 3
   },
   "file_extension": ".py",
   "mimetype": "text/x-python",
   "name": "python",
   "nbconvert_exporter": "python",
   "pygments_lexer": "ipython3",
   "version": "3.12.4"
  }
 },
 "nbformat": 4,
 "nbformat_minor": 5
}
