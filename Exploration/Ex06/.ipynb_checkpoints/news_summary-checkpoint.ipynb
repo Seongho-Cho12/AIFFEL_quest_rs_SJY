{
 "cells": [
  {
   "cell_type": "code",
   "execution_count": 37,
   "id": "43950f20",
   "metadata": {},
   "outputs": [
    {
     "name": "stdout",
     "output_type": "stream",
     "text": [
      "3.6.5\n",
      "2.6.0\n",
      "1.3.3\n",
>>>>>>> update GD01
      "1.2.0\n"
     ]
    }
   ],
   "source": [
    "from importlib.metadata import version\n",
    "import nltk\n",
    "import tensorflow\n",
    "import summa\n",
    "import pandas as pd\n",
    "import nltk\n",
    "print(nltk.__version__)\n",
    "print(tensorflow.__version__)\n",
    "print(pd.__version__)\n",
    "print(version('summa'))\n",
    "from bs4 import BeautifulSoup\n",
    "import requests\n",
<<<<<<< HEAD
    "import re\n",
    "import numpy as np"
=======
    "import re"
>>>>>>> update GD01
   ]
  },
  {
   "cell_type": "code",
<<<<<<< HEAD
   "execution_count": 2,
   "id": "06352d96",
=======
   "execution_count": 38,
   "id": "963610f4",
>>>>>>> update GD01
   "metadata": {},
   "outputs": [
    {
     "name": "stderr",
     "output_type": "stream",
     "text": [
<<<<<<< HEAD
      "[nltk_data] Downloading package stopwords to\n",
      "[nltk_data]     C:\\Users\\yjneo\\AppData\\Roaming\\nltk_data...\n",
=======
      "[nltk_data] Downloading package stopwords to /aiffel/nltk_data...\n",
>>>>>>> update GD01
      "[nltk_data]   Package stopwords is already up-to-date!\n"
     ]
    }
   ],
   "source": [
    "nltk.download('stopwords')\n",
    "from nltk.corpus import stopwords"
   ]
  },
  {
   "cell_type": "markdown",
<<<<<<< HEAD
   "id": "232620dc",
=======
   "id": "f46aefcc",
>>>>>>> update GD01
   "metadata": {},
   "source": [
    "# 1. 데이터 수집하기"
   ]
  },
  {
   "cell_type": "code",
<<<<<<< HEAD
   "execution_count": 4,
   "id": "fcdb618e",
=======
   "execution_count": 18,
   "id": "0e492240",
>>>>>>> update GD01
   "metadata": {},
   "outputs": [
    {
     "data": {
      "text/html": [
       "<div>\n",
       "<style scoped>\n",
       "    .dataframe tbody tr th:only-of-type {\n",
       "        vertical-align: middle;\n",
       "    }\n",
       "\n",
       "    .dataframe tbody tr th {\n",
       "        vertical-align: top;\n",
       "    }\n",
       "\n",
       "    .dataframe thead th {\n",
       "        text-align: right;\n",
       "    }\n",
       "</style>\n",
       "<table border=\"1\" class=\"dataframe\">\n",
       "  <thead>\n",
       "    <tr style=\"text-align: right;\">\n",
       "      <th></th>\n",
       "      <th>headlines</th>\n",
       "      <th>text</th>\n",
       "    </tr>\n",
       "  </thead>\n",
       "  <tbody>\n",
       "    <tr>\n",
       "      <th>0</th>\n",
       "      <td>upGrad learner switches to career in ML &amp; Al w...</td>\n",
       "      <td>Saurav Kant, an alumnus of upGrad and IIIT-B's...</td>\n",
       "    </tr>\n",
       "    <tr>\n",
       "      <th>1</th>\n",
       "      <td>Delhi techie wins free food from Swiggy for on...</td>\n",
       "      <td>Kunal Shah's credit card bill payment platform...</td>\n",
       "    </tr>\n",
       "    <tr>\n",
       "      <th>2</th>\n",
       "      <td>New Zealand end Rohit Sharma-led India's 12-ma...</td>\n",
       "      <td>New Zealand defeated India by 8 wickets in the...</td>\n",
       "    </tr>\n",
       "    <tr>\n",
       "      <th>3</th>\n",
       "      <td>Aegon life iTerm insurance plan helps customer...</td>\n",
       "      <td>With Aegon Life iTerm Insurance plan, customer...</td>\n",
       "    </tr>\n",
       "    <tr>\n",
       "      <th>4</th>\n",
       "      <td>Have known Hirani for yrs, what if MeToo claim...</td>\n",
       "      <td>Speaking about the sexual harassment allegatio...</td>\n",
       "    </tr>\n",
       "  </tbody>\n",
       "</table>\n",
       "</div>"
      ],
      "text/plain": [
       "                                           headlines  \\\n",
       "0  upGrad learner switches to career in ML & Al w...   \n",
       "1  Delhi techie wins free food from Swiggy for on...   \n",
       "2  New Zealand end Rohit Sharma-led India's 12-ma...   \n",
       "3  Aegon life iTerm insurance plan helps customer...   \n",
       "4  Have known Hirani for yrs, what if MeToo claim...   \n",
       "\n",
       "                                                text  \n",
       "0  Saurav Kant, an alumnus of upGrad and IIIT-B's...  \n",
       "1  Kunal Shah's credit card bill payment platform...  \n",
       "2  New Zealand defeated India by 8 wickets in the...  \n",
       "3  With Aegon Life iTerm Insurance plan, customer...  \n",
       "4  Speaking about the sexual harassment allegatio...  "
      ]
     },
<<<<<<< HEAD
     "execution_count": 4,
=======
     "execution_count": 18,
>>>>>>> update GD01
     "metadata": {},
     "output_type": "execute_result"
    }
   ],
   "source": [
    "import urllib.request\n",
    "urllib.request.urlretrieve(\"https://raw.githubusercontent.com/sunnysai12345/News_Summary/master/news_summary_more.csv\", filename=\"news_summary_more.csv\")\n",
    "data = pd.read_csv('news_summary_more.csv', encoding='iso-8859-1')\n",
    "data.head()"
   ]
  },
  {
   "cell_type": "markdown",
<<<<<<< HEAD
   "id": "3543b791",
=======
   "id": "78109882",
>>>>>>> update GD01
   "metadata": {},
   "source": [
    "# 2. 데이터 전처리(추상적요약)\n",
    "- 분석단계\n",
    "- 정제단계\n",
    "- 정규화와 불용어 제거\n",
    "- 데이터셋 분리\n",
    "- 인코딩 과정"
   ]
  },
  {
   "cell_type": "markdown",
<<<<<<< HEAD
   "id": "eb0f3fe3",
=======
   "id": "26034ee2",
>>>>>>> update GD01
   "metadata": {},
   "source": [
    "## 중복, null 제거"
   ]
  },
  {
   "cell_type": "code",
<<<<<<< HEAD
   "execution_count": 7,
   "id": "6a490e83",
=======
   "execution_count": 39,
   "id": "58d0ba04",
>>>>>>> update GD01
   "metadata": {},
   "outputs": [
    {
     "name": "stdout",
     "output_type": "stream",
     "text": [
      "98360\n",
<<<<<<< HEAD
      "98280\n"
=======
      "98262\n"
>>>>>>> update GD01
     ]
    }
   ],
   "source": [
    "#중복 확인,\n",
    "print(data['text'].nunique())\n",
    "print(data['headlines'].nunique())"
   ]
  },
  {
   "cell_type": "code",
<<<<<<< HEAD
   "execution_count": 8,
   "id": "5e8767ff",
=======
   "execution_count": 40,
   "id": "a7b336f7",
>>>>>>> update GD01
   "metadata": {},
   "outputs": [
    {
     "name": "stdout",
     "output_type": "stream",
     "text": [
      "전체 샘플수 : 98360\n"
     ]
    }
   ],
   "source": [
    "#중복 샘플 제거\n",
    "data.drop_duplicates(subset = ['text'], inplace = True)\n",
    "print('전체 샘플수 :', (len(data)))"
   ]
  },
  {
   "cell_type": "code",
<<<<<<< HEAD
   "execution_count": 9,
   "id": "461933cc",
=======
   "execution_count": 41,
   "id": "62c6f12b",
>>>>>>> update GD01
   "metadata": {},
   "outputs": [
    {
     "data": {
      "text/plain": [
       "headlines    0\n",
       "text         0\n",
       "dtype: int64"
      ]
     },
<<<<<<< HEAD
     "execution_count": 9,
=======
     "execution_count": 41,
>>>>>>> update GD01
     "metadata": {},
     "output_type": "execute_result"
    }
   ],
   "source": [
    "#null 값 확인\n",
    "data.isnull().sum()"
   ]
  },
  {
   "cell_type": "markdown",
<<<<<<< HEAD
   "id": "675f1a4d",
=======
   "id": "60ac0020",
>>>>>>> update GD01
   "metadata": {},
   "source": [
    "## 정규화와 불용어 제거"
   ]
  },
  {
   "cell_type": "code",
<<<<<<< HEAD
   "execution_count": 11,
   "id": "c18b0117",
=======
   "execution_count": 42,
   "id": "91eecf33",
>>>>>>> update GD01
   "metadata": {},
   "outputs": [],
   "source": [
    "#텍스트 정규화, 불용어 제거\n",
    "contractions = {\"ain't\": \"is not\", \"aren't\": \"are not\",\"can't\": \"cannot\", \"'cause\": \"because\", \"could've\": \"could have\", \"couldn't\": \"could not\",\n",
    "                           \"didn't\": \"did not\",  \"doesn't\": \"does not\", \"don't\": \"do not\", \"hadn't\": \"had not\", \"hasn't\": \"has not\", \"haven't\": \"have not\",\n",
    "                           \"he'd\": \"he would\",\"he'll\": \"he will\", \"he's\": \"he is\", \"how'd\": \"how did\", \"how'd'y\": \"how do you\", \"how'll\": \"how will\", \"how's\": \"how is\",\n",
    "                           \"I'd\": \"I would\", \"I'd've\": \"I would have\", \"I'll\": \"I will\", \"I'll've\": \"I will have\",\"I'm\": \"I am\", \"I've\": \"I have\", \"i'd\": \"i would\",\n",
    "                           \"i'd've\": \"i would have\", \"i'll\": \"i will\",  \"i'll've\": \"i will have\",\"i'm\": \"i am\", \"i've\": \"i have\", \"isn't\": \"is not\", \"it'd\": \"it would\",\n",
    "                           \"it'd've\": \"it would have\", \"it'll\": \"it will\", \"it'll've\": \"it will have\",\"it's\": \"it is\", \"let's\": \"let us\", \"ma'am\": \"madam\",\n",
    "                           \"mayn't\": \"may not\", \"might've\": \"might have\",\"mightn't\": \"might not\",\"mightn't've\": \"might not have\", \"must've\": \"must have\",\n",
    "                           \"mustn't\": \"must not\", \"mustn't've\": \"must not have\", \"needn't\": \"need not\", \"needn't've\": \"need not have\",\"o'clock\": \"of the clock\",\n",
    "                           \"oughtn't\": \"ought not\", \"oughtn't've\": \"ought not have\", \"shan't\": \"shall not\", \"sha'n't\": \"shall not\", \"shan't've\": \"shall not have\",\n",
    "                           \"she'd\": \"she would\", \"she'd've\": \"she would have\", \"she'll\": \"she will\", \"she'll've\": \"she will have\", \"she's\": \"she is\",\n",
    "                           \"should've\": \"should have\", \"shouldn't\": \"should not\", \"shouldn't've\": \"should not have\", \"so've\": \"so have\",\"so's\": \"so as\",\n",
    "                           \"this's\": \"this is\",\"that'd\": \"that would\", \"that'd've\": \"that would have\", \"that's\": \"that is\", \"there'd\": \"there would\",\n",
    "                           \"there'd've\": \"there would have\", \"there's\": \"there is\", \"here's\": \"here is\",\"they'd\": \"they would\", \"they'd've\": \"they would have\",\n",
    "                           \"they'll\": \"they will\", \"they'll've\": \"they will have\", \"they're\": \"they are\", \"they've\": \"they have\", \"to've\": \"to have\",\n",
    "                           \"wasn't\": \"was not\", \"we'd\": \"we would\", \"we'd've\": \"we would have\", \"we'll\": \"we will\", \"we'll've\": \"we will have\", \"we're\": \"we are\",\n",
    "                           \"we've\": \"we have\", \"weren't\": \"were not\", \"what'll\": \"what will\", \"what'll've\": \"what will have\", \"what're\": \"what are\",\n",
    "                           \"what's\": \"what is\", \"what've\": \"what have\", \"when's\": \"when is\", \"when've\": \"when have\", \"where'd\": \"where did\", \"where's\": \"where is\",\n",
    "                           \"where've\": \"where have\", \"who'll\": \"who will\", \"who'll've\": \"who will have\", \"who's\": \"who is\", \"who've\": \"who have\",\n",
    "                           \"why's\": \"why is\", \"why've\": \"why have\", \"will've\": \"will have\", \"won't\": \"will not\", \"won't've\": \"will not have\",\n",
    "                           \"would've\": \"would have\", \"wouldn't\": \"would not\", \"wouldn't've\": \"would not have\", \"y'all\": \"you all\",\n",
    "                           \"y'all'd\": \"you all would\",\"y'all'd've\": \"you all would have\",\"y'all're\": \"you all are\",\"y'all've\": \"you all have\",\n",
    "                           \"you'd\": \"you would\", \"you'd've\": \"you would have\", \"you'll\": \"you will\", \"you'll've\": \"you will have\",\n",
    "                           \"you're\": \"you are\", \"you've\": \"you have\"}\n"
   ]
  },
  {
   "cell_type": "code",
<<<<<<< HEAD
   "execution_count": 12,
   "id": "e7c07b6c",
=======
   "execution_count": 43,
   "id": "a635111f",
>>>>>>> update GD01
   "metadata": {},
   "outputs": [
    {
     "name": "stdout",
     "output_type": "stream",
     "text": [
      "불용어 개수 : 198\n"
     ]
    }
   ],
   "source": [
    "print('불용어 개수 :', len(stopwords.words('english') )) #nltk 불용어 개수"
   ]
  },
  {
   "cell_type": "code",
<<<<<<< HEAD
   "execution_count": 13,
   "id": "f189265b",
=======
   "execution_count": 49,
   "id": "7c748b2f",
>>>>>>> update GD01
   "metadata": {},
   "outputs": [],
   "source": [
    "# 데이터 전처리 함수\n",
    "# stopwords 미리 로딩\n",
    "stop_words = set(stopwords.words('english'))\n",
    "def preprocess_sentence(sentence, remove_stopwords=True):\n",
    "    sentence = str(sentence).lower()\n",
    "\n",
    "    # HTML 태그 제거 \n",
    "    sentence = re.sub(r'<.*?>', '', sentence)\n",
    "\n",
    "    # 괄호 내용 제거, 쌍따옴표 제거\n",
    "    sentence = re.sub(r'\\([^)]*\\)', '', sentence)\n",
    "    sentence = re.sub('\"', '', sentence)\n",
    "\n",
    "    # 약어 정규화\n",
    "    sentence = ' '.join([contractions.get(t, t) for t in sentence.split()])\n",
    "\n",
    "    # 소유격 제거\n",
    "    sentence = re.sub(r\"'s\\b\", '', sentence)\n",
    "\n",
    "    # 특수문자 및 숫자 제거\n",
    "    sentence = re.sub(r'[^a-zA-Z]', ' ', sentence)\n",
    "\n",
    "    # mmmm → mm로 축소\n",
    "    sentence = re.sub(r'm{2,}', 'mm', sentence)\n",
    "\n",
    "    words = sentence.split()\n",
    "\n",
    "    # 불용어 제거\n",
    "    if remove_stopwords:\n",
    "        tokens = ' '.join(word for word in words if word not in stop_words and len(word) > 1)\n",
    "    else:\n",
    "        tokens = ' '.join(word for word in words if len(word) > 1)\n",
    "\n",
    "    return tokens"
   ]
  },
  {
   "cell_type": "code",
<<<<<<< HEAD
   "execution_count": 14,
   "id": "7d0b3987",
=======
   "execution_count": 45,
   "id": "dbbe628b",
>>>>>>> update GD01
   "metadata": {},
   "outputs": [
    {
     "name": "stdout",
     "output_type": "stream",
     "text": [
      "Text 전처리 후 결과:  ['saurav kant alumnus upgrad iiit pg program machine learning artificial intelligence sr systems engineer infosys almost years work experience program upgrad degree career support helped transition data scientist tech mahindra salary hike upgrad online power learning powered lakh careers', 'kunal shah credit card bill payment platform cred gave users chance win free food swiggy one year pranav kaushik delhi techie bagged reward spending cred coins users get one cred coin per rupee bill paid used avail rewards brands like ixigo bookmyshow ubereats cult fit', 'new zealand defeated india wickets fourth odi hamilton thursday win first match five match odi series india lost international match rohit sharma captaincy consecutive victories dating back march match witnessed india getting seventh lowest total odi cricket history', 'aegon life iterm insurance plan customers enjoy tax benefits premiums paid save taxes plan provides life cover age years also customers options insure critical illnesses disability accidental death benefit rider life cover age years', 'speaking sexual harassment allegations rajkumar hirani sonam kapoor said known hirani many years true metoo movement get derailed metoo movement always believe woman case need reserve judgment added hirani accused assistant worked sanju']\n"
     ]
    }
   ],
   "source": [
    "# 전체 Text 데이터에 대한 전처리\n",
    "clean_text = []\n",
    "for text in data['text']:\n",
    "    tmp = preprocess_sentence(text)\n",
    "    clean_text.append(tmp)\n",
    "# 전처리 후 출력\n",
    "print(\"Text 전처리 후 결과: \", clean_text[:5])"
   ]
  },
  {
   "cell_type": "code",
<<<<<<< HEAD
   "execution_count": 15,
   "id": "612dcc03",
   "metadata": {},
   "outputs": [
    {
     "name": "stdout",
     "output_type": "stream",
     "text": [
      "headlines 전처리 후 결과:  ['upgrad learner switches to career in ml al with salary hike', 'delhi techie wins free food from swiggy for one year on cred', 'new zealand end rohit sharma led india match winning streak', 'aegon life iterm insurance plan helps customers save tax', 'have known hirani for yrs what if metoo claims are not true sonam']\n"
     ]
    }
   ],
=======
   "execution_count": null,
   "id": "976fc5d6",
   "metadata": {},
   "outputs": [],
>>>>>>> update GD01
   "source": [
    "# 전체 headlines 데이터에 대한 전처리\n",
    "clean_headlines = []\n",
    "for headline in data['headlines']:\n",
    "    tmp = preprocess_sentence(headline, remove_stopwords = False)\n",
    "    clean_headlines.append(tmp)\n",
    "# 전처리 후 출력\n",
    "print(\"headlines 전처리 후 결과: \", clean_headlines[:5])"
   ]
  },
  {
   "cell_type": "code",
<<<<<<< HEAD
   "execution_count": 16,
   "id": "f3102a6c",
=======
   "execution_count": null,
   "id": "2d06f596",
>>>>>>> update GD01
   "metadata": {},
   "outputs": [],
   "source": [
    "#전처리된 데이터를 재저장\n",
    "data['text'] = clean_text\n",
    "data['headlines'] = clean_headlines\n",
    "# 빈 값을 Null 값으로 변환\n",
    "data.replace('', np.nan, inplace=True)\n",
    "#Null값이 생겼는지 확인\n",
    "data.isnull().sum()\n",
    "#null값이 생겼으면 제거\n",
    "data.dropna(axis=0, inplace=True)"
   ]
  },
  {
   "cell_type": "code",
<<<<<<< HEAD
   "execution_count": 17,
   "id": "cfa3f839-318e-4159-92da-77be959c74af",
   "metadata": {},
   "outputs": [
    {
     "data": {
      "text/plain": [
       "98360"
      ]
     },
     "execution_count": 17,
     "metadata": {},
     "output_type": "execute_result"
    }
   ],
   "source": [
    "len(data)"
   ]
  },
  {
   "cell_type": "markdown",
   "id": "01a98aa5-2035-466d-937c-2edd56a2c668",
   "metadata": {},
   "source": [
    "## 샘플 최대 길이 정하기"
   ]
  },
  {
   "cell_type": "code",
   "execution_count": 19,
   "id": "a9bf1805",
   "metadata": {},
   "outputs": [
    {
     "name": "stdout",
     "output_type": "stream",
     "text": [
      "텍스트의 최소 길이 : 1\n",
      "텍스트의 최대 길이 : 60\n",
      "텍스트의 평균 길이 : 35.09968483123221\n",
      "요약의 최소 길이 : 1\n",
      "요약의 최대 길이 : 16\n",
      "요약의 평균 길이 : 9.299532330215534\n"
     ]
    },
    {
     "data": {
      "image/png": "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",
      "text/plain": [
       "<Figure size 640x480 with 2 Axes>"
      ]
     },
     "metadata": {},
     "output_type": "display_data"
    },
    {
     "data": {
      "image/png": "iVBORw0KGgoAAAANSUhEUgAAAk0AAAHFCAYAAADv8c1wAAAAOnRFWHRTb2Z0d2FyZQBNYXRwbG90bGliIHZlcnNpb24zLjEwLjAsIGh0dHBzOi8vbWF0cGxvdGxpYi5vcmcvlHJYcgAAAAlwSFlzAAAPYQAAD2EBqD+naQAASIFJREFUeJzt3XlYlXX+//HXEQWF4CgiW+FSY6aBG5SgTVoaSqK5zFjakJZDU5rEqFPZpjYltpjVMOOkmbbQ0FRqi0VgbrngglKi/MzMBQvEFA9ugcL9+6Ov93RE7T4FnYM+H9d1rov7/ry5z/v+TMVrPvd97mMzDMMQAAAAzquBuxsAAACoDwhNAAAAFhCaAAAALCA0AQAAWEBoAgAAsIDQBAAAYAGhCQAAwAJCEwAAgAWEJgAAAAsITQAuCjabzdJr+fLltfJ+3333naZMmaL8/PxaOR4A92vo7gYA4Lewdu1ap+2///3vWrZsmZYuXeq0v0OHDrXyft99952mTp2q1q1bq3PnzrVyTADuRWgCcFGIjY112m7RooUaNGhQYz8AnAuX5wDg/1RWVurJJ5/UVVddJR8fH7Vo0UJ33nmnDhw4YNZMnz5dDRo00Icffuj0u6NGjZKvr6+2bNmi5cuX65prrpEk3XnnnealvylTpvyWpwOglrHSBACSqqurdcstt+jzzz/XAw88oO7du2vPnj2aPHmyevXqpY0bN6pJkyZ68MEH9fnnn2vkyJHavHmzWrVqpXnz5um1117TK6+8oqioKJWXl2vevHm688479eijj6p///6SpMsuu8zNZwng1yA0AYCk//73v8rKytJ7772nIUOGmPs7deqka665RvPnz9e9994rm82m119/XZ07d9awYcP073//W/fdd5/+9Kc/afTo0ZKkgIAARUZGSpKuuOIKLgECFwguzwGApI8++khNmzbVgAEDdOrUKfPVuXNnhYaGOn2qrnnz5nr77be1adMmde/eXS1bttS///1v9zUP4DfBShMASNq/f78OHz4sb2/vs45///33TtvdunXT1VdfrS+++EL33nuv/Pz8fos2AbgRoQkAJAUFBal58+bKyso667i/v7/T9uTJk7VlyxZFR0fr8ccfV2Jioi6//PLfolUAbkJoAgBJiYmJyszMVFVVlbp163be2pycHKWlpenRRx9VamqqOnfurFtvvVWrV682V6p8fHwkSSdOnKjz3gH8NmyGYRjubgIAfmujRo3Su+++q6NHj0qSqqqqNGDAAK1bt07333+/rr32WjVq1Ej79u3TsmXLdMstt2jw4MEqLi5W586ddfXVV2vJkiVq0KCBcnNzdf3112vMmDF64YUXJEnHjx9XUFCQunbtqieffFKXXHKJwsPDFR4e7sazBvBrcCM4AEjy8vLSBx98oIcfflgLFizQ4MGDNWjQIE2fPl2NGzdWVFSUqqqqNHz4cNlsNr311ltq0ODH/4TGxsZq2rRpevHFF7Vo0SJJkq+vr1599VUdPHhQ8fHxuuaaazR79mw3niGAX4uVJgAAAAtYaQIAALCA0AQAAGABoQkAAMACQhMAAIAFhCYAAAALCE0AAAAW8ETwWlRdXa3vvvtO/v7+stls7m4HAABYYBiGjhw5ovDwcPP5a2dDaKpF3333nSIiItzdBgAA+AWKiop02WWXnXOc0FSLTn+hZ1FRkQICAtzcDQAAsKK8vFwRERE1vpj7TISmWnT6klxAQAChCQCAeubnbq3hRnAAAAALCE0AAAAWEJoAAAAsIDQBAABYQGgCAACwgNAEAABgAaEJAADAAkITAACABYQmAAAACwhNAAAAFhCaAAAALCA0AQAAWEBoAgAAsIDQBAAAYAGhCQAAwIKG7m4AAGBd64cWu1S/e3r/OuoEuPi4daUpLS1N11xzjfz9/RUcHKxBgwZp+/btTjWGYWjKlCkKDw9XkyZN1KtXL23dutWppqKiQuPGjVNQUJD8/Pw0cOBA7du3z6mmrKxMSUlJstvtstvtSkpK0uHDh51q9u7dqwEDBsjPz09BQUFKSUlRZWVlnZw7AACoX9wamlasWKGxY8cqNzdXOTk5OnXqlOLj43Xs2DGz5plnntHzzz+v9PR0bdiwQaGhobrpppt05MgRsyY1NVULFy5UZmamVq1apaNHjyoxMVFVVVVmzYgRI5Sfn6+srCxlZWUpPz9fSUlJ5nhVVZX69++vY8eOadWqVcrMzNR7772nCRMm/DaTAQAAPJrNMAzD3U2cduDAAQUHB2vFihW6/vrrZRiGwsPDlZqaqgcffFDSj6tKISEhevrpp/WXv/xFDodDLVq00BtvvKFbb71VkvTdd98pIiJCH3/8sfr27avCwkJ16NBBubm56tatmyQpNzdXcXFx+n//7/+pXbt2+uSTT5SYmKiioiKFh4dLkjIzMzVq1CiVlpYqICDgZ/svLy+X3W6Xw+GwVA8AruLyHFD7rP799qgbwR0OhyQpMDBQkrRr1y6VlJQoPj7erPHx8VHPnj21Zs0aSVJeXp5OnjzpVBMeHq7IyEizZu3atbLb7WZgkqTY2FjZ7XanmsjISDMwSVLfvn1VUVGhvLy8s/ZbUVGh8vJypxcAALgweUxoMgxD48eP13XXXafIyEhJUklJiSQpJCTEqTYkJMQcKykpkbe3t5o1a3bemuDg4BrvGRwc7FRz5vs0a9ZM3t7eZs2Z0tLSzHuk7Ha7IiIiXD1tAABQT3hMaLrvvvv05Zdf6j//+U+NMZvN5rRtGEaNfWc6s+Zs9b+k5qcmTZokh8NhvoqKis7bEwAAqL88IjSNGzdOH3zwgZYtW6bLLrvM3B8aGipJNVZ6SktLzVWh0NBQVVZWqqys7Lw1+/fvr/G+Bw4ccKo5833Kysp08uTJGitQp/n4+CggIMDpBQAALkxuDU2GYei+++7TggULtHTpUrVp08ZpvE2bNgoNDVVOTo65r7KyUitWrFD37t0lSdHR0WrUqJFTTXFxsQoKCsyauLg4ORwOrV+/3qxZt26dHA6HU01BQYGKi4vNmuzsbPn4+Cg6Orr2Tx4AANQrbn245dixY/XWW2/p/fffl7+/v7nSY7fb1aRJE9lsNqWmpmratGlq27at2rZtq2nTpsnX11cjRowwa0ePHq0JEyaoefPmCgwM1MSJExUVFaU+ffpIktq3b69+/fopOTlZL7/8siTp7rvvVmJiotq1aydJio+PV4cOHZSUlKRnn31Whw4d0sSJE5WcnMwKEgAAcG9omjVrliSpV69eTvvnzZunUaNGSZIeeOABnThxQmPGjFFZWZm6deum7Oxs+fv7m/UzZ85Uw4YNNWzYMJ04cUK9e/fW/Pnz5eXlZdZkZGQoJSXF/JTdwIEDlZ6ebo57eXlp8eLFGjNmjHr06KEmTZpoxIgReu655+ro7AEAQH3iUc9pqu94ThOAusZzmoDaVy+f0wQAAOCpCE0AAAAWEJoAAAAsIDQBAABYQGgCAACwgNAEAABgAaEJAADAAkITAACABYQmAAAACwhNAAAAFhCaAAAALCA0AQAAWEBoAgAAsIDQBAAAYAGhCQAAwAJCEwAAgAWEJgAAAAsITQAAABYQmgAAACwgNAEAAFhAaAIAALCA0AQAAGABoQkAAMACQhMAAIAFhCYAAAALCE0AAAAWEJoAAAAsIDQBAABYQGgCAACwgNAEAABgAaEJAADAAkITAACABW4NTStXrtSAAQMUHh4um82mRYsWOY3bbLazvp599lmzplevXjXGb7vtNqfjlJWVKSkpSXa7XXa7XUlJSTp8+LBTzd69ezVgwAD5+fkpKChIKSkpqqysrKtTBwAA9YxbQ9OxY8fUqVMnpaenn3W8uLjY6fXqq6/KZrNp6NChTnXJyclOdS+//LLT+IgRI5Sfn6+srCxlZWUpPz9fSUlJ5nhVVZX69++vY8eOadWqVcrMzNR7772nCRMm1P5JAwCAeqmhO988ISFBCQkJ5xwPDQ112n7//fd1ww036PLLL3fa7+vrW6P2tMLCQmVlZSk3N1fdunWTJM2ZM0dxcXHavn272rVrp+zsbG3btk1FRUUKDw+XJM2YMUOjRo3SU089pYCAgF9zmgAA4AJQb+5p2r9/vxYvXqzRo0fXGMvIyFBQUJCuvvpqTZw4UUeOHDHH1q5dK7vdbgYmSYqNjZXdbteaNWvMmsjISDMwSVLfvn1VUVGhvLy8OjwrAABQX7h1pckVr732mvz9/TVkyBCn/bfffrvatGmj0NBQFRQUaNKkSfriiy+Uk5MjSSopKVFwcHCN4wUHB6ukpMSsCQkJcRpv1qyZvL29zZqzqaioUEVFhbldXl7+i88PAAB4tnoTml599VXdfvvtaty4sdP+5ORk8+fIyEi1bdtWMTEx2rRpk7p27SrpxxvKz2QYhtN+KzVnSktL09SpU10+FwAAUP/Ui8tzn3/+ubZv364///nPP1vbtWtXNWrUSDt27JD0431R+/fvr1F34MABc3UpNDS0xopSWVmZTp48WWMF6qcmTZokh8NhvoqKilw5LQAAUI/Ui9A0d+5cRUdHq1OnTj9bu3XrVp08eVJhYWGSpLi4ODkcDq1fv96sWbdunRwOh7p3727WFBQUqLi42KzJzs6Wj4+PoqOjz/lePj4+CggIcHoBAIALk1svzx09elRff/21ub1r1y7l5+crMDBQLVu2lPTjfULvvPOOZsyYUeP3d+7cqYyMDN18880KCgrStm3bNGHCBHXp0kU9evSQJLVv3179+vVTcnKy+SiCu+++W4mJiWrXrp0kKT4+Xh06dFBSUpKeffZZHTp0SBMnTlRycjJBCAAASHLzStPGjRvVpUsXdenSRZI0fvx4denSRY8//rhZk5mZKcMwNHz48Bq/7+3trc8++0x9+/ZVu3btlJKSovj4eC1ZskReXl5mXUZGhqKiohQfH6/4+Hh17NhRb7zxhjnu5eWlxYsXq3HjxurRo4eGDRumQYMG6bnnnqvDswcAAPWJzTAMw91NXCjKy8tlt9vlcDhYoQJQJ1o/tNil+t3T+9dRJ8CFw+rf73pxTxMAAIC7EZoAAAAsIDQBAABYQGgCAACwgNAEAABgAaEJAADAAkITAACABYQmAAAACwhNAAAAFhCaAAAALCA0AQAAWEBoAgAAsIDQBAAAYAGhCQAAwAJCEwAAgAUN3d0AAFyIWj+02HLt7un967ATALWFlSYAAAALCE0AAAAWEJoAAAAsIDQBAABYQGgCAACwgNAEAABgAaEJAADAAkITAACABYQmAAAACwhNAAAAFhCaAAAALCA0AQAAWEBoAgAAsIDQBAAAYAGhCQAAwAJCEwAAgAWEJgAAAAvcGppWrlypAQMGKDw8XDabTYsWLXIaHzVqlGw2m9MrNjbWqaaiokLjxo1TUFCQ/Pz8NHDgQO3bt8+ppqysTElJSbLb7bLb7UpKStLhw4edavbu3asBAwbIz89PQUFBSklJUWVlZV2cNgAAqIfcGpqOHTumTp06KT09/Zw1/fr1U3Fxsfn6+OOPncZTU1O1cOFCZWZmatWqVTp69KgSExNVVVVl1owYMUL5+fnKyspSVlaW8vPzlZSUZI5XVVWpf//+OnbsmFatWqXMzEy99957mjBhQu2fNAAAqJcauvPNExISlJCQcN4aHx8fhYaGnnXM4XBo7ty5euONN9SnTx9J0ptvvqmIiAgtWbJEffv2VWFhobKyspSbm6tu3bpJkubMmaO4uDht375d7dq1U3Z2trZt26aioiKFh4dLkmbMmKFRo0bpqaeeUkBAQC2eNQAAqI88/p6m5cuXKzg4WFdeeaWSk5NVWlpqjuXl5enkyZOKj48394WHhysyMlJr1qyRJK1du1Z2u90MTJIUGxsru93uVBMZGWkGJknq27evKioqlJeXd87eKioqVF5e7vQCAAAXJo8OTQkJCcrIyNDSpUs1Y8YMbdiwQTfeeKMqKiokSSUlJfL29lazZs2cfi8kJEQlJSVmTXBwcI1jBwcHO9WEhIQ4jTdr1kze3t5mzdmkpaWZ90nZ7XZFRET8qvMFAACey62X537Orbfeav4cGRmpmJgYtWrVSosXL9aQIUPO+XuGYchms5nbP/3519ScadKkSRo/fry5XV5eTnACAOAC5dErTWcKCwtTq1attGPHDklSaGioKisrVVZW5lRXWlpqrhyFhoZq//79NY514MABp5ozV5TKysp08uTJGitQP+Xj46OAgACnFwAAuDDVq9B08OBBFRUVKSwsTJIUHR2tRo0aKScnx6wpLi5WQUGBunfvLkmKi4uTw+HQ+vXrzZp169bJ4XA41RQUFKi4uNisyc7Olo+Pj6Kjo3+LUwMAAB7OrZfnjh49qq+//trc3rVrl/Lz8xUYGKjAwEBNmTJFQ4cOVVhYmHbv3q2HH35YQUFBGjx4sCTJbrdr9OjRmjBhgpo3b67AwEBNnDhRUVFR5qfp2rdvr379+ik5OVkvv/yyJOnuu+9WYmKi2rVrJ0mKj49Xhw4dlJSUpGeffVaHDh3SxIkTlZyczOoRAACQ5ObQtHHjRt1www3m9un7g0aOHKlZs2Zpy5Ytev3113X48GGFhYXphhtu0Ntvvy1/f3/zd2bOnKmGDRtq2LBhOnHihHr37q358+fLy8vLrMnIyFBKSor5KbuBAwc6PRvKy8tLixcv1pgxY9SjRw81adJEI0aM0HPPPVfXUwAAAOoJm2EYhrubuFCUl5fLbrfL4XCwQgVc5Fo/tNhy7e7p/evkuK4eG7hYWf37Xa/uaQIAAHAXQhMAAIAFvzo0lZeXa9GiRSosLKyNfgAAADySy6Fp2LBh5k3UJ06cUExMjIYNG6aOHTvqvffeq/UGAQAAPIHLoWnlypX6/e9/L0lauHChDMPQ4cOH9dJLL+nJJ5+s9QYBAAA8gcuhyeFwKDAwUJKUlZWloUOHytfXV/379zef1A0AAHChcTk0RUREaO3atTp27JiysrLMZx+VlZWpcePGtd4gAACAJ3D54Zapqam6/fbbdckll6hly5bq1auXpB8v20VFRdV2fwAAAB7B5dA0ZswYXXvttSoqKtJNN92kBg1+XKy6/PLLuacJAABcsH7R16jExMSoY8eO2rVrl6644go1bNhQ/fvz1FkAAHDhcvmepuPHj2v06NHy9fXV1Vdfrb1790qSUlJSNH369FpvEAAAwBO4HJomTZqkL774QsuXL3e68btPnz56++23a7U5AAAAT+Hy5blFixbp7bffVmxsrGw2m7m/Q4cO2rlzZ602BwAA4ClcXmk6cOCAgoODa+w/duyYU4gCAAC4kLi80nTNNddo8eLFGjdunCSZQWnOnDmKi4ur3e4AAL+Z1g8ttly7ezof/sHFx+XQlJaWpn79+mnbtm06deqUXnzxRW3dulVr167VihUr6qJHAAAAt3P58lz37t21evVqHT9+XFdccYWys7MVEhKitWvXKjo6ui56BAAAcLtf9JymqKgovfbaa7XdCwAAgMeyFJrKy8stHzAgIOAXNwMAAOCpLIWmpk2b/uwn4wzDkM1mU1VVVa00BgAA4EkshaZly5bVdR8AAAAezVJo6tmzZ133AQAA4NF+0Y3gZWVlmjt3rgoLC2Wz2dS+fXvdeeedCgwMrO3+AAAAPILLjxxYsWKFWrdurZdeekllZWU6dOiQXnrpJbVp04bnNAEAgAuWyytNY8eO1a233qpZs2bJy8tLklRVVaUxY8Zo7NixKigoqPUmAQAA3M3llaadO3dqwoQJZmCSJC8vL40fP54v7AUAABcsl0NT165dVVhYWGN/YWGhOnfuXBs9AQAAeByXL8+lpKTo/vvv19dff63Y2FhJUm5urv75z39q+vTp+vLLL83ajh071l6nAAAAbuRyaBo+fLgk6YEHHjjrmM1m40GXAADgguNyaNq1a1dd9AEAAODRXA5NrVq1qos+AAAAPNoverjlt99+q9WrV6u0tFTV1dVOYykpKbXSGAAAgCdx+dNz8+bN0+WXX67Ro0frueee08yZM83XCy+84NKxVq5cqQEDBig8PFw2m02LFi0yx06ePKkHH3xQUVFR8vPzU3h4uO644w599913Tsfo1auXbDab0+u2225zqikrK1NSUpLsdrvsdruSkpJ0+PBhp5q9e/dqwIAB8vPzU1BQkFJSUlRZWenS+QAAgAuXy6Hp8ccf1+OPPy6Hw6Hdu3dr165d5uubb75x6VjHjh1Tp06dlJ6eXmPs+PHj2rRpkx577DFt2rRJCxYs0FdffaWBAwfWqE1OTlZxcbH5evnll53GR4wYofz8fGVlZSkrK0v5+flKSkoyx6uqqtS/f38dO3ZMq1atUmZmpt577z1NmDDBpfMBAAAXLpcvzx0/fly33XabGjRwOW/VkJCQoISEhLOO2e125eTkOO37xz/+oWuvvVZ79+5Vy5Ytzf2+vr4KDQ0963EKCwuVlZWl3NxcdevWTZI0Z84cxcXFafv27WrXrp2ys7O1bds2FRUVKTw8XJI0Y8YMjRo1Sk899ZQCAgJ+9bkCAID6zeXkM3r0aL3zzjt10cvPcjgcstlsatq0qdP+jIwMBQUF6eqrr9bEiRN15MgRc2zt2rWy2+1mYJKk2NhY2e12rVmzxqyJjIw0A5Mk9e3bVxUVFcrLyztnPxUVFSovL3d6AQCAC5PLK01paWlKTExUVlaWoqKi1KhRI6fx559/vtaa+6kffvhBDz30kEaMGOG08nP77berTZs2Cg0NVUFBgSZNmqQvvvjCXKUqKSlRcHBwjeMFBwerpKTErAkJCXEab9asmby9vc2as0lLS9PUqVNr4/QAAICHczk0TZs2TZ9++qnatWsnSbLZbObYT3+uTSdPntRtt92m6upq/etf/3IaS05ONn+OjIxU27ZtFRMTo02bNqlr167n7Ov0AzjP1/uZNWeaNGmSxo8fb26Xl5crIiLC+okBAIB6w+XQ9Pzzz+vVV1/VqFGj6qCdmk6ePKlhw4Zp165dWrp06c/eX9S1a1c1atRIO3bsUNeuXRUaGqr9+/fXqDtw4IC5uhQaGqp169Y5jZeVlenkyZM1VqB+ysfHRz4+Pr/grAAAQH3j8j1NPj4+6tGjR130UsPpwLRjxw4tWbJEzZs3/9nf2bp1q06ePKmwsDBJUlxcnBwOh9avX2/WrFu3Tg6HQ927dzdrCgoKVFxcbNZkZ2fLx8dH0dHRtXxWAACgPnI5NN1///36xz/+UStvfvToUeXn5ys/P1/Sj1/Rkp+fr7179+rUqVP6wx/+oI0bNyojI0NVVVUqKSlRSUmJ+fyknTt36oknntDGjRu1e/duffzxx/rjH/+oLl26mMGuffv26tevn5KTk5Wbm6vc3FwlJycrMTHRvMQYHx+vDh06KCkpSZs3b9Znn32miRMnKjk5mU/OAQAASb/g8tz69eu1dOlSffTRR7r66qtr3Ai+YMECy8fauHGjbrjhBnP79P1BI0eO1JQpU/TBBx9Ikjp37uz0e8uWLVOvXr3k7e2tzz77TC+++KKOHj2qiIgI9e/fX5MnT5aXl5dZn5GRoZSUFMXHx0uSBg4c6PRsKC8vLy1evFhjxoxRjx491KRJE40YMULPPfec5XMBAAAXNpdDU9OmTTVkyJBaefNevXrJMIxzjp9vTJIiIiK0YsWKn32fwMBAvfnmm+etadmypT766KOfPRYAALg4uRya5s2bVxd9AAAAeLRf/1hvAACAi4DLK02S9O677+q///2v9u7dW+NLbTdt2lQrjQEAAHgSl1eaXnrpJd15550KDg7W5s2bde2116p58+b65ptvzvk9cgAAAPWdy6HpX//6l2bPnq309HR5e3vrgQceUE5OjlJSUuRwOOqiRwAAALdzOTTt3bvXfChkkyZNzC/HTUpK0n/+85/a7Q4AAMBDuByaQkNDdfDgQUlSq1atlJubK+nHB1P+3CMCAAAA6iuXQ9ONN96oDz/8UJI0evRo/fWvf9VNN92kW2+9VYMHD671BgEAADyBy5+emz17tqqrqyVJ99xzjwIDA7Vq1SoNGDBA99xzT603CAAA4AlcDk0NGjRQgwb/W6AaNmyYhg0bVqtNAQAAeBqXL89lZWVp1apV5vY///lPde7cWSNGjFBZWVmtNgcAAOApXA5Nf/vb31ReXi5J2rJli8aPH6+bb75Z33zzjfmFuwAAABcaly/P7dq1Sx06dJAkvffeexowYICmTZumTZs26eabb671BgEAADyByytN3t7eOn78uCRpyZIlio+PlyQFBgaaK1AAAAAXGpdXmq677jqNHz9ePXr00Pr16/X2229Lkr766itddtlltd4gAACAJ3B5pSk9PV0NGzbUu+++q1mzZunSSy+VJH3yySfq169frTcIAADgCVxeaWrZsqU++uijGvtnzpxZKw0BAAB4IpdXmgAAAC5GhCYAAAALCE0AAAAWWApNX375pfl9cwAAABcjS6GpS5cu+v777yVJl19+uQ4ePFinTQEAAHgaS6GpadOm2rVrlyRp9+7drDoBAICLjqVHDgwdOlQ9e/ZUWFiYbDabYmJi5OXlddbab775plYbBAAA8ASWQtPs2bM1ZMgQff3110pJSVFycrL8/f3rujcAAACPYfnhlqef9p2Xl6f777+f0AQAAC4qLj8RfN68eebP+/btk81mM79KBQAA4ELl8nOaqqur9cQTT8hut6tVq1Zq2bKlmjZtqr///e/cIA4AAC5YLq80PfLII5o7d66mT5+uHj16yDAMrV69WlOmTNEPP/ygp556qi76BAAAcCuXQ9Nrr72mV155RQMHDjT3derUSZdeeqnGjBlDaAIAABckly/PHTp0SFdddVWN/VdddZUOHTpUK00BAAB4GpdDU6dOnZSenl5jf3p6ujp16lQrTQEAAHgal0PTM888o1dffVUdOnTQ6NGj9ec//1kdOnTQ/Pnz9eyzz7p0rJUrV2rAgAEKDw+XzWbTokWLnMYNw9CUKVMUHh6uJk2aqFevXtq6datTTUVFhcaNG6egoCD5+flp4MCB2rdvn1NNWVmZkpKSZLfbZbfblZSUpMOHDzvV7N27VwMGDJCfn5+CgoKUkpKiyspKl84HAABcuFwOTT179tRXX32lwYMH6/Dhwzp06JCGDBmi7du36/e//71Lxzp27Ng5V66kHwPa888/r/T0dG3YsEGhoaG66aabdOTIEbMmNTVVCxcuVGZmplatWqWjR48qMTFRVVVVZs2IESOUn5+vrKwsZWVlKT8/X0lJSeZ4VVWV+vfvr2PHjmnVqlXKzMzUe++9pwkTJrg4OwAA4ELl8o3gkhQeHl4rN3wnJCQoISHhrGOGYeiFF17QI488oiFDhkj68Sb0kJAQvfXWW/rLX/4ih8OhuXPn6o033lCfPn0kSW+++aYiIiK0ZMkS9e3bV4WFhcrKylJubq66desmSZozZ47i4uK0fft2tWvXTtnZ2dq2bZuKiooUHh4uSZoxY4ZGjRqlp556SgEBAb/6XAEAQP3m8krTb2XXrl0qKSlRfHy8uc/Hx0c9e/bUmjVrJP34dPKTJ0861YSHhysyMtKsWbt2rex2uxmYJCk2NlZ2u92pJjIy0gxMktS3b19VVFQoLy+vTs8TAADUD79opem3UFJSIkkKCQlx2h8SEqI9e/aYNd7e3mrWrFmNmtO/X1JSouDg4BrHDw4Odqo5832aNWsmb29vs+ZsKioqVFFRYW6Xl5dbPT0AAFDPeGxoOs1mszltG4ZRY9+Zzqw5W/0vqTlTWlqapk6det5eAODntH5osbtbAGCBS5fnDMPQnj17dOLEibrqxxQaGipJNVZ6SktLzVWh0NBQVVZWqqys7Lw1+/fvr3H8AwcOONWc+T5lZWU6efJkjRWon5o0aZIcDof5KioqcvEsAQBAfeFyaGrbtm2Nj/TXhTZt2ig0NFQ5OTnmvsrKSq1YsULdu3eXJEVHR6tRo0ZONcXFxSooKDBr4uLi5HA4tH79erNm3bp1cjgcTjUFBQUqLi42a7Kzs+Xj46Po6Ohz9ujj46OAgACnFwAAuDC5dHmuQYMGatu2rQ4ePKi2bdv+6jc/evSovv76a3N7165dys/PV2BgoFq2bKnU1FRNmzZNbdu2Vdu2bTVt2jT5+vpqxIgRkiS73a7Ro0drwoQJat68uQIDAzVx4kRFRUWZn6Zr3769+vXrp+TkZL388suSpLvvvluJiYlq166dJCk+Pl4dOnRQUlKSnn32WR06dEgTJ05UcnIyQQgAAEj6hQ+3/Nvf/qaCgoJf/eYbN25Uly5d1KVLF0nS+PHj1aVLFz3++OOSpAceeECpqakaM2aMYmJi9O233yo7O1v+/v7mMWbOnKlBgwZp2LBh6tGjh3x9ffXhhx/Ky8vLrMnIyFBUVJTi4+MVHx+vjh076o033jDHvby8tHjxYjVu3Fg9evTQsGHDNGjQID333HO/+hwBAMCFwWYYhuHKLzRr1kzHjx/XqVOn5O3trSZNmjiNX8zfP1deXi673S6Hw8EKFXCR85Sbu3dP72+51pWeXTku4Oms/v12+dNzL7zwwq/pCwAAoF5yOTSNHDmyLvoAAADwaL/oieA7d+7Uo48+quHDh6u0tFSSlJWVVePLdAEAAC4ULoemFStWKCoqSuvWrdOCBQt09OhRSdKXX36pyZMn13qDAAAAnsDl0PTQQw/pySefVE5Ojry9vc39N9xwg9auXVurzQEAAHgKl0PTli1bNHjw4Br7W7RooYMHD9ZKUwAAAJ7G5RvBmzZtquLiYrVp08Zp/+bNm3XppZfWWmMAgF/PUx59AFwIXF5pGjFihB588EGVlJTIZrOpurpaq1ev1sSJE3XHHXfURY8AAABu53Joeuqpp9SyZUtdeumlOnr0qDp06KDrr79e3bt316OPPloXPQIAALidy5fnGjVqpIyMDD3xxBPavHmzqqur1aVLl1r5LjoAAABP5XJoOu2KK67Q5ZdfLkmy2Wy11hAAAIAn+kUPt5w7d64iIyPVuHFjNW7cWJGRkXrllVdquzcAAACP4fJK02OPPaaZM2dq3LhxiouLkyStXbtWf/3rX7V79249+eSTtd4kAACAu7kcmmbNmqU5c+Zo+PDh5r6BAweqY8eOGjduHKEJAABckFy+PFdVVaWYmJga+6Ojo3Xq1KlaaQoAAMDTuBya/vSnP2nWrFk19s+ePVu33357rTQFAADgaSxdnhs/frz5s81m0yuvvKLs7GzFxsZKknJzc1VUVMTDLQEAwAXLUmjavHmz03Z0dLQkaefOnZJ+/N65Fi1aaOvWrbXcHgAAgGewFJqWLVtW130AAAB4tF/0nCYAAICLjcuPHPjhhx/0j3/8Q8uWLVNpaamqq6udxjdt2lRrzQEAAHgKl0PTXXfdpZycHP3hD3/Qtddey1eoAACAi4LLoWnx4sX6+OOP1aNHj7roBwAAwCO5fE/TpZdeKn9//7roBQAAwGO5HJpmzJihBx98UHv27KmLfgAAADySy5fnYmJi9MMPP+jyyy+Xr6+vGjVq5DR+6NChWmsOAADAU7gcmoYPH65vv/1W06ZNU0hICDeCAwCAi4LLoWnNmjVau3atOnXqVBf9AAAAeCSX72m66qqrdOLEibroBQAAwGO5HJqmT5+uCRMmaPny5Tp48KDKy8udXgAAABcily/P9evXT5LUu3dvp/2GYchms6mqqqp2OgMAAPAgLocmvrwXAABcjFwOTT179qyLPgAAADyay/c0rVy58ryv2ta6dWvZbLYar7Fjx0qSRo0aVWMsNjbW6RgVFRUaN26cgoKC5Ofnp4EDB2rfvn1ONWVlZUpKSpLdbpfdbldSUpIOHz5c6+cDAADqJ5dXmnr16lVj30+f1VTb9zRt2LDB6ZgFBQW66aab9Mc//tHc169fP82bN8/c9vb2djpGamqqPvzwQ2VmZqp58+aaMGGCEhMTlZeXJy8vL0nSiBEjtG/fPmVlZUmS7r77biUlJenDDz+s1fMBAAD1k8uhqayszGn75MmT2rx5sx577DE99dRTtdbYaS1atHDanj59uq644gqny4Q+Pj4KDQ096+87HA7NnTtXb7zxhvr06SNJevPNNxUREaElS5aob9++KiwsVFZWlnJzc9WtWzdJ0pw5cxQXF6ft27erXbt2tX5eAACgfnH58tzpy1enX0FBQbrpppv0zDPP6IEHHqiLHk2VlZV68803dddddzmtbi1fvlzBwcG68sorlZycrNLSUnMsLy9PJ0+eVHx8vLkvPDxckZGRWrNmjSRp7dq1stvtZmCSpNjYWNntdrPmbCoqKnjkAgAAFwmXQ9O5tGjRQtu3b6+tw53VokWLdPjwYY0aNcrcl5CQoIyMDC1dulQzZszQhg0bdOONN6qiokKSVFJSIm9vbzVr1szpWCEhISopKTFrgoODa7xfcHCwWXM2aWlpTgEyIiKiFs4SAAB4Ipcvz3355ZdO24ZhqLi4WNOnT6/zr1aZO3euEhISFB4ebu679dZbzZ8jIyMVExOjVq1aafHixRoyZMg5j3X6uVKnne079M6sOdOkSZM0fvx4c7u8vJzgBADABcrl0NS5c2fZbDYZhuG0PzY2Vq+++mqtNXamPXv2aMmSJVqwYMF568LCwtSqVSvt2LFDkhQaGqrKykqVlZU5rTaVlpaqe/fuZs3+/ftrHOvAgQMKCQk553v5+PjIx8fnl5wOAACoZ1wOTbt27XLabtCggVq0aKHGjRvXWlNnM2/ePAUHB6t///7nrTt48KCKiooUFhYmSYqOjlajRo2Uk5OjYcOGSZKKi4tVUFCgZ555RpIUFxcnh8Oh9evX69prr5UkrVu3Tg6HwwxWAADg4uZyaGrVqlVd9HFe1dXVmjdvnkaOHKmGDf/X8tGjRzVlyhQNHTpUYWFh2r17tx5++GEFBQVp8ODBkn68cX306NGaMGGCmjdvrsDAQE2cOFFRUVHmp+nat2+vfv36KTk5WS+//LKkHx85kJiYyCfnAACApF8QmiTps88+02effabS0lJVV1c7jdXFJbolS5Zo7969uuuuu5z2e3l5acuWLXr99dd1+PBhhYWF6YYbbtDbb78tf39/s27mzJlq2LChhg0bphMnTqh3796aP3+++YwmScrIyFBKSor5KbuBAwcqPT291s8FAADUTzbjzJuTfsbUqVP1xBNPKCYmRmFhYTVulF64cGGtNliflJeXy263y+FwKCAgwN3tAHCj1g8tdncLdWr39PPfKgHUJ1b/fru80vTvf/9b8+fPV1JS0q9qEAAAoD5x+TlNlZWV3BwNAAAuOi6Hpj//+c9666236qIXAAAAj+Xy5bkffvhBs2fP1pIlS9SxY0c1atTIafz555+vteYAAAA8xS96Injnzp0lSQUFBU5j53t6NgAAQH3mcmhatmxZXfQBAADg0WrtC3sBAAAuZIQmAAAACwhNAAAAFhCaAAAALCA0AQAAWEBoAgAAsIDQBAAAYAGhCQAAwAJCEwAAgAWEJgAAAAsITQAAABYQmgAAACwgNAEAAFhAaAIAALCA0AQAAGABoQkAAMACQhMAAIAFDd3dAADUF60fWuzuFgC4EStNAAAAFhCaAAAALCA0AQAAWEBoAgAAsIDQBAAAYAGhCQAAwAJCEwAAgAWEJgAAAAs8OjRNmTJFNpvN6RUaGmqOG4ahKVOmKDw8XE2aNFGvXr20detWp2NUVFRo3LhxCgoKkp+fnwYOHKh9+/Y51ZSVlSkpKUl2u112u11JSUk6fPjwb3GKAACgnvDo0CRJV199tYqLi83Xli1bzLFnnnlGzz//vNLT07VhwwaFhobqpptu0pEjR8ya1NRULVy4UJmZmVq1apWOHj2qxMREVVVVmTUjRoxQfn6+srKylJWVpfz8fCUlJf2m5wkAADybx3+NSsOGDZ1Wl04zDEMvvPCCHnnkEQ0ZMkSS9NprrykkJERvvfWW/vKXv8jhcGju3Ll644031KdPH0nSm2++qYiICC1ZskR9+/ZVYWGhsrKylJubq27dukmS5syZo7i4OG3fvl3t2rX77U4WAAB4LI9fadqxY4fCw8PVpk0b3Xbbbfrmm28kSbt27VJJSYni4+PNWh8fH/Xs2VNr1qyRJOXl5enkyZNONeHh4YqMjDRr1q5dK7vdbgYmSYqNjZXdbjdrzqWiokLl5eVOLwAAcGHy6JWmbt266fXXX9eVV16p/fv368knn1T37t21detWlZSUSJJCQkKcfickJER79uyRJJWUlMjb21vNmjWrUXP690tKShQcHFzjvYODg82ac0lLS9PUqVN/8fkBwMXClS873j29fx12AvxyHr3SlJCQoKFDhyoqKkp9+vTR4sU//kv32muvmTU2m83pdwzDqLHvTGfWnK3eynEmTZokh8NhvoqKin72nAAAQP3k0aHpTH5+foqKitKOHTvM+5zOXA0qLS01V59CQ0NVWVmpsrKy89bs37+/xnsdOHCgxirWmXx8fBQQEOD0AgAAF6Z6FZoqKipUWFiosLAwtWnTRqGhocrJyTHHKysrtWLFCnXv3l2SFB0drUaNGjnVFBcXq6CgwKyJi4uTw+HQ+vXrzZp169bJ4XCYNQAAAB59T9PEiRM1YMAAtWzZUqWlpXryySdVXl6ukSNHymazKTU1VdOmTVPbtm3Vtm1bTZs2Tb6+vhoxYoQkyW63a/To0ZowYYKaN2+uwMBATZw40bzcJ0nt27dXv379lJycrJdfflmSdPfddysxMZFPzgEAAJNHh6Z9+/Zp+PDh+v7779WiRQvFxsYqNzdXrVq1kiQ98MADOnHihMaMGaOysjJ169ZN2dnZ8vf3N48xc+ZMNWzYUMOGDdOJEyfUu3dvzZ8/X15eXmZNRkaGUlJSzE/ZDRw4UOnp6b/tyQIAAI9mMwzDcHcTF4ry8nLZ7XY5HA7ubwLcpC4/peXKsS90dTl3fHoOvzWrf7/r1T1NAAAA7kJoAgAAsMCj72kCAHgmLlXiYsRKEwAAgAWEJgAAAAsITQAAABYQmgAAACwgNAEAAFjAp+cAXLT4BBgAV7DSBAAAYAGhCQAAwAJCEwAAgAWEJgAAAAsITQAAABYQmgAAACwgNAEAAFhAaAIAALCA0AQAAGABoQkAAMACQhMAAIAFhCYAAAALCE0AAAAWEJoAAAAsIDQBAABYQGgCAACwgNAEAABgAaEJAADAAkITAACABYQmAAAACwhNAAAAFhCaAAAALCA0AQAAWODRoSktLU3XXHON/P39FRwcrEGDBmn79u1ONaNGjZLNZnN6xcbGOtVUVFRo3LhxCgoKkp+fnwYOHKh9+/Y51ZSVlSkpKUl2u112u11JSUk6fPhwXZ8iAACoJzw6NK1YsUJjx45Vbm6ucnJydOrUKcXHx+vYsWNOdf369VNxcbH5+vjjj53GU1NTtXDhQmVmZmrVqlU6evSoEhMTVVVVZdaMGDFC+fn5ysrKUlZWlvLz85WUlPSbnCcAAPB8Dd3dwPlkZWU5bc+bN0/BwcHKy8vT9ddfb+738fFRaGjoWY/hcDg0d+5cvfHGG+rTp48k6c0331RERISWLFmivn37qrCwUFlZWcrNzVW3bt0kSXPmzFFcXJy2b9+udu3a1dEZAgCA+sKjV5rO5HA4JEmBgYFO+5cvX67g4GBdeeWVSk5OVmlpqTmWl5enkydPKj4+3twXHh6uyMhIrVmzRpK0du1a2e12MzBJUmxsrOx2u1lzNhUVFSovL3d6AQCAC1O9CU2GYWj8+PG67rrrFBkZae5PSEhQRkaGli5dqhkzZmjDhg268cYbVVFRIUkqKSmRt7e3mjVr5nS8kJAQlZSUmDXBwcE13jM4ONisOZu0tDTzHii73a6IiIjaOFUAAOCBPPry3E/dd999+vLLL7Vq1Sqn/bfeeqv5c2RkpGJiYtSqVSstXrxYQ4YMOefxDMOQzWYzt3/687lqzjRp0iSNHz/e3C4vLyc4AQBwgaoXK03jxo3TBx98oGXLlumyyy47b21YWJhatWqlHTt2SJJCQ0NVWVmpsrIyp7rS0lKFhISYNfv3769xrAMHDpg1Z+Pj46OAgACnFwAAuDB5dGgyDEP33XefFixYoKVLl6pNmzY/+zsHDx5UUVGRwsLCJEnR0dFq1KiRcnJyzJri4mIVFBSoe/fukqS4uDg5HA6tX7/erFm3bp0cDodZAwAALm4efXlu7Nixeuutt/T+++/L39/fvL/IbrerSZMmOnr0qKZMmaKhQ4cqLCxMu3fv1sMPP6ygoCANHjzYrB09erQmTJig5s2bKzAwUBMnTlRUVJT5abr27durX79+Sk5O1ssvvyxJuvvuu5WYmMgn5wAAgCQPD02zZs2SJPXq1ctp/7x58zRq1Ch5eXlpy5Ytev3113X48GGFhYXphhtu0Ntvvy1/f3+zfubMmWrYsKGGDRumEydOqHfv3po/f768vLzMmoyMDKWkpJifshs4cKDS09Pr/iQBAEC9YDMMw3B3ExeK8vJy2e12ORwO7m8C3KT1Q4vd3QJ+pd3T+7u7BVxkrP799uh7mgAAADwFoQkAAMACQhMAAIAFhCYAAAALCE0AAAAWEJoAAAAsIDQBAABYQGgCAACwgNAEAABgAaEJAADAAkITAACABYQmAAAACwhNAAAAFhCaAAAALCA0AQAAWEBoAgAAsKChuxsAAOCnWj+02HLt7un967ATwBkrTQAAABYQmgAAACzg8hwAj+fK5RoAqCuEJgBuQRBCbeD+J/yWuDwHAABgAaEJAADAAkITAACABYQmAAAACwhNAAAAFhCaAAAALCA0AQAAWEBoAgAAsIDQBAAAYAGhCQAAwAJCEwAAgAWEpjP861//Ups2bdS4cWNFR0fr888/d3dLAADAAxCafuLtt99WamqqHnnkEW3evFm///3vlZCQoL1797q7NQAA4GY2wzAMdzfhKbp166auXbtq1qxZ5r727dtr0KBBSktL+9nfLy8vl91ul8PhUEBAQF22CngcV75tHqgPdk/v7+4W8Bux+ve74W/Yk0errKxUXl6eHnroIaf98fHxWrNmjZu6AgC4iyv/R4CAdXEgNP2f77//XlVVVQoJCXHaHxISopKSkrP+TkVFhSoqKsxth8Mh6cfECniqyMmfursF4ILT8q/v1MlxC6b2rZPjwtnpv9s/d/GN0HQGm83mtG0YRo19p6WlpWnq1Kk19kdERNRJbwCAi4v9BXd3cHE5cuSI7Hb7OccJTf8nKChIXl5eNVaVSktLa6w+nTZp0iSNHz/e3K6urtahQ4fUvHnzcwatcykvL1dERISKioq4H8oC5ss1zJfrmDPXMF+uY85cU5fzZRiGjhw5ovDw8PPWEZr+j7e3t6Kjo5WTk6PBgweb+3NycnTLLbec9Xd8fHzk4+PjtK9p06a/qo+AgAD+5XEB8+Ua5st1zJlrmC/XMWeuqav5Ot8K02mEpp8YP368kpKSFBMTo7i4OM2ePVt79+7VPffc4+7WAACAmxGafuLWW2/VwYMH9cQTT6i4uFiRkZH6+OOP1apVK3e3BgAA3IzQdIYxY8ZozJgxv/n7+vj4aPLkyTUu9+HsmC/XMF+uY85cw3y5jjlzjSfMFw+3BAAAsICvUQEAALCA0AQAAGABoQkAAMACQhMAAIAFhCYP8K9//Utt2rRR48aNFR0drc8//9zdLXmMlStXasCAAQoPD5fNZtOiRYucxg3D0JQpUxQeHq4mTZqoV69e2rp1q3ua9QBpaWm65ppr5O/vr+DgYA0aNEjbt293qmHO/mfWrFnq2LGj+bC8uLg4ffLJJ+Y4c3V+aWlpstlsSk1NNfcxZ86mTJkim83m9AoNDTXHma+avv32W/3pT39S8+bN5evrq86dOysvL88cd+ecEZrc7O2331ZqaqoeeeQRbd68Wb///e+VkJCgvXv3urs1j3Ds2DF16tRJ6enpZx1/5pln9Pzzzys9PV0bNmxQaGiobrrpJh05cuQ37tQzrFixQmPHjlVubq5ycnJ06tQpxcfH69ixY2YNc/Y/l112maZPn66NGzdq48aNuvHGG3XLLbeY/wFmrs5tw4YNmj17tjp27Oi0nzmr6eqrr1ZxcbH52rJliznGfDkrKytTjx491KhRI33yySfatm2bZsyY4fRtG26dMwNude211xr33HOP076rrrrKeOihh9zUkeeSZCxcuNDcrq6uNkJDQ43p06eb+3744QfDbrcb//73v93QoecpLS01JBkrVqwwDIM5s6JZs2bGK6+8wlydx5EjR4y2bdsaOTk5Rs+ePY3777/fMAz++TqbyZMnG506dTrrGPNV04MPPmhcd9115xx395yx0uRGlZWVysvLU3x8vNP++Ph4rVmzxk1d1R+7du1SSUmJ0/z5+PioZ8+ezN//cTgckqTAwEBJzNn5VFVVKTMzU8eOHVNcXBxzdR5jx45V//791adPH6f9zNnZ7dixQ+Hh4WrTpo1uu+02ffPNN5KYr7P54IMPFBMToz/+8Y8KDg5Wly5dNGfOHHPc3XNGaHKj77//XlVVVQoJCXHaHxISopKSEjd1VX+cniPm7+wMw9D48eN13XXXKTIyUhJzdjZbtmzRJZdcIh8fH91zzz1auHChOnTowFydQ2ZmpjZt2qS0tLQaY8xZTd26ddPrr7+uTz/9VHPmzFFJSYm6d++ugwcPMl9n8c0332jWrFlq27atPv30U91zzz1KSUnR66+/Lsn9/4zxNSoewGazOW0bhlFjH86N+Tu7++67T19++aVWrVpVY4w5+5927dopPz9fhw8f1nvvvaeRI0dqxYoV5jhz9T9FRUW6//77lZ2drcaNG5+zjjn7n4SEBPPnqKgoxcXF6YorrtBrr72m2NhYSczXT1VXVysmJkbTpk2TJHXp0kVbt27VrFmzdMcdd5h17pozVprcKCgoSF5eXjXScWlpaY0UjZpOfwKF+atp3Lhx+uCDD7Rs2TJddtll5n7mrCZvb2/97ne/U0xMjNLS0tSpUye9+OKLzNVZ5OXlqbS0VNHR0WrYsKEaNmyoFStW6KWXXlLDhg3NeWHOzs3Pz09RUVHasWMH/4ydRVhYmDp06OC0r3379uaHo9w9Z4QmN/L29lZ0dLRycnKc9ufk5Kh79+5u6qr+aNOmjUJDQ53mr7KyUitWrLho588wDN13331asGCBli5dqjZt2jiNM2c/zzAMVVRUMFdn0bt3b23ZskX5+fnmKyYmRrfffrvy8/N1+eWXM2c/o6KiQoWFhQoLC+OfsbPo0aNHjcekfPXVV2rVqpUkD/hvWJ3fao7zyszMNBo1amTMnTvX2LZtm5Gammr4+fkZu3fvdndrHuHIkSPG5s2bjc2bNxuSjOeff97YvHmzsWfPHsMwDGP69OmG3W43FixYYGzZssUYPny4ERYWZpSXl7u5c/e49957DbvdbixfvtwoLi42X8ePHzdrmLP/mTRpkrFy5Upj165dxpdffmk8/PDDRoMGDYzs7GzDMJgrK3766TnDYM7ONGHCBGP58uXGN998Y+Tm5hqJiYmGv7+/+d945svZ+vXrjYYNGxpPPfWUsWPHDiMjI8Pw9fU13nzzTbPGnXNGaPIA//znP41WrVoZ3t7eRteuXc2Ph8Mwli1bZkiq8Ro5cqRhGD9+/HTy5MlGaGio4ePjY1x//fXGli1b3Nu0G51triQZ8+bNM2uYs/+56667zH/3WrRoYfTu3dsMTIbBXFlxZmhizpzdeuutRlhYmNGoUSMjPDzcGDJkiLF161ZznPmq6cMPPzQiIyMNHx8f46qrrjJmz57tNO7OObMZhmHU/XoWAABA/cY9TQAAABYQmgAAACwgNAEAAFhAaAIAALCA0AQAAGABoQkAAMACQhMAAIAFhCYAv0ivXr2Umprq7jYkScuXL5fNZtPhw4dr/dhTpkxRSEiIbDabFi1aVOvHryu7d++WzWZTfn6+u1sBLhiEJgD1ym8Z1goLCzV16lS9/PLLKi4udvrGegAXn4bubgAAPNXOnTslSbfccotsNpubuwHgbqw0AagVlZWVeuCBB3TppZfKz89P3bp10/Lly83x+fPnq2nTpvr000/Vvn17XXLJJerXr5+Ki4vNmlOnTiklJUVNmzZV8+bN9eCDD2rkyJEaNGiQJGnUqFFasWKFXnzxRdlsNtlsNu3evdv8/by8PMXExMjX11fdu3ev8W3pZ9qyZYtuvPFGNWnSRM2bN9fdd9+to0ePSvrxstyAAQMkSQ0aNDhnaCorK9Ptt9+uFi1aqEmTJmrbtq3mzZtnjj/44IO68sor5evrq8svv1yPPfaYTp48aY5PmTJFnTt31quvvqqWLVvqkksu0b333quqqio988wzCg0NVXBwsJ566imn97XZbJo1a5YSEhLUpEkTtWnTRu+88855z3fbtm26+eabdckllygkJERJSUn6/vvvzfF3331XUVFR5nz06dNHx44dO+8xgYsJoQlArbjzzju1evVqZWZm6ssvv9Qf//hH9evXTzt27DBrjh8/rueee05vvPGGVq5cqb1792rixInm+NNPP62MjAzNmzdPq1evVnl5udN9RC+++KLi4uKUnJys4uJiFRcXKyIiwhx/5JFHNGPGDG3cuFENGzbUXXfddc5+jx8/rn79+qlZs2basGGD3nnnHS1ZskT33XefJGnixIlm+Dn9Xmfz2GOPadu2bfrkk09UWFioWbNmKSgoyBz39/fX/PnztW3bNr344ouaM2eOZs6c6XSMnTt36pNPPlFWVpb+85//6NVXX1X//v21b98+rVixQk8//bQeffRR5ebm1njvoUOH6osvvtCf/vQnDR8+XIWFhWfts7i4WD179lTnzp21ceNGZWVlaf/+/Ro2bJg5Pnz4cN11110qLCzU8uXLNWTIEPH1pMBP/CZfCwzggvPTb7f/+uuvDZvNZnz77bdONb179zYmTZpkGIZhzJs3z5BkfP311+b4P//5TyMkJMTcDgkJMZ599llz+9SpU0bLli2NW2655azve9qyZcsMScaSJUvMfYsXLzYkGSdOnDhr/7NnzzaaNWtmHD161Ol3GjRoYJSUlBiGYRgLFy40fu4/kwMGDDDuvPPO89b81DPPPGNER0eb25MnTzZ8fX2N8vJyc1/fvn2N1q1bG1VVVea+du3aGWlpaea2JOOee+5xOna3bt2Me++91zAMw9i1a5chydi8ebNhGIbx2GOPGfHx8U71RUVFhiRj+/btRl5eniHJ2L17t+VzAS423NME4FfbtGmTDMPQlVde6bS/oqJCzZs3N7d9fX11xRVXmNthYWEqLS2VJDkcDu3fv1/XXnutOe7l5aXo6GhVV1db6qNjx45Ox5ak0tJStWzZskZtYWGhOnXqJD8/P3Nfjx49VF1dre3btyskJMTSe957770aOnSoNm3apPj4eA0aNEjdu3c3x99991298MIL+vrrr3X06FGdOnVKAQEBTsdo3bq1/P39ze2QkBB5eXmpQYMGTvtOz9VpcXFxNbbP9Wm5vLw8LVu2TJdcckmNsZ07dyo+Pl69e/dWVFSU+vbtq/j4eP3hD39Qs2bNLM0DcDEgNAH41aqrq+Xl5aW8vDx5eXk5jf30j3SjRo2cxmw2W43LP2feO3Tm+Pn89Pinj3OuwGUYxjnvU3Llpu+EhATt2bNHixcv1pIlS9S7d2+NHTtWzz33nHJzc3Xbbbdp6tSp6tu3r+x2uzIzMzVjxoxz9n36/c+2z0p4PFfv1dXVGjBggJ5++ukaY2FhYfLy8lJOTo7WrFmj7Oxs/eMf/9AjjzyidevWqU2bNj/7vsDFgHuaAPxqXbp0UVVVlUpLS/W73/3O6RUaGmrpGHa7XSEhIVq/fr25r6qqSps3b3aq8/b2VlVV1a/uuUOHDsrPz3e60Xn16tVq0KBBjRWzn9OiRQuNGjVKb775pl544QXNnj3bPF6rVq30yCOPKCYmRm3bttWePXt+de+nnXmPU25urq666qqz1nbt2lVbt25V69ata/xvdHq1zWazqUePHpo6dao2b94sb29vLVy4sNb6Beo7QhOAX+3KK6/U7bffrjvuuEMLFizQrl27tGHDBj399NP6+OOPLR9n3LhxSktL0/vvv6/t27fr/vvvV1lZmdPqSevWrbVu3Trt3r1b33//veVLd2e6/fbb1bhxY40cOVIFBQVatmyZxo0bp6SkJMuX5iTp8ccf1/vvv6+vv/5aW7du1UcffaT27dtLkn73u99p7969yszM1M6dO/XSSy/Vagh555139Oqrr+qrr77S5MmTtX79evNG9jONHTtWhw4d0vDhw7V+/Xp98803ys7O1l133aWqqiqtW7dO06ZN08aNG7V3714tWLBABw4cMM8FAKEJQC2ZN2+e7rjjDk2YMEHt2rXTwIEDtW7dOqdPt/2cBx98UMOHD9cdd9yhuLg4XXLJJerbt68aN25s1kycOFFeXl7q0KGDWrRoob179/6ifn19ffXpp5/q0KFDuuaaa/SHP/xBvXv3Vnp6ukvH8fb21qRJk9SxY0ddf/318vLyUmZmpqQfn+/017/+Vffdd586d+6sNWvW6LHHHvtF/Z7N1KlTlZmZqY4dO+q1115TRkaGOnTocNba8PBwrV69WlVVVerbt68iIyN1//33y263q0GDBgoICNDKlSt1880368orr9Sjjz6qGTNm8EBP4Cdshis3DADAb6i6ulrt27fXsGHD9Pe//93d7XgUm82mhQsXms+wAlD3uBEcgMfYs2ePsrOz1bNnT1VUVCg9PV27du3SiBEj3N0aAHB5DoDnaNCggebPn69rrrlGPXr00JYtW7RkyRLuqwHgEbg8BwAAYAErTQAAABYQmgAAACwgNAEAAFhAaAIAALCA0AQAAGABoQkAAMACQhMAAIAFhCYAAAALCE0AAAAW/H/XnbhDmRl+EwAAAABJRU5ErkJggg==",
      "text/plain": [
       "<Figure size 640x480 with 1 Axes>"
      ]
     },
     "metadata": {},
     "output_type": "display_data"
    },
    {
     "data": {
      "image/png": "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",
      "text/plain": [
       "<Figure size 640x480 with 1 Axes>"
      ]
     },
     "metadata": {},
     "output_type": "display_data"
    }
   ],
=======
   "execution_count": null,
   "id": "17186384",
   "metadata": {},
   "outputs": [],
>>>>>>> update GD01
   "source": [
    "#샘풀 문장 길이 분포\n",
    "import matplotlib.pyplot as plt\n",
    "\n",
    "text_len = [len(s.split()) for s in data['text']]\n",
    "headlines_len = [len(s.split()) for s in data['headlines']]\n",
    "\n",
    "print('텍스트의 최소 길이 : {}'.format(np.min(text_len)))\n",
    "print('텍스트의 최대 길이 : {}'.format(np.max(text_len)))\n",
    "print('텍스트의 평균 길이 : {}'.format(np.mean(text_len)))\n",
    "print('요약의 최소 길이 : {}'.format(np.min(headlines_len)))\n",
    "print('요약의 최대 길이 : {}'.format(np.max(headlines_len)))\n",
    "print('요약의 평균 길이 : {}'.format(np.mean(headlines_len)))\n",
    "\n",
    "plt.subplot(1,2,1)\n",
    "plt.boxplot(text_len)\n",
    "plt.title('Text')\n",
    "plt.subplot(1,2,2)\n",
    "plt.boxplot(headlines_len)\n",
    "plt.title('headline')\n",
    "plt.tight_layout()\n",
    "plt.show()\n",
    "\n",
    "plt.title('Text')\n",
    "plt.hist(text_len, bins = 40)\n",
    "plt.xlabel('length of samples')\n",
    "plt.ylabel('number of samples')\n",
    "plt.show()\n",
    "\n",
    "plt.title('headlines')\n",
<<<<<<< HEAD
    "plt.hist(headlines_len, bins = 40)\n",
=======
    "plt.hist(summary_len, bins = 40)\n",
>>>>>>> update GD01
    "plt.xlabel('length of samples')\n",
    "plt.ylabel('number of samples')\n",
    "plt.show()"
   ]
  },
  {
   "cell_type": "code",
<<<<<<< HEAD
   "execution_count": 20,
   "id": "ce5bbe3d",
   "metadata": {},
   "outputs": [
    {
     "name": "stdout",
     "output_type": "stream",
     "text": [
      "text 최대길이: 43\n",
      "headlines 최대길이: 12\n"
     ]
    }
   ],
   "source": [
    "#Text의 최대 길이와 Summary의 적절한 최대 길이\n",
    "text_max_len = 43\n",
    "headlines_max_len = 12\n",
    "\n",
    "print('text 최대길이:', text_max_len)\n",
    "print('headlines 최대길이:', headlines_max_len)"
=======
   "execution_count": null,
   "id": "972acd92",
   "metadata": {},
   "outputs": [],
   "source": [
    "#Text의 최대 길이와 Summary의 적절한 최대 길이\n",
    "text_max_len = ?\n",
    "headline_max_len = 8??"
>>>>>>> update GD01
   ]
  },
  {
   "cell_type": "code",
<<<<<<< HEAD
   "execution_count": 21,
   "id": "aaf6e245",
   "metadata": {},
   "outputs": [
    {
     "name": "stdout",
     "output_type": "stream",
     "text": [
      "전체 샘플 중 길이가 43 이하인 샘플의 비율: 98.72%\n",
      "전체 샘플 중 길이가 12 이하인 샘플의 비율: 98.80%\n"
     ]
    }
   ],
   "source": [
    "def below_threshold_len(max_len, nested_list):\n",
    "    cnt = 0\n",
    "    for s in nested_list:\n",
    "        if isinstance(s, str) and len(s.split()) <= max_len:\n",
    "            cnt += 1\n",
    "    print('전체 샘플 중 길이가 %s 이하인 샘플의 비율: %.2f%%' % (max_len, (cnt / len(nested_list)) * 100))\n",
    "\n",
    "below_threshold_len(text_max_len, data['text'])\n",
    "below_threshold_len(headlines_max_len, data['headlines'])"
   ]
  },
  {
   "cell_type": "markdown",
   "id": "c20d444a",
   "metadata": {},
   "source": [
    "### Text와 headlines를 담고 있는 data 데이터프레임을 위에서 임의로 정의한 text_max_len과 headlines_max_len의 길이보다 큰 샘플을 제외"
=======
   "execution_count": null,
   "id": "495560c0",
   "metadata": {},
   "outputs": [],
   "source": [
    "def below_threshold_len(max_len, nested_list):\n",
    "  cnt = 0\n",
    "  for s in nested_list:\n",
    "    if(len(s.split()) <= max_len):\n",
    "        cnt = cnt + 1\n",
    "  print('전체 샘플 중 길이가 %s 이하인 샘플의 비율: %s'%(max_len, (cnt / len(nested_list))))\n",
    "print('=3')"
>>>>>>> update GD01
   ]
  },
  {
   "cell_type": "code",
<<<<<<< HEAD
   "execution_count": 23,
   "id": "84117fa2-c7c5-4f91-aa44-2b81d6954269",
   "metadata": {},
   "outputs": [
    {
     "name": "stdout",
     "output_type": "stream",
     "text": [
      "전체 샘플수 : 95935\n"
     ]
    }
   ],
   "source": [
    "data = data.dropna(subset=['text', 'headlines'])\n",
    "data = data[data['text'].apply(lambda x: len(x.split()) <= text_max_len)]\n",
    "data = data[data['headlines'].apply(lambda x: len(x.split()) <= headlines_max_len)]\n",
    "print('전체 샘플수 :',(len(data)))"
   ]
  },
  {
   "cell_type": "code",
   "execution_count": 24,
   "id": "ed328c34-aeb9-4648-8e36-61d9a6bf6774",
   "metadata": {},
   "outputs": [
    {
     "data": {
      "text/html": [
       "<div>\n",
       "<style scoped>\n",
       "    .dataframe tbody tr th:only-of-type {\n",
       "        vertical-align: middle;\n",
       "    }\n",
       "\n",
       "    .dataframe tbody tr th {\n",
       "        vertical-align: top;\n",
       "    }\n",
       "\n",
       "    .dataframe thead th {\n",
       "        text-align: right;\n",
       "    }\n",
       "</style>\n",
       "<table border=\"1\" class=\"dataframe\">\n",
       "  <thead>\n",
       "    <tr style=\"text-align: right;\">\n",
       "      <th></th>\n",
       "      <th>headlines</th>\n",
       "      <th>text</th>\n",
       "    </tr>\n",
       "  </thead>\n",
       "  <tbody>\n",
       "    <tr>\n",
       "      <th>40313</th>\n",
       "      <td>congress leader demands ban on flipkart over s...</td>\n",
       "      <td>congress maharashtra leader radhakrishna vikhe...</td>\n",
       "    </tr>\n",
       "    <tr>\n",
       "      <th>83006</th>\n",
       "      <td>odisha home guards asked to kneel as punishment</td>\n",
       "      <td>odisha home guards reserve inspector ashok kum...</td>\n",
       "    </tr>\n",
       "    <tr>\n",
       "      <th>59492</th>\n",
       "      <td>killed injured in mosque attack in egypt</td>\n",
       "      <td>least people killed injured suspected militant...</td>\n",
       "    </tr>\n",
       "    <tr>\n",
       "      <th>96280</th>\n",
       "      <td>the longest duration between birth of twins is...</td>\n",
       "      <td>maria jones elliot ireland gave birth twins am...</td>\n",
       "    </tr>\n",
       "    <tr>\n",
       "      <th>77659</th>\n",
       "      <td>workers of uk central bank strike for st time ...</td>\n",
       "      <td>employees bank england went three day strike u...</td>\n",
       "    </tr>\n",
       "  </tbody>\n",
       "</table>\n",
       "</div>"
      ],
      "text/plain": [
       "                                               headlines  \\\n",
       "40313  congress leader demands ban on flipkart over s...   \n",
       "83006    odisha home guards asked to kneel as punishment   \n",
       "59492           killed injured in mosque attack in egypt   \n",
       "96280  the longest duration between birth of twins is...   \n",
       "77659  workers of uk central bank strike for st time ...   \n",
       "\n",
       "                                                    text  \n",
       "40313  congress maharashtra leader radhakrishna vikhe...  \n",
       "83006  odisha home guards reserve inspector ashok kum...  \n",
       "59492  least people killed injured suspected militant...  \n",
       "96280  maria jones elliot ireland gave birth twins am...  \n",
       "77659  employees bank england went three day strike u...  "
      ]
     },
     "execution_count": 24,
     "metadata": {},
     "output_type": "execute_result"
    }
   ],
   "source": [
    "data.sample(5)"
=======
   "execution_count": null,
   "id": "68caa1de",
   "metadata": {},
   "outputs": [],
   "source": [
    "below_threshold_len(text_max_len, data['text'])\n",
    "below_threshold_len(summary_max_len,  data['headlines'])"
   ]
  },
  {
   "cell_type": "markdown",
   "id": "3b7d3c83",
   "metadata": {},
   "source": [
    "Text와 Summary를 담고 있는 data 데이터프레임을 \n",
    "위에서 임의로 정의한 text_max_len과 summary_max_len의 길이보다 큰 샘플을 제외"
>>>>>>> update GD01
   ]
  },
  {
   "cell_type": "code",
<<<<<<< HEAD
   "execution_count": 25,
   "id": "20fb8743-b50c-4952-a2f5-ab59e1cf67cb",
   "metadata": {},
   "outputs": [
    {
     "name": "stdout",
     "output_type": "stream",
     "text": [
      "전체 샘플수 : 95935\n"
     ]
    },
    {
     "data": {
      "text/plain": [
       "headlines    0\n",
       "text         0\n",
       "dtype: int64"
      ]
     },
     "execution_count": 25,
     "metadata": {},
     "output_type": "execute_result"
    }
   ],
   "source": [
    "# null 값 확인\n",
    "print('전체 샘플수 :', (len(data)))\n",
    "data.isnull().sum()"
=======
   "execution_count": null,
   "id": "654184a7",
   "metadata": {},
   "outputs": [],
   "source": [
    "\n",
    "data['text'].apply(lambda x : x if len(x) <= text_max_len else None)\n",
    "data['headlines'].apply(lambda x: x if len(x) <= summary_max_len else None )\n",
    "\n",
    "print('전체 샘플수 :', (len(data)))\n",
    "data.sample(5)\n",
    "data.isnull().sum()\n"
>>>>>>> update GD01
   ]
  },
  {
   "cell_type": "markdown",
<<<<<<< HEAD
   "id": "3446dd74",
=======
   "id": "c46bdc83",
>>>>>>> update GD01
   "metadata": {},
   "source": [
    "## 시작 토큰과 종료 토큰 추가하기"
   ]
  },
  {
   "cell_type": "code",
<<<<<<< HEAD
   "execution_count": 27,
   "id": "df7c0620",
   "metadata": {},
   "outputs": [
    {
     "data": {
      "text/html": [
       "<div>\n",
       "<style scoped>\n",
       "    .dataframe tbody tr th:only-of-type {\n",
       "        vertical-align: middle;\n",
       "    }\n",
       "\n",
       "    .dataframe tbody tr th {\n",
       "        vertical-align: top;\n",
       "    }\n",
       "\n",
       "    .dataframe thead th {\n",
       "        text-align: right;\n",
       "    }\n",
       "</style>\n",
       "<table border=\"1\" class=\"dataframe\">\n",
       "  <thead>\n",
       "    <tr style=\"text-align: right;\">\n",
       "      <th></th>\n",
       "      <th>headlines</th>\n",
       "      <th>text</th>\n",
       "      <th>decoder_input</th>\n",
       "      <th>decoder_target</th>\n",
       "    </tr>\n",
       "  </thead>\n",
       "  <tbody>\n",
       "    <tr>\n",
       "      <th>0</th>\n",
       "      <td>upgrad learner switches to career in ml al wit...</td>\n",
       "      <td>saurav kant alumnus upgrad iiit pg program mac...</td>\n",
       "      <td>sostoken saurav kant alumnus upgrad iiit pg pr...</td>\n",
       "      <td>upgrad learner switches to career in ml al wit...</td>\n",
       "    </tr>\n",
       "    <tr>\n",
       "      <th>2</th>\n",
       "      <td>new zealand end rohit sharma led india match w...</td>\n",
       "      <td>new zealand defeated india wickets fourth odi ...</td>\n",
       "      <td>sostoken new zealand defeated india wickets fo...</td>\n",
       "      <td>new zealand end rohit sharma led india match w...</td>\n",
       "    </tr>\n",
       "    <tr>\n",
       "      <th>3</th>\n",
       "      <td>aegon life iterm insurance plan helps customer...</td>\n",
       "      <td>aegon life iterm insurance plan customers enjo...</td>\n",
       "      <td>sostoken aegon life iterm insurance plan custo...</td>\n",
       "      <td>aegon life iterm insurance plan helps customer...</td>\n",
       "    </tr>\n",
       "    <tr>\n",
       "      <th>5</th>\n",
       "      <td>rahat fateh ali khan denies getting notice for...</td>\n",
       "      <td>pakistani singer rahat fateh ali khan denied r...</td>\n",
       "      <td>sostoken pakistani singer rahat fateh ali khan...</td>\n",
       "      <td>rahat fateh ali khan denies getting notice for...</td>\n",
       "    </tr>\n",
       "    <tr>\n",
       "      <th>6</th>\n",
       "      <td>india get all out for their lowest odi total i...</td>\n",
       "      <td>india recorded lowest odi total new zealand ge...</td>\n",
       "      <td>sostoken india recorded lowest odi total new z...</td>\n",
       "      <td>india get all out for their lowest odi total i...</td>\n",
       "    </tr>\n",
       "  </tbody>\n",
       "</table>\n",
       "</div>"
      ],
      "text/plain": [
       "                                           headlines  \\\n",
       "0  upgrad learner switches to career in ml al wit...   \n",
       "2  new zealand end rohit sharma led india match w...   \n",
       "3  aegon life iterm insurance plan helps customer...   \n",
       "5  rahat fateh ali khan denies getting notice for...   \n",
       "6  india get all out for their lowest odi total i...   \n",
       "\n",
       "                                                text  \\\n",
       "0  saurav kant alumnus upgrad iiit pg program mac...   \n",
       "2  new zealand defeated india wickets fourth odi ...   \n",
       "3  aegon life iterm insurance plan customers enjo...   \n",
       "5  pakistani singer rahat fateh ali khan denied r...   \n",
       "6  india recorded lowest odi total new zealand ge...   \n",
       "\n",
       "                                       decoder_input  \\\n",
       "0  sostoken saurav kant alumnus upgrad iiit pg pr...   \n",
       "2  sostoken new zealand defeated india wickets fo...   \n",
       "3  sostoken aegon life iterm insurance plan custo...   \n",
       "5  sostoken pakistani singer rahat fateh ali khan...   \n",
       "6  sostoken india recorded lowest odi total new z...   \n",
       "\n",
       "                                      decoder_target  \n",
       "0  upgrad learner switches to career in ml al wit...  \n",
       "2  new zealand end rohit sharma led india match w...  \n",
       "3  aegon life iterm insurance plan helps customer...  \n",
       "5  rahat fateh ali khan denies getting notice for...  \n",
       "6  india get all out for their lowest odi total i...  "
      ]
     },
     "execution_count": 27,
     "metadata": {},
     "output_type": "execute_result"
    }
   ],
=======
   "execution_count": null,
   "id": "491a2fe8",
   "metadata": {},
   "outputs": [],
>>>>>>> update GD01
   "source": [
    "# 요약 데이터에는 시작 토큰과 종료 토큰을 추가한다.\n",
    "data['decoder_input'] = data['text'].apply(lambda x : 'sostoken '+ x)\n",
    "data['decoder_target'] = data['headlines'].apply(lambda x : x + ' eostoken')\n",
    "data.head()"
   ]
  },
  {
   "cell_type": "code",
<<<<<<< HEAD
   "execution_count": 28,
   "id": "4e7083de",
=======
   "execution_count": null,
   "id": "262208c6",
>>>>>>> update GD01
   "metadata": {},
   "outputs": [],
   "source": [
    "encoder_input = np.array(data['text']) # 인코더의 입력\n",
    "decoder_input = np.array(data['decoder_input']) # 디코더의 입력\n",
    "decoder_target = np.array(data['decoder_target']) # 디코더의 레이블"
   ]
  },
  {
   "cell_type": "markdown",
<<<<<<< HEAD
   "id": "6a214af8",
=======
   "id": "92563b5d",
>>>>>>> update GD01
   "metadata": {},
   "source": [
    "## train, test 데이터 분리"
   ]
  },
  {
   "cell_type": "code",
<<<<<<< HEAD
   "execution_count": 30,
   "id": "970b85d6",
   "metadata": {},
   "outputs": [
    {
     "name": "stdout",
     "output_type": "stream",
     "text": [
      "[90809 23829 25296 ... 55702 87288 78414]\n",
      "테스트 데이터의 수 : 28780\n",
      "훈련 데이터의 개수 : 67155\n",
      "훈련 레이블의 개수 : 67155\n",
      "테스트 데이터의 개수 : 28780\n",
      "테스트 레이블의 개수 : 28780\n"
     ]
    }
   ],
=======
   "execution_count": null,
   "id": "9db7abb6",
   "metadata": {},
   "outputs": [],
>>>>>>> update GD01
   "source": [
    "indices = np.arange(encoder_input.shape[0])\n",
    "np.random.shuffle(indices)\n",
    "print(indices)\n",
    "encoder_input = encoder_input[indices]\n",
    "decoder_input = decoder_input[indices]\n",
    "decoder_target = decoder_target[indices]\n",
<<<<<<< HEAD
    "#7:3로 분리\n",
    "n_of_val = int(len(encoder_input)*0.3)\n",
=======
    "#8:2로 분리\n",
    "n_of_val = int(len(encoder_input)*0.2)\n",
>>>>>>> update GD01
    "print('테스트 데이터의 수 :', n_of_val)\n",
    "encoder_input_train = encoder_input[:-n_of_val]\n",
    "decoder_input_train = decoder_input[:-n_of_val]\n",
    "decoder_target_train = decoder_target[:-n_of_val]\n",
    "\n",
    "encoder_input_test = encoder_input[-n_of_val:]\n",
    "decoder_input_test = decoder_input[-n_of_val:]\n",
    "decoder_target_test = decoder_target[-n_of_val:]\n",
    "\n",
    "print('훈련 데이터의 개수 :', len(encoder_input_train))\n",
    "print('훈련 레이블의 개수 :', len(decoder_input_train))\n",
    "print('테스트 데이터의 개수 :', len(encoder_input_test))\n",
    "print('테스트 레이블의 개수 :', len(decoder_input_test))"
   ]
  },
  {
   "cell_type": "markdown",
<<<<<<< HEAD
   "id": "5322b5c4",
=======
   "id": "540bb278",
>>>>>>> update GD01
   "metadata": {},
   "source": [
    "## vocabulary 만들기 정수 인코딩"
   ]
  },
  {
   "cell_type": "code",
<<<<<<< HEAD
   "execution_count": 32,
   "id": "b0dc1f65-cfdb-4ce5-8694-1c9bcf118632",
   "metadata": {},
   "outputs": [
    {
     "name": "stdout",
     "output_type": "stream",
     "text": [
      "단어 집합(vocabulary)의 크기 : 64760\n",
      "등장 빈도가 6번 이하인 희귀 단어의 수: 44271\n",
      "단어 집합에서 희귀 단어를 제외시킬 경우의 단어 집합의 크기 20489\n",
      "단어 집합에서 희귀 단어의 비율: 68.3616429894997\n",
      "전체 등장 빈도에서 희귀 단어 등장 빈도 비율: 3.8454004658510725\n"
     ]
    }
   ],
   "source": [
    "from tensorflow.keras.preprocessing.text import Tokenizer\n",
    "from tensorflow.keras.preprocessing.sequence import pad_sequences\n",
    "src_tokenizer = Tokenizer() # 토크나이저 정의\n",
    "src_tokenizer.fit_on_texts(encoder_input_train) # 입력된 데이터로부터 단어 집합 생성\n",
    "\n",
=======
   "execution_count": null,
   "id": "8d8ecd8d",
   "metadata": {},
   "outputs": [],
   "source": [
    "#입력된 훈련데이터로 단어집합 생성\n",
    "src_tokenizer = Tokenizer() # 토크나이저 정의\n",
    "src_tokenizer.fit_on_texts(encoder_input_train) # 입력된 데이터로부터 단어 집합 생성"
   ]
  },
  {
   "cell_type": "code",
   "execution_count": null,
   "id": "a503ea51",
   "metadata": {},
   "outputs": [],
   "source": [
    "#등장빈도수가 7회 미만인 단어 확인\n",
>>>>>>> update GD01
    "threshold = 7\n",
    "total_cnt = len(src_tokenizer.word_index) # 단어의 수\n",
    "rare_cnt = 0 # 등장 빈도수가 threshold보다 작은 단어의 개수를 카운트\n",
    "total_freq = 0 # 훈련 데이터의 전체 단어 빈도수 총 합\n",
    "rare_freq = 0 # 등장 빈도수가 threshold보다 작은 단어의 등장 빈도수의 총 합\n",
    "\n",
    "# 단어와 빈도수의 쌍(pair)을 key와 value로 받는다.\n",
    "for key, value in src_tokenizer.word_counts.items():\n",
    "    total_freq = total_freq + value\n",
    "\n",
    "    # 단어의 등장 빈도수가 threshold보다 작으면\n",
    "    if(value < threshold):\n",
    "        rare_cnt = rare_cnt + 1\n",
    "        rare_freq = rare_freq + value\n",
    "\n",
    "print('단어 집합(vocabulary)의 크기 :', total_cnt)\n",
    "print('등장 빈도가 %s번 이하인 희귀 단어의 수: %s'%(threshold - 1, rare_cnt))\n",
    "print('단어 집합에서 희귀 단어를 제외시킬 경우의 단어 집합의 크기 %s'%(total_cnt - rare_cnt))\n",
    "print(\"단어 집합에서 희귀 단어의 비율:\", (rare_cnt / total_cnt)*100)\n",
    "print(\"전체 등장 빈도에서 희귀 단어 등장 빈도 비율:\", (rare_freq / total_freq)*100)"
   ]
  },
  {
   "cell_type": "code",
<<<<<<< HEAD
   "execution_count": 33,
   "id": "18b8f660-341e-402b-b7a1-5e2d3b9796df",
   "metadata": {},
   "outputs": [],
   "source": [
    "src_vocab = 20000\n",
    "src_tokenizer = Tokenizer(num_words=src_vocab) # 단어 집합의 크기를 8,000으로 제한\n",
    "src_tokenizer.fit_on_texts(encoder_input_train) # 단어 집합 재생성"
=======
   "execution_count": null,
   "id": "af59294f",
   "metadata": {},
   "outputs": [],
   "source": [
    "#단어 6회 이하인 단어를 인코딩 과정에서 빼고 훈련데이터에서 제거, 어림잡아 8000개로 제한\n",
    "src_vocab = 8000\n",
    "src_tokenizer = Tokenizer(num_words=src_vocab) # 단어 집합의 크기를 8,000으로 제한\n",
    "src_tokenizer.fit_on_texts(encoder_input_train) # 단어 집합 재생성\n",
    "print('=3')"
>>>>>>> update GD01
   ]
  },
  {
   "cell_type": "code",
<<<<<<< HEAD
   "execution_count": 34,
   "id": "65d740f1-69c9-48cc-a5c1-c18cc5eb5d51",
   "metadata": {},
   "outputs": [
    {
     "name": "stdout",
     "output_type": "stream",
     "text": [
      "[[252, 746, 76, 1, 7, 214, 12234, 747, 2959, 34, 5639, 6530, 4573, 81, 67, 579, 5639, 6530, 7, 27, 12659, 4573, 1, 7263, 391, 534, 305, 252, 746, 6530, 121, 5639, 1032], [28, 11, 853, 5211, 349, 67, 636, 4362, 12660, 5211, 166, 776, 6929, 34, 3463, 5042, 2332, 5331, 609, 167, 1415, 10801, 8784, 7759, 5212, 5211, 598, 336, 112, 781, 130, 1821, 1093, 211, 14105], [8310, 619, 1227, 7385, 3132, 9991, 748, 5091, 202, 251, 159, 19, 19, 730, 1021, 151, 35, 64, 977, 619, 6, 6033, 3, 13, 227, 1430, 35, 314, 1744, 146, 35, 154, 2381]]\n"
     ]
    }
   ],
=======
   "execution_count": null,
   "id": "bb4441eb",
   "metadata": {},
   "outputs": [],
>>>>>>> update GD01
   "source": [
    "# 텍스트 시퀀스를 정수 시퀀스로 변환\n",
    "encoder_input_train = src_tokenizer.texts_to_sequences(encoder_input_train) \n",
    "encoder_input_test = src_tokenizer.texts_to_sequences(encoder_input_test)\n",
    "\n",
    "# 잘 진행되었는지 샘플 출력\n",
    "print(encoder_input_train[:3])"
   ]
  },
  {
<<<<<<< HEAD
   "cell_type": "code",
   "execution_count": 35,
   "id": "e09f5b95-eae2-4ec3-ac42-c174055d72b7",
   "metadata": {},
   "outputs": [
    {
     "name": "stdout",
     "output_type": "stream",
     "text": [
      "단어 집합(vocabulary)의 크기 : 64761\n",
      "등장 빈도가 5번 이하인 희귀 단어의 수: 42485\n",
      "단어 집합에서 희귀 단어를 제외시킬 경우의 단어 집합의 크기 22276\n",
      "단어 집합에서 희귀 단어의 비율: 65.60275474436776\n",
      "전체 등장 빈도에서 희귀 단어 등장 빈도 비율: 3.2948672038815254\n"
     ]
    }
   ],
   "source": [
    "tar_tokenizer = Tokenizer() # 토크나이저 정의\n",
    "tar_tokenizer.fit_on_texts(decoder_input_train) # 입력된 데이터로부터 단어 집합 생성\n",
    "\n",
    "threshold = 6\n",
    "total_cnt = len(tar_tokenizer.word_index) # 단어의 수\n",
    "rare_cnt = 0 # 등장 빈도수가 threshold보다 작은 단어의 개수를 카운트\n",
    "total_freq = 0 # 훈련 데이터의 전체 단어 빈도수 총 합\n",
    "rare_freq = 0 # 등장 빈도수가 threshold보다 작은 단어의 등장 빈도수의 총 합\n",
    "\n",
    "# 단어와 빈도수의 쌍(pair)을 key와 value로 받는다.\n",
    "for key, value in tar_tokenizer.word_counts.items():\n",
    "    total_freq = total_freq + value\n",
    "\n",
    "    # 단어의 등장 빈도수가 threshold보다 작으면\n",
    "    if(value < threshold):\n",
    "        rare_cnt = rare_cnt + 1\n",
    "        rare_freq = rare_freq + value\n",
    "\n",
    "print('단어 집합(vocabulary)의 크기 :', total_cnt)\n",
    "print('등장 빈도가 %s번 이하인 희귀 단어의 수: %s'%(threshold - 1, rare_cnt))\n",
    "print('단어 집합에서 희귀 단어를 제외시킬 경우의 단어 집합의 크기 %s'%(total_cnt - rare_cnt))\n",
    "print(\"단어 집합에서 희귀 단어의 비율:\", (rare_cnt / total_cnt)*100)\n",
    "print(\"전체 등장 빈도에서 희귀 단어 등장 빈도 비율:\", (rare_freq / total_freq)*100)"
   ]
  },
  {
   "cell_type": "code",
   "execution_count": 36,
   "id": "40f8573c-91c0-4631-91c4-349bfa1a174d",
   "metadata": {},
   "outputs": [
    {
     "name": "stdout",
     "output_type": "stream",
     "text": [
      "input\n",
      "input  [[1, 261, 865, 85, 3, 12, 178, 786, 3297, 43, 5347, 6894, 1716, 117, 63, 554, 5347, 6894, 12, 33, 1716, 3, 7723, 477, 553, 314, 261, 865, 6894, 170, 5347, 884], [1, 41, 14, 914, 4664, 464, 63, 805, 4289, 4664, 225, 1019, 7929, 43, 3541, 5055, 2558, 5609, 688, 161, 1779, 9451, 8510, 5823, 4664, 624, 376, 125, 700, 146, 1957, 1234, 221], [1, 7930, 585, 1327, 7931, 3494, 699, 5722, 203, 282, 218, 30, 30, 840, 1193, 217, 29, 45, 1109, 585, 11, 6222, 7, 17, 248, 502, 29, 298, 2057, 187, 29, 142, 1583], [1, 14, 226, 829, 2298, 52, 3312, 2851, 1753, 1490, 4851, 307, 542, 2250, 308, 897, 596, 979, 56, 61, 3, 122, 829, 2298, 1540, 647, 1888, 9, 82, 45, 312, 3312, 2242, 122], [1, 276, 632, 234, 1712, 630, 1662, 302, 2703, 5542, 1649, 1774, 95, 358, 869, 105, 2128, 28, 3049, 1056, 105, 428, 2128, 358, 179, 267, 54, 105, 2610, 829, 358, 1349, 869, 1172, 2128, 2400, 34, 126, 267]]\n",
      "target\n",
      "decoder  [[1770, 786, 451, 220, 178, 3297, 43, 1099, 1716, 2731, 5347, 6894, 2], [4664, 1034, 63, 389, 9345, 2], [652, 7930, 1327, 1141, 181, 2731, 375, 16, 605, 17, 248, 2], [10, 307, 523, 2250, 6, 6117, 60, 979, 56, 2], [234, 2703, 5542, 358, 869, 4, 105, 2128, 2]]\n"
     ]
    }
   ],
   "source": [
    "tar_vocab = 10000\n",
    "tar_tokenizer = Tokenizer(num_words=tar_vocab) \n",
    "tar_tokenizer.fit_on_texts(decoder_input_train)\n",
    "tar_tokenizer.fit_on_texts(decoder_target_train)\n",
    "\n",
    "# 텍스트 시퀀스를 정수 시퀀스로 변환\n",
    "decoder_input_train = tar_tokenizer.texts_to_sequences(decoder_input_train) \n",
    "decoder_target_train = tar_tokenizer.texts_to_sequences(decoder_target_train)\n",
    "decoder_input_test = tar_tokenizer.texts_to_sequences(decoder_input_test)\n",
    "decoder_target_test = tar_tokenizer.texts_to_sequences(decoder_target_test)\n",
    "\n",
    "# 잘 변환되었는지 확인\n",
    "print('input')\n",
    "print('input ',decoder_input_train[:5])\n",
    "print('target')\n",
    "print('decoder ',decoder_target_train[:5])"
=======
   "cell_type": "markdown",
   "id": "0d8d2b70",
   "metadata": {},
   "source": [
    "# headline 데이터에 대해서도 동일한 작업 수행\n",
    "tar_tokenizer = Tokenizer()\n",
    "tar_tokenizer.fit_on_texts(decoder_input_train)"
>>>>>>> update GD01
   ]
  },
  {
   "cell_type": "markdown",
<<<<<<< HEAD
   "id": "5b9be5d9",
=======
   "id": "cbab7779",
>>>>>>> update GD01
   "metadata": {},
   "source": [
    "## train, test 데이터에 대해서 요약문의 길이가 1인 경우를 제거"
   ]
  },
  {
   "cell_type": "code",
<<<<<<< HEAD
   "execution_count": 38,
   "id": "3de2d220-1ade-4999-98f2-73f6d0c4256f",
   "metadata": {},
   "outputs": [],
   "source": [
    "for i, sentence in enumerate(decoder_input_train):\n",
    "    if len(sentence) == 1:\n",
    "        print(i, sentence)"
   ]
  },
  {
   "cell_type": "code",
   "execution_count": 39,
   "id": "af9a266e-85c0-4d80-80b8-1908d568e15b",
   "metadata": {},
   "outputs": [
    {
     "name": "stdout",
     "output_type": "stream",
     "text": [
      "길이가 1인 train 데이터 0\n",
      "길이가 1인 test 데이터 0\n"
     ]
    }
   ],
   "source": [
    "drop_train = [\n",
    "    i for i, sentence in enumerate(decoder_input_train)\n",
    "    if not isinstance(sentence, list) or len(sentence) <= 1\n",
    "]\n",
    "print('길이가 1인 train 데이터',len(drop_train))  # 출력: 0\n",
    "\n",
    "drop_test = [\n",
    "    i for i, sentence in enumerate(decoder_input_test)\n",
    "    if not isinstance(sentence, list) or len(sentence) <= 1\n",
    "]\n",
    "print('길이가 1인 test 데이터',len(drop_test))  # 출력 예상: 0\n"
=======
   "execution_count": null,
   "id": "199f7af9",
   "metadata": {},
   "outputs": [],
   "source": [
    "#train, test 데이터에 대해서 요약문의 길이가 1인 경우를 제거\n",
    "drop_train = [index for index, sentence in enumerate(decoder_input_train) if len(sentence) == 1]\n",
    "drop_test = [index for index, sentence in enumerate(decoder_input_test) if len(sentence) == 1]\n",
    "\n",
    "print('삭제할 훈련 데이터의 개수 :', len(drop_train))\n",
    "print('삭제할 테스트 데이터의 개수 :', len(drop_test))\n",
    "\n",
    "encoder_input_train = [sentence for index, sentence in enumerate(encoder_input_train) if index not in drop_train]\n",
    "decoder_input_train = [sentence for index, sentence in enumerate(decoder_input_train) if index not in drop_train]\n",
    "decoder_target_train = [sentence for index, sentence in enumerate(decoder_target_train) if index not in drop_train]\n",
    "\n",
    "encoder_input_test = [sentence for index, sentence in enumerate(encoder_input_test) if index not in drop_test]\n",
    "decoder_input_test = [sentence for index, sentence in enumerate(decoder_input_test) if index not in drop_test]\n",
    "decoder_target_test = [sentence for index, sentence in enumerate(decoder_target_test) if index not in drop_test]\n",
    "\n",
    "print('훈련 데이터의 개수 :', len(encoder_input_train))\n",
    "print('훈련 레이블의 개수 :', len(decoder_input_train))\n",
    "print('테스트 데이터의 개수 :', len(encoder_input_test))\n",
    "print('테스트 레이블의 개수 :', len(decoder_input_test))"
>>>>>>> update GD01
   ]
  },
  {
   "cell_type": "markdown",
<<<<<<< HEAD
   "id": "e4db54e7",
=======
   "id": "4181dafc",
>>>>>>> update GD01
   "metadata": {},
   "source": [
    "## 패딩하기"
   ]
  },
  {
   "cell_type": "code",
<<<<<<< HEAD
   "execution_count": 41,
   "id": "5ab77447",
   "metadata": {},
   "outputs": [],
   "source": [
    "from tensorflow.keras.preprocessing.sequence import pad_sequences\n",
    "encoder_input_train = pad_sequences(encoder_input_train, maxlen=text_max_len, padding='post')\n",
    "encoder_input_test = pad_sequences(encoder_input_test, maxlen=text_max_len, padding='post')\n",
    "decoder_input_train = pad_sequences(decoder_input_train, maxlen=headlines_max_len, padding='post')\n",
    "decoder_target_train = pad_sequences(decoder_target_train, maxlen=headlines_max_len, padding='post')\n",
    "decoder_input_test = pad_sequences(decoder_input_test, maxlen=headlines_max_len, padding='post')\n",
    "decoder_target_test = pad_sequences(decoder_target_test, maxlen=headlines_max_len, padding='post')"
=======
   "execution_count": null,
   "id": "ef503b7d",
   "metadata": {},
   "outputs": [],
   "source": [
    "encoder_input_train = pad_sequences(encoder_input_train, maxlen=text_max_len, padding='post')\n",
    "encoder_input_test = pad_sequences(encoder_input_test, maxlen=text_max_len, padding='post')\n",
    "decoder_input_train = pad_sequences(decoder_input_train, maxlen=summary_max_len, padding='post')\n",
    "decoder_target_train = pad_sequences(decoder_target_train, maxlen=summary_max_len, padding='post')\n",
    "decoder_input_test = pad_sequences(decoder_input_test, maxlen=summary_max_len, padding='post')\n",
    "decoder_target_test = pad_sequences(decoder_target_test, maxlen=summary_max_len, padding='post')\n",
    "print('=3')"
>>>>>>> update GD01
   ]
  },
  {
   "cell_type": "markdown",
<<<<<<< HEAD
   "id": "8fc016e6",
=======
   "id": "25188ea4",
>>>>>>> update GD01
   "metadata": {},
   "source": [
    "# 3. 어텐션 매커니즘 적용\n",
    "- 모델 설계\n",
    "- 모델 훈련\n",
    "- 모델 평가"
   ]
  },
  {
<<<<<<< HEAD
   "cell_type": "code",
   "execution_count": 43,
   "id": "30e56c04-e632-4cdc-b0dd-97b62b792a0f",
   "metadata": {},
   "outputs": [],
   "source": [
    "urllib.request.urlretrieve(\"https://raw.githubusercontent.com/ukairia777/tensorflow-nlp-tutorial/main/20.%20Text%20Summarization%20with%20Attention/attention.py\", filename=\"attention.py\")\n",
    "from attention import AttentionLayer"
   ]
  },
  {
   "cell_type": "markdown",
   "id": "fcba4ebe",
=======
   "cell_type": "markdown",
   "id": "2783dc07",
>>>>>>> update GD01
   "metadata": {},
   "source": [
    "## 어텐션 모델 설계"
   ]
  },
  {
<<<<<<< HEAD
   "cell_type": "markdown",
   "id": "e80c242f-abb3-422e-97b1-63f74568af61",
   "metadata": {},
   "source": [
    "## 양방향 lstm + attention"
   ]
  },
  {
   "cell_type": "code",
   "execution_count": 46,
   "id": "bb27eb1e",
   "metadata": {},
   "outputs": [
    {
     "name": "stdout",
     "output_type": "stream",
     "text": [
      "Epoch 1/50\n"
     ]
    },
    {
     "ename": "KeyboardInterrupt",
     "evalue": "",
     "output_type": "error",
     "traceback": [
      "\u001b[1;31m---------------------------------------------------------------------------\u001b[0m",
      "\u001b[1;31mKeyboardInterrupt\u001b[0m                         Traceback (most recent call last)",
      "Cell \u001b[1;32mIn[46], line 54\u001b[0m\n\u001b[0;32m     47\u001b[0m es \u001b[38;5;241m=\u001b[39m EarlyStopping(monitor\u001b[38;5;241m=\u001b[39m\u001b[38;5;124m'\u001b[39m\u001b[38;5;124mval_loss\u001b[39m\u001b[38;5;124m'\u001b[39m, patience\u001b[38;5;241m=\u001b[39m\u001b[38;5;241m6\u001b[39m, min_delta\u001b[38;5;241m=\u001b[39m\u001b[38;5;241m0.0001\u001b[39m, verbose\u001b[38;5;241m=\u001b[39m\u001b[38;5;241m1\u001b[39m)\n\u001b[0;32m     48\u001b[0m mc \u001b[38;5;241m=\u001b[39m ModelCheckpoint(\n\u001b[0;32m     49\u001b[0m     filepath\u001b[38;5;241m=\u001b[39m\u001b[38;5;124m'\u001b[39m\u001b[38;5;124mbest_model.keras\u001b[39m\u001b[38;5;124m'\u001b[39m,   \u001b[38;5;66;03m# 저장할 파일명\u001b[39;00m\n\u001b[0;32m     50\u001b[0m     monitor\u001b[38;5;241m=\u001b[39m\u001b[38;5;124m'\u001b[39m\u001b[38;5;124mval_loss\u001b[39m\u001b[38;5;124m'\u001b[39m,         \u001b[38;5;66;03m# 검증 손실 기준으로\u001b[39;00m\n\u001b[0;32m     51\u001b[0m     save_best_only\u001b[38;5;241m=\u001b[39m\u001b[38;5;28;01mTrue\u001b[39;00m,        \u001b[38;5;66;03m# 최고 성능만 저장\u001b[39;00m\n\u001b[0;32m     52\u001b[0m     verbose\u001b[38;5;241m=\u001b[39m\u001b[38;5;241m1\u001b[39m\n\u001b[0;32m     53\u001b[0m )\n\u001b[1;32m---> 54\u001b[0m history \u001b[38;5;241m=\u001b[39m model\u001b[38;5;241m.\u001b[39mfit(x\u001b[38;5;241m=\u001b[39m[encoder_input_train, decoder_input_train], y\u001b[38;5;241m=\u001b[39mdecoder_target_train, \\\n\u001b[0;32m     55\u001b[0m           validation_data\u001b[38;5;241m=\u001b[39m([encoder_input_test, decoder_input_test], decoder_target_test), \\\n\u001b[0;32m     56\u001b[0m           batch_size\u001b[38;5;241m=\u001b[39m\u001b[38;5;241m64\u001b[39m, callbacks\u001b[38;5;241m=\u001b[39m[es, mc], epochs\u001b[38;5;241m=\u001b[39m\u001b[38;5;241m50\u001b[39m)\n",
      "File \u001b[1;32m~\\anaconda3\\Lib\\site-packages\\keras\\src\\utils\\traceback_utils.py:117\u001b[0m, in \u001b[0;36mfilter_traceback.<locals>.error_handler\u001b[1;34m(*args, **kwargs)\u001b[0m\n\u001b[0;32m    115\u001b[0m filtered_tb \u001b[38;5;241m=\u001b[39m \u001b[38;5;28;01mNone\u001b[39;00m\n\u001b[0;32m    116\u001b[0m \u001b[38;5;28;01mtry\u001b[39;00m:\n\u001b[1;32m--> 117\u001b[0m     \u001b[38;5;28;01mreturn\u001b[39;00m fn(\u001b[38;5;241m*\u001b[39margs, \u001b[38;5;241m*\u001b[39m\u001b[38;5;241m*\u001b[39mkwargs)\n\u001b[0;32m    118\u001b[0m \u001b[38;5;28;01mexcept\u001b[39;00m \u001b[38;5;167;01mException\u001b[39;00m \u001b[38;5;28;01mas\u001b[39;00m e:\n\u001b[0;32m    119\u001b[0m     filtered_tb \u001b[38;5;241m=\u001b[39m _process_traceback_frames(e\u001b[38;5;241m.\u001b[39m__traceback__)\n",
      "File \u001b[1;32m~\\anaconda3\\Lib\\site-packages\\keras\\src\\backend\\tensorflow\\trainer.py:371\u001b[0m, in \u001b[0;36mTensorFlowTrainer.fit\u001b[1;34m(self, x, y, batch_size, epochs, verbose, callbacks, validation_split, validation_data, shuffle, class_weight, sample_weight, initial_epoch, steps_per_epoch, validation_steps, validation_batch_size, validation_freq)\u001b[0m\n\u001b[0;32m    369\u001b[0m \u001b[38;5;28;01mfor\u001b[39;00m step, iterator \u001b[38;5;129;01min\u001b[39;00m epoch_iterator:\n\u001b[0;32m    370\u001b[0m     callbacks\u001b[38;5;241m.\u001b[39mon_train_batch_begin(step)\n\u001b[1;32m--> 371\u001b[0m     logs \u001b[38;5;241m=\u001b[39m \u001b[38;5;28mself\u001b[39m\u001b[38;5;241m.\u001b[39mtrain_function(iterator)\n\u001b[0;32m    372\u001b[0m     callbacks\u001b[38;5;241m.\u001b[39mon_train_batch_end(step, logs)\n\u001b[0;32m    373\u001b[0m     \u001b[38;5;28;01mif\u001b[39;00m \u001b[38;5;28mself\u001b[39m\u001b[38;5;241m.\u001b[39mstop_training:\n",
      "File \u001b[1;32m~\\anaconda3\\Lib\\site-packages\\keras\\src\\backend\\tensorflow\\trainer.py:219\u001b[0m, in \u001b[0;36mTensorFlowTrainer._make_function.<locals>.function\u001b[1;34m(iterator)\u001b[0m\n\u001b[0;32m    215\u001b[0m \u001b[38;5;28;01mdef\u001b[39;00m \u001b[38;5;21mfunction\u001b[39m(iterator):\n\u001b[0;32m    216\u001b[0m     \u001b[38;5;28;01mif\u001b[39;00m \u001b[38;5;28misinstance\u001b[39m(\n\u001b[0;32m    217\u001b[0m         iterator, (tf\u001b[38;5;241m.\u001b[39mdata\u001b[38;5;241m.\u001b[39mIterator, tf\u001b[38;5;241m.\u001b[39mdistribute\u001b[38;5;241m.\u001b[39mDistributedIterator)\n\u001b[0;32m    218\u001b[0m     ):\n\u001b[1;32m--> 219\u001b[0m         opt_outputs \u001b[38;5;241m=\u001b[39m multi_step_on_iterator(iterator)\n\u001b[0;32m    220\u001b[0m         \u001b[38;5;28;01mif\u001b[39;00m \u001b[38;5;129;01mnot\u001b[39;00m opt_outputs\u001b[38;5;241m.\u001b[39mhas_value():\n\u001b[0;32m    221\u001b[0m             \u001b[38;5;28;01mraise\u001b[39;00m \u001b[38;5;167;01mStopIteration\u001b[39;00m\n",
      "File \u001b[1;32m~\\anaconda3\\Lib\\site-packages\\tensorflow\\python\\util\\traceback_utils.py:150\u001b[0m, in \u001b[0;36mfilter_traceback.<locals>.error_handler\u001b[1;34m(*args, **kwargs)\u001b[0m\n\u001b[0;32m    148\u001b[0m filtered_tb \u001b[38;5;241m=\u001b[39m \u001b[38;5;28;01mNone\u001b[39;00m\n\u001b[0;32m    149\u001b[0m \u001b[38;5;28;01mtry\u001b[39;00m:\n\u001b[1;32m--> 150\u001b[0m   \u001b[38;5;28;01mreturn\u001b[39;00m fn(\u001b[38;5;241m*\u001b[39margs, \u001b[38;5;241m*\u001b[39m\u001b[38;5;241m*\u001b[39mkwargs)\n\u001b[0;32m    151\u001b[0m \u001b[38;5;28;01mexcept\u001b[39;00m \u001b[38;5;167;01mException\u001b[39;00m \u001b[38;5;28;01mas\u001b[39;00m e:\n\u001b[0;32m    152\u001b[0m   filtered_tb \u001b[38;5;241m=\u001b[39m _process_traceback_frames(e\u001b[38;5;241m.\u001b[39m__traceback__)\n",
      "File \u001b[1;32m~\\anaconda3\\Lib\\site-packages\\tensorflow\\python\\eager\\polymorphic_function\\polymorphic_function.py:833\u001b[0m, in \u001b[0;36mFunction.__call__\u001b[1;34m(self, *args, **kwds)\u001b[0m\n\u001b[0;32m    830\u001b[0m compiler \u001b[38;5;241m=\u001b[39m \u001b[38;5;124m\"\u001b[39m\u001b[38;5;124mxla\u001b[39m\u001b[38;5;124m\"\u001b[39m \u001b[38;5;28;01mif\u001b[39;00m \u001b[38;5;28mself\u001b[39m\u001b[38;5;241m.\u001b[39m_jit_compile \u001b[38;5;28;01melse\u001b[39;00m \u001b[38;5;124m\"\u001b[39m\u001b[38;5;124mnonXla\u001b[39m\u001b[38;5;124m\"\u001b[39m\n\u001b[0;32m    832\u001b[0m \u001b[38;5;28;01mwith\u001b[39;00m OptionalXlaContext(\u001b[38;5;28mself\u001b[39m\u001b[38;5;241m.\u001b[39m_jit_compile):\n\u001b[1;32m--> 833\u001b[0m   result \u001b[38;5;241m=\u001b[39m \u001b[38;5;28mself\u001b[39m\u001b[38;5;241m.\u001b[39m_call(\u001b[38;5;241m*\u001b[39margs, \u001b[38;5;241m*\u001b[39m\u001b[38;5;241m*\u001b[39mkwds)\n\u001b[0;32m    835\u001b[0m new_tracing_count \u001b[38;5;241m=\u001b[39m \u001b[38;5;28mself\u001b[39m\u001b[38;5;241m.\u001b[39mexperimental_get_tracing_count()\n\u001b[0;32m    836\u001b[0m without_tracing \u001b[38;5;241m=\u001b[39m (tracing_count \u001b[38;5;241m==\u001b[39m new_tracing_count)\n",
      "File \u001b[1;32m~\\anaconda3\\Lib\\site-packages\\tensorflow\\python\\eager\\polymorphic_function\\polymorphic_function.py:919\u001b[0m, in \u001b[0;36mFunction._call\u001b[1;34m(self, *args, **kwds)\u001b[0m\n\u001b[0;32m    913\u001b[0m   \u001b[38;5;66;03m# If we did not create any variables the trace we have is good enough.\u001b[39;00m\n\u001b[0;32m    914\u001b[0m   filtered_flat_args \u001b[38;5;241m=\u001b[39m (\n\u001b[0;32m    915\u001b[0m       \u001b[38;5;28mself\u001b[39m\u001b[38;5;241m.\u001b[39m_concrete_variable_creation_fn\u001b[38;5;241m.\u001b[39mfunction_type\u001b[38;5;241m.\u001b[39munpack_inputs(\n\u001b[0;32m    916\u001b[0m           bound_args\n\u001b[0;32m    917\u001b[0m       )\n\u001b[0;32m    918\u001b[0m   )\n\u001b[1;32m--> 919\u001b[0m   \u001b[38;5;28;01mreturn\u001b[39;00m \u001b[38;5;28mself\u001b[39m\u001b[38;5;241m.\u001b[39m_concrete_variable_creation_fn\u001b[38;5;241m.\u001b[39m_call_flat(  \u001b[38;5;66;03m# pylint: disable=protected-access\u001b[39;00m\n\u001b[0;32m    920\u001b[0m       filtered_flat_args,\n\u001b[0;32m    921\u001b[0m       \u001b[38;5;28mself\u001b[39m\u001b[38;5;241m.\u001b[39m_concrete_variable_creation_fn\u001b[38;5;241m.\u001b[39mcaptured_inputs,\n\u001b[0;32m    922\u001b[0m   )\n\u001b[0;32m    924\u001b[0m \u001b[38;5;28;01mdef\u001b[39;00m \u001b[38;5;21mfn_with_cond\u001b[39m(inner_args, inner_kwds):\n\u001b[0;32m    925\u001b[0m \u001b[38;5;250m  \u001b[39m\u001b[38;5;124;03m\"\"\"Conditionally runs initialization if it's needed.\"\"\"\u001b[39;00m\n",
      "File \u001b[1;32m~\\anaconda3\\Lib\\site-packages\\tensorflow\\python\\eager\\polymorphic_function\\concrete_function.py:1322\u001b[0m, in \u001b[0;36mConcreteFunction._call_flat\u001b[1;34m(self, tensor_inputs, captured_inputs)\u001b[0m\n\u001b[0;32m   1318\u001b[0m possible_gradient_type \u001b[38;5;241m=\u001b[39m gradients_util\u001b[38;5;241m.\u001b[39mPossibleTapeGradientTypes(args)\n\u001b[0;32m   1319\u001b[0m \u001b[38;5;28;01mif\u001b[39;00m (possible_gradient_type \u001b[38;5;241m==\u001b[39m gradients_util\u001b[38;5;241m.\u001b[39mPOSSIBLE_GRADIENT_TYPES_NONE\n\u001b[0;32m   1320\u001b[0m     \u001b[38;5;129;01mand\u001b[39;00m executing_eagerly):\n\u001b[0;32m   1321\u001b[0m   \u001b[38;5;66;03m# No tape is watching; skip to running the function.\u001b[39;00m\n\u001b[1;32m-> 1322\u001b[0m   \u001b[38;5;28;01mreturn\u001b[39;00m \u001b[38;5;28mself\u001b[39m\u001b[38;5;241m.\u001b[39m_inference_function\u001b[38;5;241m.\u001b[39mcall_preflattened(args)\n\u001b[0;32m   1323\u001b[0m forward_backward \u001b[38;5;241m=\u001b[39m \u001b[38;5;28mself\u001b[39m\u001b[38;5;241m.\u001b[39m_select_forward_and_backward_functions(\n\u001b[0;32m   1324\u001b[0m     args,\n\u001b[0;32m   1325\u001b[0m     possible_gradient_type,\n\u001b[0;32m   1326\u001b[0m     executing_eagerly)\n\u001b[0;32m   1327\u001b[0m forward_function, args_with_tangents \u001b[38;5;241m=\u001b[39m forward_backward\u001b[38;5;241m.\u001b[39mforward()\n",
      "File \u001b[1;32m~\\anaconda3\\Lib\\site-packages\\tensorflow\\python\\eager\\polymorphic_function\\atomic_function.py:216\u001b[0m, in \u001b[0;36mAtomicFunction.call_preflattened\u001b[1;34m(self, args)\u001b[0m\n\u001b[0;32m    214\u001b[0m \u001b[38;5;28;01mdef\u001b[39;00m \u001b[38;5;21mcall_preflattened\u001b[39m(\u001b[38;5;28mself\u001b[39m, args: Sequence[core\u001b[38;5;241m.\u001b[39mTensor]) \u001b[38;5;241m-\u001b[39m\u001b[38;5;241m>\u001b[39m Any:\n\u001b[0;32m    215\u001b[0m \u001b[38;5;250m  \u001b[39m\u001b[38;5;124;03m\"\"\"Calls with flattened tensor inputs and returns the structured output.\"\"\"\u001b[39;00m\n\u001b[1;32m--> 216\u001b[0m   flat_outputs \u001b[38;5;241m=\u001b[39m \u001b[38;5;28mself\u001b[39m\u001b[38;5;241m.\u001b[39mcall_flat(\u001b[38;5;241m*\u001b[39margs)\n\u001b[0;32m    217\u001b[0m   \u001b[38;5;28;01mreturn\u001b[39;00m \u001b[38;5;28mself\u001b[39m\u001b[38;5;241m.\u001b[39mfunction_type\u001b[38;5;241m.\u001b[39mpack_output(flat_outputs)\n",
      "File \u001b[1;32m~\\anaconda3\\Lib\\site-packages\\tensorflow\\python\\eager\\polymorphic_function\\atomic_function.py:251\u001b[0m, in \u001b[0;36mAtomicFunction.call_flat\u001b[1;34m(self, *args)\u001b[0m\n\u001b[0;32m    249\u001b[0m \u001b[38;5;28;01mwith\u001b[39;00m record\u001b[38;5;241m.\u001b[39mstop_recording():\n\u001b[0;32m    250\u001b[0m   \u001b[38;5;28;01mif\u001b[39;00m \u001b[38;5;28mself\u001b[39m\u001b[38;5;241m.\u001b[39m_bound_context\u001b[38;5;241m.\u001b[39mexecuting_eagerly():\n\u001b[1;32m--> 251\u001b[0m     outputs \u001b[38;5;241m=\u001b[39m \u001b[38;5;28mself\u001b[39m\u001b[38;5;241m.\u001b[39m_bound_context\u001b[38;5;241m.\u001b[39mcall_function(\n\u001b[0;32m    252\u001b[0m         \u001b[38;5;28mself\u001b[39m\u001b[38;5;241m.\u001b[39mname,\n\u001b[0;32m    253\u001b[0m         \u001b[38;5;28mlist\u001b[39m(args),\n\u001b[0;32m    254\u001b[0m         \u001b[38;5;28mlen\u001b[39m(\u001b[38;5;28mself\u001b[39m\u001b[38;5;241m.\u001b[39mfunction_type\u001b[38;5;241m.\u001b[39mflat_outputs),\n\u001b[0;32m    255\u001b[0m     )\n\u001b[0;32m    256\u001b[0m   \u001b[38;5;28;01melse\u001b[39;00m:\n\u001b[0;32m    257\u001b[0m     outputs \u001b[38;5;241m=\u001b[39m make_call_op_in_graph(\n\u001b[0;32m    258\u001b[0m         \u001b[38;5;28mself\u001b[39m,\n\u001b[0;32m    259\u001b[0m         \u001b[38;5;28mlist\u001b[39m(args),\n\u001b[0;32m    260\u001b[0m         \u001b[38;5;28mself\u001b[39m\u001b[38;5;241m.\u001b[39m_bound_context\u001b[38;5;241m.\u001b[39mfunction_call_options\u001b[38;5;241m.\u001b[39mas_attrs(),\n\u001b[0;32m    261\u001b[0m     )\n",
      "File \u001b[1;32m~\\anaconda3\\Lib\\site-packages\\tensorflow\\python\\eager\\context.py:1688\u001b[0m, in \u001b[0;36mContext.call_function\u001b[1;34m(self, name, tensor_inputs, num_outputs)\u001b[0m\n\u001b[0;32m   1686\u001b[0m cancellation_context \u001b[38;5;241m=\u001b[39m cancellation\u001b[38;5;241m.\u001b[39mcontext()\n\u001b[0;32m   1687\u001b[0m \u001b[38;5;28;01mif\u001b[39;00m cancellation_context \u001b[38;5;129;01mis\u001b[39;00m \u001b[38;5;28;01mNone\u001b[39;00m:\n\u001b[1;32m-> 1688\u001b[0m   outputs \u001b[38;5;241m=\u001b[39m execute\u001b[38;5;241m.\u001b[39mexecute(\n\u001b[0;32m   1689\u001b[0m       name\u001b[38;5;241m.\u001b[39mdecode(\u001b[38;5;124m\"\u001b[39m\u001b[38;5;124mutf-8\u001b[39m\u001b[38;5;124m\"\u001b[39m),\n\u001b[0;32m   1690\u001b[0m       num_outputs\u001b[38;5;241m=\u001b[39mnum_outputs,\n\u001b[0;32m   1691\u001b[0m       inputs\u001b[38;5;241m=\u001b[39mtensor_inputs,\n\u001b[0;32m   1692\u001b[0m       attrs\u001b[38;5;241m=\u001b[39mattrs,\n\u001b[0;32m   1693\u001b[0m       ctx\u001b[38;5;241m=\u001b[39m\u001b[38;5;28mself\u001b[39m,\n\u001b[0;32m   1694\u001b[0m   )\n\u001b[0;32m   1695\u001b[0m \u001b[38;5;28;01melse\u001b[39;00m:\n\u001b[0;32m   1696\u001b[0m   outputs \u001b[38;5;241m=\u001b[39m execute\u001b[38;5;241m.\u001b[39mexecute_with_cancellation(\n\u001b[0;32m   1697\u001b[0m       name\u001b[38;5;241m.\u001b[39mdecode(\u001b[38;5;124m\"\u001b[39m\u001b[38;5;124mutf-8\u001b[39m\u001b[38;5;124m\"\u001b[39m),\n\u001b[0;32m   1698\u001b[0m       num_outputs\u001b[38;5;241m=\u001b[39mnum_outputs,\n\u001b[1;32m   (...)\u001b[0m\n\u001b[0;32m   1702\u001b[0m       cancellation_manager\u001b[38;5;241m=\u001b[39mcancellation_context,\n\u001b[0;32m   1703\u001b[0m   )\n",
      "File \u001b[1;32m~\\anaconda3\\Lib\\site-packages\\tensorflow\\python\\eager\\execute.py:53\u001b[0m, in \u001b[0;36mquick_execute\u001b[1;34m(op_name, num_outputs, inputs, attrs, ctx, name)\u001b[0m\n\u001b[0;32m     51\u001b[0m \u001b[38;5;28;01mtry\u001b[39;00m:\n\u001b[0;32m     52\u001b[0m   ctx\u001b[38;5;241m.\u001b[39mensure_initialized()\n\u001b[1;32m---> 53\u001b[0m   tensors \u001b[38;5;241m=\u001b[39m pywrap_tfe\u001b[38;5;241m.\u001b[39mTFE_Py_Execute(ctx\u001b[38;5;241m.\u001b[39m_handle, device_name, op_name,\n\u001b[0;32m     54\u001b[0m                                       inputs, attrs, num_outputs)\n\u001b[0;32m     55\u001b[0m \u001b[38;5;28;01mexcept\u001b[39;00m core\u001b[38;5;241m.\u001b[39m_NotOkStatusException \u001b[38;5;28;01mas\u001b[39;00m e:\n\u001b[0;32m     56\u001b[0m   \u001b[38;5;28;01mif\u001b[39;00m name \u001b[38;5;129;01mis\u001b[39;00m \u001b[38;5;129;01mnot\u001b[39;00m \u001b[38;5;28;01mNone\u001b[39;00m:\n",
      "\u001b[1;31mKeyboardInterrupt\u001b[0m: "
     ]
    }
   ],
   "source": [
    "\n",
    "from tensorflow.keras.layers import Input, LSTM, Embedding, Dense, Concatenate, Bidirectional\n",
    "from tensorflow.keras.models import Model\n",
    "from tensorflow.keras.callbacks import EarlyStopping, ModelCheckpoint\n",
    "from tensorflow.keras.layers import AdditiveAttention\n",
    "\n",
    "# 하이퍼파라미터 설정\n",
    "embedding_dim = 128\n",
    "hidden_size = 256  # 양방향이라 실제 디코더에 들어갈 state는 512\n",
    "src_vocab = 20000\n",
    "tar_vocab = 10000\n",
    "\n",
    "# 1. 인코더\n",
    "encoder_inputs = Input(shape=(text_max_len,), name='encoder_inputs')\n",
    "enc_emb = Embedding(src_vocab, embedding_dim, mask_zero=False, name='encoder_embedding')(encoder_inputs)\n",
    "\n",
    "# Bidirectional LSTM\n",
    "encoder_bilstm = Bidirectional(LSTM(hidden_size, return_sequences=True, return_state=True, dropout=0.3), name=\"encoder_bilstm\")\n",
    "encoder_outputs, forward_h, forward_c, backward_h, backward_c = encoder_bilstm(enc_emb)\n",
    "\n",
    "# 상태 연결\n",
    "state_h = Concatenate()([forward_h, backward_h])  # (None, 512)\n",
    "state_c = Concatenate()([forward_c, backward_c])  # (None, 512)\n",
    "\n",
    "# 2. 디코더\n",
    "decoder_inputs = Input(shape=(None,), name='decoder_inputs')\n",
    "dec_emb = Embedding(tar_vocab, embedding_dim, mask_zero=False, name='decoder_embedding')(decoder_inputs)\n",
    "\n",
    "# 디코더 LSTM → hidden size 512로 맞춤\n",
    "decoder_lstm = LSTM(hidden_size * 2, return_sequences=True, return_state=True, dropout=0.3, name='decoder_lstm')\n",
    "decoder_outputs, _, _ = decoder_lstm(dec_emb, initial_state=[state_h, state_c])\n",
    "\n",
    "# 3. 어텐션 적용\n",
    "attn_layer = AdditiveAttention(name='attention_layer')\n",
    "attn_out = attn_layer([decoder_outputs, encoder_outputs])  # encoder_outputs는 그대로 사용 가능\n",
    "\n",
    "# 4. 어텐션 출력과 디코더 출력 결합\n",
    "decoder_concat_input = Concatenate(axis=-1)([decoder_outputs, attn_out])\n",
    "decoder_outputs = Dense(tar_vocab, activation='softmax')(decoder_concat_input)\n",
    "\n",
    "# 5. 모델 정의 및 컴파일\n",
    "model = Model(inputs=[encoder_inputs, decoder_inputs], outputs=decoder_outputs)\n",
    "model.compile(optimizer='rmsprop', loss='sparse_categorical_crossentropy')\n",
    "model.summary\n",
    "from tensorflow.keras.optimizers import Adam\n",
    "model.compile(optimizer=Adam(learning_rate=0.0001), loss='sparse_categorical_crossentropy')\n",
    "#콜백설정\n",
    "es = EarlyStopping(monitor='val_loss', patience=6, min_delta=0.0001, verbose=1)\n",
    "mc = ModelCheckpoint(\n",
    "    filepath='best_model.keras',   # 저장할 파일명\n",
    "    monitor='val_loss',         # 검증 손실 기준으로\n",
    "    save_best_only=True,        # 최고 성능만 저장\n",
    "    verbose=1\n",
    ")\n",
    "history = model.fit(x=[encoder_input_train, decoder_input_train], y=decoder_target_train, \\\n",
    "          validation_data=([encoder_input_test, decoder_input_test], decoder_target_test), \\\n",
    "          batch_size=64, callbacks=[es, mc], epochs=50)\n"
=======
   "cell_type": "code",
   "execution_count": null,
   "id": "a12ed806",
   "metadata": {},
   "outputs": [],
   "source": [
    "# 인코더 설계 시작\n",
    "embedding_dim = 128\n",
    "hidden_size = 256\n",
    "\n",
    "# 인코더\n",
    "encoder_inputs = Input(shape=(text_max_len,))\n",
    "\n",
    "# 인코더의 임베딩 층\n",
    "enc_emb = Embedding(src_vocab, embedding_dim)(encoder_inputs)\n",
    "\n",
    "\n",
    "# LSTM 1\n",
    "encoder_lstm1 = LSTM(hidden_size, return_sequences=True, return_state=True, dropout=0.4)\n",
    "encoder_output1, state_h1, state_c1 = encoder_lstm1(enc_emb)\n",
    "\n",
    "# LSTM 2\n",
    "encoder_lstm2 = LSTM(hidden_size, return_sequences=True, return_state=True, dropout=0.4)\n",
    "encoder_output2, state_h2, state_c2 = encoder_lstm2(encoder_output1)\n",
    "\n",
    "# LSTM 3\n",
    "encoder_lstm3 = LSTM(hidden_size, return_sequences=True, return_state=True, dropout=0.4)\n",
    "encoder_outputs, state_h, state_c = encoder_lstm3(encoder_output2)\n",
    "\n",
    "from tensorflow.keras.layers import AdditiveAttention\n",
    "\n",
    "# 어텐션 층(어텐션 함수)\n",
    "attn_layer = AdditiveAttention(name='attention_layer')\n",
    "\n",
    "# 인코더와 디코더의 모든 time step의 hidden state를 어텐션 층에 전달하고 결과를 리턴\n",
    "attn_out = attn_layer([decoder_outputs, encoder_outputs])\n",
    "\n",
    "\n",
    "# 어텐션의 결과와 디코더의 hidden state들을 연결\n",
    "decoder_concat_input = Concatenate(axis=-1, name='concat_layer')([decoder_outputs, attn_out])\n",
    "\n",
    "# 디코더의 출력층\n",
    "decoder_softmax_layer = Dense(tar_vocab, activation='softmax')\n",
    "decoder_softmax_outputs = decoder_softmax_layer(decoder_concat_input)\n",
    "\n",
    "# 모델 정의\n",
    "model = Model([encoder_inputs, decoder_inputs], decoder_softmax_outputs)\n",
    "model.summary()"
>>>>>>> update GD01
   ]
  },
  {
   "cell_type": "code",
   "execution_count": null,
<<<<<<< HEAD
   "id": "813c0a90-3ea7-473b-b570-d87e1a62c18a",
   "metadata": {},
   "outputs": [],
   "source": [
    "#train loss와 validation loss그래프를 통해 확인하기\n",
    "plt.plot(history.history['loss'], label='train')\n",
    "plt.plot(history.history['val_loss'], label='test')\n",
    "plt.legend()\n",
    "plt.show()"
   ]
  },
  {
   "cell_type": "markdown",
   "id": "97a1441b-0eb0-489a-b4a6-a672342023b6",
   "metadata": {},
   "source": [
    "## lstm+ attention"
   ]
  },
  {
   "cell_type": "code",
   "execution_count": 59,
   "id": "d9190bde-3565-4828-9094-88a3e80de5db",
   "metadata": {
    "scrolled": true
   },
   "outputs": [
    {
     "data": {
      "text/html": [
       "<pre style=\"white-space:pre;overflow-x:auto;line-height:normal;font-family:Menlo,'DejaVu Sans Mono',consolas,'Courier New',monospace\"><span style=\"font-weight: bold\">Model: \"functional_1\"</span>\n",
       "</pre>\n"
      ],
      "text/plain": [
       "\u001b[1mModel: \"functional_1\"\u001b[0m\n"
      ]
     },
     "metadata": {},
     "output_type": "display_data"
    },
    {
     "data": {
      "text/html": [
       "<pre style=\"white-space:pre;overflow-x:auto;line-height:normal;font-family:Menlo,'DejaVu Sans Mono',consolas,'Courier New',monospace\">┏━━━━━━━━━━━━━━━━━━━━━━━━━━━━━━━┳━━━━━━━━━━━━━━━━━━━━━━━━━━━┳━━━━━━━━━━━━━━━━━┳━━━━━━━━━━━━━━━━━━━━━━━━━━━━┓\n",
       "┃<span style=\"font-weight: bold\"> Layer (type)                  </span>┃<span style=\"font-weight: bold\"> Output Shape              </span>┃<span style=\"font-weight: bold\">         Param # </span>┃<span style=\"font-weight: bold\"> Connected to               </span>┃\n",
       "┡━━━━━━━━━━━━━━━━━━━━━━━━━━━━━━━╇━━━━━━━━━━━━━━━━━━━━━━━━━━━╇━━━━━━━━━━━━━━━━━╇━━━━━━━━━━━━━━━━━━━━━━━━━━━━┩\n",
       "│ input_layer (<span style=\"color: #0087ff; text-decoration-color: #0087ff\">InputLayer</span>)      │ (<span style=\"color: #00d7ff; text-decoration-color: #00d7ff\">None</span>, <span style=\"color: #00af00; text-decoration-color: #00af00\">43</span>)                │               <span style=\"color: #00af00; text-decoration-color: #00af00\">0</span> │ -                          │\n",
       "├───────────────────────────────┼───────────────────────────┼─────────────────┼────────────────────────────┤\n",
       "│ embedding (<span style=\"color: #0087ff; text-decoration-color: #0087ff\">Embedding</span>)         │ (<span style=\"color: #00d7ff; text-decoration-color: #00d7ff\">None</span>, <span style=\"color: #00af00; text-decoration-color: #00af00\">43</span>, <span style=\"color: #00af00; text-decoration-color: #00af00\">128</span>)           │       <span style=\"color: #00af00; text-decoration-color: #00af00\">2,560,000</span> │ input_layer[<span style=\"color: #00af00; text-decoration-color: #00af00\">0</span>][<span style=\"color: #00af00; text-decoration-color: #00af00\">0</span>]          │\n",
       "├───────────────────────────────┼───────────────────────────┼─────────────────┼────────────────────────────┤\n",
       "│ lstm_1 (<span style=\"color: #0087ff; text-decoration-color: #0087ff\">LSTM</span>)                 │ [(<span style=\"color: #00d7ff; text-decoration-color: #00d7ff\">None</span>, <span style=\"color: #00af00; text-decoration-color: #00af00\">43</span>, <span style=\"color: #00af00; text-decoration-color: #00af00\">256</span>), (<span style=\"color: #00d7ff; text-decoration-color: #00d7ff\">None</span>,  │         <span style=\"color: #00af00; text-decoration-color: #00af00\">394,240</span> │ embedding[<span style=\"color: #00af00; text-decoration-color: #00af00\">0</span>][<span style=\"color: #00af00; text-decoration-color: #00af00\">0</span>]            │\n",
       "│                               │ <span style=\"color: #00af00; text-decoration-color: #00af00\">256</span>), (<span style=\"color: #00d7ff; text-decoration-color: #00d7ff\">None</span>, <span style=\"color: #00af00; text-decoration-color: #00af00\">256</span>)]        │                 │                            │\n",
       "├───────────────────────────────┼───────────────────────────┼─────────────────┼────────────────────────────┤\n",
       "│ input_layer_1 (<span style=\"color: #0087ff; text-decoration-color: #0087ff\">InputLayer</span>)    │ (<span style=\"color: #00d7ff; text-decoration-color: #00d7ff\">None</span>, <span style=\"color: #00d7ff; text-decoration-color: #00d7ff\">None</span>)              │               <span style=\"color: #00af00; text-decoration-color: #00af00\">0</span> │ -                          │\n",
       "├───────────────────────────────┼───────────────────────────┼─────────────────┼────────────────────────────┤\n",
       "│ lstm_2 (<span style=\"color: #0087ff; text-decoration-color: #0087ff\">LSTM</span>)                 │ [(<span style=\"color: #00d7ff; text-decoration-color: #00d7ff\">None</span>, <span style=\"color: #00af00; text-decoration-color: #00af00\">43</span>, <span style=\"color: #00af00; text-decoration-color: #00af00\">256</span>), (<span style=\"color: #00d7ff; text-decoration-color: #00d7ff\">None</span>,  │         <span style=\"color: #00af00; text-decoration-color: #00af00\">525,312</span> │ lstm_1[<span style=\"color: #00af00; text-decoration-color: #00af00\">0</span>][<span style=\"color: #00af00; text-decoration-color: #00af00\">0</span>]               │\n",
       "│                               │ <span style=\"color: #00af00; text-decoration-color: #00af00\">256</span>), (<span style=\"color: #00d7ff; text-decoration-color: #00d7ff\">None</span>, <span style=\"color: #00af00; text-decoration-color: #00af00\">256</span>)]        │                 │                            │\n",
       "├───────────────────────────────┼───────────────────────────┼─────────────────┼────────────────────────────┤\n",
       "│ embedding_1 (<span style=\"color: #0087ff; text-decoration-color: #0087ff\">Embedding</span>)       │ (<span style=\"color: #00d7ff; text-decoration-color: #00d7ff\">None</span>, <span style=\"color: #00d7ff; text-decoration-color: #00d7ff\">None</span>, <span style=\"color: #00af00; text-decoration-color: #00af00\">128</span>)         │       <span style=\"color: #00af00; text-decoration-color: #00af00\">1,280,000</span> │ input_layer_1[<span style=\"color: #00af00; text-decoration-color: #00af00\">0</span>][<span style=\"color: #00af00; text-decoration-color: #00af00\">0</span>]        │\n",
       "├───────────────────────────────┼───────────────────────────┼─────────────────┼────────────────────────────┤\n",
       "│ lstm_3 (<span style=\"color: #0087ff; text-decoration-color: #0087ff\">LSTM</span>)                 │ [(<span style=\"color: #00d7ff; text-decoration-color: #00d7ff\">None</span>, <span style=\"color: #00af00; text-decoration-color: #00af00\">43</span>, <span style=\"color: #00af00; text-decoration-color: #00af00\">256</span>), (<span style=\"color: #00d7ff; text-decoration-color: #00d7ff\">None</span>,  │         <span style=\"color: #00af00; text-decoration-color: #00af00\">525,312</span> │ lstm_2[<span style=\"color: #00af00; text-decoration-color: #00af00\">0</span>][<span style=\"color: #00af00; text-decoration-color: #00af00\">0</span>]               │\n",
       "│                               │ <span style=\"color: #00af00; text-decoration-color: #00af00\">256</span>), (<span style=\"color: #00d7ff; text-decoration-color: #00d7ff\">None</span>, <span style=\"color: #00af00; text-decoration-color: #00af00\">256</span>)]        │                 │                            │\n",
       "├───────────────────────────────┼───────────────────────────┼─────────────────┼────────────────────────────┤\n",
       "│ lstm_4 (<span style=\"color: #0087ff; text-decoration-color: #0087ff\">LSTM</span>)                 │ [(<span style=\"color: #00d7ff; text-decoration-color: #00d7ff\">None</span>, <span style=\"color: #00d7ff; text-decoration-color: #00d7ff\">None</span>, <span style=\"color: #00af00; text-decoration-color: #00af00\">256</span>),       │         <span style=\"color: #00af00; text-decoration-color: #00af00\">394,240</span> │ embedding_1[<span style=\"color: #00af00; text-decoration-color: #00af00\">0</span>][<span style=\"color: #00af00; text-decoration-color: #00af00\">0</span>],         │\n",
       "│                               │ (<span style=\"color: #00d7ff; text-decoration-color: #00d7ff\">None</span>, <span style=\"color: #00af00; text-decoration-color: #00af00\">256</span>), (<span style=\"color: #00d7ff; text-decoration-color: #00d7ff\">None</span>, <span style=\"color: #00af00; text-decoration-color: #00af00\">256</span>)] │                 │ lstm_3[<span style=\"color: #00af00; text-decoration-color: #00af00\">0</span>][<span style=\"color: #00af00; text-decoration-color: #00af00\">1</span>], lstm_3[<span style=\"color: #00af00; text-decoration-color: #00af00\">0</span>][<span style=\"color: #00af00; text-decoration-color: #00af00\">2</span>] │\n",
       "├───────────────────────────────┼───────────────────────────┼─────────────────┼────────────────────────────┤\n",
       "│ dense_1 (<span style=\"color: #0087ff; text-decoration-color: #0087ff\">Dense</span>)               │ (<span style=\"color: #00d7ff; text-decoration-color: #00d7ff\">None</span>, <span style=\"color: #00d7ff; text-decoration-color: #00d7ff\">None</span>, <span style=\"color: #00af00; text-decoration-color: #00af00\">10000</span>)       │       <span style=\"color: #00af00; text-decoration-color: #00af00\">2,570,000</span> │ lstm_4[<span style=\"color: #00af00; text-decoration-color: #00af00\">0</span>][<span style=\"color: #00af00; text-decoration-color: #00af00\">0</span>]               │\n",
       "└───────────────────────────────┴───────────────────────────┴─────────────────┴────────────────────────────┘\n",
       "</pre>\n"
      ],
      "text/plain": [
       "┏━━━━━━━━━━━━━━━━━━━━━━━━━━━━━━━┳━━━━━━━━━━━━━━━━━━━━━━━━━━━┳━━━━━━━━━━━━━━━━━┳━━━━━━━━━━━━━━━━━━━━━━━━━━━━┓\n",
       "┃\u001b[1m \u001b[0m\u001b[1mLayer (type)                 \u001b[0m\u001b[1m \u001b[0m┃\u001b[1m \u001b[0m\u001b[1mOutput Shape             \u001b[0m\u001b[1m \u001b[0m┃\u001b[1m \u001b[0m\u001b[1m        Param #\u001b[0m\u001b[1m \u001b[0m┃\u001b[1m \u001b[0m\u001b[1mConnected to              \u001b[0m\u001b[1m \u001b[0m┃\n",
       "┡━━━━━━━━━━━━━━━━━━━━━━━━━━━━━━━╇━━━━━━━━━━━━━━━━━━━━━━━━━━━╇━━━━━━━━━━━━━━━━━╇━━━━━━━━━━━━━━━━━━━━━━━━━━━━┩\n",
       "│ input_layer (\u001b[38;5;33mInputLayer\u001b[0m)      │ (\u001b[38;5;45mNone\u001b[0m, \u001b[38;5;34m43\u001b[0m)                │               \u001b[38;5;34m0\u001b[0m │ -                          │\n",
       "├───────────────────────────────┼───────────────────────────┼─────────────────┼────────────────────────────┤\n",
       "│ embedding (\u001b[38;5;33mEmbedding\u001b[0m)         │ (\u001b[38;5;45mNone\u001b[0m, \u001b[38;5;34m43\u001b[0m, \u001b[38;5;34m128\u001b[0m)           │       \u001b[38;5;34m2,560,000\u001b[0m │ input_layer[\u001b[38;5;34m0\u001b[0m][\u001b[38;5;34m0\u001b[0m]          │\n",
       "├───────────────────────────────┼───────────────────────────┼─────────────────┼────────────────────────────┤\n",
       "│ lstm_1 (\u001b[38;5;33mLSTM\u001b[0m)                 │ [(\u001b[38;5;45mNone\u001b[0m, \u001b[38;5;34m43\u001b[0m, \u001b[38;5;34m256\u001b[0m), (\u001b[38;5;45mNone\u001b[0m,  │         \u001b[38;5;34m394,240\u001b[0m │ embedding[\u001b[38;5;34m0\u001b[0m][\u001b[38;5;34m0\u001b[0m]            │\n",
       "│                               │ \u001b[38;5;34m256\u001b[0m), (\u001b[38;5;45mNone\u001b[0m, \u001b[38;5;34m256\u001b[0m)]        │                 │                            │\n",
       "├───────────────────────────────┼───────────────────────────┼─────────────────┼────────────────────────────┤\n",
       "│ input_layer_1 (\u001b[38;5;33mInputLayer\u001b[0m)    │ (\u001b[38;5;45mNone\u001b[0m, \u001b[38;5;45mNone\u001b[0m)              │               \u001b[38;5;34m0\u001b[0m │ -                          │\n",
       "├───────────────────────────────┼───────────────────────────┼─────────────────┼────────────────────────────┤\n",
       "│ lstm_2 (\u001b[38;5;33mLSTM\u001b[0m)                 │ [(\u001b[38;5;45mNone\u001b[0m, \u001b[38;5;34m43\u001b[0m, \u001b[38;5;34m256\u001b[0m), (\u001b[38;5;45mNone\u001b[0m,  │         \u001b[38;5;34m525,312\u001b[0m │ lstm_1[\u001b[38;5;34m0\u001b[0m][\u001b[38;5;34m0\u001b[0m]               │\n",
       "│                               │ \u001b[38;5;34m256\u001b[0m), (\u001b[38;5;45mNone\u001b[0m, \u001b[38;5;34m256\u001b[0m)]        │                 │                            │\n",
       "├───────────────────────────────┼───────────────────────────┼─────────────────┼────────────────────────────┤\n",
       "│ embedding_1 (\u001b[38;5;33mEmbedding\u001b[0m)       │ (\u001b[38;5;45mNone\u001b[0m, \u001b[38;5;45mNone\u001b[0m, \u001b[38;5;34m128\u001b[0m)         │       \u001b[38;5;34m1,280,000\u001b[0m │ input_layer_1[\u001b[38;5;34m0\u001b[0m][\u001b[38;5;34m0\u001b[0m]        │\n",
       "├───────────────────────────────┼───────────────────────────┼─────────────────┼────────────────────────────┤\n",
       "│ lstm_3 (\u001b[38;5;33mLSTM\u001b[0m)                 │ [(\u001b[38;5;45mNone\u001b[0m, \u001b[38;5;34m43\u001b[0m, \u001b[38;5;34m256\u001b[0m), (\u001b[38;5;45mNone\u001b[0m,  │         \u001b[38;5;34m525,312\u001b[0m │ lstm_2[\u001b[38;5;34m0\u001b[0m][\u001b[38;5;34m0\u001b[0m]               │\n",
       "│                               │ \u001b[38;5;34m256\u001b[0m), (\u001b[38;5;45mNone\u001b[0m, \u001b[38;5;34m256\u001b[0m)]        │                 │                            │\n",
       "├───────────────────────────────┼───────────────────────────┼─────────────────┼────────────────────────────┤\n",
       "│ lstm_4 (\u001b[38;5;33mLSTM\u001b[0m)                 │ [(\u001b[38;5;45mNone\u001b[0m, \u001b[38;5;45mNone\u001b[0m, \u001b[38;5;34m256\u001b[0m),       │         \u001b[38;5;34m394,240\u001b[0m │ embedding_1[\u001b[38;5;34m0\u001b[0m][\u001b[38;5;34m0\u001b[0m],         │\n",
       "│                               │ (\u001b[38;5;45mNone\u001b[0m, \u001b[38;5;34m256\u001b[0m), (\u001b[38;5;45mNone\u001b[0m, \u001b[38;5;34m256\u001b[0m)] │                 │ lstm_3[\u001b[38;5;34m0\u001b[0m][\u001b[38;5;34m1\u001b[0m], lstm_3[\u001b[38;5;34m0\u001b[0m][\u001b[38;5;34m2\u001b[0m] │\n",
       "├───────────────────────────────┼───────────────────────────┼─────────────────┼────────────────────────────┤\n",
       "│ dense_1 (\u001b[38;5;33mDense\u001b[0m)               │ (\u001b[38;5;45mNone\u001b[0m, \u001b[38;5;45mNone\u001b[0m, \u001b[38;5;34m10000\u001b[0m)       │       \u001b[38;5;34m2,570,000\u001b[0m │ lstm_4[\u001b[38;5;34m0\u001b[0m][\u001b[38;5;34m0\u001b[0m]               │\n",
       "└───────────────────────────────┴───────────────────────────┴─────────────────┴────────────────────────────┘\n"
      ]
     },
     "metadata": {},
     "output_type": "display_data"
    },
    {
     "data": {
      "text/html": [
       "<pre style=\"white-space:pre;overflow-x:auto;line-height:normal;font-family:Menlo,'DejaVu Sans Mono',consolas,'Courier New',monospace\"><span style=\"font-weight: bold\"> Total params: </span><span style=\"color: #00af00; text-decoration-color: #00af00\">8,249,104</span> (31.47 MB)\n",
       "</pre>\n"
      ],
      "text/plain": [
       "\u001b[1m Total params: \u001b[0m\u001b[38;5;34m8,249,104\u001b[0m (31.47 MB)\n"
      ]
     },
     "metadata": {},
     "output_type": "display_data"
    },
    {
     "data": {
      "text/html": [
       "<pre style=\"white-space:pre;overflow-x:auto;line-height:normal;font-family:Menlo,'DejaVu Sans Mono',consolas,'Courier New',monospace\"><span style=\"font-weight: bold\"> Trainable params: </span><span style=\"color: #00af00; text-decoration-color: #00af00\">8,249,104</span> (31.47 MB)\n",
       "</pre>\n"
      ],
      "text/plain": [
       "\u001b[1m Trainable params: \u001b[0m\u001b[38;5;34m8,249,104\u001b[0m (31.47 MB)\n"
      ]
     },
     "metadata": {},
     "output_type": "display_data"
    },
    {
     "data": {
      "text/html": [
       "<pre style=\"white-space:pre;overflow-x:auto;line-height:normal;font-family:Menlo,'DejaVu Sans Mono',consolas,'Courier New',monospace\"><span style=\"font-weight: bold\"> Non-trainable params: </span><span style=\"color: #00af00; text-decoration-color: #00af00\">0</span> (0.00 B)\n",
       "</pre>\n"
      ],
      "text/plain": [
       "\u001b[1m Non-trainable params: \u001b[0m\u001b[38;5;34m0\u001b[0m (0.00 B)\n"
      ]
     },
     "metadata": {},
     "output_type": "display_data"
    },
    {
     "data": {
      "text/html": [
       "<pre style=\"white-space:pre;overflow-x:auto;line-height:normal;font-family:Menlo,'DejaVu Sans Mono',consolas,'Courier New',monospace\"><span style=\"font-weight: bold\">Model: \"functional_2\"</span>\n",
       "</pre>\n"
      ],
      "text/plain": [
       "\u001b[1mModel: \"functional_2\"\u001b[0m\n"
      ]
     },
     "metadata": {},
     "output_type": "display_data"
    },
    {
     "data": {
      "text/html": [
       "<pre style=\"white-space:pre;overflow-x:auto;line-height:normal;font-family:Menlo,'DejaVu Sans Mono',consolas,'Courier New',monospace\">┏━━━━━━━━━━━━━━━━━━━━━━━━━━━━━━━┳━━━━━━━━━━━━━━━━━━━━━━━━━━━┳━━━━━━━━━━━━━━━━━┳━━━━━━━━━━━━━━━━━━━━━━━━━━━━┓\n",
       "┃<span style=\"font-weight: bold\"> Layer (type)                  </span>┃<span style=\"font-weight: bold\"> Output Shape              </span>┃<span style=\"font-weight: bold\">         Param # </span>┃<span style=\"font-weight: bold\"> Connected to               </span>┃\n",
       "┡━━━━━━━━━━━━━━━━━━━━━━━━━━━━━━━╇━━━━━━━━━━━━━━━━━━━━━━━━━━━╇━━━━━━━━━━━━━━━━━╇━━━━━━━━━━━━━━━━━━━━━━━━━━━━┩\n",
       "│ input_layer (<span style=\"color: #0087ff; text-decoration-color: #0087ff\">InputLayer</span>)      │ (<span style=\"color: #00d7ff; text-decoration-color: #00d7ff\">None</span>, <span style=\"color: #00af00; text-decoration-color: #00af00\">43</span>)                │               <span style=\"color: #00af00; text-decoration-color: #00af00\">0</span> │ -                          │\n",
       "├───────────────────────────────┼───────────────────────────┼─────────────────┼────────────────────────────┤\n",
       "│ embedding (<span style=\"color: #0087ff; text-decoration-color: #0087ff\">Embedding</span>)         │ (<span style=\"color: #00d7ff; text-decoration-color: #00d7ff\">None</span>, <span style=\"color: #00af00; text-decoration-color: #00af00\">43</span>, <span style=\"color: #00af00; text-decoration-color: #00af00\">128</span>)           │       <span style=\"color: #00af00; text-decoration-color: #00af00\">2,560,000</span> │ input_layer[<span style=\"color: #00af00; text-decoration-color: #00af00\">0</span>][<span style=\"color: #00af00; text-decoration-color: #00af00\">0</span>]          │\n",
       "├───────────────────────────────┼───────────────────────────┼─────────────────┼────────────────────────────┤\n",
       "│ lstm_1 (<span style=\"color: #0087ff; text-decoration-color: #0087ff\">LSTM</span>)                 │ [(<span style=\"color: #00d7ff; text-decoration-color: #00d7ff\">None</span>, <span style=\"color: #00af00; text-decoration-color: #00af00\">43</span>, <span style=\"color: #00af00; text-decoration-color: #00af00\">256</span>), (<span style=\"color: #00d7ff; text-decoration-color: #00d7ff\">None</span>,  │         <span style=\"color: #00af00; text-decoration-color: #00af00\">394,240</span> │ embedding[<span style=\"color: #00af00; text-decoration-color: #00af00\">0</span>][<span style=\"color: #00af00; text-decoration-color: #00af00\">0</span>]            │\n",
       "│                               │ <span style=\"color: #00af00; text-decoration-color: #00af00\">256</span>), (<span style=\"color: #00d7ff; text-decoration-color: #00d7ff\">None</span>, <span style=\"color: #00af00; text-decoration-color: #00af00\">256</span>)]        │                 │                            │\n",
       "├───────────────────────────────┼───────────────────────────┼─────────────────┼────────────────────────────┤\n",
       "│ input_layer_1 (<span style=\"color: #0087ff; text-decoration-color: #0087ff\">InputLayer</span>)    │ (<span style=\"color: #00d7ff; text-decoration-color: #00d7ff\">None</span>, <span style=\"color: #00d7ff; text-decoration-color: #00d7ff\">None</span>)              │               <span style=\"color: #00af00; text-decoration-color: #00af00\">0</span> │ -                          │\n",
       "├───────────────────────────────┼───────────────────────────┼─────────────────┼────────────────────────────┤\n",
       "│ lstm_2 (<span style=\"color: #0087ff; text-decoration-color: #0087ff\">LSTM</span>)                 │ [(<span style=\"color: #00d7ff; text-decoration-color: #00d7ff\">None</span>, <span style=\"color: #00af00; text-decoration-color: #00af00\">43</span>, <span style=\"color: #00af00; text-decoration-color: #00af00\">256</span>), (<span style=\"color: #00d7ff; text-decoration-color: #00d7ff\">None</span>,  │         <span style=\"color: #00af00; text-decoration-color: #00af00\">525,312</span> │ lstm_1[<span style=\"color: #00af00; text-decoration-color: #00af00\">0</span>][<span style=\"color: #00af00; text-decoration-color: #00af00\">0</span>]               │\n",
       "│                               │ <span style=\"color: #00af00; text-decoration-color: #00af00\">256</span>), (<span style=\"color: #00d7ff; text-decoration-color: #00d7ff\">None</span>, <span style=\"color: #00af00; text-decoration-color: #00af00\">256</span>)]        │                 │                            │\n",
       "├───────────────────────────────┼───────────────────────────┼─────────────────┼────────────────────────────┤\n",
       "│ embedding_1 (<span style=\"color: #0087ff; text-decoration-color: #0087ff\">Embedding</span>)       │ (<span style=\"color: #00d7ff; text-decoration-color: #00d7ff\">None</span>, <span style=\"color: #00d7ff; text-decoration-color: #00d7ff\">None</span>, <span style=\"color: #00af00; text-decoration-color: #00af00\">128</span>)         │       <span style=\"color: #00af00; text-decoration-color: #00af00\">1,280,000</span> │ input_layer_1[<span style=\"color: #00af00; text-decoration-color: #00af00\">0</span>][<span style=\"color: #00af00; text-decoration-color: #00af00\">0</span>]        │\n",
       "├───────────────────────────────┼───────────────────────────┼─────────────────┼────────────────────────────┤\n",
       "│ lstm_3 (<span style=\"color: #0087ff; text-decoration-color: #0087ff\">LSTM</span>)                 │ [(<span style=\"color: #00d7ff; text-decoration-color: #00d7ff\">None</span>, <span style=\"color: #00af00; text-decoration-color: #00af00\">43</span>, <span style=\"color: #00af00; text-decoration-color: #00af00\">256</span>), (<span style=\"color: #00d7ff; text-decoration-color: #00d7ff\">None</span>,  │         <span style=\"color: #00af00; text-decoration-color: #00af00\">525,312</span> │ lstm_2[<span style=\"color: #00af00; text-decoration-color: #00af00\">0</span>][<span style=\"color: #00af00; text-decoration-color: #00af00\">0</span>]               │\n",
       "│                               │ <span style=\"color: #00af00; text-decoration-color: #00af00\">256</span>), (<span style=\"color: #00d7ff; text-decoration-color: #00d7ff\">None</span>, <span style=\"color: #00af00; text-decoration-color: #00af00\">256</span>)]        │                 │                            │\n",
       "├───────────────────────────────┼───────────────────────────┼─────────────────┼────────────────────────────┤\n",
       "│ lstm_4 (<span style=\"color: #0087ff; text-decoration-color: #0087ff\">LSTM</span>)                 │ [(<span style=\"color: #00d7ff; text-decoration-color: #00d7ff\">None</span>, <span style=\"color: #00d7ff; text-decoration-color: #00d7ff\">None</span>, <span style=\"color: #00af00; text-decoration-color: #00af00\">256</span>),       │         <span style=\"color: #00af00; text-decoration-color: #00af00\">394,240</span> │ embedding_1[<span style=\"color: #00af00; text-decoration-color: #00af00\">0</span>][<span style=\"color: #00af00; text-decoration-color: #00af00\">0</span>],         │\n",
       "│                               │ (<span style=\"color: #00d7ff; text-decoration-color: #00d7ff\">None</span>, <span style=\"color: #00af00; text-decoration-color: #00af00\">256</span>), (<span style=\"color: #00d7ff; text-decoration-color: #00d7ff\">None</span>, <span style=\"color: #00af00; text-decoration-color: #00af00\">256</span>)] │                 │ lstm_3[<span style=\"color: #00af00; text-decoration-color: #00af00\">0</span>][<span style=\"color: #00af00; text-decoration-color: #00af00\">1</span>], lstm_3[<span style=\"color: #00af00; text-decoration-color: #00af00\">0</span>][<span style=\"color: #00af00; text-decoration-color: #00af00\">2</span>] │\n",
       "├───────────────────────────────┼───────────────────────────┼─────────────────┼────────────────────────────┤\n",
       "│ attention_layer               │ [(<span style=\"color: #00d7ff; text-decoration-color: #00d7ff\">None</span>, <span style=\"color: #00d7ff; text-decoration-color: #00d7ff\">None</span>, <span style=\"color: #00af00; text-decoration-color: #00af00\">256</span>),       │         <span style=\"color: #00af00; text-decoration-color: #00af00\">131,328</span> │ lstm_3[<span style=\"color: #00af00; text-decoration-color: #00af00\">0</span>][<span style=\"color: #00af00; text-decoration-color: #00af00\">0</span>], lstm_4[<span style=\"color: #00af00; text-decoration-color: #00af00\">0</span>][<span style=\"color: #00af00; text-decoration-color: #00af00\">0</span>] │\n",
       "│ (<span style=\"color: #0087ff; text-decoration-color: #0087ff\">AttentionLayer</span>)              │ (<span style=\"color: #00d7ff; text-decoration-color: #00d7ff\">None</span>, <span style=\"color: #00d7ff; text-decoration-color: #00d7ff\">None</span>, <span style=\"color: #00af00; text-decoration-color: #00af00\">43</span>)]         │                 │                            │\n",
       "├───────────────────────────────┼───────────────────────────┼─────────────────┼────────────────────────────┤\n",
       "│ concat_layer (<span style=\"color: #0087ff; text-decoration-color: #0087ff\">Concatenate</span>)    │ (<span style=\"color: #00d7ff; text-decoration-color: #00d7ff\">None</span>, <span style=\"color: #00d7ff; text-decoration-color: #00d7ff\">None</span>, <span style=\"color: #00af00; text-decoration-color: #00af00\">512</span>)         │               <span style=\"color: #00af00; text-decoration-color: #00af00\">0</span> │ lstm_4[<span style=\"color: #00af00; text-decoration-color: #00af00\">0</span>][<span style=\"color: #00af00; text-decoration-color: #00af00\">0</span>],              │\n",
       "│                               │                           │                 │ attention_layer[<span style=\"color: #00af00; text-decoration-color: #00af00\">0</span>][<span style=\"color: #00af00; text-decoration-color: #00af00\">0</span>]      │\n",
       "├───────────────────────────────┼───────────────────────────┼─────────────────┼────────────────────────────┤\n",
       "│ dense_2 (<span style=\"color: #0087ff; text-decoration-color: #0087ff\">Dense</span>)               │ (<span style=\"color: #00d7ff; text-decoration-color: #00d7ff\">None</span>, <span style=\"color: #00d7ff; text-decoration-color: #00d7ff\">None</span>, <span style=\"color: #00af00; text-decoration-color: #00af00\">10000</span>)       │       <span style=\"color: #00af00; text-decoration-color: #00af00\">5,130,000</span> │ concat_layer[<span style=\"color: #00af00; text-decoration-color: #00af00\">0</span>][<span style=\"color: #00af00; text-decoration-color: #00af00\">0</span>]         │\n",
       "└───────────────────────────────┴───────────────────────────┴─────────────────┴────────────────────────────┘\n",
       "</pre>\n"
      ],
      "text/plain": [
       "┏━━━━━━━━━━━━━━━━━━━━━━━━━━━━━━━┳━━━━━━━━━━━━━━━━━━━━━━━━━━━┳━━━━━━━━━━━━━━━━━┳━━━━━━━━━━━━━━━━━━━━━━━━━━━━┓\n",
       "┃\u001b[1m \u001b[0m\u001b[1mLayer (type)                 \u001b[0m\u001b[1m \u001b[0m┃\u001b[1m \u001b[0m\u001b[1mOutput Shape             \u001b[0m\u001b[1m \u001b[0m┃\u001b[1m \u001b[0m\u001b[1m        Param #\u001b[0m\u001b[1m \u001b[0m┃\u001b[1m \u001b[0m\u001b[1mConnected to              \u001b[0m\u001b[1m \u001b[0m┃\n",
       "┡━━━━━━━━━━━━━━━━━━━━━━━━━━━━━━━╇━━━━━━━━━━━━━━━━━━━━━━━━━━━╇━━━━━━━━━━━━━━━━━╇━━━━━━━━━━━━━━━━━━━━━━━━━━━━┩\n",
       "│ input_layer (\u001b[38;5;33mInputLayer\u001b[0m)      │ (\u001b[38;5;45mNone\u001b[0m, \u001b[38;5;34m43\u001b[0m)                │               \u001b[38;5;34m0\u001b[0m │ -                          │\n",
       "├───────────────────────────────┼───────────────────────────┼─────────────────┼────────────────────────────┤\n",
       "│ embedding (\u001b[38;5;33mEmbedding\u001b[0m)         │ (\u001b[38;5;45mNone\u001b[0m, \u001b[38;5;34m43\u001b[0m, \u001b[38;5;34m128\u001b[0m)           │       \u001b[38;5;34m2,560,000\u001b[0m │ input_layer[\u001b[38;5;34m0\u001b[0m][\u001b[38;5;34m0\u001b[0m]          │\n",
       "├───────────────────────────────┼───────────────────────────┼─────────────────┼────────────────────────────┤\n",
       "│ lstm_1 (\u001b[38;5;33mLSTM\u001b[0m)                 │ [(\u001b[38;5;45mNone\u001b[0m, \u001b[38;5;34m43\u001b[0m, \u001b[38;5;34m256\u001b[0m), (\u001b[38;5;45mNone\u001b[0m,  │         \u001b[38;5;34m394,240\u001b[0m │ embedding[\u001b[38;5;34m0\u001b[0m][\u001b[38;5;34m0\u001b[0m]            │\n",
       "│                               │ \u001b[38;5;34m256\u001b[0m), (\u001b[38;5;45mNone\u001b[0m, \u001b[38;5;34m256\u001b[0m)]        │                 │                            │\n",
       "├───────────────────────────────┼───────────────────────────┼─────────────────┼────────────────────────────┤\n",
       "│ input_layer_1 (\u001b[38;5;33mInputLayer\u001b[0m)    │ (\u001b[38;5;45mNone\u001b[0m, \u001b[38;5;45mNone\u001b[0m)              │               \u001b[38;5;34m0\u001b[0m │ -                          │\n",
       "├───────────────────────────────┼───────────────────────────┼─────────────────┼────────────────────────────┤\n",
       "│ lstm_2 (\u001b[38;5;33mLSTM\u001b[0m)                 │ [(\u001b[38;5;45mNone\u001b[0m, \u001b[38;5;34m43\u001b[0m, \u001b[38;5;34m256\u001b[0m), (\u001b[38;5;45mNone\u001b[0m,  │         \u001b[38;5;34m525,312\u001b[0m │ lstm_1[\u001b[38;5;34m0\u001b[0m][\u001b[38;5;34m0\u001b[0m]               │\n",
       "│                               │ \u001b[38;5;34m256\u001b[0m), (\u001b[38;5;45mNone\u001b[0m, \u001b[38;5;34m256\u001b[0m)]        │                 │                            │\n",
       "├───────────────────────────────┼───────────────────────────┼─────────────────┼────────────────────────────┤\n",
       "│ embedding_1 (\u001b[38;5;33mEmbedding\u001b[0m)       │ (\u001b[38;5;45mNone\u001b[0m, \u001b[38;5;45mNone\u001b[0m, \u001b[38;5;34m128\u001b[0m)         │       \u001b[38;5;34m1,280,000\u001b[0m │ input_layer_1[\u001b[38;5;34m0\u001b[0m][\u001b[38;5;34m0\u001b[0m]        │\n",
       "├───────────────────────────────┼───────────────────────────┼─────────────────┼────────────────────────────┤\n",
       "│ lstm_3 (\u001b[38;5;33mLSTM\u001b[0m)                 │ [(\u001b[38;5;45mNone\u001b[0m, \u001b[38;5;34m43\u001b[0m, \u001b[38;5;34m256\u001b[0m), (\u001b[38;5;45mNone\u001b[0m,  │         \u001b[38;5;34m525,312\u001b[0m │ lstm_2[\u001b[38;5;34m0\u001b[0m][\u001b[38;5;34m0\u001b[0m]               │\n",
       "│                               │ \u001b[38;5;34m256\u001b[0m), (\u001b[38;5;45mNone\u001b[0m, \u001b[38;5;34m256\u001b[0m)]        │                 │                            │\n",
       "├───────────────────────────────┼───────────────────────────┼─────────────────┼────────────────────────────┤\n",
       "│ lstm_4 (\u001b[38;5;33mLSTM\u001b[0m)                 │ [(\u001b[38;5;45mNone\u001b[0m, \u001b[38;5;45mNone\u001b[0m, \u001b[38;5;34m256\u001b[0m),       │         \u001b[38;5;34m394,240\u001b[0m │ embedding_1[\u001b[38;5;34m0\u001b[0m][\u001b[38;5;34m0\u001b[0m],         │\n",
       "│                               │ (\u001b[38;5;45mNone\u001b[0m, \u001b[38;5;34m256\u001b[0m), (\u001b[38;5;45mNone\u001b[0m, \u001b[38;5;34m256\u001b[0m)] │                 │ lstm_3[\u001b[38;5;34m0\u001b[0m][\u001b[38;5;34m1\u001b[0m], lstm_3[\u001b[38;5;34m0\u001b[0m][\u001b[38;5;34m2\u001b[0m] │\n",
       "├───────────────────────────────┼───────────────────────────┼─────────────────┼────────────────────────────┤\n",
       "│ attention_layer               │ [(\u001b[38;5;45mNone\u001b[0m, \u001b[38;5;45mNone\u001b[0m, \u001b[38;5;34m256\u001b[0m),       │         \u001b[38;5;34m131,328\u001b[0m │ lstm_3[\u001b[38;5;34m0\u001b[0m][\u001b[38;5;34m0\u001b[0m], lstm_4[\u001b[38;5;34m0\u001b[0m][\u001b[38;5;34m0\u001b[0m] │\n",
       "│ (\u001b[38;5;33mAttentionLayer\u001b[0m)              │ (\u001b[38;5;45mNone\u001b[0m, \u001b[38;5;45mNone\u001b[0m, \u001b[38;5;34m43\u001b[0m)]         │                 │                            │\n",
       "├───────────────────────────────┼───────────────────────────┼─────────────────┼────────────────────────────┤\n",
       "│ concat_layer (\u001b[38;5;33mConcatenate\u001b[0m)    │ (\u001b[38;5;45mNone\u001b[0m, \u001b[38;5;45mNone\u001b[0m, \u001b[38;5;34m512\u001b[0m)         │               \u001b[38;5;34m0\u001b[0m │ lstm_4[\u001b[38;5;34m0\u001b[0m][\u001b[38;5;34m0\u001b[0m],              │\n",
       "│                               │                           │                 │ attention_layer[\u001b[38;5;34m0\u001b[0m][\u001b[38;5;34m0\u001b[0m]      │\n",
       "├───────────────────────────────┼───────────────────────────┼─────────────────┼────────────────────────────┤\n",
       "│ dense_2 (\u001b[38;5;33mDense\u001b[0m)               │ (\u001b[38;5;45mNone\u001b[0m, \u001b[38;5;45mNone\u001b[0m, \u001b[38;5;34m10000\u001b[0m)       │       \u001b[38;5;34m5,130,000\u001b[0m │ concat_layer[\u001b[38;5;34m0\u001b[0m][\u001b[38;5;34m0\u001b[0m]         │\n",
       "└───────────────────────────────┴───────────────────────────┴─────────────────┴────────────────────────────┘\n"
      ]
     },
     "metadata": {},
     "output_type": "display_data"
    },
    {
     "data": {
      "text/html": [
       "<pre style=\"white-space:pre;overflow-x:auto;line-height:normal;font-family:Menlo,'DejaVu Sans Mono',consolas,'Courier New',monospace\"><span style=\"font-weight: bold\"> Total params: </span><span style=\"color: #00af00; text-decoration-color: #00af00\">10,940,432</span> (41.73 MB)\n",
       "</pre>\n"
      ],
      "text/plain": [
       "\u001b[1m Total params: \u001b[0m\u001b[38;5;34m10,940,432\u001b[0m (41.73 MB)\n"
      ]
     },
     "metadata": {},
     "output_type": "display_data"
    },
    {
     "data": {
      "text/html": [
       "<pre style=\"white-space:pre;overflow-x:auto;line-height:normal;font-family:Menlo,'DejaVu Sans Mono',consolas,'Courier New',monospace\"><span style=\"font-weight: bold\"> Trainable params: </span><span style=\"color: #00af00; text-decoration-color: #00af00\">10,940,432</span> (41.73 MB)\n",
       "</pre>\n"
      ],
      "text/plain": [
       "\u001b[1m Trainable params: \u001b[0m\u001b[38;5;34m10,940,432\u001b[0m (41.73 MB)\n"
      ]
     },
     "metadata": {},
     "output_type": "display_data"
    },
    {
     "data": {
      "text/html": [
       "<pre style=\"white-space:pre;overflow-x:auto;line-height:normal;font-family:Menlo,'DejaVu Sans Mono',consolas,'Courier New',monospace\"><span style=\"font-weight: bold\"> Non-trainable params: </span><span style=\"color: #00af00; text-decoration-color: #00af00\">0</span> (0.00 B)\n",
       "</pre>\n"
      ],
      "text/plain": [
       "\u001b[1m Non-trainable params: \u001b[0m\u001b[38;5;34m0\u001b[0m (0.00 B)\n"
      ]
     },
     "metadata": {},
     "output_type": "display_data"
    },
    {
     "name": "stdout",
     "output_type": "stream",
     "text": [
      "Epoch 1/50\n",
      "\u001b[1m525/525\u001b[0m \u001b[32m━━━━━━━━━━━━━━━━━━━━\u001b[0m\u001b[37m\u001b[0m \u001b[1m0s\u001b[0m 1s/step - loss: 6.1596      \n",
      "Epoch 1: val_loss improved from inf to 5.65732, saving model to best_model.keras\n",
      "\u001b[1m525/525\u001b[0m \u001b[32m━━━━━━━━━━━━━━━━━━━━\u001b[0m\u001b[37m\u001b[0m \u001b[1m658s\u001b[0m 1s/step - loss: 6.1590 - val_loss: 5.6573\n",
      "Epoch 2/50\n",
      "\u001b[1m525/525\u001b[0m \u001b[32m━━━━━━━━━━━━━━━━━━━━\u001b[0m\u001b[37m\u001b[0m \u001b[1m0s\u001b[0m 1s/step - loss: 5.5712  \n",
      "Epoch 2: val_loss improved from 5.65732 to 5.28912, saving model to best_model.keras\n",
      "\u001b[1m525/525\u001b[0m \u001b[32m━━━━━━━━━━━━━━━━━━━━\u001b[0m\u001b[37m\u001b[0m \u001b[1m591s\u001b[0m 1s/step - loss: 5.5710 - val_loss: 5.2891\n",
      "Epoch 3/50\n",
      "\u001b[1m525/525\u001b[0m \u001b[32m━━━━━━━━━━━━━━━━━━━━\u001b[0m\u001b[37m\u001b[0m \u001b[1m0s\u001b[0m 1s/step - loss: 5.2073  \n",
      "Epoch 3: val_loss improved from 5.28912 to 5.06573, saving model to best_model.keras\n",
      "\u001b[1m525/525\u001b[0m \u001b[32m━━━━━━━━━━━━━━━━━━━━\u001b[0m\u001b[37m\u001b[0m \u001b[1m591s\u001b[0m 1s/step - loss: 5.2073 - val_loss: 5.0657\n",
      "Epoch 4/50\n",
      "\u001b[1m525/525\u001b[0m \u001b[32m━━━━━━━━━━━━━━━━━━━━\u001b[0m\u001b[37m\u001b[0m \u001b[1m0s\u001b[0m 996ms/step - loss: 4.9407   \n",
      "Epoch 4: val_loss improved from 5.06573 to 4.91374, saving model to best_model.keras\n",
      "\u001b[1m525/525\u001b[0m \u001b[32m━━━━━━━━━━━━━━━━━━━━\u001b[0m\u001b[37m\u001b[0m \u001b[1m585s\u001b[0m 1s/step - loss: 4.9407 - val_loss: 4.9137\n",
      "Epoch 5/50\n",
      "\u001b[1m525/525\u001b[0m \u001b[32m━━━━━━━━━━━━━━━━━━━━\u001b[0m\u001b[37m\u001b[0m \u001b[1m0s\u001b[0m 996ms/step - loss: 4.7394   \n",
      "Epoch 5: val_loss improved from 4.91374 to 4.82168, saving model to best_model.keras\n",
      "\u001b[1m525/525\u001b[0m \u001b[32m━━━━━━━━━━━━━━━━━━━━\u001b[0m\u001b[37m\u001b[0m \u001b[1m583s\u001b[0m 1s/step - loss: 4.7394 - val_loss: 4.8217\n",
      "Epoch 6/50\n",
      "\u001b[1m525/525\u001b[0m \u001b[32m━━━━━━━━━━━━━━━━━━━━\u001b[0m\u001b[37m\u001b[0m \u001b[1m0s\u001b[0m 1s/step - loss: 4.5667      \n",
      "Epoch 6: val_loss improved from 4.82168 to 4.75909, saving model to best_model.keras\n",
      "\u001b[1m525/525\u001b[0m \u001b[32m━━━━━━━━━━━━━━━━━━━━\u001b[0m\u001b[37m\u001b[0m \u001b[1m583s\u001b[0m 1s/step - loss: 4.5667 - val_loss: 4.7591\n",
      "Epoch 7/50\n",
      "\u001b[1m525/525\u001b[0m \u001b[32m━━━━━━━━━━━━━━━━━━━━\u001b[0m\u001b[37m\u001b[0m \u001b[1m0s\u001b[0m 991ms/step - loss: 4.4044  \n",
      "Epoch 7: val_loss improved from 4.75909 to 4.71791, saving model to best_model.keras\n",
      "\u001b[1m525/525\u001b[0m \u001b[32m━━━━━━━━━━━━━━━━━━━━\u001b[0m\u001b[37m\u001b[0m \u001b[1m580s\u001b[0m 1s/step - loss: 4.4044 - val_loss: 4.7179\n",
      "Epoch 8/50\n",
      "\u001b[1m525/525\u001b[0m \u001b[32m━━━━━━━━━━━━━━━━━━━━\u001b[0m\u001b[37m\u001b[0m \u001b[1m0s\u001b[0m 1s/step - loss: 4.2639     \n",
      "Epoch 8: val_loss improved from 4.71791 to 4.68739, saving model to best_model.keras\n",
      "\u001b[1m525/525\u001b[0m \u001b[32m━━━━━━━━━━━━━━━━━━━━\u001b[0m\u001b[37m\u001b[0m \u001b[1m586s\u001b[0m 1s/step - loss: 4.2639 - val_loss: 4.6874\n",
      "Epoch 9/50\n",
      "\u001b[1m525/525\u001b[0m \u001b[32m━━━━━━━━━━━━━━━━━━━━\u001b[0m\u001b[37m\u001b[0m \u001b[1m0s\u001b[0m 1s/step - loss: 4.1262     \n",
      "Epoch 9: val_loss improved from 4.68739 to 4.67265, saving model to best_model.keras\n",
      "\u001b[1m525/525\u001b[0m \u001b[32m━━━━━━━━━━━━━━━━━━━━\u001b[0m\u001b[37m\u001b[0m \u001b[1m585s\u001b[0m 1s/step - loss: 4.1263 - val_loss: 4.6726\n",
      "Epoch 10/50\n",
      "\u001b[1m525/525\u001b[0m \u001b[32m━━━━━━━━━━━━━━━━━━━━\u001b[0m\u001b[37m\u001b[0m \u001b[1m0s\u001b[0m 999ms/step - loss: 4.0050   \n",
      "Epoch 10: val_loss improved from 4.67265 to 4.66869, saving model to best_model.keras\n",
      "\u001b[1m525/525\u001b[0m \u001b[32m━━━━━━━━━━━━━━━━━━━━\u001b[0m\u001b[37m\u001b[0m \u001b[1m584s\u001b[0m 1s/step - loss: 4.0051 - val_loss: 4.6687\n",
      "Epoch 11/50\n",
      "\u001b[1m525/525\u001b[0m \u001b[32m━━━━━━━━━━━━━━━━━━━━\u001b[0m\u001b[37m\u001b[0m \u001b[1m0s\u001b[0m 987ms/step - loss: 3.8949  \n",
      "Epoch 11: val_loss improved from 4.66869 to 4.66687, saving model to best_model.keras\n",
      "\u001b[1m525/525\u001b[0m \u001b[32m━━━━━━━━━━━━━━━━━━━━\u001b[0m\u001b[37m\u001b[0m \u001b[1m580s\u001b[0m 1s/step - loss: 3.8950 - val_loss: 4.6669\n",
      "Epoch 12/50\n",
      "\u001b[1m525/525\u001b[0m \u001b[32m━━━━━━━━━━━━━━━━━━━━\u001b[0m\u001b[37m\u001b[0m \u001b[1m0s\u001b[0m 998ms/step - loss: 3.7820  \n",
      "Epoch 12: val_loss did not improve from 4.66687\n",
      "\u001b[1m525/525\u001b[0m \u001b[32m━━━━━━━━━━━━━━━━━━━━\u001b[0m\u001b[37m\u001b[0m \u001b[1m582s\u001b[0m 1s/step - loss: 3.7821 - val_loss: 4.6722\n",
      "Epoch 13/50\n",
      "\u001b[1m525/525\u001b[0m \u001b[32m━━━━━━━━━━━━━━━━━━━━\u001b[0m\u001b[37m\u001b[0m \u001b[1m0s\u001b[0m 1s/step - loss: 3.6841      \n",
      "Epoch 13: val_loss did not improve from 4.66687\n",
      "\u001b[1m525/525\u001b[0m \u001b[32m━━━━━━━━━━━━━━━━━━━━\u001b[0m\u001b[37m\u001b[0m \u001b[1m600s\u001b[0m 1s/step - loss: 3.6842 - val_loss: 4.6849\n",
      "Epoch 14/50\n",
      "\u001b[1m525/525\u001b[0m \u001b[32m━━━━━━━━━━━━━━━━━━━━\u001b[0m\u001b[37m\u001b[0m \u001b[1m0s\u001b[0m 999ms/step - loss: 3.5774   \n",
      "Epoch 14: val_loss did not improve from 4.66687\n",
      "\u001b[1m525/525\u001b[0m \u001b[32m━━━━━━━━━━━━━━━━━━━━\u001b[0m\u001b[37m\u001b[0m \u001b[1m582s\u001b[0m 1s/step - loss: 3.5775 - val_loss: 4.7082\n",
      "Epoch 15/50\n",
      "\u001b[1m525/525\u001b[0m \u001b[32m━━━━━━━━━━━━━━━━━━━━\u001b[0m\u001b[37m\u001b[0m \u001b[1m0s\u001b[0m 997ms/step - loss: 3.5122  \n",
      "Epoch 15: val_loss did not improve from 4.66687\n",
      "\u001b[1m525/525\u001b[0m \u001b[32m━━━━━━━━━━━━━━━━━━━━\u001b[0m\u001b[37m\u001b[0m \u001b[1m580s\u001b[0m 1s/step - loss: 3.5122 - val_loss: 4.7054\n",
      "Epoch 16/50\n",
      "\u001b[1m525/525\u001b[0m \u001b[32m━━━━━━━━━━━━━━━━━━━━\u001b[0m\u001b[37m\u001b[0m \u001b[1m0s\u001b[0m 986ms/step - loss: 3.4249  \n",
      "Epoch 16: val_loss did not improve from 4.66687\n",
      "\u001b[1m525/525\u001b[0m \u001b[32m━━━━━━━━━━━━━━━━━━━━\u001b[0m\u001b[37m\u001b[0m \u001b[1m574s\u001b[0m 1s/step - loss: 3.4249 - val_loss: 4.7323\n",
      "Epoch 17/50\n",
      "\u001b[1m525/525\u001b[0m \u001b[32m━━━━━━━━━━━━━━━━━━━━\u001b[0m\u001b[37m\u001b[0m \u001b[1m0s\u001b[0m 989ms/step - loss: 3.3489   \n",
      "Epoch 17: val_loss did not improve from 4.66687\n",
      "\u001b[1m525/525\u001b[0m \u001b[32m━━━━━━━━━━━━━━━━━━━━\u001b[0m\u001b[37m\u001b[0m \u001b[1m575s\u001b[0m 1s/step - loss: 3.3490 - val_loss: 4.7556\n",
      "Epoch 17: early stopping\n"
     ]
    },
    {
     "data": {
      "image/png": "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",
      "text/plain": [
       "<Figure size 640x480 with 1 Axes>"
      ]
     },
     "metadata": {},
     "output_type": "display_data"
    }
   ],
   "source": [
    "from tensorflow.keras.layers import Input, LSTM, Embedding, Dense, Concatenate, Bidirectional\n",
    "from tensorflow.keras.models import Model\n",
    "from tensorflow.keras.callbacks import EarlyStopping, ModelCheckpoint\n",
    "from tensorflow.keras.layers import AdditiveAttention\n",
=======
   "id": "3113e9b3",
   "metadata": {},
   "outputs": [],
   "source": [
    "from tensorflow.keras.layers import Input, Embedding, LSTM, Dense, Concatenate\n",
    "from tensorflow.keras.models import Model\n",
    "from tensorflow.keras.layers import AdditiveAttention\n",
    "\n",
    "# 하이퍼파라미터\n",
>>>>>>> update GD01
    "embedding_dim = 128\n",
    "hidden_size = 256\n",
    "\n",
    "# 인코더\n",
    "encoder_inputs = Input(shape=(text_max_len,))\n",
<<<<<<< HEAD
    "\n",
    "# 인코더의 임베딩 층\n",
    "enc_emb = Embedding(src_vocab, embedding_dim)(encoder_inputs)\n",
    "\n",
    "# 인코더의 LSTM 1\n",
    "encoder_lstm1 = LSTM(hidden_size, return_sequences=True, return_state=True ,dropout = 0.4, recurrent_dropout = 0.4)\n",
    "encoder_output1, state_h1, state_c1 = encoder_lstm1(enc_emb)\n",
    "\n",
    "# 인코더의 LSTM 2\n",
    "encoder_lstm2 = LSTM(hidden_size, return_sequences=True, return_state=True, dropout=0.4, recurrent_dropout=0.4)\n",
    "encoder_output2, state_h2, state_c2 = encoder_lstm2(encoder_output1)\n",
    "\n",
    "# 인코더의 LSTM 3\n",
    "encoder_lstm3 = LSTM(hidden_size, return_state=True, return_sequences=True, dropout=0.4, recurrent_dropout=0.4)\n",
    "encoder_outputs, state_h, state_c= encoder_lstm3(encoder_output2)\n",
    "\n",
    "\n",
    "# 디코더\n",
    "decoder_inputs = Input(shape=(None,))\n",
    "\n",
    "# 디코더의 임베딩 층\n",
    "dec_emb_layer = Embedding(tar_vocab, embedding_dim)\n",
    "dec_emb = dec_emb_layer(decoder_inputs)\n",
    "\n",
    "# 디코더의 LSTM\n",
    "decoder_lstm = LSTM(hidden_size, return_sequences = True, return_state = True, dropout = 0.4, recurrent_dropout=0.2)\n",
    "decoder_outputs, _, _ = decoder_lstm(dec_emb, initial_state = [state_h, state_c])\n",
    "\n",
    "# 디코더의 출력층\n",
    "decoder_softmax_layer = Dense(tar_vocab, activation = 'softmax')\n",
    "decoder_softmax_outputs = decoder_softmax_layer(decoder_outputs) \n",
    "\n",
    "# 모델 정의\n",
    "model = Model([encoder_inputs, decoder_inputs], decoder_softmax_outputs)\n",
    "model.summary()\n",
    "\n",
    "# 어텐션 층(어텐션 함수)\n",
    "attn_layer = AttentionLayer(name='attention_layer')\n",
    "attn_out, attn_states = attn_layer([encoder_outputs, decoder_outputs])\n",
    "\n",
    "# 어텐션의 결과와 디코더의 hidden state들을 연결\n",
    "decoder_concat_input = Concatenate(axis = -1, name='concat_layer')([decoder_outputs, attn_out])\n",
    "\n",
    "# 디코더의 출력층\n",
    "decoder_softmax_layer = Dense(tar_vocab, activation='softmax')\n",
    "decoder_softmax_outputs = decoder_softmax_layer(decoder_concat_input)\n",
    "\n",
    "# 모델 정의\n",
    "model = Model([encoder_inputs, decoder_inputs], decoder_softmax_outputs)\n",
    "model.summary()\n",
    "\n",
    "from tensorflow.keras.optimizers import Adam\n",
    "model.compile(optimizer=Adam(learning_rate=0.001), loss='sparse_categorical_crossentropy')\n",
    "#콜백설정\n",
    "es = EarlyStopping(monitor='val_loss', patience=6, min_delta=0.001, verbose=1)\n",
    "mc = ModelCheckpoint(\n",
    "    filepath='best_model.keras',   # 저장할 파일명\n",
    "    monitor='val_loss',         # 검증 손실 기준으로\n",
    "    save_best_only=True,        # 최고 성능만 저장\n",
    "    verbose=1\n",
    ")\n",
    "history = model.fit(x=[encoder_input_train, decoder_input_train], y=decoder_target_train, \\\n",
    "          validation_data=([encoder_input_test, decoder_input_test], decoder_target_test), \\\n",
    "          batch_size=128, callbacks=[es, mc], epochs=50)\n",
    "#train loss와 validation loss그래프를 통해 확인하기\n",
    "plt.plot(history.history['loss'], label='train')\n",
    "plt.plot(history.history['val_loss'], label='test')\n",
    "plt.legend()\n",
    "plt.show()"
=======
    "enc_emb = Embedding(src_vocab, embedding_dim)(encoder_inputs)\n",
    "\n",
    "encoder_output1, _, _ = LSTM(hidden_size, return_sequences=True, return_state=True, dropout=0.4)(enc_emb)\n",
    "encoder_output2, _, _ = LSTM(hidden_size, return_sequences=True, return_state=True, dropout=0.4)(encoder_output1)\n",
    "encoder_outputs, state_h, state_c = LSTM(hidden_size, return_sequences=True, return_state=True, dropout=0.4)(encoder_output2)\n",
    "\n",
    "# 디코더\n",
    "decoder_inputs = Input(shape=(None,))\n",
    "dec_emb_layer = Embedding(tar_vocab, embedding_dim)\n",
    "dec_emb = dec_emb_layer(decoder_inputs)\n",
    "\n",
    "decoder_lstm = LSTM(hidden_size, return_sequences=True, return_state=True, dropout=0.4)\n",
    "decoder_outputs, _, _ = decoder_lstm(dec_emb, initial_state=[state_h, state_c])\n",
    "\n",
    "# 어텐션\n",
    "attn_layer = AdditiveAttention(name='attention_layer')\n",
    "attn_out = attn_layer([decoder_outputs, encoder_outputs])\n",
    "decoder_concat_input = Concatenate(axis=-1, name='concat_layer')([decoder_outputs, attn_out])\n",
    "\n",
    "# 출력층\n",
    "decoder_softmax_layer = Dense(tar_vocab, activation='softmax')\n",
    "decoder_softmax_outputs = decoder_softmax_layer(decoder_concat_input)\n",
    "\n",
    "# 최종 모델 정의\n",
    "model = Model([encoder_inputs, decoder_inputs], decoder_softmax_outputs)\n",
    "model.summary()\n"
   ]
  },
  {
   "cell_type": "markdown",
   "id": "590c4e7d",
   "metadata": {},
   "source": [
    "## 모델 훈련"
   ]
  },
  {
   "cell_type": "code",
   "execution_count": null,
   "id": "6ee3eff3",
   "metadata": {},
   "outputs": [],
   "source": [
    "#모델 훈련\n",
    "model.compile(optimizer='rmsprop', loss='sparse_categorical_crossentropy')\n",
    "es = EarlyStopping(monitor='val_loss', patience=2, verbose=1)\n",
    "history = model.fit(x=[encoder_input_train, decoder_input_train], y=decoder_target_train, \\\n",
    "          validation_data=([encoder_input_test, decoder_input_test], decoder_target_test), \\\n",
    "          batch_size=256, callbacks=[es], epochs=50)"
>>>>>>> update GD01
   ]
  },
  {
   "cell_type": "markdown",
<<<<<<< HEAD
   "id": "b5775054",
   "metadata": {},
   "source": [
    "## 모델 평가 \n",
    "- 인퍼런스모델 구현\n",
    "- 모델 테스트(테스트 데이터 약 50개의 샘플에 대해서 실제요약과 예측 요약 비교)"
=======
   "id": "6185cd2b",
   "metadata": {},
   "source": [
    "## 모델 평가 \n",
    "- 모델 학습이 진행되면서 train loss와 validation loss가 감소하는 경향을 그래프를 통해 확인"
   ]
  },
  {
   "cell_type": "code",
   "execution_count": null,
   "id": "bec92c67",
   "metadata": {},
   "outputs": [],
   "source": [
    "#loss 시각화\n",
    "plt.plot(history.history['loss'], label='train')\n",
    "plt.plot(history.history['val_loss'], label='test')\n",
    "plt.legend()\n",
    "plt.show()"
>>>>>>> update GD01
   ]
  },
  {
   "cell_type": "markdown",
<<<<<<< HEAD
   "id": "2349cfc8",
   "metadata": {},
   "source": [
    "### 인퍼런스모델 구현"
=======
   "id": "fa920e99",
   "metadata": {},
   "source": [
    "## 인퍼런스모델 구현"
>>>>>>> update GD01
   ]
  },
  {
   "cell_type": "code",
<<<<<<< HEAD
   "execution_count": 70,
   "id": "b8a58982-37f0-4fb6-8d75-c4219f9543d9",
   "metadata": {},
   "outputs": [],
   "source": [
    "src_index_to_word = src_tokenizer.index_word # 원문 단어 집합에서 정수 -> 단어를 얻음\n",
    "tar_word_to_index = tar_tokenizer.word_index # 요약 단어 집합에서 단어 -> 정수를 얻음\n",
    "tar_index_to_word = tar_tokenizer.index_word # 요약 단어 집합에서 정수 -> 단어를 얻음\n",
    "tar_index_to_word[0] = ''  # padding에 해당하는 값 등록\n",
    "\n",
    "from tensorflow.keras.models import Model\n",
    "# 인코더 인퍼런스 모델\n",
    "encoder_model = Model(inputs=encoder_inputs, outputs=[encoder_outputs, state_h, state_c])\n",
    "# 디코더 입력\n",
    "decoder_state_input_h = Input(shape=(hidden_size,))\n",
    "decoder_state_input_c = Input(shape=(hidden_size,))\n",
    "decoder_hidden_state_input = Input(shape=(text_max_len, hidden_size))\n",
    "\n",
    "# 디코더 임베딩\n",
    "dec_emb2 = dec_emb_layer(decoder_inputs)\n",
    "\n",
    "# 디코더 LSTM\n",
    "decoder_outputs2, state_h2, state_c2 = decoder_lstm(dec_emb2,\n",
    "                                                    initial_state=[decoder_state_input_h, decoder_state_input_c])\n",
    "\n",
    "# 어텐션\n",
    "attn_out_inf, attn_states_inf = attn_layer([decoder_hidden_state_input, decoder_outputs2])\n",
    "decoder_inf_concat = Concatenate(axis=-1)([decoder_outputs2, attn_out_inf])\n",
    "\n",
    "# 최종 출력\n",
    "decoder_outputs2 = decoder_softmax_layer(decoder_inf_concat)\n",
    "\n",
    "# 디코더 인퍼런스 모델\n",
    "decoder_model = Model(\n",
    "    [decoder_inputs, decoder_hidden_state_input, decoder_state_input_h, decoder_state_input_c],\n",
    "    [decoder_outputs2, state_h2, state_c2]\n",
    ")\n"
=======
   "execution_count": null,
   "id": "3bdc5e63",
   "metadata": {},
   "outputs": [],
   "source": [
    "#인퍼런스 모델 구현\n",
    "src_index_to_word = src_tokenizer.index_word # 원문 단어 집합에서 정수 -> 단어를 얻음\n",
    "tar_word_to_index = tar_tokenizer.word_index # 요약 단어 집합에서 단어 -> 정수를 얻음\n",
    "tar_index_to_word = tar_tokenizer.index_word # 요약 단어 집합에서 정수 -> 단어를 얻음\n",
    "\n",
    "print('=3')"
   ]
  },
  {
   "cell_type": "code",
   "execution_count": null,
   "id": "e114e5bb",
   "metadata": {},
   "outputs": [],
   "source": [
    "# 인코더 설계\n",
    "encoder_model = Model(inputs=encoder_inputs, outputs=[encoder_outputs, state_h, state_c])\n",
    "\n",
    "# 이전 시점의 상태들을 저장하는 텐서\n",
    "decoder_state_input_h = Input(shape=(hidden_size,))\n",
    "decoder_state_input_c = Input(shape=(hidden_size,))\n",
    "\n",
    "dec_emb2 = dec_emb_layer(decoder_inputs)\n",
    "\n",
    "# 문장의 다음 단어를 예측하기 위해서 초기 상태(initial_state)를 이전 시점의 상태로 사용. 이는 뒤의 함수 decode_sequence()에 구현\n",
    "# 훈련 과정에서와 달리 LSTM의 리턴하는 은닉 상태와 셀 상태인 state_h와 state_c를 버리지 않음.\n",
    "decoder_outputs2, state_h2, state_c2 = decoder_lstm(dec_emb2, initial_state=[decoder_state_input_h, decoder_state_input_c])\n",
    "\n",
    "# 어텐션 함수\n",
    "decoder_hidden_state_input = Input(shape=(text_max_len, hidden_size))\n",
    "attn_out_inf = attn_layer([decoder_outputs2, decoder_hidden_state_input])\n",
    "decoder_inf_concat = Concatenate(axis=-1, name='concat')([decoder_outputs2, attn_out_inf])\n",
    "\n",
    "# 디코더의 출력층\n",
    "decoder_outputs2 = decoder_softmax_layer(decoder_inf_concat) \n",
    "\n",
    "# 최종 디코더 모델\n",
    "decoder_model = Model(\n",
    "    [decoder_inputs] + [decoder_hidden_state_input,decoder_state_input_h, decoder_state_input_c],\n",
    "    [decoder_outputs2] + [state_h2, state_c2])\n",
    "\n",
    "print('=3')"
>>>>>>> update GD01
   ]
  },
  {
   "cell_type": "code",
<<<<<<< HEAD
   "execution_count": 79,
   "id": "5f7a0eb1-7801-466b-8abc-f7fe34b303e3",
   "metadata": {},
   "outputs": [],
   "source": [
    "def decode_sequence(input_seq):\n",
    "    # 인코더의 출력값(컨텍스트)과 상태값 추출\n",
    "    e_out, e_h, e_c = encoder_model.predict(input_seq, verbose=0)\n",
    "\n",
    "    # 시작 토큰 입력\n",
    "    target_seq = np.zeros((1, 1))\n",
    "    target_seq[0, 0] = tar_word_to_index['sostoken']  # 시작 토큰\n",
    "\n",
    "    stop_condition = False\n",
    "    decoded_sentence = ''\n",
    "\n",
    "    while not stop_condition:\n",
    "        output_tokens, h, c = decoder_model.predict(\n",
    "            [target_seq, e_out, e_h, e_c], verbose=0  # ← 이 부분이 핵심!\n",
    "        )\n",
    "\n",
    "        # 가장 확률 높은 단어 인덱스 선택\n",
    "        sampled_token_index = np.argmax(output_tokens[0, -1, :])\n",
    "        sampled_token = tar_index_to_word.get(sampled_token_index, '')\n",
    "\n",
    "        if sampled_token != 'eostoken':\n",
    "            decoded_sentence += ' ' + sampled_token\n",
    "\n",
    "        # 종료 조건 확인\n",
    "        if sampled_token == 'eostoken' or len(decoded_sentence.split()) >= text_max_len:\n",
    "            stop_condition = True\n",
    "\n",
    "        # 다음 타임스텝 입력 준비\n",
    "        target_seq = np.zeros((1, 1))\n",
    "        target_seq[0, 0] = sampled_token_index\n",
    "\n",
    "        e_h, e_c = h, c\n",
    "\n",
    "    return decoded_sentence.strip()\n",
    "\n",
=======
   "execution_count": null,
   "id": "f59912a9",
   "metadata": {},
   "outputs": [],
   "source": [
    "#인퍼런스 단계에서 단어 시퀸스를 완성하는 함수\n",
    "def decode_sequence(input_seq):\n",
    "    # 입력으로부터 인코더의 상태를 얻음\n",
    "    e_out, e_h, e_c = encoder_model.predict(input_seq)\n",
    "\n",
    "     # <SOS>에 해당하는 토큰 생성\n",
    "    target_seq = np.zeros((1,1))\n",
    "    target_seq[0, 0] = tar_word_to_index['sostoken']\n",
    "\n",
    "    stop_condition = False\n",
    "    decoded_sentence = ''\n",
    "    while not stop_condition: # stop_condition이 True가 될 때까지 루프 반복\n",
    "\n",
    "        output_tokens, h, c = decoder_model.predict([target_seq, e_out,e_h, e_c])\n",
    "        sampled_token_index = np.argmax(output_tokens[0, -1, :])\n",
    "        sampled_token = tar_index_to_word[sampled_token_index]\n",
    "\n",
    "        if (sampled_token!='eostoken'):\n",
    "            decoded_sentence += ' '+sampled_token\n",
    "\n",
    "        #  <eos>에 도달하거나 최대 길이를 넘으면 중단.\n",
    "        if (sampled_token == 'eostoken'  or len(decoded_sentence.split()) >= (summary_max_len-1)):\n",
    "            stop_condition = True\n",
    "\n",
    "        # 길이가 1인 타겟 시퀀스를 업데이트\n",
    "        target_seq = np.zeros((1,1))\n",
    "        target_seq[0, 0] = sampled_token_index\n",
    "\n",
    "        # 상태를 업데이트 합니다.\n",
    "        e_h, e_c = h, c\n",
    "\n",
    "    return decoded_sentence\n",
    "print('=3')\n",
>>>>>>> update GD01
    "\n"
   ]
  },
  {
   "cell_type": "markdown",
<<<<<<< HEAD
   "id": "24f82722",
=======
   "id": "0debe245",
>>>>>>> update GD01
   "metadata": {},
   "source": [
    "# 4. 실제결과와 요약문 비교\n",
    "- 원래의 요약문(headlines 열)과 학습을 통해 얻은 추상적 요약의 결과를 비교해 보세요.\n",
<<<<<<< HEAD
    "-  실제 요약문에 있는 단어들이 예측 요약문에 조금 포함되어 있지만 중복 발생, 나머지 핵심 내용이 들어가 있지 않았다.\n",
    "  \n",
    "✅ 실제 요약문: beat english side tottenham liverpool french champions psg match winning goal time\n",
    "\n",
    "❌ 예측 요약문: messi messi fewer trick trick win win win ...\n",
    "\n",
    "- → messi는 관련 있지만, 다른 단어 (tottenham, psg, goal)은 미포함\n",
    "\n",
    "-   \n",
    "\n",
    "\n",
    "✅ 실제 요약문\n",
    "ranveer towers deepika shahid beautiful film india today wrote film covered rated\n",
    "\n",
    "❌ 예측 요약문\n",
    "deepika ranveer starrer in starrer simmba\n",
    "\n",
    "→ deepika, ranveer, starrer는 일부 관련 있으나\n",
    "\n",
    "→ 핵심 표현인 towers, beautiful, india today, covered, rated 누락\n"
   ]
  },
  {
   "cell_type": "code",
   "execution_count": 82,
   "id": "1ac04651-ebc4-4156-8d6d-858db73d462a",
   "metadata": {},
   "outputs": [],
   "source": [
    "# 원문의 정수 시퀀스를 텍스트 시퀀스로 변환\n",
    "def seq2text(input_seq):\n",
    "    sentence=''\n",
    "    for i in input_seq:\n",
    "        if(i!=0):\n",
    "            sentence = sentence + src_index_to_word[i]+' '\n",
    "    return sentence\n",
    "\n",
    "# 요약문의 정수 시퀀스를 텍스트 시퀀스로 변환\n",
    "def seq2summary(input_seq):\n",
    "    sentence=''\n",
    "    for i in input_seq:\n",
    "        if((i!=0 and i!=tar_word_to_index['sostoken']) and i!=tar_word_to_index['eostoken']):\n",
    "            sentence = sentence + tar_index_to_word[i] + ' '\n",
    "    return sentence\n"
   ]
  },
  {
   "cell_type": "code",
   "execution_count": 84,
   "id": "a4168eba-531a-4e04-94ae-432fdf5710b5",
   "metadata": {},
   "outputs": [
    {
     "name": "stdout",
     "output_type": "stream",
     "text": [
      "원문 :  police thursday took pakistani national custody found living priest temple haryana pakistani passport recovered name mentioned raja resident hindu colony pakistan police also recovered aadhaar pan card \n",
      "실제 요약문 : mentioned raja resident hindu colony pakistan police also recovered aadhaar pan card \n",
      "예측 요약문 : pak pak pakistan for in in in\n",
      "\n",
      "\n",
      "원문 :  many columns army deployed panchkula ahead dera sacha sauda chief gurmeet ram rahim court hearing rape case filed heavy security arrangements also made along entire route ram rahim convoy would pass order avoid trouble dera followers \n",
      "실제 요약문 : entire route ram rahim convoy would pass order avoid trouble dera followers \n",
      "예측 요약문 : cases rahim rahim rahim rahim rahim\n",
      "\n",
      "\n",
      "원문 :  least civilians among killed saudi led air strike destroyed hotel near houthi rebel checkpoint yemen wednesday reports said saudi led coalition involved yemen civil war backing yemeni government houthi rebels least people died since outbreak war \n",
      "실제 요약문 : war backing yemeni government houthi rebels least people died since outbreak war \n",
      "예측 요약문 : isis killed in in in yemen\n",
      "\n",
      "\n",
      "원문 :  argentine forward lionel messi scored career th hat trick help barcelona beat dutch champions opening champions league group match tuesday matches italian side inter milan beat english side tottenham liverpool overcame french champions psg match winning goal roberto time \n",
      "실제 요약문 : beat english side tottenham liverpool french champions psg match winning goal time \n",
      "예측 요약문 : messi messi fewer trick trick win win win                                                     margin margin margin margin margin margin margin margin margin margin margin pl pl pl pl pl pl pl pl pl pl elevator elevator elevator elevator elevator elevator elevator elevator elevator elevator elevator elevator elevator elevator\n",
      "\n",
      "\n",
      "원문 :  artist painted swedish striker zlatan ibrahimovic image swedish note ibrahimovic posed version note instagram captioned benjamin franklin referring american statesman whose image printed usa note notably swedish note nation largest denomination \n",
      "실제 요약문 : referring american whose image printed usa note notably swedish note nation largest \n",
      "예측 요약문 : alien of for explains\n",
      "\n",
      "\n",
      "원문 :  tanushree dutta filed crore defamation case rakhi sawant calling sexual harassment allegations lie accusing taking drugs latter threatened file crore defamation case tanushree dutta gone mad nothing sort ever happened seen song nana patekar touch said rakhi \n",
      "실제 요약문 : mad nothing sort ever happened seen song nana patekar touch said rakhi \n",
      "예측 요약문 : tanushree allegation allegation allegation allegation allegation allegation allegation allegation\n",
      "\n",
      "\n",
      "원문 :  organisation islamic cooperation called international community recognise east jerusalem capital palestine rejects us decision violation international law islamic body said added us withdraw role middle east peace sponsor \n",
      "실제 요약문 : law islamic body said added us withdraw role middle east peace sponsor \n",
      "예측 요약문 : us to us us\n",
      "\n",
      "\n",
      "원문 :  canadian authorities trying locate private luxury plane bought indian origin family south africa help million loan canadian state owned bank bank said aircraft may used escape justice unlawful means gupta family previously accused corruption \n",
      "실제 요약문 : aircraft may used escape justice unlawful means gupta family previously accused corruption \n",
      "예측 요약문 : canada airlines crore gold destination\n",
      "\n",
      "\n",
      "원문 :  group former bureaucrats written open letter pm narendra modi said someone anti government imply anti national letter said banning slaughterhouses targets minorities affects livelihoods well also cited political statements without facts made uttar pradesh elections \n",
      "실제 요약문 : affects well also cited political statements without facts made uttar pradesh elections \n",
      "예측 요약문 : no to to to pm pm pm\n",
      "\n",
      "\n",
      "원문 :  calling gold bitcoin american billionaire mark cuban said hates neither viable alternatives currency however added good news bitcoin supply bad news gold keep mining cuban said would rather pet rock gold bitcoin \n",
      "실제 요약문 : news gold keep mining cuban said would rather pet rock gold bitcoin \n",
      "예측 요약문 : we not not customers customers customers\n",
      "\n",
      "\n",
      "원문 :  mns leader thackeray said oppose salman khan tiger zinda hai takes prime time screens state marathi films get fewer shows raj thackeray reportedly also wrote cinema hall owners warning marathi film given prime time slot would let run tiger zinda hai \n",
      "실제 요약문 : warning marathi film given prime time would let run tiger zinda hai \n",
      "예측 요약문 : tiger zinda tiger tiger tiger tiger on on film\n",
      "\n",
      "\n",
      "원문 :  ex world heavyweight champion tyson fury trainer ben revealed former broke tooth training paid dental bill said tyson instructions instead executing body shot caught chin purpose jury still added \n",
      "실제 요약문 : paid bill said instructions instead body shot caught purpose jury still added \n",
      "예측 요약문 : ex champ ex me he ex ex ex ex ex\n",
      "\n",
      "\n",
      "원문 :  deadpool actor josh opening arrest domestic violence said explaining person explain would ex wife diane lane chosen okay added arrested diane called police claiming hit \n",
      "실제 요약문 : would ex wife lane chosen okay added arrested called police claiming hit \n",
      "예측 요약문 : was in to in in police\n",
      "\n",
      "\n",
      "원문 :  bihar cm nitish kumar led jd continue part nda alliance lok sabha elections jd general secretary sanjay kumar jha announced party national executive meeting sunday decided later party contest many seats added last year kumar exited mahagathbandhan ally nda \n",
      "실제 요약문 : later party contest many seats added last year kumar exited ally nda \n",
      "예측 요약문 : nitish jd alliance sabha sabha sabha sabha\n",
      "\n",
      "\n",
      "원문 :  indian grandmaster viswanathan anand china prepared fish dish break norway chess open wife aruna watched sometimes moving pieces sometimes cooking anand later tweeted partner cut vegetables fish precision anand said \n",
      "실제 요약문 : pieces sometimes cooking anand later tweeted partner cut vegetables fish anand said \n",
      "예측 요약문 : india to to world\n",
      "\n",
      "\n",
      "원문 :  competition commission india imposed crore penalty hyundai motor india unfair business practices respect providing discounts cars cci found hyundai guilty imposing arrangements upon dealers violation provisions competition act company directed cease desist anti competitive practices \n",
      "실제 요약문 : arrangements upon dealers violation provisions competition act company directed anti competitive practices \n",
      "예측 요약문 : crore crore crore crore in\n",
      "\n",
      "\n",
      "원문 :  aiadmk leader ttv dhinakaran saturday said mlas supporting teach lesson want evict party general secretary vk sasikala dhinakaran hit panneerselvam edappadi palaniswami factions saying cannot buy mlas notably comes days announcement aiadmk factions merger \n",
      "실제 요약문 : factions saying cannot buy mlas notably comes days announcement aiadmk factions merger \n",
      "예측 요약문 : aiadmk aiadmk to aiadmk aiadmk aiadmk aiadmk aiadmk dhinakaran\n",
      "\n",
      "\n",
      "원문 :  indian contingent world para athletics championship ended campaign five medals london sunday india five medals included gold two silver two bronze medals helped nation finish joint nd place notably india represented para athletes including five women \n",
      "실제 요약문 : finish joint nd place notably india represented para athletes including five women \n",
      "예측 요약문 : india win bronze medals at commonwealth at                                                           kom cwg kom asiad asiad asiad bronze asiad asiad bronze asiad bronze asiad bronze bronze medals medals medals medals                                        cwg cwg asiad kom sailing sailing sailing sailing sailing sailing fulfilled freestyle fulfilled freestyle fulfilled freestyle fulfilled\n",
      "\n",
      "\n",
      "원문 :  shahi imam kolkata tipu sultan mosque maulana rahman tuesday challenged rss supporters stop brave fight like men threatened muslims would join work rss bjp would ousted muslim community beaten \n",
      "실제 요약문 : threatened muslims would join work rss bjp would ousted muslim community beaten \n",
      "예측 요약문 : anti in in\n",
      "\n",
      "\n",
      "원문 :  sweden international aid agency said freeze funding aid groups accept us president donald trump policy providing support organisations provide abortions information abortions notably swedish agency health aid budget promotion sexual reproductive health rights \n",
      "실제 요약문 : provide information notably swedish agency health aid budget promotion sexual health rights \n",
      "예측 요약문 : us to mistake mistake mistake\n",
      "\n",
      "\n",
      "원문 :  norwegian heiress second youngest billionaire world year old handed fine court failing roadside test way family incident occurred received three week suspended prison sentence banned driving months \n",
      "실제 요약문 : family incident occurred received three week suspended prison sentence banned driving months \n",
      "예측 요약문 : year old year for court\n",
      "\n",
      "\n",
      "원문 :  hrithik roshan turned wednesday received first remuneration age six appearing song jane hum sadak ke se film speaking hrithik said spent money purchasing lovely toy cars film directed hrithik grandfather om prakash \n",
      "실제 요약문 : spent money purchasing lovely toy cars film directed hrithik grandfather om prakash \n",
      "예측 요약문 : kangana on on on on yrs yrs on yrs yrs yrs yrs                                                     stardom stardom stardom stardom hrithik hrithik hrithik hrithik hrithik hrithik hrithik hrithik hrithik hrithik hrithik hrithik hrithik hrithik hrithik hrithik hrithik hrithik hrithik hrithik hrithik hrithik hrithik hrithik hrithik hrithik hrithik\n",
      "\n",
      "\n",
      "원문 :  apple ceo tim cook thursday took twitter tweet th anniversary iphone launch tweet sent cook exactly according us time zone matches time every iphone displays apple presentation event advertisement \n",
      "실제 요약문 : us time zone matches time every iphone displays apple presentation event advertisement \n",
      "예측 요약문 : apple cook on apple apple apple apple\n",
      "\n",
      "\n",
      "원문 :  australia offering nearly lakh rohingya muslims seeking refuge detention centre papua new guinea agreeing return myanmar minority community targeted security forces notably papua new guinea supreme court last year ordered closure centre terming illegal breaching human rights \n",
      "실제 요약문 : supreme court last year ordered closure centre terming illegal breaching human rights \n",
      "예측 요약문 : australia lakh lakh lakh refugees refugees refugees                                                                rohingya rohingya rohingya rohingya rohingya rohingya refugees refugees refugees                                    rohingya rohingya rohingya rohingya rohingya refugees rohingya refugees                                rohingya rohingya rohingya rohingya rohingya refugees rohingya refugees                                rohingya rohingya rohingya rohingya rohingya refugees rohingya refugees                                rohingya rohingya rohingya\n",
      "\n",
      "\n",
      "원문 :  filmmaker rohit shetty said direct small budget film scared audience watching rohit shetty film like festival screen cannot cheat loyal audience added however rohit said small budget film good story produce \n",
      "실제 요약문 : cheat audience added however rohit said small budget film good story produce \n",
      "예측 요약문 : am not play rohit rohit rohit rohit rohit\n",
      "\n",
      "\n",
      "원문 :  actress richa chadha shared experience got followed fans bikes bandra mumbai tweeting certainly way ask pictures richa added fans hazard safety pedestrians vehicles road \n",
      "실제 요약문 : tweeting certainly way ask pictures richa added fans safety pedestrians vehicles road \n",
      "예측 요약문 : richa of in misbehaving misbehaving\n",
      "\n",
      "\n",
      "원문 :  ahead donald trump state visit uk sheffield lord mayor called us president barred visiting city adding city tolerate racism said world leader trump lot weight fight hate \n",
      "실제 요약문 : adding city tolerate racism said world leader trump lot weight fight hate \n",
      "예측 요약문 : us of us us\n",
      "\n",
      "\n",
      "원문 :  first new zealand india odi stopped india th due sun straight batsman eyes one end opener shikhar dhawan able spot ball delivered pacer ferguson teams returned minute dinner break india given target \n",
      "실제 요약문 : spot ball delivered pacer teams returned minute dinner break india given target \n",
      "예측 요약문 : england england england england india india india india\n",
      "\n",
      "\n",
      "원문 :  shooting upcoming episode kapil sharma show featuring shah rukh khan anushka sharma postponed kapil hospitalised day shoot feeling doctors advised get admitted said comedian kiku sharda features show episode promote film jab harry met sejal \n",
      "실제 요약문 : admitted said comedian features show episode promote film jab harry met sejal \n",
      "예측 요약문 : kapil sharma srk srk reception reception sharma reception show\n",
      "\n",
      "\n",
      "원문 :  deepika padukone ranveer singh shahid kapoor starrer padmaavat looking period film matches international standards wrote bollywood hungama hindustan times wrote ranveer towers deepika shahid beautiful film india today wrote film covered jewels rated \n",
      "실제 요약문 : ranveer towers deepika shahid beautiful film india today wrote film covered rated \n",
      "예측 요약문 : deepika ranveer starrer in starrer simmba\n",
      "\n",
      "\n"
     ]
    }
   ],
   "source": [
    "#테스트 데이터 약 30개의 샘플에 대해서 실제 요약과 예측된 요약을 비교\n",
    "for i in range(50, 80):\n",
    "    print(\"원문 : \",seq2text(encoder_input_test[i]))\n",
    "    print(\"실제 요약문 :\",seq2summary(decoder_input_test[i]))\n",
    "    print(\"예측 요약문 :\",decode_sequence(encoder_input_test[i].reshape(1, text_max_len)))\n",
    "    print(\"\\n\")\n"
   ]
  },
  {
   "cell_type": "code",
   "execution_count": null,
   "id": "d5fe3a0a-4512-4f79-9403-5ec9b34568e5",
   "metadata": {},
   "outputs": [],
   "source": [
    "# import pandas as pd\n",
    "\n",
    "# results = []\n",
    "\n",
    "# for i in range(50, 100):\n",
    "#     source = seq2text(encoder_input_test[i])\n",
    "#     reference = seq2summary(decoder_input_test[i])\n",
    "#     prediction = decode_sequence(encoder_input_test[i].reshape(1, text_max_len))\n",
    "\n",
    "#     results.append({\n",
    "#         \"원문\": source,\n",
    "#         \"실제 요약\": reference,\n",
    "#         \"예측 요약\": prediction\n",
    "#     })\n",
    "\n",
    "# df_summary = pd.DataFrame(results)\n"
=======
    "-  실제 요약문에 있는 핵심 단어들이 요약 문장 안에 포함되었다."
   ]
  },
  {
   "cell_type": "markdown",
   "id": "e1823431",
   "metadata": {},
   "source": [
    "## 원래 요약문과 학습을 통해 얻은 추상적 요약 비교"
>>>>>>> update GD01
   ]
  },
  {
   "cell_type": "markdown",
<<<<<<< HEAD
   "id": "e70ba4c7",
   "metadata": {},
   "source": [
    "## 실제요약과 예측 요약 비교\n",
    "- 일부 키워드는 포함되어있다. \n",
    "- 키워드 누락\n",
    "- 단어가 반복되고있음."
=======
   "id": "08d70f00",
   "metadata": {},
   "source": [
    "## 원래 요약문 핵심단어가 추상적 요약문 문장안에 포함되었는지 확인"
>>>>>>> update GD01
   ]
  },
  {
   "cell_type": "markdown",
<<<<<<< HEAD
   "id": "21a2b255",
=======
   "id": "3d3190b8",
>>>>>>> update GD01
   "metadata": {},
   "source": [
    "# 5. Summa를 이용하여 추출적 요약\n",
    "- 추상적 요약은 추출적 요약과는 달리 문장의 표현력을 다양하게 가져갈 수 있지만, 추출적 요약에 비해서 난이도가 높아요. 반대로 말하면 추출적 요약은 추상적 요약에 비해 난이도가 낮고 기존 문장에서 문장을 꺼내오는 것이므로 잘못된 요약이 나올 가능성이 낮아요.\n"
   ]
  },
  {
<<<<<<< HEAD
   "cell_type": "code",
   "execution_count": 121,
   "id": "a2fc7efd-552f-4a25-afa7-d7b18c09fcd1",
   "metadata": {},
   "outputs": [
    {
     "name": "stdout",
     "output_type": "stream",
     "text": [
      "[비율 요약 결과]\n",
      "upGrad's Online Power Learning has powered 3 lakh+ careers.\n",
      "\n",
      "[문장 수 기반 요약 결과]\n",
      "The program and upGrad's 360-degree career support helped him transition to a Data Scientist at Tech Mahindra with 90% salary hike.\n",
      "upGrad's Online Power Learning has powered 3 lakh+ careers.\n",
      "\n",
      "[문장 리스트 요약 결과]\n",
      "[\"upGrad's Online Power Learning has powered 3 lakh+ careers.\"]\n"
     ]
    }
   ],
   "source": [
    "from summa.summarizer import summarize\n",
    "import urllib.request\n",
    "urllib.request.urlretrieve(\"https://raw.githubusercontent.com/sunnysai12345/News_Summary/master/news_summary_more.csv\", filename=\"news_summary_more.csv\")\n",
    "data = pd.read_csv('news_summary_more.csv', encoding='iso-8859-1')\n",
    "text = data['text'][0] # 토큰 시퀀스를 다시 문장으로 변환\n",
    "# 1. 비율 기반 요약\n",
    "summary_ratio = summarize(text, ratio=0.4, language='english')  # 전체 텍스트의 40%\n",
    "print(\"[비율 요약 결과]\")\n",
    "print(summary_ratio)\n",
    "\n",
    "# 2. 문장 수 기반 요약\n",
    "summary_words = summarize(text, words=30, language='english')\n",
    "print(\"\\n[문장 수 기반 요약 결과]\")\n",
    "print(summary_words)\n",
    "\n",
    "# 3. 문장별 리스트로 출력\n",
    "summary_list = summarize(text, ratio=0.5, language='english', split=True)\n",
    "print(\"\\n[문장 리스트 요약 결과]\")\n",
    "print(summary_list)"
   ]
  },
  {
   "cell_type": "markdown",
   "id": "eb8346e4",
   "metadata": {},
   "source": [
    "# 6. 추출적 요약과 추상적 요약 비교\n",
    "- 추상적 요약은 가끔 관련된 키워드를 포함하지만 같은 단어 반복이나 문법에 많지 않는 형태\n",
    "-  \"rahim rahim rahim...\" 또는 \"pak pakistan for in in in\"\n",
    "-  추출적요약은 문법적으로 자연스러운 문장이지만 입력한 본문가 관계없는 문장이 나오는 경우가 있음\n",
    "-  📜 원문\n",
    "\n",
    "- many columns army deployed panchkula ahead dera sacha sauda chief gurmeet ram rahim court hearing rape case filed...\n",
    "\n",
    "- 🧾 summa 추출 요약\n",
    "\n",
    "- Boeing retained its position as the world's largest planemaker for the seventh straight year, delivering 806 aircraft in 2018.  -> 원문과 관련없는 boeing 항공기 내용"
   ]
  },
  {
   "cell_type": "code",
   "execution_count": 128,
   "id": "c6004c6d-0db4-4d33-b97f-069de15cd48c",
   "metadata": {},
   "outputs": [
    {
     "name": "stdout",
     "output_type": "stream",
     "text": [
      "[샘플 50]\n",
      "📜 원문:\n",
      "police thursday took pakistani national custody found living priest temple haryana pakistani passport recovered name mentioned raja resident hindu colony pakistan police also recovered aadhaar pan card \n",
      "\n",
      "✅ 실제 요약:\n",
      "mentioned raja resident hindu colony pakistan police also recovered aadhaar pan card \n",
      "\n",
      "🧠 추상적 요약 (Seq2Seq 모델):\n",
      "pak pak pakistan for in in in\n",
      "\n",
      "🧾 추출적 요약 (summa):\n",
      "Former Finance Minister Yashwant Sinha on Tuesday demanded a probe into the alleged diversion of loans worth Ã¢ÂÂ¹31,000 crore by Dewan Housing Finance (DHFL).\n",
      "\n",
      "----------------------------------------------------------------------------------------------------\n",
      "\n",
      "[샘플 51]\n",
      "📜 원문:\n",
      "many columns army deployed panchkula ahead dera sacha sauda chief gurmeet ram rahim court hearing rape case filed heavy security arrangements also made along entire route ram rahim convoy would pass order avoid trouble dera followers \n",
      "\n",
      "✅ 실제 요약:\n",
      "entire route ram rahim convoy would pass order avoid trouble dera followers \n",
      "\n",
      "🧠 추상적 요약 (Seq2Seq 모델):\n",
      "cases rahim rahim rahim rahim rahim\n",
      "\n",
      "🧾 추출적 요약 (summa):\n",
      "Boeing retained its position as the world's largest planemaker for the seventh straight year, delivering 806 aircraft in 2018.\n",
      "\n",
      "----------------------------------------------------------------------------------------------------\n",
      "\n",
      "[샘플 52]\n",
      "📜 원문:\n",
      "least civilians among killed saudi led air strike destroyed hotel near houthi rebel checkpoint yemen wednesday reports said saudi led coalition involved yemen civil war backing yemeni government houthi rebels least people died since outbreak war \n",
      "\n",
      "✅ 실제 요약:\n",
      "war backing yemeni government houthi rebels least people died since outbreak war \n",
      "\n",
      "🧠 추상적 요약 (Seq2Seq 모델):\n",
      "isis killed in in in yemen\n",
      "\n",
      "🧾 추출적 요약 (summa):\n",
      "❗ 요약 실패 (입력 문장이 부족하거나 형식 오류)\n",
      "\n",
      "----------------------------------------------------------------------------------------------------\n",
      "\n",
      "[샘플 53]\n",
      "📜 원문:\n",
      "argentine forward lionel messi scored career th hat trick help barcelona beat dutch champions opening champions league group match tuesday matches italian side inter milan beat english side tottenham liverpool overcame french champions psg match winning goal roberto time \n",
      "\n",
      "✅ 실제 요약:\n",
      "beat english side tottenham liverpool french champions psg match winning goal time \n",
      "\n",
      "🧠 추상적 요약 (Seq2Seq 모델):\n",
      "messi messi fewer trick trick win win win                                                     margin margin margin margin margin margin margin margin margin margin margin pl pl pl pl pl pl pl pl pl pl elevator elevator elevator elevator elevator elevator elevator elevator elevator elevator elevator elevator elevator elevator\n",
      "\n",
      "🧾 추출적 요약 (summa):\n",
      "Further, its OnePlus 6 emerged as the highest selling premium smartphone of 2018 followed by OnePlus 6T.\n",
      "\n",
      "----------------------------------------------------------------------------------------------------\n",
      "\n",
      "[샘플 54]\n",
      "📜 원문:\n",
      "artist painted swedish striker zlatan ibrahimovic image swedish note ibrahimovic posed version note instagram captioned benjamin franklin referring american statesman whose image printed usa note notably swedish note nation largest denomination \n",
      "\n",
      "✅ 실제 요약:\n",
      "referring american whose image printed usa note notably swedish note nation largest \n",
      "\n",
      "🧠 추상적 요약 (Seq2Seq 모델):\n",
      "alien of for explains\n",
      "\n",
      "🧾 추출적 요약 (summa):\n",
      "❗ 요약 실패 (입력 문장이 부족하거나 형식 오류)\n",
      "\n",
      "----------------------------------------------------------------------------------------------------\n",
      "\n",
      "[샘플 55]\n",
      "📜 원문:\n",
      "tanushree dutta filed crore defamation case rakhi sawant calling sexual harassment allegations lie accusing taking drugs latter threatened file crore defamation case tanushree dutta gone mad nothing sort ever happened seen song nana patekar touch said rakhi \n",
      "\n",
      "✅ 실제 요약:\n",
      "mad nothing sort ever happened seen song nana patekar touch said rakhi \n",
      "\n",
      "🧠 추상적 요약 (Seq2Seq 모델):\n",
      "tanushree allegation allegation allegation allegation allegation allegation allegation allegation\n",
      "\n",
      "🧾 추출적 요약 (summa):\n",
      "❗ 요약 실패 (입력 문장이 부족하거나 형식 오류)\n",
      "\n",
      "----------------------------------------------------------------------------------------------------\n",
      "\n",
      "[샘플 56]\n",
      "📜 원문:\n",
      "organisation islamic cooperation called international community recognise east jerusalem capital palestine rejects us decision violation international law islamic body said added us withdraw role middle east peace sponsor \n",
      "\n",
      "✅ 실제 요약:\n",
      "law islamic body said added us withdraw role middle east peace sponsor \n",
      "\n",
      "🧠 추상적 요약 (Seq2Seq 모델):\n",
      "us to us us\n",
      "\n",
      "🧾 추출적 요약 (summa):\n",
      "❗ 요약 실패 (입력 문장이 부족하거나 형식 오류)\n",
      "\n",
      "----------------------------------------------------------------------------------------------------\n",
      "\n",
      "[샘플 57]\n",
      "📜 원문:\n",
      "canadian authorities trying locate private luxury plane bought indian origin family south africa help million loan canadian state owned bank bank said aircraft may used escape justice unlawful means gupta family previously accused corruption \n",
      "\n",
      "✅ 실제 요약:\n",
      "aircraft may used escape justice unlawful means gupta family previously accused corruption \n",
      "\n",
      "🧠 추상적 요약 (Seq2Seq 모델):\n",
      "canada airlines crore gold destination\n",
      "\n",
      "🧾 추출적 요약 (summa):\n",
      "Nevada State Athletic Commission has banned MMA fighters Conor McGregor and Khabib Nurmagomedov for six months and nine months respectively over their roles in the mass brawl that occurred after their fight at UFC 229 last October.\n",
      "\n",
      "----------------------------------------------------------------------------------------------------\n",
      "\n",
      "[샘플 58]\n",
      "📜 원문:\n",
      "group former bureaucrats written open letter pm narendra modi said someone anti government imply anti national letter said banning slaughterhouses targets minorities affects livelihoods well also cited political statements without facts made uttar pradesh elections \n",
      "\n",
      "✅ 실제 요약:\n",
      "affects well also cited political statements without facts made uttar pradesh elections \n",
      "\n",
      "🧠 추상적 요약 (Seq2Seq 모델):\n",
      "no to to to pm pm pm\n",
      "\n",
      "🧾 추출적 요약 (summa):\n",
      "Pakistan captain Sarfaraz Ahmed, who has been banned for four matches over racist remarks, took an apparent dig at his critics by sharing a video of a child reciting 'log hai na' poem on Twitter.\n",
      "\n",
      "----------------------------------------------------------------------------------------------------\n",
      "\n",
      "[샘플 59]\n",
      "📜 원문:\n",
      "calling gold bitcoin american billionaire mark cuban said hates neither viable alternatives currency however added good news bitcoin supply bad news gold keep mining cuban said would rather pet rock gold bitcoin \n",
      "\n",
      "✅ 실제 요약:\n",
      "news gold keep mining cuban said would rather pet rock gold bitcoin \n",
      "\n",
      "🧠 추상적 요약 (Seq2Seq 모델):\n",
      "we not not customers customers customers\n",
      "\n",
      "🧾 추출적 요약 (summa):\n",
      "Sreesanth further said the bookie tried dragging him into spot-fixing but he didn't fall for it.\n",
      "\n",
      "----------------------------------------------------------------------------------------------------\n",
      "\n"
     ]
    }
   ],
   "source": [
    "from summa.summarizer import summarize\n",
    "urllib.request.urlretrieve(\"https://raw.githubusercontent.com/sunnysai12345/News_Summary/master/news_summary_more.csv\", filename=\"news_summary_more.csv\")\n",
    "data = pd.read_csv('news_summary_more.csv', encoding='iso-8859-1')\n",
    "for i in range(50, 60):\n",
    "    # 추출적 요약용 원문 준비 (문장 형태로 복원된 텍스트)\n",
    "    text = data['text'][i]\n",
    "\n",
    "    print(f\"[샘플 {i}]\")\n",
    "    print(\"📜 원문:\")\n",
    "    print(seq2text(encoder_input_test[i]))\n",
    "\n",
    "    print(\"\\n✅ 실제 요약:\")\n",
    "    print(seq2summary(decoder_input_test[i]))\n",
    "\n",
    "    print(\"\\n🧠 추상적 요약 (Seq2Seq 모델):\")\n",
    "    print(decode_sequence(encoder_input_test[i].reshape(1, text_max_len)))\n",
    "\n",
    "    try:\n",
    "        print(\"\\n🧾 추출적 요약 (summa):\")\n",
    "        extractive_summary = summarize(text, ratio=0.4, language='english')\n",
    "        if extractive_summary.strip() == '':\n",
    "            print(\"❗ 요약 실패 (입력 문장이 부족하거나 형식 오류)\")\n",
    "        else:\n",
    "            print(extractive_summary)\n",
    "    except ValueError as e:\n",
    "        print(f\"❗ summa 요약 오류: {e}\")\n",
    "\n",
    "    print(\"\\n\" + \"-\"*100 + \"\\n\")\n"
   ]
  },
  {
   "cell_type": "code",
   "execution_count": null,
   "id": "07ba077b-d7c4-41c2-b477-80981d232091",
   "metadata": {},
   "outputs": [],
   "source": []
  },
  {
   "cell_type": "markdown",
   "id": "0f9a4bcb",
   "metadata": {},
   "source": [
    "# 회고\n",
    "- 노트북에서 gpu 사용하는 환경을 세팅해야겠다.\n",
    "- lstm 3층 쌓은 것보다 양방향 rnn이 더 문맥을 잘 읽는느낌이 들었다."
=======
   "cell_type": "markdown",
   "id": "233c3563",
   "metadata": {},
   "source": [
    "# 6. 추출적 요약과 추상적 요약 비교\n",
    "- 문법 완성도\n",
    "- 핵심단어 포함"
   ]
  },
  {
   "cell_type": "markdown",
   "id": "c09293ae",
   "metadata": {},
   "source": [
    "# 회고"
>>>>>>> update GD01
   ]
  },
  {
   "cell_type": "code",
   "execution_count": null,
<<<<<<< HEAD
   "id": "fd0b7f36",
=======
   "id": "ae8f5890",
>>>>>>> update GD01
   "metadata": {},
   "outputs": [],
   "source": []
  }
 ],
 "metadata": {
  "kernelspec": {
<<<<<<< HEAD
   "display_name": "Python [conda env:base] *",
   "language": "python",
   "name": "conda-base-py"
=======
   "display_name": "Python 3 (ipykernel)",
   "language": "python",
   "name": "python3"
>>>>>>> update GD01
  },
  "language_info": {
   "codemirror_mode": {
    "name": "ipython",
    "version": 3
   },
   "file_extension": ".py",
   "mimetype": "text/x-python",
   "name": "python",
   "nbconvert_exporter": "python",
   "pygments_lexer": "ipython3",
<<<<<<< HEAD
   "version": "3.12.4"
=======
   "version": "3.9.7"
>>>>>>> update GD01
  }
 },
 "nbformat": 4,
 "nbformat_minor": 5
}
