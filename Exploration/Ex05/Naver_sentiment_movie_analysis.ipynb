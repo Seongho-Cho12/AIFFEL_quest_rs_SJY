{
 "cells": [
  {
   "cell_type": "code",
   "execution_count": 1,
   "id": "40093129",
   "metadata": {},
   "outputs": [],
   "source": [
    "import tensorflow as tf\n",
    "import numpy as np\n",
    "import tensorflow as tf\n",
    "import os"
   ]
  },
  {
   "cell_type": "markdown",
   "id": "9e44f071",
   "metadata": {},
   "source": [
    "# 1) 데이터 준비와 확인"
   ]
  },
  {
   "cell_type": "code",
   "execution_count": 2,
   "id": "62d5af07",
   "metadata": {},
   "outputs": [
    {
     "data": {
      "text/html": [
       "<div>\n",
       "<style scoped>\n",
       "    .dataframe tbody tr th:only-of-type {\n",
       "        vertical-align: middle;\n",
       "    }\n",
       "\n",
       "    .dataframe tbody tr th {\n",
       "        vertical-align: top;\n",
       "    }\n",
       "\n",
       "    .dataframe thead th {\n",
       "        text-align: right;\n",
       "    }\n",
       "</style>\n",
       "<table border=\"1\" class=\"dataframe\">\n",
       "  <thead>\n",
       "    <tr style=\"text-align: right;\">\n",
       "      <th></th>\n",
       "      <th>id</th>\n",
       "      <th>document</th>\n",
       "      <th>label</th>\n",
       "    </tr>\n",
       "  </thead>\n",
       "  <tbody>\n",
       "    <tr>\n",
       "      <th>0</th>\n",
       "      <td>9976970</td>\n",
       "      <td>아 더빙.. 진짜 짜증나네요 목소리</td>\n",
       "      <td>0</td>\n",
       "    </tr>\n",
       "    <tr>\n",
       "      <th>1</th>\n",
       "      <td>3819312</td>\n",
       "      <td>흠...포스터보고 초딩영화줄....오버연기조차 가볍지 않구나</td>\n",
       "      <td>1</td>\n",
       "    </tr>\n",
       "    <tr>\n",
       "      <th>2</th>\n",
       "      <td>10265843</td>\n",
       "      <td>너무재밓었다그래서보는것을추천한다</td>\n",
       "      <td>0</td>\n",
       "    </tr>\n",
       "    <tr>\n",
       "      <th>3</th>\n",
       "      <td>9045019</td>\n",
       "      <td>교도소 이야기구먼 ..솔직히 재미는 없다..평점 조정</td>\n",
       "      <td>0</td>\n",
       "    </tr>\n",
       "    <tr>\n",
       "      <th>4</th>\n",
       "      <td>6483659</td>\n",
       "      <td>사이몬페그의 익살스런 연기가 돋보였던 영화!스파이더맨에서 늙어보이기만 했던 커스틴 ...</td>\n",
       "      <td>1</td>\n",
       "    </tr>\n",
       "  </tbody>\n",
       "</table>\n",
       "</div>"
      ],
      "text/plain": [
       "         id                                           document  label\n",
       "0   9976970                                아 더빙.. 진짜 짜증나네요 목소리      0\n",
       "1   3819312                  흠...포스터보고 초딩영화줄....오버연기조차 가볍지 않구나      1\n",
       "2  10265843                                  너무재밓었다그래서보는것을추천한다      0\n",
       "3   9045019                      교도소 이야기구먼 ..솔직히 재미는 없다..평점 조정      0\n",
       "4   6483659  사이몬페그의 익살스런 연기가 돋보였던 영화!스파이더맨에서 늙어보이기만 했던 커스틴 ...      1"
      ]
     },
     "execution_count": 2,
     "metadata": {},
     "output_type": "execute_result"
    }
   ],
   "source": [
    "#데이터 읽기\n",
    "import pandas as pd\n",
    "\n",
    "# 데이터를 읽어봅시다. \n",
    "train_data = pd.read_table('~/aiffel/sentiment_classification/data/ratings_train.txt')\n",
    "test_data = pd.read_table('~/aiffel/sentiment_classification/data/ratings_test.txt')\n",
    "\n",
    "train_data.head()"
   ]
  },
  {
   "cell_type": "markdown",
   "id": "85139a05",
   "metadata": {},
   "source": [
    "# 2) 데이터로더 구성\n",
    "- 데이터 중복, 결측치 제거, 토큰화, 불용어제거, 사전구성\n",
    "- X_train, y_train, X_test, y_test, word_to_index 리턴"
   ]
  },
  {
   "cell_type": "code",
   "execution_count": 3,
   "id": "f6320ee9",
   "metadata": {},
   "outputs": [],
   "source": [
    "#데이터 로더 구성\n",
    "from konlpy.tag import Mecab\n",
    "import numpy as np\n",
    "from collections import Counter\n",
    "\n",
    "tokenizer = Mecab()\n",
    "stopwords = ['의','가','이','은','들','는','좀','잘','걍','과','도','를','으로','자','에','와','한','하다']\n",
    "\n",
    "def load_data(train_data, text_data, num_words = 10000):\n",
    "    #데이터 중복, NaN 제거\n",
    "    train_data.drop_duplicates(subset = 'document', inplace = True)\n",
    "    train_data.dropna(subset = ['document'], inplace = True)\n",
    "    \n",
    "    test_data.drop_duplicates(subset = 'document', inplace = True)\n",
    "    test_data.dropna(subset = ['document'], inplace = True)\n",
    "    \n",
    "    #한국어 토크나이저로 토큰화, 불용어 제거\n",
    "    X_train = []\n",
    "    for text in train_data['document']:\n",
    "        tmp = tokenizer.morphs(text)\n",
    "        tmp = [word for word in tmp if word not in stopwords]\n",
    "        X_train.append(tmp)\n",
    "    \n",
    "    X_test = []\n",
    "    for text in test_data['document']:\n",
    "        tmp = tokenizer.morphs(text)\n",
    "        tmp = [word for word in tmp if word not in stopwords]\n",
    "        X_test.append(tmp)\n",
    "        \n",
    "    \n",
    "    #사전 word_to_index 구성\n",
    "    words = np.concatenate(X_train).tolist()\n",
    "    counter = Counter(words)\n",
    "    counter = counter.most_common(10000-4)\n",
    "    vocab = ['', '', '', ''] + [key for key, _ in counter]\n",
    "    word_to_index = {word:index for index, word in enumerate(vocab)}\n",
    "    \n",
    "    \n",
    "    #텍스트 스트링을 사전 인덱스 스트링으로 변환\n",
    "    def wordlist_to_indexlist(word_list):\n",
    "        return [word_to_index[word] if word in word_to_index else word_to_index[''] for word in word_list]\n",
    "\n",
    "    X_train = list(map(wordlist_to_indexlist, X_train))\n",
    "    X_test = list(map(wordlist_to_indexlist, X_test))\n",
    "    \n",
    "    return X_train, np.array(list(train_data['label'])), X_test, np.array(list(test_data['label'])), word_to_index\n",
    "\n",
    "X_train, y_train, X_test, y_test, word_to_index = load_data(train_data, test_data)"
   ]
  },
  {
   "cell_type": "code",
   "execution_count": 4,
   "id": "9c1c1b2a",
   "metadata": {},
   "outputs": [
    {
     "data": {
      "text/plain": [
       "9997"
      ]
     },
     "execution_count": 4,
     "metadata": {},
     "output_type": "execute_result"
    }
   ],
   "source": [
    "len(word_to_index)"
   ]
  },
  {
   "cell_type": "markdown",
   "id": "e037bb28",
   "metadata": {},
   "source": [
    "# 3) 모델 구성을 위한 데이터 분석 및 가공\n",
    "- 데이터셋 내 문장 길이 분포\n",
    "- 적절한 최대 문장 길이 지정 -> 상위 95 %를 포함하는 길이 : 47로 설정\n",
    "- keras.preprocessing.sequence.pad_sequences을 활용한 패딩 추가"
   ]
  },
  {
   "cell_type": "code",
   "execution_count": 5,
   "id": "f0cc4750",
   "metadata": {},
   "outputs": [],
   "source": [
    "#index to word, word to index 생성\n",
    "index_to_word = {index:word for word, index in word_to_index.items()}\n",
    "index_to_word[0] = \"<PAD>\"\n",
    "index_to_word[1] = \"<BOS>\"\n",
    "index_to_word[2] = \"<UNK>\"\n",
    "index_to_word[3] = \"<UNUSED>\""
   ]
  },
  {
   "cell_type": "code",
   "execution_count": 6,
   "id": "2f098522",
   "metadata": {},
   "outputs": [],
   "source": [
    "#실제 인코딩 인덱스는 제공된 word_to_index에서 index 기준으로 3씩 뒤로 밀려 있습니다.  \n",
    "word_to_index = {k:(v+1) for k,v in word_to_index.items()}\n",
    "word_to_index[\"<PAD>\"] = 0\n",
    "word_to_index[\"<BOS>\"] = 1\n",
    "word_to_index[\"<UNK>\"] = 2  # unknown\n",
    "word_to_index[\"<UNUSED>\"] = 3\n",
    "\n"
   ]
  },
  {
   "cell_type": "code",
   "execution_count": 7,
   "id": "d888c458",
   "metadata": {},
   "outputs": [
    {
     "name": "stdout",
     "output_type": "stream",
     "text": [
      "최대 문장 길이 :  116\n",
      "최초 문장 길이 :  0\n",
      "평균 문장 길이 :  15.96940191154864\n",
      "상위 95%는 47 이하입니다.\n"
     ]
    },
    {
     "data": {
      "image/png": "[encoded data removed]",
      "text/plain": [
       "<Figure size 720x432 with 1 Axes>"
      ]
     },
     "metadata": {
      "needs_background": "light"
     },
     "output_type": "display_data"
    }
   ],
   "source": [
    "#데이터셋 내 문장 길이 분포\n",
    "dataset = list(X_train) + list(X_test)\n",
    "num_tokens = [len(tokens) for tokens in dataset]\n",
    "num_tokens = np.array(num_tokens)\n",
    "print('최대 문장 길이 : ',max(num_tokens)) #최대 문장 길이 116\n",
    "print('최초 문장 길이 : ',min(num_tokens))\n",
    "print('평균 문장 길이 : ',np.mean(num_tokens))\n",
    "perc95_len = int(np.percentile(num_tokens, 95))\n",
    "print(f\"상위 95%는 {perc95_len} 이하입니다.\")\n",
    "maxlen = perc95_len\n",
    "import matplotlib.pyplot as plt\n",
    "# seq_len: 각 문장의 길이 리스트\n",
    "plt.figure(figsize=(10, 6))\n",
    "plt.hist(num_tokens, bins=20, color='skyblue', edgecolor='black')  # bin 수는 조절 가능\n",
    "plt.title('sequence length (Histogram)', fontsize=16)\n",
    "plt.xlabel('sequence length', fontsize=14)\n",
    "plt.ylabel('counts', fontsize=14)\n",
    "plt.grid(True)\n",
    "plt.show()\n"
   ]
  },
  {
   "cell_type": "code",
   "execution_count": 8,
   "id": "70d96988",
   "metadata": {},
   "outputs": [
    {
     "name": "stdout",
     "output_type": "stream",
     "text": [
      "<BOS>\n"
     ]
    }
   ],
   "source": [
    "#PAD, BOS, UNK, UNUSED 를 추가하는 작업을 합니다.\n",
    "#실제 인코딩 인덱스는 제공된 word_to_index에서 index 기준으로 3씩 뒤로 밀려 있습니다.  \n",
    "word_to_index = {k:(v+1) for k,v in word_to_index.items()}\n",
    "\n",
    "# 처음 몇 개 인덱스는 사전에 정의되어 있습니다\n",
    "word_to_index[\"<PAD>\"] = 0\n",
    "word_to_index[\"<BOS>\"] = 1\n",
    "word_to_index[\"<UNK>\"] = 2  # unknown\n",
    "word_to_index[\"<UNUSED>\"] = 3\n",
    "\n",
    "index_to_word[0] = \"<PAD>\"\n",
    "index_to_word[1] = \"<BOS>\"\n",
    "index_to_word[2] = \"<UNK>\"\n",
    "index_to_word[3] = \"<UNUSED>\"\n",
    "\n",
    "index_to_word = {index:word for word, index in word_to_index.items()}\n",
    "\n",
    "print(index_to_word[1])     # '<BOS>' 가 출력됩니다."
   ]
  },
  {
   "cell_type": "code",
   "execution_count": 9,
   "id": "10dc3db7",
   "metadata": {},
   "outputs": [
    {
     "name": "stdout",
     "output_type": "stream",
     "text": [
      "패딩 후 X_train shape: (146182, 47)\n",
      "패딩 후 X_test shape: (49157, 47)\n"
     ]
    }
   ],
   "source": [
    "#keras.preprocessing.sequence.pad_sequences을 활용한 패딩 추가\n",
    "from tensorflow.keras.preprocessing.sequence import pad_sequences\n",
    "from tensorflow.keras.preprocessing.text import Tokenizer\n",
    "from tensorflow.keras.preprocessing.sequence import pad_sequences\n",
    "\n",
    "# padding 적용 (앞을 0으로 채우는 'pre' 방식, 필요시 'post'도 가능)\n",
    "X_train = tf.keras.preprocessing.sequence.pad_sequences(X_train, maxlen=maxlen, padding='pre')\n",
    "X_test =tf.keras.preprocessing.sequence.pad_sequences(X_test, maxlen=maxlen, padding='pre')\n",
    "\n",
    "# 결과 확인\n",
    "print(\"패딩 후 X_train shape:\", X_train.shape)\n",
    "print(\"패딩 후 X_test shape:\", X_test.shape)"
   ]
  },
  {
   "cell_type": "markdown",
   "id": "2f7fbbe8",
   "metadata": {},
   "source": [
    "# 4) 모델 구성 및 validation set 구성\n",
    "- CNN 기반 모델\n",
    "- LSTM 기반 모델\n",
    "- Transformer 기반 모델"
   ]
  },
  {
   "cell_type": "code",
   "execution_count": 10,
   "id": "ea79520b",
   "metadata": {},
   "outputs": [
    {
     "name": "stdout",
     "output_type": "stream",
     "text": [
      "(102328, 47)\n",
      "(102328,)\n",
      "(43854, 47)\n",
      "(43854,)\n"
     ]
    }
   ],
   "source": [
    "#validation set 분리\n",
    "val_split = int(len(X_train)* 0.3)\n",
    "x_val = X_train[:val_split]\n",
    "y_val = y_train[:val_split]\n",
    "\n",
    "# validation set을 제외한 나머지 15000건\n",
    "partial_x_train = X_train[val_split:]  \n",
    "partial_y_train = y_train[val_split:]\n",
    "\n",
    "print(partial_x_train.shape)\n",
    "print(partial_y_train.shape)\n",
    "print(x_val.shape)\n",
    "print(y_val.shape)"
   ]
  },
  {
   "cell_type": "markdown",
   "id": "560f0681",
   "metadata": {},
   "source": [
    "## Simple RNN"
   ]
  },
  {
   "cell_type": "code",
   "execution_count": 11,
   "id": "96b75f5e",
   "metadata": {},
   "outputs": [
    {
     "name": "stdout",
     "output_type": "stream",
     "text": [
      "Epoch 1/20\n",
      "200/200 [==============================] - 10s 43ms/step - loss: 0.5052 - accuracy: 0.7381 - val_loss: 0.3585 - val_accuracy: 0.8430\n",
      "Epoch 2/20\n",
      "200/200 [==============================] - 8s 42ms/step - loss: 0.3458 - accuracy: 0.8537 - val_loss: 0.3571 - val_accuracy: 0.8482\n",
      "Epoch 3/20\n",
      "200/200 [==============================] - 8s 42ms/step - loss: 0.3167 - accuracy: 0.8696 - val_loss: 0.3525 - val_accuracy: 0.8502\n",
      "Epoch 4/20\n",
      "200/200 [==============================] - 8s 42ms/step - loss: 0.2884 - accuracy: 0.8837 - val_loss: 0.3713 - val_accuracy: 0.8448\n",
      "Epoch 5/20\n",
      "200/200 [==============================] - 8s 41ms/step - loss: 0.2513 - accuracy: 0.9011 - val_loss: 0.4004 - val_accuracy: 0.8357\n",
      "Epoch 6/20\n",
      "200/200 [==============================] - 8s 41ms/step - loss: 0.2151 - accuracy: 0.9179 - val_loss: 0.4538 - val_accuracy: 0.8250\n",
      "Epoch 7/20\n",
      "200/200 [==============================] - 8s 41ms/step - loss: 0.1824 - accuracy: 0.9330 - val_loss: 0.4889 - val_accuracy: 0.8255\n",
      "Epoch 8/20\n",
      "200/200 [==============================] - 8s 40ms/step - loss: 0.1565 - accuracy: 0.9432 - val_loss: 0.5355 - val_accuracy: 0.8233\n",
      "Epoch 9/20\n",
      "200/200 [==============================] - 8s 41ms/step - loss: 0.1365 - accuracy: 0.9510 - val_loss: 0.5935 - val_accuracy: 0.8151\n",
      "Epoch 10/20\n",
      "200/200 [==============================] - 8s 41ms/step - loss: 0.1243 - accuracy: 0.9565 - val_loss: 0.6214 - val_accuracy: 0.8143\n",
      "Epoch 11/20\n",
      "200/200 [==============================] - 8s 41ms/step - loss: 0.1116 - accuracy: 0.9607 - val_loss: 0.6825 - val_accuracy: 0.8145\n",
      "Epoch 12/20\n",
      "200/200 [==============================] - 8s 41ms/step - loss: 0.1030 - accuracy: 0.9642 - val_loss: 0.6965 - val_accuracy: 0.8081\n",
      "Epoch 13/20\n",
      "200/200 [==============================] - 8s 41ms/step - loss: 0.0947 - accuracy: 0.9665 - val_loss: 0.7425 - val_accuracy: 0.8020\n",
      "Epoch 00013: early stopping\n",
      "1537/1537 - 7s - loss: 0.7770 - accuracy: 0.7955\n",
      "[0.7769867777824402, 0.7954716682434082]\n"
     ]
    },
    {
     "data": {
      "image/png": "[encoded data removed]",
      "text/plain": [
       "<Figure size 864x360 with 2 Axes>"
      ]
     },
     "metadata": {
      "needs_background": "light"
     },
     "output_type": "display_data"
    }
   ],
   "source": [
    "from tensorflow.keras.models import Sequential\n",
    "from tensorflow.keras.layers import Embedding, SimpleRNN, Dense, Dropout\n",
    "vocab_size = len(word_to_index) + 1    # 어휘 사전의 크기\n",
    "word_vector_dim = 16  # 워드 벡터의 차원 수 (변경 가능한 하이퍼파라미터\n",
    "model_rnn = Sequential([\n",
    "    Embedding(vocab_size, word_vector_dim, input_length=maxlen),\n",
    "    SimpleRNN(64),\n",
    "    Dropout(0.5),\n",
    "    Dense(64, activation='relu'),\n",
    "    Dense(1, activation='sigmoid')\n",
    "])\n",
    "\n",
    "model_rnn.compile(optimizer='adam', loss='binary_crossentropy', metrics=['accuracy'])\n",
    "#과적합방지를 위한 early stopping\n",
    "from keras.callbacks import EarlyStopping\n",
    "es=EarlyStopping(monitor='val_loss',mode='min',verbose=1,patience=10) \n",
    "\n",
    "epochs=20 # 몇 epoch를 훈련하면 좋을지 결과를 보면서 바꾸어 봅시다. \n",
    "\n",
    "history = model_rnn.fit(partial_x_train,\n",
    "                    partial_y_train,\n",
    "                    epochs=epochs,\n",
    "                    batch_size=512,callbacks = [es],\n",
    "                    validation_data=(x_val, y_val),\n",
    "                    verbose=1)\n",
    "results = model_rnn.evaluate(X_test,  y_test, verbose=2)\n",
    "\n",
    "print(results)\n",
    "history_dict = history.history\n",
    "acc = history.history['accuracy']\n",
    "val_acc = history.history['val_accuracy']\n",
    "loss = history.history['loss']\n",
    "val_loss = history.history['val_loss']\n",
    "epochs = range(1, len(acc) + 1)\n",
    "import matplotlib.pyplot as plt\n",
    "\n",
    "epochs = range(1, len(acc) + 1)\n",
    "\n",
    "plt.figure(figsize=(12, 5))\n",
    "\n",
    "# 🔹 1. 정확도 그래프\n",
    "plt.subplot(1, 2, 1)  # (1행, 2열, 1번째)\n",
    "plt.plot(epochs, acc, 'bo', label='Training acc')\n",
    "plt.plot(epochs, val_acc, 'b', label='Validation acc')\n",
    "plt.title('simpleRNN Training and Validation Accuracy')\n",
    "plt.xlabel('Epochs')\n",
    "plt.ylabel('Accuracy')\n",
    "plt.legend()\n",
    "\n",
    "# 🔹 2. 손실 그래프\n",
    "plt.subplot(1, 2, 2)  # (1행, 2열, 2번째)\n",
    "plt.plot(epochs, loss, 'ro', label='Training loss')\n",
    "plt.plot(epochs, val_loss, 'r', label='Validation loss')\n",
    "plt.title('simpleRNN Training and Validation Loss')\n",
    "plt.xlabel('Epochs')\n",
    "plt.ylabel('Loss')\n",
    "plt.legend()\n",
    "\n",
    "plt.tight_layout()\n",
    "plt.show()\n"
   ]
  },
  {
   "cell_type": "markdown",
   "id": "f2b6947e",
   "metadata": {},
   "source": [
    "## CNN 기반 모델(Conv1D, GlobalMaxPooling1D)"
   ]
  },
  {
   "cell_type": "code",
   "execution_count": 12,
   "id": "64d8215c",
   "metadata": {},
   "outputs": [
    {
     "name": "stdout",
     "output_type": "stream",
     "text": [
      "Epoch 1/20\n",
      "200/200 [==============================] - 4s 7ms/step - loss: 0.4873 - accuracy: 0.7695 - val_loss: 0.3601 - val_accuracy: 0.8423\n",
      "Epoch 2/20\n",
      "200/200 [==============================] - 1s 5ms/step - loss: 0.3317 - accuracy: 0.8582 - val_loss: 0.3430 - val_accuracy: 0.8527\n",
      "Epoch 3/20\n",
      "200/200 [==============================] - 1s 5ms/step - loss: 0.2952 - accuracy: 0.8782 - val_loss: 0.3432 - val_accuracy: 0.8534\n",
      "Epoch 4/20\n",
      "200/200 [==============================] - 1s 5ms/step - loss: 0.2689 - accuracy: 0.8901 - val_loss: 0.3473 - val_accuracy: 0.8546\n",
      "Epoch 5/20\n",
      "200/200 [==============================] - 1s 5ms/step - loss: 0.2459 - accuracy: 0.9023 - val_loss: 0.3574 - val_accuracy: 0.8516\n",
      "Epoch 6/20\n",
      "200/200 [==============================] - 1s 5ms/step - loss: 0.2216 - accuracy: 0.9138 - val_loss: 0.3678 - val_accuracy: 0.8515\n",
      "Epoch 7/20\n",
      "200/200 [==============================] - 1s 5ms/step - loss: 0.1974 - accuracy: 0.9252 - val_loss: 0.3885 - val_accuracy: 0.8485\n",
      "Epoch 8/20\n",
      "200/200 [==============================] - 1s 5ms/step - loss: 0.1730 - accuracy: 0.9370 - val_loss: 0.4116 - val_accuracy: 0.8458\n",
      "Epoch 9/20\n",
      "200/200 [==============================] - 1s 5ms/step - loss: 0.1485 - accuracy: 0.9479 - val_loss: 0.4496 - val_accuracy: 0.8448\n",
      "Epoch 10/20\n",
      "200/200 [==============================] - 1s 5ms/step - loss: 0.1263 - accuracy: 0.9572 - val_loss: 0.4984 - val_accuracy: 0.8369\n",
      "Epoch 11/20\n",
      "200/200 [==============================] - 1s 5ms/step - loss: 0.1077 - accuracy: 0.9650 - val_loss: 0.5215 - val_accuracy: 0.8373\n",
      "Epoch 12/20\n",
      "200/200 [==============================] - 1s 5ms/step - loss: 0.0906 - accuracy: 0.9715 - val_loss: 0.5669 - val_accuracy: 0.8325\n",
      "Epoch 00012: early stopping\n",
      "1537/1537 - 2s - loss: 0.5932 - accuracy: 0.8290\n",
      "[0.5932341814041138, 0.8289561867713928]\n"
     ]
    },
    {
     "data": {
      "image/png": "[encoded data removed]",
      "text/plain": [
       "<Figure size 864x360 with 2 Axes>"
      ]
     },
     "metadata": {
      "needs_background": "light"
     },
     "output_type": "display_data"
    }
   ],
   "source": [
    "#모델 구성\n",
    "vocab_size = len(word_to_index) + 1    # 어휘 사전의 크기\n",
    "word_vector_dim = 16  # 워드 벡터의 차원 수 (변경 가능한 하이퍼파라미터)\n",
    "\n",
    "# model 설계 - 딥러닝 모델 코드를 직접 작성해 주세요.\n",
    "model_cnn = tf.keras.Sequential()\n",
    "model_cnn.add(tf.keras.layers.Embedding(vocab_size, word_vector_dim, input_shape = (None,)))\n",
    "model_cnn.add(tf.keras.layers.Conv1D(64, 5, activation = 'relu'))\n",
    "model_cnn.add(tf.keras.layers.GlobalMaxPooling1D())\n",
    "model_cnn.add(tf.keras.layers.Dense(16, activation='relu'))\n",
    "model_cnn.add(tf.keras.layers.Dense(1, activation = 'sigmoid'))\n",
    "\n",
    "model_cnn.compile(optimizer='adam',\n",
    "              loss='binary_crossentropy',\n",
    "              metrics=['accuracy'])\n",
    "\n",
    "#과적합방지를 위한 early stopping\n",
    "from keras.callbacks import EarlyStopping\n",
    "es=EarlyStopping(monitor='val_loss',mode='min',verbose=1,patience=10) \n",
    "\n",
    "epochs=20 # 몇 epoch를 훈련하면 좋을지 결과를 보면서 바꾸어 봅시다. \n",
    "\n",
    "history = model_cnn.fit(partial_x_train,\n",
    "                    partial_y_train,\n",
    "                    epochs=epochs,\n",
    "                    batch_size=512,callbacks = [es],\n",
    "                    validation_data=(x_val, y_val),\n",
    "                    verbose=1)\n",
    "results = model_cnn.evaluate(X_test,  y_test, verbose=2)\n",
    "\n",
    "print(results)\n",
    "history_dict = history.history\n",
    "acc = history.history['accuracy']\n",
    "val_acc = history.history['val_accuracy']\n",
    "loss = history.history['loss']\n",
    "val_loss = history.history['val_loss']\n",
    "epochs = range(1, len(acc) + 1)\n",
    "import matplotlib.pyplot as plt\n",
    "\n",
    "epochs = range(1, len(acc) + 1)\n",
    "\n",
    "plt.figure(figsize=(12, 5))\n",
    "\n",
    "# 🔹 1. 정확도 그래프\n",
    "plt.subplot(1, 2, 1)  # (1행, 2열, 1번째)\n",
    "plt.plot(epochs, acc, 'bo', label='Training acc')\n",
    "plt.plot(epochs, val_acc, 'b', label='Validation acc')\n",
    "plt.title('CNN Training and Validation Accuracy')\n",
    "plt.xlabel('Epochs')\n",
    "plt.ylabel('Accuracy')\n",
    "plt.legend()\n",
    "\n",
    "# 🔹 2. 손실 그래프\n",
    "plt.subplot(1, 2, 2)  # (1행, 2열, 2번째)\n",
    "plt.plot(epochs, loss, 'ro', label='Training loss')\n",
    "plt.plot(epochs, val_loss, 'r', label='Validation loss')\n",
    "plt.title('CNN Training and Validation Loss')\n",
    "plt.xlabel('Epochs')\n",
    "plt.ylabel('Loss')\n",
    "plt.legend()\n",
    "\n",
    "plt.tight_layout()\n",
    "plt.show()\n"
   ]
  },
  {
   "cell_type": "markdown",
   "id": "e38d375e",
   "metadata": {},
   "source": [
    "## LSTM 모델"
   ]
  },
  {
   "cell_type": "code",
   "execution_count": 13,
   "id": "0d204daa",
   "metadata": {},
   "outputs": [
    {
     "name": "stdout",
     "output_type": "stream",
     "text": [
      "Epoch 1/20\n",
      "200/200 [==============================] - 5s 13ms/step - loss: 0.4679 - accuracy: 0.7689 - val_loss: 0.3613 - val_accuracy: 0.8414\n",
      "Epoch 2/20\n",
      "200/200 [==============================] - 2s 10ms/step - loss: 0.3377 - accuracy: 0.8558 - val_loss: 0.3477 - val_accuracy: 0.8500\n",
      "Epoch 3/20\n",
      "200/200 [==============================] - 2s 10ms/step - loss: 0.3167 - accuracy: 0.8668 - val_loss: 0.3478 - val_accuracy: 0.8498\n",
      "Epoch 4/20\n",
      "200/200 [==============================] - 2s 10ms/step - loss: 0.3043 - accuracy: 0.8728 - val_loss: 0.3530 - val_accuracy: 0.8488\n",
      "Epoch 5/20\n",
      "200/200 [==============================] - 2s 10ms/step - loss: 0.2900 - accuracy: 0.8795 - val_loss: 0.3477 - val_accuracy: 0.8500\n",
      "Epoch 6/20\n",
      "200/200 [==============================] - 2s 10ms/step - loss: 0.2707 - accuracy: 0.8875 - val_loss: 0.3467 - val_accuracy: 0.8521\n",
      "Epoch 7/20\n",
      "200/200 [==============================] - 2s 10ms/step - loss: 0.2518 - accuracy: 0.8972 - val_loss: 0.3515 - val_accuracy: 0.8516\n",
      "Epoch 8/20\n",
      "200/200 [==============================] - 2s 10ms/step - loss: 0.2326 - accuracy: 0.9069 - val_loss: 0.3676 - val_accuracy: 0.8503\n",
      "Epoch 9/20\n",
      "200/200 [==============================] - 2s 10ms/step - loss: 0.2144 - accuracy: 0.9146 - val_loss: 0.3876 - val_accuracy: 0.8470\n",
      "Epoch 10/20\n",
      "200/200 [==============================] - 2s 10ms/step - loss: 0.1955 - accuracy: 0.9232 - val_loss: 0.4156 - val_accuracy: 0.8482\n",
      "Epoch 11/20\n",
      "200/200 [==============================] - 2s 10ms/step - loss: 0.1785 - accuracy: 0.9305 - val_loss: 0.4548 - val_accuracy: 0.8456\n",
      "Epoch 12/20\n",
      "200/200 [==============================] - 2s 10ms/step - loss: 0.1641 - accuracy: 0.9369 - val_loss: 0.4834 - val_accuracy: 0.8417\n",
      "Epoch 13/20\n",
      "200/200 [==============================] - 2s 10ms/step - loss: 0.1519 - accuracy: 0.9422 - val_loss: 0.4820 - val_accuracy: 0.8418\n",
      "Epoch 14/20\n",
      "200/200 [==============================] - 2s 10ms/step - loss: 0.1434 - accuracy: 0.9455 - val_loss: 0.5336 - val_accuracy: 0.8376\n",
      "Epoch 15/20\n",
      "200/200 [==============================] - 2s 10ms/step - loss: 0.1336 - accuracy: 0.9490 - val_loss: 0.5613 - val_accuracy: 0.8375\n",
      "Epoch 16/20\n",
      "200/200 [==============================] - 2s 10ms/step - loss: 0.1248 - accuracy: 0.9523 - val_loss: 0.5748 - val_accuracy: 0.8361\n",
      "Epoch 00016: early stopping\n",
      "1537/1537 - 4s - loss: 0.5805 - accuracy: 0.8329\n",
      "test_result:  [0.5804892182350159, 0.8328620791435242]\n"
     ]
    },
    {
     "data": {
      "image/png": "[encoded data removed]",
      "text/plain": [
       "<Figure size 864x360 with 2 Axes>"
      ]
     },
     "metadata": {
      "needs_background": "light"
     },
     "output_type": "display_data"
    }
   ],
   "source": [
    "#lstm 기반 모델\n",
    "from tensorflow.keras.models import Sequential\n",
    "from tensorflow.keras.layers import Embedding, LSTM, Dense\n",
    "model_lstm = Sequential([\n",
    "    Embedding(vocab_size, word_vector_dim, input_shape = (None,)),\n",
    "    LSTM(64, return_sequences=True),\n",
    "    LSTM(32),\n",
    "    Dense(64, activation = 'relu'),\n",
    "    Dense(1, activation = 'sigmoid')\n",
    "])\n",
    "\n",
    "#과적합 방지를 위한 early stopping\n",
    "from keras.callbacks import EarlyStopping\n",
    "es=EarlyStopping(monitor='val_loss',mode='min',verbose=1,patience=10)\n",
    "\n",
    "model_lstm.compile(optimizer='adam',\n",
    "              loss='binary_crossentropy',\n",
    "              metrics=['accuracy'])\n",
    "              \n",
    "epochs=20 # 몇 epoch를 훈련하면 좋을지 결과를 보면서 바꾸어 봅시다. \n",
    "\n",
    "history = model_lstm.fit(partial_x_train,\n",
    "                    partial_y_train,\n",
    "                    epochs=epochs,\n",
    "                    batch_size=512, callbacks = [es],\n",
    "                    validation_data=(x_val, y_val),\n",
    "                    verbose=1)\n",
    "results = model_lstm.evaluate(X_test,  y_test, verbose=2)\n",
    "\n",
    "print('test_result: ',results)\n",
    "history_dict = history.history\n",
    "import matplotlib.pyplot as plt\n",
    "\n",
    "# 먼저 history 객체로부터 정확도/손실 기록 불러오기\n",
    "acc = history.history['accuracy']\n",
    "val_acc = history.history['val_accuracy']\n",
    "loss = history.history['loss']\n",
    "val_loss = history.history['val_loss']\n",
    "\n",
    "# 에포크 수에 맞게 x축 범위 생성\n",
    "epochs = range(1, len(acc) + 1)\n",
    "\n",
    "# 시각화\n",
    "plt.figure(figsize=(12, 5))\n",
    "\n",
    "# 🔹 1. 정확도 그래프\n",
    "plt.subplot(1, 2, 1)\n",
    "plt.plot(epochs, acc, 'bo', label='Training acc')\n",
    "plt.plot(epochs, val_acc, 'b', label='Validation acc')\n",
    "plt.title('LSTM Training and Validation Accuracy')\n",
    "plt.xlabel('Epochs')\n",
    "plt.ylabel('Accuracy')\n",
    "plt.legend()\n",
    "\n",
    "# 🔹 2. 손실 그래프\n",
    "plt.subplot(1, 2, 2)\n",
    "plt.plot(epochs, loss, 'ro', label='Training loss')\n",
    "plt.plot(epochs, val_loss, 'r', label='Validation loss')\n",
    "plt.title('LSTM Training and Validation Loss')\n",
    "plt.xlabel('Epochs')\n",
    "plt.ylabel('Loss')\n",
    "plt.legend()\n",
    "\n",
    "plt.tight_layout()\n",
    "plt.show()\n"
   ]
  },
  {
   "cell_type": "markdown",
   "id": "7e83d239",
   "metadata": {},
   "source": [
    "# 학습된 Embedding 레이어 분석"
   ]
  },
  {
   "cell_type": "code",
   "execution_count": 14,
   "id": "d478a3ef",
   "metadata": {},
   "outputs": [],
   "source": [
    "import numpy as np\n",
    "from sklearn.metrics.pairwise import cosine_similarity\n",
    "\n",
    "def find_similar_words(model, word, word_to_index, index_to_word, top_n=10):\n",
    "    # 임베딩 레이어 추출\n",
    "    embedding_layer = model.layers[0]\n",
    "    embedding_weights = embedding_layer.get_weights()[0]  # shape: (vocab_size, embedding_dim)\n",
    "\n",
    "    # 단어 인덱스 확인\n",
    "    if word not in word_to_index:\n",
    "        print(f\"'{word}' is not in the vocabulary.\")\n",
    "        return\n",
    "\n",
    "    idx = word_to_index[word]\n",
    "    target_vector = embedding_weights[idx].reshape(1, -1)\n",
    "\n",
    "    # 전체 코사인 유사도 계산\n",
    "    similarities = cosine_similarity(target_vector, embedding_weights)[0]\n",
    "\n",
    "    # 유사도 높은 상위 top_n 단어 인덱스 추출\n",
    "    similar_idx = similarities.argsort()[::-1][1:top_n+1]  # 자기 자신 제외\n",
    "\n",
    "    # 결과 출력\n",
    "    print(f\"Words most similar to '{word}':\\n\")\n",
    "    for i in similar_idx:\n",
    "        similar_word = index_to_word.get(i, \"?\")\n",
    "        print(f\"{similar_word:15} (score: {similarities[i]:.4f})\")\n"
   ]
  },
  {
   "cell_type": "code",
   "execution_count": 15,
   "id": "ee1d6822",
   "metadata": {},
   "outputs": [
    {
     "name": "stdout",
     "output_type": "stream",
     "text": [
      "simple_rnn  \n",
      "Words most similar to '영화':\n",
      "\n",
      "후레쉬             (score: 0.6555)\n",
      "아닙니다            (score: 0.6548)\n",
      "2007            (score: 0.6391)\n",
      "가정              (score: 0.6374)\n",
      "동화              (score: 0.6324)\n",
      "여성              (score: 0.6244)\n",
      "쯧쯧              (score: 0.6205)\n",
      "이브              (score: 0.6140)\n",
      "리               (score: 0.6099)\n",
      "조롱              (score: 0.6051)\n",
      "========================================\n",
      "cnn  \n",
      "Words most similar to '영화':\n",
      "\n",
      "딸               (score: 0.8029)\n",
      "다스              (score: 0.7815)\n",
      "절벽              (score: 0.7804)\n",
      "파멸              (score: 0.7703)\n",
      "로버츠             (score: 0.7695)\n",
      "아이              (score: 0.7579)\n",
      "숭               (score: 0.7501)\n",
      "거장              (score: 0.7396)\n",
      "전환              (score: 0.7198)\n",
      "닼               (score: 0.7163)\n",
      "========================================\n",
      "lstm \n",
      "Words most similar to '영화':\n",
      "\n",
      "만큼              (score: 0.7208)\n",
      "사실              (score: 0.6660)\n",
      "신동엽             (score: 0.6625)\n",
      "헤드              (score: 0.6560)\n",
      "다운              (score: 0.6506)\n",
      "구나              (score: 0.6505)\n",
      "한두              (score: 0.6464)\n",
      "아리              (score: 0.6450)\n",
      "질림              (score: 0.6365)\n",
      "늦               (score: 0.6180)\n"
     ]
    }
   ],
   "source": [
    "print('simple_rnn  ')\n",
    "find_similar_words(model_rnn, word='영화', word_to_index=word_to_index, index_to_word=index_to_word, top_n=10)\n",
    "print('='*40)\n",
    "print('cnn  ')\n",
    "find_similar_words(model_cnn, word='영화', word_to_index=word_to_index, index_to_word=index_to_word, top_n=10)\n",
    "print('='*40)\n",
    "print('lstm ')\n",
    "find_similar_words(model_lstm, word='영화', word_to_index=word_to_index, index_to_word=index_to_word, top_n=10)"
   ]
  },
  {
   "cell_type": "markdown",
   "id": "872dc173",
   "metadata": {},
   "source": [
    "#  한국어 Word2Vec 임베딩을 활용하여 성능 개선\n",
    "- 한국어 Word2Vec은 /data 폴더 안에 있는 word2vec_ko.model을 활용하세요.\n",
    "- 한국어 Word2Vec을 활용할 때는 load_word2vec_format() 형태가 아닌 load() 형태로 모델을 불러와주세요. 또한 모델을 활용할 때에는 아래 예시와 같이 .wv를 붙여서 활용합니다. 좀더 자세한 활용법에 대해선 다음 링크들을 참조해주세요. 참고 링크1, 참고 링크2"
   ]
  },
  {
   "cell_type": "code",
   "execution_count": 16,
   "id": "f36e398b",
   "metadata": {
    "scrolled": false
   },
   "outputs": [
    {
     "data": {
      "text/plain": [
       "array([-0.20973422, -0.61096764, -0.9033131 ,  2.957383  ,  1.8569387 ,\n",
       "        1.2706641 , -3.7683392 , -2.802115  , -0.7573312 ,  1.0417593 ,\n",
       "       -3.6991544 , -1.2614148 , -1.5790688 , -4.00267   ,  4.5657935 ,\n",
       "       -1.1776268 , -1.9514618 , -0.68296045, -0.572553  , -1.1169969 ,\n",
       "        0.03167932,  1.6880232 , -1.0688471 ,  2.1305177 , -0.08913164,\n",
       "       -1.8747901 , -2.118389  ,  3.6970801 , -1.2416158 , -0.68125457,\n",
       "       -3.6551244 ,  3.292321  ,  3.5484762 ,  0.08252752,  2.6031404 ,\n",
       "        4.5135202 ,  1.4255892 ,  0.47073746, -3.4152977 , -0.77570534,\n",
       "        2.4108121 , -2.0590503 ,  1.2684485 ,  2.492074  ,  0.976352  ,\n",
       "        2.8478534 ,  1.4469601 ,  2.914614  ,  2.215515  , -3.5052524 ,\n",
       "       -1.0651278 , -2.7645462 ,  2.8813627 , -4.223422  , -1.2215286 ,\n",
       "       -2.6441448 ,  4.1211653 , -1.6006311 , -0.6597083 , -0.6771537 ,\n",
       "       -1.0426844 ,  3.6979783 ,  3.2398548 , -0.3411325 , -0.34871313,\n",
       "        0.76309395, -2.778278  , -0.32589075, -0.9296699 , -1.3156893 ,\n",
       "        3.6676688 ,  3.7366703 ,  0.6053023 ,  2.9141755 , -0.91685086,\n",
       "       -3.3318896 ,  0.6280998 , -0.762795  ,  0.42119217, -0.16219054,\n",
       "        2.1752923 ,  0.2922118 , -0.09336878,  1.0516592 ,  0.656826  ,\n",
       "        2.1648786 ,  2.0916865 ,  4.4174466 ,  3.5804644 ,  1.3410444 ,\n",
       "       -3.0258586 , -0.23717116, -5.461321  , -3.4999151 ,  1.5280789 ,\n",
       "       -1.3706316 , -6.0678554 ,  2.2899299 ,  3.3146143 ,  1.0607044 ],\n",
       "      dtype=float32)"
      ]
     },
     "execution_count": 16,
     "metadata": {},
     "output_type": "execute_result"
    }
   ],
   "source": [
    "from gensim.models.keyedvectors import Word2VecKeyedVectors\n",
    "from gensim.models import KeyedVectors\n",
    "model_path = '/aiffel/data/word2vec_ko.model'\n",
    "word2vec = Word2VecKeyedVectors.load(model_path)  \n",
    "vector = word2vec.wv['드라마']\n",
    "vector"
   ]
  },
  {
   "cell_type": "code",
   "execution_count": 22,
   "id": "791cff41",
   "metadata": {},
   "outputs": [],
   "source": [
    "vocab_size = 10000  # 어휘 사전의 크기입니다(10,000개의 단어)\n",
    "word_vector_dim = word2vec.vector_size # 워드 벡터의 차원수\n",
    "\n",
    "embedding_matrix = np.random.rand(vocab_size, word_vector_dim)\n",
    "\n",
    "# embedding_matrix에 Word2Vec 워드 벡터를 단어 하나씩마다 차례차례 카피한다.\n",
    "# Word2Vec 객체에서 단어 벡터 접근은 .wv\n",
    "for i in range(4, vocab_size):\n",
    "    word = index_to_word.get(i)\n",
    "    if word and word in word2vec.wv:\n",
    "        embedding_matrix[i] = word2vec.wv[word]\n"
   ]
  },
  {
   "cell_type": "code",
   "execution_count": 25,
   "id": "03e435eb",
   "metadata": {},
   "outputs": [
    {
     "name": "stdout",
     "output_type": "stream",
     "text": [
      "Model: \"sequential_5\"\n",
      "_________________________________________________________________\n",
      "Layer (type)                 Output Shape              Param #   \n",
      "=================================================================\n",
      "embedding_5 (Embedding)      (None, 47, 100)           1000000   \n",
      "_________________________________________________________________\n",
      "lstm_4 (LSTM)                (None, 512)               1255424   \n",
      "_________________________________________________________________\n",
      "dense_10 (Dense)             (None, 16)                8208      \n",
      "_________________________________________________________________\n",
      "dense_11 (Dense)             (None, 1)                 17        \n",
      "=================================================================\n",
      "Total params: 2,263,649\n",
      "Trainable params: 2,263,649\n",
      "Non-trainable params: 0\n",
      "_________________________________________________________________\n",
      "Epoch 1/20\n",
      "400/400 [==============================] - 20s 47ms/step - loss: 0.4799 - accuracy: 0.7637 - val_loss: 0.3972 - val_accuracy: 0.8206\n",
      "Epoch 2/20\n",
      "400/400 [==============================] - 19s 47ms/step - loss: 0.3499 - accuracy: 0.8462 - val_loss: 0.3504 - val_accuracy: 0.8442\n",
      "Epoch 3/20\n",
      "400/400 [==============================] - 18s 46ms/step - loss: 0.2867 - accuracy: 0.8782 - val_loss: 0.3291 - val_accuracy: 0.8575\n",
      "Epoch 4/20\n",
      "400/400 [==============================] - 18s 46ms/step - loss: 0.2366 - accuracy: 0.9026 - val_loss: 0.3410 - val_accuracy: 0.8571\n",
      "Epoch 5/20\n",
      "400/400 [==============================] - 18s 46ms/step - loss: 0.1776 - accuracy: 0.9294 - val_loss: 0.3784 - val_accuracy: 0.8545\n",
      "Epoch 6/20\n",
      "400/400 [==============================] - 18s 46ms/step - loss: 0.1247 - accuracy: 0.9516 - val_loss: 0.4527 - val_accuracy: 0.8504\n",
      "Epoch 7/20\n",
      "400/400 [==============================] - 18s 46ms/step - loss: 0.0844 - accuracy: 0.9671 - val_loss: 0.5406 - val_accuracy: 0.8502\n",
      "Epoch 8/20\n",
      "400/400 [==============================] - 18s 46ms/step - loss: 0.0609 - accuracy: 0.9765 - val_loss: 0.5947 - val_accuracy: 0.8474\n",
      "Epoch 9/20\n",
      "400/400 [==============================] - 18s 46ms/step - loss: 0.0450 - accuracy: 0.9827 - val_loss: 0.6779 - val_accuracy: 0.8488\n",
      "Epoch 10/20\n",
      "400/400 [==============================] - 18s 46ms/step - loss: 0.0387 - accuracy: 0.9849 - val_loss: 0.7128 - val_accuracy: 0.8468\n",
      "Epoch 11/20\n",
      "400/400 [==============================] - 18s 46ms/step - loss: 0.0314 - accuracy: 0.9879 - val_loss: 0.7778 - val_accuracy: 0.8460\n",
      "Epoch 12/20\n",
      "400/400 [==============================] - 18s 46ms/step - loss: 0.0296 - accuracy: 0.9887 - val_loss: 0.8549 - val_accuracy: 0.8393\n",
      "Epoch 13/20\n",
      "400/400 [==============================] - 18s 46ms/step - loss: 0.0254 - accuracy: 0.9902 - val_loss: 0.8681 - val_accuracy: 0.8493\n",
      "Epoch 00013: early stopping\n"
     ]
    }
   ],
   "source": [
    "from tensorflow.keras.initializers import Constant\n",
    "import keras\n",
    "\n",
    "vocab_size = 10000   # 어휘 사전의 크기입니다(10,000개의 단어)\n",
    "word_vector_dim = word2vec.vector_size # 워드 벡터의 차원수\n",
    "\n",
    "# 모델 구성\n",
    "model_word2vec = keras.Sequential()\n",
    "model_word2vec.add(keras.layers.Embedding(vocab_size, \n",
    "                                 word_vector_dim, \n",
    "                                 embeddings_initializer=Constant(embedding_matrix),  # 카피한 임베딩을 여기서 활용\n",
    "                                 input_length=maxlen, \n",
    "                                 trainable=True))   # trainable을 True로 주면 Fine-tuning\n",
    "model_word2vec.add(keras.layers.LSTM(512))   # 가장 널리 쓰이는 RNN인 LSTM 레이어를 사용하였습니다. 이때 LSTM state 벡터의 차원수는 8로 하였습니다. (변경 가능)\n",
    "model_word2vec.add(keras.layers.Dense(16, activation='relu'))\n",
    "model_word2vec.add(keras.layers.Dense(1, activation='sigmoid'))  # 최종 출력은 긍정/부정을 나타내는 1dim 입니다.\n",
    "\n",
    "\n",
    "model_word2vec.summary()\n",
    "\n",
    "#과적합 방지를 위한 early stopping\n",
    "from keras.callbacks import EarlyStopping\n",
    "es=EarlyStopping(monitor='val_loss',mode='min',verbose=1,patience=10)\n",
    "# 학습의 진행\n",
    "model_word2vec.compile(optimizer='adam',\n",
    "              loss='binary_crossentropy',\n",
    "              metrics=['accuracy'])\n",
    "history = model_word2vec.fit(partial_x_train,\n",
    "                    partial_y_train,\n",
    "                    epochs=20,\n",
    "                    batch_size=256,callbacks=[es],\n",
    "                    validation_data=(x_val, y_val),\n",
    "                    verbose=1)\n"
   ]
  },
  {
   "cell_type": "markdown",
   "id": "80d43d32",
   "metadata": {},
   "source": [
    "### word2vec 적용 Accuracy : 0.8530\n",
    "- simple rnn accuracy: 0.7955\n",
    "- cnn accuracy: 0.8290\n",
    "- lstm accuracy: 0.8329"
   ]
  },
  {
   "cell_type": "code",
   "execution_count": 26,
   "id": "be1a69ee",
   "metadata": {},
   "outputs": [
    {
     "name": "stdout",
     "output_type": "stream",
     "text": [
      "1537/1537 - 5s - loss: 0.9005 - accuracy: 0.8447\n",
      "test_result :  [0.900540292263031, 0.8447220325469971]\n"
     ]
    }
   ],
   "source": [
    "# 테스트셋을 통한 모델 평가 # 85% 이상\n",
    "results = model_word2vec.evaluate(X_test, y_test, verbose=2)\n",
    "\n",
    "print('test_result : ', results)"
   ]
  },
  {
   "cell_type": "code",
   "execution_count": 20,
   "id": "ce1a69ef",
   "metadata": {},
   "outputs": [
    {
     "name": "stdout",
     "output_type": "stream",
     "text": [
      "dict_keys(['loss', 'accuracy', 'val_loss', 'val_accuracy'])\n"
     ]
    }
   ],
   "source": [
    "history_dict = history.history\n",
    "print(history_dict.keys())"
   ]
  },
  {
   "cell_type": "code",
   "execution_count": 21,
   "id": "4fa81012",
   "metadata": {},
   "outputs": [
    {
     "data": {
      "image/png": "[encoded data removed]",
      "text/plain": [
       "<Figure size 864x360 with 2 Axes>"
      ]
     },
     "metadata": {
      "needs_background": "light"
     },
     "output_type": "display_data"
    }
   ],
   "source": [
    "# 먼저 history 객체로부터 정확도/손실 기록 불러오기\n",
    "acc = history.history['accuracy']\n",
    "val_acc = history.history['val_accuracy']\n",
    "loss = history.history['loss']\n",
    "val_loss = history.history['val_loss']\n",
    "\n",
    "# 에포크 수에 맞게 x축 범위 생성\n",
    "epochs = range(1, len(acc) + 1)\n",
    "\n",
    "# 시각화\n",
    "plt.figure(figsize=(12, 5))\n",
    "\n",
    "# 🔹 1. 정확도 그래프\n",
    "plt.subplot(1, 2, 1)\n",
    "plt.plot(epochs, acc, 'bo', label='Training acc')\n",
    "plt.plot(epochs, val_acc, 'b', label='Validation acc')\n",
    "plt.title('Word2vec Training and Validation Accuracy')\n",
    "plt.xlabel('Epochs')\n",
    "plt.ylabel('Accuracy')\n",
    "plt.legend()\n",
    "\n",
    "# 🔹 2. 손실 그래프\n",
    "plt.subplot(1, 2, 2)\n",
    "plt.plot(epochs, loss, 'ro', label='Training loss')\n",
    "plt.plot(epochs, val_loss, 'r', label='Validation loss')\n",
    "plt.title('Word2vec Training and Validation Loss')\n",
    "plt.xlabel('Epochs')\n",
    "plt.ylabel('Loss')\n",
    "plt.legend()\n",
    "\n",
    "plt.tight_layout()\n",
    "plt.show()\n"
   ]
  },
  {
   "cell_type": "code",
   "execution_count": null,
   "id": "4da4db37",
   "metadata": {},
   "outputs": [],
   "source": []
  }
 ],
 "metadata": {
  "kernelspec": {
   "display_name": "Python 3 (ipykernel)",
   "language": "python",
   "name": "python3"
  },
  "language_info": {
   "codemirror_mode": {
    "name": "ipython",
    "version": 3
   },
   "file_extension": ".py",
   "mimetype": "text/x-python",
   "name": "python",
   "nbconvert_exporter": "python",
   "pygments_lexer": "ipython3",
   "version": "3.9.7"
  }
 },
 "nbformat": 4,
 "nbformat_minor": 5
}
