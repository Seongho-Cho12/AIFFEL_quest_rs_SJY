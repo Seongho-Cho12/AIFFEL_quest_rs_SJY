{
  "nbformat": 4,
  "nbformat_minor": 0,
  "metadata": {
    "colab": {
      "provenance": [],
      "machine_shape": "hm",
      "gpuType": "A100"
    },
    "kernelspec": {
      "name": "python3",
      "display_name": "Python 3"
    },
    "language_info": {
      "name": "python"
    },
    "accelerator": "GPU"
  },
  "cells": [
    {
      "cell_type": "code",
      "execution_count": 10,
      "metadata": {
        "colab": {
          "base_uri": "https://localhost:8080/"
        },
        "id": "CZDkRPemWBtK",
        "outputId": "7da3ee0f-e988-4a96-fe7b-d3ccf8c30c6c"
      },
      "outputs": [
        {
          "output_type": "stream",
          "name": "stdout",
          "text": [
            "2.18.0\n",
            "2.0.2\n",
            "0.6.0\n"
          ]
        }
      ],
      "source": [
        "import tensorflow as tf\n",
        "import numpy as np\n",
        "import matplotlib.pyplot as plt\n",
        "import konlpy\n",
        "\n",
        "print(tf.__version__)\n",
        "print(np.__version__)\n",
        "# print(plt.__version__)\n",
        "print(konlpy.__version__)"
      ]
    },
    {
      "cell_type": "code",
      "source": [
        "!pip install sentencepiece"
      ],
      "metadata": {
        "colab": {
          "base_uri": "https://localhost:8080/"
        },
        "id": "OOe4EmkhWHHM",
        "outputId": "f6d45963-57d3-4e6b-e1bb-57aeaccbe676"
      },
      "execution_count": 2,
      "outputs": [
        {
          "output_type": "stream",
          "name": "stdout",
          "text": [
            "Requirement already satisfied: sentencepiece in /usr/local/lib/python3.11/dist-packages (0.2.0)\n"
          ]
        }
      ]
    },
    {
      "cell_type": "code",
      "source": [
        "!pip install konlpy"
      ],
      "metadata": {
        "colab": {
          "base_uri": "https://localhost:8080/"
        },
        "id": "hoDYG0T8WI3t",
        "outputId": "ae8e29ba-3270-4d8d-a7ef-6a68d3e82061"
      },
      "execution_count": 3,
      "outputs": [
        {
          "output_type": "stream",
          "name": "stdout",
          "text": [
            "Requirement already satisfied: konlpy in /usr/local/lib/python3.11/dist-packages (0.6.0)\n",
            "Requirement already satisfied: JPype1>=0.7.0 in /usr/local/lib/python3.11/dist-packages (from konlpy) (1.5.2)\n",
            "Requirement already satisfied: lxml>=4.1.0 in /usr/local/lib/python3.11/dist-packages (from konlpy) (5.4.0)\n",
            "Requirement already satisfied: numpy>=1.6 in /usr/local/lib/python3.11/dist-packages (from konlpy) (2.0.2)\n",
            "Requirement already satisfied: packaging in /usr/local/lib/python3.11/dist-packages (from JPype1>=0.7.0->konlpy) (24.2)\n"
          ]
        }
      ]
    },
    {
      "cell_type": "code",
      "source": [
        "!pip install sentencepiece"
      ],
      "metadata": {
        "colab": {
          "base_uri": "https://localhost:8080/"
        },
        "id": "FgEc1ScSXEKF",
        "outputId": "e4cff51a-1369-47fd-a215-6964278f0e20"
      },
      "execution_count": 4,
      "outputs": [
        {
          "output_type": "stream",
          "name": "stdout",
          "text": [
            "Requirement already satisfied: sentencepiece in /usr/local/lib/python3.11/dist-packages (0.2.0)\n"
          ]
        }
      ]
    },
    {
      "cell_type": "code",
      "source": [],
      "metadata": {
        "id": "Pxv88U_yWRd6"
      },
      "execution_count": 4,
      "outputs": []
    },
    {
      "cell_type": "markdown",
      "source": [
        "# 네이버 영화리뷰 감정 분석 데이터 준비"
      ],
      "metadata": {
        "id": "Oxeuh6CAWYwU"
      }
    },
    {
      "cell_type": "code",
      "source": [
        "import pandas as pd\n",
        "train_url = 'https://raw.githubusercontent.com/e9t/nsmc/master/ratings_train.txt'\n",
        "test_url = 'https://raw.githubusercontent.com/e9t/nsmc/master/ratings_test.txt'\n",
        "train_data = pd.read_table(train_url)\n",
        "test_data = pd.read_table(test_url)\n",
        "\n",
        "# 확인\n",
        "print(train_data.head())\n",
        "print(test_data.head())"
      ],
      "metadata": {
        "colab": {
          "base_uri": "https://localhost:8080/"
        },
        "id": "VomQ1LNuWbfy",
        "outputId": "722ced4d-8f9f-4ee0-d19c-8ceba14cb3d1"
      },
      "execution_count": 3,
      "outputs": [
        {
          "output_type": "stream",
          "name": "stdout",
          "text": [
            "         id                                           document  label\n",
            "0   9976970                                아 더빙.. 진짜 짜증나네요 목소리      0\n",
            "1   3819312                  흠...포스터보고 초딩영화줄....오버연기조차 가볍지 않구나      1\n",
            "2  10265843                                  너무재밓었다그래서보는것을추천한다      0\n",
            "3   9045019                      교도소 이야기구먼 ..솔직히 재미는 없다..평점 조정      0\n",
            "4   6483659  사이몬페그의 익살스런 연기가 돋보였던 영화!스파이더맨에서 늙어보이기만 했던 커스틴 ...      1\n",
            "        id                                           document  label\n",
            "0  6270596                                                굳 ㅋ      1\n",
            "1  9274899                               GDNTOPCLASSINTHECLUB      0\n",
            "2  8544678             뭐야 이 평점들은.... 나쁘진 않지만 10점 짜리는 더더욱 아니잖아      0\n",
            "3  6825595                   지루하지는 않은데 완전 막장임... 돈주고 보기에는....      0\n",
            "4  6723715  3D만 아니었어도 별 다섯 개 줬을텐데.. 왜 3D로 나와서 제 심기를 불편하게 하죠??      0\n"
          ]
        }
      ]
    },
    {
      "cell_type": "markdown",
      "source": [
        "\n",
        "# 데이터 전처리\n",
        "\n"
      ],
      "metadata": {
        "id": "tmIr6ExvdlMN"
      }
    },
    {
      "cell_type": "code",
      "source": [
        "import re\n",
        "\n",
        "import re\n",
        "# from hanspell import spell_checker\n",
        "\n",
        "def clean_korean_text(text):\n",
        "    if not isinstance(text, str):\n",
        "        return \"\"\n",
        "\n",
        "    # # 맞춤법 교정\n",
        "    # try:\n",
        "    #     text = spell_checker.check(text).checked\n",
        "    # except:\n",
        "    #     pass  # 너무 많거나 서버 에러 시 생략\n",
        "\n",
        "    # 1. 특수기호도 유지하고 싶을 경우 (예: ! ? . ,)\n",
        "    text = re.sub(r\"[^ㄱ-ㅎㅏ-ㅣ가-힣0-9a-zA-Zㅜㅠㅋㅎ\\s.,!?]\", \"\", text)\n",
        "\n",
        "\n",
        "    # 2. 부정 강조 기호 정리\n",
        "    text = re.sub(r\"[-ㅡ]{2,}\", \"ㅡ\", text)\n",
        "\n",
        "    # 3. ㅋㅋ, ㅎㅎ, ㅠㅠ 등 축약\n",
        "    text = re.sub(r\"[ㅋㅎㅜㅠ]{2,}\", lambda m: m.group(0)[0], text)\n",
        "\n",
        "    # 4. 반복 문자 제거 (예: 아아아아 → 아)\n",
        "    text = re.sub(r\"(.)\\1{2,}\", r\"\\1\", text)\n",
        "\n",
        "    # # 5. 의미 없는 자음 반복 제거 (ㅇㅇ, ㄱㄱ, ㄴㄴ 등)\n",
        "    # text = re.sub(r\"\\b[ㄱ-ㅎ]{2,}\\b\", \"\", text)\n",
        "\n",
        "    # 6. 공백 정리\n",
        "    text = re.sub(r\"\\s+\", \" \", text).strip()\n",
        "\n",
        "    return text\n",
        "\n",
        "train_data['document'] = train_data['document'].apply(clean_korean_text)"
      ],
      "metadata": {
        "id": "wjOsrG9tdlMQ"
      },
      "execution_count": 4,
      "outputs": []
    },
    {
      "cell_type": "code",
      "source": [
        "train_data['document'].sample(5)"
      ],
      "metadata": {
        "colab": {
          "base_uri": "https://localhost:8080/",
          "height": 241
        },
        "outputId": "ffd066da-c104-42ba-c6c7-ba45952e35c7",
        "id": "MBavq36xdlMR"
      },
      "execution_count": 7,
      "outputs": [
        {
          "output_type": "execute_result",
          "data": {
            "text/plain": [
              "26163     왜 경북지역엔 항상 나혼자산다를 다운받아봐야하나요 대구mbc에서 맨날 딴것만 보여주...\n",
              "43412                                       다음편이기대되네요 빨리나와라\n",
              "15835                                             피비빼고 다 최악\n",
              "116401                            몇번을 봤지만 한장면 빼고는 기억이 나지않는.\n",
              "40416     내용부족으로 중강 중간 이가 빠진 듯한 스토리 전개에 지루하고, 이야기 하고자하는 ...\n",
              "Name: document, dtype: object"
            ],
            "text/html": [
              "<div>\n",
              "<style scoped>\n",
              "    .dataframe tbody tr th:only-of-type {\n",
              "        vertical-align: middle;\n",
              "    }\n",
              "\n",
              "    .dataframe tbody tr th {\n",
              "        vertical-align: top;\n",
              "    }\n",
              "\n",
              "    .dataframe thead th {\n",
              "        text-align: right;\n",
              "    }\n",
              "</style>\n",
              "<table border=\"1\" class=\"dataframe\">\n",
              "  <thead>\n",
              "    <tr style=\"text-align: right;\">\n",
              "      <th></th>\n",
              "      <th>document</th>\n",
              "    </tr>\n",
              "  </thead>\n",
              "  <tbody>\n",
              "    <tr>\n",
              "      <th>26163</th>\n",
              "      <td>왜 경북지역엔 항상 나혼자산다를 다운받아봐야하나요 대구mbc에서 맨날 딴것만 보여주...</td>\n",
              "    </tr>\n",
              "    <tr>\n",
              "      <th>43412</th>\n",
              "      <td>다음편이기대되네요 빨리나와라</td>\n",
              "    </tr>\n",
              "    <tr>\n",
              "      <th>15835</th>\n",
              "      <td>피비빼고 다 최악</td>\n",
              "    </tr>\n",
              "    <tr>\n",
              "      <th>116401</th>\n",
              "      <td>몇번을 봤지만 한장면 빼고는 기억이 나지않는.</td>\n",
              "    </tr>\n",
              "    <tr>\n",
              "      <th>40416</th>\n",
              "      <td>내용부족으로 중강 중간 이가 빠진 듯한 스토리 전개에 지루하고, 이야기 하고자하는 ...</td>\n",
              "    </tr>\n",
              "  </tbody>\n",
              "</table>\n",
              "</div><br><label><b>dtype:</b> object</label>"
            ]
          },
          "metadata": {},
          "execution_count": 7
        }
      ]
    },
    {
      "cell_type": "code",
      "source": [
        "import matplotlib.pyplot as plt\n",
        "\n",
        "# 문장 길이 리스트 생성\n",
        "document_lengths = train_data['document'].dropna().apply(lambda x: len(str(x))).tolist()\n",
        "\n",
        "# 기본 통계 출력\n",
        "print(f\"문장 개수: {len(document_lengths)}\")\n",
        "print(f\"최단 길이: {min(document_lengths)}\")\n",
        "print(f\"최장 길이: {max(document_lengths)}\")\n",
        "print(f\"평균 길이: {sum(document_lengths) // len(document_lengths)}\")\n",
        "\n",
        "# 히스토그램 시각화\n",
        "plt.figure(figsize=(10, 6))\n",
        "plt.hist(document_lengths, bins=50, color='skyblue', edgecolor='black')\n",
        "plt.title(\"Train Data 문장 길이 분포\")\n",
        "plt.xlabel(\"문장 길이 (글자 수)\")\n",
        "plt.ylabel(\"문장 수\")\n",
        "plt.grid(True)\n",
        "plt.show()\n"
      ],
      "metadata": {
        "colab": {
          "base_uri": "https://localhost:8080/",
          "height": 898
        },
        "outputId": "c5906cf6-0a05-40d7-904d-f889eb893dd3",
        "id": "1_Na68-HdlMR"
      },
      "execution_count": 5,
      "outputs": [
        {
          "output_type": "stream",
          "name": "stdout",
          "text": [
            "문장 개수: 150000\n",
            "최단 길이: 0\n",
            "최장 길이: 140\n",
            "평균 길이: 33\n"
          ]
        },
        {
          "output_type": "stream",
          "name": "stderr",
          "text": [
            "/usr/local/lib/python3.11/dist-packages/IPython/core/pylabtools.py:151: UserWarning: Glyph 47928 (\\N{HANGUL SYLLABLE MUN}) missing from font(s) DejaVu Sans.\n",
            "  fig.canvas.print_figure(bytes_io, **kw)\n",
            "/usr/local/lib/python3.11/dist-packages/IPython/core/pylabtools.py:151: UserWarning: Glyph 51109 (\\N{HANGUL SYLLABLE JANG}) missing from font(s) DejaVu Sans.\n",
            "  fig.canvas.print_figure(bytes_io, **kw)\n",
            "/usr/local/lib/python3.11/dist-packages/IPython/core/pylabtools.py:151: UserWarning: Glyph 49688 (\\N{HANGUL SYLLABLE SU}) missing from font(s) DejaVu Sans.\n",
            "  fig.canvas.print_figure(bytes_io, **kw)\n",
            "/usr/local/lib/python3.11/dist-packages/IPython/core/pylabtools.py:151: UserWarning: Glyph 44600 (\\N{HANGUL SYLLABLE GIL}) missing from font(s) DejaVu Sans.\n",
            "  fig.canvas.print_figure(bytes_io, **kw)\n",
            "/usr/local/lib/python3.11/dist-packages/IPython/core/pylabtools.py:151: UserWarning: Glyph 51060 (\\N{HANGUL SYLLABLE I}) missing from font(s) DejaVu Sans.\n",
            "  fig.canvas.print_figure(bytes_io, **kw)\n",
            "/usr/local/lib/python3.11/dist-packages/IPython/core/pylabtools.py:151: UserWarning: Glyph 48516 (\\N{HANGUL SYLLABLE BUN}) missing from font(s) DejaVu Sans.\n",
            "  fig.canvas.print_figure(bytes_io, **kw)\n",
            "/usr/local/lib/python3.11/dist-packages/IPython/core/pylabtools.py:151: UserWarning: Glyph 54252 (\\N{HANGUL SYLLABLE PO}) missing from font(s) DejaVu Sans.\n",
            "  fig.canvas.print_figure(bytes_io, **kw)\n",
            "/usr/local/lib/python3.11/dist-packages/IPython/core/pylabtools.py:151: UserWarning: Glyph 44544 (\\N{HANGUL SYLLABLE GEUL}) missing from font(s) DejaVu Sans.\n",
            "  fig.canvas.print_figure(bytes_io, **kw)\n",
            "/usr/local/lib/python3.11/dist-packages/IPython/core/pylabtools.py:151: UserWarning: Glyph 51088 (\\N{HANGUL SYLLABLE JA}) missing from font(s) DejaVu Sans.\n",
            "  fig.canvas.print_figure(bytes_io, **kw)\n"
          ]
        },
        {
          "output_type": "display_data",
          "data": {
            "text/plain": [
              "<Figure size 1000x600 with 1 Axes>"
            ],
            "image/png": "[encoded data removed]"
          },
          "metadata": {}
        }
      ]
    },
    {
      "cell_type": "code",
      "source": [
        "# 결측값 제거\n",
        "train_data = train_data.dropna(subset=['document'])\n",
        "\n",
        "# 문자열로 변환 및 앞뒤 공백 제거\n",
        "train_data['document'] = train_data['document'].astype(str).str.strip()\n",
        "\n",
        "# 길이 기준 필터링 (5글자 이상만)\n",
        "train_data = train_data[train_data['document'].apply(lambda x: len(x) >= 5)]\n",
        "\n",
        "# 중복 제거\n",
        "train_data = train_data.drop_duplicates(subset=['document'])\n",
        "\n",
        "# 인덱스 리셋\n",
        "train_data = train_data.reset_index(drop=True)\n",
        "\n",
        "print(f\"✅ 전처리 후 문장 수: {len(train_data)}\")\n"
      ],
      "metadata": {
        "colab": {
          "base_uri": "https://localhost:8080/"
        },
        "outputId": "d10c7ac2-de6e-489a-9a85-ca08f52b648d",
        "id": "FaaZu-xWdlMR"
      },
      "execution_count": 6,
      "outputs": [
        {
          "output_type": "stream",
          "name": "stdout",
          "text": [
            "✅ 전처리 후 문장 수: 142861\n"
          ]
        }
      ]
    },
    {
      "cell_type": "code",
      "source": [
        "train_data['document'].sample(5)"
      ],
      "metadata": {
        "colab": {
          "base_uri": "https://localhost:8080/",
          "height": 241
        },
        "id": "DsHWa35UeDEj",
        "outputId": "82fe0db3-f8a9-4df2-f160-a395620ebb63"
      },
      "execution_count": 7,
      "outputs": [
        {
          "output_type": "execute_result",
          "data": {
            "text/plain": [
              "73968                  영화를 보는내내 긴장을 놓을 수가 없었던.엄청나다.\n",
              "33848                               좋아요좋아요좋아요좋아요좋아요\n",
              "49410              소설 보고 기대했는데 긴장감도 없고 캐릭터를 너무 바꿔놨음\n",
              "140788    1점 더 줘서 아까웠지만 찍은 스텝들과 많은 사람을위해 1점 더 선사한다.\n",
              "97377                              진짜진짜 최고라네!! 찬양하세\n",
              "Name: document, dtype: object"
            ],
            "text/html": [
              "<div>\n",
              "<style scoped>\n",
              "    .dataframe tbody tr th:only-of-type {\n",
              "        vertical-align: middle;\n",
              "    }\n",
              "\n",
              "    .dataframe tbody tr th {\n",
              "        vertical-align: top;\n",
              "    }\n",
              "\n",
              "    .dataframe thead th {\n",
              "        text-align: right;\n",
              "    }\n",
              "</style>\n",
              "<table border=\"1\" class=\"dataframe\">\n",
              "  <thead>\n",
              "    <tr style=\"text-align: right;\">\n",
              "      <th></th>\n",
              "      <th>document</th>\n",
              "    </tr>\n",
              "  </thead>\n",
              "  <tbody>\n",
              "    <tr>\n",
              "      <th>73968</th>\n",
              "      <td>영화를 보는내내 긴장을 놓을 수가 없었던.엄청나다.</td>\n",
              "    </tr>\n",
              "    <tr>\n",
              "      <th>33848</th>\n",
              "      <td>좋아요좋아요좋아요좋아요좋아요</td>\n",
              "    </tr>\n",
              "    <tr>\n",
              "      <th>49410</th>\n",
              "      <td>소설 보고 기대했는데 긴장감도 없고 캐릭터를 너무 바꿔놨음</td>\n",
              "    </tr>\n",
              "    <tr>\n",
              "      <th>140788</th>\n",
              "      <td>1점 더 줘서 아까웠지만 찍은 스텝들과 많은 사람을위해 1점 더 선사한다.</td>\n",
              "    </tr>\n",
              "    <tr>\n",
              "      <th>97377</th>\n",
              "      <td>진짜진짜 최고라네!! 찬양하세</td>\n",
              "    </tr>\n",
              "  </tbody>\n",
              "</table>\n",
              "</div><br><label><b>dtype:</b> object</label>"
            ]
          },
          "metadata": {},
          "execution_count": 7
        }
      ]
    },
    {
      "cell_type": "markdown",
      "source": [
        "## filtered_corpus ,텍스트만 추출, 공백 제거, 베어있는 문장 제거"
      ],
      "metadata": {
        "id": "tFDQPBx8eDar"
      }
    },
    {
      "cell_type": "code",
      "source": [
        "# 텍스트만 추출\n",
        "train_corpus = [\n",
        "    str(s).strip()\n",
        "    for s in train_data['document']\n",
        "    if isinstance(s, str) and str(s).strip()\n",
        "]\n",
        "\n",
        "test_corpus = [\n",
        "    str(s).strip()\n",
        "    for s in test_data['document']\n",
        "    if isinstance(s, str) and str(s).strip()\n",
        "]\n",
        "\n",
        "# 중복 제거된 학습 코퍼스\n",
        "filtered_corpus = list(set(train_corpus))\n",
        "\n",
        "print(\"✔️ 중복 제거 전 문장 수:\", len(train_corpus))\n",
        "print(\"✔️ 중복 제거 후 문장 수:\", len(filtered_corpus))\n"
      ],
      "metadata": {
        "colab": {
          "base_uri": "https://localhost:8080/"
        },
        "outputId": "11b92ba3-fcbc-4984-9ad5-f036206a9549",
        "id": "4lFGfOykeDar"
      },
      "execution_count": 8,
      "outputs": [
        {
          "output_type": "stream",
          "name": "stdout",
          "text": [
            "✔️ 중복 제거 전 문장 수: 142861\n",
            "✔️ 중복 제거 후 문장 수: 142861\n"
          ]
        }
      ]
    },
    {
      "cell_type": "code",
      "source": [
        "# 문장 길이 분석\n",
        "#데이터의 중복 제거\n",
        "min_len = 999\n",
        "max_len = 0\n",
        "sum_len = 0\n",
        "\n",
        "\n",
        "for sen in filtered_corpus:\n",
        "    length = len(sen)\n",
        "    if min_len > length: min_len = length\n",
        "    if max_len < length: max_len = length\n",
        "    sum_len += length\n",
        "\n",
        "print(\"문장의 최단 길이:\", min_len)\n",
        "print(\"문장의 최장 길이:\", max_len)\n",
        "print(\"문장의 평균 길이:\", sum_len // len(filtered_corpus))\n",
        "\n",
        "sentence_length = np.zeros((max_len), dtype=int)\n",
        "\n",
        "for sen in filtered_corpus:   # 중복이 제거된 코퍼스 기준\n",
        "    sentence_length[len(sen)-1] += 1\n",
        "\n",
        "plt.bar(range(max_len), sentence_length, width=1.0)\n",
        "plt.title(\"Sentence Length Distribution\")\n",
        "plt.show()"
      ],
      "metadata": {
        "colab": {
          "base_uri": "https://localhost:8080/",
          "height": 507
        },
        "outputId": "08dec267-75b1-4d33-8e81-7f3249426ffd",
        "id": "UrJoUaHheDar"
      },
      "execution_count": 11,
      "outputs": [
        {
          "output_type": "stream",
          "name": "stdout",
          "text": [
            "문장의 최단 길이: 5\n",
            "문장의 최장 길이: 140\n",
            "문장의 평균 길이: 35\n"
          ]
        },
        {
          "output_type": "display_data",
          "data": {
            "text/plain": [
              "<Figure size 640x480 with 1 Axes>"
            ],
            "image/png": "[encoded data removed]"
          },
          "metadata": {}
        }
      ]
    },
    {
      "cell_type": "markdown",
      "source": [
        "max_len = 60"
      ],
      "metadata": {
        "id": "i4qkAXALyKRu"
      }
    },
    {
      "cell_type": "code",
      "source": [
        "max_len = 60"
      ],
      "metadata": {
        "id": "bp93tIYBgGi6"
      },
      "execution_count": 12,
      "outputs": []
    },
    {
      "cell_type": "code",
      "source": [
        "# 문장 길이 5 이상만 사용\n",
        "filtered_corpus = [s for s in filtered_corpus if len(s) >= 5]"
      ],
      "metadata": {
        "id": "C1TUlW6LeDar"
      },
      "execution_count": 14,
      "outputs": []
    },
    {
      "cell_type": "code",
      "source": [
        "import os\n",
        "def write_temp_file(corpus, save_path):\n",
        "    with open(save_path, 'w') as f:\n",
        "        for line in corpus:\n",
        "            if line.strip():\n",
        "                f.write(line.strip() + '\\n')\n",
        "\n",
        "temp_file = os.path.expanduser('sp_corpus.txt')\n",
        "write_temp_file(filtered_corpus, temp_file)"
      ],
      "metadata": {
        "id": "Yoap8EBseDar"
      },
      "execution_count": 15,
      "outputs": []
    },
    {
      "cell_type": "code",
      "source": [
        "#SentencePice 모델 활용\n",
        "import sentencepiece as spm\n",
        "\n",
        "s = spm.SentencePieceProcessor()\n",
        "s.Load('./spm_models/spm_unigram_8000.model')\n",
        "\n",
        "#SentencePiece를 활용한 sentence -> encoding\n",
        "tokensIDs = s.EncodeAsIds('흠...포스터보고 초딩영화줄....오버연기조차 가볍지 않구나')\n",
        "print(tokensIDs)\n",
        "\n",
        "#SentencePIece를 활용한 sentence -> encoded pieces\n",
        "print(s.SampleEncodeAsPieces('흠...포스터보고 초딩영화줄....오버연기조차 가볍지 않구나', nbest_size=-1, alpha=0.1))\n",
        "\n",
        "#SentencePiece를 활용한 encoding -> sentence 복원\n",
        "print(s.DecodeIds(tokensIDs))"
      ],
      "metadata": {
        "colab": {
          "base_uri": "https://localhost:8080/"
        },
        "outputId": "ad988367-1669-4766-83ef-849323add5e8",
        "id": "fWmx2LtxeDas"
      },
      "execution_count": 16,
      "outputs": [
        {
          "output_type": "stream",
          "name": "stdout",
          "text": [
            "[1830, 8, 4, 4950, 161, 1420, 31, 227, 8, 8, 174, 417, 353, 1334, 6407, 732, 406]\n",
            "['▁흠', '.', '..', '포스터', '보고', '▁초', '딩', '영', '화', '줄', '..', '..', '오', '버', '연기', '조차', '▁가볍지', '▁않', '구나']\n",
            "흠...포스터보고 초딩영화줄....오버연기조차 가볍지 않구나\n"
          ]
        }
      ]
    },
    {
      "cell_type": "code",
      "source": [
        "def save_corpus_to_file(corpus, save_path):\n",
        "    with open(save_path, 'w', encoding='utf-8') as f:\n",
        "        for line in corpus:\n",
        "            if isinstance(line, str) and line.strip():\n",
        "                f.write(line.strip() + '\\n')\n",
        "filtered_corpus_path = 'filtered_corpus.txt'\n",
        "save_corpus_to_file(filtered_corpus, filtered_corpus_path)"
      ],
      "metadata": {
        "id": "vHkgD38Sk_8U"
      },
      "execution_count": 17,
      "outputs": []
    },
    {
      "cell_type": "code",
      "source": [
        "import sentencepiece as spm\n",
        "import os\n",
        "\n",
        "def train_sentencepiece_models(corpus_path, save_dir, vocab_sizes=[8000, 10000], model_types=['unigram', 'bpe']):\n",
        "    os.makedirs(save_dir, exist_ok=True)\n",
        "\n",
        "    for vocab_size in vocab_sizes:\n",
        "        for model_type in model_types:\n",
        "            model_prefix = f\"{save_dir}/spm_{model_type}_{vocab_size}\"\n",
        "            print(f\"🚀 Training: {model_prefix}\")\n",
        "\n",
        "            spm.SentencePieceTrainer.Train(\n",
        "                input=corpus_path,\n",
        "                model_prefix=model_prefix,\n",
        "                vocab_size=vocab_size,\n",
        "                model_type=model_type,\n",
        "                character_coverage=1.0,  # 한글 필수\n",
        "                pad_id=0,\n",
        "                unk_id=1,\n",
        "                bos_id=2,\n",
        "                eos_id=3,\n",
        "                user_defined_symbols=[]  # 필요 시 커스터마이징\n",
        "            )\n",
        "\n",
        "    print(\"✅ 모든 SentencePiece 모델 학습 완료.\")\n"
      ],
      "metadata": {
        "id": "7eAXTjYokBke"
      },
      "execution_count": 18,
      "outputs": []
    },
    {
      "cell_type": "code",
      "source": [
        "# 2. 학습 실행\n",
        "train_sentencepiece_models(\n",
        "    corpus_path='./filtered_corpus.txt',\n",
        "    save_dir='./spm_models',\n",
        "    vocab_sizes=[10000, 16000],\n",
        "    model_types=['unigram', 'bpe']\n",
        ")"
      ],
      "metadata": {
        "colab": {
          "base_uri": "https://localhost:8080/"
        },
        "id": "AHS2Q8RvkyaZ",
        "outputId": "b0f2fd4a-108b-4012-f611-2c69b4abc851"
      },
      "execution_count": 19,
      "outputs": [
        {
          "output_type": "stream",
          "name": "stdout",
          "text": [
            "🚀 Training: ./spm_models/spm_unigram_10000\n",
            "🚀 Training: ./spm_models/spm_bpe_10000\n",
            "🚀 Training: ./spm_models/spm_unigram_16000\n",
            "🚀 Training: ./spm_models/spm_bpe_16000\n",
            "✅ 모든 SentencePiece 모델 학습 완료.\n"
          ]
        }
      ]
    },
    {
      "cell_type": "code",
      "source": [
        "import sentencepiece as spm\n",
        "\n",
        "model_path = './spm_models/spm_unigram_10000.model'  # 예시 경로\n",
        "sp = spm.SentencePieceProcessor()\n",
        "loaded = sp.load(model_path)\n",
        "\n",
        "print(\"모델 로드 성공 여부:\", loaded)  # True가 출력되어야 함\n"
      ],
      "metadata": {
        "colab": {
          "base_uri": "https://localhost:8080/"
        },
        "id": "SfHztcUal3Iv",
        "outputId": "d969a61c-69fb-4fc9-fa2d-8619a1c710b6"
      },
      "execution_count": 20,
      "outputs": [
        {
          "output_type": "stream",
          "name": "stdout",
          "text": [
            "모델 로드 성공 여부: True\n"
          ]
        }
      ]
    },
    {
      "cell_type": "code",
      "source": [
        "print(\"✅ Vocab size:\", sp.get_piece_size())\n",
        "\n",
        "# 상위 토큰 10개 출력\n",
        "for i in range(10):\n",
        "    print(f\"{i}: {sp.id_to_piece(i)}\")\n"
      ],
      "metadata": {
        "colab": {
          "base_uri": "https://localhost:8080/"
        },
        "id": "Mzh53xdyl5Si",
        "outputId": "4acd3804-84d4-4705-dcb7-9ea99ae2c4fa"
      },
      "execution_count": 21,
      "outputs": [
        {
          "output_type": "stream",
          "name": "stdout",
          "text": [
            "✅ Vocab size: 10000\n",
            "0: <pad>\n",
            "1: <unk>\n",
            "2: <s>\n",
            "3: </s>\n",
            "4: .\n",
            "5: ▁\n",
            "6: 이\n",
            "7: ▁영화\n",
            "8: ..\n",
            "9: 의\n"
          ]
        }
      ]
    },
    {
      "cell_type": "code",
      "source": [
        "sample = \"오랜만에? 기대가 없어서? 볼만했던 넷플 1위. 모성애를 쫒아가지 못한 찌질남이지만 나름 몰입도 있다\"\n",
        "ids = sp.encode_as_ids(sample)\n",
        "pieces = sp.encode_as_pieces(sample)\n",
        "\n",
        "print(\"✅ 원문:\", sample)\n",
        "print(\"🔢 ID:\", ids)\n",
        "print(\"🔡 Pieces:\", pieces)\n",
        "print(\"🪄 복원:\", sp.decode_ids(ids))\n"
      ],
      "metadata": {
        "colab": {
          "base_uri": "https://localhost:8080/"
        },
        "id": "0kxiEFWfl-Ci",
        "outputId": "fae40b32-6021-453d-d8a5-aaa9863dfd50"
      },
      "execution_count": 22,
      "outputs": [
        {
          "output_type": "stream",
          "name": "stdout",
          "text": [
            "✅ 원문: 오랜만에? 기대가 없어서? 볼만했던 넷플 1위. 모성애를 쫒아가지 못한 찌질남이지만 나름 몰입도 있다\n",
            "🔢 ID: [621, 18, 235, 10, 1401, 18, 1488, 396, 5, 6191, 984, 59, 323, 4, 7754, 23, 5, 9474, 45, 2280, 737, 3264, 265, 799, 579, 748, 337]\n",
            "🔡 Pieces: ['▁오랜만에', '?', '▁기대', '가', '▁없어서', '?', '▁볼만', '했던', '▁', '넷', '플', '▁1', '위', '.', '▁모성애', '를', '▁', '쫒', '아', '가지', '▁못한', '▁찌질', '남', '이지만', '▁나름', '▁몰입도', '▁있다']\n",
            "🪄 복원: 오랜만에? 기대가 없어서? 볼만했던 넷플 1위. 모성애를 쫒아가지 못한 찌질남이지만 나름 몰입도 있다\n"
          ]
        }
      ]
    },
    {
      "cell_type": "code",
      "source": [
        "import tensorflow as tf\n",
        "from tensorflow.keras.preprocessing.sequence import pad_sequences\n",
        "import sentencepiece as spm\n",
        "\n",
        "import sentencepiece as spm\n",
        "from tensorflow.keras.preprocessing.sequence import pad_sequences\n",
        "\n",
        "def sp_tokenize(model_path, corpus, vocab_path=None, max_len=60):\n",
        "    sp = spm.SentencePieceProcessor()\n",
        "    sp.load(model_path)\n",
        "\n",
        "    tensor = []\n",
        "    for s in corpus:\n",
        "        ids = sp.encode_as_ids(str(s))\n",
        "        if len(ids) == 0:\n",
        "            ids = [sp.unk_id()]  # 빈 문장 처리\n",
        "        tensor.append(ids)\n",
        "\n",
        "    tensor = pad_sequences(tensor, padding='post', maxlen=max_len)\n",
        "\n",
        "    if vocab_path is None:\n",
        "        vocab_path = model_path.replace(\".model\", \".vocab\")\n",
        "\n",
        "    word_index = {}\n",
        "    index_word = {}\n",
        "    with open(vocab_path, 'r', encoding='utf-8') as f:\n",
        "        for idx, line in enumerate(f):\n",
        "            token = line.split('\\t')[0]\n",
        "            word_index[token] = idx\n",
        "            index_word[idx] = token\n",
        "\n",
        "    return tensor, word_index, index_word\n",
        "\n"
      ],
      "metadata": {
        "id": "hV9uvcqzeDas"
      },
      "execution_count": 23,
      "outputs": []
    },
    {
      "cell_type": "code",
      "source": [
        "train_data['document'].apply(lambda x: len(str(x).strip())).describe()\n"
      ],
      "metadata": {
        "colab": {
          "base_uri": "https://localhost:8080/",
          "height": 335
        },
        "id": "E8TtT7ujtsP5",
        "outputId": "0f546daf-3c23-4090-8dfe-842e78d6c025"
      },
      "execution_count": 32,
      "outputs": [
        {
          "output_type": "execute_result",
          "data": {
            "text/plain": [
              "count    142861.000000\n",
              "mean         35.426904\n",
              "std          29.059411\n",
              "min           5.000000\n",
              "25%          16.000000\n",
              "50%          27.000000\n",
              "75%          42.000000\n",
              "max         140.000000\n",
              "Name: document, dtype: float64"
            ],
            "text/html": [
              "<div>\n",
              "<style scoped>\n",
              "    .dataframe tbody tr th:only-of-type {\n",
              "        vertical-align: middle;\n",
              "    }\n",
              "\n",
              "    .dataframe tbody tr th {\n",
              "        vertical-align: top;\n",
              "    }\n",
              "\n",
              "    .dataframe thead th {\n",
              "        text-align: right;\n",
              "    }\n",
              "</style>\n",
              "<table border=\"1\" class=\"dataframe\">\n",
              "  <thead>\n",
              "    <tr style=\"text-align: right;\">\n",
              "      <th></th>\n",
              "      <th>document</th>\n",
              "    </tr>\n",
              "  </thead>\n",
              "  <tbody>\n",
              "    <tr>\n",
              "      <th>count</th>\n",
              "      <td>142861.000000</td>\n",
              "    </tr>\n",
              "    <tr>\n",
              "      <th>mean</th>\n",
              "      <td>35.426904</td>\n",
              "    </tr>\n",
              "    <tr>\n",
              "      <th>std</th>\n",
              "      <td>29.059411</td>\n",
              "    </tr>\n",
              "    <tr>\n",
              "      <th>min</th>\n",
              "      <td>5.000000</td>\n",
              "    </tr>\n",
              "    <tr>\n",
              "      <th>25%</th>\n",
              "      <td>16.000000</td>\n",
              "    </tr>\n",
              "    <tr>\n",
              "      <th>50%</th>\n",
              "      <td>27.000000</td>\n",
              "    </tr>\n",
              "    <tr>\n",
              "      <th>75%</th>\n",
              "      <td>42.000000</td>\n",
              "    </tr>\n",
              "    <tr>\n",
              "      <th>max</th>\n",
              "      <td>140.000000</td>\n",
              "    </tr>\n",
              "  </tbody>\n",
              "</table>\n",
              "</div><br><label><b>dtype:</b> float64</label>"
            ]
          },
          "metadata": {},
          "execution_count": 32
        }
      ]
    },
    {
      "cell_type": "code",
      "source": [
        "(train_data['document'].str.strip() == \"\").sum()\n"
      ],
      "metadata": {
        "colab": {
          "base_uri": "https://localhost:8080/"
        },
        "id": "uRV6rJcttt45",
        "outputId": "791ac5a7-a2a2-4da8-9631-2ce47a42ea28"
      },
      "execution_count": 33,
      "outputs": [
        {
          "output_type": "execute_result",
          "data": {
            "text/plain": [
              "np.int64(0)"
            ]
          },
          "metadata": {},
          "execution_count": 33
        }
      ]
    },
    {
      "cell_type": "markdown",
      "source": [
        "##  SentencePiece 기반 RNN 모델 학습"
      ],
      "metadata": {
        "id": "ycBkT6QNdlMR"
      }
    },
    {
      "cell_type": "markdown",
      "source": [
        "## unigram, 10000 vocab size\n",
        "- 0.8519"
      ],
      "metadata": {
        "id": "vDa33eF0vK0y"
      }
    },
    {
      "cell_type": "code",
      "source": [
        "from tensorflow.keras.models import Sequential\n",
        "from tensorflow.keras.layers import Embedding, Bidirectional, LSTM, Dense, Dropout\n",
        "from tensorflow.keras.callbacks import EarlyStopping\n",
        "\n",
        "def build_simple_model(vocab_size):\n",
        "    model = Sequential([\n",
        "        Embedding(vocab_size, 128),\n",
        "        LSTM(64),\n",
        "        Dense(1, activation='sigmoid')\n",
        "    ])\n",
        "    model.compile(optimizer='adam', loss='binary_crossentropy', metrics=['accuracy'])\n",
        "    return model\n",
        "\n"
      ],
      "metadata": {
        "id": "ErgWNaYZfHOM"
      },
      "execution_count": 22,
      "outputs": []
    },
    {
      "cell_type": "code",
      "source": [
        "# ✅ 모델 경로 통일\n",
        "model_path = \"spm_models/spm_unigram_10000.model\"\n",
        "\n",
        "# ✅ Tokenization\n",
        "# 평균 + 상위 25% 문장 커버를 위한 적정 길이 설정\n",
        "MAX_LEN = 40  # 또는 50 정도도 가능\n",
        "\n",
        "X_train_sp, word_index, index_word = sp_tokenize(\n",
        "    model_path, train_data['document'], max_len=MAX_LEN\n",
        ")\n",
        "X_test_sp, _, _ = sp_tokenize(\n",
        "    model_path, test_data['document'], max_len=MAX_LEN\n",
        ")\n",
        "\n",
        "\n",
        "# ✅ Vocab size\n",
        "vocab_size = len(word_index)\n",
        "y_train = train_data['label'].values\n",
        "y_test = test_data['label'].values\n",
        "\n",
        "\n"
      ],
      "metadata": {
        "id": "LscDLxkRdlMR"
      },
      "execution_count": 35,
      "outputs": []
    },
    {
      "cell_type": "code",
      "source": [
        "# ✅ 모델 정의 및 학습\n",
        "model_sp = build_rnn_model(vocab_size)\n",
        "early_stop = EarlyStopping(monitor='val_accuracy', patience=2, restore_best_weights=True)\n",
        "model_sp.fit(X_train_sp, y_train, epochs=20, batch_size=128, validation_split=0.2, callbacks=[early_stop])\n",
        "\n",
        "# ✅ 평가\n",
        "acc_sp = model_sp.evaluate(X_test_sp, y_test)[1]\n",
        "print(f\"✅ SentencePiece + LSTM Test Accuracy: {acc_sp:.4f}\")"
      ],
      "metadata": {
        "colab": {
          "base_uri": "https://localhost:8080/"
        },
        "id": "-koewTXUucBm",
        "outputId": "bd6a358a-0969-41ed-ddc1-4ea8efe153fa"
      },
      "execution_count": 36,
      "outputs": [
        {
          "output_type": "stream",
          "name": "stdout",
          "text": [
            "Epoch 1/20\n",
            "\u001b[1m893/893\u001b[0m \u001b[32m━━━━━━━━━━━━━━━━━━━━\u001b[0m\u001b[37m\u001b[0m \u001b[1m16s\u001b[0m 14ms/step - accuracy: 0.6298 - loss: 0.5937 - val_accuracy: 0.8480 - val_loss: 0.3470\n",
            "Epoch 2/20\n",
            "\u001b[1m893/893\u001b[0m \u001b[32m━━━━━━━━━━━━━━━━━━━━\u001b[0m\u001b[37m\u001b[0m \u001b[1m12s\u001b[0m 13ms/step - accuracy: 0.8667 - loss: 0.3174 - val_accuracy: 0.8601 - val_loss: 0.3267\n",
            "Epoch 3/20\n",
            "\u001b[1m893/893\u001b[0m \u001b[32m━━━━━━━━━━━━━━━━━━━━\u001b[0m\u001b[37m\u001b[0m \u001b[1m11s\u001b[0m 12ms/step - accuracy: 0.8923 - loss: 0.2586 - val_accuracy: 0.8561 - val_loss: 0.3338\n",
            "Epoch 4/20\n",
            "\u001b[1m893/893\u001b[0m \u001b[32m━━━━━━━━━━━━━━━━━━━━\u001b[0m\u001b[37m\u001b[0m \u001b[1m11s\u001b[0m 12ms/step - accuracy: 0.9111 - loss: 0.2188 - val_accuracy: 0.8552 - val_loss: 0.3628\n",
            "\u001b[1m1563/1563\u001b[0m \u001b[32m━━━━━━━━━━━━━━━━━━━━\u001b[0m\u001b[37m\u001b[0m \u001b[1m7s\u001b[0m 4ms/step - accuracy: 0.8530 - loss: 0.3411\n",
            "✅ SentencePiece + BiLSTM Test Accuracy: 0.8519\n"
          ]
        }
      ]
    },
    {
      "cell_type": "code",
      "source": [
        "# print(\"Y 분포:\", np.bincount(y_train))  # 라벨 분포 확인\n",
        "# print(\"문장 샘플:\", train_data['document'].iloc[10])  # 전처리 후 문장\n",
        "# print(\"토큰:\", sp.encode_as_pieces(train_data['document'].iloc[0]))\n",
        "# print(\"토큰 ID:\", sp.encode_as_ids(train_data['document'].iloc[0]))\n",
        "# print(\"UNK 비율:\", sum(1 for i in sp.encode_as_ids(train_data['document'].iloc[0]) if i == sp.unk_id()) / len(sp.encode_as_ids(train_data['document'].iloc[0])))\n",
        "\n"
      ],
      "metadata": {
        "colab": {
          "base_uri": "https://localhost:8080/"
        },
        "id": "9ZyOF1FHhyaK",
        "outputId": "83056b7f-d26f-42b3-c7f2-d1e01ae63af3"
      },
      "execution_count": 30,
      "outputs": [
        {
          "output_type": "stream",
          "name": "stdout",
          "text": [
            "Y 분포: [71761 71100]\n",
            "문장 샘플: 걍인피니트가짱이다.진짜짱이다\n",
            "토큰: ['▁아', '▁더빙', '..', '▁진짜', '▁짜증나', '네요', '▁목소리']\n",
            "토큰 ID: [63, 791, 8, 31, 2033, 65, 1686]\n",
            "UNK 비율: 0.0\n"
          ]
        }
      ]
    },
    {
      "cell_type": "code",
      "source": [
        "# from collections import Counter\n",
        "# non_pad = [token for s in X_train_sp for token in s if token != 0]\n",
        "# print(Counter(non_pad).most_common(10))\n"
      ],
      "metadata": {
        "id": "kXqMveQfiBYT"
      },
      "execution_count": 27,
      "outputs": []
    },
    {
      "cell_type": "markdown",
      "source": [
        "### unigram, 16000 vocab size\n",
        "- test accuracy : 0.8492"
      ],
      "metadata": {
        "id": "coDEhcchdlMR"
      }
    },
    {
      "cell_type": "code",
      "source": [
        "# ✅ 모델 경로 통일\n",
        "model_path = \"spm_models/spm_unigram_16000.model\"\n",
        "\n",
        "# ✅ Tokenization\n",
        "# 평균 + 상위 25% 문장 커버를 위한 적정 길이 설정\n",
        "MAX_LEN = 40  # 또는 50 정도도 가능\n",
        "\n",
        "X_train_sp, word_index, index_word = sp_tokenize(\n",
        "    model_path, train_data['document'], max_len=MAX_LEN\n",
        ")\n",
        "X_test_sp, _, _ = sp_tokenize(\n",
        "    model_path, test_data['document'], max_len=MAX_LEN\n",
        ")\n",
        "\n",
        "\n",
        "# ✅ Vocab size\n",
        "vocab_size = len(word_index)\n",
        "y_train = train_data['label'].values\n",
        "y_test = test_data['label'].values\n",
        "\n",
        "# ✅ 학습\n",
        "model_sp = build_rnn_model(vocab_size)\n",
        "early_stop = EarlyStopping(monitor='val_accuracy', patience=2, restore_best_weights=True)\n",
        "model_sp.fit(X_train_sp, y_train, epochs=10, batch_size=128, validation_split=0.2, callbacks = [early_stop])\n",
        "\n",
        "# ✅ 평가\n",
        "acc_sp = model_sp.evaluate(X_test_sp, y_test)[1]\n",
        "print(f\"✅ SentencePiece(bpe, 16000) + RNN Test Accuracy: {acc_sp:.4f}\")"
      ],
      "metadata": {
        "colab": {
          "base_uri": "https://localhost:8080/"
        },
        "id": "hv3zWhKsdlMR",
        "outputId": "10f35a5f-0d3c-4e94-a207-721b8b927826"
      },
      "execution_count": 37,
      "outputs": [
        {
          "output_type": "stream",
          "name": "stdout",
          "text": [
            "Epoch 1/10\n",
            "\u001b[1m893/893\u001b[0m \u001b[32m━━━━━━━━━━━━━━━━━━━━\u001b[0m\u001b[37m\u001b[0m \u001b[1m15s\u001b[0m 12ms/step - accuracy: 0.6188 - loss: 0.6188 - val_accuracy: 0.8431 - val_loss: 0.3591\n",
            "Epoch 2/10\n",
            "\u001b[1m893/893\u001b[0m \u001b[32m━━━━━━━━━━━━━━━━━━━━\u001b[0m\u001b[37m\u001b[0m \u001b[1m11s\u001b[0m 12ms/step - accuracy: 0.8679 - loss: 0.3223 - val_accuracy: 0.8591 - val_loss: 0.3309\n",
            "Epoch 3/10\n",
            "\u001b[1m893/893\u001b[0m \u001b[32m━━━━━━━━━━━━━━━━━━━━\u001b[0m\u001b[37m\u001b[0m \u001b[1m11s\u001b[0m 12ms/step - accuracy: 0.9014 - loss: 0.2445 - val_accuracy: 0.8580 - val_loss: 0.3493\n",
            "Epoch 4/10\n",
            "\u001b[1m893/893\u001b[0m \u001b[32m━━━━━━━━━━━━━━━━━━━━\u001b[0m\u001b[37m\u001b[0m \u001b[1m11s\u001b[0m 12ms/step - accuracy: 0.9229 - loss: 0.1937 - val_accuracy: 0.8521 - val_loss: 0.4082\n",
            "\u001b[1m1563/1563\u001b[0m \u001b[32m━━━━━━━━━━━━━━━━━━━━\u001b[0m\u001b[37m\u001b[0m \u001b[1m7s\u001b[0m 4ms/step - accuracy: 0.8516 - loss: 0.3459\n",
            "✅ SentencePiece(bpe, 8000) + RNN Test Accuracy: 0.8492\n"
          ]
        }
      ]
    },
    {
      "cell_type": "code",
      "source": [],
      "metadata": {
        "id": "qzFkk2Y7Wc8S"
      },
      "execution_count": null,
      "outputs": []
    },
    {
      "cell_type": "markdown",
      "source": [
        "## bpe, 10000 vocab size\n",
        "- 0.8499"
      ],
      "metadata": {
        "id": "ALh9dh6RvSdo"
      }
    },
    {
      "cell_type": "markdown",
      "source": [],
      "metadata": {
        "id": "yxYWPicrvXxY"
      }
    },
    {
      "cell_type": "code",
      "source": [
        "# ✅ 모델 경로 통일\n",
        "model_path = \"spm_models/spm_bpe_10000.model\"\n",
        "\n",
        "# ✅ Tokenization\n",
        "# 평균 + 상위 25% 문장 커버를 위한 적정 길이 설정\n",
        "MAX_LEN = 40  # 또는 50 정도도 가능\n",
        "\n",
        "X_train_sp, word_index, index_word = sp_tokenize(\n",
        "    model_path, train_data['document'], max_len=MAX_LEN\n",
        ")\n",
        "X_test_sp, _, _ = sp_tokenize(\n",
        "    model_path, test_data['document'], max_len=MAX_LEN\n",
        ")\n",
        "\n",
        "\n",
        "# ✅ Vocab size\n",
        "vocab_size = len(word_index)\n",
        "y_train = train_data['label'].values\n",
        "y_test = test_data['label'].values\n",
        "\n",
        "# ✅ 학습\n",
        "model_sp = build_rnn_model(vocab_size)\n",
        "early_stop = EarlyStopping(monitor='val_accuracy', patience=2, restore_best_weights=True)\n",
        "model_sp.fit(X_train_sp, y_train, epochs=10, batch_size=128, validation_split=0.2, callbacks = [early_stop])\n",
        "\n",
        "# ✅ 평가\n",
        "acc_sp = model_sp.evaluate(X_test_sp, y_test)[1]\n",
        "print(f\"✅ SentencePiece(bpe, 10000) + RNN Test Accuracy: {acc_sp:.4f}\")"
      ],
      "metadata": {
        "colab": {
          "base_uri": "https://localhost:8080/"
        },
        "id": "-ooEdxAyvX-C",
        "outputId": "4c2fd3d8-9624-48d0-ca01-1b9ed7f48209"
      },
      "execution_count": 38,
      "outputs": [
        {
          "output_type": "stream",
          "name": "stdout",
          "text": [
            "Epoch 1/10\n",
            "\u001b[1m893/893\u001b[0m \u001b[32m━━━━━━━━━━━━━━━━━━━━\u001b[0m\u001b[37m\u001b[0m \u001b[1m15s\u001b[0m 13ms/step - accuracy: 0.5584 - loss: 0.6749 - val_accuracy: 0.7847 - val_loss: 0.4956\n",
            "Epoch 2/10\n",
            "\u001b[1m893/893\u001b[0m \u001b[32m━━━━━━━━━━━━━━━━━━━━\u001b[0m\u001b[37m\u001b[0m \u001b[1m11s\u001b[0m 12ms/step - accuracy: 0.8113 - loss: 0.4338 - val_accuracy: 0.8448 - val_loss: 0.3513\n",
            "Epoch 3/10\n",
            "\u001b[1m893/893\u001b[0m \u001b[32m━━━━━━━━━━━━━━━━━━━━\u001b[0m\u001b[37m\u001b[0m \u001b[1m11s\u001b[0m 12ms/step - accuracy: 0.8730 - loss: 0.3050 - val_accuracy: 0.8565 - val_loss: 0.3376\n",
            "Epoch 4/10\n",
            "\u001b[1m893/893\u001b[0m \u001b[32m━━━━━━━━━━━━━━━━━━━━\u001b[0m\u001b[37m\u001b[0m \u001b[1m11s\u001b[0m 12ms/step - accuracy: 0.8917 - loss: 0.2631 - val_accuracy: 0.8577 - val_loss: 0.3446\n",
            "Epoch 5/10\n",
            "\u001b[1m893/893\u001b[0m \u001b[32m━━━━━━━━━━━━━━━━━━━━\u001b[0m\u001b[37m\u001b[0m \u001b[1m11s\u001b[0m 12ms/step - accuracy: 0.9056 - loss: 0.2333 - val_accuracy: 0.8557 - val_loss: 0.3736\n",
            "Epoch 6/10\n",
            "\u001b[1m893/893\u001b[0m \u001b[32m━━━━━━━━━━━━━━━━━━━━\u001b[0m\u001b[37m\u001b[0m \u001b[1m11s\u001b[0m 12ms/step - accuracy: 0.9219 - loss: 0.1997 - val_accuracy: 0.8485 - val_loss: 0.3934\n",
            "\u001b[1m1563/1563\u001b[0m \u001b[32m━━━━━━━━━━━━━━━━━━━━\u001b[0m\u001b[37m\u001b[0m \u001b[1m7s\u001b[0m 4ms/step - accuracy: 0.8481 - loss: 0.3564\n",
            "✅ SentencePiece(bpe, 10000) + RNN Test Accuracy: 0.8499\n"
          ]
        }
      ]
    },
    {
      "cell_type": "code",
      "source": [],
      "metadata": {
        "id": "KdhyKhtNvwe6"
      },
      "execution_count": null,
      "outputs": []
    },
    {
      "cell_type": "markdown",
      "source": [
        "## bpe, 16000 vocab size\n",
        "- 0.8515"
      ],
      "metadata": {
        "id": "G68bbvIDvxD-"
      }
    },
    {
      "cell_type": "code",
      "source": [
        "# ✅ 모델 경로 통일\n",
        "model_path = \"spm_models/spm_bpe_16000.model\"\n",
        "\n",
        "# ✅ Tokenization\n",
        "# 평균 + 상위 25% 문장 커버를 위한 적정 길이 설정\n",
        "MAX_LEN = 40  # 또는 50 정도도 가능\n",
        "\n",
        "X_train_sp, word_index, index_word = sp_tokenize(\n",
        "    model_path, train_data['document'], max_len=MAX_LEN\n",
        ")\n",
        "X_test_sp, _, _ = sp_tokenize(\n",
        "    model_path, test_data['document'], max_len=MAX_LEN\n",
        ")\n",
        "\n",
        "\n",
        "# ✅ Vocab size\n",
        "vocab_size = len(word_index)\n",
        "y_train = train_data['label'].values\n",
        "y_test = test_data['label'].values\n",
        "\n",
        "# ✅ 학습\n",
        "model_sp = build_rnn_model(vocab_size)\n",
        "early_stop = EarlyStopping(monitor='val_accuracy', patience=2, restore_best_weights=True)\n",
        "model_sp.fit(X_train_sp, y_train, epochs=10, batch_size=128, validation_split=0.2, callbacks = [early_stop])\n",
        "\n",
        "# ✅ 평가\n",
        "acc_sp = model_sp.evaluate(X_test_sp, y_test)[1]\n",
        "print(f\"✅ SentencePiece(bpe, 16000) + RNN Test Accuracy: {acc_sp:.4f}\")"
      ],
      "metadata": {
        "colab": {
          "base_uri": "https://localhost:8080/"
        },
        "id": "p28hEQd3v2Fn",
        "outputId": "88c3969e-fd76-4041-9b85-fdbb2bb07b0e"
      },
      "execution_count": 39,
      "outputs": [
        {
          "output_type": "stream",
          "name": "stdout",
          "text": [
            "Epoch 1/10\n",
            "\u001b[1m893/893\u001b[0m \u001b[32m━━━━━━━━━━━━━━━━━━━━\u001b[0m\u001b[37m\u001b[0m \u001b[1m15s\u001b[0m 12ms/step - accuracy: 0.5871 - loss: 0.6488 - val_accuracy: 0.8098 - val_loss: 0.4305\n",
            "Epoch 2/10\n",
            "\u001b[1m893/893\u001b[0m \u001b[32m━━━━━━━━━━━━━━━━━━━━\u001b[0m\u001b[37m\u001b[0m \u001b[1m11s\u001b[0m 12ms/step - accuracy: 0.8270 - loss: 0.4028 - val_accuracy: 0.8538 - val_loss: 0.3359\n",
            "Epoch 3/10\n",
            "\u001b[1m893/893\u001b[0m \u001b[32m━━━━━━━━━━━━━━━━━━━━\u001b[0m\u001b[37m\u001b[0m \u001b[1m11s\u001b[0m 12ms/step - accuracy: 0.8884 - loss: 0.2726 - val_accuracy: 0.8572 - val_loss: 0.3382\n",
            "Epoch 4/10\n",
            "\u001b[1m893/893\u001b[0m \u001b[32m━━━━━━━━━━━━━━━━━━━━\u001b[0m\u001b[37m\u001b[0m \u001b[1m11s\u001b[0m 12ms/step - accuracy: 0.9165 - loss: 0.2067 - val_accuracy: 0.8550 - val_loss: 0.3691\n",
            "Epoch 5/10\n",
            "\u001b[1m893/893\u001b[0m \u001b[32m━━━━━━━━━━━━━━━━━━━━\u001b[0m\u001b[37m\u001b[0m \u001b[1m11s\u001b[0m 12ms/step - accuracy: 0.9356 - loss: 0.1660 - val_accuracy: 0.8482 - val_loss: 0.4141\n",
            "\u001b[1m1563/1563\u001b[0m \u001b[32m━━━━━━━━━━━━━━━━━━━━\u001b[0m\u001b[37m\u001b[0m \u001b[1m7s\u001b[0m 4ms/step - accuracy: 0.8517 - loss: 0.3511\n",
            "✅ SentencePiece(bpe, 16000) + RNN Test Accuracy: 0.8515\n"
          ]
        }
      ]
    },
    {
      "cell_type": "markdown",
      "source": [
        "## KoNLPy okt 데이터 전처리 및 모델 학습\n",
        "-  0.8519"
      ],
      "metadata": {
        "id": "0bO9OR4uwI_T"
      }
    },
    {
      "cell_type": "code",
      "source": [
        "from konlpy.tag import Okt, Mecab\n",
        "from tensorflow.keras.preprocessing.text import Tokenizer\n",
        "from tensorflow.keras.preprocessing.sequence import pad_sequences\n",
        "from tensorflow.keras.models import Sequential\n",
        "from tensorflow.keras.layers import Embedding, LSTM, Dense\n",
        "from tensorflow.keras.callbacks import EarlyStopping\n",
        "import re\n"
      ],
      "metadata": {
        "id": "cYsPAZp4wPG8"
      },
      "execution_count": 47,
      "outputs": []
    },
    {
      "cell_type": "code",
      "source": [
        "# 1. 전처리 + 토큰화\n",
        "okt = Okt()\n",
        "train_data['clean'] = train_data['document'].apply(clean_korean_text)\n",
        "test_data['clean'] = test_data['document'].apply(clean_korean_text)\n",
        "\n",
        "train_data['tokens_okt'] = train_data['clean'].apply(lambda x: okt.morphs(x, stem=True))\n",
        "test_data['tokens_okt'] = test_data['clean'].apply(lambda x: okt.morphs(x, stem=True))\n",
        "\n",
        "# 2. Tokenizer 학습\n",
        "tokenizer_okt = Tokenizer()\n",
        "tokenizer_okt.fit_on_texts(train_data['tokens_okt'])\n",
        "\n",
        "# 3. 시퀀스 변환 + 패딩\n",
        "X_train_okt = pad_sequences(tokenizer_okt.texts_to_sequences(train_data['tokens_okt']), maxlen=40)\n",
        "X_test_okt = pad_sequences(tokenizer_okt.texts_to_sequences(test_data['tokens_okt']), maxlen=40)\n"
      ],
      "metadata": {
        "id": "8779Mfa1xIpy"
      },
      "execution_count": 43,
      "outputs": []
    },
    {
      "cell_type": "code",
      "source": [
        "\n",
        "#4. 학습\n",
        "vocab_size_okt = len(tokenizer_okt.word_index) + 1\n",
        "model_okt = build_simple_model(vocab_size_okt)\n",
        "model_okt.fit(X_train_okt, y_train, epochs=10, batch_size=128, validation_split=0.2, callbacks=[EarlyStopping(monitor='val_loss', patience=2, restore_best_weights=True)])\n",
        "print(\"✅ OKT Test Accuracy:\", model_okt.evaluate(X_test_okt, y_test)[1])\n"
      ],
      "metadata": {
        "colab": {
          "base_uri": "https://localhost:8080/"
        },
        "id": "9L_230soxbz8",
        "outputId": "6369723b-5ba1-40a6-fa61-38e805e2d867"
      },
      "execution_count": 44,
      "outputs": [
        {
          "output_type": "stream",
          "name": "stdout",
          "text": [
            "Epoch 1/10\n",
            "\u001b[1m893/893\u001b[0m \u001b[32m━━━━━━━━━━━━━━━━━━━━\u001b[0m\u001b[37m\u001b[0m \u001b[1m8s\u001b[0m 7ms/step - accuracy: 0.7894 - loss: 0.4419 - val_accuracy: 0.8536 - val_loss: 0.3416\n",
            "Epoch 2/10\n",
            "\u001b[1m893/893\u001b[0m \u001b[32m━━━━━━━━━━━━━━━━━━━━\u001b[0m\u001b[37m\u001b[0m \u001b[1m6s\u001b[0m 6ms/step - accuracy: 0.8862 - loss: 0.2736 - val_accuracy: 0.8579 - val_loss: 0.3315\n",
            "Epoch 3/10\n",
            "\u001b[1m893/893\u001b[0m \u001b[32m━━━━━━━━━━━━━━━━━━━━\u001b[0m\u001b[37m\u001b[0m \u001b[1m6s\u001b[0m 6ms/step - accuracy: 0.9138 - loss: 0.2123 - val_accuracy: 0.8573 - val_loss: 0.3367\n",
            "Epoch 4/10\n",
            "\u001b[1m893/893\u001b[0m \u001b[32m━━━━━━━━━━━━━━━━━━━━\u001b[0m\u001b[37m\u001b[0m \u001b[1m6s\u001b[0m 6ms/step - accuracy: 0.9359 - loss: 0.1648 - val_accuracy: 0.8579 - val_loss: 0.3836\n",
            "\u001b[1m1563/1563\u001b[0m \u001b[32m━━━━━━━━━━━━━━━━━━━━\u001b[0m\u001b[37m\u001b[0m \u001b[1m5s\u001b[0m 3ms/step - accuracy: 0.8519 - loss: 0.3397\n",
            "✅ OKT Test Accuracy: 0.8519999980926514\n"
          ]
        }
      ]
    },
    {
      "cell_type": "markdown",
      "source": [
        "## KoNLPs Mecab\n",
        "- 0.8593"
      ],
      "metadata": {
        "id": "Nf7-T0zjxq1B"
      }
    },
    {
      "cell_type": "code",
      "source": [
        "# 1. 필요한 패키지 설치\n",
        "!apt install -y curl git build-essential\n",
        "\n",
        "# 2. MeCab 설치 스크립트 실행 (Konlpy 공식)\n",
        "!curl -s https://raw.githubusercontent.com/konlpy/konlpy/master/scripts/mecab.sh | bash\n",
        "\n"
      ],
      "metadata": {
        "colab": {
          "base_uri": "https://localhost:8080/"
        },
        "id": "T32YTSAAxy3K",
        "outputId": "ee6f5f82-a9f4-4a34-bf78-78292cdc65fb"
      },
      "execution_count": 52,
      "outputs": [
        {
          "output_type": "stream",
          "name": "stdout",
          "text": [
            "Reading package lists... Done\n",
            "Building dependency tree... Done\n",
            "Reading state information... Done\n",
            "build-essential is already the newest version (12.9ubuntu3).\n",
            "curl is already the newest version (7.81.0-1ubuntu1.20).\n",
            "git is already the newest version (1:2.34.1-1ubuntu1.12).\n",
            "0 upgraded, 0 newly installed, 0 to remove and 34 not upgraded.\n",
            "mecab-ko is already installed\n",
            "mecab-ko-dic is already installed\n",
            "Install mecab-python\n",
            "/tmp /content\n",
            "/content\n",
            "Processing /tmp/mecab-python-0.996\n",
            "  \u001b[1;31merror\u001b[0m: \u001b[1msubprocess-exited-with-error\u001b[0m\n",
            "  \n",
            "  \u001b[31m×\u001b[0m \u001b[32mpython setup.py egg_info\u001b[0m did not run successfully.\n",
            "  \u001b[31m│\u001b[0m exit code: \u001b[1;36m1\u001b[0m\n",
            "  \u001b[31m╰─>\u001b[0m See above for output.\n",
            "  \n",
            "  \u001b[1;35mnote\u001b[0m: This error originates from a subprocess, and is likely not a problem with pip.\n",
            "  Preparing metadata (setup.py) ... \u001b[?25l\u001b[?25herror\n",
            "\u001b[1;31merror\u001b[0m: \u001b[1mmetadata-generation-failed\u001b[0m\n",
            "\n",
            "\u001b[31m×\u001b[0m Encountered error while generating package metadata.\n",
            "\u001b[31m╰─>\u001b[0m See above for output.\n",
            "\n",
            "\u001b[1;35mnote\u001b[0m: This is an issue with the package mentioned above, not pip.\n",
            "\u001b[1;36mhint\u001b[0m: See above for details.\n"
          ]
        }
      ]
    },
    {
      "cell_type": "code",
      "source": [
        "# 기존 mecab-python 실패 시 대안\n",
        "!pip install mecab-python3\n"
      ],
      "metadata": {
        "colab": {
          "base_uri": "https://localhost:8080/"
        },
        "id": "Tjr90baF3NpX",
        "outputId": "800a5883-abdc-4a49-b350-066e2718ba0d"
      },
      "execution_count": 53,
      "outputs": [
        {
          "output_type": "stream",
          "name": "stdout",
          "text": [
            "Collecting mecab-python3\n",
            "  Downloading mecab_python3-1.0.10-cp311-cp311-manylinux_2_17_x86_64.manylinux2014_x86_64.whl.metadata (6.2 kB)\n",
            "Downloading mecab_python3-1.0.10-cp311-cp311-manylinux_2_17_x86_64.manylinux2014_x86_64.whl (588 kB)\n",
            "\u001b[?25l   \u001b[90m━━━━━━━━━━━━━━━━━━━━━━━━━━━━━━━━━━━━━━━━\u001b[0m \u001b[32m0.0/588.8 kB\u001b[0m \u001b[31m?\u001b[0m eta \u001b[36m-:--:--\u001b[0m\r\u001b[2K   \u001b[90m━━━━━━━━━━━━━━━━━━━━━━━━━━━━━━━━━━━━━━━━\u001b[0m \u001b[32m588.8/588.8 kB\u001b[0m \u001b[31m32.4 MB/s\u001b[0m eta \u001b[36m0:00:00\u001b[0m\n",
            "\u001b[?25hInstalling collected packages: mecab-python3\n",
            "Successfully installed mecab-python3-1.0.10\n"
          ]
        }
      ]
    },
    {
      "cell_type": "code",
      "source": [
        "# Mecab 설치 필요: !apt install g++ openjdk-8-jdk python3-dev python3-pip python3-setuptools python3-wheel -y\n",
        "from konlpy.tag import Mecab\n",
        "from tensorflow.keras.preprocessing.text import Tokenizer\n",
        "from tensorflow.keras.preprocessing.sequence import pad_sequences\n",
        "\n",
        "\n",
        "train_data['clean'] = train_data['document'].apply(clean_korean_text)\n",
        "test_data['clean'] = test_data['document'].apply(clean_korean_text)\n",
        "mecab = Mecab()\n",
        "train_data['tokens_mecab'] = train_data['clean'].apply(lambda x: mecab.morphs(x))\n",
        "test_data['tokens_mecab'] = test_data['clean'].apply(lambda x: mecab.morphs(x))\n",
        "\n",
        "tokenizer_mecab = Tokenizer()\n",
        "tokenizer_mecab.fit_on_texts(train_data['tokens_mecab'])\n",
        "\n",
        "X_train_mecab = pad_sequences(tokenizer_mecab.texts_to_sequences(train_data['tokens_mecab']), maxlen=40)\n",
        "X_test_mecab = pad_sequences(tokenizer_mecab.texts_to_sequences(test_data['tokens_mecab']), maxlen=40)\n"
      ],
      "metadata": {
        "id": "F2PMFttDxvwo"
      },
      "execution_count": 20,
      "outputs": []
    },
    {
      "cell_type": "code",
      "source": [
        "# 학습\n",
        "y_train = train_data['label'].values\n",
        "y_test = test_data['label'].values\n",
        "vocab_size_mecab = len(tokenizer_mecab.word_index) + 1\n",
        "model_mecab = build_simple_model(vocab_size_mecab)\n",
        "model_mecab.fit(X_train_mecab, y_train, epochs=10, batch_size=128, validation_split=0.2, callbacks=[EarlyStopping(monitor='val_loss', patience=2, restore_best_weights=True)])\n",
        "print(\"✅ mecab Test Accuracy:\", model_mecab.evaluate(X_test_mecab, y_test)[1])\n"
      ],
      "metadata": {
        "colab": {
          "base_uri": "https://localhost:8080/"
        },
        "id": "g3cXBvfAx5mr",
        "outputId": "243b1b28-a353-49f4-94b2-45381cb84b13"
      },
      "execution_count": 29,
      "outputs": [
        {
          "output_type": "stream",
          "name": "stdout",
          "text": [
            "Epoch 1/10\n",
            "\u001b[1m893/893\u001b[0m \u001b[32m━━━━━━━━━━━━━━━━━━━━\u001b[0m\u001b[37m\u001b[0m \u001b[1m8s\u001b[0m 7ms/step - accuracy: 0.7850 - loss: 0.4472 - val_accuracy: 0.8584 - val_loss: 0.3291\n",
            "Epoch 2/10\n",
            "\u001b[1m893/893\u001b[0m \u001b[32m━━━━━━━━━━━━━━━━━━━━\u001b[0m\u001b[37m\u001b[0m \u001b[1m6s\u001b[0m 6ms/step - accuracy: 0.8933 - loss: 0.2643 - val_accuracy: 0.8625 - val_loss: 0.3230\n",
            "Epoch 3/10\n",
            "\u001b[1m893/893\u001b[0m \u001b[32m━━━━━━━━━━━━━━━━━━━━\u001b[0m\u001b[37m\u001b[0m \u001b[1m6s\u001b[0m 6ms/step - accuracy: 0.9215 - loss: 0.1995 - val_accuracy: 0.8618 - val_loss: 0.3378\n",
            "Epoch 4/10\n",
            "\u001b[1m893/893\u001b[0m \u001b[32m━━━━━━━━━━━━━━━━━━━━\u001b[0m\u001b[37m\u001b[0m \u001b[1m6s\u001b[0m 6ms/step - accuracy: 0.9417 - loss: 0.1535 - val_accuracy: 0.8589 - val_loss: 0.3831\n",
            "\u001b[1m1563/1563\u001b[0m \u001b[32m━━━━━━━━━━━━━━━━━━━━\u001b[0m\u001b[37m\u001b[0m \u001b[1m5s\u001b[0m 3ms/step - accuracy: 0.8601 - loss: 0.3267\n",
            "✅ mecab Test Accuracy: 0.8593199849128723\n"
          ]
        }
      ]
    },
    {
      "cell_type": "markdown",
      "source": [
        "# 성능 비교\n",
        "- **형태소 기반 토크나이저(Mecab, Okt)**가 SentencePiece보다 약간 더 우수한 성능을 보임.\n",
        "\n",
        "- 특히 **Mecab은 가장 높은 정확도(0.8593)**로 성능이 가장 뛰어남.\n",
        "\n",
        "- SentencePiece도 매우 근접한 성능을 보이며, 특히 unigram 방식이 BPE보다 약간 더 안정적."
      ],
      "metadata": {
        "id": "k2gZKbnCyRB1"
      }
    },
    {
      "cell_type": "code",
      "source": [
        "import matplotlib.pyplot as plt\n",
        "\n",
        "# 데이터 정의\n",
        "labels = [\n",
        "    \"Mecab (KoNLPy)\",\n",
        "    \"Okt (KoNLPy)\",\n",
        "    \"SP-Unigram-10k\",\n",
        "    \"SP-BPE-16k\",\n",
        "    \"SP-BPE-10k\",\n",
        "    \"SP-Unigram-16k\"\n",
        "]\n",
        "accuracies = [0.8593, 0.8520, 0.8519, 0.8515, 0.8499, 0.8492]\n",
        "\n",
        "# 시각화\n",
        "plt.figure(figsize=(10, 6))\n",
        "bars = plt.barh(labels, accuracies, color='skyblue')\n",
        "plt.xlabel(\"Test Accuracy\")\n",
        "plt.title(\"Tokenizers Accuracy Comparison (RNN Model)\")\n",
        "plt.gca().invert_yaxis()  # 순위를 위쪽에 높은 순으로\n",
        "\n",
        "# 정확도 표시\n",
        "for bar in bars:\n",
        "    width = bar.get_width()\n",
        "    plt.text(width + 0.001, bar.get_y() + bar.get_height()/2,\n",
        "             f\"{width:.4f}\", va='center')\n",
        "\n",
        "plt.xlim(0.84, 0.86)\n",
        "plt.grid(axis='x', linestyle='--', alpha=0.5)\n",
        "plt.tight_layout()\n",
        "plt.show()\n"
      ],
      "metadata": {
        "colab": {
          "base_uri": "https://localhost:8080/",
          "height": 452
        },
        "id": "oIyL8ZVY7Nwz",
        "outputId": "74ae4109-9db5-4a1a-fd29-4a18632daba5"
      },
      "execution_count": 30,
      "outputs": [
        {
          "output_type": "display_data",
          "data": {
            "text/plain": [
              "<Figure size 1000x600 with 1 Axes>"
            ],
            "image/png": "[encoded data removed]"
          },
          "metadata": {}
        }
      ]
    },
    {
      "cell_type": "code",
      "source": [],
      "metadata": {
        "id": "uhZ0CCnj7tHG"
      },
      "execution_count": null,
      "outputs": []
    }
  ]
}