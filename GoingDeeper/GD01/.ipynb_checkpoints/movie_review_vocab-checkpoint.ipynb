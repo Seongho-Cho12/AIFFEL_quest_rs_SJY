{
 "cells": [
  {
   "cell_type": "code",
   "execution_count": 1,
   "id": "efed9297",
   "metadata": {},
   "outputs": [
    {
     "name": "stdout",
     "output_type": "stream",
     "text": [
      "2.6.0\n",
      "1.21.4\n",
      "0.5.2\n"
     ]
    }
   ],
   "source": [
    "import tensorflow as tf\n",
    "import numpy as np\n",
    "import matplotlib.pyplot as plt\n",
    "import konlpy\n",
    "\n",
    "print(tf.__version__)\n",
    "print(np.__version__)\n",
    "# print(plt.__version__)\n",
    "print(konlpy.__version__)"
   ]
  },
  {
   "cell_type": "code",
   "execution_count": 2,
   "id": "400652a0",
   "metadata": {},
   "outputs": [],
   "source": [
    "#SentencePiece"
   ]
  },
  {
   "cell_type": "markdown",
   "id": "5762a7f0",
   "metadata": {},
   "source": [
    "# SentencePiece 설치\n",
    "- Google에서 제공하는 오픈소스기반 Sentence Tokenizer/Detokenizer"
   ]
  },
  {
   "cell_type": "code",
   "execution_count": 3,
   "id": "4e2bad58",
   "metadata": {},
   "outputs": [
    {
     "name": "stdout",
     "output_type": "stream",
     "text": [
      "Requirement already satisfied: sentencepiece in /opt/conda/lib/python3.9/site-packages (0.1.96)\n",
      "\u001b[33mWARNING: Running pip as the 'root' user can result in broken permissions and conflicting behaviour with the system package manager. It is recommended to use a virtual environment instead: https://pip.pypa.io/warnings/venv\u001b[0m\n"
     ]
    }
   ],
   "source": [
    "!pip install sentencepiece"
   ]
  },
  {
   "cell_type": "markdown",
   "id": "86a8389a",
   "metadata": {},
   "source": [
    "# SentencePiece 모델 학습 "
   ]
  },
  {
   "cell_type": "code",
   "execution_count": 4,
   "id": "7fb64f04",
   "metadata": {},
   "outputs": [],
   "source": [
    "#토크나이저 내부적으로 단어사전과 토크나이저 기능을 corpus에 맞춤형으로 자동 생성하는 함수\n",
    "def tokenize(corpus):  # corpus: Tokenized Sentence's List\n",
    "    tokenizer = tf.keras.preprocessing.text.Tokenizer(filters='') # 실험.... \n",
    "    tokenizer.fit_on_texts(corpus)\n",
    "\n",
    "    tensor = tokenizer.texts_to_sequences(corpus)\n",
    "\n",
    "    tensor = tf.keras.preprocessing.sequence.pad_sequences(tensor, padding='post') # 실험할 수 있는 부분\n",
    "\n",
    "    return tensor, tokenizer"
   ]
  },
  {
   "cell_type": "markdown",
   "id": "7a60fbe0",
   "metadata": {},
   "source": [
    "# filtered corpus 정의"
   ]
  },
  {
   "cell_type": "code",
   "execution_count": 5,
   "id": "b4d9f9b1",
   "metadata": {},
   "outputs": [
    {
     "name": "stdout",
     "output_type": "stream",
     "text": [
      "Data Size: 77591\n",
      "문장의 최단 길이: 1\n",
      "문장의 최장 길이: 377\n",
      "문장의 평균 길이: 64\n"
     ]
    },
    {
     "data": {
      "image/png": "[encoded data removed]",
      "text/plain": [
       "<Figure size 432x288 with 1 Axes>"
      ]
     },
     "metadata": {
      "needs_background": "light"
     },
     "output_type": "display_data"
    }
   ],
   "source": [
    "#filtered_corpus 정의\n",
    "#데이터 가져오기\n",
    "import os\n",
    "path_to_file = os.getenv('HOME')+'/aiffel/sp_tokenizer/data/korean-english-park.train.ko'\n",
    "with open(path_to_file, \"r\") as f:\n",
    "    raw = f.read().splitlines()\n",
    "#데이터의 중복 제거 \n",
    "min_len = 999\n",
    "max_len = 0\n",
    "sum_len = 0\n",
    "\n",
    "filtered_corpus = list(set(raw))  # set를 사용해서 중복을 제거합니다.\n",
    "print(\"Data Size:\", len(filtered_corpus))\n",
    "\n",
    "for sen in filtered_corpus:\n",
    "    length = len(sen)\n",
    "    if min_len > length: min_len = length\n",
    "    if max_len < length: max_len = length\n",
    "    sum_len += length\n",
    "\n",
    "print(\"문장의 최단 길이:\", min_len)\n",
    "print(\"문장의 최장 길이:\", max_len)\n",
    "print(\"문장의 평균 길이:\", sum_len // len(filtered_corpus))\n",
    "\n",
    "sentence_length = np.zeros((max_len), dtype=int)\n",
    "\n",
    "for sen in filtered_corpus:   # 중복이 제거된 코퍼스 기준\n",
    "    sentence_length[len(sen)-1] += 1\n",
    "\n",
    "plt.bar(range(max_len), sentence_length, width=1.0)\n",
    "plt.title(\"Sentence Length Distribution\")\n",
    "plt.show()\n"
   ]
  },
  {
   "cell_type": "markdown",
   "id": "38679b57",
   "metadata": {},
   "source": [
    "# SentencePiece 모델 학습 과정"
   ]
  },
  {
   "cell_type": "code",
   "execution_count": 6,
   "id": "fbccd40a",
   "metadata": {},
   "outputs": [],
   "source": [
    "# import sentencepiece as spm\n",
    "# import os\n",
    "\n",
    "# # 1. 준비\n",
    "# corpus_path = os.getenv('HOME') + '/aiffel/sp_tokenizer/data/korean-english-park.train.ko.temp'\n",
    "# with open(corpus_path, 'w') as f:\n",
    "#     for row in filtered_corpus:\n",
    "#         f.write(str(row) + '\\n')\n",
    "\n",
    "# # 2. 실험할 vocab_size 및 model_type 목록\n",
    "# vocab_sizes = [6000, 8000, 10000]\n",
    "# model_types = ['unigram', 'bpe', 'word', 'char']\n",
    "\n",
    "# # 3. 반복 학습\n",
    "# for vocab_size in vocab_sizes:\n",
    "#     for model_type in model_types:\n",
    "#         model_prefix = f'korean_spm_{model_type}_{vocab_size}'\n",
    "#         print(f\"Training model: {model_prefix}\")\n",
    "#         spm.SentencePieceTrainer.Train(\n",
    "#             f'--input={corpus_path} --model_prefix={model_prefix} '\n",
    "#             f'--vocab_size={vocab_size} --model_type={model_type}'\n",
    "#         )\n"
   ]
  },
  {
   "cell_type": "code",
   "execution_count": 7,
   "id": "430cc93d",
   "metadata": {},
   "outputs": [
    {
     "name": "stderr",
     "output_type": "stream",
     "text": [
      "sentencepiece_trainer.cc(177) LOG(INFO) Running command: --input=/aiffel/aiffel/sp_tokenizer/data/korean-english-park.train.ko.temp --model_prefix=korean_spm --vocab_size=8000\n",
      "sentencepiece_trainer.cc(77) LOG(INFO) Starts training with : \n",
      "trainer_spec {\n",
      "  input: /aiffel/aiffel/sp_tokenizer/data/korean-english-park.train.ko.temp\n",
      "  input_format: \n",
      "  model_prefix: korean_spm\n",
      "  model_type: UNIGRAM\n",
      "  vocab_size: 8000\n",
      "  self_test_sample_size: 0\n",
      "  character_coverage: 0.9995\n",
      "  input_sentence_size: 0\n",
      "  shuffle_input_sentence: 1\n",
      "  seed_sentencepiece_size: 1000000\n",
      "  shrinking_factor: 0.75\n",
      "  max_sentence_length: 4192\n",
      "  num_threads: 16\n",
      "  num_sub_iterations: 2\n",
      "  max_sentencepiece_length: 16\n",
      "  split_by_unicode_script: 1\n",
      "  split_by_number: 1\n",
      "  split_by_whitespace: 1\n",
      "  split_digits: 0\n",
      "  treat_whitespace_as_suffix: 0\n",
      "  allow_whitespace_only_pieces: 0\n",
      "  required_chars: \n",
      "  byte_fallback: 0\n",
      "  vocabulary_output_piece_score: 1\n",
      "  train_extremely_large_corpus: 0\n",
      "  hard_vocab_limit: 1\n",
      "  use_all_vocab: 0\n",
      "  unk_id: 0\n",
      "  bos_id: 1\n",
      "  eos_id: 2\n",
      "  pad_id: -1\n",
      "  unk_piece: <unk>\n",
      "  bos_piece: <s>\n",
      "  eos_piece: </s>\n",
      "  pad_piece: <pad>\n",
      "  unk_surface:  ⁇ \n",
      "}\n",
      "normalizer_spec {\n",
      "  name: nmt_nfkc\n",
      "  add_dummy_prefix: 1\n",
      "  remove_extra_whitespaces: 1\n",
      "  escape_whitespaces: 1\n",
      "  normalization_rule_tsv: \n",
      "}\n",
      "denormalizer_spec {}\n",
      "trainer_interface.cc(329) LOG(INFO) SentenceIterator is not specified. Using MultiFileSentenceIterator.\n",
      "trainer_interface.cc(178) LOG(INFO) Loading corpus: /aiffel/aiffel/sp_tokenizer/data/korean-english-park.train.ko.temp\n",
      "trainer_interface.cc(385) LOG(INFO) Loaded all 77591 sentences\n",
      "trainer_interface.cc(400) LOG(INFO) Adding meta_piece: <unk>\n",
      "trainer_interface.cc(400) LOG(INFO) Adding meta_piece: <s>\n",
      "trainer_interface.cc(400) LOG(INFO) Adding meta_piece: </s>\n",
      "trainer_interface.cc(405) LOG(INFO) Normalizing sentences...\n",
      "trainer_interface.cc(466) LOG(INFO) all chars count=5080163\n",
      "trainer_interface.cc(477) LOG(INFO) Done: 99.95% characters are covered.\n",
      "trainer_interface.cc(487) LOG(INFO) Alphabet size=1319\n",
      "trainer_interface.cc(488) LOG(INFO) Final character coverage=0.9995\n",
      "trainer_interface.cc(520) LOG(INFO) Done! preprocessed 77591 sentences.\n",
      "unigram_model_trainer.cc(139) LOG(INFO) Making suffix array...\n",
      "unigram_model_trainer.cc(143) LOG(INFO) Extracting frequent sub strings...\n",
      "unigram_model_trainer.cc(194) LOG(INFO) Initialized 176815 seed sentencepieces\n",
      "trainer_interface.cc(526) LOG(INFO) Tokenizing input sentences with whitespace: 77591\n",
      "trainer_interface.cc(537) LOG(INFO) Done! 241202\n",
      "unigram_model_trainer.cc(489) LOG(INFO) Using 241202 sentences for EM training\n",
      "unigram_model_trainer.cc(505) LOG(INFO) EM sub_iter=0 size=93823 obj=14.8612 num_tokens=530973 num_tokens/piece=5.65931\n",
      "unigram_model_trainer.cc(505) LOG(INFO) EM sub_iter=1 size=83230 obj=13.5217 num_tokens=533527 num_tokens/piece=6.41027\n",
      "unigram_model_trainer.cc(505) LOG(INFO) EM sub_iter=0 size=62414 obj=13.5583 num_tokens=554911 num_tokens/piece=8.89081\n",
      "unigram_model_trainer.cc(505) LOG(INFO) EM sub_iter=1 size=62364 obj=13.5155 num_tokens=555344 num_tokens/piece=8.90488\n",
      "unigram_model_trainer.cc(505) LOG(INFO) EM sub_iter=0 size=46772 obj=13.6979 num_tokens=583594 num_tokens/piece=12.4774\n",
      "unigram_model_trainer.cc(505) LOG(INFO) EM sub_iter=1 size=46772 obj=13.655 num_tokens=583644 num_tokens/piece=12.4785\n",
      "unigram_model_trainer.cc(505) LOG(INFO) EM sub_iter=0 size=35079 obj=13.8914 num_tokens=614388 num_tokens/piece=17.5144\n",
      "unigram_model_trainer.cc(505) LOG(INFO) EM sub_iter=1 size=35079 obj=13.8406 num_tokens=614423 num_tokens/piece=17.5154\n",
      "unigram_model_trainer.cc(505) LOG(INFO) EM sub_iter=0 size=26309 obj=14.1328 num_tokens=646429 num_tokens/piece=24.5706\n",
      "unigram_model_trainer.cc(505) LOG(INFO) EM sub_iter=1 size=26309 obj=14.0776 num_tokens=646463 num_tokens/piece=24.5719\n",
      "unigram_model_trainer.cc(505) LOG(INFO) EM sub_iter=0 size=19731 obj=14.4108 num_tokens=680212 num_tokens/piece=34.4743\n",
      "unigram_model_trainer.cc(505) LOG(INFO) EM sub_iter=1 size=19731 obj=14.3488 num_tokens=680249 num_tokens/piece=34.4762\n",
      "unigram_model_trainer.cc(505) LOG(INFO) EM sub_iter=0 size=14798 obj=14.7201 num_tokens=715259 num_tokens/piece=48.3348\n",
      "unigram_model_trainer.cc(505) LOG(INFO) EM sub_iter=1 size=14798 obj=14.6487 num_tokens=715261 num_tokens/piece=48.335\n",
      "unigram_model_trainer.cc(505) LOG(INFO) EM sub_iter=0 size=11098 obj=15.0838 num_tokens=751852 num_tokens/piece=67.7466\n",
      "unigram_model_trainer.cc(505) LOG(INFO) EM sub_iter=1 size=11098 obj=15.0033 num_tokens=751852 num_tokens/piece=67.7466\n",
      "unigram_model_trainer.cc(505) LOG(INFO) EM sub_iter=0 size=8800 obj=15.3986 num_tokens=781580 num_tokens/piece=88.8159\n",
      "unigram_model_trainer.cc(505) LOG(INFO) EM sub_iter=1 size=8800 obj=15.3247 num_tokens=781589 num_tokens/piece=88.8169\n",
      "trainer_interface.cc(615) LOG(INFO) Saving model: korean_spm.model\n",
      "trainer_interface.cc(626) LOG(INFO) Saving vocabs: korean_spm.vocab\n"
     ]
    },
    {
     "name": "stdout",
     "output_type": "stream",
     "text": [
      "-rw-r--r-- 1 root root 334730 May  9 01:28 korean_spm_bpe_6000.model\r\n",
      "-rw-r--r-- 1 root root  83927 May  9 01:28 korean_spm_bpe_6000.vocab\r\n",
      "-rw-r--r-- 1 root root 371890 May  9 01:43 korean_spm_bpe_8000.model\r\n",
      "-rw-r--r-- 1 root root 117087 May  9 01:43 korean_spm_bpe_8000.vocab\r\n",
      "-rw-r--r-- 1 root root 253375 May  9 01:28 korean_spm_char_6000.model\r\n",
      "-rw-r--r-- 1 root root  16871 May  9 01:28 korean_spm_char_6000.vocab\r\n",
      "-rw-r--r-- 1 root root 376710 May  9 03:56 korean_spm.model\r\n",
      "-rw-r--r-- 1 root root 338115 May  9 01:28 korean_spm_unigram_6000.model\r\n",
      "-rw-r--r-- 1 root root 105796 May  9 01:28 korean_spm_unigram_6000.vocab\r\n",
      "-rw-r--r-- 1 root root 376725 May  9 01:28 korean_spm_unigram_8000.model\r\n",
      "-rw-r--r-- 1 root root 146141 May  9 01:28 korean_spm_unigram_8000.vocab\r\n",
      "-rw-r--r-- 1 root root 146141 May  9 03:56 korean_spm.vocab\r\n",
      "-rw-r--r-- 1 root root 362726 May  9 01:28 korean_spm_word_6000.model\r\n",
      "-rw-r--r-- 1 root root 130105 May  9 01:28 korean_spm_word_6000.vocab\r\n"
     ]
    }
   ],
   "source": [
    "# SentencePiece 모델 학습 과정\n",
    "import sentencepiece as spm\n",
    "import os\n",
    "temp_file = os.getenv('HOME') + '/aiffel/sp_tokenizer/data/korean-english-park.train.ko.temp'\n",
    "\n",
    "vocab_size = 8000   # 실험할 부분\n",
    "\n",
    "with open(temp_file, 'w') as f:\n",
    "    for row in filtered_corpus:\n",
    "        f.write(str(row) + '\\n')\n",
    "        \n",
    "spm.SentencePieceTrainer.Train(\n",
    "    '--input={} --model_prefix=korean_spm --vocab_size={}'.format(temp_file, vocab_size)  # 실험할 부분 모델 타입\n",
    ")\n",
    "\n",
    "!ls -l korean_spm*\n"
   ]
  },
  {
   "cell_type": "code",
   "execution_count": 8,
   "id": "0c3cebc9",
   "metadata": {},
   "outputs": [
    {
     "name": "stdout",
     "output_type": "stream",
     "text": [
      "[1255, 11, 304, 7, 3606, 11, 285, 38, 3]\n",
      "['▁아버지', '가', '방', '에', '들어', '가', '신', '다', '.']\n",
      "아버지가방에들어가신다.\n"
     ]
    }
   ],
   "source": [
    "#SentencePice 모델 활용\n",
    "s = spm.SentencePieceProcessor()\n",
    "s.Load('korean_spm.model')\n",
    "\n",
    "#SentencePiece를 활용한 sentence -> encoding\n",
    "tokensIDs = s.EncodeAsIds('아버지가방에들어가신다.')\n",
    "print(tokensIDs)\n",
    "\n",
    "#SentencePIece를 활용한 sentence -> encoded pieces\n",
    "print(s.SampleEncodeAsPieces('아버지가방에들어가신다.', 1, 0.0))\n",
    "\n",
    "#SentencePiece를 활용한 encoding -> sentence 복원\n",
    "print(s.DecodeIds(tokensIDs))"
   ]
  },
  {
   "cell_type": "markdown",
   "id": "ec48999a",
   "metadata": {},
   "source": [
    "# Tokenizer 함수 작성\n",
    "- SentencePiece를 활용하여 위 함수와 유사한 기능을 하는 sp_tokenize()함수 정의 \n",
    "- 1. 매개변수로 토큰화된 문장의 list를 전달하는 대신 온전한 문장의 list를 전달\n",
    "- 2. 생성된 vocab 파일을 읽어와 {<word> : <idx>} 형태를 가지는 word_index 사전과 {<idx> : <word>} 형태를 가지는 index_word 사전을 생성하고 함께 반환\n",
    "- 3. 리턴값인 tensor는 앞의 함수와 동일하게 토큰화한 후 Encoding된 문장입니다. 바로 학습에 사용할 수 있게 Padding하기"
   ]
  },
  {
   "cell_type": "code",
   "execution_count": 9,
   "id": "fcd40041",
   "metadata": {},
   "outputs": [],
   "source": [
    "def sp_tokenize(s, corpus): \n",
    "\n",
    "    tensor = []\n",
    "\n",
    "    for sen in corpus:\n",
    "        tensor.append(s.EncodeAsIds(sen))\n",
    "\n",
    "    with open(\"./spm/korean_spm.vocab\", 'r') as f:\n",
    "        vocab = f.readlines()\n",
    "\n",
    "    word_index = {}\n",
    "    index_word = {}\n",
    "\n",
    "    for idx, line in enumerate(vocab):\n",
    "        word = line.split(\"\\t\")[0]\n",
    "\n",
    "        word_index.update({word:idx})\n",
    "        index_word.update({idx:word})\n",
    "\n",
    "    tensor = tf.keras.preprocessing.sequence.pad_sequences(tensor, padding='post')\n",
    "\n",
    "    return tensor, word_index, index_word"
   ]
  },
  {
   "cell_type": "markdown",
   "id": "23cf2214",
   "metadata": {},
   "source": [
    "# 네이버 영화리뷰 감정 분석 문제에 SentencePiece 적용하기"
   ]
  },
  {
   "cell_type": "markdown",
   "id": "cb69140d",
   "metadata": {},
   "source": [
    "- 네이버 영화리뷰 감정 분석 코퍼스에 SentencePiece를 적용시킨 모델 학습하기\n",
    "- 학습된 모델로 sp_tokenize() 메소드 구현\n",
    "- 구현된 토크나이저를 적용하여 네이버 영화리뷰 감정 분석 모델 재학습\n",
    "- KoNLPy 형태소 분석기를 사용한 모델과 성능 비교하기\n",
    "- SentencePiece 모델의 model_type, vocab_size를 변경해 가면서 성능 개선 여부 확인\n",
    "    - vocab_size = 6000, 8000, 10000\n",
    "    - spm.SentencePieceTrainer.Train() : 모델 타입 변경\n",
    "        - unigram(기본값), bpe, word(단어 단위), char(문자 단위)"
   ]
  },
  {
   "cell_type": "markdown",
   "id": "2c1600ba",
   "metadata": {},
   "source": [
    "## 1. 네이버 영화리뷰 감정 분석 데이터 준비"
   ]
  },
  {
   "cell_type": "code",
   "execution_count": 10,
   "id": "ea1955db",
   "metadata": {},
   "outputs": [
    {
     "name": "stdout",
     "output_type": "stream",
     "text": [
      "         id                                           document  label\n",
      "0   9976970                                아 더빙.. 진짜 짜증나네요 목소리      0\n",
      "1   3819312                  흠...포스터보고 초딩영화줄....오버연기조차 가볍지 않구나      1\n",
      "2  10265843                                  너무재밓었다그래서보는것을추천한다      0\n",
      "3   9045019                      교도소 이야기구먼 ..솔직히 재미는 없다..평점 조정      0\n",
      "4   6483659  사이몬페그의 익살스런 연기가 돋보였던 영화!스파이더맨에서 늙어보이기만 했던 커스틴 ...      1\n",
      "        id                                           document  label\n",
      "0  6270596                                                굳 ㅋ      1\n",
      "1  9274899                               GDNTOPCLASSINTHECLUB      0\n",
      "2  8544678             뭐야 이 평점들은.... 나쁘진 않지만 10점 짜리는 더더욱 아니잖아      0\n",
      "3  6825595                   지루하지는 않은데 완전 막장임... 돈주고 보기에는....      0\n",
      "4  6723715  3D만 아니었어도 별 다섯 개 줬을텐데.. 왜 3D로 나와서 제 심기를 불편하게 하죠??      0\n"
     ]
    }
   ],
   "source": [
    "import pandas as pd\n",
    "train_url = 'https://raw.githubusercontent.com/e9t/nsmc/master/ratings_train.txt'\n",
    "test_url = 'https://raw.githubusercontent.com/e9t/nsmc/master/ratings_test.txt'\n",
    "train_data = pd.read_table(train_url)\n",
    "test_data = pd.read_table(test_url)\n",
    "\n",
    "# 확인\n",
    "print(train_data.head())\n",
    "print(test_data.head())"
   ]
  },
  {
   "cell_type": "code",
   "execution_count": 11,
   "id": "c04d3873",
   "metadata": {},
   "outputs": [
    {
     "data": {
      "text/plain": [
       "array([0, 1])"
      ]
     },
     "execution_count": 11,
     "metadata": {},
     "output_type": "execute_result"
    }
   ],
   "source": [
    "train_data['label'].unique()"
   ]
  },
  {
   "cell_type": "code",
   "execution_count": 12,
   "id": "f011d0e0",
   "metadata": {},
   "outputs": [
    {
     "name": "stdout",
     "output_type": "stream",
     "text": [
      "✔️ 중복 제거 전 문장 수: 149995\n",
      "✔️ 중복 제거 후 문장 수: 146182\n"
     ]
    }
   ],
   "source": [
    "# 텍스트만 추출\n",
    "train_corpus = [\n",
    "    str(s).strip()\n",
    "    for s in train_data['document']\n",
    "    if isinstance(s, str) and str(s).strip()\n",
    "]\n",
    "\n",
    "test_corpus = [\n",
    "    str(s).strip()\n",
    "    for s in test_data['document']\n",
    "    if isinstance(s, str) and str(s).strip()\n",
    "]\n",
    "\n",
    "# 중복 제거된 학습 코퍼스\n",
    "filtered_corpus = list(set(train_corpus))\n",
    "\n",
    "print(\"✔️ 중복 제거 전 문장 수:\", len(train_corpus))\n",
    "print(\"✔️ 중복 제거 후 문장 수:\", len(filtered_corpus))\n"
   ]
  },
  {
   "cell_type": "code",
   "execution_count": 13,
   "id": "442117be",
   "metadata": {},
   "outputs": [
    {
     "name": "stdout",
     "output_type": "stream",
     "text": [
      "문장의 최단 길이: 1\n",
      "문장의 최장 길이: 146\n",
      "문장의 평균 길이: 35\n"
     ]
    },
    {
     "data": {
      "image/png": "[encoded data removed]",
      "text/plain": [
       "<Figure size 432x288 with 1 Axes>"
      ]
     },
     "metadata": {
      "needs_background": "light"
     },
     "output_type": "display_data"
    }
   ],
   "source": [
    "# 문장 길이 분석\n",
    "#데이터의 중복 제거 \n",
    "min_len = 999\n",
    "max_len = 0\n",
    "sum_len = 0\n",
    "\n",
    "\n",
    "for sen in filtered_corpus:\n",
    "    length = len(sen)\n",
    "    if min_len > length: min_len = length\n",
    "    if max_len < length: max_len = length\n",
    "    sum_len += length\n",
    "\n",
    "print(\"문장의 최단 길이:\", min_len)\n",
    "print(\"문장의 최장 길이:\", max_len)\n",
    "print(\"문장의 평균 길이:\", sum_len // len(filtered_corpus))\n",
    "\n",
    "sentence_length = np.zeros((max_len), dtype=int)\n",
    "\n",
    "for sen in filtered_corpus:   # 중복이 제거된 코퍼스 기준\n",
    "    sentence_length[len(sen)-1] += 1\n",
    "\n",
    "plt.bar(range(max_len), sentence_length, width=1.0)\n",
    "plt.title(\"Sentence Length Distribution\")\n",
    "plt.show()"
   ]
  },
  {
   "cell_type": "code",
   "execution_count": 14,
   "id": "a0b51ffb",
   "metadata": {},
   "outputs": [],
   "source": [
    "# 문장 길이 5 이상만 사용\n",
    "filtered_corpus = [s for s in filtered_corpus if len(s) >= 5]"
   ]
  },
  {
   "cell_type": "markdown",
   "id": "e3c8f7fd",
   "metadata": {},
   "source": [
    "max_len = 100 으로 설정"
   ]
  },
  {
   "cell_type": "markdown",
   "id": "07d33ebc",
   "metadata": {},
   "source": [
    "## 2. SentencePiece 학습용 파일 생성"
   ]
  },
  {
   "cell_type": "code",
   "execution_count": 15,
   "id": "840a2c4a",
   "metadata": {},
   "outputs": [],
   "source": [
    "import os\n",
    "def write_temp_file(corpus, save_path):\n",
    "    with open(save_path, 'w') as f:\n",
    "        for line in corpus:\n",
    "            if line.strip():\n",
    "                f.write(line.strip() + '\\n')\n",
    "\n",
    "temp_file = os.path.expanduser('~/sp_corpus.txt')\n",
    "write_temp_file(train_corpus, temp_file)"
   ]
  },
  {
   "cell_type": "code",
   "execution_count": 16,
   "id": "791277ad",
   "metadata": {},
   "outputs": [
    {
     "name": "stdout",
     "output_type": "stream",
     "text": [
      "Requirement already satisfied: konlpy in /opt/conda/lib/python3.9/site-packages (0.5.2)\n",
      "Requirement already satisfied: JPype1>=0.7.0 in /opt/conda/lib/python3.9/site-packages (from konlpy) (1.3.0)\n",
      "Requirement already satisfied: numpy>=1.6 in /opt/conda/lib/python3.9/site-packages (from konlpy) (1.21.4)\n",
      "Requirement already satisfied: colorama in /opt/conda/lib/python3.9/site-packages (from konlpy) (0.4.4)\n",
      "Requirement already satisfied: beautifulsoup4==4.6.0 in /opt/conda/lib/python3.9/site-packages (from konlpy) (4.6.0)\n",
      "Requirement already satisfied: tweepy>=3.7.0 in /opt/conda/lib/python3.9/site-packages (from konlpy) (3.10.0)\n",
      "Requirement already satisfied: lxml>=4.1.0 in /opt/conda/lib/python3.9/site-packages (from konlpy) (4.6.3)\n",
      "Requirement already satisfied: requests-oauthlib>=0.7.0 in /opt/conda/lib/python3.9/site-packages (from tweepy>=3.7.0->konlpy) (1.3.0)\n",
      "Requirement already satisfied: requests[socks]>=2.11.1 in /opt/conda/lib/python3.9/site-packages (from tweepy>=3.7.0->konlpy) (2.26.0)\n",
      "Requirement already satisfied: six>=1.10.0 in /opt/conda/lib/python3.9/site-packages (from tweepy>=3.7.0->konlpy) (1.16.0)\n",
      "Requirement already satisfied: oauthlib>=3.0.0 in /opt/conda/lib/python3.9/site-packages (from requests-oauthlib>=0.7.0->tweepy>=3.7.0->konlpy) (3.1.1)\n",
      "Requirement already satisfied: idna<4,>=2.5 in /opt/conda/lib/python3.9/site-packages (from requests[socks]>=2.11.1->tweepy>=3.7.0->konlpy) (2.10)\n",
      "Requirement already satisfied: certifi>=2017.4.17 in /opt/conda/lib/python3.9/site-packages (from requests[socks]>=2.11.1->tweepy>=3.7.0->konlpy) (2021.10.8)\n",
      "Requirement already satisfied: urllib3<1.27,>=1.21.1 in /opt/conda/lib/python3.9/site-packages (from requests[socks]>=2.11.1->tweepy>=3.7.0->konlpy) (1.26.7)\n",
      "Requirement already satisfied: charset-normalizer~=2.0.0 in /opt/conda/lib/python3.9/site-packages (from requests[socks]>=2.11.1->tweepy>=3.7.0->konlpy) (2.0.8)\n",
      "Requirement already satisfied: PySocks!=1.5.7,>=1.5.6 in /opt/conda/lib/python3.9/site-packages (from requests[socks]>=2.11.1->tweepy>=3.7.0->konlpy) (1.7.1)\n",
      "\u001b[33mWARNING: Running pip as the 'root' user can result in broken permissions and conflicting behaviour with the system package manager. It is recommended to use a virtual environment instead: https://pip.pypa.io/warnings/venv\u001b[0m\n"
     ]
    }
   ],
   "source": [
    "!pip install konlpy"
   ]
  },
  {
   "cell_type": "markdown",
   "id": "9f004a5b",
   "metadata": {},
   "source": [
    "## 3. SentencePiece 모델 학습\n",
    "- vocab_size = 8000\n",
    "- model_type = unigram"
   ]
  },
  {
   "cell_type": "code",
   "execution_count": 17,
   "id": "7bf3ffc8",
   "metadata": {},
   "outputs": [
    {
     "name": "stderr",
     "output_type": "stream",
     "text": [
      "sentencepiece_trainer.cc(177) LOG(INFO) Running command: --input=/aiffel/sp_corpus.txt --model_prefix=spm_unigram_8000 --vocab_size=8000 --model_type=unigram\n",
      "sentencepiece_trainer.cc(77) LOG(INFO) Starts training with : \n",
      "trainer_spec {\n",
      "  input: /aiffel/sp_corpus.txt\n",
      "  input_format: \n",
      "  model_prefix: spm_unigram_8000\n",
      "  model_type: UNIGRAM\n",
      "  vocab_size: 8000\n",
      "  self_test_sample_size: 0\n",
      "  character_coverage: 0.9995\n",
      "  input_sentence_size: 0\n",
      "  shuffle_input_sentence: 1\n",
      "  seed_sentencepiece_size: 1000000\n",
      "  shrinking_factor: 0.75\n",
      "  max_sentence_length: 4192\n",
      "  num_threads: 16\n",
      "  num_sub_iterations: 2\n",
      "  max_sentencepiece_length: 16\n",
      "  split_by_unicode_script: 1\n",
      "  split_by_number: 1\n",
      "  split_by_whitespace: 1\n",
      "  split_digits: 0\n",
      "  treat_whitespace_as_suffix: 0\n",
      "  allow_whitespace_only_pieces: 0\n",
      "  required_chars: \n",
      "  byte_fallback: 0\n",
      "  vocabulary_output_piece_score: 1\n",
      "  train_extremely_large_corpus: 0\n",
      "  hard_vocab_limit: 1\n",
      "  use_all_vocab: 0\n",
      "  unk_id: 0\n",
      "  bos_id: 1\n",
      "  eos_id: 2\n",
      "  pad_id: -1\n",
      "  unk_piece: <unk>\n",
      "  bos_piece: <s>\n",
      "  eos_piece: </s>\n",
      "  pad_piece: <pad>\n",
      "  unk_surface:  ⁇ \n",
      "}\n",
      "normalizer_spec {\n",
      "  name: nmt_nfkc\n",
      "  add_dummy_prefix: 1\n",
      "  remove_extra_whitespaces: 1\n",
      "  escape_whitespaces: 1\n",
      "  normalization_rule_tsv: \n",
      "}\n",
      "denormalizer_spec {}\n",
      "trainer_interface.cc(329) LOG(INFO) SentenceIterator is not specified. Using MultiFileSentenceIterator.\n",
      "trainer_interface.cc(178) LOG(INFO) Loading corpus: /aiffel/sp_corpus.txt\n",
      "trainer_interface.cc(385) LOG(INFO) Loaded all 144090 sentences\n",
      "trainer_interface.cc(400) LOG(INFO) Adding meta_piece: <unk>\n",
      "trainer_interface.cc(400) LOG(INFO) Adding meta_piece: <s>\n",
      "trainer_interface.cc(400) LOG(INFO) Adding meta_piece: </s>\n",
      "trainer_interface.cc(405) LOG(INFO) Normalizing sentences...\n",
      "trainer_interface.cc(466) LOG(INFO) all chars count=5397332\n",
      "trainer_interface.cc(477) LOG(INFO) Done: 99.95% characters are covered.\n",
      "trainer_interface.cc(487) LOG(INFO) Alphabet size=1708\n",
      "trainer_interface.cc(488) LOG(INFO) Final character coverage=0.9995\n",
      "trainer_interface.cc(520) LOG(INFO) Done! preprocessed 144090 sentences.\n",
      "unigram_model_trainer.cc(139) LOG(INFO) Making suffix array...\n",
      "unigram_model_trainer.cc(143) LOG(INFO) Extracting frequent sub strings...\n",
      "unigram_model_trainer.cc(194) LOG(INFO) Initialized 308664 seed sentencepieces\n",
      "trainer_interface.cc(526) LOG(INFO) Tokenizing input sentences with whitespace: 144090\n",
      "trainer_interface.cc(537) LOG(INFO) Done! 356817\n",
      "unigram_model_trainer.cc(489) LOG(INFO) Using 356817 sentences for EM training\n",
      "unigram_model_trainer.cc(505) LOG(INFO) EM sub_iter=0 size=157663 obj=15.4586 num_tokens=841721 num_tokens/piece=5.33874\n",
      "unigram_model_trainer.cc(505) LOG(INFO) EM sub_iter=1 size=145879 obj=14.3911 num_tokens=847053 num_tokens/piece=5.80655\n",
      "unigram_model_trainer.cc(505) LOG(INFO) EM sub_iter=0 size=109350 obj=14.4887 num_tokens=882455 num_tokens/piece=8.07\n",
      "unigram_model_trainer.cc(505) LOG(INFO) EM sub_iter=1 size=109168 obj=14.4328 num_tokens=883223 num_tokens/piece=8.09049\n",
      "unigram_model_trainer.cc(505) LOG(INFO) EM sub_iter=0 size=81874 obj=14.6692 num_tokens=927183 num_tokens/piece=11.3245\n",
      "unigram_model_trainer.cc(505) LOG(INFO) EM sub_iter=1 size=81863 obj=14.6077 num_tokens=927367 num_tokens/piece=11.3283\n",
      "unigram_model_trainer.cc(505) LOG(INFO) EM sub_iter=0 size=61397 obj=14.8676 num_tokens=969179 num_tokens/piece=15.7854\n",
      "unigram_model_trainer.cc(505) LOG(INFO) EM sub_iter=1 size=61397 obj=14.8069 num_tokens=969242 num_tokens/piece=15.7865\n",
      "unigram_model_trainer.cc(505) LOG(INFO) EM sub_iter=0 size=46047 obj=15.0975 num_tokens=1014089 num_tokens/piece=22.0229\n",
      "unigram_model_trainer.cc(505) LOG(INFO) EM sub_iter=1 size=46047 obj=15.0331 num_tokens=1014094 num_tokens/piece=22.023\n",
      "unigram_model_trainer.cc(505) LOG(INFO) EM sub_iter=0 size=34535 obj=15.3574 num_tokens=1060395 num_tokens/piece=30.7049\n",
      "unigram_model_trainer.cc(505) LOG(INFO) EM sub_iter=1 size=34535 obj=15.2909 num_tokens=1060452 num_tokens/piece=30.7066\n",
      "unigram_model_trainer.cc(505) LOG(INFO) EM sub_iter=0 size=25901 obj=15.6489 num_tokens=1108292 num_tokens/piece=42.7895\n",
      "unigram_model_trainer.cc(505) LOG(INFO) EM sub_iter=1 size=25901 obj=15.5763 num_tokens=1108316 num_tokens/piece=42.7905\n",
      "unigram_model_trainer.cc(505) LOG(INFO) EM sub_iter=0 size=19425 obj=15.9624 num_tokens=1158330 num_tokens/piece=59.6309\n",
      "unigram_model_trainer.cc(505) LOG(INFO) EM sub_iter=1 size=19425 obj=15.8822 num_tokens=1158343 num_tokens/piece=59.6316\n",
      "unigram_model_trainer.cc(505) LOG(INFO) EM sub_iter=0 size=14568 obj=16.3059 num_tokens=1211724 num_tokens/piece=83.1771\n",
      "unigram_model_trainer.cc(505) LOG(INFO) EM sub_iter=1 size=14568 obj=16.2139 num_tokens=1211730 num_tokens/piece=83.1775\n",
      "unigram_model_trainer.cc(505) LOG(INFO) EM sub_iter=0 size=10926 obj=16.6826 num_tokens=1268996 num_tokens/piece=116.145\n",
      "unigram_model_trainer.cc(505) LOG(INFO) EM sub_iter=1 size=10926 obj=16.5715 num_tokens=1269011 num_tokens/piece=116.146\n",
      "unigram_model_trainer.cc(505) LOG(INFO) EM sub_iter=0 size=8800 obj=16.9543 num_tokens=1314006 num_tokens/piece=149.319\n",
      "unigram_model_trainer.cc(505) LOG(INFO) EM sub_iter=1 size=8800 obj=16.8711 num_tokens=1314190 num_tokens/piece=149.34\n",
      "trainer_interface.cc(6"
     ]
    }
   ],
   "source": [
    "# SentencePiece 모델 학습 과정\n",
    "import sentencepiece as spm\n",
    "import os\n",
    "vocab_size = 8000   \n",
    "\n",
    "with open(temp_file, 'w') as f:\n",
    "    for row in filtered_corpus:\n",
    "        f.write(str(row) + '\\n')\n",
    "        \n",
    "spm.SentencePieceTrainer.Train(\n",
    "    f\"--input={temp_file} --model_prefix=spm_unigram_8000 --vocab_size=8000 --model_type=unigram\"\n",
    ")"
   ]
  },
  {
   "cell_type": "code",
   "execution_count": 18,
   "id": "8483ef9f",
   "metadata": {},
   "outputs": [
    {
     "name": "stdout",
     "output_type": "stream",
     "text": [
      "[1838, 8, 5091, 157, 1425, 32, 297, 61, 163, 426, 355, 1342, 7039, 821, 406]\n",
      "['▁흠', '...', '포스터', '보고', '▁초딩', '영화', '줄', '....', '오', '버', '연기', '조차', '▁가볍지', '▁않', '구나']\n",
      "흠...포스터보고 초딩영화줄....오버연기조차 가볍지 않구나\n"
     ]
    },
    {
     "name": "stderr",
     "output_type": "stream",
     "text": [
      "15) LOG(INFO) Saving model: spm_unigram_8000.model\n",
      "trainer_interface.cc(626) LOG(INFO) Saving vocabs: spm_unigram_8000.vocab\n"
     ]
    }
   ],
   "source": [
    "#SentencePice 모델 활용\n",
    "s = spm.SentencePieceProcessor()\n",
    "s.Load('spm_unigram_8000.model')\n",
    "\n",
    "#SentencePiece를 활용한 sentence -> encoding\n",
    "tokensIDs = s.EncodeAsIds('흠...포스터보고 초딩영화줄....오버연기조차 가볍지 않구나')\n",
    "print(tokensIDs)\n",
    "\n",
    "#SentencePIece를 활용한 sentence -> encoded pieces\n",
    "print(s.SampleEncodeAsPieces('흠...포스터보고 초딩영화줄....오버연기조차 가볍지 않구나', 1, 0.0))\n",
    "\n",
    "#SentencePiece를 활용한 encoding -> sentence 복원\n",
    "print(s.DecodeIds(tokensIDs))"
   ]
  },
  {
   "cell_type": "markdown",
   "id": "54222fff",
   "metadata": {},
   "source": [
    "## 4. sp_tokenize() 구현"
   ]
  },
  {
   "cell_type": "code",
   "execution_count": 19,
   "id": "b31fa78d",
   "metadata": {},
   "outputs": [],
   "source": [
    "import tensorflow as tf\n",
    "from tensorflow.keras.preprocessing.sequence import pad_sequences\n",
    "import sentencepiece as spm\n",
    "\n",
    "def sp_tokenize(model_path, corpus, vocab_path=None, max_len=100):\n",
    "    sp = spm.SentencePieceProcessor()\n",
    "    sp.load(model_path)\n",
    "\n",
    "    # 토큰화 후 시퀀스 생성\n",
    "    tensor = [sp.encode_as_ids(str(s)) for s in corpus]\n",
    "    tensor = pad_sequences(tensor, padding='post', maxlen=max_len)\n",
    "\n",
    "    # vocab 파일 경로 자동 처리\n",
    "    if vocab_path is None:\n",
    "        vocab_path = model_path.replace(\".model\", \".vocab\")\n",
    "\n",
    "    # vocab 파일에서 인덱스 ↔ 서브워드 사전 구성\n",
    "    word_index = {}\n",
    "    index_word = {}\n",
    "\n",
    "    with open(vocab_path, 'r', encoding='utf-8') as f:\n",
    "        for idx, line in enumerate(f):\n",
    "            token = line.split('\\t')[0]\n",
    "            word_index[token] = idx\n",
    "            index_word[idx] = token\n",
    "\n",
    "    return tensor, word_index, index_word\n"
   ]
  },
  {
   "cell_type": "code",
   "execution_count": 20,
   "id": "ae0cb7ba",
   "metadata": {},
   "outputs": [],
   "source": [
    "# import tensorflow as tf\n",
    "# from tensorflow.keras.preprocessing.sequence import pad_sequences\n",
    "\n",
    "# def sp_tokenize(model_path, corpus, max_len=100):\n",
    "#     import sentencepiece as spm\n",
    "#     sp = spm.SentencePieceProcessor()\n",
    "#     sp.load(model_path)\n",
    "#     tensor = [sp.encode_as_ids(str(s)) for s in corpus]\n",
    "#     return pad_sequences(tensor, padding='post', maxlen=max_len), sp.get_piece_size()"
   ]
  },
  {
   "cell_type": "code",
   "execution_count": 21,
   "id": "2a28893b",
   "metadata": {},
   "outputs": [],
   "source": [
    "# def sp_tokenize(s, corpus): \n",
    "\n",
    "#     tensor = []\n",
    "\n",
    "#     for sen in corpus:\n",
    "#         tensor.append(s.EncodeAsIds(sen))\n",
    "\n",
    "#     with open(temp_file, 'r') as f:\n",
    "#         vocab = f.readlines()\n",
    "\n",
    "#     word_index = {}\n",
    "#     index_word = {}\n",
    "\n",
    "#     for idx, line in enumerate(vocab):\n",
    "#         word = line.split(\"\\t\")[0]\n",
    "\n",
    "#         word_index.update({word:idx})\n",
    "#         index_word.update({idx:word})\n",
    "\n",
    "#     tensor = tf.keras.preprocessing.sequence.pad_sequences(tensor, padding='post')\n",
    "\n",
    "#     return tensor, word_index, index_word"
   ]
  },
  {
   "cell_type": "markdown",
   "id": "b57b9ee8",
   "metadata": {},
   "source": [
    "## 3. SentencePiece 기반 RNN 모델 학습"
   ]
  },
  {
   "cell_type": "markdown",
   "id": "b6a01716",
   "metadata": {},
   "source": [
    "### unigram, vocab_size = 8000\n",
    "- test accuracy : 0.7266"
   ]
  },
  {
   "cell_type": "code",
   "execution_count": 22,
   "id": "d403cbb8",
   "metadata": {},
   "outputs": [
    {
     "name": "stdout",
     "output_type": "stream",
     "text": [
      "Epoch 1/10\n",
      "938/938 [==============================] - 72s 75ms/step - loss: 0.6940 - accuracy: 0.5036 - val_loss: 0.6941 - val_accuracy: 0.4996\n",
      "Epoch 2/10\n",
      "938/938 [==============================] - 70s 75ms/step - loss: 0.6890 - accuracy: 0.5286 - val_loss: 0.6521 - val_accuracy: 0.6455\n",
      "Epoch 3/10\n",
      "938/938 [==============================] - 70s 75ms/step - loss: 0.6039 - accuracy: 0.6862 - val_loss: 0.7493 - val_accuracy: 0.4542\n",
      "Epoch 4/10\n",
      "938/938 [==============================] - 71s 76ms/step - loss: 0.5836 - accuracy: 0.6999 - val_loss: 0.5658 - val_accuracy: 0.7057\n",
      "Epoch 5/10\n",
      "938/938 [==============================] - 72s 77ms/step - loss: 0.5313 - accuracy: 0.7350 - val_loss: 0.5530 - val_accuracy: 0.7114\n",
      "Epoch 6/10\n",
      "938/938 [==============================] - 71s 76ms/step - loss: 0.5084 - accuracy: 0.7492 - val_loss: 0.5867 - val_accuracy: 0.7053\n",
      "Epoch 7/10\n",
      "938/938 [==============================] - 71s 76ms/step - loss: 0.4849 - accuracy: 0.7648 - val_loss: 0.5520 - val_accuracy: 0.7186\n",
      "Epoch 8/10\n",
      "938/938 [==============================] - 72s 77ms/step - loss: 0.4863 - accuracy: 0.7613 - val_loss: 0.5688 - val_accuracy: 0.7042\n",
      "Epoch 9/10\n",
      "938/938 [==============================] - 72s 77ms/step - loss: 0.4655 - accuracy: 0.7757 - val_loss: 0.5406 - val_accuracy: 0.7275\n",
      "Epoch 10/10\n",
      "938/938 [==============================] - 71s 76ms/step - loss: 0.4525 - accuracy: 0.7847 - val_loss: 0.5402 - val_accuracy: 0.7288\n",
      "1563/1563 [==============================] - 13s 8ms/step - loss: 0.5449 - accuracy: 0.7266\n",
      "✅ SentencePiece + RNN Test Accuracy: 0.7266\n"
     ]
    }
   ],
   "source": [
    "from tensorflow.keras.models import Sequential\n",
    "from tensorflow.keras.layers import Embedding, SimpleRNN, Dense, LSTM\n",
    "from tensorflow.keras.callbacks import EarlyStopping\n",
    "\n",
    "\n",
    "def build_rnn_model(vocab_size):\n",
    "    model = Sequential([\n",
    "        Embedding(vocab_size, 128),\n",
    "        SimpleRNN(64),\n",
    "        Dense(1, activation='sigmoid')\n",
    "    ])\n",
    "    model.compile(optimizer='adam', loss='binary_crossentropy', metrics=['accuracy'])\n",
    "    return model\n",
    "\n",
    "# ✅ 올바른 전처리\n",
    "X_train_sp, word_index, index_word = sp_tokenize(\"spm_unigram_8000.model\", train_data['document'])\n",
    "X_test_sp, _, _ = sp_tokenize(\"spm_unigram_8000.model\", test_data['document'])\n",
    "vocab_size = len(word_index)\n",
    "\n",
    "y_train, y_test = train_data['label'].values, test_data['label'].values\n",
    "\n",
    "# ✅ 학습\n",
    "model_sp = build_rnn_model(vocab_size)\n",
    "early_stop = EarlyStopping(monitor='val_loss', patience=2, restore_best_weights=True)\n",
    "model_sp.fit(X_train_sp, y_train, epochs=10, batch_size=128, validation_split=0.2, callbacks = [early_stop])\n",
    "\n",
    "# ✅ 평가\n",
    "acc_sp = model_sp.evaluate(X_test_sp, y_test)[1]\n",
    "print(f\"✅ SentencePiece + RNN Test Accuracy: {acc_sp:.4f}\")\n"
   ]
  },
  {
   "cell_type": "code",
   "execution_count": 31,
   "id": "10c0d5a7",
   "metadata": {},
   "outputs": [],
   "source": [
    "# import sentencepiece as spm\n",
    "\n",
    "# vocab_sizes = [10000]\n",
    "# model_types = ['bpe', 'word', 'char']\n",
    "\n",
    "# for vocab_size in vocab_sizes:\n",
    "#     for model_type in model_types:\n",
    "#         prefix = f'spm_{model_type}_{vocab_size}'\n",
    "#         spm.SentencePieceTrainer.Train(\n",
    "#             f'--input={temp_file} --model_prefix={prefix} '\n",
    "#             f'--vocab_size={vocab_size} --model_type={model_type}'\n",
    "#         )\n"
   ]
  },
  {
   "cell_type": "markdown",
   "id": "e23854e4",
   "metadata": {},
   "source": [
    "### bpe, vocab_size = 8000\n",
    "- test accuracy : 0.7034"
   ]
  },
  {
   "cell_type": "code",
   "execution_count": 27,
   "id": "5fa3edcd",
   "metadata": {},
   "outputs": [
    {
     "name": "stdout",
     "output_type": "stream",
     "text": [
      "Epoch 1/10\n",
      "938/938 [==============================] - 71s 75ms/step - loss: 0.6942 - accuracy: 0.5068 - val_loss: 0.6769 - val_accuracy: 0.5789\n",
      "Epoch 2/10\n",
      "938/938 [==============================] - 70s 75ms/step - loss: 0.6346 - accuracy: 0.6517 - val_loss: 0.6450 - val_accuracy: 0.6603\n",
      "Epoch 3/10\n",
      "938/938 [==============================] - 70s 74ms/step - loss: 0.5847 - accuracy: 0.7023 - val_loss: 0.5908 - val_accuracy: 0.6958\n",
      "Epoch 4/10\n",
      "938/938 [==============================] - 70s 75ms/step - loss: 0.5701 - accuracy: 0.7143 - val_loss: 0.5707 - val_accuracy: 0.7037\n",
      "Epoch 5/10\n",
      "938/938 [==============================] - 70s 75ms/step - loss: 0.5651 - accuracy: 0.7149 - val_loss: 0.5976 - val_accuracy: 0.6890\n",
      "Epoch 6/10\n",
      "938/938 [==============================] - 70s 75ms/step - loss: 0.6694 - accuracy: 0.6027 - val_loss: 0.6776 - val_accuracy: 0.5878\n",
      "1563/1563 [==============================] - 13s 8ms/step - loss: 0.5725 - accuracy: 0.7034\n",
      "✅ SentencePiece(bpe, 8000) + RNN Test Accuracy: 0.7034\n"
     ]
    }
   ],
   "source": [
    "# ✅ 올바른 전처리\n",
    "X_train_sp, word_index, index_word = sp_tokenize(\"korean_spm_bpe_8000.model\", train_data['document'])\n",
    "X_test_sp, _, _ = sp_tokenize(\"korean_spm_bpe_8000.model\", test_data['document'])\n",
    "vocab_size = len(word_index)\n",
    "\n",
    "y_train, y_test = train_data['label'].values, test_data['label'].values\n",
    "\n",
    "# ✅ 학습\n",
    "model_sp = build_rnn_model(vocab_size)\n",
    "early_stop = EarlyStopping(monitor='val_loss', patience=2, restore_best_weights=True)\n",
    "model_sp.fit(X_train_sp, y_train, epochs=10, batch_size=128, validation_split=0.2, callbacks = [early_stop])\n",
    "\n",
    "# ✅ 평가\n",
    "acc_sp = model_sp.evaluate(X_test_sp, y_test)[1]\n",
    "print(f\"✅ SentencePiece(bpe, 8000) + RNN Test Accuracy: {acc_sp:.4f}\")"
   ]
  },
  {
   "cell_type": "markdown",
   "id": "80e4c892",
   "metadata": {},
   "source": [
    "## bpe, vocabsize=10000\n",
    "- test accuracy = 0.7780"
   ]
  },
  {
   "cell_type": "code",
   "execution_count": 28,
   "id": "777fb6ff",
   "metadata": {},
   "outputs": [
    {
     "name": "stdout",
     "output_type": "stream",
     "text": [
      "Epoch 1/10\n",
      "938/938 [==============================] - 72s 75ms/step - loss: 0.6636 - accuracy: 0.5976 - val_loss: 0.6217 - val_accuracy: 0.6694\n",
      "Epoch 2/10\n",
      "938/938 [==============================] - 71s 75ms/step - loss: 0.6040 - accuracy: 0.6913 - val_loss: 0.5984 - val_accuracy: 0.7082\n",
      "Epoch 3/10\n",
      "938/938 [==============================] - 70s 75ms/step - loss: 0.5377 - accuracy: 0.7429 - val_loss: 0.5597 - val_accuracy: 0.7324\n",
      "Epoch 4/10\n",
      "938/938 [==============================] - 73s 77ms/step - loss: 0.4902 - accuracy: 0.7727 - val_loss: 0.5153 - val_accuracy: 0.7513\n",
      "Epoch 5/10\n",
      "938/938 [==============================] - 74s 78ms/step - loss: 0.4548 - accuracy: 0.7937 - val_loss: 0.5000 - val_accuracy: 0.7588\n",
      "Epoch 6/10\n",
      "938/938 [==============================] - 74s 79ms/step - loss: 0.4232 - accuracy: 0.8134 - val_loss: 0.4713 - val_accuracy: 0.7846\n",
      "Epoch 7/10\n",
      "938/938 [==============================] - 72s 76ms/step - loss: 0.5136 - accuracy: 0.7410 - val_loss: 0.6640 - val_accuracy: 0.6614\n",
      "Epoch 8/10\n",
      "938/938 [==============================] - 71s 76ms/step - loss: 0.4696 - accuracy: 0.7890 - val_loss: 0.4788 - val_accuracy: 0.7900\n",
      "1563/1563 [==============================] - 13s 8ms/step - loss: 0.4822 - accuracy: 0.7780\n",
      "✅ SentencePiece(bpe, 8000) + RNN Test Accuracy: 0.7780\n"
     ]
    }
   ],
   "source": [
    "# ✅ 올바른 전처리\n",
    "X_train_sp, word_index, index_word = sp_tokenize(\"spm_bpe_10000.model\", train_data['document'])\n",
    "X_test_sp, _, _ = sp_tokenize(\"spm_bpe_10000.model\", test_data['document'])\n",
    "vocab_size = len(word_index)\n",
    "\n",
    "y_train, y_test = train_data['label'].values, test_data['label'].values\n",
    "\n",
    "# ✅ 학습\n",
    "model_sp = build_rnn_model(vocab_size)\n",
    "early_stop = EarlyStopping(monitor='val_loss', patience=2, restore_best_weights=True)\n",
    "model_sp.fit(X_train_sp, y_train, epochs=10, batch_size=128, validation_split=0.2, callbacks = [early_stop])\n",
    "\n",
    "# ✅ 평가\n",
    "acc_sp = model_sp.evaluate(X_test_sp, y_test)[1]\n",
    "print(f\"✅ SentencePiece(bpe, 8000) + RNN Test Accuracy: {acc_sp:.4f}\")"
   ]
  },
  {
   "cell_type": "code",
   "execution_count": 29,
   "id": "4ff0bf76",
   "metadata": {},
   "outputs": [],
   "source": [
    "# import sentencepiece as spm\n",
    "# import os\n",
    "# vocab_size = 10000   \n",
    "\n",
    "# with open(temp_file, 'w') as f:\n",
    "#     for row in filtered_corpus:\n",
    "#         f.write(str(row) + '\\n')\n",
    "        \n",
    "# spm.SentencePieceTrainer.Train(\n",
    "#     f\"--input={temp_file} --model_prefix=spm_unigram_10000 --vocab_size=10000 --model_type=unigram\"\n",
    "# )"
   ]
  },
  {
   "cell_type": "markdown",
   "id": "f2e5878c",
   "metadata": {},
   "source": [
    "### unigram, vocab_size = 10000\n",
    "- test accuracy : 0.8381"
   ]
  },
  {
   "cell_type": "code",
   "execution_count": 30,
   "id": "918e8867",
   "metadata": {},
   "outputs": [
    {
     "name": "stdout",
     "output_type": "stream",
     "text": [
      "Epoch 1/10\n",
      "938/938 [==============================] - 72s 76ms/step - loss: 0.5765 - accuracy: 0.7007 - val_loss: 0.4915 - val_accuracy: 0.7726\n",
      "Epoch 2/10\n",
      "938/938 [==============================] - 71s 75ms/step - loss: 0.3934 - accuracy: 0.8313 - val_loss: 0.3656 - val_accuracy: 0.8454\n",
      "Epoch 3/10\n",
      "938/938 [==============================] - 70s 75ms/step - loss: 0.3284 - accuracy: 0.8643 - val_loss: 0.3662 - val_accuracy: 0.8445\n",
      "Epoch 4/10\n",
      "938/938 [==============================] - 70s 75ms/step - loss: 0.3010 - accuracy: 0.8780 - val_loss: 0.3736 - val_accuracy: 0.8434\n",
      "1563/1563 [==============================] - 13s 9ms/step - loss: 0.3751 - accuracy: 0.8381\n",
      "✅ SentencePiece(unigram, 10000) + RNN Test Accuracy: 0.8381\n"
     ]
    }
   ],
   "source": [
    "# ✅ 올바른 전처리\n",
    "X_train_sp, word_index, index_word = sp_tokenize(\"spm_unigram_10000.model\", train_data['document'])\n",
    "X_test_sp, _, _ = sp_tokenize(\"spm_unigram_10000.model\", test_data['document'])\n",
    "vocab_size = len(word_index)\n",
    "\n",
    "y_train, y_test = train_data['label'].values, test_data['label'].values\n",
    "\n",
    "# ✅ 학습\n",
    "model_sp = build_rnn_model(vocab_size)\n",
    "early_stop = EarlyStopping(monitor='val_loss', patience=2, restore_best_weights=True)\n",
    "model_sp.fit(X_train_sp, y_train, epochs=10, batch_size=128, validation_split=0.2, callbacks = [early_stop])\n",
    "\n",
    "# ✅ 평가\n",
    "acc_sp = model_sp.evaluate(X_test_sp, y_test)[1]\n",
    "print(f\"✅ SentencePiece(unigram, 10000) + RNN Test Accuracy: {acc_sp:.4f}\")"
   ]
  },
  {
   "cell_type": "code",
   "execution_count": null,
   "id": "d2dfc2f9",
   "metadata": {},
   "outputs": [],
   "source": [
    "### word, "
   ]
  },
  {
   "cell_type": "markdown",
   "id": "15903e06",
   "metadata": {},
   "source": [
    "## KoNLPy okt 형태소 분석기를 사용한 전처리 및 모델 학습\n",
    "- test accuracy: 0.8374"
   ]
  },
  {
   "cell_type": "code",
   "execution_count": 40,
   "id": "38ab89b9",
   "metadata": {},
   "outputs": [],
   "source": [
    "from konlpy.tag import Okt\n",
    "import re\n",
    "from tensorflow.keras.preprocessing.text import Tokenizer\n",
    "\n",
    "okt = Okt()\n",
    "def okt_tokenize(text):\n",
    "    text = re.sub(r\"[^ㄱ-ㅎㅏ-ㅣ가-힣 ]\", \"\", str(text))\n",
    "    return okt.morphs(text, stem=True)\n",
    "\n",
    "train_data['okt_tokens'] = train_data['document'].apply(okt_tokenize)\n",
    "test_data['okt_tokens'] = test_data['document'].apply(okt_tokenize)\n",
    "\n",
    "tokenizer = Tokenizer()\n",
    "tokenizer.fit_on_texts(train_data['okt_tokens'])\n",
    "\n",
    "X_train_okt = pad_sequences(tokenizer.texts_to_sequences(train_data['okt_tokens']), maxlen=100)\n",
    "X_test_okt = pad_sequences(tokenizer.texts_to_sequences(test_data['okt_tokens']), maxlen=100)\n",
    "\n",
    "# model_okt = build_rnn_model(len(tokenizer.word_index)+1)\n",
    "# model_okt.fit(X_train_okt, y_train, epochs=3, batch_size=128, validation_split=0.2)\n",
    "# acc_okt = model_okt.evaluate(X_test_okt, y_test)[1]\n",
    "# print(f\"✅ KoNLPy (Okt) + RNN Test Accuracy: {acc_okt:.4f}\")"
   ]
  },
  {
   "cell_type": "code",
   "execution_count": 41,
   "id": "261c0a5a",
   "metadata": {},
   "outputs": [
    {
     "name": "stdout",
     "output_type": "stream",
     "text": [
      "Epoch 1/10\n",
      "938/938 [==============================] - 79s 83ms/step - loss: 0.4175 - accuracy: 0.8063 - val_loss: 0.3667 - val_accuracy: 0.8400\n",
      "Epoch 2/10\n",
      "938/938 [==============================] - 77s 82ms/step - loss: 0.2933 - accuracy: 0.8783 - val_loss: 0.3866 - val_accuracy: 0.8330\n",
      "Epoch 3/10\n",
      "938/938 [==============================] - 76s 81ms/step - loss: 0.1898 - accuracy: 0.9265 - val_loss: 0.4614 - val_accuracy: 0.8288\n",
      "1563/1563 [==============================] - 13s 8ms/step - loss: 0.3743 - accuracy: 0.8374\n",
      "✅ KoNLPy (Okt) + RNN Test Accuracy: 0.8374\n"
     ]
    }
   ],
   "source": [
    "model_okt = build_rnn_model(len(tokenizer.word_index)+1)\n",
    "early_stop = EarlyStopping(monitor='val_loss', patience=2, restore_best_weights=True)\n",
    "model_okt.fit(X_train_okt, y_train, epochs=10, batch_size=128, validation_split=0.2, callbacks = [early_stop])\n",
    "acc_okt = model_okt.evaluate(X_test_okt, y_test)[1]\n",
    "print(f\"✅ KoNLPy (Okt) + RNN Test Accuracy: {acc_okt:.4f}\")"
   ]
  },
  {
   "cell_type": "markdown",
   "id": "8b23bcdf",
   "metadata": {},
   "source": [
    "## KoNLPy Mecab을 사용한 전처리 및 모델 학습\n",
    "- test accuracy : 0.8422"
   ]
  },
  {
   "cell_type": "code",
   "execution_count": 38,
   "id": "4575bd59",
   "metadata": {},
   "outputs": [],
   "source": [
    "# !sudo apt-get install -y g++ openjdk-8-jdk python3-dev python3-pip curl\n",
    "# !pip install -y konlpy\n",
    "# !curl -s https://raw.githubusercontent.com/konlpy/konlpy/master/scripts/mecab.sh | bash\n"
   ]
  },
  {
   "cell_type": "code",
   "execution_count": 44,
   "id": "dc93eca3",
   "metadata": {},
   "outputs": [
    {
     "name": "stdout",
     "output_type": "stream",
     "text": [
      "Epoch 1/10\n",
      "938/938 [==============================] - 73s 76ms/step - loss: 0.4098 - accuracy: 0.8102 - val_loss: 0.3566 - val_accuracy: 0.8434\n",
      "Epoch 2/10\n",
      "938/938 [==============================] - 72s 76ms/step - loss: 0.2781 - accuracy: 0.8866 - val_loss: 0.3805 - val_accuracy: 0.8374\n",
      "Epoch 3/10\n",
      "938/938 [==============================] - 72s 77ms/step - loss: 0.1779 - accuracy: 0.9311 - val_loss: 0.4511 - val_accuracy: 0.8253\n",
      "1563/1563 [==============================] - 13s 8ms/step - loss: 0.3635 - accuracy: 0.8422\n",
      "✅ KoNLPy (Mecab) + RNN Test Accuracy: 0.8422\n"
     ]
    }
   ],
   "source": [
    "from konlpy.tag import Mecab\n",
    "from tensorflow.keras.preprocessing.text import Tokenizer\n",
    "from tensorflow.keras.preprocessing.sequence import pad_sequences\n",
    "from tensorflow.keras.models import Sequential\n",
    "from tensorflow.keras.layers import Embedding, LSTM, Dense\n",
    "from tensorflow.keras.callbacks import EarlyStopping\n",
    "import re\n",
    "\n",
    "# 1. Mecab 객체 생성\n",
    "mecab = Mecab()\n",
    "\n",
    "# 2. 전처리 함수 정의\n",
    "def mecab_tokenize(text):\n",
    "    text = re.sub(r\"[^ㄱ-ㅎㅏ-ㅣ가-힣 ]\", \"\", str(text))  # 한글만 남기기\n",
    "    return mecab.morphs(text)\n",
    "\n",
    "# 3. 토큰화 적용\n",
    "train_data = train_data.dropna(subset=['document'])\n",
    "test_data = test_data.dropna(subset=['document'])\n",
    "\n",
    "train_data['mecab_tokens'] = train_data['document'].apply(mecab_tokenize)\n",
    "test_data['mecab_tokens'] = test_data['document'].apply(mecab_tokenize)\n",
    "\n",
    "# 4. 토크나이저 학습\n",
    "train_tokens = train_data['mecab_tokens']\n",
    "train_tokens = [tok for tok in train_tokens if isinstance(tok, list) and tok]\n",
    "\n",
    "test_tokens = test_data['mecab_tokens']\n",
    "test_tokens = [tok for tok in test_tokens if isinstance(tok, list) and tok]\n",
    "\n",
    "tokenizer = Tokenizer()\n",
    "tokenizer.fit_on_texts(train_tokens)\n",
    "\n",
    "# 5. 시퀀스 변환 + 패딩\n",
    "X_train = pad_sequences(tokenizer.texts_to_sequences(train_data['mecab_tokens']), maxlen=100)\n",
    "X_test = pad_sequences(tokenizer.texts_to_sequences(test_data['mecab_tokens']), maxlen=100)\n",
    "y_train = train_data['label'].values\n",
    "y_test = test_data['label'].values\n",
    "\n",
    "# 6. 모델 정의 및 학습\n",
    "vocab_size = len(tokenizer.word_index) + 1\n",
    "\n",
    "model_mecab = Sequential([\n",
    "    Embedding(vocab_size, 128),\n",
    "    SimpleRNN(64),\n",
    "    Dense(1, activation='sigmoid')\n",
    "])\n",
    "model_mecab.compile(optimizer='adam', loss='binary_crossentropy', metrics=['accuracy'])\n",
    "\n",
    "early_stop = EarlyStopping(monitor='val_loss', patience=2, restore_best_weights=True)\n",
    "model_mecab.fit(X_train, y_train, epochs=10, batch_size=128, validation_split=0.2, callbacks=[early_stop])\n",
    "\n",
    "# 7. 평가\n",
    "acc_mecab = model_mecab.evaluate(X_test, y_test)[1]\n",
    "print(f\"✅ KoNLPy (Mecab) + RNN Test Accuracy: {acc_mecab:.4f}\")\n"
   ]
  },
  {
   "cell_type": "markdown",
   "id": "b9127ef1",
   "metadata": {},
   "source": [
    "## 성능 비교\n",
    "- Mecab이 최고 성능(0.8422)\n",
    "- Ok(0.8374)와 SP-unigram-10k도 거의 동일 수준\n",
    "    - Okt : 0.8374\n",
    "    - SP-unigram-10k : 0.8381\n",
    "- SentencePiece는 vocab_size=10000 이상일 때 성능이 우수해진다. \n",
    "    - unigram + 10000 이 0.8331로 성능 우수\n",
    "    -  SP-bpe는 상대적으로 성능이 낮음  \n",
    "    \n",
    "        bpe-8000: 0.7034  \n",
    "        \n",
    "        bpe-10000: 0.7780  \n",
    "        \n",
    "        → 같은 vocab_size에서도 unigram보다 낮은 성능\n",
    "- vocab_size 증가가 성능 향상에 기여  \n",
    "\n",
    "    SP-bpe: 8000 → 10000 → 정확도 ↑ (0.7034 → 0.7780)  \n",
    "    SP-unigram: 8000 → 10000 → 정확도 ↑ (0.7266 → 0.8381)  \n",
    "    \n",
    "    → 더 많은 서브워드로 문장 표현력 향상"
   ]
  },
  {
   "cell_type": "code",
   "execution_count": 45,
   "id": "cfcf3426",
   "metadata": {},
   "outputs": [
    {
     "data": {
      "image/png": "[encoded data removed]",
      "text/plain": [
       "<Figure size 720x432 with 1 Axes>"
      ]
     },
     "metadata": {
      "needs_background": "light"
     },
     "output_type": "display_data"
    }
   ],
   "source": [
    "import matplotlib.pyplot as plt\n",
    "\n",
    "# 라벨 및 정확도\n",
    "labels = [\n",
    "    \"SP-unigram-8k\", \"SP-bpe-8k\", \"SP-bpe-10k\", \"SP-unigram-10k\",\n",
    "    \"KoNLPy-Okt\", \"KoNLPy-Mecab\"\n",
    "]\n",
    "accuracies = [0.7266, 0.7034, 0.7780, 0.8381, 0.8374, 0.8422]\n",
    "\n",
    "# 시각화\n",
    "plt.figure(figsize=(10, 6))\n",
    "bars = plt.bar(labels, accuracies, color='skyblue')\n",
    "plt.ylim(0.6, 0.9)\n",
    "plt.title(\"Tokenizer accuracy\", fontsize=14)\n",
    "plt.xlabel(\"Tokenizer\", fontsize=12)\n",
    "plt.ylabel(\"Test Accuracy\", fontsize=12)\n",
    "plt.xticks(rotation=15)\n",
    "plt.grid(axis='y', linestyle='--', alpha=0.7)\n",
    "\n",
    "# 바 위에 정확도 표시\n",
    "for bar, acc in zip(bars, accuracies):\n",
    "    yval = bar.get_height()\n",
    "    plt.text(bar.get_x() + bar.get_width()/2.0, yval + 0.005, f'{acc:.4f}', ha='center', va='bottom')\n",
    "\n",
    "plt.tight_layout()\n",
    "plt.show()\n"
   ]
  },
  {
   "cell_type": "markdown",
   "id": "1fc3b7b1",
   "metadata": {},
   "source": [
    "# 회고\n",
    "- 같은 모델이라도 사용한 토크나이저에 따라 성능이 크게 달라질 수 있다는 사실을 확인할 수 있었다.\n",
    "- vocab_size 역시 성능에 중요한 영향을 미친다. \n",
    "- SentencePiece는 KoNLPy의 Mecab이나 Okt 처럼 한국어에 특화된 형태소 분석기가 아닌, 언어에 종속되지 않는 범용적 subword 토크나이저\n",
    "- 한국어 특성이 중요한 감정 분석 과제에서 KoNLPy 기반 토크나이저가 성능이 조금 더 높게 나왔다. "
   ]
  },
  {
   "cell_type": "markdown",
   "id": "c938902b",
   "metadata": {},
   "source": []
  },
  {
   "cell_type": "code",
   "execution_count": null,
   "id": "d153e10e",
   "metadata": {},
   "outputs": [],
   "source": []
  }
 ],
 "metadata": {
  "kernelspec": {
   "display_name": "Python 3 (ipykernel)",
   "language": "python",
   "name": "python3"
  },
  "language_info": {
   "codemirror_mode": {
    "name": "ipython",
    "version": 3
   },
   "file_extension": ".py",
   "mimetype": "text/x-python",
   "name": "python",
   "nbconvert_exporter": "python",
   "pygments_lexer": "ipython3",
   "version": "3.9.7"
  }
 },
 "nbformat": 4,
 "nbformat_minor": 5
}
