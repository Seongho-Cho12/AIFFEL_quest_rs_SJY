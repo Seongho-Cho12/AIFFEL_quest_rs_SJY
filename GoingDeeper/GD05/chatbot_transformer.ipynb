{
 "cells": [
  {
   "cell_type": "code",
   "execution_count": 1,
   "id": "48fb6a44",
   "metadata": {},
   "outputs": [],
   "source": [
    "# from gensim.models import KeyedVectors\n",
    "# wv = KeyedVectors.load_word2vec_format(\"ko.vec\", binary=False)\n",
    "# print(wv.most_similar(\"사랑\"))"
   ]
  },
  {
   "cell_type": "code",
   "execution_count": 2,
   "id": "e544e5d6",
   "metadata": {},
   "outputs": [
    {
     "name": "stdout",
     "output_type": "stream",
     "text": [
      "Requirement already satisfied: gensim==3.8.3 in /opt/conda/lib/python3.9/site-packages (3.8.3)\n",
      "Requirement already satisfied: numpy>=1.11.3 in /opt/conda/lib/python3.9/site-packages (from gensim==3.8.3) (1.21.4)\n",
      "Requirement already satisfied: scipy>=0.18.1 in /opt/conda/lib/python3.9/site-packages (from gensim==3.8.3) (1.7.1)\n",
      "Requirement already satisfied: six>=1.5.0 in /opt/conda/lib/python3.9/site-packages (from gensim==3.8.3) (1.16.0)\n",
      "Requirement already satisfied: smart-open>=1.8.1 in /opt/conda/lib/python3.9/site-packages (from gensim==3.8.3) (5.2.1)\n",
      "\u001b[33mWARNING: Running pip as the 'root' user can result in broken permissions and conflicting behaviour with the system package manager. It is recommended to use a virtual environment instead: https://pip.pypa.io/warnings/venv\u001b[0m\n"
     ]
    }
   ],
   "source": [
    "!pip install gensim==3.8.3"
   ]
  },
  {
   "cell_type": "code",
   "execution_count": 3,
   "id": "c032d722",
   "metadata": {},
   "outputs": [
    {
     "name": "stdout",
     "output_type": "stream",
     "text": [
      "Requirement already satisfied: fasttext in /opt/conda/lib/python3.9/site-packages (0.9.3)\n",
      "Requirement already satisfied: setuptools>=0.7.0 in /opt/conda/lib/python3.9/site-packages (from fasttext) (59.4.0)\n",
      "Requirement already satisfied: pybind11>=2.2 in /opt/conda/lib/python3.9/site-packages (from fasttext) (2.13.6)\n",
      "Requirement already satisfied: numpy in /opt/conda/lib/python3.9/site-packages (from fasttext) (1.21.4)\n",
      "\u001b[33mWARNING: Running pip as the 'root' user can result in broken permissions and conflicting behaviour with the system package manager. It is recommended to use a virtual environment instead: https://pip.pypa.io/warnings/venv\u001b[0m\n"
     ]
    }
   ],
   "source": [
    "!pip install fasttext"
   ]
  },
  {
   "cell_type": "code",
   "execution_count": 4,
   "id": "cf08845c",
   "metadata": {},
   "outputs": [
    {
     "name": "stdout",
     "output_type": "stream",
     "text": [
      "1.21.4\n",
      "1.3.3\n",
      "2.6.0\n",
      "3.6.5\n",
      "3.8.3\n"
     ]
    }
   ],
   "source": [
    "import numpy as np\n",
    "import pandas as pd\n",
    "import tensorflow as tf\n",
    "import nltk\n",
    "import gensim\n",
    "\n",
    "print(np.__version__)\n",
    "print(pd.__version__)\n",
    "print(tf.__version__)\n",
    "print(nltk.__version__)\n",
    "print(gensim.__version__)\n",
    "\n",
    "import re\n",
    "from konlpy.tag import Mecab\n",
    "import fasttext\n",
    "from tqdm import tqdm\n",
    "import random"
   ]
  },
  {
   "cell_type": "markdown",
   "id": "4b93a368",
   "metadata": {},
   "source": [
    "# 데이터 다운로드"
   ]
  },
  {
   "cell_type": "code",
   "execution_count": 5,
   "id": "d9a9e50d",
   "metadata": {},
   "outputs": [
    {
     "data": {
      "text/html": [
       "<div>\n",
       "<style scoped>\n",
       "    .dataframe tbody tr th:only-of-type {\n",
       "        vertical-align: middle;\n",
       "    }\n",
       "\n",
       "    .dataframe tbody tr th {\n",
       "        vertical-align: top;\n",
       "    }\n",
       "\n",
       "    .dataframe thead th {\n",
       "        text-align: right;\n",
       "    }\n",
       "</style>\n",
       "<table border=\"1\" class=\"dataframe\">\n",
       "  <thead>\n",
       "    <tr style=\"text-align: right;\">\n",
       "      <th></th>\n",
       "      <th>Q</th>\n",
       "      <th>A</th>\n",
       "      <th>label</th>\n",
       "    </tr>\n",
       "  </thead>\n",
       "  <tbody>\n",
       "    <tr>\n",
       "      <th>220</th>\n",
       "      <td>공부 시작해도 될까</td>\n",
       "      <td>공부는 언제나 좋죠.</td>\n",
       "      <td>0</td>\n",
       "    </tr>\n",
       "    <tr>\n",
       "      <th>1895</th>\n",
       "      <td>바다 보러 가자고 해볼까</td>\n",
       "      <td>바다는 사계절 내내 좋아요.</td>\n",
       "      <td>0</td>\n",
       "    </tr>\n",
       "    <tr>\n",
       "      <th>8747</th>\n",
       "      <td>혼자 있으니 힘이드네</td>\n",
       "      <td>한동안은 힘들지도 몰라요.</td>\n",
       "      <td>1</td>\n",
       "    </tr>\n",
       "    <tr>\n",
       "      <th>8909</th>\n",
       "      <td>감정싸움 그만하고 싶어</td>\n",
       "      <td>자존심을 세우지 마세요.</td>\n",
       "      <td>2</td>\n",
       "    </tr>\n",
       "    <tr>\n",
       "      <th>1352</th>\n",
       "      <td>뒤에 누가 따라 오는 것 같아 무서워</td>\n",
       "      <td>항상 조심하세요.</td>\n",
       "      <td>0</td>\n",
       "    </tr>\n",
       "  </tbody>\n",
       "</table>\n",
       "</div>"
      ],
      "text/plain": [
       "                         Q                A  label\n",
       "220             공부 시작해도 될까      공부는 언제나 좋죠.      0\n",
       "1895         바다 보러 가자고 해볼까  바다는 사계절 내내 좋아요.      0\n",
       "8747           혼자 있으니 힘이드네   한동안은 힘들지도 몰라요.      1\n",
       "8909          감정싸움 그만하고 싶어    자존심을 세우지 마세요.      2\n",
       "1352  뒤에 누가 따라 오는 것 같아 무서워        항상 조심하세요.      0"
      ]
     },
     "execution_count": 5,
     "metadata": {},
     "output_type": "execute_result"
    }
   ],
   "source": [
    "file_path = \"./ChatbotData.csv\"\n",
    "\n",
    "chatbot_df = pd.read_csv(file_path)\n",
    "\n",
    "chatbot_df.sample(5)"
   ]
  },
  {
   "cell_type": "code",
   "execution_count": 6,
   "id": "85f203bd",
   "metadata": {},
   "outputs": [],
   "source": [
    "questions, answers = chatbot_df['Q'], chatbot_df['A']"
   ]
  },
  {
   "cell_type": "code",
   "execution_count": 7,
   "id": "6bd09b38",
   "metadata": {},
   "outputs": [
    {
     "name": "stdout",
     "output_type": "stream",
     "text": [
      "등장한 특수문자와 빈도수:\n",
      "'.': 13942회\n",
      "'?': 1845회\n",
      "'!': 351회\n",
      "',': 92회\n",
      "'~': 55회\n",
      "''': 9회\n",
      "';': 6회\n",
      "'…': 5회\n",
      "'-': 3회\n",
      "'%': 2회\n"
     ]
    }
   ],
   "source": [
    "import pandas as pd\n",
    "import re\n",
    "from collections import Counter\n",
    "\n",
    "# 특수문자를 추출하는 함수\n",
    "def extract_special_chars(text):\n",
    "    return re.findall(r\"[^\\w\\s가-힣]\", text)  # 영문자, 숫자, 한글, 공백을 제외한 특수문자 추출\n",
    "\n",
    "# Q와 A 컬럼에서 특수문자 수집\n",
    "q_specials = chatbot_df['Q'].dropna().apply(extract_special_chars).sum()\n",
    "a_specials = chatbot_df['A'].dropna().apply(extract_special_chars).sum()\n",
    "\n",
    "# 전체 특수문자 카운트\n",
    "total_specials = Counter(q_specials + a_specials)\n",
    "\n",
    "# 결과 보기\n",
    "print(\"등장한 특수문자와 빈도수:\")\n",
    "for char, count in total_specials.most_common():\n",
    "    print(f\"'{char}': {count}회\")\n"
   ]
  },
  {
   "cell_type": "markdown",
   "id": "cfe972ad",
   "metadata": {},
   "source": [
    "특수문자 보존 대상 : . (마침표) ? (물음표) ! (느낌표) , (쉼표) ~ (말투, 감정 표현) ' (작은따옴표)"
   ]
  },
  {
   "cell_type": "markdown",
   "id": "be87ccb0",
   "metadata": {},
   "source": [
    "# 데이터 정제, 데이터 토큰화\n",
    "데이터 정제\n",
    "- 영문자의 경우, 모두 소문자로 변환\n",
    "- 영문자와 한글, 숫자, 주요 특수문자를 제외하고 정규식을 활용하여 모두 제거  \n",
    "- 주요 특수문자 :  . (마침표) ? (물음표) ! (느낌표) , (쉼표) ~ (말투, 감정 표현) ' (작은따옴표)\n",
    "\n",
    "데이터 토큰화\n",
    "- mecab 사용\n",
    "- src, tgt 입력으로 받음\n",
    "- preprocess_sentence()로 정제, 토큰화\n",
    "- 토크나이즈함수 사용 mecab.morphs 전달\n",
    "- 토큰 개수가 일정 길이 이상인 문장은 데이터에서 제외 : max len= 15\n",
    "- 중복되는 문장 제외 : (src, tgt) 쌍 비교 X, src, tgt 각각 검사 중복쌍이 흐트러지지 않도록 유의\n",
    "- questions와 answers를 각각 que_corpus, ans_corpus에 토큰화 하여 저장"
   ]
  },
  {
   "cell_type": "code",
   "execution_count": 8,
   "id": "80d035a8",
   "metadata": {},
   "outputs": [],
   "source": [
    "import re\n",
    "\n",
    "def preprocess_sentence(sentence):\n",
    "    # 모든 영문자를 소문자로 변환합니다.\n",
    "    sentence = sentence.lower()\n",
    "    \n",
    "    # 영문자, 숫자, 한글, 공백, 그리고 주요 특수문자(.,!?~')를 제외한 모든 문자 제거\n",
    "    pattern = r\"[^a-z0-9가-힣\\s.,!?~']\"\n",
    "    sentence = re.sub(pattern, \"\", sentence)\n",
    "    \n",
    "    # 중복된 공백을 하나로 줄입니다.\n",
    "    return ' '.join(sentence.split())\n"
   ]
  },
  {
   "cell_type": "code",
   "execution_count": 9,
   "id": "d7e3236f",
   "metadata": {},
   "outputs": [
    {
     "data": {
      "image/png": "[encoded data removed]",
      "text/plain": [
       "<Figure size 432x288 with 1 Axes>"
      ]
     },
     "metadata": {
      "needs_background": "light"
     },
     "output_type": "display_data"
    },
    {
     "name": "stdout",
     "output_type": "stream",
     "text": [
      "✅ 전체 문장의 95%는 길이 14 이하입니다. → 추천 max_len = 14\n"
     ]
    }
   ],
   "source": [
    "import matplotlib.pyplot as plt\n",
    "import numpy as np\n",
    "\n",
    "def suggest_max_len(Q, A, tokenizer):\n",
    "    # 1. 전처리 및 토큰화\n",
    "    Q_tokens = Q.apply(lambda x: tokenizer(preprocess_sentence(x)))\n",
    "    A_tokens = A.apply(lambda x: tokenizer(preprocess_sentence(x)))\n",
    "\n",
    "    # 2. 길이 추출\n",
    "    q_lens = Q_tokens.apply(len)\n",
    "    a_lens = A_tokens.apply(len)\n",
    "\n",
    "    # 3. 통합하여 길이 분포 확인\n",
    "    all_lens = pd.concat([q_lens, a_lens])\n",
    "    \n",
    "    # 4. 시각화\n",
    "    plt.hist(all_lens, bins=30, color='skyblue')\n",
    "    plt.title(\"Token Length Distribution (Q + A)\")\n",
    "    plt.xlabel(\"Token Length\")\n",
    "    plt.ylabel(\"Number of Sentences\")\n",
    "    plt.grid(True)\n",
    "    plt.show()\n",
    "\n",
    "    # 5. 최대 길이 추천 (예: 상위 95% 기준)\n",
    "    max_len_95 = int(np.percentile(all_lens, 95))\n",
    "    print(f\"✅ 전체 문장의 95%는 길이 {max_len_95} 이하입니다. → 추천 max_len = {max_len_95}\")\n",
    "    \n",
    "    return max_len_95\n",
    "\n",
    "from konlpy.tag import Mecab\n",
    "mecab = Mecab()\n",
    "tokenizer = mecab.morphs\n",
    "\n",
    "recommended_max_len = suggest_max_len(chatbot_df['Q'], chatbot_df['A'], tokenizer)\n"
   ]
  },
  {
   "cell_type": "code",
   "execution_count": 10,
   "id": "9c012c4c",
   "metadata": {},
   "outputs": [],
   "source": [
    "mecab = Mecab()\n",
    "#max_len = 15로 설정\n",
    "def build_corpus(Q, A, token_len=15):\n",
    "    temp = pd.concat([Q, A], axis=1)\n",
    "    temp.columns = ['Q', 'A']  # 열 이름 명시적으로 지정\n",
    "\n",
    "    # 1. 중복 제거 (src, tgt 대응 유지)\n",
    "    dup_q_idx = temp[temp.duplicated('Q')].index\n",
    "    dup_a_idx = temp[temp.duplicated('A')].index\n",
    "    dup_idx = dup_q_idx.union(dup_a_idx)\n",
    "    temp = temp.drop(index=dup_idx).reset_index(drop=True)\n",
    "\n",
    "    # 2. 전처리\n",
    "    temp['Q'] = temp['Q'].apply(preprocess_sentence)\n",
    "    temp['A'] = temp['A'].apply(preprocess_sentence)\n",
    "\n",
    "    # 3. 형태소 분석 (mecab.morphs 사용)\n",
    "    temp['Q'] = temp['Q'].apply(mecab.morphs)\n",
    "    temp['A'] = temp['A'].apply(mecab.morphs)\n",
    "\n",
    "    # 4. 길이 필터링\n",
    "    temp = temp[(temp['Q'].apply(len) <= token_len) & (temp['A'].apply(len) <= token_len)].reset_index(drop=True)\n",
    "\n",
    "    # 5. 결과 반환\n",
    "    que_corpus = temp['Q'].tolist()\n",
    "    ans_corpus = temp['A'].tolist()\n",
    "    return que_corpus, ans_corpus"
   ]
  },
  {
   "cell_type": "code",
   "execution_count": 11,
   "id": "3f41691a",
   "metadata": {},
   "outputs": [],
   "source": [
    "que_corpus, ans_corpus = build_corpus(questions, answers)"
   ]
  },
  {
   "cell_type": "code",
   "execution_count": 12,
   "id": "cd3cdaa7",
   "metadata": {},
   "outputs": [
    {
     "data": {
      "text/plain": [
       "7102"
      ]
     },
     "execution_count": 12,
     "metadata": {},
     "output_type": "execute_result"
    }
   ],
   "source": [
    "len(que_corpus)"
   ]
  },
  {
   "cell_type": "code",
   "execution_count": 13,
   "id": "cdd67494",
   "metadata": {},
   "outputs": [
    {
     "data": {
      "text/plain": [
       "7102"
      ]
     },
     "execution_count": 13,
     "metadata": {},
     "output_type": "execute_result"
    }
   ],
   "source": [
    "len(ans_corpus)"
   ]
  },
  {
   "cell_type": "code",
   "execution_count": 14,
   "id": "fa8d77ff",
   "metadata": {},
   "outputs": [
    {
     "name": "stdout",
     "output_type": "stream",
     "text": [
      "[('슬픔', 0.7216662764549255), ('행복', 0.6759077310562134), ('절망', 0.6468985080718994), ('기쁨', 0.6458414196968079), ('이별', 0.6334798336029053), ('추억', 0.6320937275886536), ('인생', 0.6216273307800293), ('애정', 0.6206069588661194), ('연인', 0.6186063289642334), ('유혹', 0.5965287685394287)]\n"
     ]
    }
   ],
   "source": [
    "from gensim.models import KeyedVectors\n",
    "wv = KeyedVectors.load_word2vec_format(\"ko.vec\", binary=False)\n",
    "print(wv.most_similar(\"사랑\"))"
   ]
  },
  {
   "cell_type": "markdown",
   "id": "42e0109f",
   "metadata": {},
   "source": [
    "# data augmentation\n",
    "- lexical substitution을 적용\n",
    "- augmentation된 que_corpus와 원본 ans_corpus\n",
    "- augmentation된 ans_corpus와 원본 que_corpus가 병렬을 이루도록\n",
    "\n",
    "-> 전체 데이터가 원래의 3배 가량으로 늘어나도록 한다. \n",
    "\n",
    "- 약 3만개 정도의 데이터로 만드는 것이 목표"
   ]
  },
  {
   "cell_type": "code",
   "execution_count": 15,
   "id": "92fb957c",
   "metadata": {},
   "outputs": [],
   "source": [
    "import itertools\n",
    "import random\n",
    "\n",
    "def lexical_sub(old_src, wv):\n",
    "    topn=3\n",
    "    similarity_threshold=0.5\n",
    "    pos_tags=['NNP', 'VV', 'VA', 'NP', 'NNG']\n",
    "    max_versions = 3\n",
    "    original = [tok for tok, _ in old_src]\n",
    "    candidate_subs = []\n",
    "\n",
    "    for i, (tok, pos) in enumerate(old_src):\n",
    "        if pos in pos_tags and tok in wv:\n",
    "            try:\n",
    "                similar_list = wv.most_similar(tok, topn=topn)\n",
    "                filtered = [w for w, sim in similar_list if sim >= similarity_threshold]\n",
    "                if filtered:\n",
    "                    candidate_subs.append((i, filtered))\n",
    "            except:\n",
    "                continue\n",
    "\n",
    "    if not candidate_subs:\n",
    "        return [original]\n",
    "\n",
    "    all_versions = []\n",
    "    positions, replacements = zip(*candidate_subs)\n",
    "\n",
    "    # 모든 조합 생성\n",
    "    all_combos = list(itertools.product(*replacements))\n",
    "\n",
    "    # 최대 max_versions-1개만 샘플링 (원본 포함하므로 -1)\n",
    "    sampled_combos = random.sample(all_combos, min(max_versions - 1, len(all_combos)))\n",
    "    for combo in sampled_combos:\n",
    "        new_sent = original.copy()\n",
    "        for idx, rep in zip(positions, combo):\n",
    "            new_sent[idx] = rep\n",
    "        all_versions.append(new_sent)\n",
    "\n",
    "    all_versions.insert(0, original)\n",
    "    return all_versions\n"
   ]
  },
  {
   "cell_type": "code",
   "execution_count": 16,
   "id": "590e8d54",
   "metadata": {},
   "outputs": [],
   "source": [
    "def augment_partial_pairs_df(enc_src, dec_tgt, wv):\n",
    "    \"\"\"\n",
    "    enc_src, dec_tgt: mecab.pos()된 문장 리스트\n",
    "    반환: 원본/부분 증강된 병렬쌍만 포함된 DataFrame\n",
    "    \"\"\"\n",
    "    rows = []\n",
    "\n",
    "    for enc_tokens, dec_tokens in zip(enc_src, dec_tgt):\n",
    "        # 1. 원문 추가\n",
    "        original_enc = [tok for tok, _ in enc_tokens]\n",
    "        original_dec = [tok for tok, _ in dec_tokens]\n",
    "        rows.append({'encoder': ' '.join(original_enc), 'decoder': ' '.join(original_dec)})\n",
    "\n",
    "        # 2. Q만 증강\n",
    "        enc_augments = lexical_sub(enc_tokens, wv)\n",
    "        for aug in enc_augments[1:]:  # 원본 제외\n",
    "            rows.append({'encoder': ' '.join(aug), 'decoder': ' '.join(original_dec)})\n",
    "\n",
    "        # 3. A만 증강\n",
    "        dec_augments = lexical_sub(dec_tokens, wv)\n",
    "        for aug in dec_augments[1:]:  # 원본 제외\n",
    "            rows.append({'encoder': ' '.join(original_enc), 'decoder': ' '.join(aug)})\n",
    "\n",
    "    return pd.DataFrame(rows)"
   ]
  },
  {
   "cell_type": "code",
   "execution_count": 17,
   "id": "3cef1e7d",
   "metadata": {},
   "outputs": [
    {
     "name": "stdout",
     "output_type": "stream",
     "text": [
      "          encoder         decoder\n",
      "0        12 시 땡 !   하루 가 또 가 네요 .\n",
      "1        12 시 땡 !   보름 가 또 가 네요 .\n",
      "2        12 시 땡 !  일주일 가 또 가 네요 .\n",
      "3   1 지망 학교 떨어졌 어     위로 해 드립니다 .\n",
      "4  1 중퇴 학교의 떨어졌 어     위로 해 드립니다 .\n"
     ]
    },
    {
     "data": {
      "text/plain": [
       "<bound method DataFrame.info of                                encoder                         decoder\n",
       "0                             12 시 땡 !                   하루 가 또 가 네요 .\n",
       "1                             12 시 땡 !                   보름 가 또 가 네요 .\n",
       "2                             12 시 땡 !                  일주일 가 또 가 네요 .\n",
       "3                        1 지망 학교 떨어졌 어                     위로 해 드립니다 .\n",
       "4                       1 중퇴 학교의 떨어졌 어                     위로 해 드립니다 .\n",
       "...                                ...                             ...\n",
       "32636     힘든 연애 좋 은 연애 라는 게 무슨 차이 일까 ?    잘 헤어질 수 있 는 사이 여부 인 거 같 아요 .\n",
       "32637  힘든 성행위 괜찮 은 성행위 라는 게 무슨 변화 일까 ?    잘 헤어질 수 있 는 사이 여부 인 거 같 아요 .\n",
       "32638   힘든 성행위 낫 은 동성애 라는 게 무슨 격차 일까 ?    잘 헤어질 수 있 는 사이 여부 인 거 같 아요 .\n",
       "32639     힘든 연애 좋 은 연애 라는 게 무슨 차이 일까 ?  잘 헤어질 수 있었 는 간의 유무 인 거 같이 아요 .\n",
       "32640     힘든 연애 좋 은 연애 라는 게 무슨 차이 일까 ?   잘 헤어질 수 없 는 간의 유무 인 거 똑같 아요 .\n",
       "\n",
       "[32641 rows x 2 columns]>"
      ]
     },
     "execution_count": 17,
     "metadata": {},
     "output_type": "execute_result"
    }
   ],
   "source": [
    "#cross_augmented = augment_pairwise_cross_product(que_corpus, ans_corpus, wv)\n",
    "from konlpy.tag import Mecab\n",
    "mecab = Mecab()\n",
    "\n",
    "enc_src = [mecab.pos(' '.join(q)) for q in que_corpus]\n",
    "dec_tgt = [mecab.pos(' '.join(a)) for a in ans_corpus]\n",
    "\n",
    "aug_df = augment_partial_pairs_df(enc_src, dec_tgt, wv)\n",
    "print(aug_df.head())\n",
    "aug_df.info"
   ]
  },
  {
   "cell_type": "code",
   "execution_count": 18,
   "id": "7299f9d3",
   "metadata": {},
   "outputs": [
    {
     "name": "stdout",
     "output_type": "stream",
     "text": [
      "전체 샘플 수: 32641\n",
      "==================================================\n",
      "[1]\n",
      "Encoder: 12 시 땡 !\n",
      "Decoder: 하루 가 또 가 네요 .\n",
      "--------------------------------------------------\n",
      "[2]\n",
      "Encoder: 12 시 땡 !\n",
      "Decoder: 보름 가 또 가 네요 .\n",
      "--------------------------------------------------\n",
      "[3]\n",
      "Encoder: 12 시 땡 !\n",
      "Decoder: 일주일 가 또 가 네요 .\n",
      "--------------------------------------------------\n",
      "[4]\n",
      "Encoder: 1 지망 학교 떨어졌 어\n",
      "Decoder: 위로 해 드립니다 .\n",
      "--------------------------------------------------\n",
      "[5]\n",
      "Encoder: 1 중퇴 학교의 떨어졌 어\n",
      "Decoder: 위로 해 드립니다 .\n",
      "--------------------------------------------------\n",
      "[6]\n",
      "Encoder: 1 중퇴 중고등학교 떨어졌 어\n",
      "Decoder: 위로 해 드립니다 .\n",
      "--------------------------------------------------\n",
      "[7]\n",
      "Encoder: 3 박 4 일 놀 러 가 고 싶 다\n",
      "Decoder: 여행 은 언제나 좋 죠 .\n",
      "--------------------------------------------------\n",
      "[8]\n",
      "Encoder: 3 박 4 일 울 러 가 고 싶 다\n",
      "Decoder: 여행 은 언제나 좋 죠 .\n",
      "--------------------------------------------------\n",
      "[9]\n",
      "Encoder: 3 박 4 일 살 러 가 고 싶 다\n",
      "Decoder: 여행 은 언제나 좋 죠 .\n",
      "--------------------------------------------------\n",
      "[10]\n",
      "Encoder: 3 박 4 일 놀 러 가 고 싶 다\n",
      "Decoder: 항해 은 언제나 낫 죠 .\n",
      "--------------------------------------------------\n"
     ]
    }
   ],
   "source": [
    "def inspect_augmented_samples(df, n=5):\n",
    "    print(f\"전체 샘플 수: {len(df)}\")\n",
    "    print(\"=\"*50)\n",
    "    for i in range(n):\n",
    "        print(f\"[{i+1}]\")\n",
    "        print(\"Encoder:\", df.iloc[i]['encoder'])\n",
    "        print(\"Decoder:\", df.iloc[i]['decoder'])\n",
    "        print(\"-\" * 50)\n",
    "inspect_augmented_samples(aug_df, n = 10)"
   ]
  },
  {
   "cell_type": "code",
   "execution_count": 19,
   "id": "1c2f5b37",
   "metadata": {
    "scrolled": true
   },
   "outputs": [
    {
     "data": {
      "text/html": [
       "<div>\n",
       "<style scoped>\n",
       "    .dataframe tbody tr th:only-of-type {\n",
       "        vertical-align: middle;\n",
       "    }\n",
       "\n",
       "    .dataframe tbody tr th {\n",
       "        vertical-align: top;\n",
       "    }\n",
       "\n",
       "    .dataframe thead th {\n",
       "        text-align: right;\n",
       "    }\n",
       "</style>\n",
       "<table border=\"1\" class=\"dataframe\">\n",
       "  <thead>\n",
       "    <tr style=\"text-align: right;\">\n",
       "      <th></th>\n",
       "      <th>encoder</th>\n",
       "      <th>decoder</th>\n",
       "    </tr>\n",
       "  </thead>\n",
       "  <tbody>\n",
       "    <tr>\n",
       "      <th>29463</th>\n",
       "      <td>오늘 서점 에서 이상 형 봤 어</td>\n",
       "      <td>열쇠 내 서 말로 을 걸 어 보 세요 .</td>\n",
       "    </tr>\n",
       "    <tr>\n",
       "      <th>15081</th>\n",
       "      <td>원망 감</td>\n",
       "      <td>차분히 눈 을 감 고 마음 을 가라앉혀 봐요 .</td>\n",
       "    </tr>\n",
       "    <tr>\n",
       "      <th>25110</th>\n",
       "      <td>내 가 이 사람 을 사랑 하 는 건가 ?</td>\n",
       "      <td>자꾸 생각난 다면 그럴 거 예요 .</td>\n",
       "    </tr>\n",
       "    <tr>\n",
       "      <th>10148</th>\n",
       "      <td>하늘 본지 가 언젠지</td>\n",
       "      <td>아침 은 피어 면서 보 세요 .</td>\n",
       "    </tr>\n",
       "    <tr>\n",
       "      <th>28250</th>\n",
       "      <td>썸 인지 아닌지 증명 하 는 방식 없었 어 ?</td>\n",
       "      <td>주말 저녁 에 약속 을 잡 아 보 세요 .</td>\n",
       "    </tr>\n",
       "  </tbody>\n",
       "</table>\n",
       "</div>"
      ],
      "text/plain": [
       "                         encoder                     decoder\n",
       "29463          오늘 서점 에서 이상 형 봤 어      열쇠 내 서 말로 을 걸 어 보 세요 .\n",
       "15081                       원망 감  차분히 눈 을 감 고 마음 을 가라앉혀 봐요 .\n",
       "25110     내 가 이 사람 을 사랑 하 는 건가 ?         자꾸 생각난 다면 그럴 거 예요 .\n",
       "10148                하늘 본지 가 언젠지           아침 은 피어 면서 보 세요 .\n",
       "28250  썸 인지 아닌지 증명 하 는 방식 없었 어 ?     주말 저녁 에 약속 을 잡 아 보 세요 ."
      ]
     },
     "execution_count": 19,
     "metadata": {},
     "output_type": "execute_result"
    }
   ],
   "source": [
    "aug_df.sample(5)"
   ]
  },
  {
   "cell_type": "code",
   "execution_count": null,
   "id": "e1008a3e",
   "metadata": {},
   "outputs": [],
   "source": []
  },
  {
   "cell_type": "code",
   "execution_count": null,
   "id": "9f90d2a1",
   "metadata": {},
   "outputs": [],
   "source": []
  },
  {
   "cell_type": "markdown",
   "id": "565de837",
   "metadata": {},
   "source": [
    "# 데이터 벡터화\n",
    "- ans_ccorpus에 '<start>, <end>' 토큰 추가\n",
    "- ans_corpus, que_corpus 결합하여 전체 데이터에 대한 단어 사전 구축\n",
    "- 데이터 벡터화 진행\n",
    "- enc_train, dec_train 진행"
   ]
  },
  {
   "cell_type": "code",
   "execution_count": 20,
   "id": "714e4ee2",
   "metadata": {},
   "outputs": [
    {
     "name": "stdout",
     "output_type": "stream",
     "text": [
      "Requirement already satisfied: sentencepiece in /opt/conda/lib/python3.9/site-packages (0.1.96)\n",
      "\u001b[33mWARNING: Running pip as the 'root' user can result in broken permissions and conflicting behaviour with the system package manager. It is recommended to use a virtual environment instead: https://pip.pypa.io/warnings/venv\u001b[0m\n"
     ]
    }
   ],
   "source": [
    "!pip install sentencepiece"
   ]
  },
  {
   "cell_type": "code",
   "execution_count": 21,
   "id": "4e8a7219",
   "metadata": {},
   "outputs": [],
   "source": [
    "que_corpus, ans_corpus = aug_df['encoder'], aug_df['decoder']\n",
    "ans_corpus = [f\"<start> {sen.strip()} <end>\" for sen in ans_corpus]\n",
    "total_corpus = que_corpus + ans_corpus"
   ]
  },
  {
   "cell_type": "code",
   "execution_count": 22,
   "id": "2f3de933",
   "metadata": {},
   "outputs": [],
   "source": [
    "with open(\"corpus.txt\", \"w\", encoding=\"utf-8\") as f:\n",
    "    for line in total_corpus:\n",
    "        f.write(line.strip() + \"\\n\")\n"
   ]
  },
  {
   "cell_type": "code",
   "execution_count": 23,
   "id": "273fe509",
   "metadata": {},
   "outputs": [
    {
     "name": "stderr",
     "output_type": "stream",
     "text": [
      "sentencepiece_trainer.cc(77) LOG(INFO) Starts training with : \n",
      "trainer_spec {\n",
      "  input: corpus.txt\n",
      "  input_format: \n",
      "  model_prefix: spm\n",
      "  model_type: UNIGRAM\n",
      "  vocab_size: 4500\n",
      "  self_test_sample_size: 0\n",
      "  character_coverage: 0.9995\n",
      "  input_sentence_size: 0\n",
      "  shuffle_input_sentence: 1\n",
      "  seed_sentencepiece_size: 1000000\n",
      "  shrinking_factor: 0.75\n",
      "  max_sentence_length: 4192\n",
      "  num_threads: 16\n",
      "  num_sub_iterations: 2\n",
      "  max_sentencepiece_length: 16\n",
      "  split_by_unicode_script: 1\n",
      "  split_by_number: 1\n",
      "  split_by_whitespace: 1\n",
      "  split_digits: 0\n",
      "  treat_whitespace_as_suffix: 0\n",
      "  allow_whitespace_only_pieces: 0\n",
      "  user_defined_symbols: <start>\n",
      "  user_defined_symbols: <end>\n",
      "  required_chars: \n",
      "  byte_fallback: 0\n",
      "  vocabulary_output_piece_score: 1\n",
      "  train_extremely_large_corpus: 0\n",
      "  hard_vocab_limit: 1\n",
      "  use_all_vocab: 0\n",
      "  unk_id: 0\n",
      "  bos_id: 1\n",
      "  eos_id: 2\n",
      "  pad_id: -1\n",
      "  unk_piece: <unk>\n",
      "  bos_piece: <s>\n",
      "  eos_piece: </s>\n",
      "  pad_piece: <pad>\n",
      "  unk_surface:  ⁇ \n",
      "}\n",
      "normalizer_spec {\n",
      "  name: nmt_nfkc\n",
      "  add_dummy_prefix: 1\n",
      "  remove_extra_whitespaces: 1\n",
      "  escape_whitespaces: 1\n",
      "  normalization_rule_tsv: \n",
      "}\n",
      "denormalizer_spec {}\n",
      "trainer_interface.cc(329) LOG(INFO) SentenceIterator is not specified. Using MultiFileSentenceIterator.\n",
      "trainer_interface.cc(178) LOG(INFO) Loading corpus: corpus.txt\n",
      "trainer_interface.cc(385) LOG(INFO) Loaded all 32641 sentences\n",
      "trainer_interface.cc(400) LOG(INFO) Adding meta_piece: <unk>\n",
      "trainer_interface.cc(400) LOG(INFO) Adding meta_piece: <s>\n",
      "trainer_interface.cc(400) LOG(INFO) Adding meta_piece: </s>\n",
      "trainer_interface.cc(400) LOG(INFO) Adding meta_piece: <start>\n",
      "trainer_interface.cc(400) LOG(INFO) Adding meta_piece: <end>\n",
      "trainer_interface.cc(405) LOG(INFO) Normalizing sentences...\n",
      "trainer_interface.cc(466) LOG(INFO) all chars count=1372294\n",
      "trainer_interface.cc(477) LOG(INFO) Done: 99.9502% characters are covered.\n",
      "trainer_interface.cc(487) LOG(INFO) Alphabet size=1085\n",
      "trainer_interface.cc(488) LOG(INFO) Final character coverage=0.999502\n",
      "trainer_interface.cc(520) LOG(INFO) Done! preprocessed 32641 sentences.\n",
      "unigram_model_trainer.cc(139) LOG(INFO) Making suffix array...\n",
      "unigram_model_trainer.cc(143) LOG(INFO) Extracting frequent sub strings...\n",
      "unigram_model_trainer.cc(194) LOG(INFO) Initialized 5551 seed sentencepieces\n",
      "trainer_interface.cc(526) LOG(INFO) Tokenizing input sentences with whitespace: 32641\n",
      "trainer_interface.cc(537) LOG(INFO) Done! 9895\n",
      "unigram_model_trainer.cc(489) LOG(INFO) Using 9895 sentences for EM training\n",
      "unigram_model_trainer.cc(505) LOG(INFO) EM sub_iter=0 size=5190 obj=10.5696 num_tokens=19461 num_tokens/piece=3.74971\n",
      "unigram_model_trainer.cc(505) LOG(INFO) EM sub_iter=1 size=4417 obj=10.5043 num_tokens=19647 num_tokens/piece=4.44804\n",
      "trainer_interface.cc(615) LOG(INFO) Saving model: spm.model\n",
      "trainer_interface.cc(626) LOG(INFO) Saving vocabs: spm.vocab\n"
     ]
    }
   ],
   "source": [
    "import sentencepiece as spm\n",
    "spm.SentencePieceTrainer.Train(\n",
    "    input='corpus.txt',\n",
    "    model_prefix='spm',\n",
    "    vocab_size=4500,\n",
    "    model_type='unigram',\n",
    "    user_defined_symbols=['<start>', '<end>'],\n",
    "    character_coverage=0.9995\n",
    ")\n"
   ]
  },
  {
   "cell_type": "code",
   "execution_count": 24,
   "id": "c899b755",
   "metadata": {},
   "outputs": [
    {
     "data": {
      "text/plain": [
       "True"
      ]
     },
     "execution_count": 24,
     "metadata": {},
     "output_type": "execute_result"
    }
   ],
   "source": [
    "sp = spm.SentencePieceProcessor()\n",
    "sp.load('spm.model')"
   ]
  },
  {
   "cell_type": "code",
   "execution_count": 25,
   "id": "ff861347",
   "metadata": {},
   "outputs": [],
   "source": [
    "MAX_LENGTH = 20\n",
    "\n",
    "# 4.1 시퀀스로 변환\n",
    "que_ids = [sp.encode(q, out_type=int) for q in que_corpus]\n",
    "ans_ids = [sp.encode(a, out_type=int) for a in ans_corpus]\n",
    "\n",
    "# 4.2 패딩\n",
    "from tensorflow.keras.preprocessing.sequence import pad_sequences\n",
    "\n",
    "enc_train = pad_sequences(que_ids, maxlen=MAX_LENGTH, padding='post')\n",
    "ans_tensor = pad_sequences(ans_ids, maxlen=MAX_LENGTH, padding='post')\n",
    "\n",
    "# 4.3 디코더 입력, 출력 나누기\n",
    "import numpy as np\n",
    "\n",
    "dec_input = ans_tensor[:, :-1]\n",
    "dec_target = ans_tensor[:, 1:]\n"
   ]
  },
  {
   "cell_type": "code",
   "execution_count": 26,
   "id": "21b90a62",
   "metadata": {},
   "outputs": [
    {
     "name": "stdout",
     "output_type": "stream",
     "text": [
      "🟦 질문 길이:\n",
      "  평균: 7.16\n",
      "  최대: 15\n",
      "  95퍼센타일: 13.0\n",
      "🟩 답변 길이:\n",
      "  평균: 10.29\n",
      "  최대: 17\n",
      "  95퍼센타일: 15.0\n"
     ]
    }
   ],
   "source": [
    "#문장길이 분포\n",
    "que_lengths = [len(sentence.split()) for sentence in que_corpus]\n",
    "ans_lengths = [len(sentence.split()) for sentence in ans_corpus]\n",
    "import numpy as np\n",
    "\n",
    "print(\"🟦 질문 길이:\")\n",
    "print(f\"  평균: {np.mean(que_lengths):.2f}\")\n",
    "print(f\"  최대: {np.max(que_lengths)}\")\n",
    "print(f\"  95퍼센타일: {np.percentile(que_lengths, 95)}\")\n",
    "\n",
    "print(\"🟩 답변 길이:\")\n",
    "print(f\"  평균: {np.mean(ans_lengths):.2f}\")\n",
    "print(f\"  최대: {np.max(ans_lengths)}\")\n",
    "print(f\"  95퍼센타일: {np.percentile(ans_lengths, 95)}\")\n",
    "import matplotlib.pyplot as plt\n",
    "\n"
   ]
  },
  {
   "cell_type": "code",
   "execution_count": 27,
   "id": "6c9730fb",
   "metadata": {},
   "outputs": [],
   "source": [
    "#train/val 분리\n",
    "from sklearn.model_selection import train_test_split\n",
    "\n",
    "# 인코더 입력, 디코더 입력, 디코더 출력\n",
    "enc_train, enc_val, dec_input_train, dec_input_val, dec_target_train, dec_target_val = train_test_split(\n",
    "    enc_train, dec_input, dec_target, test_size=0.1, random_state=42)\n",
    "\n",
    "\n",
    "\n",
    "import tensorflow as tf\n",
    "\n",
    "BATCH_SIZE = 64\n",
    "BUFFER_SIZE = 20000\n",
    "\n",
    "train_dataset = tf.data.Dataset.from_tensor_slices((enc_train, dec_input_train, dec_target_train))\n",
    "train_dataset = train_dataset.shuffle(BUFFER_SIZE).batch(BATCH_SIZE)\n",
    "\n",
    "val_dataset = tf.data.Dataset.from_tensor_slices((enc_val, dec_input_val, dec_target_val))\n",
    "val_dataset = val_dataset.batch(BATCH_SIZE)\n"
   ]
  },
  {
   "cell_type": "markdown",
   "id": "30d7cd42",
   "metadata": {},
   "source": [
    "# 훈련하기\n",
    "- Transformer 사용\n",
    "- epochs 별로 예문 출력\n",
    "- 예문\n",
    "    - 1. 지루하다, 놀러가고 싶어.\n",
    "    - 2. 오늘 일찍 일어났더니 피곤하다.\n",
    "    - 3. 간만에 여자친구랑 데이트 하기로 했어.\n",
    "    - 4. 집에 있는다는 소리야.\n",
    "- 데이터 사이즈가 작으므로 과적합을 피하기 위한  하이퍼파라미터 튜닝 \n",
    "- hyperparameters : n_layers, d_model, n_heads, d_ff, dropout\n",
    "- training parameters : warmup steps, batch size, epoch at"
   ]
  },
  {
   "cell_type": "code",
   "execution_count": 28,
   "id": "17926c00",
   "metadata": {},
   "outputs": [],
   "source": [
    "# src_vocab_size = tgt_vocab_size = VOCAB_SIZE\n",
    "VOCAB_SIZE = 15000\n",
    "\n",
    "n_layers=2\n",
    "d_model=512\n",
    "n_heads=8\n",
    "d_ff=2048\n",
    "src_vocab_size=VOCAB_SIZE\n",
    "tgt_vocab_size=VOCAB_SIZE\n",
    "pos_len=200\n",
    "dropout=0.3\n",
    "shared_fc=True\n",
    "shared_emb=True"
   ]
  },
  {
   "cell_type": "code",
   "execution_count": 29,
   "id": "6814a01b",
   "metadata": {},
   "outputs": [
    {
     "name": "stdout",
     "output_type": "stream",
     "text": [
      "슝=3\n"
     ]
    }
   ],
   "source": [
    "#positional encoding \n",
    "# Positional Encoding 구현\n",
    "def positional_encoding(pos, d_model):\n",
    "    def cal_angle(position, i):\n",
    "        return position / np.power(10000, (2*(i//2)) / np.float32(d_model))\n",
    "\n",
    "    def get_posi_angle_vec(position):\n",
    "        return [cal_angle(position, i) for i in range(d_model)]\n",
    "\n",
    "    sinusoid_table = np.array([get_posi_angle_vec(pos_i) for pos_i in range(pos)])\n",
    "\n",
    "    sinusoid_table[:, 0::2] = np.sin(sinusoid_table[:, 0::2])\n",
    "    sinusoid_table[:, 1::2] = np.cos(sinusoid_table[:, 1::2])\n",
    "\n",
    "    return sinusoid_table\n",
    "print(\"슝=3\")"
   ]
  },
  {
   "cell_type": "code",
   "execution_count": 30,
   "id": "392a491e",
   "metadata": {},
   "outputs": [
    {
     "name": "stdout",
     "output_type": "stream",
     "text": [
      "슝=3\n"
     ]
    }
   ],
   "source": [
    "#mask 생성\n",
    "# Mask  생성하기\n",
    "def generate_padding_mask(seq):\n",
    "    # (batch_size, 1, 1, seq_len)\n",
    "    return tf.cast(tf.math.equal(seq, 0), tf.float32)[:, tf.newaxis, tf.newaxis, :]\n",
    "\n",
    "def generate_lookahead_mask(size):\n",
    "    # (1, 1, size, size) shape으로 반환해야 함\n",
    "    mask = 1 - tf.linalg.band_part(tf.ones((size, size)), -1, 0)\n",
    "    return mask[tf.newaxis, tf.newaxis, :, :]\n",
    "\n",
    "def generate_masks(src, tgt):\n",
    "    enc_mask = generate_padding_mask(src)         # (batch_size, 1, 1, src_len)\n",
    "    dec_enc_mask = generate_padding_mask(src)     # (batch_size, 1, 1, src_len)\n",
    "\n",
    "    lookahead_mask = generate_lookahead_mask(tf.shape(tgt)[1])  # (1, 1, tgt_len, tgt_len)\n",
    "    dec_target_padding_mask = generate_padding_mask(tgt)        # (batch_size, 1, 1, tgt_len)\n",
    "\n",
    "    # broadcasting: lookahead_mask + padding_mask\n",
    "    dec_mask = tf.maximum(lookahead_mask, dec_target_padding_mask)  # (batch_size, 1, tgt_len, tgt_len)\n",
    "\n",
    "    return enc_mask, dec_enc_mask, dec_mask\n",
    "\n",
    "print(\"슝=3\")"
   ]
  },
  {
   "cell_type": "code",
   "execution_count": 31,
   "id": "28d2ff33",
   "metadata": {},
   "outputs": [
    {
     "name": "stdout",
     "output_type": "stream",
     "text": [
      "슝=3\n"
     ]
    }
   ],
   "source": [
    "#multihead attention\n",
    "# Multi Head Attention 구현\n",
    "class MultiHeadAttention(tf.keras.layers.Layer):\n",
    "    def __init__(self, d_model, num_heads):\n",
    "        super(MultiHeadAttention, self).__init__()\n",
    "        self.num_heads = num_heads\n",
    "        self.d_model = d_model\n",
    "        \n",
    "        self.depth = d_model // self.num_heads\n",
    "        \n",
    "        self.W_q = tf.keras.layers.Dense(d_model)\n",
    "        self.W_k = tf.keras.layers.Dense(d_model)\n",
    "        self.W_v = tf.keras.layers.Dense(d_model)\n",
    "        \n",
    "        self.linear = tf.keras.layers.Dense(d_model)\n",
    "\n",
    "    def scaled_dot_product_attention(self, Q, K, V, mask):\n",
    "        d_k = tf.cast(K.shape[-1], tf.float32)\n",
    "        QK = tf.matmul(Q, K, transpose_b=True)\n",
    "\n",
    "        scaled_qk = QK / tf.math.sqrt(d_k)\n",
    "\n",
    "        if mask is not None: scaled_qk += (mask * -1e9)  \n",
    "\n",
    "        attentions = tf.nn.softmax(scaled_qk, axis=-1)\n",
    "        out = tf.matmul(attentions, V)\n",
    "\n",
    "        return out, attentions\n",
    "        \n",
    "\n",
    "    def split_heads(self, x):\n",
    "        bsz = x.shape[0]\n",
    "        split_x = tf.reshape(x, (bsz, -1, self.num_heads, self.depth))\n",
    "        split_x = tf.transpose(split_x, perm=[0, 2, 1, 3])\n",
    "\n",
    "        return split_x\n",
    "\n",
    "    def combine_heads(self, x):\n",
    "        bsz = x.shape[0]\n",
    "        combined_x = tf.transpose(x, perm=[0, 2, 1, 3])\n",
    "        combined_x = tf.reshape(combined_x, (bsz, -1, self.d_model))\n",
    "\n",
    "        return combined_x\n",
    "\n",
    "    \n",
    "    def call(self, Q, K, V, mask):\n",
    "        WQ = self.W_q(Q)\n",
    "        WK = self.W_k(K)\n",
    "        WV = self.W_v(V)\n",
    "        \n",
    "        WQ_splits = self.split_heads(WQ)\n",
    "        WK_splits = self.split_heads(WK)\n",
    "        WV_splits = self.split_heads(WV)\n",
    "        \n",
    "        out, attention_weights = self.scaled_dot_product_attention(\n",
    "            WQ_splits, WK_splits, WV_splits, mask)\n",
    "                        \n",
    "        out = self.combine_heads(out)\n",
    "        out = self.linear(out)\n",
    "            \n",
    "        return out, attention_weights\n",
    "print(\"슝=3\")"
   ]
  },
  {
   "cell_type": "code",
   "execution_count": 32,
   "id": "678316e7",
   "metadata": {},
   "outputs": [
    {
     "name": "stdout",
     "output_type": "stream",
     "text": [
      "슝=3\n"
     ]
    }
   ],
   "source": [
    "# position-wise ffn\n",
    "# Position-wise Feed Forward Network 구현\n",
    "class PoswiseFeedForwardNet(tf.keras.layers.Layer):\n",
    "    def __init__(self, d_model, d_ff):\n",
    "        super(PoswiseFeedForwardNet, self).__init__()\n",
    "        self.d_model = d_model\n",
    "        self.d_ff = d_ff\n",
    "\n",
    "        self.fc1 = tf.keras.layers.Dense(d_ff, activation='relu')\n",
    "        self.fc2 = tf.keras.layers.Dense(d_model)\n",
    "\n",
    "    def call(self, x):\n",
    "        out = self.fc1(x)\n",
    "        out = self.fc2(out)\n",
    "            \n",
    "        return out\n",
    "print(\"슝=3\")"
   ]
  },
  {
   "cell_type": "code",
   "execution_count": 33,
   "id": "0c936021",
   "metadata": {},
   "outputs": [
    {
     "name": "stdout",
     "output_type": "stream",
     "text": [
      "슝=3\n"
     ]
    }
   ],
   "source": [
    "#encoder layer\n",
    "# Encoder의 레이어 구현\n",
    "class EncoderLayer(tf.keras.layers.Layer):\n",
    "    def __init__(self, d_model, n_heads, d_ff, dropout):\n",
    "        super(EncoderLayer, self).__init__()\n",
    "\n",
    "        self.enc_self_attn = MultiHeadAttention(d_model, n_heads)\n",
    "        self.ffn = PoswiseFeedForwardNet(d_model, d_ff)\n",
    "\n",
    "        self.norm_1 = tf.keras.layers.LayerNormalization(epsilon=1e-6)\n",
    "        self.norm_2 = tf.keras.layers.LayerNormalization(epsilon=1e-6)\n",
    "\n",
    "        self.do = tf.keras.layers.Dropout(dropout)\n",
    "        \n",
    "    def call(self, x, mask):\n",
    "        '''\n",
    "        Multi-Head Attention\n",
    "        '''\n",
    "        residual = x\n",
    "        out = self.norm_1(x)\n",
    "        out, enc_attn = self.enc_self_attn(out, out, out, mask)\n",
    "        out = self.do(out)\n",
    "        out += residual\n",
    "        \n",
    "        '''\n",
    "        Position-Wise Feed Forward Network\n",
    "        '''\n",
    "        residual = out\n",
    "        out = self.norm_2(out)\n",
    "        out = self.ffn(out)\n",
    "        out = self.do(out)\n",
    "        out += residual\n",
    "        \n",
    "        return out, enc_attn\n",
    "\n",
    "print(\"슝=3\")"
   ]
  },
  {
   "cell_type": "code",
   "execution_count": 34,
   "id": "ea72483a",
   "metadata": {},
   "outputs": [
    {
     "name": "stdout",
     "output_type": "stream",
     "text": [
      "슝=3\n"
     ]
    }
   ],
   "source": [
    "# decoder layer\n",
    "# Decoder 레이어 구현\n",
    "class DecoderLayer(tf.keras.layers.Layer):\n",
    "    def __init__(self, d_model, num_heads, d_ff, dropout):\n",
    "        super(DecoderLayer, self).__init__()\n",
    "\n",
    "        self.dec_self_attn = MultiHeadAttention(d_model, num_heads)\n",
    "        self.enc_dec_attn = MultiHeadAttention(d_model, num_heads)\n",
    "\n",
    "        self.ffn = PoswiseFeedForwardNet(d_model, d_ff)\n",
    "\n",
    "        self.norm_1 = tf.keras.layers.LayerNormalization(epsilon=1e-6)\n",
    "        self.norm_2 = tf.keras.layers.LayerNormalization(epsilon=1e-6)\n",
    "        self.norm_3 = tf.keras.layers.LayerNormalization(epsilon=1e-6)\n",
    "\n",
    "        self.do = tf.keras.layers.Dropout(dropout)\n",
    "    \n",
    "    def call(self, x, enc_out, dec_enc_mask, padding_mask):\n",
    "        '''\n",
    "        Masked Multi-Head Attention\n",
    "        '''\n",
    "        residual = x\n",
    "        out = self.norm_1(x)\n",
    "        out, dec_attn = self.dec_self_attn(out, out, out, padding_mask)\n",
    "        out = self.do(out)\n",
    "        out += residual\n",
    "\n",
    "        '''\n",
    "        Multi-Head Attention\n",
    "        '''\n",
    "        residual = out\n",
    "        out = self.norm_2(out)\n",
    "        # Q, K, V 순서에 주의하세요!\n",
    "        out, dec_enc_attn = self.enc_dec_attn(Q=out, K=enc_out, V=enc_out, mask=dec_enc_mask)\n",
    "        out = self.do(out)\n",
    "        out += residual\n",
    "        \n",
    "        '''\n",
    "        Position-Wise Feed Forward Network\n",
    "        '''\n",
    "        residual = out\n",
    "        out = self.norm_3(out)\n",
    "        out = self.ffn(out)\n",
    "        out = self.do(out)\n",
    "        out += residual\n",
    "\n",
    "        return out, dec_attn, dec_enc_attn\n",
    "print(\"슝=3\")"
   ]
  },
  {
   "cell_type": "code",
   "execution_count": 35,
   "id": "f93f74b9",
   "metadata": {},
   "outputs": [
    {
     "name": "stdout",
     "output_type": "stream",
     "text": [
      "슝=3\n"
     ]
    }
   ],
   "source": [
    "# encoder\n",
    "# Encoder 구현\n",
    "class Encoder(tf.keras.Model):\n",
    "    def __init__(self,\n",
    "                    n_layers,\n",
    "                    d_model,\n",
    "                    n_heads,\n",
    "                    d_ff,\n",
    "                    dropout):\n",
    "        super(Encoder, self).__init__()\n",
    "        self.n_layers = n_layers\n",
    "        self.enc_layers = [EncoderLayer(d_model, n_heads, d_ff, dropout) \n",
    "                        for _ in range(n_layers)]\n",
    "    \n",
    "        self.do = tf.keras.layers.Dropout(dropout)\n",
    "        \n",
    "    def call(self, x, mask):\n",
    "        out = x\n",
    "    \n",
    "        enc_attns = list()\n",
    "        for i in range(self.n_layers):\n",
    "            out, enc_attn = self.enc_layers[i](out, mask)\n",
    "            enc_attns.append(enc_attn)\n",
    "        \n",
    "        return out, enc_attns\n",
    "print(\"슝=3\")"
   ]
  },
  {
   "cell_type": "code",
   "execution_count": 36,
   "id": "544c968f",
   "metadata": {},
   "outputs": [
    {
     "name": "stdout",
     "output_type": "stream",
     "text": [
      "슝=3\n"
     ]
    }
   ],
   "source": [
    "# decoder\n",
    "# Decoder 구현\n",
    "class Decoder(tf.keras.Model):\n",
    "    def __init__(self,\n",
    "                    n_layers,\n",
    "                    d_model,\n",
    "                    n_heads,\n",
    "                    d_ff,\n",
    "                    dropout):\n",
    "        super(Decoder, self).__init__()\n",
    "        self.n_layers = n_layers\n",
    "        self.dec_layers = [DecoderLayer(d_model, n_heads, d_ff, dropout) \n",
    "                            for _ in range(n_layers)]\n",
    "                            \n",
    "    def call(self, x, enc_out, dec_enc_mask, padding_mask):\n",
    "        out = x\n",
    "    \n",
    "        dec_attns = list()\n",
    "        dec_enc_attns = list()\n",
    "        for i in range(self.n_layers):\n",
    "            out, dec_attn, dec_enc_attn = \\\n",
    "            self.dec_layers[i](out, enc_out, dec_enc_mask, padding_mask)\n",
    "\n",
    "            dec_attns.append(dec_attn)\n",
    "            dec_enc_attns.append(dec_enc_attn)\n",
    "\n",
    "        return out, dec_attns, dec_enc_attns\n",
    "print(\"슝=3\")"
   ]
  },
  {
   "cell_type": "code",
   "execution_count": 37,
   "id": "afe144d8",
   "metadata": {},
   "outputs": [
    {
     "name": "stdout",
     "output_type": "stream",
     "text": [
      "슝=3\n"
     ]
    }
   ],
   "source": [
    "# transformer\n",
    "class Transformer(tf.keras.Model):\n",
    "    def __init__(self,\n",
    "                    n_layers,\n",
    "                    d_model,\n",
    "                    n_heads,\n",
    "                    d_ff,\n",
    "                    src_vocab_size,\n",
    "                    tgt_vocab_size,\n",
    "                    pos_len,\n",
    "                    dropout=0.2,\n",
    "                    shared_fc=True,\n",
    "                    shared_emb=False):\n",
    "        super(Transformer, self).__init__()\n",
    "        \n",
    "        self.d_model = tf.cast(d_model, tf.float32)\n",
    "\n",
    "        if shared_emb:\n",
    "            self.enc_emb = self.dec_emb = \\\n",
    "            tf.keras.layers.Embedding(src_vocab_size, d_model)\n",
    "        else:\n",
    "            self.enc_emb = tf.keras.layers.Embedding(src_vocab_size, d_model)\n",
    "            self.dec_emb = tf.keras.layers.Embedding(tgt_vocab_size, d_model)\n",
    "\n",
    "        self.pos_encoding = positional_encoding(pos_len, d_model)\n",
    "        self.do = tf.keras.layers.Dropout(dropout)\n",
    "\n",
    "        self.encoder = Encoder(n_layers, d_model, n_heads, d_ff, dropout)\n",
    "        self.decoder = Decoder(n_layers, d_model, n_heads, d_ff, dropout)\n",
    "\n",
    "        self.fc = tf.keras.layers.Dense(tgt_vocab_size)\n",
    "\n",
    "        self.shared_fc = shared_fc\n",
    "\n",
    "        if shared_fc:\n",
    "            self.fc.set_weights(tf.transpose(self.dec_emb.weights))\n",
    "\n",
    "    def embedding(self, emb, x):\n",
    "        seq_len = x.shape[1]\n",
    "\n",
    "        out = emb(x)\n",
    "\n",
    "        if self.shared_fc: out *= tf.math.sqrt(self.d_model)\n",
    "\n",
    "        out += self.pos_encoding[np.newaxis, ...][:, :seq_len, :]\n",
    "        out = self.do(out)\n",
    "\n",
    "        return out\n",
    "\n",
    "        \n",
    "    def call(self, enc_in, dec_in, enc_mask, dec_enc_mask, dec_mask):\n",
    "        enc_in = self.embedding(self.enc_emb, enc_in)\n",
    "        dec_in = self.embedding(self.dec_emb, dec_in)\n",
    "\n",
    "        enc_out, enc_attns = self.encoder(enc_in, enc_mask)\n",
    "        \n",
    "        dec_out, dec_attns, dec_enc_attns = \\\n",
    "        self.decoder(dec_in, enc_out, dec_enc_mask, dec_mask)\n",
    "        \n",
    "        logits = self.fc(dec_out)\n",
    "        \n",
    "        return logits, enc_attns, dec_attns, dec_enc_attns\n",
    "print(\"슝=3\")"
   ]
  },
  {
   "cell_type": "code",
   "execution_count": 38,
   "id": "b31abf5d",
   "metadata": {},
   "outputs": [
    {
     "name": "stdout",
     "output_type": "stream",
     "text": [
      "슝=3\n"
     ]
    }
   ],
   "source": [
    "# 주어진 하이퍼파라미터로 Transformer 인스턴스 생성\n",
    "transformer = Transformer(\n",
    "    n_layers=2,\n",
    "    d_model=512,\n",
    "    n_heads=8,\n",
    "    d_ff=2048,\n",
    "    src_vocab_size=VOCAB_SIZE,\n",
    "    tgt_vocab_size=VOCAB_SIZE,\n",
    "    pos_len=200,\n",
    "    dropout=0.3,\n",
    "    shared_fc=True,\n",
    "    shared_emb=True)\n",
    "\t\t\n",
    "d_model = 512\n",
    "print(\"슝=3\")"
   ]
  },
  {
   "cell_type": "markdown",
   "id": "fa0c6da9",
   "metadata": {},
   "source": [
    "- 트랜스포머는 고정된 learning rate를 사용하지 않았다. \n",
    "- LearningRateScheduler를 정의\n",
    "- 학습 중 적절한 방식으로 learning rate를 변경하면서 학습\n",
    "- warmup learning rate scheduler : 모델의 초기 학습 단계에서 학습률을 서서히 증가시키는 기법\n"
   ]
  },
  {
   "cell_type": "code",
   "execution_count": 39,
   "id": "5f6ac2e1",
   "metadata": {},
   "outputs": [
    {
     "name": "stdout",
     "output_type": "stream",
     "text": [
      "슝=3\n"
     ]
    }
   ],
   "source": [
    "# Learning Rate Scheduler 구현\n",
    "class LearningRateScheduler(tf.keras.optimizers.schedules.LearningRateSchedule):\n",
    "    def __init__(self, d_model, warmup_steps=4000):\n",
    "        super(LearningRateScheduler, self).__init__()\n",
    "        \n",
    "        self.d_model = d_model\n",
    "        self.warmup_steps = warmup_steps\n",
    "    \n",
    "    def __call__(self, step):\n",
    "        arg1 = step ** -0.5\n",
    "        arg2 = step * (self.warmup_steps ** -1.5)\n",
    "        \n",
    "        return (self.d_model ** -0.5) * tf.math.minimum(arg1, arg2)\n",
    "print(\"슝=3\")"
   ]
  },
  {
   "cell_type": "code",
   "execution_count": 40,
   "id": "e65f77e8",
   "metadata": {},
   "outputs": [
    {
     "name": "stdout",
     "output_type": "stream",
     "text": [
      "슝=3\n"
     ]
    }
   ],
   "source": [
    "# Learning Rate 인스턴스 선언 & Optimizer 구현\n",
    "learning_rate = LearningRateScheduler(d_model)\n",
    "\n",
    "optimizer = tf.keras.optimizers.Adam(learning_rate,\n",
    "                                        beta_1=0.9,\n",
    "                                        beta_2=0.98, \n",
    "                                        epsilon=1e-9)\n",
    "print(\"슝=3\")"
   ]
  },
  {
   "cell_type": "code",
   "execution_count": 41,
   "id": "0763fd18",
   "metadata": {},
   "outputs": [
    {
     "name": "stdout",
     "output_type": "stream",
     "text": [
      "슝=3\n"
     ]
    }
   ],
   "source": [
    "# Loss Function 정의\n",
    "loss_object = tf.keras.losses.SparseCategoricalCrossentropy(\n",
    "    from_logits=True, reduction='none')\n",
    "\n",
    "def loss_function(real, pred):\n",
    "    mask = tf.math.logical_not(tf.math.equal(real, 0))\n",
    "    loss_ = loss_object(real, pred)\n",
    "\n",
    "    mask = tf.cast(mask, dtype=loss_.dtype)\n",
    "    loss_ *= mask\n",
    "\n",
    "    return tf.reduce_sum(loss_)/tf.reduce_sum(mask)\n",
    "print(\"슝=3\")"
   ]
  },
  {
   "cell_type": "code",
   "execution_count": 42,
   "id": "346e4277",
   "metadata": {},
   "outputs": [
    {
     "name": "stdout",
     "output_type": "stream",
     "text": [
      "슝=3\n"
     ]
    }
   ],
   "source": [
    "# Train Step 정의\n",
    "@tf.function()\n",
    "def train_step(src, tgt, model, optimizer):\n",
    "    tgt_in = tgt[:, :-1]  # Decoder의 input\n",
    "    gold = tgt[:, 1:]     # Decoder의 output과 비교하기 위해 right shift를 통해 생성한 최종 타겟\n",
    "\n",
    "    enc_mask, dec_enc_mask, dec_mask = generate_masks(src, tgt_in)\n",
    "\n",
    "    with tf.GradientTape() as tape:\n",
    "        predictions, enc_attns, dec_attns, dec_enc_attns = \\\n",
    "        model(src, tgt_in, enc_mask, dec_enc_mask, dec_mask)\n",
    "        loss = loss_function(gold, predictions)\n",
    "\n",
    "    gradients = tape.gradient(loss, model.trainable_variables)    \n",
    "    optimizer.apply_gradients(zip(gradients, model.trainable_variables))\n",
    "\n",
    "    return loss, enc_attns, dec_attns, dec_enc_attns\n",
    "print(\"슝=3\")"
   ]
  },
  {
   "cell_type": "code",
   "execution_count": 43,
   "id": "a98b5363",
   "metadata": {},
   "outputs": [],
   "source": [
    "def evaluate(sentence):\n",
    "    sentence = preprocess_sentence(sentence)\n",
    "\n",
    "    tokens = sp.encode(sentence, out_type=int)\n",
    "    encoder_input = tf.expand_dims(tokens, axis=0)\n",
    "\n",
    "    start_id = sp.piece_to_id('<start>')\n",
    "    end_id = sp.piece_to_id('<end>')\n",
    "    output = tf.expand_dims([start_id], 0)\n",
    "\n",
    "    for _ in range(MAX_LENGTH):\n",
    "        enc_mask, dec_enc_mask, dec_mask = generate_masks(encoder_input, output)\n",
    "\n",
    "        predictions, _, _, _ = transformer(\n",
    "            encoder_input, output, enc_mask, dec_enc_mask, dec_mask\n",
    "        )\n",
    "\n",
    "        predicted_id = tf.argmax(predictions[:, -1:, :], axis=-1)\n",
    "        predicted_id = tf.cast(predicted_id, tf.int32)\n",
    "\n",
    "        if predicted_id[0][0].numpy() == end_id:\n",
    "            break\n",
    "\n",
    "        output = tf.concat([output, predicted_id], axis=-1)\n",
    "\n",
    "    decoded = sp.decode(output.numpy().tolist()[0])\n",
    "    return decoded.replace('<start>', '').replace('<end>', '').strip()\n"
   ]
  },
  {
   "cell_type": "code",
   "execution_count": 44,
   "id": "a290cbca",
   "metadata": {},
   "outputs": [
    {
     "name": "stderr",
     "output_type": "stream",
     "text": [
      "Epoch 1: 100%|██████████| 459/459 [00:51<00:00,  8.95it/s, train_loss=4.88]\n"
     ]
    },
    {
     "name": "stdout",
     "output_type": "stream",
     "text": [
      "\n",
      "🌀 Epoch 1, Train Loss: 4.8823, Val Loss: 3.3008\n",
      "📘 Sample Responses:\n",
      "1. 지루하다, 놀러가고 싶어. → 에 는 운 하 지 않 을 거 예요 .\n",
      "2. 오늘 일찍 일어났더니 피곤하다. → 이 운운 하 지 않 을 거 예요 .\n",
      "3. 간만에 여자친구랑 데이트 하기로 했어. → 이 낫 은 사람 이 었 을 거 예요 .\n",
      "4. 집에 있는다는 소리야. → 이 낫 을 거 예요 .\n"
     ]
    },
    {
     "name": "stderr",
     "output_type": "stream",
     "text": [
      "Epoch 2: 100%|██████████| 459/459 [00:29<00:00, 15.44it/s, train_loss=2.77]\n"
     ]
    },
    {
     "name": "stdout",
     "output_type": "stream",
     "text": [
      "\n",
      "🌀 Epoch 2, Train Loss: 2.7677, Val Loss: 2.3708\n",
      "📘 Sample Responses:\n",
      "1. 지루하다, 놀러가고 싶어. → 그 사람 은 일 이 있 나 봐요 .\n",
      "2. 오늘 일찍 일어났더니 피곤하다. → 남 았 나 봐요 .\n",
      "3. 간만에 여자친구랑 데이트 하기로 했어. → 에 는 쉽 은 언제나 는 걸요 .\n",
      "4. 집에 있는다는 소리야. → 그게 사람 만날 수 있 을 거 예요 .\n"
     ]
    },
    {
     "name": "stderr",
     "output_type": "stream",
     "text": [
      "Epoch 3: 100%|██████████| 459/459 [00:30<00:00, 14.84it/s, train_loss=1.82]\n"
     ]
    },
    {
     "name": "stdout",
     "output_type": "stream",
     "text": [
      "\n",
      "🌀 Epoch 3, Train Loss: 1.8151, Val Loss: 1.6949\n",
      "📘 Sample Responses:\n",
      "1. 지루하다, 놀러가고 싶어. → 운동안 일 거 예요 .\n",
      "2. 오늘 일찍 일어났더니 피곤하다. → 힘든 일 이 치름 이 었 나 봐요 .\n",
      "3. 간만에 여자친구랑 데이트 하기로 했어. → 운동 은 항상일 만날 수 없다 어요 .\n",
      "4. 집에 있는다는 소리야. → 때 까지 인 인 인 인 인 인 마음 이 네요 .\n"
     ]
    },
    {
     "name": "stderr",
     "output_type": "stream",
     "text": [
      "Epoch 4: 100%|██████████| 459/459 [00:32<00:00, 14.25it/s, train_loss=1.09]\n"
     ]
    },
    {
     "name": "stdout",
     "output_type": "stream",
     "text": [
      "\n",
      "🌀 Epoch 4, Train Loss: 1.0912, Val Loss: 1.3312\n",
      "📘 Sample Responses:\n",
      "1. 지루하다, 놀러가고 싶어. → 받 은 사람 만 보 는 것 도 좋 을 것 같 아요 .\n",
      "2. 오늘 일찍 일어났더니 피곤하다. → 그래도 발 을 정리 하 는 건 나쁘 을 거 예요 .\n",
      "3. 간만에 여자친구랑 데이트 하기로 했어. → 하늘 과 요 .\n",
      "4. 집에 있는다는 소리야. → 안 좋 은 습관 이 되 었 나 봐요 .\n"
     ]
    },
    {
     "name": "stderr",
     "output_type": "stream",
     "text": [
      "Epoch 5: 100%|██████████| 459/459 [00:31<00:00, 14.60it/s, train_loss=0.798]\n"
     ]
    },
    {
     "name": "stdout",
     "output_type": "stream",
     "text": [
      "\n",
      "🌀 Epoch 5, Train Loss: 0.7976, Val Loss: 1.2116\n",
      "📘 Sample Responses:\n",
      "1. 지루하다, 놀러가고 싶어. → 낫 은 곳 는 안 나 면 좋 아요 .\n",
      "2. 오늘 일찍 일어났더니 피곤하다. → 최근 에 대한 간격 이름 이름 이름 일으 세요 .\n",
      "3. 간만에 여자친구랑 데이트 하기로 했어. → 연관성 도 아니 면 어떻게 연락 하 는 것 도 좋 을 것 같 아요 .\n",
      "4. 집에 있는다는 소리야. → 정말 괜찮 을 거 예요 .\n"
     ]
    },
    {
     "name": "stderr",
     "output_type": "stream",
     "text": [
      "Epoch 6: 100%|██████████| 459/459 [00:31<00:00, 14.45it/s, train_loss=0.71] \n"
     ]
    },
    {
     "name": "stdout",
     "output_type": "stream",
     "text": [
      "\n",
      "🌀 Epoch 6, Train Loss: 0.7097, Val Loss: 1.1494\n",
      "📘 Sample Responses:\n",
      "1. 지루하다, 놀러가고 싶어. → 자기 을 위해 조금 씩 더 힘들 거 예요 .\n",
      "2. 오늘 일찍 일어났더니 피곤하다. → 은연 중 에 하 고 넘겨받 은 실 것 보 세요 .\n",
      "3. 간만에 여자친구랑 데이트 하기로 했어. → 낫 아 하 지 마세요 .\n",
      "4. 집에 있는다는 소리야. → 쉽 게 쉽 지 않 을 거 예요 .\n"
     ]
    },
    {
     "name": "stderr",
     "output_type": "stream",
     "text": [
      "Epoch 7: 100%|██████████| 459/459 [00:31<00:00, 14.59it/s, train_loss=0.674]\n"
     ]
    },
    {
     "name": "stdout",
     "output_type": "stream",
     "text": [
      "\n",
      "🌀 Epoch 7, Train Loss: 0.6741, Val Loss: 1.1083\n",
      "📘 Sample Responses:\n",
      "1. 지루하다, 놀러가고 싶어. → 낫 은 초순 을 찾아오 세요 .\n",
      "2. 오늘 일찍 일어났더니 피곤하다. → 안 나쁘 은 간격 이 었 나 봐요 .\n",
      "3. 간만에 여자친구랑 데이트 하기로 했어. → 에 는 항상 반복 되 었 나 봐요 .\n",
      "4. 집에 있는다는 소리야. → 낫 은 욕망 이 었 을 텐데 맘 이 에요 .\n"
     ]
    },
    {
     "name": "stderr",
     "output_type": "stream",
     "text": [
      "Epoch 8: 100%|██████████| 459/459 [00:31<00:00, 14.53it/s, train_loss=0.659]\n"
     ]
    },
    {
     "name": "stdout",
     "output_type": "stream",
     "text": [
      "\n",
      "🌀 Epoch 8, Train Loss: 0.6590, Val Loss: 1.1078\n",
      "📘 Sample Responses:\n",
      "1. 지루하다, 놀러가고 싶어. → 다음 에 는 받 아 보 세요 . 한번 참석 이 없었 네요 .\n",
      "2. 오늘 일찍 일어났더니 피곤하다. → 발달 이 파브받 거 예요 .\n",
      "3. 간만에 여자친구랑 데이트 하기로 했어. → 끝 이 드러내 지 않 길 바랄게요 .\n",
      "4. 집에 있는다는 소리야. → 제 도 참 어렵 게 낫 을 거 예요 .\n"
     ]
    },
    {
     "name": "stderr",
     "output_type": "stream",
     "text": [
      "Epoch 9: 100%|██████████| 459/459 [00:31<00:00, 14.55it/s, train_loss=0.658]\n"
     ]
    },
    {
     "name": "stdout",
     "output_type": "stream",
     "text": [
      "\n",
      "🌀 Epoch 9, Train Loss: 0.6577, Val Loss: 1.0804\n",
      "📘 Sample Responses:\n",
      "1. 지루하다, 놀러가고 싶어. → 지금 은 랑 관리 좋 을 만들 어 가속 많이 해 보 세요 .\n",
      "2. 오늘 일찍 일어났더니 피곤하다. → 안 이루어지 고 사귀 는 게 다른 이곳 이 에요 .\n",
      "3. 간만에 여자친구랑 데이트 하기로 했어. → 슬픈 초순 이 에요 .\n",
      "4. 집에 있는다는 소리야. → 제 도 잘 이루어지 길 바랄게요 .\n"
     ]
    },
    {
     "name": "stderr",
     "output_type": "stream",
     "text": [
      "Epoch 10: 100%|██████████| 459/459 [00:31<00:00, 14.49it/s, train_loss=0.593]\n"
     ]
    },
    {
     "name": "stdout",
     "output_type": "stream",
     "text": [
      "\n",
      "🌀 Epoch 10, Train Loss: 0.5931, Val Loss: 1.0119\n",
      "📘 Sample Responses:\n",
      "1. 지루하다, 놀러가고 싶어. → 운동 하 는 게 좋 을 때문 인 거 같 아요 .\n",
      "2. 오늘 일찍 일어났더니 피곤하다. → 운동 으로 그랬 을 거 예요 .\n",
      "3. 간만에 여자친구랑 데이트 하기로 했어. → 부담 스럽 게 이야기 같 은 이야기 셨 군요 .\n",
      "4. 집에 있는다는 소리야. → 운명 은 못한 보내 주 세요 .\n"
     ]
    },
    {
     "name": "stderr",
     "output_type": "stream",
     "text": [
      "Epoch 11: 100%|██████████| 459/459 [00:31<00:00, 14.62it/s, train_loss=0.502]\n"
     ]
    },
    {
     "name": "stdout",
     "output_type": "stream",
     "text": [
      "\n",
      "🌀 Epoch 11, Train Loss: 0.5021, Val Loss: 0.9514\n",
      "📘 Sample Responses:\n",
      "1. 지루하다, 놀러가고 싶어. → 같이 은 장 을 전해 보 세요 .\n",
      "2. 오늘 일찍 일어났더니 피곤하다. → 최선 의 선택 일 거 라 확신 고 나날 거 라 확신 어요 .\n",
      "3. 간만에 여자친구랑 데이트 하기로 했어. → 관련성 갈아소 하 는 게 각기 에게 나쁘 을 거 같 아요 .\n",
      "4. 집에 있는다는 소리야. → 나쁘 은 젊은이 만날 수 없었 을 거 예요 .\n"
     ]
    },
    {
     "name": "stderr",
     "output_type": "stream",
     "text": [
      "Epoch 12: 100%|██████████| 459/459 [00:31<00:00, 14.61it/s, train_loss=0.44] \n"
     ]
    },
    {
     "name": "stdout",
     "output_type": "stream",
     "text": [
      "\n",
      "🌀 Epoch 12, Train Loss: 0.4399, Val Loss: 0.9232\n",
      "📘 Sample Responses:\n",
      "1. 지루하다, 놀러가고 싶어. → 부모 님 을 있 는 일쑤 을 거 예요 .\n",
      "2. 오늘 일찍 일어났더니 피곤하다. → 일주일 이 좀 더디 씩 해 보 세요 .\n",
      "3. 간만에 여자친구랑 데이트 하기로 했어. → 확신 이 가 아니 길 바랄게요 .\n",
      "4. 집에 있는다는 소리야. → 심재 은 터지 도움 이 되 겠 네요 .\n"
     ]
    },
    {
     "name": "stderr",
     "output_type": "stream",
     "text": [
      "Epoch 13: 100%|██████████| 459/459 [00:31<00:00, 14.64it/s, train_loss=0.391]\n"
     ]
    },
    {
     "name": "stdout",
     "output_type": "stream",
     "text": [
      "\n",
      "🌀 Epoch 13, Train Loss: 0.3909, Val Loss: 0.9001\n",
      "📘 Sample Responses:\n",
      "1. 지루하다, 놀러가고 싶어. → 자기 을 낫 은 중순 에 알아보 라고 생각 해요 .\n",
      "2. 오늘 일찍 일어났더니 피곤하다. → 피부색 이런 지 않 았 으면 나쁘 겠 네요 .\n",
      "3. 간만에 여자친구랑 데이트 하기로 했어. → 하늘 을 수 있 어요 .\n",
      "4. 집에 있는다는 소리야. → 전은 하 지 못한 친교 이 없다 게 심정 .\n"
     ]
    },
    {
     "name": "stderr",
     "output_type": "stream",
     "text": [
      "Epoch 14: 100%|██████████| 459/459 [00:31<00:00, 14.57it/s, train_loss=0.352]\n"
     ]
    },
    {
     "name": "stdout",
     "output_type": "stream",
     "text": [
      "\n",
      "🌀 Epoch 14, Train Loss: 0.3519, Val Loss: 0.8911\n",
      "📘 Sample Responses:\n",
      "1. 지루하다, 놀러가고 싶어. → 부모 님 도 당신 을 믿 어 주 세요 .\n",
      "2. 오늘 일찍 일어났더니 피곤하다. → 생각 처럼 쉽 지 않 을 텐데 았 으면 나가 세요 .\n",
      "3. 간만에 여자친구랑 데이트 하기로 했어. → 삭제 하 세요 .\n",
      "4. 집에 있는다는 소리야. → 운명 을 보내 주 세요 .\n"
     ]
    },
    {
     "name": "stderr",
     "output_type": "stream",
     "text": [
      "Epoch 15: 100%|██████████| 459/459 [00:31<00:00, 14.66it/s, train_loss=0.324]\n"
     ]
    },
    {
     "name": "stdout",
     "output_type": "stream",
     "text": [
      "\n",
      "🌀 Epoch 15, Train Loss: 0.3238, Val Loss: 0.8663\n",
      "📘 Sample Responses:\n",
      "1. 지루하다, 놀러가고 싶어. → 상담 을 자 때문 에 요 .\n",
      "2. 오늘 일찍 일어났더니 피곤하다. → 디저 날 이 날 거 예요 .\n",
      "3. 간만에 여자친구랑 데이트 하기로 했어. → 이름 이나 호칭 이 무덤덤 해 지 않 아요 .\n",
      "4. 집에 있는다는 소리야. → 정말 바다 나쁘 아 했 나 봐요 .\n"
     ]
    },
    {
     "name": "stderr",
     "output_type": "stream",
     "text": [
      "Epoch 16: 100%|██████████| 459/459 [00:31<00:00, 14.65it/s, train_loss=0.298]\n"
     ]
    },
    {
     "name": "stdout",
     "output_type": "stream",
     "text": [
      "\n",
      "🌀 Epoch 16, Train Loss: 0.2978, Val Loss: 0.8334\n",
      "📘 Sample Responses:\n",
      "1. 지루하다, 놀러가고 싶어. → 지독 은 언제 와요 .\n",
      "2. 오늘 일찍 일어났더니 피곤하다. → 언제 나 서 일주일 아픈 월과 이 네요 .\n",
      "3. 간만에 여자친구랑 데이트 하기로 했어. → 언니 다 의 웬수 아요 .\n",
      "4. 집에 있는다는 소리야. → 정말 바꾸 은 나 이 라는 건가 봐요 .\n"
     ]
    },
    {
     "name": "stderr",
     "output_type": "stream",
     "text": [
      "Epoch 17: 100%|██████████| 459/459 [00:31<00:00, 14.63it/s, train_loss=0.28] \n"
     ]
    },
    {
     "name": "stdout",
     "output_type": "stream",
     "text": [
      "\n",
      "🌀 Epoch 17, Train Loss: 0.2798, Val Loss: 0.8314\n",
      "📘 Sample Responses:\n",
      "1. 지루하다, 놀러가고 싶어. → 여차 진심 을 해 보 세요 .\n",
      "2. 오늘 일찍 일어났더니 피곤하다. → 나 의 실 거 예요 !\n",
      "3. 간만에 여자친구랑 데이트 하기로 했어. → 빌리 가 나요 .\n",
      "4. 집에 있는다는 소리야. → 찬드 를 울 고 들어맞 는 거 예요 .\n"
     ]
    },
    {
     "name": "stderr",
     "output_type": "stream",
     "text": [
      "Epoch 18: 100%|██████████| 459/459 [00:31<00:00, 14.64it/s, train_loss=0.263]\n"
     ]
    },
    {
     "name": "stdout",
     "output_type": "stream",
     "text": [
      "\n",
      "🌀 Epoch 18, Train Loss: 0.2627, Val Loss: 0.7937\n",
      "📘 Sample Responses:\n",
      "1. 지루하다, 놀러가고 싶어. → 낫 아 시키 면 안 이루어지 는 상태 인가 봐요 .\n",
      "2. 오늘 일찍 일어났더니 피곤하다. → 낫 은 일요일 이 네요 .\n",
      "3. 간만에 여자친구랑 데이트 하기로 했어. → 낫 아 시키 는 것 도 메커니즘 이 에요 .\n",
      "4. 집에 있는다는 소리야. → 정말 바퀼 괜찮 은가 봐요 .\n"
     ]
    },
    {
     "name": "stderr",
     "output_type": "stream",
     "text": [
      "Epoch 19: 100%|██████████| 459/459 [00:31<00:00, 14.66it/s, train_loss=0.247]\n"
     ]
    },
    {
     "name": "stdout",
     "output_type": "stream",
     "text": [
      "\n",
      "🌀 Epoch 19, Train Loss: 0.2465, Val Loss: 0.7935\n",
      "📘 Sample Responses:\n",
      "1. 지루하다, 놀러가고 싶어. → 안 서로 배려 하 고 살 아요 .\n",
      "2. 오늘 일찍 일어났더니 피곤하다. → 황민화 적 으로 돌아가 길 바랄게요 .\n",
      "3. 간만에 여자친구랑 데이트 하기로 했어. → 불필요 한 거 본인 없었 는 거 죠 .\n",
      "4. 집에 있는다는 소리야. → 정말 영원 한 지 않 을 거 예요 .\n"
     ]
    },
    {
     "name": "stderr",
     "output_type": "stream",
     "text": [
      "Epoch 20: 100%|██████████| 459/459 [00:31<00:00, 14.65it/s, train_loss=0.234]\n"
     ]
    },
    {
     "name": "stdout",
     "output_type": "stream",
     "text": [
      "\n",
      "🌀 Epoch 20, Train Loss: 0.2337, Val Loss: 0.7844\n",
      "📘 Sample Responses:\n",
      "1. 지루하다, 놀러가고 싶어. → 요즘 은 제물 위로 가 관전 합니다 .\n",
      "2. 오늘 일찍 일어났더니 피곤하다. → 나가 서 그럴 만 해요 .\n",
      "3. 간만에 여자친구랑 데이트 하기로 했어. → 빌 기적 한 게 , 비판 는 것 도 한답니다 .\n",
      "4. 집에 있는다는 소리야. → 철쭉 들 게 들 고 오 세요 .\n"
     ]
    },
    {
     "name": "stderr",
     "output_type": "stream",
     "text": [
      "Epoch 21: 100%|██████████| 459/459 [00:31<00:00, 14.68it/s, train_loss=0.222]\n"
     ]
    },
    {
     "name": "stdout",
     "output_type": "stream",
     "text": [
      "\n",
      "🌀 Epoch 21, Train Loss: 0.2219, Val Loss: 0.7891\n",
      "📘 Sample Responses:\n",
      "1. 지루하다, 놀러가고 싶어. → 심성 으로 다가 도 모르 고 살 죠 .\n",
      "2. 오늘 일찍 일어났더니 피곤하다. → 그 누구 터지 겠 죠 .\n",
      "3. 간만에 여자친구랑 데이트 하기로 했어. → 운동안 은 허전 할 거 예요 .\n",
      "4. 집에 있는다는 소리야. → 불운 없었 을 수 도 없었 어요 .\n"
     ]
    },
    {
     "name": "stderr",
     "output_type": "stream",
     "text": [
      "Epoch 22: 100%|██████████| 459/459 [00:31<00:00, 14.68it/s, train_loss=0.211]\n"
     ]
    },
    {
     "name": "stdout",
     "output_type": "stream",
     "text": [
      "\n",
      "🌀 Epoch 22, Train Loss: 0.2113, Val Loss: 0.7686\n",
      "📘 Sample Responses:\n",
      "1. 지루하다, 놀러가고 싶어. → 생각 을 잠시 접 어 두 는 것 도 좋 을 거 예요 .\n",
      "2. 오늘 일찍 일어났더니 피곤하다. → 나쁘 아요 . 어느덧 이 지 않 기 도 시간 이 겠 죠 .\n",
      "3. 간만에 여자친구랑 데이트 하기로 했어. → 너희 도 이용 하 지 않 을 입증 해 주 세요 .\n",
      "4. 집에 있는다는 소리야. → 덜 남 의 짚 었 나 봐요 .\n"
     ]
    },
    {
     "name": "stderr",
     "output_type": "stream",
     "text": [
      "Epoch 23: 100%|██████████| 459/459 [00:31<00:00, 14.60it/s, train_loss=0.201]\n"
     ]
    },
    {
     "name": "stdout",
     "output_type": "stream",
     "text": [
      "\n",
      "🌀 Epoch 23, Train Loss: 0.2013, Val Loss: 0.7738\n",
      "📘 Sample Responses:\n",
      "1. 지루하다, 놀러가고 싶어. → 항상 아쉬움 이 죠 .\n",
      "2. 오늘 일찍 일어났더니 피곤하다. → 안 본인 나쁘 아 시키 는 것 도 나쁘 을 거 예요 .\n",
      "3. 간만에 여자친구랑 데이트 하기로 했어. → 그대 의 관심사 표시 가깝 이 네요 .\n",
      "4. 집에 있는다는 소리야. → 정말 어렵 겠 지요 .\n"
     ]
    },
    {
     "name": "stderr",
     "output_type": "stream",
     "text": [
      "Epoch 24: 100%|██████████| 459/459 [00:31<00:00, 14.62it/s, train_loss=0.194]\n"
     ]
    },
    {
     "name": "stdout",
     "output_type": "stream",
     "text": [
      "\n",
      "🌀 Epoch 24, Train Loss: 0.1944, Val Loss: 0.7575\n",
      "📘 Sample Responses:\n",
      "1. 지루하다, 놀러가고 싶어. → 기다리 던 전화 이 었 나 봐요 .\n",
      "2. 오늘 일찍 일어났더니 피곤하다. → 괜찮 아 시키 는 것 도 나쁘 을 거 예요 .\n",
      "3. 간만에 여자친구랑 데이트 하기로 했어. → 그대 이 어렵 지 않 는 편 이 낫 을 것 비슷 아요 .\n",
      "4. 집에 있는다는 소리야. → 정말 후회 할 것 같 다면 이 라도 진심 을 전하 세요 .\n"
     ]
    },
    {
     "name": "stderr",
     "output_type": "stream",
     "text": [
      "Epoch 25: 100%|██████████| 459/459 [00:31<00:00, 14.61it/s, train_loss=0.186]\n"
     ]
    },
    {
     "name": "stdout",
     "output_type": "stream",
     "text": [
      "\n",
      "🌀 Epoch 25, Train Loss: 0.1862, Val Loss: 0.7437\n",
      "📘 Sample Responses:\n",
      "1. 지루하다, 놀러가고 싶어. → 본인 을 더 많이 소중 한 사람 마음 이 에요 .\n",
      "2. 오늘 일찍 일어났더니 피곤하다. → 여유 를 미리 해야 하 는 것 도 충분 해요 .\n",
      "3. 간만에 여자친구랑 데이트 하기로 했어. → 그대 이 간편 게 않 는 게 서로 에게 예의 일 거 예요 .\n",
      "4. 집에 있는다는 소리야. → 정말 바꾸 고 나 서 도움 이 되 곤 해요 .\n"
     ]
    },
    {
     "name": "stderr",
     "output_type": "stream",
     "text": [
      "Epoch 26: 100%|██████████| 459/459 [00:31<00:00, 14.60it/s, train_loss=0.18] \n"
     ]
    },
    {
     "name": "stdout",
     "output_type": "stream",
     "text": [
      "\n",
      "🌀 Epoch 26, Train Loss: 0.1798, Val Loss: 0.7359\n",
      "📘 Sample Responses:\n",
      "1. 지루하다, 놀러가고 싶어. → 면 잠시 눈 을 감 고 싶 은 마음 을 정리 하 세요 .\n",
      "2. 오늘 일찍 일어났더니 피곤하다. → 어디 나 위해서 그게 일주일 에 나쁘 겠 죠 .\n",
      "3. 간만에 여자친구랑 데이트 하기로 했어. → 이름 이 라도정 하 세요 .\n",
      "4. 집에 있는다는 소리야. → 정말 후회 할 것 같 다면 아쉽 아 지 않 길 바랍니다 .\n"
     ]
    },
    {
     "name": "stderr",
     "output_type": "stream",
     "text": [
      "Epoch 27: 100%|██████████| 459/459 [00:31<00:00, 14.64it/s, train_loss=0.172]\n"
     ]
    },
    {
     "name": "stdout",
     "output_type": "stream",
     "text": [
      "\n",
      "🌀 Epoch 27, Train Loss: 0.1719, Val Loss: 0.7421\n",
      "📘 Sample Responses:\n",
      "1. 지루하다, 놀러가고 싶어. → 자 는 걸 도전 하 는 건 참 고 마음 을 해 보 세요 .\n",
      "2. 오늘 일찍 일어났더니 피곤하다. → 안 본인 의 일주일 이 힘들 어요 .\n",
      "3. 간만에 여자친구랑 데이트 하기로 했어. → 불필요 한 것 같이 아요 .\n",
      "4. 집에 있는다는 소리야. → 불필요 한 것 을 계산 하 게 이루어지 었 길 바랄게요 .\n"
     ]
    },
    {
     "name": "stderr",
     "output_type": "stream",
     "text": [
      "Epoch 28: 100%|██████████| 459/459 [00:31<00:00, 14.66it/s, train_loss=0.167]\n"
     ]
    },
    {
     "name": "stdout",
     "output_type": "stream",
     "text": [
      "\n",
      "🌀 Epoch 28, Train Loss: 0.1668, Val Loss: 0.7392\n",
      "📘 Sample Responses:\n",
      "1. 지루하다, 놀러가고 싶어. → 벌 면 화 말 을 해 보 세요 .\n",
      "2. 오늘 일찍 일어났더니 피곤하다. → 이제 새로운 모두 더 사랑 을 했 나 봐요 .\n",
      "3. 간만에 여자친구랑 데이트 하기로 했어. → 너희 이 간부분 을 수 없었 는 걸로 시키 세요 .\n",
      "4. 집에 있는다는 소리야. → 정말 바꾸 적나라 이 네요 .\n"
     ]
    },
    {
     "name": "stderr",
     "output_type": "stream",
     "text": [
      "Epoch 29: 100%|██████████| 459/459 [00:31<00:00, 14.66it/s, train_loss=0.162]\n"
     ]
    },
    {
     "name": "stdout",
     "output_type": "stream",
     "text": [
      "\n",
      "🌀 Epoch 29, Train Loss: 0.1624, Val Loss: 0.7270\n",
      "📘 Sample Responses:\n",
      "1. 지루하다, 놀러가고 싶어. → 심경 의 변화 가 있 었 나 봐요 .\n",
      "2. 오늘 일찍 일어났더니 피곤하다. → 안 좋 은 결과 있 을 거 예요 .\n",
      "3. 간만에 여자친구랑 데이트 하기로 했어. → 항상 신념 이 라도 있었 을 거 예요 .\n",
      "4. 집에 있는다는 소리야. → 정말 바꾸서 네요 .\n"
     ]
    },
    {
     "name": "stderr",
     "output_type": "stream",
     "text": [
      "Epoch 30: 100%|██████████| 459/459 [00:31<00:00, 14.70it/s, train_loss=0.156]\n"
     ]
    },
    {
     "name": "stdout",
     "output_type": "stream",
     "text": [
      "\n",
      "🌀 Epoch 30, Train Loss: 0.1564, Val Loss: 0.7286\n",
      "📘 Sample Responses:\n",
      "1. 지루하다, 놀러가고 싶어. → 그대 이 라도 주 면서 무엇 이 날 거 같 아요 .\n",
      "2. 오늘 일찍 일어났더니 피곤하다. → 운동 으로 땀 을 내보 세요 .\n",
      "3. 간만에 여자친구랑 데이트 하기로 했어. → 그대 한 번 만 회전수 라도 주 세요 .\n",
      "4. 집에 있는다는 소리야. → 정말 바꾸 고 오 세요 .\n"
     ]
    },
    {
     "name": "stderr",
     "output_type": "stream",
     "text": [
      "Epoch 31: 100%|██████████| 459/459 [00:31<00:00, 14.67it/s, train_loss=0.152]\n"
     ]
    },
    {
     "name": "stdout",
     "output_type": "stream",
     "text": [
      "\n",
      "🌀 Epoch 31, Train Loss: 0.1522, Val Loss: 0.7378\n",
      "📘 Sample Responses:\n",
      "1. 지루하다, 놀러가고 싶어. → 심경 의 변화 가 있 나요 .\n",
      "2. 오늘 일찍 일어났더니 피곤하다. → 다른 새로운 으로 잊혀질 수 도 있 어요 .\n",
      "3. 간만에 여자친구랑 데이트 하기로 했어. → 이 라도 깨달 았 으니 더 이상 의 믿음 을 잘 할 거 예요 .\n",
      "4. 집에 있는다는 소리야. → ... 라고 시키 는지 바닷물 어 보 세요 .\n"
     ]
    },
    {
     "name": "stderr",
     "output_type": "stream",
     "text": [
      "Epoch 32: 100%|██████████| 459/459 [00:31<00:00, 14.69it/s, train_loss=0.147]\n"
     ]
    },
    {
     "name": "stdout",
     "output_type": "stream",
     "text": [
      "\n",
      "🌀 Epoch 32, Train Loss: 0.1473, Val Loss: 0.7353\n",
      "📘 Sample Responses:\n",
      "1. 지루하다, 놀러가고 싶어. → 여느 거 라고 생각 보 해요 .\n",
      "2. 오늘 일찍 일어났더니 피곤하다. → 안 괜찮 은 생활환경 이 갈 거 예요 .\n",
      "3. 간만에 여자친구랑 데이트 하기로 했어. → 그분 에 대한 대답 가 나중 하 지 않 아요 .\n",
      "4. 집에 있는다는 소리야. → 정말 상세 한 건 피고 만 알 수 없었 어요 .\n"
     ]
    },
    {
     "name": "stderr",
     "output_type": "stream",
     "text": [
      "Epoch 33: 100%|██████████| 459/459 [00:31<00:00, 14.58it/s, train_loss=0.144]\n"
     ]
    },
    {
     "name": "stdout",
     "output_type": "stream",
     "text": [
      "\n",
      "🌀 Epoch 33, Train Loss: 0.1435, Val Loss: 0.7357\n",
      "📘 Sample Responses:\n",
      "1. 지루하다, 놀러가고 싶어. → 한국 도 위험 해요 .\n",
      "2. 오늘 일찍 일어났더니 피곤하다. → 다른 곳 에 관심 이 더 나 겠 죠 .\n",
      "3. 간만에 여자친구랑 데이트 하기로 했어. → 그대 이 슬픔 하 는 것 도 빠르 지 않 아요 .\n",
      "4. 집에 있는다는 소리야. → 정말 후회 할 것 같 다면 지금 이 라도 진심 이 날 거 예요 .\n"
     ]
    },
    {
     "name": "stderr",
     "output_type": "stream",
     "text": [
      "Epoch 34: 100%|██████████| 459/459 [00:31<00:00, 14.62it/s, train_loss=0.14] \n"
     ]
    },
    {
     "name": "stdout",
     "output_type": "stream",
     "text": [
      "\n",
      "🌀 Epoch 34, Train Loss: 0.1404, Val Loss: 0.7287\n",
      "📘 Sample Responses:\n",
      "1. 지루하다, 놀러가고 싶어. → 멋진 사람 은 빠르 고 살 죠 .\n",
      "2. 오늘 일찍 일어났더니 피곤하다. → 운 현존 에 읽 지 마세요 .\n",
      "3. 간만에 여자친구랑 데이트 하기로 했어. → 항상 결과 가 서로 에게 도움 이 될 거 예요 .\n",
      "4. 집에 있는다는 소리야. → 충분히 그럴 수 없었 어요 .\n"
     ]
    },
    {
     "name": "stderr",
     "output_type": "stream",
     "text": [
      "Epoch 35: 100%|██████████| 459/459 [00:31<00:00, 14.70it/s, train_loss=0.137]\n"
     ]
    },
    {
     "name": "stdout",
     "output_type": "stream",
     "text": [
      "\n",
      "🌀 Epoch 35, Train Loss: 0.1367, Val Loss: 0.7242\n",
      "📘 Sample Responses:\n",
      "1. 지루하다, 놀러가고 싶어. → 운동 하 지 말 고 마음 을 가라앉혀 봐요 .\n",
      "2. 오늘 일찍 일어났더니 피곤하다. → 이제만큼 모두 불필요 해요 .\n",
      "3. 간만에 여자친구랑 데이트 하기로 했어. → 각기 에게 나쁘 은 말로 이 에요 .\n",
      "4. 집에 있는다는 소리야. → 정말 바뀌 각기 에게 나쁘 겠 네요 .\n"
     ]
    },
    {
     "name": "stderr",
     "output_type": "stream",
     "text": [
      "Epoch 36: 100%|██████████| 459/459 [00:31<00:00, 14.60it/s, train_loss=0.133]\n"
     ]
    },
    {
     "name": "stdout",
     "output_type": "stream",
     "text": [
      "\n",
      "🌀 Epoch 36, Train Loss: 0.1331, Val Loss: 0.7356\n",
      "📘 Sample Responses:\n",
      "1. 지루하다, 놀러가고 싶어. → 매일 매일 봐요 .\n",
      "2. 오늘 일찍 일어났더니 피곤하다. → 상냥 이 그렇게 만드 네요 .\n",
      "3. 간만에 여자친구랑 데이트 하기로 했어. → 일 매일 매일 조금 씩 실력 하 세요 .\n",
      "4. 집에 있는다는 소리야. → 상냥 도 괜찮 은 중순 이 에요 .\n"
     ]
    },
    {
     "name": "stderr",
     "output_type": "stream",
     "text": [
      "Epoch 37: 100%|██████████| 459/459 [00:31<00:00, 14.66it/s, train_loss=0.131]\n"
     ]
    },
    {
     "name": "stdout",
     "output_type": "stream",
     "text": [
      "\n",
      "🌀 Epoch 37, Train Loss: 0.1309, Val Loss: 0.7322\n",
      "📘 Sample Responses:\n",
      "1. 지루하다, 놀러가고 싶어. → 그대로 배림 우선 존중 해 보 세요 .\n",
      "2. 오늘 일찍 일어났더니 피곤하다. → 이제 디 를 꺼 더 다가 도 모르 는 게 변해요 .\n",
      "3. 간만에 여자친구랑 데이트 하기로 했어. → 너희 의 증세사 는 것 도 불필요 해요 .\n",
      "4. 집에 있는다는 소리야. → 정말 바란다면 이루어지 는 젊은이 도 파악 해 주 세요 .\n"
     ]
    },
    {
     "name": "stderr",
     "output_type": "stream",
     "text": [
      "Epoch 38: 100%|██████████| 459/459 [00:31<00:00, 14.69it/s, train_loss=0.128]\n"
     ]
    },
    {
     "name": "stdout",
     "output_type": "stream",
     "text": [
      "\n",
      "🌀 Epoch 38, Train Loss: 0.1279, Val Loss: 0.7377\n",
      "📘 Sample Responses:\n",
      "1. 지루하다, 놀러가고 싶어. → 상세 하 지 말 고 자신 을 믿 으세요 .\n",
      "2. 오늘 일찍 일어났더니 피곤하다. → 다른 디 택 했 나 봐요 .\n",
      "3. 간만에 여자친구랑 데이트 하기로 했어. → 일찍 일어나 다울 수 없 는 여자 를 마음 이 예요 .\n",
      "4. 집에 있는다는 소리야. → 소중 한 택 이 라도 있 는 거 드세요 .\n"
     ]
    },
    {
     "name": "stderr",
     "output_type": "stream",
     "text": [
      "Epoch 39: 100%|██████████| 459/459 [00:31<00:00, 14.71it/s, train_loss=0.125]\n"
     ]
    },
    {
     "name": "stdout",
     "output_type": "stream",
     "text": [
      "\n",
      "🌀 Epoch 39, Train Loss: 0.1250, Val Loss: 0.7393\n",
      "📘 Sample Responses:\n",
      "1. 지루하다, 놀러가고 싶어. → 항상 꿈 꾸 죠 .\n",
      "2. 오늘 일찍 일어났더니 피곤하다. → 그게 상냥 이 다음 엔 일주일 이 더 불필요 하 죠 .\n",
      "3. 간만에 여자친구랑 데이트 하기로 했어. → 그대 의 랑 비슷랑 가슴 한 번 그래요 .\n",
      "4. 집에 있는다는 소리야. → 정말 바꾸 던 게 아니 에요 .\n"
     ]
    },
    {
     "name": "stderr",
     "output_type": "stream",
     "text": [
      "Epoch 40: 100%|██████████| 459/459 [00:31<00:00, 14.71it/s, train_loss=0.123] \n"
     ]
    },
    {
     "name": "stdout",
     "output_type": "stream",
     "text": [
      "\n",
      "🌀 Epoch 40, Train Loss: 0.1229, Val Loss: 0.7380\n",
      "📘 Sample Responses:\n",
      "1. 지루하다, 놀러가고 싶어. → 멋진 사람 은 죽음 인가 봐요 .\n",
      "2. 오늘 일찍 일어났더니 피곤하다. → 이제 다른 일자리 여유 를 만날 수 있 을 거 예요 .\n",
      "3. 간만에 여자친구랑 데이트 하기로 했어. → 너희 의 치장황 을 흙 어 보 세요 .\n",
      "4. 집에 있는다는 소리야. → 정말 바쁠 무렵 어려 주 세요 .\n"
     ]
    },
    {
     "name": "stderr",
     "output_type": "stream",
     "text": [
      "Epoch 41: 100%|██████████| 459/459 [00:31<00:00, 14.69it/s, train_loss=0.121] \n"
     ]
    },
    {
     "name": "stdout",
     "output_type": "stream",
     "text": [
      "\n",
      "🌀 Epoch 41, Train Loss: 0.1208, Val Loss: 0.7573\n",
      "📘 Sample Responses:\n",
      "1. 지루하다, 놀러가고 싶어. → 여느님 도 보 를 만 의 확인 해 보 세요 .\n",
      "2. 오늘 일찍 일어났더니 피곤하다. → 이제 낼수록 더 나쁘 은 여인 사귀 고 나 서 더라고요 .\n",
      "3. 간만에 여자친구랑 데이트 하기로 했어. → 빠르 고 있 다면 그게 사고방식 이 에요 .\n",
      "4. 집에 있는다는 소리야. → 정말 바꾸 힘든 각기 이 라도 진심 이 죠 .\n"
     ]
    },
    {
     "name": "stderr",
     "output_type": "stream",
     "text": [
      "Epoch 42: 100%|██████████| 459/459 [00:31<00:00, 14.64it/s, train_loss=0.117] \n"
     ]
    },
    {
     "name": "stdout",
     "output_type": "stream",
     "text": [
      "\n",
      "🌀 Epoch 42, Train Loss: 0.1175, Val Loss: 0.7354\n",
      "📘 Sample Responses:\n",
      "1. 지루하다, 놀러가고 싶어. → 친구 로 남기 니 거 라 확신 해요 .\n",
      "2. 오늘 일찍 일어났더니 피곤하다. → 이제 최선 의 선택 일 거 예요 .\n",
      "3. 간만에 여자친구랑 데이트 하기로 했어. → 그대 이 스럽 지 않 을 거 예요 .\n",
      "4. 집에 있는다는 소리야. → 정말 바뀌 던 게 아니 에요 .\n"
     ]
    },
    {
     "name": "stderr",
     "output_type": "stream",
     "text": [
      "Epoch 43: 100%|██████████| 459/459 [00:31<00:00, 14.67it/s, train_loss=0.116] \n"
     ]
    },
    {
     "name": "stdout",
     "output_type": "stream",
     "text": [
      "\n",
      "🌀 Epoch 43, Train Loss: 0.1157, Val Loss: 0.7373\n",
      "📘 Sample Responses:\n",
      "1. 지루하다, 놀러가고 싶어. → 일단 자연 스럽 게 볼 수 있 을 거 예요 .\n",
      "2. 오늘 일찍 일어났더니 피곤하다. → 이제 둘 고 나 면 조금 이 날아가 는 건 어떨까 요 .\n",
      "3. 간만에 여자친구랑 데이트 하기로 했어. → 이혼 하 세요 .\n",
      "4. 집에 있는다는 소리야. → 정말 바꾸 던 게 아니 에요 .\n"
     ]
    },
    {
     "name": "stderr",
     "output_type": "stream",
     "text": [
      "Epoch 44: 100%|██████████| 459/459 [00:31<00:00, 14.71it/s, train_loss=0.114] \n"
     ]
    },
    {
     "name": "stdout",
     "output_type": "stream",
     "text": [
      "\n",
      "🌀 Epoch 44, Train Loss: 0.1141, Val Loss: 0.7409\n",
      "📘 Sample Responses:\n",
      "1. 지루하다, 놀러가고 싶어. → 여차 를콤 면 스트레스 받 을 수 있 을 거 예요 .\n",
      "2. 오늘 일찍 일어났더니 피곤하다. → 현대사 을 추대 해요 .\n",
      "3. 간만에 여자친구랑 데이트 하기로 했어. → 벌어지 셨 겠 어요 .\n",
      "4. 집에 있는다는 소리야. → 예쁘 게 많이 찍 어 주 세요 .\n"
     ]
    },
    {
     "name": "stderr",
     "output_type": "stream",
     "text": [
      "Epoch 45: 100%|██████████| 459/459 [00:31<00:00, 14.71it/s, train_loss=0.113] \n"
     ]
    },
    {
     "name": "stdout",
     "output_type": "stream",
     "text": [
      "\n",
      "🌀 Epoch 45, Train Loss: 0.1134, Val Loss: 0.7461\n",
      "📘 Sample Responses:\n",
      "1. 지루하다, 놀러가고 싶어. → 혼자 만 의 시간 이 필요 할 거 같 아요 .\n",
      "2. 오늘 일찍 일어났더니 피곤하다. → 이제 그대 이 어머지로 를 건강 이 네요 .\n",
      "3. 간만에 여자친구랑 데이트 하기로 했어. → 이 라도 할게요 .\n",
      "4. 집에 있는다는 소리야. → 정말 바꾸 해야 해요 .\n"
     ]
    },
    {
     "name": "stderr",
     "output_type": "stream",
     "text": [
      "Epoch 46: 100%|██████████| 459/459 [00:31<00:00, 14.74it/s, train_loss=0.111] \n"
     ]
    },
    {
     "name": "stdout",
     "output_type": "stream",
     "text": [
      "\n",
      "🌀 Epoch 46, Train Loss: 0.1115, Val Loss: 0.7509\n",
      "📘 Sample Responses:\n",
      "1. 지루하다, 놀러가고 싶어. → 꾸준히 눈 은 나쁜 사람 이 네요 .\n",
      "2. 오늘 일찍 일어났더니 피곤하다. → 현대사 을 추대 해요 .\n",
      "3. 간만에 여자친구랑 데이트 하기로 했어. → 혼자 만 의 시간 이 필요 할 거 예요 .\n",
      "4. 집에 있는다는 소리야. → 정말 섭섭 한 게 아니 에요 .\n"
     ]
    },
    {
     "name": "stderr",
     "output_type": "stream",
     "text": [
      "Epoch 47: 100%|██████████| 459/459 [00:31<00:00, 14.64it/s, train_loss=0.11]  \n"
     ]
    },
    {
     "name": "stdout",
     "output_type": "stream",
     "text": [
      "\n",
      "🌀 Epoch 47, Train Loss: 0.1097, Val Loss: 0.7693\n",
      "📘 Sample Responses:\n",
      "1. 지루하다, 놀러가고 싶어. → 요즘 피곤 하 겠 어요 .\n",
      "2. 오늘 일찍 일어났더니 피곤하다. → 현대사 을 추대 해요 .\n",
      "3. 간만에 여자친구랑 데이트 하기로 했어. → 너희 이 낫 아 시키 는 거 아닐까요 .\n",
      "4. 집에 있는다는 소리야. → 정말 라고 시키 고 데 서 도움 이 될 것 같이 아요 .\n"
     ]
    },
    {
     "name": "stderr",
     "output_type": "stream",
     "text": [
      "Epoch 48: 100%|██████████| 459/459 [00:31<00:00, 14.74it/s, train_loss=0.109] \n"
     ]
    },
    {
     "name": "stdout",
     "output_type": "stream",
     "text": [
      "\n",
      "🌀 Epoch 48, Train Loss: 0.1095, Val Loss: 0.7583\n",
      "📘 Sample Responses:\n",
      "1. 지루하다, 놀러가고 싶어. → 진짜 이유 를 먼저 무 자 수 있 을 거 예요 .\n",
      "2. 오늘 일찍 일어났더니 피곤하다. → 다른 새로운 무엇 을슨 일 으로 잊혀질 거 예요 .\n",
      "3. 간만에 여자친구랑 데이트 하기로 했어. → 너희 이 발르 겠 어요 .\n",
      "4. 집에 있는다는 소리야. → ... 라고 시키 고 진심 이\n"
     ]
    },
    {
     "name": "stderr",
     "output_type": "stream",
     "text": [
      "Epoch 49: 100%|██████████| 459/459 [00:31<00:00, 14.62it/s, train_loss=0.107] \n"
     ]
    },
    {
     "name": "stdout",
     "output_type": "stream",
     "text": [
      "\n",
      "🌀 Epoch 49, Train Loss: 0.1075, Val Loss: 0.7573\n",
      "📘 Sample Responses:\n",
      "1. 지루하다, 놀러가고 싶어. → 친구 들 과일 도 낫 아요 .\n",
      "2. 오늘 일찍 일어났더니 피곤하다. → 다른 백성 한테 도 휩쓸리 는 건 어떨까 요 .\n",
      "3. 간만에 여자친구랑 데이트 하기로 했어. → 그대로 인 행복 을 시키 지 마세요 .\n",
      "4. 집에 있는다는 소리야. → 예원 이 잦 았 네요 .\n"
     ]
    },
    {
     "name": "stderr",
     "output_type": "stream",
     "text": [
      "Epoch 50: 100%|██████████| 459/459 [00:31<00:00, 14.65it/s, train_loss=0.106] \n"
     ]
    },
    {
     "name": "stdout",
     "output_type": "stream",
     "text": [
      "\n",
      "🌀 Epoch 50, Train Loss: 0.1059, Val Loss: 0.7564\n",
      "📘 Sample Responses:\n",
      "1. 지루하다, 놀러가고 싶어. → 혼자 화 가 풀 어 드릴게요 .\n",
      "2. 오늘 일찍 일어났더니 피곤하다. → 다른 사람 을 풀 어야 할 기대세요 .\n",
      "3. 간만에 여자친구랑 데이트 하기로 했어. → 그대로 인랑 교제 하 는 것 도 빠르 지 않 아요 .\n",
      "4. 집에 있는다는 소리야. → .. 라고 했 던 백성 이 에요 .\n"
     ]
    },
    {
     "data": {
      "image/png": "[encoded data removed]",
      "text/plain": [
       "<Figure size 432x288 with 1 Axes>"
      ]
     },
     "metadata": {
      "needs_background": "light"
     },
     "output_type": "display_data"
    }
   ],
   "source": [
    "import matplotlib.pyplot as plt\n",
    "\n",
    "EPOCHS = 50\n",
    "train_losses = []\n",
    "val_losses = []\n",
    "\n",
    "\n",
    "sample_sentences = [\n",
    "    \"지루하다, 놀러가고 싶어.\",\n",
    "    \"오늘 일찍 일어났더니 피곤하다.\",\n",
    "    \"간만에 여자친구랑 데이트 하기로 했어.\",\n",
    "    \"집에 있는다는 소리야.\"\n",
    "]\n",
    "\n",
    "\n",
    "for epoch in range(EPOCHS):\n",
    "    total_train_loss = 0\n",
    "    total_val_loss = 0\n",
    "\n",
    "    # --- Training ---\n",
    "    train_bar = tqdm(enumerate(train_dataset), total=tf.data.experimental.cardinality(train_dataset).numpy())\n",
    "    for step, (enc_batch, dec_in_batch, dec_out_batch) in train_bar:\n",
    "        batch_loss, _, _, _ = train_step(\n",
    "            src=enc_batch,\n",
    "            tgt=dec_in_batch,\n",
    "            model=transformer,\n",
    "            optimizer=optimizer\n",
    "        )\n",
    "        total_train_loss += batch_loss\n",
    "        train_bar.set_description(f\"Epoch {epoch + 1}\")\n",
    "        train_bar.set_postfix(train_loss=(total_train_loss.numpy() / (step + 1)))\n",
    "\n",
    "    # --- Validation ---\n",
    "    for val_enc_batch, val_dec_in_batch, val_dec_out_batch in val_dataset:\n",
    "        enc_mask, dec_enc_mask, dec_mask = generate_masks(val_enc_batch, val_dec_in_batch)\n",
    "        predictions, _, _, _ = transformer(val_enc_batch, val_dec_in_batch, enc_mask, dec_enc_mask, dec_mask)\n",
    "        loss = loss_function(val_dec_out_batch, predictions)\n",
    "        total_val_loss += loss\n",
    "\n",
    "    epoch_train_loss = total_train_loss.numpy() / tf.data.experimental.cardinality(train_dataset).numpy()\n",
    "    epoch_val_loss = total_val_loss.numpy() / tf.data.experimental.cardinality(val_dataset).numpy()\n",
    "    train_losses.append(epoch_train_loss)\n",
    "    val_losses.append(epoch_val_loss)\n",
    "\n",
    "    # 🔥 Best model 저장\n",
    "    if epoch_val_loss < best_val_loss:\n",
    "        best_val_loss = epoch_val_loss\n",
    "        transformer.save_weights(save_path)\n",
    "        print(f\"✅ Saved best model at Epoch {epoch + 1} (Val Loss: {best_val_loss:.4f})\")\n",
    "\n",
    "        \n",
    "    print(f\"\\n🌀 Epoch {epoch + 1}, Train Loss: {epoch_train_loss:.4f}, Val Loss: {epoch_val_loss:.4f}\")\n",
    "    print(\"📘 Sample Responses:\")\n",
    "    for i, sentence in enumerate(sample_sentences, 1):\n",
    "        try:\n",
    "            print(f\"{i}. {sentence} → {evaluate(sentence)}\")\n",
    "        except Exception as e:\n",
    "            print(f\"{i}. {sentence} → ❌ Error during inference: {e}\")\n",
    "\n",
    "# --- 시각화 ---\n",
    "plt.plot(train_losses, label='Train Loss')\n",
    "plt.plot(val_losses, label='Validation Loss')\n",
    "plt.xlabel(\"Epoch\")\n",
    "plt.ylabel(\"Loss\")\n",
    "plt.legend()\n",
    "plt.title(\"Loss per Epoch\")\n",
    "plt.grid(True)\n",
    "plt.show()\n"
   ]
  },
  {
   "cell_type": "markdown",
   "id": "f3bbb20e",
   "metadata": {},
   "source": [
    "## bpe"
   ]
  },
  {
   "cell_type": "code",
   "execution_count": 127,
   "id": "9728f61d",
   "metadata": {},
   "outputs": [],
   "source": [
    "que_corpus, ans_corpus = aug_df['encoder'], aug_df['decoder']\n",
    "ans_corpus = [f\"<start> {sen.strip()} <end>\" for sen in ans_corpus]\n",
    "total_corpus = que_corpus + ans_corpus"
   ]
  },
  {
   "cell_type": "code",
   "execution_count": 128,
   "id": "01f6950b",
   "metadata": {},
   "outputs": [],
   "source": [
    "with open(\"corpus.txt\", \"w\", encoding=\"utf-8\") as f:\n",
    "    for line in total_corpus:\n",
    "        f.write(line.strip() + \"\\n\")"
   ]
  },
  {
   "cell_type": "code",
   "execution_count": 129,
   "id": "c373ad31",
   "metadata": {},
   "outputs": [],
   "source": [
    "import sentencepiece as spm\n",
    "spm.SentencePieceTrainer.Train(\n",
    "    input='corpus.txt',\n",
    "    model_prefix='spm_bpe',\n",
    "    vocab_size=15000,\n",
    "    model_type='bpe',\n",
    "    user_defined_symbols=['<start>', '<end>'],\n",
    "    character_coverage=0.9995\n",
    ")"
   ]
  },
  {
   "cell_type": "code",
   "execution_count": 130,
   "id": "056b2fce",
   "metadata": {},
   "outputs": [
    {
     "data": {
      "text/plain": [
       "True"
      ]
     },
     "execution_count": 130,
     "metadata": {},
     "output_type": "execute_result"
    }
   ],
   "source": [
    "import sentencepiece as spm\n",
    "\n",
    "sp = spm.SentencePieceProcessor()\n",
    "sp.load('spm_bpe.model')\n"
   ]
  },
  {
   "cell_type": "code",
   "execution_count": 131,
   "id": "472ac3f6",
   "metadata": {},
   "outputs": [
    {
     "name": "stdout",
     "output_type": "stream",
     "text": [
      "['▁', '<start>', '▁안녕', '하', '세요', '▁', '<end>']\n"
     ]
    }
   ],
   "source": [
    "# 인코딩 (텍스트 → ID 시퀀스)\n",
    "ids = sp.encode('<start> 안녕하세요 <end>', out_type=int)\n",
    "\n",
    "# 디코딩 (ID 시퀀스 → 텍스트)\n",
    "text = sp.decode(ids)\n",
    "\n",
    "# 토큰 확인\n",
    "tokens = sp.encode('<start> 안녕하세요 <end>', out_type=str)\n",
    "print(tokens)"
   ]
  },
  {
   "cell_type": "code",
   "execution_count": 132,
   "id": "cb5e0b17",
   "metadata": {},
   "outputs": [],
   "source": [
    "from tensorflow.keras.preprocessing.sequence import pad_sequences\n",
    "\n",
    "MAX_LENGTH = 20\n",
    "\n",
    "# 전체 질문/답변 시퀀스\n",
    "que_seq = [sp.encode(q, out_type=int) for q in que_corpus]\n",
    "ans_seq = [sp.encode(f\"<start> {a} <end>\", out_type=int) for a in ans_corpus]\n",
    "\n",
    "# 패딩\n",
    "enc_train = pad_sequences(que_seq, maxlen=MAX_LENGTH, padding='post')\n",
    "ans_tensor = pad_sequences(ans_seq, maxlen=MAX_LENGTH, padding='post')\n",
    "\n",
    "# 디코더용 입력/출력\n",
    "dec_input = ans_tensor[:, :-1]\n",
    "dec_target = ans_tensor[:, 1:]\n"
   ]
  },
  {
   "cell_type": "code",
   "execution_count": 133,
   "id": "5d9e073a",
   "metadata": {},
   "outputs": [],
   "source": [
    "def evaluate(sentence):\n",
    "    sentence = preprocess_sentence(sentence)\n",
    "    tokens = sp.encode(sentence, out_type=int)\n",
    "    encoder_input = tf.expand_dims(tokens, 0)\n",
    "\n",
    "    start_id = sp.piece_to_id('<start>')\n",
    "    end_id = sp.piece_to_id('<end>')\n",
    "    output = tf.expand_dims([start_id], 0)\n",
    "\n",
    "    for _ in range(MAX_LENGTH):\n",
    "        enc_mask, dec_enc_mask, dec_mask = generate_masks(encoder_input, output)\n",
    "        predictions, _, _, _ = transformer(encoder_input, output, enc_mask, dec_enc_mask, dec_mask)\n",
    "\n",
    "        predicted_id = tf.argmax(predictions[:, -1:, :], axis=-1)\n",
    "        predicted_id = tf.cast(predicted_id, tf.int32)\n",
    "\n",
    "        if predicted_id[0][0].numpy() == end_id:\n",
    "            break\n",
    "\n",
    "        output = tf.concat([output, predicted_id], axis=-1)\n",
    "\n",
    "    result = sp.decode(output.numpy().tolist()[0])\n",
    "    return result.replace('<start>', '').replace('<end>', '').strip()\n"
   ]
  },
  {
   "cell_type": "code",
   "execution_count": 134,
   "id": "efa0c785",
   "metadata": {},
   "outputs": [],
   "source": [
    "#train/val 분리\n",
    "from sklearn.model_selection import train_test_split\n",
    "\n",
    "# 인코더 입력, 디코더 입력, 디코더 출력\n",
    "enc_train, enc_val, dec_input_train, dec_input_val, dec_target_train, dec_target_val = train_test_split(\n",
    "    enc_train, dec_input, dec_target, test_size=0.1, random_state=42)\n",
    "\n",
    "\n",
    "\n",
    "import tensorflow as tf\n",
    "\n",
    "BATCH_SIZE = 64\n",
    "BUFFER_SIZE = 20000\n",
    "\n",
    "train_dataset = tf.data.Dataset.from_tensor_slices((enc_train, dec_input_train, dec_target_train))\n",
    "train_dataset = train_dataset.shuffle(BUFFER_SIZE).batch(BATCH_SIZE)\n",
    "\n",
    "val_dataset = tf.data.Dataset.from_tensor_slices((enc_val, dec_input_val, dec_target_val))\n",
    "val_dataset = val_dataset.batch(BATCH_SIZE)\n"
   ]
  },
  {
   "cell_type": "code",
   "execution_count": 135,
   "id": "a17179f0",
   "metadata": {},
   "outputs": [
    {
     "name": "stderr",
     "output_type": "stream",
     "text": [
      "Epoch 1: 100%|██████████| 459/459 [00:32<00:00, 14.33it/s, train_loss=0.0834]\n"
     ]
    },
    {
     "name": "stdout",
     "output_type": "stream",
     "text": [
      "\n",
      "🌀 Epoch 1, Train Loss: 0.0834, Val Loss: 0.5417\n",
      "📘 Sample Responses:\n",
      "1. 지루하다, 놀러가고 싶어. → 비슷 은 정말 든 멋있 을 거 예요 .\n",
      "2. 오늘 일찍 일어났더니 피곤하다. → 언젠간 올 장면 이 었 을 거 예요 .\n",
      "3. 간만에 여자친구랑 데이트 하기로 했어. → 그냥 헤어짐 을 주 면 들 어 드릴게요 .\n",
      "4. 집에 있는다는 소리야. → 너희 이 라도 달이 면서 충분 한 이곳 으로 겸하 요 .\n"
     ]
    },
    {
     "name": "stderr",
     "output_type": "stream",
     "text": [
      "Epoch 2: 100%|██████████| 459/459 [00:31<00:00, 14.40it/s, train_loss=0.0828]\n"
     ]
    },
    {
     "name": "stdout",
     "output_type": "stream",
     "text": [
      "\n",
      "🌀 Epoch 2, Train Loss: 0.0828, Val Loss: 0.5452\n",
      "📘 Sample Responses:\n",
      "1. 지루하다, 놀러가고 싶어. → 충분히 잘 하 고 있 을 거 예요 .\n",
      "2. 오늘 일찍 일어났더니 피곤하다. → 이제 일어날 분간 이 에요 .\n",
      "3. 간만에 여자친구랑 데이트 하기로 했어. → 어떤 오 라고 말씀 하 는 것 도 좋 을 거 예요 .\n",
      "4. 집에 있는다는 소리야. → 몸값 하 고 둘 다 즐거운 일주일 이 겠 네요 .\n"
     ]
    },
    {
     "name": "stderr",
     "output_type": "stream",
     "text": [
      "Epoch 3:  34%|███▍      | 157/459 [00:10<00:20, 14.45it/s, train_loss=0.0683]\n"
     ]
    },
    {
     "ename": "KeyboardInterrupt",
     "evalue": "",
     "output_type": "error",
     "traceback": [
      "\u001b[0;31m---------------------------------------------------------------------------\u001b[0m",
      "\u001b[0;31mKeyboardInterrupt\u001b[0m                         Traceback (most recent call last)",
      "\u001b[0;32m/tmp/ipykernel_62/3899366149.py\u001b[0m in \u001b[0;36m<module>\u001b[0;34m\u001b[0m\n\u001b[1;32m     21\u001b[0m     \u001b[0mtrain_bar\u001b[0m \u001b[0;34m=\u001b[0m \u001b[0mtqdm\u001b[0m\u001b[0;34m(\u001b[0m\u001b[0menumerate\u001b[0m\u001b[0;34m(\u001b[0m\u001b[0mtrain_dataset\u001b[0m\u001b[0;34m)\u001b[0m\u001b[0;34m,\u001b[0m \u001b[0mtotal\u001b[0m\u001b[0;34m=\u001b[0m\u001b[0mtf\u001b[0m\u001b[0;34m.\u001b[0m\u001b[0mdata\u001b[0m\u001b[0;34m.\u001b[0m\u001b[0mexperimental\u001b[0m\u001b[0;34m.\u001b[0m\u001b[0mcardinality\u001b[0m\u001b[0;34m(\u001b[0m\u001b[0mtrain_dataset\u001b[0m\u001b[0;34m)\u001b[0m\u001b[0;34m.\u001b[0m\u001b[0mnumpy\u001b[0m\u001b[0;34m(\u001b[0m\u001b[0;34m)\u001b[0m\u001b[0;34m)\u001b[0m\u001b[0;34m\u001b[0m\u001b[0;34m\u001b[0m\u001b[0m\n\u001b[1;32m     22\u001b[0m     \u001b[0;32mfor\u001b[0m \u001b[0mstep\u001b[0m\u001b[0;34m,\u001b[0m \u001b[0;34m(\u001b[0m\u001b[0menc_batch\u001b[0m\u001b[0;34m,\u001b[0m \u001b[0mdec_in_batch\u001b[0m\u001b[0;34m,\u001b[0m \u001b[0mdec_out_batch\u001b[0m\u001b[0;34m)\u001b[0m \u001b[0;32min\u001b[0m \u001b[0mtrain_bar\u001b[0m\u001b[0;34m:\u001b[0m\u001b[0;34m\u001b[0m\u001b[0;34m\u001b[0m\u001b[0m\n\u001b[0;32m---> 23\u001b[0;31m         batch_loss, _, _, _ = train_step(\n\u001b[0m\u001b[1;32m     24\u001b[0m             \u001b[0msrc\u001b[0m\u001b[0;34m=\u001b[0m\u001b[0menc_batch\u001b[0m\u001b[0;34m,\u001b[0m\u001b[0;34m\u001b[0m\u001b[0;34m\u001b[0m\u001b[0m\n\u001b[1;32m     25\u001b[0m             \u001b[0mtgt\u001b[0m\u001b[0;34m=\u001b[0m\u001b[0mdec_in_batch\u001b[0m\u001b[0;34m,\u001b[0m\u001b[0;34m\u001b[0m\u001b[0;34m\u001b[0m\u001b[0m\n",
      "\u001b[0;32m/opt/conda/lib/python3.9/site-packages/tensorflow/python/eager/def_function.py\u001b[0m in \u001b[0;36m__call__\u001b[0;34m(self, *args, **kwds)\u001b[0m\n\u001b[1;32m    883\u001b[0m \u001b[0;34m\u001b[0m\u001b[0m\n\u001b[1;32m    884\u001b[0m       \u001b[0;32mwith\u001b[0m \u001b[0mOptionalXlaContext\u001b[0m\u001b[0;34m(\u001b[0m\u001b[0mself\u001b[0m\u001b[0;34m.\u001b[0m\u001b[0m_jit_compile\u001b[0m\u001b[0;34m)\u001b[0m\u001b[0;34m:\u001b[0m\u001b[0;34m\u001b[0m\u001b[0;34m\u001b[0m\u001b[0m\n\u001b[0;32m--> 885\u001b[0;31m         \u001b[0mresult\u001b[0m \u001b[0;34m=\u001b[0m \u001b[0mself\u001b[0m\u001b[0;34m.\u001b[0m\u001b[0m_call\u001b[0m\u001b[0;34m(\u001b[0m\u001b[0;34m*\u001b[0m\u001b[0margs\u001b[0m\u001b[0;34m,\u001b[0m \u001b[0;34m**\u001b[0m\u001b[0mkwds\u001b[0m\u001b[0;34m)\u001b[0m\u001b[0;34m\u001b[0m\u001b[0;34m\u001b[0m\u001b[0m\n\u001b[0m\u001b[1;32m    886\u001b[0m \u001b[0;34m\u001b[0m\u001b[0m\n\u001b[1;32m    887\u001b[0m       \u001b[0mnew_tracing_count\u001b[0m \u001b[0;34m=\u001b[0m \u001b[0mself\u001b[0m\u001b[0;34m.\u001b[0m\u001b[0mexperimental_get_tracing_count\u001b[0m\u001b[0;34m(\u001b[0m\u001b[0;34m)\u001b[0m\u001b[0;34m\u001b[0m\u001b[0;34m\u001b[0m\u001b[0m\n",
      "\u001b[0;32m/opt/conda/lib/python3.9/site-packages/tensorflow/python/eager/def_function.py\u001b[0m in \u001b[0;36m_call\u001b[0;34m(self, *args, **kwds)\u001b[0m\n\u001b[1;32m    915\u001b[0m       \u001b[0;31m# In this case we have created variables on the first call, so we run the\u001b[0m\u001b[0;34m\u001b[0m\u001b[0;34m\u001b[0m\u001b[0m\n\u001b[1;32m    916\u001b[0m       \u001b[0;31m# defunned version which is guaranteed to never create variables.\u001b[0m\u001b[0;34m\u001b[0m\u001b[0;34m\u001b[0m\u001b[0m\n\u001b[0;32m--> 917\u001b[0;31m       \u001b[0;32mreturn\u001b[0m \u001b[0mself\u001b[0m\u001b[0;34m.\u001b[0m\u001b[0m_stateless_fn\u001b[0m\u001b[0;34m(\u001b[0m\u001b[0;34m*\u001b[0m\u001b[0margs\u001b[0m\u001b[0;34m,\u001b[0m \u001b[0;34m**\u001b[0m\u001b[0mkwds\u001b[0m\u001b[0;34m)\u001b[0m  \u001b[0;31m# pylint: disable=not-callable\u001b[0m\u001b[0;34m\u001b[0m\u001b[0;34m\u001b[0m\u001b[0m\n\u001b[0m\u001b[1;32m    918\u001b[0m     \u001b[0;32melif\u001b[0m \u001b[0mself\u001b[0m\u001b[0;34m.\u001b[0m\u001b[0m_stateful_fn\u001b[0m \u001b[0;32mis\u001b[0m \u001b[0;32mnot\u001b[0m \u001b[0;32mNone\u001b[0m\u001b[0;34m:\u001b[0m\u001b[0;34m\u001b[0m\u001b[0;34m\u001b[0m\u001b[0m\n\u001b[1;32m    919\u001b[0m       \u001b[0;31m# Release the lock early so that multiple threads can perform the call\u001b[0m\u001b[0;34m\u001b[0m\u001b[0;34m\u001b[0m\u001b[0m\n",
      "\u001b[0;32m/opt/conda/lib/python3.9/site-packages/tensorflow/python/eager/function.py\u001b[0m in \u001b[0;36m__call__\u001b[0;34m(self, *args, **kwargs)\u001b[0m\n\u001b[1;32m   3037\u001b[0m       (graph_function,\n\u001b[1;32m   3038\u001b[0m        filtered_flat_args) = self._maybe_define_function(args, kwargs)\n\u001b[0;32m-> 3039\u001b[0;31m     return graph_function._call_flat(\n\u001b[0m\u001b[1;32m   3040\u001b[0m         filtered_flat_args, captured_inputs=graph_function.captured_inputs)  # pylint: disable=protected-access\n\u001b[1;32m   3041\u001b[0m \u001b[0;34m\u001b[0m\u001b[0m\n",
      "\u001b[0;32m/opt/conda/lib/python3.9/site-packages/tensorflow/python/eager/function.py\u001b[0m in \u001b[0;36m_call_flat\u001b[0;34m(self, args, captured_inputs, cancellation_manager)\u001b[0m\n\u001b[1;32m   1961\u001b[0m         and executing_eagerly):\n\u001b[1;32m   1962\u001b[0m       \u001b[0;31m# No tape is watching; skip to running the function.\u001b[0m\u001b[0;34m\u001b[0m\u001b[0;34m\u001b[0m\u001b[0m\n\u001b[0;32m-> 1963\u001b[0;31m       return self._build_call_outputs(self._inference_function.call(\n\u001b[0m\u001b[1;32m   1964\u001b[0m           ctx, args, cancellation_manager=cancellation_manager))\n\u001b[1;32m   1965\u001b[0m     forward_backward = self._select_forward_and_backward_functions(\n",
      "\u001b[0;32m/opt/conda/lib/python3.9/site-packages/tensorflow/python/eager/function.py\u001b[0m in \u001b[0;36mcall\u001b[0;34m(self, ctx, args, cancellation_manager)\u001b[0m\n\u001b[1;32m    589\u001b[0m       \u001b[0;32mwith\u001b[0m \u001b[0m_InterpolateFunctionError\u001b[0m\u001b[0;34m(\u001b[0m\u001b[0mself\u001b[0m\u001b[0;34m)\u001b[0m\u001b[0;34m:\u001b[0m\u001b[0;34m\u001b[0m\u001b[0;34m\u001b[0m\u001b[0m\n\u001b[1;32m    590\u001b[0m         \u001b[0;32mif\u001b[0m \u001b[0mcancellation_manager\u001b[0m \u001b[0;32mis\u001b[0m \u001b[0;32mNone\u001b[0m\u001b[0;34m:\u001b[0m\u001b[0;34m\u001b[0m\u001b[0;34m\u001b[0m\u001b[0m\n\u001b[0;32m--> 591\u001b[0;31m           outputs = execute.execute(\n\u001b[0m\u001b[1;32m    592\u001b[0m               \u001b[0mstr\u001b[0m\u001b[0;34m(\u001b[0m\u001b[0mself\u001b[0m\u001b[0;34m.\u001b[0m\u001b[0msignature\u001b[0m\u001b[0;34m.\u001b[0m\u001b[0mname\u001b[0m\u001b[0;34m)\u001b[0m\u001b[0;34m,\u001b[0m\u001b[0;34m\u001b[0m\u001b[0;34m\u001b[0m\u001b[0m\n\u001b[1;32m    593\u001b[0m               \u001b[0mnum_outputs\u001b[0m\u001b[0;34m=\u001b[0m\u001b[0mself\u001b[0m\u001b[0;34m.\u001b[0m\u001b[0m_num_outputs\u001b[0m\u001b[0;34m,\u001b[0m\u001b[0;34m\u001b[0m\u001b[0;34m\u001b[0m\u001b[0m\n",
      "\u001b[0;32m/opt/conda/lib/python3.9/site-packages/tensorflow/python/eager/execute.py\u001b[0m in \u001b[0;36mquick_execute\u001b[0;34m(op_name, num_outputs, inputs, attrs, ctx, name)\u001b[0m\n\u001b[1;32m     57\u001b[0m   \u001b[0;32mtry\u001b[0m\u001b[0;34m:\u001b[0m\u001b[0;34m\u001b[0m\u001b[0;34m\u001b[0m\u001b[0m\n\u001b[1;32m     58\u001b[0m     \u001b[0mctx\u001b[0m\u001b[0;34m.\u001b[0m\u001b[0mensure_initialized\u001b[0m\u001b[0;34m(\u001b[0m\u001b[0;34m)\u001b[0m\u001b[0;34m\u001b[0m\u001b[0;34m\u001b[0m\u001b[0m\n\u001b[0;32m---> 59\u001b[0;31m     tensors = pywrap_tfe.TFE_Py_Execute(ctx._handle, device_name, op_name,\n\u001b[0m\u001b[1;32m     60\u001b[0m                                         inputs, attrs, num_outputs)\n\u001b[1;32m     61\u001b[0m   \u001b[0;32mexcept\u001b[0m \u001b[0mcore\u001b[0m\u001b[0;34m.\u001b[0m\u001b[0m_NotOkStatusException\u001b[0m \u001b[0;32mas\u001b[0m \u001b[0me\u001b[0m\u001b[0;34m:\u001b[0m\u001b[0;34m\u001b[0m\u001b[0;34m\u001b[0m\u001b[0m\n",
      "\u001b[0;31mKeyboardInterrupt\u001b[0m: "
     ]
    }
   ],
   "source": [
    "import matplotlib.pyplot as plt\n",
    "\n",
    "EPOCHS = 50\n",
    "train_losses = []\n",
    "val_losses = []\n",
    "\n",
    "\n",
    "sample_sentences = [\n",
    "    \"지루하다, 놀러가고 싶어.\",\n",
    "    \"오늘 일찍 일어났더니 피곤하다.\",\n",
    "    \"간만에 여자친구랑 데이트 하기로 했어.\",\n",
    "    \"집에 있는다는 소리야.\"\n",
    "]\n",
    "\n",
    "\n",
    "for epoch in range(EPOCHS):\n",
    "    total_train_loss = 0\n",
    "    total_val_loss = 0\n",
    "\n",
    "    # --- Training ---\n",
    "    train_bar = tqdm(enumerate(train_dataset), total=tf.data.experimental.cardinality(train_dataset).numpy())\n",
    "    for step, (enc_batch, dec_in_batch, dec_out_batch) in train_bar:\n",
    "        batch_loss, _, _, _ = train_step(\n",
    "            src=enc_batch,\n",
    "            tgt=dec_in_batch,\n",
    "            model=transformer,\n",
    "            optimizer=optimizer\n",
    "        )\n",
    "        total_train_loss += batch_loss\n",
    "        train_bar.set_description(f\"Epoch {epoch + 1}\")\n",
    "        train_bar.set_postfix(train_loss=(total_train_loss.numpy() / (step + 1)))\n",
    "\n",
    "    # --- Validation ---\n",
    "    for val_enc_batch, val_dec_in_batch, val_dec_out_batch in val_dataset:\n",
    "        enc_mask, dec_enc_mask, dec_mask = generate_masks(val_enc_batch, val_dec_in_batch)\n",
    "        predictions, _, _, _ = transformer(val_enc_batch, val_dec_in_batch, enc_mask, dec_enc_mask, dec_mask)\n",
    "        loss = loss_function(val_dec_out_batch, predictions)\n",
    "        total_val_loss += loss\n",
    "\n",
    "    epoch_train_loss = total_train_loss.numpy() / tf.data.experimental.cardinality(train_dataset).numpy()\n",
    "    epoch_val_loss = total_val_loss.numpy() / tf.data.experimental.cardinality(val_dataset).numpy()\n",
    "    train_losses.append(epoch_train_loss)\n",
    "    val_losses.append(epoch_val_loss)\n",
    "\n",
    "    \n",
    "    \n",
    "      # 🔥 Best model 저장\n",
    "    if epoch_val_loss < best_val_loss:\n",
    "        best_val_loss = epoch_val_loss\n",
    "        transformer.save_weights(save_path)\n",
    "        print(f\"✅ Saved best model at Epoch {epoch + 1} (Val Loss: {best_val_loss:.4f})\")\n",
    "\n",
    "        \n",
    "    print(f\"\\n🌀 Epoch {epoch + 1}, Train Loss: {epoch_train_loss:.4f}, Val Loss: {epoch_val_loss:.4f}\")\n",
    "    print(\"📘 Sample Responses:\")\n",
    "    for i, sentence in enumerate(sample_sentences, 1):\n",
    "        try:\n",
    "            print(f\"{i}. {sentence} → {evaluate(sentence)}\")\n",
    "        except Exception as e:\n",
    "            print(f\"{i}. {sentence} → ❌ Error during inference: {e}\")\n",
    "\n",
    "# --- 시각화 ---\n",
    "plt.plot(train_losses, label='Train Loss')\n",
    "plt.plot(val_losses, label='Validation Loss')\n",
    "plt.xlabel(\"Epoch\")\n",
    "plt.ylabel(\"Loss\")\n",
    "plt.legend()\n",
    "plt.title(\"Loss per Epoch\")\n",
    "plt.grid(True)\n",
    "plt.show()"
   ]
  },
  {
   "cell_type": "markdown",
   "id": "c0ec119f",
   "metadata": {},
   "source": [
    "attention map"
   ]
  },
  {
   "cell_type": "code",
   "execution_count": 136,
   "id": "e1798d6d",
   "metadata": {},
   "outputs": [],
   "source": [
    "transformer.load_weights(\"best_model_weights.h5\")"
   ]
  },
  {
   "cell_type": "code",
   "execution_count": 138,
   "id": "ce3add97",
   "metadata": {},
   "outputs": [],
   "source": [
    "import matplotlib.pyplot as plt\n",
    "import matplotlib.font_manager as fm\n",
    "import matplotlib as mpl\n",
    "\n",
    "# 폰트 경로 설정 - Colab 예시 (로컬이라면 경로 수정 가능)\n",
    "# !apt-get -qq install -y fonts-nanum\n",
    "# !fc-cache -fv\n",
    "# !rm ~/.cache/matplotlib -rf\n",
    "\n",
    "# 한글 폰트 설정\n",
    "mpl.rcParams['font.family'] = 'NanumGothic'  # 또는 'Malgun Gothic', 'AppleGothic' 등 OS에 맞게\n",
    "mpl.rcParams['axes.unicode_minus'] = False  # 마이너스 기호 깨짐 방지\n"
   ]
  },
  {
   "cell_type": "code",
   "execution_count": 139,
   "id": "5cfbb501",
   "metadata": {},
   "outputs": [
    {
     "name": "stdout",
     "output_type": "stream",
     "text": [
      "\n",
      "📝 1. 지루하다, 놀러가고 싶어. → <start> <start> 헤어짐 에 무뎌 지 지 않 죠 . <end> <end> <end> <end>\n"
     ]
    },
    {
     "data": {
      "image/png": "[encoded data removed]",
      "text/plain": [
       "<Figure size 720x576 with 2 Axes>"
      ]
     },
     "metadata": {
      "needs_background": "light"
     },
     "output_type": "display_data"
    },
    {
     "data": {
      "image/png": "[encoded data removed]",
      "text/plain": [
       "<Figure size 720x576 with 2 Axes>"
      ]
     },
     "metadata": {
      "needs_background": "light"
     },
     "output_type": "display_data"
    },
    {
     "name": "stdout",
     "output_type": "stream",
     "text": [
      "\n",
      "📝 2. 오늘 일찍 일어났더니 피곤하다. → <start> <start> 언젠간 닥쳐올 순간 이 었 을 거 예요 . <end> <end> <end> \n"
     ]
    },
    {
     "data": {
      "image/png": "[encoded data removed]",
      "text/plain": [
       "<Figure size 720x576 with 2 Axes>"
      ]
     },
     "metadata": {
      "needs_background": "light"
     },
     "output_type": "display_data"
    },
    {
     "data": {
      "image/png": "[encoded data removed]",
      "text/plain": [
       "<Figure size 720x576 with 2 Axes>"
      ]
     },
     "metadata": {
      "needs_background": "light"
     },
     "output_type": "display_data"
    },
    {
     "name": "stdout",
     "output_type": "stream",
     "text": [
      "\n",
      "📝 3. 간만에 여자친구랑 데이트 하기로 했어. → <start> <start> 그냥 매일 기쁨 해도 어렵 었 겠 어요 . <end> <end> <end> \n"
     ]
    },
    {
     "data": {
      "image/png": "[encoded data removed]",
      "text/plain": [
       "<Figure size 720x576 with 2 Axes>"
      ]
     },
     "metadata": {
      "needs_background": "light"
     },
     "output_type": "display_data"
    },
    {
     "data": {
      "image/png": "[encoded data removed]",
      "text/plain": [
       "<Figure size 720x576 with 2 Axes>"
      ]
     },
     "metadata": {
      "needs_background": "light"
     },
     "output_type": "display_data"
    },
    {
     "name": "stdout",
     "output_type": "stream",
     "text": [
      "\n",
      "📝 4. 집에 있는다는 소리야. → <start> <start> 어떻게 든 흐르 면 돼요 . <end> <end> <end> <end> <end>\n"
     ]
    },
    {
     "data": {
      "image/png": "[encoded data removed]",
      "text/plain": [
       "<Figure size 720x576 with 2 Axes>"
      ]
     },
     "metadata": {
      "needs_background": "light"
     },
     "output_type": "display_data"
    },
    {
     "data": {
      "image/png": "[encoded data removed]",
      "text/plain": [
       "<Figure size 720x576 with 2 Axes>"
      ]
     },
     "metadata": {
      "needs_background": "light"
     },
     "output_type": "display_data"
    }
   ],
   "source": [
    "def plot_attention_map(attn, input_tokens, output_tokens, head=0):\n",
    "    attn = attn[head]  # (tgt_len, src_len)\n",
    "    fig, ax = plt.subplots(figsize=(10, 8))\n",
    "    cax = ax.matshow(attn, cmap='viridis')\n",
    "    \n",
    "    ax.set_xticks(range(len(input_tokens)))\n",
    "    ax.set_yticks(range(len(output_tokens)))\n",
    "    ax.set_xticklabels(input_tokens, fontproperties=\"NanumGothic\", rotation=90)\n",
    "    ax.set_yticklabels(output_tokens, fontproperties=\"NanumGothic\")\n",
    "    \n",
    "    plt.xlabel(\"입력 문장 토큰\", fontsize=12)\n",
    "    plt.ylabel(\"출력 문장 토큰\", fontsize=12)\n",
    "    plt.title(f\"Attention Map (Head {head})\", fontsize=14)\n",
    "    plt.colorbar(cax)\n",
    "    plt.show()\n",
    "\n",
    "\n",
    "def evaluate(sentence):\n",
    "    sentence = preprocess_sentence(sentence)\n",
    "    encoder_input = tf.expand_dims(sp.encode(sentence, out_type=int), axis=0)\n",
    "    output = tf.expand_dims([sp.bos_id()], 0)\n",
    "    attention_weights = []\n",
    "\n",
    "    for _ in range(MAX_LENGTH):\n",
    "        enc_mask, dec_enc_mask, dec_mask = generate_masks(encoder_input, output)\n",
    "        predictions, _, _, dec_enc_attns = transformer(encoder_input, output, enc_mask, dec_enc_mask, dec_mask)\n",
    "\n",
    "        pred_id = tf.argmax(predictions[:, -1:, :], axis=-1)\n",
    "        pred_id = tf.cast(pred_id, tf.int32)\n",
    "\n",
    "        if pred_id.numpy()[0][0] == sp.eos_id():\n",
    "            break\n",
    "\n",
    "        output = tf.concat([output, pred_id], axis=-1)\n",
    "        attention_weights.append(dec_enc_attns[-1][0])  # [batch, heads, tgt, src]\n",
    "\n",
    "    decoded = sp.decode(tf.squeeze(output, axis=0).numpy().tolist())\n",
    "    return decoded, attention_weights\n",
    "\n",
    "\n",
    "for i, sentence in enumerate(sample_sentences, 1):\n",
    "    try:\n",
    "        response, attns = evaluate(sentence)\n",
    "        print(f\"\\n📝 {i}. {sentence} → {response}\")\n",
    "\n",
    "        input_tokens = sp.encode(sentence, out_type=str)\n",
    "        output_tokens = sp.encode(response, out_type=str)\n",
    "\n",
    "        last_attn = attns[-1].numpy()  # 마지막 디코딩 step의 attention (heads, tgt_len, src_len)\n",
    "\n",
    "        for head in range(min(2, last_attn.shape[0])):  # 최대 2개 head만 시각화\n",
    "            plot_attention_map(last_attn, input_tokens, output_tokens, head=head)\n",
    "\n",
    "    except Exception as e:\n",
    "        print(f\"❌ Error during attention visualization: {e}\")\n"
   ]
  },
  {
   "cell_type": "markdown",
   "id": "141a847f",
   "metadata": {},
   "source": [
    "- 출력 토큰과 입력 토큰의 attention map을 살펴보면 \n",
    "- 출력토큰들이 의미상 중요한 입력 토큰에 충분한 attention을 주지 않는 것처럼 보인다. \n",
    "- 토큰들이 입력의 핵심단어에 집중하지 않고 분산된 attention을 보임"
   ]
  },
  {
   "cell_type": "markdown",
   "id": "75709f45",
   "metadata": {},
   "source": [
    "# 성능 측정하기\n",
    "- BLEU, Perplexity, Rouge\n",
    "- calculate_bleu()"
   ]
  },
  {
   "cell_type": "code",
   "execution_count": 58,
   "id": "1d4b5e05",
   "metadata": {},
   "outputs": [],
   "source": [
    "from nltk.translate.bleu_score import sentence_bleu, SmoothingFunction"
   ]
  },
  {
   "cell_type": "code",
   "execution_count": 59,
   "id": "f4e67017",
   "metadata": {},
   "outputs": [],
   "source": [
    "def calculate_bleu(reference, candidate, weights=[0.25, 0.25, 0.25, 0.25]):\n",
    "    return sentence_bleu([reference],\n",
    "                         candidate,\n",
    "                         weights=weights,\n",
    "                         smoothing_function=SmoothingFunction().method1)  # smoothing_function 적용\n"
   ]
  },
  {
   "cell_type": "code",
   "execution_count": 60,
   "id": "4a5d6f1b",
   "metadata": {},
   "outputs": [
    {
     "name": "stdout",
     "output_type": "stream",
     "text": [
      "슝=3\n"
     ]
    }
   ],
   "source": [
    "def translate(tokens, model, src_tokenizer, tgt_tokenizer):\n",
    "    padded_tokens = tf.keras.preprocessing.sequence.pad_sequences([tokens],\n",
    "                                                           maxlen=MAX_LEN,\n",
    "                                                           padding='post')\n",
    "    ids = []\n",
    "    output = tf.expand_dims([tgt_tokenizer.bos_id()], 0)   \n",
    "    for i in range(MAX_LENGTH):\n",
    "        enc_padding_mask, combined_mask, dec_padding_mask = \\\n",
    "        generate_masks(padded_tokens, output)\n",
    "\n",
    "        predictions, _, _, _ = model(padded_tokens, \n",
    "                                      output,\n",
    "                                      enc_padding_mask,\n",
    "                                      combined_mask,\n",
    "                                      dec_padding_mask)\n",
    "\n",
    "        predicted_id = \\\n",
    "        tf.argmax(tf.math.softmax(predictions, axis=-1)[0, -1]).numpy().item()\n",
    "\n",
    "        if tgt_tokenizer.eos_id() == predicted_id:\n",
    "            result = tgt_tokenizer.decode_ids(ids)  \n",
    "            return result\n",
    "\n",
    "        ids.append(predicted_id)\n",
    "        output = tf.concat([output, tf.expand_dims([predicted_id], 0)], axis=-1)\n",
    "\n",
    "    result = tgt_tokenizer.decode_ids(ids)  \n",
    "    return result\n",
    "\n",
    "print(\"슝=3\")"
   ]
  },
  {
   "cell_type": "code",
   "execution_count": 61,
   "id": "c04fcae8",
   "metadata": {},
   "outputs": [
    {
     "name": "stdout",
     "output_type": "stream",
     "text": [
      "슝=3\n"
     ]
    }
   ],
   "source": [
    "MAX_LEN = 20  # 모델 입력 시퀀스 최대 길이\n",
    "def eval_bleu_single(model, src_sentence, tgt_sentence, src_tokenizer, tgt_tokenizer, verbose=True):\n",
    "    src_tokens = src_tokenizer.encode_as_ids(src_sentence)\n",
    "    tgt_tokens = tgt_tokenizer.encode_as_ids(tgt_sentence)\n",
    "\n",
    "    if (len(src_tokens) > MAX_LEN): return None\n",
    "    if (len(tgt_tokens) > MAX_LEN): return None\n",
    "\n",
    "    reference = tgt_sentence.split()\n",
    "    candidate = translate(src_tokens, model, src_tokenizer, tgt_tokenizer).split()\n",
    "\n",
    "    score = sentence_bleu([reference], candidate,\n",
    "                          smoothing_function=SmoothingFunction().method1)\n",
    "\n",
    "    if verbose:\n",
    "        print(\"Source Sentence: \", src_sentence)\n",
    "        print(\"Model Prediction: \", candidate)\n",
    "        print(\"Real: \", reference)\n",
    "        print(\"Score: %lf\\n\" % score)\n",
    "        \n",
    "    return score\n",
    "        \n",
    "print('슝=3')"
   ]
  },
  {
   "cell_type": "code",
   "execution_count": 62,
   "id": "115c2c93",
   "metadata": {},
   "outputs": [],
   "source": [
    "# # Q. 인덱스를 바꿔가며 테스트해 보세요\n",
    "# test_idx = 20\n",
    "\n",
    "# eval_bleu_single(transformer, \n",
    "#                  test_eng_sentences[test_idx], \n",
    "#                  test_spa_sentences[test_idx], \n",
    "#                  tokenizer, \n",
    "#                  tokenizer)"
   ]
  },
  {
   "cell_type": "code",
   "execution_count": 63,
   "id": "6c7edf8c",
   "metadata": {},
   "outputs": [
    {
     "name": "stdout",
     "output_type": "stream",
     "text": [
      "슝=3\n"
     ]
    }
   ],
   "source": [
    "def eval_bleu(model, src_sentences, tgt_sentences, src_tokenizer, tgt_tokenizer, verbose=True):    \n",
    "    total_score = 0.0\n",
    "    sample_size = len(src_sentences)\n",
    "\n",
    "    for idx in tqdm(range(sample_size)):\n",
    "        src = src_sentences.iloc[idx] if isinstance(src_sentences, pd.Series) else src_sentences[idx]\n",
    "        tgt = tgt_sentences.iloc[idx] if isinstance(tgt_sentences, pd.Series) else tgt_sentences[idx]\n",
    "\n",
    "        score = eval_bleu_single(model, src, tgt, src_tokenizer, tgt_tokenizer, verbose)\n",
    "        if not score:\n",
    "            continue\n",
    "        total_score += score\n",
    "\n",
    "    print(\"Num of Sample:\", sample_size)\n",
    "    print(\"Average BLEU Score:\", total_score / sample_size)\n",
    "\n",
    "    \n",
    "print(\"슝=3\")"
   ]
  },
  {
   "cell_type": "code",
   "execution_count": 64,
   "id": "b046329b",
   "metadata": {},
   "outputs": [],
   "source": [
    "# 원문에서 다시 분리\n",
    "src_train_sentences, src_val_sentences, tgt_train_sentences, tgt_val_sentences = train_test_split(\n",
    "    que_corpus, ans_corpus, test_size=0.1, random_state=42\n",
    ")\n",
    "\n",
    "# <start>, <end> 제거\n",
    "tgt_val_sentences = [s.replace('<start>', '').replace('<end>', '').strip() for s in tgt_val_sentences]\n"
   ]
  },
  {
   "cell_type": "markdown",
   "id": "c6f80028",
   "metadata": {},
   "source": [
    "- BLEU 평균점수 : 0.2146\n",
    "- 기초적인 구조의 응답을 하지만 어휘 다양성이 부족하다. "
   ]
  },
  {
   "cell_type": "code",
   "execution_count": 65,
   "id": "3ec9c820",
   "metadata": {},
   "outputs": [],
   "source": [
    "from nltk.translate.bleu_score import sentence_bleu, SmoothingFunction\n",
    "from tqdm import tqdm\n",
    "\n",
    "def eval_bleu_with_examples(model, src_sentences, tgt_sentences, src_tokenizer, tgt_tokenizer, num_examples=5):\n",
    "    total_score = 0.0\n",
    "    sample_size = len(src_sentences)\n",
    "    smooth_fn = SmoothingFunction().method4\n",
    "\n",
    "    print(\"🧪 BLEU 평가 시작...\")\n",
    "    for idx in tqdm(range(sample_size)):\n",
    "        src = src_sentences.iloc[idx] if isinstance(src_sentences, pd.Series) else src_sentences[idx]\n",
    "        ref = tgt_sentences.iloc[idx] if isinstance(tgt_sentences, pd.Series) else tgt_sentences[idx]\n",
    "\n",
    "\n",
    "        # 인퍼런스\n",
    "        try:\n",
    "            # 🔧 여기 수정: 실제 평가 함수 사용\n",
    "            hyp = evaluate(src)\n",
    "\n",
    "            score = sentence_bleu(\n",
    "                [ref.split()],\n",
    "                hyp.split(),\n",
    "                smoothing_function=SmoothingFunction().method1\n",
    "            )\n",
    "            total_score += score\n",
    "\n",
    "            if idx < num_examples:\n",
    "                print(f\"\\n📌 예시 {idx + 1}\")\n",
    "                print(f\"👉 입력:     {src}\")\n",
    "                print(f\"✅ 정답:     {ref}\")\n",
    "                print(f\"🧠 예측:     {hyp}\")\n",
    "                print(f\"🎯 BLEU:     {score:.4f}\")\n",
    "        except Exception as e:\n",
    "            print(f\"❌ 오류 발생 at index {idx}: {e}\")\n",
    "            continue\n",
    "\n",
    "    print(f\"\\n🔚 Num of Samples: {sample_size}\")\n",
    "    print(f\"📊 Average BLEU Score: {total_score / sample_size:.4f}\")"
   ]
  },
  {
   "cell_type": "code",
   "execution_count": null,
   "id": "3c821008",
   "metadata": {},
   "outputs": [],
   "source": []
  },
  {
   "cell_type": "code",
   "execution_count": 66,
   "id": "3fd84b64",
   "metadata": {},
   "outputs": [
    {
     "name": "stdout",
     "output_type": "stream",
     "text": [
      "🧪 BLEU 평가 시작...\n"
     ]
    },
    {
     "name": "stderr",
     "output_type": "stream",
     "text": [
      "  0%|          | 1/3265 [00:00<51:05,  1.06it/s]"
     ]
    },
    {
     "name": "stdout",
     "output_type": "stream",
     "text": [
      "\n",
      "📌 예시 1\n",
      "👉 입력:     이 별후 느끼 는 감정 들 이 단계 별 로 있 는 거 같 네\n",
      "✅ 정답:     그게 추억 의 유적 인가 봐요 .\n",
      "🧠 예측:     그게 추억 의 모습 과 함께 에 대한 시간 이 었 다면 변화 가 명 으니까요 .\n",
      "🎯 BLEU:     0.0612\n"
     ]
    },
    {
     "name": "stderr",
     "output_type": "stream",
     "text": [
      "\r",
      "  0%|          | 2/3265 [00:01<49:11,  1.11it/s]"
     ]
    },
    {
     "name": "stdout",
     "output_type": "stream",
     "text": [
      "\n",
      "📌 예시 2\n",
      "👉 입력:     간식 폴더 뽑 는 거 힘드 네\n",
      "✅ 정답:     누구 랑 먹 는 냐 에 따라 다르 겠 죠 .\n",
      "🧠 예측:     슬픔 하 기 도 시키 지 않 는 약간 의 방식 이 에요 .\n",
      "🎯 BLEU:     0.0170\n"
     ]
    },
    {
     "name": "stderr",
     "output_type": "stream",
     "text": [
      "\r",
      "  0%|          | 3/3265 [00:02<40:00,  1.36it/s]"
     ]
    },
    {
     "name": "stdout",
     "output_type": "stream",
     "text": [
      "\n",
      "📌 예시 3\n",
      "👉 입력:     연애 중 인데 외로운 느낌 이 들 면 문제 일까 ?\n",
      "✅ 정답:     사람 은 다 외로운 존재 예요 .\n",
      "🧠 예측:     젊은이 은 다 외로운 현존 예요 .\n",
      "🎯 BLEU:     0.2056\n"
     ]
    },
    {
     "name": "stderr",
     "output_type": "stream",
     "text": [
      "\r",
      "  0%|          | 4/3265 [00:02<34:28,  1.58it/s]"
     ]
    },
    {
     "name": "stdout",
     "output_type": "stream",
     "text": [
      "\n",
      "📌 예시 4\n",
      "👉 입력:     이런 헤어지\n",
      "✅ 정답:     흔하 지 않 죠 .\n",
      "🧠 예측:     모르 다가 도 안 돼요 .\n",
      "🎯 BLEU:     0.0408\n"
     ]
    },
    {
     "name": "stderr",
     "output_type": "stream",
     "text": [
      "\r",
      "  0%|          | 5/3265 [00:03<34:57,  1.55it/s]"
     ]
    },
    {
     "name": "stdout",
     "output_type": "stream",
     "text": [
      "\n",
      "📌 예시 5\n",
      "👉 입력:     강아지 키우 고 싶 어\n",
      "✅ 정답:     죄책 질 수 없 을 경우 키워 보 세요 .\n",
      "🧠 예측:     과실 질 수 없었 을 때쯤 키워 보 세요 .\n",
      "🎯 BLEU:     0.3247\n"
     ]
    },
    {
     "name": "stderr",
     "output_type": "stream",
     "text": [
      "100%|██████████| 3265/3265 [32:59<00:00,  1.65it/s]"
     ]
    },
    {
     "name": "stdout",
     "output_type": "stream",
     "text": [
      "\n",
      "🔚 Num of Samples: 3265\n",
      "📊 Average BLEU Score: 0.4123\n"
     ]
    },
    {
     "name": "stderr",
     "output_type": "stream",
     "text": [
      "\n"
     ]
    }
   ],
   "source": [
    "eval_bleu_with_examples(\n",
    "    model=transformer,\n",
    "    src_sentences=src_val_sentences,\n",
    "    tgt_sentences=tgt_val_sentences,\n",
    "    src_tokenizer=sp,\n",
    "    tgt_tokenizer=sp,\n",
    "    num_examples=5  # 상위 5개 예시 출력\n",
    ")\n"
   ]
  },
  {
   "cell_type": "markdown",
   "id": "58adf55f",
   "metadata": {},
   "source": [
    "- average bleu score : 0.4123\n",
    "- 수치적으로 보았을 때는 괜찮은 품질의 답변을 하는 것으로 보이지만\n",
    "- 실제 예측을 보면 문법적 부자연 스러움이나 어휘 선택이 어색한 것을 볼 수 있다. \n"
   ]
  },
  {
   "cell_type": "markdown",
   "id": "45694afa",
   "metadata": {},
   "source": [
    "## Perplexity"
   ]
  },
  {
   "cell_type": "code",
   "execution_count": 67,
   "id": "71641224",
   "metadata": {},
   "outputs": [
    {
     "name": "stdout",
     "output_type": "stream",
     "text": [
      "Collecting rouge-score\n",
      "  Downloading rouge_score-0.1.2.tar.gz (17 kB)\n",
      "  Preparing metadata (setup.py) ... \u001b[?25ldone\n",
      "\u001b[?25hRequirement already satisfied: absl-py in /opt/conda/lib/python3.9/site-packages (from rouge-score) (0.12.0)\n",
      "Requirement already satisfied: nltk in /opt/conda/lib/python3.9/site-packages (from rouge-score) (3.6.5)\n",
      "Requirement already satisfied: numpy in /opt/conda/lib/python3.9/site-packages (from rouge-score) (1.21.4)\n",
      "Requirement already satisfied: six>=1.14.0 in /opt/conda/lib/python3.9/site-packages (from rouge-score) (1.16.0)\n",
      "Requirement already satisfied: tqdm in /opt/conda/lib/python3.9/site-packages (from nltk->rouge-score) (4.62.3)\n",
      "Requirement already satisfied: click in /opt/conda/lib/python3.9/site-packages (from nltk->rouge-score) (8.0.3)\n",
      "Requirement already satisfied: regex>=2021.8.3 in /opt/conda/lib/python3.9/site-packages (from nltk->rouge-score) (2021.11.10)\n",
      "Requirement already satisfied: joblib in /opt/conda/lib/python3.9/site-packages (from nltk->rouge-score) (1.1.0)\n",
      "Building wheels for collected packages: rouge-score\n",
      "  Building wheel for rouge-score (setup.py) ... \u001b[?25ldone\n",
      "\u001b[?25h  Created wheel for rouge-score: filename=rouge_score-0.1.2-py3-none-any.whl size=24955 sha256=479e1d480bae4f7c7fb023bda6915662077139dc679f84eb109773275e1e3453\n",
      "  Stored in directory: /aiffel/.cache/pip/wheels/9b/3d/39/09558097d3119ca0a4d462df68f22c6f3c1b345ac63a09b86e\n",
      "Successfully built rouge-score\n",
      "Installing collected packages: rouge-score\n",
      "Successfully installed rouge-score-0.1.2\n",
      "\u001b[33mWARNING: Running pip as the 'root' user can result in broken permissions and conflicting behaviour with the system package manager. It is recommended to use a virtual environment instead: https://pip.pypa.io/warnings/venv\u001b[0m\n",
      "Collecting evaluate\n",
      "  Downloading evaluate-0.4.3-py3-none-any.whl (84 kB)\n",
      "     |████████████████████████████████| 84 kB 2.1 MB/s             \n",
      "\u001b[?25hRequirement already satisfied: requests>=2.19.0 in /opt/conda/lib/python3.9/site-packages (from evaluate) (2.26.0)\n",
      "Requirement already satisfied: fsspec[http]>=2021.05.0 in /opt/conda/lib/python3.9/site-packages (from evaluate) (2021.11.1)\n",
      "Collecting huggingface-hub>=0.7.0\n",
      "  Downloading huggingface_hub-0.31.4-py3-none-any.whl (489 kB)\n",
      "     |████████████████████████████████| 489 kB 50.5 MB/s            \n",
      "\u001b[?25hRequirement already satisfied: multiprocess in /opt/conda/lib/python3.9/site-packages (from evaluate) (0.70.12.2)\n",
      "Requirement already satisfied: packaging in /opt/conda/lib/python3.9/site-packages (from evaluate) (21.3)\n",
      "Requirement already satisfied: dill in /opt/conda/lib/python3.9/site-packages (from evaluate) (0.3.4)\n",
      "Collecting datasets>=2.0.0\n",
      "  Downloading datasets-3.6.0-py3-none-any.whl (491 kB)\n",
      "     |████████████████████████████████| 491 kB 74.8 MB/s            \n",
      "\u001b[?25hRequirement already satisfied: xxhash in /opt/conda/lib/python3.9/site-packages (from evaluate) (2.0.2)\n",
      "Requirement already satisfied: numpy>=1.17 in /opt/conda/lib/python3.9/site-packages (from evaluate) (1.21.4)\n",
      "Requirement already satisfied: tqdm>=4.62.1 in /opt/conda/lib/python3.9/site-packages (from evaluate) (4.62.3)\n",
      "Requirement already satisfied: pandas in /opt/conda/lib/python3.9/site-packages (from evaluate) (1.3.3)\n",
      "Collecting fsspec[http]>=2021.05.0\n",
      "  Downloading fsspec-2025.3.0-py3-none-any.whl (193 kB)\n",
      "     |████████████████████████████████| 193 kB 74.2 MB/s            \n",
      "\u001b[?25hCollecting requests>=2.19.0\n",
      "  Downloading requests-2.32.3-py3-none-any.whl (64 kB)\n",
      "     |████████████████████████████████| 64 kB 754 kB/s             \n",
      "\u001b[?25hRequirement already satisfied: pyyaml>=5.1 in /opt/conda/lib/python3.9/site-packages (from datasets>=2.0.0->evaluate) (6.0)\n",
      "Collecting pyarrow>=15.0.0\n",
      "  Downloading pyarrow-20.0.0-cp39-cp39-manylinux_2_28_x86_64.whl (42.3 MB)\n",
      "     |████████████████████████████████| 42.3 MB 44.1 MB/s            \n",
      "\u001b[?25hCollecting tqdm>=4.62.1\n",
      "  Downloading tqdm-4.67.1-py3-none-any.whl (78 kB)\n",
      "     |████████████████████████████████| 78 kB 7.0 MB/s             \n",
      "\u001b[?25hRequirement already satisfied: filelock in /opt/conda/lib/python3.9/site-packages (from datasets>=2.0.0->evaluate) (3.4.0)\n",
      "Requirement already satisfied: aiohttp!=4.0.0a0,!=4.0.0a1 in /opt/conda/lib/python3.9/site-packages (from fsspec[http]>=2021.05.0->evaluate) (3.8.1)\n",
      "Requirement already satisfied: typing-extensions>=3.7.4.3 in /opt/conda/lib/python3.9/site-packages (from huggingface-hub>=0.7.0->evaluate) (4.0.1)\n",
      "Requirement already satisfied: pyparsing!=3.0.5,>=2.0.2 in /opt/conda/lib/python3.9/site-packages (from packaging->evaluate) (3.0.6)\n",
      "Requirement already satisfied: urllib3<3,>=1.21.1 in /opt/conda/lib/python3.9/site-packages (from requests>=2.19.0->evaluate) (1.26.7)\n",
      "Requirement already satisfied: idna<4,>=2.5 in /opt/conda/lib/python3.9/site-packages (from requests>=2.19.0->evaluate) (2.10)\n",
      "Requirement already satisfied: charset-normalizer<4,>=2 in /opt/conda/lib/python3.9/site-packages (from requests>=2.19.0->evaluate) (2.0.8)\n",
      "Requirement already satisfied: certifi>=2017.4.17 in /opt/conda/lib/python3.9/site-packages (from requests>=2.19.0->evaluate) (2021.10.8)\n",
      "Requirement already satisfied: python-dateutil>=2.7.3 in /opt/conda/lib/python3.9/site-packages (from pandas->evaluate) (2.8.2)\n",
      "Requirement already satisfied: pytz>=2017.3 in /opt/conda/lib/python3.9/site-packages (from pandas->evaluate) (2021.3)\n",
      "Requirement already satisfied: yarl<2.0,>=1.0 in /opt/conda/lib/python3.9/site-packages (from aiohttp!=4.0.0a0,!=4.0.0a1->fsspec[http]>=2021.05.0->evaluate) (1.7.2)\n",
      "Requirement already satisfied: aiosignal>=1.1.2 in /opt/conda/lib/python3.9/site-packages (from aiohttp!=4.0.0a0,!=4.0.0a1->fsspec[http]>=2021.05.0->evaluate) (1.2.0)\n",
      "Requirement already satisfied: async-timeout<5.0,>=4.0.0a3 in /opt/conda/lib/python3.9/site-packages (from aiohttp!=4.0.0a0,!=4.0.0a1->fsspec[http]>=2021.05.0->evaluate) (4.0.1)\n",
      "Requirement already satisfied: multidict<7.0,>=4.5 in /opt/conda/lib/python3.9/site-packages (from aiohttp!=4.0.0a0,!=4.0.0a1->fsspec[http]>=2021.05.0->evaluate) (5.2.0)\n",
      "Requirement already satisfied: frozenlist>=1.1.1 in /opt/conda/lib/python3.9/site-packages (from aiohttp!=4.0.0a0,!=4.0.0a1->fsspec[http]>=2021.05.0->evaluate) (1.2.0)\n",
      "Requirement already satisfied: attrs>=17.3.0 in /opt/conda/lib/python3.9/site-packages (from aiohttp!=4.0.0a0,!=4.0.0a1->fsspec[http]>=2021.05.0->evaluate) (21.2.0)\n",
      "Requirement already satisfied: six>=1.5 in /opt/conda/lib/python3.9/site-packages (from python-dateutil>=2.7.3->pandas->evaluate) (1.16.0)\n",
      "Installing collected packages: tqdm, requests, fsspec, pyarrow, huggingface-hub, datasets, evaluate\n",
      "  Attempting uninstall: tqdm\n",
      "    Found existing installation: tqdm 4.62.3\n",
      "    Uninstalling tqdm-4.62.3:\n",
      "      Successfully uninstalled tqdm-4.62.3\n",
      "  Attempting uninstall: requests\n",
      "    Found existing installation: requests 2.26.0\n",
      "    Uninstalling requests-2.26.0:\n",
      "      Successfully uninstalled requests-2.26.0\n",
      "  Attempting uninstall: fsspec\n",
      "    Found existing installation: fsspec 2021.11.1\n",
      "    Uninstalling fsspec-2021.11.1:\n",
      "      Successfully uninstalled fsspec-2021.11.1\n",
      "  Attempting uninstall: pyarrow\n",
      "    Found existing installation: pyarrow 6.0.1\n",
      "    Uninstalling pyarrow-6.0.1:\n",
      "      Successfully uninstalled pyarrow-6.0.1\n",
      "  Attempting uninstall: huggingface-hub\n",
      "    Found existing installation: huggingface-hub 0.0.19\n",
      "    Uninstalling huggingface-hub-0.0.19:\n",
      "      Successfully uninstalled huggingface-hub-0.0.19\n",
      "  Attempting uninstall: datasets\n",
      "    Found existing installation: datasets 1.14.0\n",
      "    Uninstalling datasets-1.14.0:\n",
      "      Successfully uninstalled datasets-1.14.0\n",
      "Successfully installed datasets-3.6.0 evaluate-0.4.3 fsspec-2025.3.0 huggingface-hub-0.31.4 pyarrow-20.0.0 requests-2.32.3 tqdm-4.67.1\n",
      "\u001b[33mWARNING: Running pip as the 'root' user can result in broken permissions and conflicting behaviour with the system package manager. It is recommended to use a virtual environment instead: https://pip.pypa.io/warnings/venv\u001b[0m\n"
     ]
    }
   ],
   "source": [
    "!pip install rouge-score\n",
    "!pip install evaluate"
   ]
  },
  {
   "cell_type": "code",
   "execution_count": 69,
   "id": "a50868c1",
   "metadata": {},
   "outputs": [
    {
     "name": "stdout",
     "output_type": "stream",
     "text": [
      "Found existing installation: pyarrow 20.0.0\n",
      "Uninstalling pyarrow-20.0.0:\n",
      "  Successfully uninstalled pyarrow-20.0.0\n",
      "\u001b[33mWARNING: Running pip as the 'root' user can result in broken permissions and conflicting behaviour with the system package manager. It is recommended to use a virtual environment instead: https://pip.pypa.io/warnings/venv\u001b[0m\n",
      "Collecting pyarrow\n",
      "  Using cached pyarrow-20.0.0-cp39-cp39-manylinux_2_28_x86_64.whl (42.3 MB)\n",
      "Installing collected packages: pyarrow\n",
      "Successfully installed pyarrow-20.0.0\n",
      "\u001b[33mWARNING: Running pip as the 'root' user can result in broken permissions and conflicting behaviour with the system package manager. It is recommended to use a virtual environment instead: https://pip.pypa.io/warnings/venv\u001b[0m\n",
      "Found existing installation: datasets 3.6.0\n",
      "Uninstalling datasets-3.6.0:\n",
      "  Successfully uninstalled datasets-3.6.0\n",
      "Found existing installation: evaluate 0.4.3\n",
      "Uninstalling evaluate-0.4.3:\n",
      "  Successfully uninstalled evaluate-0.4.3\n",
      "\u001b[33mWARNING: Running pip as the 'root' user can result in broken permissions and conflicting behaviour with the system package manager. It is recommended to use a virtual environment instead: https://pip.pypa.io/warnings/venv\u001b[0m\n",
      "Collecting datasets\n",
      "  Using cached datasets-3.6.0-py3-none-any.whl (491 kB)\n",
      "Collecting evaluate\n",
      "  Using cached evaluate-0.4.3-py3-none-any.whl (84 kB)\n",
      "Requirement already satisfied: numpy>=1.17 in /opt/conda/lib/python3.9/site-packages (from datasets) (1.21.4)\n",
      "Requirement already satisfied: huggingface-hub>=0.24.0 in /opt/conda/lib/python3.9/site-packages (from datasets) (0.31.4)\n",
      "Requirement already satisfied: packaging in /opt/conda/lib/python3.9/site-packages (from datasets) (21.3)\n",
      "Requirement already satisfied: tqdm>=4.66.3 in /opt/conda/lib/python3.9/site-packages (from datasets) (4.67.1)\n",
      "Requirement already satisfied: xxhash in /opt/conda/lib/python3.9/site-packages (from datasets) (2.0.2)\n",
      "Requirement already satisfied: pyarrow>=15.0.0 in /opt/conda/lib/python3.9/site-packages (from datasets) (20.0.0)\n",
      "Requirement already satisfied: dill<0.3.9,>=0.3.0 in /opt/conda/lib/python3.9/site-packages (from datasets) (0.3.4)\n",
      "Requirement already satisfied: pandas in /opt/conda/lib/python3.9/site-packages (from datasets) (1.3.3)\n",
      "Requirement already satisfied: requests>=2.32.2 in /opt/conda/lib/python3.9/site-packages (from datasets) (2.32.3)\n",
      "Requirement already satisfied: pyyaml>=5.1 in /opt/conda/lib/python3.9/site-packages (from datasets) (6.0)\n",
      "Requirement already satisfied: fsspec[http]<=2025.3.0,>=2023.1.0 in /opt/conda/lib/python3.9/site-packages (from datasets) (2025.3.0)\n",
      "Requirement already satisfied: filelock in /opt/conda/lib/python3.9/site-packages (from datasets) (3.4.0)\n",
      "Requirement already satisfied: multiprocess<0.70.17 in /opt/conda/lib/python3.9/site-packages (from datasets) (0.70.12.2)\n",
      "Requirement already satisfied: aiohttp!=4.0.0a0,!=4.0.0a1 in /opt/conda/lib/python3.9/site-packages (from fsspec[http]<=2025.3.0,>=2023.1.0->datasets) (3.8.1)\n",
      "Requirement already satisfied: typing-extensions>=3.7.4.3 in /opt/conda/lib/python3.9/site-packages (from huggingface-hub>=0.24.0->datasets) (4.0.1)\n",
      "Requirement already satisfied: pyparsing!=3.0.5,>=2.0.2 in /opt/conda/lib/python3.9/site-packages (from packaging->datasets) (3.0.6)\n",
      "Requirement already satisfied: charset-normalizer<4,>=2 in /opt/conda/lib/python3.9/site-packages (from requests>=2.32.2->datasets) (2.0.8)\n",
      "Requirement already satisfied: certifi>=2017.4.17 in /opt/conda/lib/python3.9/site-packages (from requests>=2.32.2->datasets) (2021.10.8)\n",
      "Requirement already satisfied: idna<4,>=2.5 in /opt/conda/lib/python3.9/site-packages (from requests>=2.32.2->datasets) (2.10)\n",
      "Requirement already satisfied: urllib3<3,>=1.21.1 in /opt/conda/lib/python3.9/site-packages (from requests>=2.32.2->datasets) (1.26.7)\n",
      "Requirement already satisfied: python-dateutil>=2.7.3 in /opt/conda/lib/python3.9/site-packages (from pandas->datasets) (2.8.2)\n",
      "Requirement already satisfied: pytz>=2017.3 in /opt/conda/lib/python3.9/site-packages (from pandas->datasets) (2021.3)\n",
      "Requirement already satisfied: aiosignal>=1.1.2 in /opt/conda/lib/python3.9/site-packages (from aiohttp!=4.0.0a0,!=4.0.0a1->fsspec[http]<=2025.3.0,>=2023.1.0->datasets) (1.2.0)\n",
      "Requirement already satisfied: async-timeout<5.0,>=4.0.0a3 in /opt/conda/lib/python3.9/site-packages (from aiohttp!=4.0.0a0,!=4.0.0a1->fsspec[http]<=2025.3.0,>=2023.1.0->datasets) (4.0.1)\n",
      "Requirement already satisfied: frozenlist>=1.1.1 in /opt/conda/lib/python3.9/site-packages (from aiohttp!=4.0.0a0,!=4.0.0a1->fsspec[http]<=2025.3.0,>=2023.1.0->datasets) (1.2.0)\n",
      "Requirement already satisfied: yarl<2.0,>=1.0 in /opt/conda/lib/python3.9/site-packages (from aiohttp!=4.0.0a0,!=4.0.0a1->fsspec[http]<=2025.3.0,>=2023.1.0->datasets) (1.7.2)\n",
      "Requirement already satisfied: attrs>=17.3.0 in /opt/conda/lib/python3.9/site-packages (from aiohttp!=4.0.0a0,!=4.0.0a1->fsspec[http]<=2025.3.0,>=2023.1.0->datasets) (21.2.0)\n",
      "Requirement already satisfied: multidict<7.0,>=4.5 in /opt/conda/lib/python3.9/site-packages (from aiohttp!=4.0.0a0,!=4.0.0a1->fsspec[http]<=2025.3.0,>=2023.1.0->datasets) (5.2.0)\n",
      "Requirement already satisfied: six>=1.5 in /opt/conda/lib/python3.9/site-packages (from python-dateutil>=2.7.3->pandas->datasets) (1.16.0)\n",
      "Installing collected packages: datasets, evaluate\n",
      "Successfully installed datasets-3.6.0 evaluate-0.4.3\n",
      "\u001b[33mWARNING: Running pip as the 'root' user can result in broken permissions and conflicting behaviour with the system package manager. It is recommended to use a virtual environment instead: https://pip.pypa.io/warnings/venv\u001b[0m\n"
     ]
    }
   ],
   "source": [
    "!pip uninstall pyarrow -y\n",
    "!pip install pyarrow --upgrade\n",
    "!pip uninstall datasets evaluate -y\n",
    "!pip install datasets evaluate"
   ]
  },
  {
   "cell_type": "code",
   "execution_count": 78,
   "id": "a0c2a3a1",
   "metadata": {},
   "outputs": [
    {
     "name": "stdout",
     "output_type": "stream",
     "text": [
      "🧠 Perplexity (PPL): 1.9602\n"
     ]
    },
    {
     "data": {
      "text/plain": [
       "1.9602383136784436"
      ]
     },
     "execution_count": 78,
     "metadata": {},
     "output_type": "execute_result"
    }
   ],
   "source": [
    "import numpy as np\n",
    "# import evaluate\n",
    "from tqdm import tqdm\n",
    "\n",
    "import numpy as np\n",
    "\n",
    "def compute_perplexity(model, val_dataset, loss_function):\n",
    "    total_loss = 0.0\n",
    "    total_tokens = 0\n",
    "\n",
    "    for enc_batch, dec_in_batch, dec_out_batch in val_dataset:\n",
    "        enc_mask, dec_enc_mask, dec_mask = generate_masks(enc_batch, dec_in_batch)\n",
    "        predictions, _, _, _ = model(enc_batch, dec_in_batch, enc_mask, dec_enc_mask, dec_mask)\n",
    "        \n",
    "        loss = loss_function(dec_out_batch, predictions)\n",
    "        token_count = tf.reduce_sum(tf.cast(dec_out_batch != 0, tf.float32)).numpy()\n",
    "        \n",
    "        total_loss += loss.numpy() * token_count\n",
    "        total_tokens += token_count\n",
    "\n",
    "    perplexity = np.exp(total_loss / total_tokens)\n",
    "    print(f\"🧠 Perplexity (PPL): {perplexity:.4f}\")\n",
    "    return perplexity\n",
    "compute_perplexity(transformer, val_dataset, loss_function)"
   ]
  },
  {
   "cell_type": "code",
   "execution_count": 85,
   "id": "a6258399",
   "metadata": {},
   "outputs": [],
   "source": [
    "def lcs(X, Y):\n",
    "    m, n = len(X), len(Y)\n",
    "    dp = [[0]*(n+1) for _ in range(m+1)]\n",
    "    for i in range(m):\n",
    "        for j in range(n):\n",
    "            if X[i] == Y[j]:\n",
    "                dp[i+1][j+1] = dp[i][j] + 1\n",
    "            else:\n",
    "                dp[i+1][j+1] = max(dp[i][j+1], dp[i+1][j])\n",
    "    return dp[m][n]\n",
    "\n",
    "def rouge_l_score(reference, hypothesis):\n",
    "    ref_tokens = reference.split()\n",
    "    hyp_tokens = hypothesis.split()\n",
    "    \n",
    "    lcs_len = lcs(ref_tokens, hyp_tokens)\n",
    "\n",
    "    prec = lcs_len / len(hyp_tokens) if hyp_tokens else 0.0\n",
    "    rec = lcs_len / len(ref_tokens) if ref_tokens else 0.0\n",
    "    if prec + rec == 0:\n",
    "        f1 = 0.0\n",
    "    else:\n",
    "        f1 = 2 * prec * rec / (prec + rec)\n",
    "    \n",
    "    return {\"precision\": prec, \"recall\": rec, \"f1\": f1}\n"
   ]
  },
  {
   "cell_type": "code",
   "execution_count": 86,
   "id": "e8b1b705",
   "metadata": {},
   "outputs": [],
   "source": [
    "import numpy as np\n",
    "from tqdm import tqdm\n",
    "\n",
    "# ✅ ROUGE-L 계산 함수 (설치 필요 없음)\n",
    "def rouge_l_score(reference, hypothesis):\n",
    "    ref_words = reference.split()\n",
    "    hyp_words = hypothesis.split()\n",
    "    ref_len = len(ref_words)\n",
    "    hyp_len = len(hyp_words)\n",
    "\n",
    "    # LCS (최장 공통 부분 수열)\n",
    "    lcs_matrix = [[0] * (hyp_len + 1) for _ in range(ref_len + 1)]\n",
    "\n",
    "    for i in range(ref_len):\n",
    "        for j in range(hyp_len):\n",
    "            if ref_words[i] == hyp_words[j]:\n",
    "                lcs_matrix[i+1][j+1] = lcs_matrix[i][j] + 1\n",
    "            else:\n",
    "                lcs_matrix[i+1][j+1] = max(lcs_matrix[i][j+1], lcs_matrix[i+1][j])\n",
    "\n",
    "    lcs_len = lcs_matrix[-1][-1]\n",
    "\n",
    "    recall = lcs_len / ref_len if ref_len > 0 else 0.0\n",
    "    precision = lcs_len / hyp_len if hyp_len > 0 else 0.0\n",
    "    f1 = 2 * recall * precision / (recall + precision + 1e-8)\n",
    "    return f1\n"
   ]
  },
  {
   "cell_type": "code",
   "execution_count": 87,
   "id": "db834319",
   "metadata": {},
   "outputs": [],
   "source": [
    "def compute_perplexity(model, val_dataset, loss_function):\n",
    "    total_loss = 0.0\n",
    "    total_tokens = 0\n",
    "\n",
    "    for enc_batch, dec_in_batch, dec_out_batch in val_dataset:\n",
    "        enc_mask, dec_enc_mask, dec_mask = generate_masks(enc_batch, dec_in_batch)\n",
    "        predictions, _, _, _ = model(enc_batch, dec_in_batch, enc_mask, dec_enc_mask, dec_mask)\n",
    "        mask = tf.cast(dec_out_batch != 0, tf.float32)\n",
    "        loss = loss_function(dec_out_batch, predictions)\n",
    "        total_loss += loss.numpy() * tf.reduce_sum(mask).numpy()\n",
    "        total_tokens += tf.reduce_sum(mask).numpy()\n",
    "\n",
    "    perplexity = np.exp(total_loss / total_tokens)\n",
    "    print(f\"\\n🧠 Perplexity (PPL): {perplexity:.4f}\")\n",
    "    return perplexity\n"
   ]
  },
  {
   "cell_type": "code",
   "execution_count": 88,
   "id": "a5e05943",
   "metadata": {},
   "outputs": [],
   "source": [
    "from tqdm import tqdm\n",
    "\n",
    "def evaluate_rouge(model, src_sentences, tgt_sentences, tokenizer, num_examples=5):\n",
    "    total_rouge = 0.0\n",
    "    count = 0\n",
    "\n",
    "    print(\"🧪 ROUGE-L 평가 시작...\\n\")\n",
    "\n",
    "    for idx in tqdm(range(len(src_sentences))):\n",
    "        src = src_sentences.iloc[idx] if isinstance(src_sentences, pd.Series) else src_sentences[idx]\n",
    "        ref = tgt_sentences.iloc[idx] if isinstance(tgt_sentences, pd.Series) else tgt_sentences[idx]\n",
    "\n",
    "\n",
    "        try:\n",
    "            hyp = evaluate(src)  # 🔧 사용자 정의 예측 함수\n",
    "            rouge = rouge_l_score(ref, hyp)\n",
    "            total_rouge += rouge\n",
    "            count += 1\n",
    "\n",
    "            if idx < num_examples:\n",
    "                print(f\"\\n📌 예시 {idx + 1}\")\n",
    "                print(f\"👉 입력:  {src}\")\n",
    "                print(f\"✅ 정답:  {ref}\")\n",
    "                print(f\"🧠 예측:  {hyp}\")\n",
    "                print(f\"📏 ROUGE-L F1: {rouge:.4f}\")\n",
    "\n",
    "        except Exception as e:\n",
    "            print(f\"❌ 오류 at {idx}: {e}\")\n",
    "            continue\n",
    "\n",
    "    print(\"\\n📊 최종 결과\")\n",
    "    print(f\"✅ 평균 ROUGE-L F1: {total_rouge / count:.4f}\")\n"
   ]
  },
  {
   "cell_type": "code",
   "execution_count": 89,
   "id": "cc6074cf",
   "metadata": {},
   "outputs": [
    {
     "name": "stdout",
     "output_type": "stream",
     "text": [
      "🧪 ROUGE-L 평가 시작...\n",
      "\n"
     ]
    },
    {
     "name": "stderr",
     "output_type": "stream",
     "text": [
      "  0%|          | 1/3265 [00:00<51:41,  1.05it/s]"
     ]
    },
    {
     "name": "stdout",
     "output_type": "stream",
     "text": [
      "\n",
      "📌 예시 1\n",
      "👉 입력:  이 별후 느끼 는 감정 들 이 단계 별 로 있 는 거 같 네\n",
      "✅ 정답:  그게 추억 의 유적 인가 봐요 .\n",
      "🧠 예측:  그게 추억 의 모습 과 함께 에 대한 시간 이 었 다면 변화 가 명 으니까요 .\n",
      "📏 ROUGE-L F1: 0.3333\n"
     ]
    },
    {
     "name": "stderr",
     "output_type": "stream",
     "text": [
      "\r",
      "  0%|          | 2/3265 [00:01<49:46,  1.09it/s]"
     ]
    },
    {
     "name": "stdout",
     "output_type": "stream",
     "text": [
      "\n",
      "📌 예시 2\n",
      "👉 입력:  간식 폴더 뽑 는 거 힘드 네\n",
      "✅ 정답:  누구 랑 먹 는 냐 에 따라 다르 겠 죠 .\n",
      "🧠 예측:  슬픔 하 기 도 시키 지 않 는 약간 의 방식 이 에요 .\n",
      "📏 ROUGE-L F1: 0.1600\n"
     ]
    },
    {
     "name": "stderr",
     "output_type": "stream",
     "text": [
      "\r",
      "  0%|          | 3/3265 [00:02<40:23,  1.35it/s]"
     ]
    },
    {
     "name": "stdout",
     "output_type": "stream",
     "text": [
      "\n",
      "📌 예시 3\n",
      "👉 입력:  연애 중 인데 외로운 느낌 이 들 면 문제 일까 ?\n",
      "✅ 정답:  사람 은 다 외로운 존재 예요 .\n",
      "🧠 예측:  젊은이 은 다 외로운 현존 예요 .\n",
      "📏 ROUGE-L F1: 0.7143\n"
     ]
    },
    {
     "name": "stderr",
     "output_type": "stream",
     "text": [
      "\r",
      "  0%|          | 4/3265 [00:02<34:52,  1.56it/s]"
     ]
    },
    {
     "name": "stdout",
     "output_type": "stream",
     "text": [
      "\n",
      "📌 예시 4\n",
      "👉 입력:  이런 헤어지\n",
      "✅ 정답:  흔하 지 않 죠 .\n",
      "🧠 예측:  모르 다가 도 안 돼요 .\n",
      "📏 ROUGE-L F1: 0.1818\n"
     ]
    },
    {
     "name": "stderr",
     "output_type": "stream",
     "text": [
      "\r",
      "  0%|          | 5/3265 [00:03<35:47,  1.52it/s]"
     ]
    },
    {
     "name": "stdout",
     "output_type": "stream",
     "text": [
      "\n",
      "📌 예시 5\n",
      "👉 입력:  강아지 키우 고 싶 어\n",
      "✅ 정답:  죄책 질 수 없 을 경우 키워 보 세요 .\n",
      "🧠 예측:  과실 질 수 없었 을 때쯤 키워 보 세요 .\n",
      "📏 ROUGE-L F1: 0.7000\n"
     ]
    },
    {
     "name": "stderr",
     "output_type": "stream",
     "text": [
      "100%|██████████| 3265/3265 [33:05<00:00,  1.64it/s]\n"
     ]
    },
    {
     "name": "stdout",
     "output_type": "stream",
     "text": [
      "\n",
      "📊 최종 결과\n",
      "✅ 평균 ROUGE-L F1: 0.6708\n",
      "\n",
      "🧠 Perplexity (PPL): 1.9602\n"
     ]
    },
    {
     "data": {
      "text/plain": [
       "1.960238318502801"
      ]
     },
     "execution_count": 89,
     "metadata": {},
     "output_type": "execute_result"
    }
   ],
   "source": [
    "# ROUGE-L 계산\n",
    "evaluate_rouge(\n",
    "    model=transformer,\n",
    "    src_sentences=src_val_sentences,\n",
    "    tgt_sentences=tgt_val_sentences,\n",
    "    tokenizer=sp,  # SentencePiece tokenizer\n",
    "    num_examples=5\n",
    ")\n",
    "\n",
    "# Perplexity 계산\n",
    "compute_perplexity(\n",
    "    model=transformer,\n",
    "    val_dataset=val_dataset,\n",
    "    loss_function=loss_function\n",
    ")\n"
   ]
  },
  {
   "cell_type": "markdown",
   "id": "324a0a3c",
   "metadata": {},
   "source": [
    "# 결과 정리\n",
    "- dropout을 0.3->0.5로 할 때 변화가 눈에 띄는데,\n",
    "0.3일 때는 길고 안정적인 문장을 뱉는 반면\n",
    "0.5일 때는 짧고 의미없는 문장을 뱉는 경우가 많았습니다.\n",
    "[SRC]  집에 있는다는 소리야.\n",
    "[GEN]:  ['<start>', '세요', '.<end>']\n",
    "[TGT]  ['좋', '아', '하', '면', '그럴', '수', '있', '어요', '.']\n",
    "[SRC]  집에 있는다는 소리야.\n",
    "[GEN]:  ['<start>', '지켜', '주', '세요', '.<end>']\n",
    "[TGT]  ['좋', '아', '하', '면', '그럴', '수', '있', '어요', '.']\n",
    "- augmentation 할 때 의미가 비슷한 것으로 단어를 대체하다보니 예측한 답변도 단어를 대체해서 만들어진 문장이 많다. \n",
    "- 그렇다보니 문법적으로 어색한 문장이 많은 것 같다. \n",
    "- 데이터가 3만개 정도로 적다 보니 정성적으로 보나 정량적으로 보나 아쉬운 결과를 얻은 것 같다. \n",
    "- augmentation 하는 방식을 다양하게 시도해보면 좀더 학습이 잘 되지 앟을까 생각이 된다. \n",
    "- epoch수는 10을 넘지 않는것이 과적합되지 않는것 같다. "
   ]
  },
  {
   "cell_type": "markdown",
   "id": "c91e6dd8",
   "metadata": {},
   "source": [
    "# 회고\n",
    "- 과대적합을 막기위해 d_ff =[2048, 1024], dropout = [0.3, 0.5]로 실험을 하였으나 처음 만든 baseline 모델이 더 좋은 결과가 나왔다. (정성적 평가로 예문 출력을 확인했을 때)\n",
    "- dropout 0.5인 경우 짧고 의미 없는 문장을 생성하였다.  \n",
    "\n",
    "    \" 세요 . '\n",
    "    \" 에요 . '\n"
   ]
  },
  {
   "cell_type": "code",
   "execution_count": null,
   "id": "a67674fb",
   "metadata": {},
   "outputs": [],
   "source": []
  }
 ],
 "metadata": {
  "kernelspec": {
   "display_name": "Python 3 (ipykernel)",
   "language": "python",
   "name": "python3"
  },
  "language_info": {
   "codemirror_mode": {
    "name": "ipython",
    "version": 3
   },
   "file_extension": ".py",
   "mimetype": "text/x-python",
   "name": "python",
   "nbconvert_exporter": "python",
   "pygments_lexer": "ipython3",
   "version": "3.9.7"
  }
 },
 "nbformat": 4,
 "nbformat_minor": 5
}
